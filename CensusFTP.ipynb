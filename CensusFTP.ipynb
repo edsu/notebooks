{
 "cells": [
  {
   "cell_type": "markdown",
   "id": "0b806c94-0751-47e2-8a8a-6b5ee486673c",
   "metadata": {},
   "source": [
    "# ftp.census.gov Coverage\n",
    "\n",
    "This notebook uses a listing of files from `ftp2.census.gov` to determine how many of them were archived by the Wayback Machine at their web \"frontend\" `www2.census.gov`. The list was created by Andrew Berger using lftp to copy files from ftp2.census.gov.\n",
    "\n",
    "## Get a DataFrame\n",
    "\n",
    "Create a DataFrame from the ISO-8859-1 encoded list of files."
   ]
  },
  {
   "cell_type": "code",
   "execution_count": 24,
   "id": "5d7286a9-3a4e-44f1-a99f-f597a4bbbbd7",
   "metadata": {},
   "outputs": [
    {
     "data": {
      "text/html": [
       "<div>\n",
       "<style scoped>\n",
       "    .dataframe tbody tr th:only-of-type {\n",
       "        vertical-align: middle;\n",
       "    }\n",
       "\n",
       "    .dataframe tbody tr th {\n",
       "        vertical-align: top;\n",
       "    }\n",
       "\n",
       "    .dataframe thead th {\n",
       "        text-align: right;\n",
       "    }\n",
       "</style>\n",
       "<table border=\"1\" class=\"dataframe\">\n",
       "  <thead>\n",
       "    <tr style=\"text-align: right;\">\n",
       "      <th></th>\n",
       "      <th>ftp_url</th>\n",
       "    </tr>\n",
       "  </thead>\n",
       "  <tbody>\n",
       "    <tr>\n",
       "      <th>0</th>\n",
       "      <td>ftp2.census.gov/econ/esp/2012/esp2012_table7.xlsx</td>\n",
       "    </tr>\n",
       "    <tr>\n",
       "      <th>1</th>\n",
       "      <td>ftp2.census.gov/econ/esp/2012/Table 4.xlsx</td>\n",
       "    </tr>\n",
       "    <tr>\n",
       "      <th>2</th>\n",
       "      <td>ftp2.census.gov/econ/esp/2012/esp2012_table6.xlsx</td>\n",
       "    </tr>\n",
       "    <tr>\n",
       "      <th>3</th>\n",
       "      <td>ftp2.census.gov/econ/esp/2012/Table 6.xlsx</td>\n",
       "    </tr>\n",
       "    <tr>\n",
       "      <th>4</th>\n",
       "      <td>ftp2.census.gov/econ/esp/2012/esp2012_table8.xlsx</td>\n",
       "    </tr>\n",
       "    <tr>\n",
       "      <th>...</th>\n",
       "      <td>...</td>\n",
       "    </tr>\n",
       "    <tr>\n",
       "      <th>4496866</th>\n",
       "      <td>ftp2.census.gov/acs2011_1yr/summaryfile/Sequen...</td>\n",
       "    </tr>\n",
       "    <tr>\n",
       "      <th>4496867</th>\n",
       "      <td>ftp2.census.gov/acs2011_1yr/summaryfile/ACS201...</td>\n",
       "    </tr>\n",
       "    <tr>\n",
       "      <th>4496868</th>\n",
       "      <td>ftp2.census.gov/acs2011_1yr/summaryfile/ACS_20...</td>\n",
       "    </tr>\n",
       "    <tr>\n",
       "      <th>4496869</th>\n",
       "      <td>ftp2.census.gov/acs2011_1yr/summaryfile/Sequen...</td>\n",
       "    </tr>\n",
       "    <tr>\n",
       "      <th>4496870</th>\n",
       "      <td>ftp2.census.gov/acs2011_1yr/CD113/EasyStats_11...</td>\n",
       "    </tr>\n",
       "  </tbody>\n",
       "</table>\n",
       "<p>4496871 rows × 1 columns</p>\n",
       "</div>"
      ],
      "text/plain": [
       "                                                   ftp_url\n",
       "0        ftp2.census.gov/econ/esp/2012/esp2012_table7.xlsx\n",
       "1               ftp2.census.gov/econ/esp/2012/Table 4.xlsx\n",
       "2        ftp2.census.gov/econ/esp/2012/esp2012_table6.xlsx\n",
       "3               ftp2.census.gov/econ/esp/2012/Table 6.xlsx\n",
       "4        ftp2.census.gov/econ/esp/2012/esp2012_table8.xlsx\n",
       "...                                                    ...\n",
       "4496866  ftp2.census.gov/acs2011_1yr/summaryfile/Sequen...\n",
       "4496867  ftp2.census.gov/acs2011_1yr/summaryfile/ACS201...\n",
       "4496868  ftp2.census.gov/acs2011_1yr/summaryfile/ACS_20...\n",
       "4496869  ftp2.census.gov/acs2011_1yr/summaryfile/Sequen...\n",
       "4496870  ftp2.census.gov/acs2011_1yr/CD113/EasyStats_11...\n",
       "\n",
       "[4496871 rows x 1 columns]"
      ]
     },
     "execution_count": 24,
     "metadata": {},
     "output_type": "execute_result"
    }
   ],
   "source": [
    "import gzip\n",
    "import pandas\n",
    "\n",
    "urls = [url.strip().decode(\"iso-8859-1\") for url in gzip.open('data/all-downloaded-census-2025-03-29.txt.gz')]\n",
    "df = pandas.DataFrame({\"ftp_url\": urls})\n",
    "df"
   ]
  },
  {
   "cell_type": "markdown",
   "id": "e8398919-6e25-4f10-b19b-a30989a169c3",
   "metadata": {},
   "source": [
    "Use the FTP URL to create a Web URL:"
   ]
  },
  {
   "cell_type": "code",
   "execution_count": 36,
   "id": "8b049046-be78-47f4-9d86-bbd819ef10ac",
   "metadata": {},
   "outputs": [
    {
     "data": {
      "text/html": [
       "<div>\n",
       "<style scoped>\n",
       "    .dataframe tbody tr th:only-of-type {\n",
       "        vertical-align: middle;\n",
       "    }\n",
       "\n",
       "    .dataframe tbody tr th {\n",
       "        vertical-align: top;\n",
       "    }\n",
       "\n",
       "    .dataframe thead th {\n",
       "        text-align: right;\n",
       "    }\n",
       "</style>\n",
       "<table border=\"1\" class=\"dataframe\">\n",
       "  <thead>\n",
       "    <tr style=\"text-align: right;\">\n",
       "      <th></th>\n",
       "      <th>ftp_url</th>\n",
       "      <th>web_url</th>\n",
       "    </tr>\n",
       "  </thead>\n",
       "  <tbody>\n",
       "    <tr>\n",
       "      <th>0</th>\n",
       "      <td>ftp2.census.gov/econ/esp/2012/esp2012_table7.xlsx</td>\n",
       "      <td>https://www2.census.gov/econ/esp/2012/esp2012_...</td>\n",
       "    </tr>\n",
       "    <tr>\n",
       "      <th>1</th>\n",
       "      <td>ftp2.census.gov/econ/esp/2012/Table 4.xlsx</td>\n",
       "      <td>https://www2.census.gov/econ/esp/2012/Table 4....</td>\n",
       "    </tr>\n",
       "    <tr>\n",
       "      <th>2</th>\n",
       "      <td>ftp2.census.gov/econ/esp/2012/esp2012_table6.xlsx</td>\n",
       "      <td>https://www2.census.gov/econ/esp/2012/esp2012_...</td>\n",
       "    </tr>\n",
       "    <tr>\n",
       "      <th>3</th>\n",
       "      <td>ftp2.census.gov/econ/esp/2012/Table 6.xlsx</td>\n",
       "      <td>https://www2.census.gov/econ/esp/2012/Table 6....</td>\n",
       "    </tr>\n",
       "    <tr>\n",
       "      <th>4</th>\n",
       "      <td>ftp2.census.gov/econ/esp/2012/esp2012_table8.xlsx</td>\n",
       "      <td>https://www2.census.gov/econ/esp/2012/esp2012_...</td>\n",
       "    </tr>\n",
       "    <tr>\n",
       "      <th>...</th>\n",
       "      <td>...</td>\n",
       "      <td>...</td>\n",
       "    </tr>\n",
       "    <tr>\n",
       "      <th>4496866</th>\n",
       "      <td>ftp2.census.gov/acs2011_1yr/summaryfile/Sequen...</td>\n",
       "      <td>https://www2.census.gov/acs2011_1yr/summaryfil...</td>\n",
       "    </tr>\n",
       "    <tr>\n",
       "      <th>4496867</th>\n",
       "      <td>ftp2.census.gov/acs2011_1yr/summaryfile/ACS201...</td>\n",
       "      <td>https://www2.census.gov/acs2011_1yr/summaryfil...</td>\n",
       "    </tr>\n",
       "    <tr>\n",
       "      <th>4496868</th>\n",
       "      <td>ftp2.census.gov/acs2011_1yr/summaryfile/ACS_20...</td>\n",
       "      <td>https://www2.census.gov/acs2011_1yr/summaryfil...</td>\n",
       "    </tr>\n",
       "    <tr>\n",
       "      <th>4496869</th>\n",
       "      <td>ftp2.census.gov/acs2011_1yr/summaryfile/Sequen...</td>\n",
       "      <td>https://www2.census.gov/acs2011_1yr/summaryfil...</td>\n",
       "    </tr>\n",
       "    <tr>\n",
       "      <th>4496870</th>\n",
       "      <td>ftp2.census.gov/acs2011_1yr/CD113/EasyStats_11...</td>\n",
       "      <td>https://www2.census.gov/acs2011_1yr/CD113/Easy...</td>\n",
       "    </tr>\n",
       "  </tbody>\n",
       "</table>\n",
       "<p>4496871 rows × 2 columns</p>\n",
       "</div>"
      ],
      "text/plain": [
       "                                                   ftp_url  \\\n",
       "0        ftp2.census.gov/econ/esp/2012/esp2012_table7.xlsx   \n",
       "1               ftp2.census.gov/econ/esp/2012/Table 4.xlsx   \n",
       "2        ftp2.census.gov/econ/esp/2012/esp2012_table6.xlsx   \n",
       "3               ftp2.census.gov/econ/esp/2012/Table 6.xlsx   \n",
       "4        ftp2.census.gov/econ/esp/2012/esp2012_table8.xlsx   \n",
       "...                                                    ...   \n",
       "4496866  ftp2.census.gov/acs2011_1yr/summaryfile/Sequen...   \n",
       "4496867  ftp2.census.gov/acs2011_1yr/summaryfile/ACS201...   \n",
       "4496868  ftp2.census.gov/acs2011_1yr/summaryfile/ACS_20...   \n",
       "4496869  ftp2.census.gov/acs2011_1yr/summaryfile/Sequen...   \n",
       "4496870  ftp2.census.gov/acs2011_1yr/CD113/EasyStats_11...   \n",
       "\n",
       "                                                   web_url  \n",
       "0        https://www2.census.gov/econ/esp/2012/esp2012_...  \n",
       "1        https://www2.census.gov/econ/esp/2012/Table 4....  \n",
       "2        https://www2.census.gov/econ/esp/2012/esp2012_...  \n",
       "3        https://www2.census.gov/econ/esp/2012/Table 6....  \n",
       "4        https://www2.census.gov/econ/esp/2012/esp2012_...  \n",
       "...                                                    ...  \n",
       "4496866  https://www2.census.gov/acs2011_1yr/summaryfil...  \n",
       "4496867  https://www2.census.gov/acs2011_1yr/summaryfil...  \n",
       "4496868  https://www2.census.gov/acs2011_1yr/summaryfil...  \n",
       "4496869  https://www2.census.gov/acs2011_1yr/summaryfil...  \n",
       "4496870  https://www2.census.gov/acs2011_1yr/CD113/Easy...  \n",
       "\n",
       "[4496871 rows x 2 columns]"
      ]
     },
     "execution_count": 36,
     "metadata": {},
     "output_type": "execute_result"
    }
   ],
   "source": [
    "import re\n",
    "\n",
    "df['web_url'] = df.ftp_url.apply(lambda s: re.sub('^ftp2', 'https://www2', s))\n",
    "df"
   ]
  },
  {
   "cell_type": "markdown",
   "id": "f3e1c1bb-5a40-46b4-88f8-288a2fe09c36",
   "metadata": {},
   "source": [
    "## Lookup in Wayback\n",
    "\n",
    "To look up a URL in the Wayback Machine we can use the [wayback](https://wayback.readthedocs.io/en/stable/index.html) module which talks to the Wayback Machine's [CDX API](https://archive.org/developers/wayback-cdx-server.html)."
   ]
  },
  {
   "cell_type": "code",
   "execution_count": 37,
   "id": "75b99aca-8388-4863-8e30-690dc9737299",
   "metadata": {},
   "outputs": [],
   "source": [
    "import wayback\n",
    "\n",
    "wb = wayback.WaybackClient()"
   ]
  },
  {
   "cell_type": "code",
   "execution_count": 38,
   "id": "b4789b9c-a24b-40a9-bf28-590cc75f4f62",
   "metadata": {},
   "outputs": [
    {
     "data": {
      "text/plain": [
       "'https://www2.census.gov/econ/esp/2012/esp2012_table7.xlsx'"
      ]
     },
     "execution_count": 38,
     "metadata": {},
     "output_type": "execute_result"
    }
   ],
   "source": [
    "df.web_url[0]"
   ]
  },
  {
   "cell_type": "code",
   "execution_count": 40,
   "id": "c0281791-74dc-4769-97ae-4202142f1c9f",
   "metadata": {},
   "outputs": [
    {
     "name": "stdout",
     "output_type": "stream",
     "text": [
      "CdxRecord(key='gov,census)/econ/esp/2012/esp2012_table7.xlsx', timestamp=datetime.datetime(2017, 7, 22, 6, 4, 38, tzinfo=datetime.timezone.utc), url='http://www2.census.gov/econ/esp/2012/esp2012_table7.xlsx', mime_type='unk', status_code=302, digest='3I42H3S6NNFQ2MSVX7XZKYAYSCX5QBYJ', length=418, raw_url='https://web.archive.org/web/20170722060438id_/http://www2.census.gov/econ/esp/2012/esp2012_table7.xlsx', view_url='https://web.archive.org/web/20170722060438/http://www2.census.gov/econ/esp/2012/esp2012_table7.xlsx')\n",
      "CdxRecord(key='gov,census)/econ/esp/2012/esp2012_table7.xlsx', timestamp=datetime.datetime(2017, 8, 17, 11, 48, 24, tzinfo=datetime.timezone.utc), url='https://www2.census.gov/econ/esp/2012/esp2012_table7.xlsx', mime_type='application/vnd.openxmlformats-officedocument.spreadsheetml.sheet', status_code=200, digest='6Y6373IAFSDMMIOTXDXHGACICLMA2Y4J', length=30557, raw_url='https://web.archive.org/web/20170817114824id_/https://www2.census.gov/econ/esp/2012/esp2012_table7.xlsx', view_url='https://web.archive.org/web/20170817114824/https://www2.census.gov/econ/esp/2012/esp2012_table7.xlsx')\n",
      "CdxRecord(key='gov,census)/econ/esp/2012/esp2012_table7.xlsx', timestamp=datetime.datetime(2021, 3, 26, 18, 7, 8, tzinfo=datetime.timezone.utc), url='https://www2.census.gov/econ/esp/2012/esp2012_table7.xlsx', mime_type='application/vnd.openxmlformats-officedocument.spreadsheetml.sheet', status_code=200, digest='6Y6373IAFSDMMIOTXDXHGACICLMA2Y4J', length=30600, raw_url='https://web.archive.org/web/20210326180708id_/https://www2.census.gov/econ/esp/2012/esp2012_table7.xlsx', view_url='https://web.archive.org/web/20210326180708/https://www2.census.gov/econ/esp/2012/esp2012_table7.xlsx')\n",
      "CdxRecord(key='gov,census)/econ/esp/2012/esp2012_table7.xlsx', timestamp=datetime.datetime(2021, 4, 19, 14, 59, 55, tzinfo=datetime.timezone.utc), url='http://www2.census.gov/econ/esp/2012/esp2012_table7.xlsx', mime_type='unk', status_code=302, digest='3I42H3S6NNFQ2MSVX7XZKYAYSCX5QBYJ', length=381, raw_url='https://web.archive.org/web/20210419145955id_/http://www2.census.gov/econ/esp/2012/esp2012_table7.xlsx', view_url='https://web.archive.org/web/20210419145955/http://www2.census.gov/econ/esp/2012/esp2012_table7.xlsx')\n",
      "CdxRecord(key='gov,census)/econ/esp/2012/esp2012_table7.xlsx', timestamp=datetime.datetime(2024, 12, 9, 16, 7, 59, tzinfo=datetime.timezone.utc), url='https://www2.census.gov/econ/esp/2012/esp2012_table7.xlsx', mime_type='text/html', status_code=403, digest='36ONOLPKTONCQKHID5PWUSQ2IIVINJRE', length=618, raw_url='https://web.archive.org/web/20241209160759id_/https://www2.census.gov/econ/esp/2012/esp2012_table7.xlsx', view_url='https://web.archive.org/web/20241209160759/https://www2.census.gov/econ/esp/2012/esp2012_table7.xlsx')\n",
      "CdxRecord(key='gov,census)/econ/esp/2012/esp2012_table7.xlsx', timestamp=datetime.datetime(2024, 12, 15, 20, 25, 49, tzinfo=datetime.timezone.utc), url='https://www2.census.gov/econ/esp/2012/esp2012_table7.xlsx', mime_type='text/html', status_code=403, digest='36UMH2NGRX3FVVNJ66KHBEMLKYGNHQD3', length=619, raw_url='https://web.archive.org/web/20241215202549id_/https://www2.census.gov/econ/esp/2012/esp2012_table7.xlsx', view_url='https://web.archive.org/web/20241215202549/https://www2.census.gov/econ/esp/2012/esp2012_table7.xlsx')\n",
      "CdxRecord(key='gov,census)/econ/esp/2012/esp2012_table7.xlsx', timestamp=datetime.datetime(2025, 3, 24, 6, 42, 7, tzinfo=datetime.timezone.utc), url='https://www2.census.gov/econ/esp/2012/esp2012_table7.xlsx', mime_type='application/vnd.openxmlformats-officedocument.spreadsheetml.sheet', status_code=200, digest='6Y6373IAFSDMMIOTXDXHGACICLMA2Y4J', length=30808, raw_url='https://web.archive.org/web/20250324064207id_/https://www2.census.gov/econ/esp/2012/esp2012_table7.xlsx', view_url='https://web.archive.org/web/20250324064207/https://www2.census.gov/econ/esp/2012/esp2012_table7.xlsx')\n"
     ]
    }
   ],
   "source": [
    "for result in wb.search('https://www2.census.gov/econ/esp/2012/esp2012_table7.xlsx'):\n",
    "    print(result)"
   ]
  },
  {
   "cell_type": "markdown",
   "id": "a65afd13-3d62-4280-b442-6b80da6b662a",
   "metadata": {},
   "source": [
    "This shows that there were seven snapshots taken of this URL. However, it's important to look at the `status_code` for each snapshot. The first one is a `302` redirect to a page that was not archived.\n",
    "\n",
    "* https://web.archive.org/web/20170722060438id_/http://www2.census.gov/econ/esp/2012/esp2012_table7.xlsx\n",
    "\n",
    "The 5th and 6th snapshots are a `403` access denied error.\n",
    "\n",
    "* https://web.archive.org/web/20241215202549id_/https://www2.census.gov/econ/esp/2012/esp2012_table7.xlsx\n",
    "\n",
    "So we need a function that will return the timestamps for all 200 OK responses, or an empty list in the case of the URL not being archived in the Wayback Machine."
   ]
  },
  {
   "cell_type": "code",
   "execution_count": 65,
   "id": "71cbe1f3-1d0c-4aa5-a487-00b9c15ae24a",
   "metadata": {},
   "outputs": [],
   "source": [
    "def snapshots(url):\n",
    "    return [result.timestamp for result in wb.search(url) if result.status_code == 200]"
   ]
  },
  {
   "cell_type": "code",
   "execution_count": 66,
   "id": "3a777074-9631-4495-9913-3845e3aae155",
   "metadata": {},
   "outputs": [
    {
     "data": {
      "text/plain": [
       "[datetime.datetime(2017, 8, 17, 11, 48, 24, tzinfo=datetime.timezone.utc),\n",
       " datetime.datetime(2021, 3, 26, 18, 7, 8, tzinfo=datetime.timezone.utc),\n",
       " datetime.datetime(2025, 3, 24, 6, 42, 7, tzinfo=datetime.timezone.utc)]"
      ]
     },
     "execution_count": 66,
     "metadata": {},
     "output_type": "execute_result"
    }
   ],
   "source": [
    "snapshots('https://www2.census.gov/econ/esp/2012/esp2012_table7.xlsx')"
   ]
  },
  {
   "cell_type": "code",
   "execution_count": 67,
   "id": "e05667c9-db1c-42b6-adb9-f58d026a1e9d",
   "metadata": {},
   "outputs": [
    {
     "data": {
      "text/plain": [
       "[]"
      ]
     },
     "execution_count": 67,
     "metadata": {},
     "output_type": "execute_result"
    }
   ],
   "source": [
    "snapshots('https://www2.census.gov/econ/esp/2012/esp2012_table7-bogus.xlsx')"
   ]
  },
  {
   "cell_type": "markdown",
   "id": "b8a90d11-1ed9-4aaf-9d94-1f3971111ccd",
   "metadata": {},
   "source": [
    "## Sample the Data\n",
    "\n",
    "There are 4,496,871 URLs. If we checked one per second, one at a time, it would take 52 days. In this notebook we're just going to sample them to get a sense of the coverage. \n",
    "\n",
    "According to [this](https://www.calculator.net/sample-size-calculator.html?type=1&cl=95&ci=5&pp=50&ps=4496871&x=Calculate) calculator, if we want 95% confidence with 5% margin of error we can randomly sample 385 URLs. This should be good enough to get a sense of the coverage to start."
   ]
  },
  {
   "cell_type": "code",
   "execution_count": 68,
   "id": "ddfca508-2f51-419b-bff9-ff218c13cfcf",
   "metadata": {},
   "outputs": [
    {
     "data": {
      "text/html": [
       "<div>\n",
       "<style scoped>\n",
       "    .dataframe tbody tr th:only-of-type {\n",
       "        vertical-align: middle;\n",
       "    }\n",
       "\n",
       "    .dataframe tbody tr th {\n",
       "        vertical-align: top;\n",
       "    }\n",
       "\n",
       "    .dataframe thead th {\n",
       "        text-align: right;\n",
       "    }\n",
       "</style>\n",
       "<table border=\"1\" class=\"dataframe\">\n",
       "  <thead>\n",
       "    <tr style=\"text-align: right;\">\n",
       "      <th></th>\n",
       "      <th>ftp_url</th>\n",
       "      <th>web_url</th>\n",
       "    </tr>\n",
       "  </thead>\n",
       "  <tbody>\n",
       "    <tr>\n",
       "      <th>3483319</th>\n",
       "      <td>ftp2.census.gov/programs-surveys/acs/summary_f...</td>\n",
       "      <td>https://www2.census.gov/programs-surveys/acs/s...</td>\n",
       "    </tr>\n",
       "    <tr>\n",
       "      <th>2086146</th>\n",
       "      <td>ftp2.census.gov/geo/maps/blk2000/st48_Texas/Co...</td>\n",
       "      <td>https://www2.census.gov/geo/maps/blk2000/st48_...</td>\n",
       "    </tr>\n",
       "    <tr>\n",
       "      <th>4325700</th>\n",
       "      <td>ftp2.census.gov/acs2010_3yr/summaryfile/2008-2...</td>\n",
       "      <td>https://www2.census.gov/acs2010_3yr/summaryfil...</td>\n",
       "    </tr>\n",
       "    <tr>\n",
       "      <th>1918233</th>\n",
       "      <td>ftp2.census.gov/geo/maps/blk2000/st01_Alabama/...</td>\n",
       "      <td>https://www2.census.gov/geo/maps/blk2000/st01_...</td>\n",
       "    </tr>\n",
       "    <tr>\n",
       "      <th>447922</th>\n",
       "      <td>ftp2.census.gov/geo/tiger/TIGER2020PL/LAYER/FA...</td>\n",
       "      <td>https://www2.census.gov/geo/tiger/TIGER2020PL/...</td>\n",
       "    </tr>\n",
       "    <tr>\n",
       "      <th>...</th>\n",
       "      <td>...</td>\n",
       "      <td>...</td>\n",
       "    </tr>\n",
       "    <tr>\n",
       "      <th>2010740</th>\n",
       "      <td>ftp2.census.gov/geo/maps/blk2000/st29_Missouri...</td>\n",
       "      <td>https://www2.census.gov/geo/maps/blk2000/st29_...</td>\n",
       "    </tr>\n",
       "    <tr>\n",
       "      <th>4408869</th>\n",
       "      <td>ftp2.census.gov/EEO_2014_2018/EEO_Tables_By_Al...</td>\n",
       "      <td>https://www2.census.gov/EEO_2014_2018/EEO_Tabl...</td>\n",
       "    </tr>\n",
       "    <tr>\n",
       "      <th>1763263</th>\n",
       "      <td>ftp2.census.gov/geo/maps/dc10map/GUBlock/st48_...</td>\n",
       "      <td>https://www2.census.gov/geo/maps/dc10map/GUBlo...</td>\n",
       "    </tr>\n",
       "    <tr>\n",
       "      <th>4389598</th>\n",
       "      <td>ftp2.census.gov/EEO_2014_2018/EEO_Tables_By_Al...</td>\n",
       "      <td>https://www2.census.gov/EEO_2014_2018/EEO_Tabl...</td>\n",
       "    </tr>\n",
       "    <tr>\n",
       "      <th>3691887</th>\n",
       "      <td>ftp2.census.gov/programs-surveys/acs/summary_f...</td>\n",
       "      <td>https://www2.census.gov/programs-surveys/acs/s...</td>\n",
       "    </tr>\n",
       "  </tbody>\n",
       "</table>\n",
       "<p>385 rows × 2 columns</p>\n",
       "</div>"
      ],
      "text/plain": [
       "                                                   ftp_url  \\\n",
       "3483319  ftp2.census.gov/programs-surveys/acs/summary_f...   \n",
       "2086146  ftp2.census.gov/geo/maps/blk2000/st48_Texas/Co...   \n",
       "4325700  ftp2.census.gov/acs2010_3yr/summaryfile/2008-2...   \n",
       "1918233  ftp2.census.gov/geo/maps/blk2000/st01_Alabama/...   \n",
       "447922   ftp2.census.gov/geo/tiger/TIGER2020PL/LAYER/FA...   \n",
       "...                                                    ...   \n",
       "2010740  ftp2.census.gov/geo/maps/blk2000/st29_Missouri...   \n",
       "4408869  ftp2.census.gov/EEO_2014_2018/EEO_Tables_By_Al...   \n",
       "1763263  ftp2.census.gov/geo/maps/dc10map/GUBlock/st48_...   \n",
       "4389598  ftp2.census.gov/EEO_2014_2018/EEO_Tables_By_Al...   \n",
       "3691887  ftp2.census.gov/programs-surveys/acs/summary_f...   \n",
       "\n",
       "                                                   web_url  \n",
       "3483319  https://www2.census.gov/programs-surveys/acs/s...  \n",
       "2086146  https://www2.census.gov/geo/maps/blk2000/st48_...  \n",
       "4325700  https://www2.census.gov/acs2010_3yr/summaryfil...  \n",
       "1918233  https://www2.census.gov/geo/maps/blk2000/st01_...  \n",
       "447922   https://www2.census.gov/geo/tiger/TIGER2020PL/...  \n",
       "...                                                    ...  \n",
       "2010740  https://www2.census.gov/geo/maps/blk2000/st29_...  \n",
       "4408869  https://www2.census.gov/EEO_2014_2018/EEO_Tabl...  \n",
       "1763263  https://www2.census.gov/geo/maps/dc10map/GUBlo...  \n",
       "4389598  https://www2.census.gov/EEO_2014_2018/EEO_Tabl...  \n",
       "3691887  https://www2.census.gov/programs-surveys/acs/s...  \n",
       "\n",
       "[385 rows x 2 columns]"
      ]
     },
     "execution_count": 68,
     "metadata": {},
     "output_type": "execute_result"
    }
   ],
   "source": [
    "sample = df.sample(385)\n",
    "sample"
   ]
  },
  {
   "cell_type": "markdown",
   "id": "fb00cabf-4f05-4d28-8e7d-698758f7891a",
   "metadata": {},
   "source": [
    "And now we can apply our function to it to create a new column holding the archive timestamps if available:"
   ]
  },
  {
   "cell_type": "code",
   "execution_count": null,
   "id": "d7d8e366-79a3-4ef7-8ed4-54ae73b65b97",
   "metadata": {},
   "outputs": [],
   "source": [
    "df['archived'] = df.web_url.apply(snapshots)"
   ]
  },
  {
   "cell_type": "code",
   "execution_count": null,
   "id": "4dc39282-6475-4bdd-b319-e3ed5e3a53d0",
   "metadata": {},
   "outputs": [],
   "source": []
  }
 ],
 "metadata": {
  "kernelspec": {
   "display_name": "Python 3 (ipykernel)",
   "language": "python",
   "name": "python3"
  },
  "language_info": {
   "codemirror_mode": {
    "name": "ipython",
    "version": 3
   },
   "file_extension": ".py",
   "mimetype": "text/x-python",
   "name": "python",
   "nbconvert_exporter": "python",
   "pygments_lexer": "ipython3",
   "version": "3.12.0"
  }
 },
 "nbformat": 4,
 "nbformat_minor": 5
}
