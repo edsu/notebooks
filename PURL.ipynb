{
 "cells": [
  {
   "cell_type": "markdown",
   "metadata": {},
   "source": [
    "# PURLs\n",
    "\n",
    "The Internet Archive [took over the maintenance](https://blog.archive.org/2016/09/27/persistent-url-service-purl-org-now-run-by-the-internet-archive/) of the purl.org service from OCLC 5 years ago. I recently learned that the purl.org service is some caching + a Python program that fetches data store in the Internet Archive's storage. It turns out each purl.org namespace like *https://purl.org/dc/* is an item in the [purl_collection](https://archive.org/details/purl_collection). Each item has a JSON document that containins the URL patterns used by the namespace.\n",
    "\n",
    "For example here's the one for DublinCore:\n",
    "\n"
   ]
  },
  {
   "cell_type": "code",
   "execution_count": 3,
   "metadata": {},
   "outputs": [
    {
     "name": "stdout",
     "output_type": "stream",
     "text": [
      "{\n",
      "  \"name\": \"/dc\",\n",
      "  \"created\": \"2009-07-22 17:44:37\",\n",
      "  \"maintainer\": {\n",
      "    \"fullname\": \"Dublin Core Metadata Initiative\",\n",
      "    \"userid\": \"purl@dublincore.net\",\n",
      "    \"email\": \"purl@dublincore.net\",\n",
      "    \"affiliation\": \"DCMI\"\n",
      "  },\n",
      "  \"purls\": [\n",
      "    {\n",
      "      \"type\": \"302\",\n",
      "      \"target\": \"http://purl.org/DC/\",\n",
      "      \"name\": \"/DC\",\n",
      "      \"created\": \"2009-07-22 19:36:26\",\n",
      "      \"modified\": \"2012-11-16 14:25:18\"\n",
      "    },\n",
      "    {\n",
      "      \"type\": \"partial\",\n",
      "      \"target\": \"http://dublincore.org/\",\n",
      "      \"name\": \"/DC/\",\n",
      "      \"created\": \"2009-07-23 01:48:18\",\n",
      "      \"modified\": \"2012-11-16 14:25:37\"\n",
      "    },\n",
      "    {\n",
      "      \"type\": \"302\",\n",
      "      \"target\": \"http://dublincore.org/DCMI.rdf\",\n",
      "      \"name\": \"/dc/aboutdcmi\",\n",
      "      \"created\": \"2010-02-28 08:51:06\",\n",
      "      \"modified\": \"2010-02-28 08:51:06\"\n",
      "    },\n",
      "    {\n",
      "      \"type\": \"partial\",\n",
      "      \"target\": \"/dc/test/terms/\",\n",
      "      \"name\": \"/dc/test/terms\",\n",
      "      \"created\": \"2012-05-28 16:59:52\",\n",
      "      \"modified\": \"2012-06-09 12:26:35\"\n",
      "    },\n",
      "    {\n",
      "      \"type\": \"partial\",\n",
      "      \"target\": \"http://dublincore.org/2012/06/12/dcelements#\",\n",
      "      \"name\": \"/dc/test/elements\",\n",
      "      \"created\": \"2012-05-28 17:00:33\",\n",
      "      \"modified\": \"2012-06-09 09:06:24\"\n",
      "    },\n",
      "    {\n",
      "      \"type\": \"302\",\n",
      "      \"target\": \"/dc/test/dcam/\",\n",
      "      \"name\": \"/dc/test/dcam\",\n",
      "      \"created\": \"2012-05-28 17:00:48\",\n",
      "      \"modified\": \"2012-06-09 11:12:10\"\n",
      "    },\n",
      "    {\n",
      "      \"type\": \"partial\",\n",
      "      \"target\": \"http://dublincore.org/2012/06/12/dctype#\",\n",
      "      \"name\": \"/dc/test/type\",\n",
      "      \"created\": \"2012-05-28 17:01:32\",\n",
      "      \"modified\": \"2012-06-09 09:06:50\"\n",
      "    },\n",
      "    {\n",
      "      \"type\": \"partial\",\n",
      "      \"target\": \"http://dublincore.org/2012/06/12/dcam#\",\n",
      "      \"name\": \"/dc/test/dcam/\",\n",
      "      \"created\": \"2012-05-28 20:52:19\",\n",
      "      \"modified\": \"2012-06-09 09:07:22\"\n",
      "    },\n",
      "    {\n",
      "      \"type\": \"partial\",\n",
      "      \"target\": \"http://dublincore.org/2012/06/14/dcterms#\",\n",
      "      \"name\": \"/dc/test/terms/\",\n",
      "      \"created\": \"2012-05-28 20:52:45\",\n",
      "      \"modified\": \"2012-06-12 08:59:36\"\n",
      "    },\n",
      "    {\n",
      "      \"type\": \"partial\",\n",
      "      \"target\": \"http://dublincore.org/2012/06/14/dcelements#\",\n",
      "      \"name\": \"/dc/test/elements/\",\n",
      "      \"created\": \"2012-05-28 20:53:36\",\n",
      "      \"modified\": \"2012-06-12 09:00:28\"\n",
      "    },\n",
      "    {\n",
      "      \"type\": \"partial\",\n",
      "      \"target\": \"http://dublincore.org/2012/06/14/dctype#\",\n",
      "      \"name\": \"/dc/test/type/\",\n",
      "      \"created\": \"2012-05-28 20:54:07\",\n",
      "      \"modified\": \"2012-06-12 09:07:03\"\n",
      "    },\n",
      "    {\n",
      "      \"type\": \"partial\",\n",
      "      \"target\": \"http://dublincore.org/2012/06/12/dctype#\",\n",
      "      \"name\": \"/dc/test/dctype/\",\n",
      "      \"created\": \"2012-06-09 10:35:20\",\n",
      "      \"modified\": \"2012-06-09 10:35:20\"\n",
      "    },\n",
      "    {\n",
      "      \"type\": \"302\",\n",
      "      \"target\": \"/dc/test/dctype/\",\n",
      "      \"name\": \"/dc/test/dctype\",\n",
      "      \"created\": \"2012-06-09 10:35:49\",\n",
      "      \"modified\": \"2012-06-09 11:12:42\"\n",
      "    },\n",
      "    {\n",
      "      \"type\": \"302\",\n",
      "      \"target\": \"/dc/test/dcelements/\",\n",
      "      \"name\": \"/dc/test/dcelements\",\n",
      "      \"created\": \"2012-06-09 10:36:17\",\n",
      "      \"modified\": \"2012-06-09 11:12:26\"\n",
      "    },\n",
      "    {\n",
      "      \"type\": \"partial\",\n",
      "      \"target\": \"http://dublincore.org/2012/06/12/dcelements#\",\n",
      "      \"name\": \"/dc/test/dcelements/\",\n",
      "      \"created\": \"2012-06-09 10:36:32\",\n",
      "      \"modified\": \"2012-06-09 10:36:32\"\n",
      "    },\n",
      "    {\n",
      "      \"type\": \"302\",\n",
      "      \"target\": \"/dc/test/dcterms/\",\n",
      "      \"name\": \"/dc/test/dcterms\",\n",
      "      \"created\": \"2012-06-09 10:37:02\",\n",
      "      \"modified\": \"2012-06-09 11:15:01\"\n",
      "    },\n",
      "    {\n",
      "      \"type\": \"partial\",\n",
      "      \"target\": \"http://dublincore.org/2012/06/12/dcterms#\",\n",
      "      \"name\": \"/dc/test/dcterms/\",\n",
      "      \"created\": \"2012-06-09 10:37:15\",\n",
      "      \"modified\": \"2012-06-09 10:37:15\"\n",
      "    }\n",
      "  ]\n",
      "}\n"
     ]
    }
   ],
   "source": [
    "import json\n",
    "import requests\n",
    "\n",
    "dc = requests.get('https://archive.org/download/purl_dc/purl_dc_purl.json').json()\n",
    "print(json.dumps(dc, indent=2))"
   ]
  },
  {
   "cell_type": "markdown",
   "metadata": {},
   "source": [
    "There is also a history of the previous versions:"
   ]
  },
  {
   "cell_type": "code",
   "execution_count": 19,
   "metadata": {},
   "outputs": [
    {
     "name": "stdout",
     "output_type": "stream",
     "text": [
      "{\n",
      "  \"history\": [\n",
      "    {\n",
      "      \"name\": \"/dc/topicmap\",\n",
      "      \"type\": \"302\",\n",
      "      \"target\": \"http://orc.dev.oclc.org:9016/iiop/TopicMap?browse=dublin_core\",\n",
      "      \"status\": 0,\n",
      "      \"modtime\": \"2009-07-22 19:11:39\",\n",
      "      \"user\": \"admin\"\n",
      "    },\n",
      "    {\n",
      "      \"name\": \"/DC\",\n",
      "      \"type\": \"302\",\n",
      "      \"target\": \"http://purl.org/DC/\",\n",
      "      \"status\": 0,\n",
      "      \"modtime\": \"2009-07-22 19:36:26\",\n",
      "      \"user\": \"admin\"\n",
      "    },\n",
      "    {\n",
      "      \"name\": \"/DC\",\n",
      "      \"type\": \"302\",\n",
      "      \"target\": \"http://purl.org/DC/\",\n",
      "      \"status\": 1,\n",
      "      \"modtime\": \"2012-11-16 14:25:18\",\n",
      "      \"user\": \"admin\"\n",
      "    },\n",
      "    {\n",
      "      \"name\": \"/DC/\",\n",
      "      \"type\": \"partial\",\n",
      "      \"target\": \"http://dublincore.org/\",\n",
      "      \"status\": 0,\n",
      "      \"modtime\": \"2009-07-23 01:48:18\",\n",
      "      \"user\": \"admin\"\n",
      "    },\n",
      "    {\n",
      "      \"name\": \"/DC/\",\n",
      "      \"type\": \"partial\",\n",
      "      \"target\": \"http://dublincore.org/\",\n",
      "      \"status\": 1,\n",
      "      \"modtime\": \"2012-11-16 14:25:37\",\n",
      "      \"user\": \"admin\"\n",
      "    },\n",
      "    {\n",
      "      \"name\": \"/dc/science\",\n",
      "      \"type\": \"302\",\n",
      "      \"target\": \"http://ils.unc.edu/spaces/sam/index.php/Main_Page\",\n",
      "      \"status\": 0,\n",
      "      \"modtime\": \"2009-07-23 04:10:30\",\n",
      "      \"user\": \"admin\"\n",
      "    },\n",
      "    {\n",
      "      \"name\": \"/dc/science\",\n",
      "      \"type\": \"302\",\n",
      "      \"target\": \"http://wiki.dublincore.org/index.php/DCMI_Science_And_Metadata\",\n",
      "      \"status\": 1,\n",
      "      \"modtime\": \"2011-09-17 12:57:30\",\n",
      "      \"user\": \"DCMI\"\n",
      "    },\n",
      "    {\n",
      "      \"name\": \"/dc/languages.htm\",\n",
      "      \"type\": \"302\",\n",
      "      \"target\": \"http://dublincore.org/groups/languages/\",\n",
      "      \"status\": 0,\n",
      "      \"modtime\": \"2009-07-23 04:26:26\",\n",
      "      \"user\": \"admin\"\n",
      "    },\n",
      "    {\n",
      "      \"name\": \"/dc/aboutdcmi\",\n",
      "      \"type\": \"302\",\n",
      "      \"target\": \"http://dublincore.org/DCMI.rdf\",\n",
      "      \"status\": 0,\n",
      "      \"modtime\": \"2010-02-28 08:51:07\",\n",
      "      \"user\": \"DCMI\"\n",
      "    },\n",
      "    {\n",
      "      \"name\": \"/dc/test/example3a\",\n",
      "      \"type\": \"303\",\n",
      "      \"target\": \"http://dublincore.org/2010/10/11/dcterms.rdf#\",\n",
      "      \"status\": 0,\n",
      "      \"modtime\": \"2012-05-16 18:43:19\",\n",
      "      \"user\": \"DCMI\"\n",
      "    },\n",
      "    {\n",
      "      \"name\": \"/dc/test/terms\",\n",
      "      \"type\": \"302\",\n",
      "      \"target\": \"http://dublincore.org:8080/2012/06/01/dcterms\",\n",
      "      \"status\": 0,\n",
      "      \"modtime\": \"2012-05-28 16:59:52\",\n",
      "      \"user\": \"DCMI\"\n",
      "    },\n",
      "    {\n",
      "      \"name\": \"/dc/test/terms\",\n",
      "      \"type\": \"partial\",\n",
      "      \"target\": \"http://dublincore.org/2012/06/12/dcterms\",\n",
      "      \"status\": 1,\n",
      "      \"modtime\": \"2012-06-08 10:40:17\",\n",
      "      \"user\": \"DCMI\"\n",
      "    },\n",
      "    {\n",
      "      \"name\": \"/dc/test/terms\",\n",
      "      \"type\": \"partial\",\n",
      "      \"target\": \"http://dublincore.org/2012/06/12/dcterms\",\n",
      "      \"status\": 1,\n",
      "      \"modtime\": \"2012-06-08 16:15:57\",\n",
      "      \"user\": \"DCMI\"\n",
      "    },\n",
      "    {\n",
      "      \"name\": \"/dc/test/terms\",\n",
      "      \"type\": \"partial\",\n",
      "      \"target\": \"http://dublincore.org/2012/06/12/dcterms#\",\n",
      "      \"status\": 1,\n",
      "      \"modtime\": \"2012-06-09 09:06:07\",\n",
      "      \"user\": \"DCMI\"\n",
      "    },\n",
      "    {\n",
      "      \"name\": \"/dc/test/terms\",\n",
      "      \"type\": \"302\",\n",
      "      \"target\": \"/dc/test/terms/\",\n",
      "      \"status\": 1,\n",
      "      \"modtime\": \"2012-06-09 11:16:50\",\n",
      "      \"user\": \"DCMI\"\n",
      "    },\n",
      "    {\n",
      "      \"name\": \"/dc/test/terms\",\n",
      "      \"type\": \"partial\",\n",
      "      \"target\": \"http://dublincore.org/2012/06/12/dcterms#\",\n",
      "      \"status\": 1,\n",
      "      \"modtime\": \"2012-06-09 11:21:53\",\n",
      "      \"user\": \"DCMI\"\n",
      "    },\n",
      "    {\n",
      "      \"name\": \"/dc/test/terms\",\n",
      "      \"type\": \"partial\",\n",
      "      \"target\": \"/dc/test/terms/\",\n",
      "      \"status\": 1,\n",
      "      \"modtime\": \"2012-06-09 12:26:35\",\n",
      "      \"user\": \"DCMI\"\n",
      "    },\n",
      "    {\n",
      "      \"name\": \"/dc/test/elements\",\n",
      "      \"type\": \"302\",\n",
      "      \"target\": \"http://dublincore.org:8080/2012/06/01/dcelements\",\n",
      "      \"status\": 0,\n",
      "      \"modtime\": \"2012-05-28 17:00:33\",\n",
      "      \"user\": \"DCMI\"\n",
      "    },\n",
      "    {\n",
      "      \"name\": \"/dc/test/elements\",\n",
      "      \"type\": \"partial\",\n",
      "      \"target\": \"http://dublincore.org/2012/06/12/dcelements\",\n",
      "      \"status\": 1,\n",
      "      \"modtime\": \"2012-06-08 16:16:13\",\n",
      "      \"user\": \"DCMI\"\n",
      "    },\n",
      "    {\n",
      "      \"name\": \"/dc/test/elements\",\n",
      "      \"type\": \"partial\",\n",
      "      \"target\": \"http://dublincore.org/2012/06/12/dcelements#\",\n",
      "      \"status\": 1,\n",
      "      \"modtime\": \"2012-06-09 09:06:24\",\n",
      "      \"user\": \"DCMI\"\n",
      "    },\n",
      "    {\n",
      "      \"name\": \"/dc/test/dcam\",\n",
      "      \"type\": \"302\",\n",
      "      \"target\": \"http://dublincore.org:8080/2012/06/01/dcam\",\n",
      "      \"status\": 0,\n",
      "      \"modtime\": \"2012-05-28 17:00:48\",\n",
      "      \"user\": \"DCMI\"\n",
      "    },\n",
      "    {\n",
      "      \"name\": \"/dc/test/dcam\",\n",
      "      \"type\": \"partial\",\n",
      "      \"target\": \"http://dublincore.org:8080/2012/06/01/dcam#\",\n",
      "      \"status\": 1,\n",
      "      \"modtime\": \"2012-05-28 20:50:39\",\n",
      "      \"user\": \"DCMI\"\n",
      "    },\n",
      "    {\n",
      "      \"name\": \"/dc/test/dcam\",\n",
      "      \"type\": \"partial\",\n",
      "      \"target\": \"http://dublincore.org/2012/06/12/dcam\",\n",
      "      \"status\": 1,\n",
      "      \"modtime\": \"2012-06-08 16:16:43\",\n",
      "      \"user\": \"DCMI\"\n",
      "    },\n",
      "    {\n",
      "      \"name\": \"/dc/test/dcam\",\n",
      "      \"type\": \"partial\",\n",
      "      \"target\": \"http://dublincore.org/2012/06/12/dcam#\",\n",
      "      \"status\": 1,\n",
      "      \"modtime\": \"2012-06-09 09:07:16\",\n",
      "      \"user\": \"DCMI\"\n",
      "    },\n",
      "    {\n",
      "      \"name\": \"/dc/test/dcam\",\n",
      "      \"type\": \"302\",\n",
      "      \"target\": \"/dc/test/dcam/\",\n",
      "      \"status\": 1,\n",
      "      \"modtime\": \"2012-06-09 11:12:10\",\n",
      "      \"user\": \"DCMI\"\n",
      "    },\n",
      "    {\n",
      "      \"name\": \"/dc/test/type\",\n",
      "      \"type\": \"302\",\n",
      "      \"target\": \"http://dublincore.org:8080/2012/06/01/dcype\",\n",
      "      \"status\": 0,\n",
      "      \"modtime\": \"2012-05-28 17:01:32\",\n",
      "      \"user\": \"DCMI\"\n",
      "    },\n",
      "    {\n",
      "      \"name\": \"/dc/test/type\",\n",
      "      \"type\": \"partial\",\n",
      "      \"target\": \"http://dublincore.org/2012/06/12/dctype\",\n",
      "      \"status\": 1,\n",
      "      \"modtime\": \"2012-06-08 16:16:32\",\n",
      "      \"user\": \"DCMI\"\n",
      "    },\n",
      "    {\n",
      "      \"name\": \"/dc/test/type\",\n",
      "      \"type\": \"partial\",\n",
      "      \"target\": \"http://dublincore.org/2012/06/12/dctype#\",\n",
      "      \"status\": 1,\n",
      "      \"modtime\": \"2012-06-09 09:06:50\",\n",
      "      \"user\": \"DCMI\"\n",
      "    },\n",
      "    {\n",
      "      \"name\": \"/dc/test/dcam/\",\n",
      "      \"type\": \"partial\",\n",
      "      \"target\": \"http://dublincore.org:8080/2012/06/01/dcam#\",\n",
      "      \"status\": 0,\n",
      "      \"modtime\": \"2012-05-28 20:52:19\",\n",
      "      \"user\": \"DCMI\"\n",
      "    },\n",
      "    {\n",
      "      \"name\": \"/dc/test/dcam/\",\n",
      "      \"type\": \"partial\",\n",
      "      \"target\": \"http://dublincore.org/2012/06/12/dcam\",\n",
      "      \"status\": 1,\n",
      "      \"modtime\": \"2012-06-08 16:03:30\",\n",
      "      \"user\": \"DCMI\"\n",
      "    },\n",
      "    {\n",
      "      \"name\": \"/dc/test/dcam/\",\n",
      "      \"type\": \"partial\",\n",
      "      \"target\": \"http://dublincore.org/2012/06/12/dcam#\",\n",
      "      \"status\": 1,\n",
      "      \"modtime\": \"2012-06-09 09:07:22\",\n",
      "      \"user\": \"DCMI\"\n",
      "    },\n",
      "    {\n",
      "      \"name\": \"/dc/test/terms/\",\n",
      "      \"type\": \"partial\",\n",
      "      \"target\": \"http://dublincore.org:8080/2012/06/01/dcterms#\",\n",
      "      \"status\": 0,\n",
      "      \"modtime\": \"2012-05-28 20:52:45\",\n",
      "      \"user\": \"DCMI\"\n",
      "    },\n",
      "    {\n",
      "      \"name\": \"/dc/test/terms/\",\n",
      "      \"type\": \"partial\",\n",
      "      \"target\": \"http://dublincore.org/2012/06/01/dcterms#\",\n",
      "      \"status\": 1,\n",
      "      \"modtime\": \"2012-06-05 09:53:09\",\n",
      "      \"user\": \"DCMI\"\n",
      "    },\n",
      "    {\n",
      "      \"name\": \"/dc/test/terms/\",\n",
      "      \"type\": \"partial\",\n",
      "      \"target\": \"http://dublincore.org/2012/06/12/dcterms#\",\n",
      "      \"status\": 1,\n",
      "      \"modtime\": \"2012-06-05 09:56:42\",\n",
      "      \"user\": \"DCMI\"\n",
      "    },\n",
      "    {\n",
      "      \"name\": \"/dc/test/terms/\",\n",
      "      \"type\": \"partial\",\n",
      "      \"target\": \"http://dublincore.org/2012/06/12/dcterms\",\n",
      "      \"status\": 1,\n",
      "      \"modtime\": \"2012-06-08 16:04:21\",\n",
      "      \"user\": \"DCMI\"\n",
      "    },\n",
      "    {\n",
      "      \"name\": \"/dc/test/terms/\",\n",
      "      \"type\": \"partial\",\n",
      "      \"target\": \"http://dublincore.org/2012/06/12/dcterms#\",\n",
      "      \"status\": 1,\n",
      "      \"modtime\": \"2012-06-09 09:05:57\",\n",
      "      \"user\": \"DCMI\"\n",
      "    },\n",
      "    {\n",
      "      \"name\": \"/dc/test/terms/\",\n",
      "      \"type\": \"302\",\n",
      "      \"target\": \"/dc/test/terms\",\n",
      "      \"status\": 1,\n",
      "      \"modtime\": \"2012-06-09 11:21:30\",\n",
      "      \"user\": \"DCMI\"\n",
      "    },\n",
      "    {\n",
      "      \"name\": \"/dc/test/terms/\",\n",
      "      \"type\": \"partial\",\n",
      "      \"target\": \"http://dublincore.org/2012/06/12/dcterms#\",\n",
      "      \"status\": 1,\n",
      "      \"modtime\": \"2012-06-09 12:26:47\",\n",
      "      \"user\": \"DCMI\"\n",
      "    },\n",
      "    {\n",
      "      \"name\": \"/dc/test/terms/\",\n",
      "      \"type\": \"partial\",\n",
      "      \"target\": \"http://dublincore.org/2012/06/14/dcterms#\",\n",
      "      \"status\": 1,\n",
      "      \"modtime\": \"2012-06-12 08:59:36\",\n",
      "      \"user\": \"DCMI\"\n",
      "    },\n",
      "    {\n",
      "      \"name\": \"/dc/test/elements/\",\n",
      "      \"type\": \"partial\",\n",
      "      \"target\": \"http://dublincore.org:8080/2012/06/01/dcelements#\",\n",
      "      \"status\": 0,\n",
      "      \"modtime\": \"2012-05-28 20:53:36\",\n",
      "      \"user\": \"DCMI\"\n",
      "    },\n",
      "    {\n",
      "      \"name\": \"/dc/test/elements/\",\n",
      "      \"type\": \"partial\",\n",
      "      \"target\": \"http://dublincore.org/2012/06/12/dcelements\",\n",
      "      \"status\": 1,\n",
      "      \"modtime\": \"2012-06-08 16:03:50\",\n",
      "      \"user\": \"DCMI\"\n",
      "    },\n",
      "    {\n",
      "      \"name\": \"/dc/test/elements/\",\n",
      "      \"type\": \"partial\",\n",
      "      \"target\": \"http://dublincore.org/2012/06/12/dcelements#\",\n",
      "      \"status\": 1,\n",
      "      \"modtime\": \"2012-06-09 09:06:30\",\n",
      "      \"user\": \"DCMI\"\n",
      "    },\n",
      "    {\n",
      "      \"name\": \"/dc/test/elements/\",\n",
      "      \"type\": \"partial\",\n",
      "      \"target\": \"http://dublincore.org/2012/06/14/dcelements#\",\n",
      "      \"status\": 1,\n",
      "      \"modtime\": \"2012-06-12 09:00:28\",\n",
      "      \"user\": \"DCMI\"\n",
      "    },\n",
      "    {\n",
      "      \"name\": \"/dc/test/type/\",\n",
      "      \"type\": \"partial\",\n",
      "      \"target\": \"http://dublincore.org:8080/2012/06/01/dctype#\",\n",
      "      \"status\": 0,\n",
      "      \"modtime\": \"2012-05-28 20:54:07\",\n",
      "      \"user\": \"DCMI\"\n",
      "    },\n",
      "    {\n",
      "      \"name\": \"/dc/test/type/\",\n",
      "      \"type\": \"partial\",\n",
      "      \"target\": \"http://dublincore.org/2012/06/12/dctype\",\n",
      "      \"status\": 1,\n",
      "      \"modtime\": \"2012-06-08 16:04:08\",\n",
      "      \"user\": \"DCMI\"\n",
      "    },\n",
      "    {\n",
      "      \"name\": \"/dc/test/type/\",\n",
      "      \"type\": \"partial\",\n",
      "      \"target\": \"http://dublincore.org/2012/06/12/dctype#\",\n",
      "      \"status\": 1,\n",
      "      \"modtime\": \"2012-06-09 09:06:59\",\n",
      "      \"user\": \"DCMI\"\n",
      "    },\n",
      "    {\n",
      "      \"name\": \"/dc/test/type/\",\n",
      "      \"type\": \"partial\",\n",
      "      \"target\": \"http://dublincore.org/2012/06/14/dctype#\",\n",
      "      \"status\": 1,\n",
      "      \"modtime\": \"2012-06-12 09:07:03\",\n",
      "      \"user\": \"DCMI\"\n",
      "    },\n",
      "    {\n",
      "      \"name\": \"/dc/test/dctype/\",\n",
      "      \"type\": \"partial\",\n",
      "      \"target\": \"http://dublincore.org/2012/06/12/dctype#\",\n",
      "      \"status\": 0,\n",
      "      \"modtime\": \"2012-06-09 10:35:20\",\n",
      "      \"user\": \"DCMI\"\n",
      "    },\n",
      "    {\n",
      "      \"name\": \"/dc/test/dctype\",\n",
      "      \"type\": \"partial\",\n",
      "      \"target\": \"http://dublincore.org/2012/06/12/dctype#\",\n",
      "      \"status\": 0,\n",
      "      \"modtime\": \"2012-06-09 10:35:49\",\n",
      "      \"user\": \"DCMI\"\n",
      "    },\n",
      "    {\n",
      "      \"name\": \"/dc/test/dctype\",\n",
      "      \"type\": \"302\",\n",
      "      \"target\": \"/dc/test/dctype/\",\n",
      "      \"status\": 1,\n",
      "      \"modtime\": \"2012-06-09 11:12:42\",\n",
      "      \"user\": \"DCMI\"\n",
      "    },\n",
      "    {\n",
      "      \"name\": \"/dc/test/dcelements\",\n",
      "      \"type\": \"partial\",\n",
      "      \"target\": \"http://dublincore.org/2012/06/12/dcelements#\",\n",
      "      \"status\": 0,\n",
      "      \"modtime\": \"2012-06-09 10:36:17\",\n",
      "      \"user\": \"DCMI\"\n",
      "    },\n",
      "    {\n",
      "      \"name\": \"/dc/test/dcelements\",\n",
      "      \"type\": \"302\",\n",
      "      \"target\": \"/dc/test/dcelements/\",\n",
      "      \"status\": 1,\n",
      "      \"modtime\": \"2012-06-09 11:12:26\",\n",
      "      \"user\": \"DCMI\"\n",
      "    },\n",
      "    {\n",
      "      \"name\": \"/dc/test/dcelements/\",\n",
      "      \"type\": \"partial\",\n",
      "      \"target\": \"http://dublincore.org/2012/06/12/dcelements#\",\n",
      "      \"status\": 0,\n",
      "      \"modtime\": \"2012-06-09 10:36:32\",\n",
      "      \"user\": \"DCMI\"\n",
      "    },\n",
      "    {\n",
      "      \"name\": \"/dc/test/dcterms\",\n",
      "      \"type\": \"partial\",\n",
      "      \"target\": \"http://dublincore.org/2012/06/12/dcterms#\",\n",
      "      \"status\": 0,\n",
      "      \"modtime\": \"2012-06-09 10:37:02\",\n",
      "      \"user\": \"DCMI\"\n",
      "    },\n",
      "    {\n",
      "      \"name\": \"/dc/test/dcterms\",\n",
      "      \"type\": \"302\",\n",
      "      \"target\": \"/dc/test/dcterms/\",\n",
      "      \"status\": 1,\n",
      "      \"modtime\": \"2012-06-09 11:12:55\",\n",
      "      \"user\": \"DCMI\"\n",
      "    },\n",
      "    {\n",
      "      \"name\": \"/dc/test/dcterms\",\n",
      "      \"type\": \"302\",\n",
      "      \"target\": \"/dc/test/dcterms/\",\n",
      "      \"status\": 1,\n",
      "      \"modtime\": \"2012-06-09 11:14:02\",\n",
      "      \"user\": \"DCMI\"\n",
      "    },\n",
      "    {\n",
      "      \"name\": \"/dc/test/dcterms\",\n",
      "      \"type\": \"302\",\n",
      "      \"target\": \"/dc/test/dcterms/\",\n",
      "      \"status\": 1,\n",
      "      \"modtime\": \"2012-06-09 11:15:01\",\n",
      "      \"user\": \"DCMI\"\n",
      "    },\n",
      "    {\n",
      "      \"name\": \"/dc/test/dcterms/\",\n",
      "      \"type\": \"partial\",\n",
      "      \"target\": \"http://dublincore.org/2012/06/12/dcterms#\",\n",
      "      \"status\": 0,\n",
      "      \"modtime\": \"2012-06-09 10:37:15\",\n",
      "      \"user\": \"DCMI\"\n",
      "    },\n",
      "    {\n",
      "      \"name\": \"/dc/test/am/\",\n",
      "      \"type\": \"partial\",\n",
      "      \"target\": \"http://dublincore.org/2012/06/14/dcam#\",\n",
      "      \"status\": 0,\n",
      "      \"modtime\": \"2012-06-12 09:01:29\",\n",
      "      \"user\": \"DCMI\"\n",
      "    }\n",
      "  ]\n",
      "}\n"
     ]
    }
   ],
   "source": [
    "hist = requests.get('https://archive.org/download/purl_dc/purl_dc_purl_history.json').json()\n",
    "print(json.dumps(hist, indent=2))"
   ]
  },
  {
   "cell_type": "markdown",
   "metadata": {},
   "source": [
    "## Download PURL\n",
    "\n",
    "So we can search for all of the namespaces and download their JSON namespace data using the [internetarchive](https://pypi.org/project/internetarchive/) Python library for interacting with the Internet Archive storage API."
   ]
  },
  {
   "cell_type": "code",
   "execution_count": null,
   "metadata": {},
   "outputs": [],
   "source": [
    "import time\n",
    "import pathlib\n",
    "\n",
    "from internetarchive import search_items, download\n",
    "\n",
    "data_dir = pathlib.Path('data/purl')\n",
    "\n",
    "for match in search_items('collection:purl_collection'):\n",
    "    item_id = match['identifier']\n",
    "    \n",
    "    # if it hasn't been downloaded yet\n",
    "    if not (data_dir / item_id).is_dir():\n",
    "        download(item_id, destdir=data_dir, glob_pattern='*.json')\n",
    "        time.sleep(.5)\n",
    "    else:\n",
    "        print(f'already downloaded {item_id}')"
   ]
  },
  {
   "cell_type": "markdown",
   "metadata": {},
   "source": [
    "Running this *for a few days* resulted in 21,680 namespace items being downloaded. 26 IA items were not downloaded because they lacked the JSON files needed to understand them as PURL namespaces. Here is a list of those in case you are interested:\n",
    "\n",
    "* purl_NetLink\n",
    "* purl_RadioNegashi.net\n",
    "* purl_SeanPetiya\n",
    "* purl_TechOpsTraining\n",
    "* purl_candycesessayprompt\n",
    "* purl_cyber_cbo\n",
    "* purl_gramaticie\n",
    "* purl_gzirtadiss\n",
    "* purl_iip-srm.owl\n",
    "* purl_iot_vocab_m3\n",
    "* purl_ist_interoperability-key-point\n",
    "* purl_ist_interoperable-quality-metric\n",
    "* purl_jorge_gramie\n",
    "* purl_jrgjuanf_gramie\n",
    "* purl_linkeddatatest\n",
    "* purl_map4scrutiny_core\n",
    "* purl_net_NetLink\n",
    "* purl_net_overload\n",
    "* purl_oblp\n",
    "* purl_pradeo_cbo\n",
    "* purl_schema_cocoon\n",
    "* purl_swarms\n",
    "* purl_unibomp_schema\n",
    "* purl_xapi_ontology_\n",
    "* purl_xinli\n",
    "* purl_yoolib\n",
    " "
   ]
  },
  {
   "cell_type": "markdown",
   "metadata": {},
   "source": [
    "## Namespace Creation\n",
    "\n",
    "Given that the JSON object for each namespace we can look to see when they were created. First lets create a generator function that returns metadata for each PURL namespace, and test it out."
   ]
  },
  {
   "cell_type": "code",
   "execution_count": 4,
   "metadata": {},
   "outputs": [
    {
     "data": {
      "text/plain": [
       "{'name': '/umarchives/mum00516',\n",
       " 'created': '2009-07-22 15:56:29',\n",
       " 'maintainer': {'fullname': 'University Special Collections and Archives',\n",
       "  'email': 'archive@olemiss.edu',\n",
       "  'affiliation': 'University of Mississippi',\n",
       "  'userid': 'OLEMISSARCHIVES'},\n",
       " 'purls': [{'target': 'http://www.olemiss.edu/depts/general_library/archives/finding_aids/MUM00516.html',\n",
       "   'name': '/umarchives/MUM00516/',\n",
       "   'created': '2009-07-23 00:10:01',\n",
       "   'modified': '2009-11-04 10:08:07',\n",
       "   'type': '301'}]}"
      ]
     },
     "execution_count": 4,
     "metadata": {},
     "output_type": "execute_result"
    }
   ],
   "source": [
    "def purls_metadata():\n",
    "    data = pathlib.Path('data/purl')\n",
    "    for ns_dir in data.iterdir():\n",
    "        ns = ns_dir.name\n",
    "        json_file = ns_dir / f\"{ns}_purl.json\"\n",
    "        if json_file.is_file():\n",
    "            yield json.load(json_file.open())\n",
    "        \n",
    "next(purls_metadata())"
   ]
  },
  {
   "cell_type": "markdown",
   "metadata": {},
   "source": [
    "Looks good so now we can make a DataFrame for the metadata."
   ]
  },
  {
   "cell_type": "code",
   "execution_count": 5,
   "metadata": {},
   "outputs": [],
   "source": [
    "import pandas\n",
    "\n",
    "df = pandas.json_normalize(purls_metadata())\n",
    "df['created'] = pandas.to_datetime(df['created'])"
   ]
  },
  {
   "cell_type": "markdown",
   "metadata": {},
   "source": [
    "Now we can group by month "
   ]
  },
  {
   "cell_type": "code",
   "execution_count": 6,
   "metadata": {},
   "outputs": [
    {
     "data": {
      "text/plain": [
       "created\n",
       "2009    15921\n",
       "2010      271\n",
       "2011      267\n",
       "2012      197\n",
       "2013      220\n",
       "2014      135\n",
       "2015        9\n",
       "2016      380\n",
       "2017      983\n",
       "2018      852\n",
       "2019      641\n",
       "2020      981\n",
       "2021     1037\n",
       "Name: created, dtype: int64"
      ]
     },
     "execution_count": 6,
     "metadata": {},
     "output_type": "execute_result"
    }
   ],
   "source": [
    "counts = df.created.groupby(by=[df.created.dt.year]).count()\n",
    "counts"
   ]
  },
  {
   "cell_type": "code",
   "execution_count": 75,
   "metadata": {},
   "outputs": [
    {
     "data": {
      "application/vnd.plotly.v1+json": {
       "config": {
        "plotlyServerURL": "https://plot.ly"
       },
       "data": [
        {
         "alignmentgroup": "True",
         "hovertemplate": "variable=created<br>Year=%{x}<br>Namespaces Created=%{y}<extra></extra>",
         "legendgroup": "created",
         "marker": {
          "color": "#636efa",
          "pattern": {
           "shape": ""
          }
         },
         "name": "created",
         "offsetgroup": "created",
         "orientation": "v",
         "showlegend": true,
         "textposition": "auto",
         "type": "bar",
         "x": [
          2009,
          2010,
          2011,
          2012,
          2013,
          2014,
          2015,
          2016,
          2017,
          2018,
          2019,
          2020,
          2021
         ],
         "xaxis": "x",
         "y": [
          15921,
          271,
          267,
          197,
          220,
          135,
          9,
          380,
          983,
          852,
          641,
          981,
          1037
         ],
         "yaxis": "y"
        }
       ],
       "layout": {
        "autosize": true,
        "barmode": "relative",
        "legend": {
         "title": {
          "text": "variable"
         },
         "tracegroupgap": 0
        },
        "showlegend": false,
        "template": {
         "data": {
          "bar": [
           {
            "error_x": {
             "color": "#2a3f5f"
            },
            "error_y": {
             "color": "#2a3f5f"
            },
            "marker": {
             "line": {
              "color": "#E5ECF6",
              "width": 0.5
             },
             "pattern": {
              "fillmode": "overlay",
              "size": 10,
              "solidity": 0.2
             }
            },
            "type": "bar"
           }
          ],
          "barpolar": [
           {
            "marker": {
             "line": {
              "color": "#E5ECF6",
              "width": 0.5
             },
             "pattern": {
              "fillmode": "overlay",
              "size": 10,
              "solidity": 0.2
             }
            },
            "type": "barpolar"
           }
          ],
          "carpet": [
           {
            "aaxis": {
             "endlinecolor": "#2a3f5f",
             "gridcolor": "white",
             "linecolor": "white",
             "minorgridcolor": "white",
             "startlinecolor": "#2a3f5f"
            },
            "baxis": {
             "endlinecolor": "#2a3f5f",
             "gridcolor": "white",
             "linecolor": "white",
             "minorgridcolor": "white",
             "startlinecolor": "#2a3f5f"
            },
            "type": "carpet"
           }
          ],
          "choropleth": [
           {
            "colorbar": {
             "outlinewidth": 0,
             "ticks": ""
            },
            "type": "choropleth"
           }
          ],
          "contour": [
           {
            "colorbar": {
             "outlinewidth": 0,
             "ticks": ""
            },
            "colorscale": [
             [
              0,
              "#0d0887"
             ],
             [
              0.1111111111111111,
              "#46039f"
             ],
             [
              0.2222222222222222,
              "#7201a8"
             ],
             [
              0.3333333333333333,
              "#9c179e"
             ],
             [
              0.4444444444444444,
              "#bd3786"
             ],
             [
              0.5555555555555556,
              "#d8576b"
             ],
             [
              0.6666666666666666,
              "#ed7953"
             ],
             [
              0.7777777777777778,
              "#fb9f3a"
             ],
             [
              0.8888888888888888,
              "#fdca26"
             ],
             [
              1,
              "#f0f921"
             ]
            ],
            "type": "contour"
           }
          ],
          "contourcarpet": [
           {
            "colorbar": {
             "outlinewidth": 0,
             "ticks": ""
            },
            "type": "contourcarpet"
           }
          ],
          "heatmap": [
           {
            "colorbar": {
             "outlinewidth": 0,
             "ticks": ""
            },
            "colorscale": [
             [
              0,
              "#0d0887"
             ],
             [
              0.1111111111111111,
              "#46039f"
             ],
             [
              0.2222222222222222,
              "#7201a8"
             ],
             [
              0.3333333333333333,
              "#9c179e"
             ],
             [
              0.4444444444444444,
              "#bd3786"
             ],
             [
              0.5555555555555556,
              "#d8576b"
             ],
             [
              0.6666666666666666,
              "#ed7953"
             ],
             [
              0.7777777777777778,
              "#fb9f3a"
             ],
             [
              0.8888888888888888,
              "#fdca26"
             ],
             [
              1,
              "#f0f921"
             ]
            ],
            "type": "heatmap"
           }
          ],
          "heatmapgl": [
           {
            "colorbar": {
             "outlinewidth": 0,
             "ticks": ""
            },
            "colorscale": [
             [
              0,
              "#0d0887"
             ],
             [
              0.1111111111111111,
              "#46039f"
             ],
             [
              0.2222222222222222,
              "#7201a8"
             ],
             [
              0.3333333333333333,
              "#9c179e"
             ],
             [
              0.4444444444444444,
              "#bd3786"
             ],
             [
              0.5555555555555556,
              "#d8576b"
             ],
             [
              0.6666666666666666,
              "#ed7953"
             ],
             [
              0.7777777777777778,
              "#fb9f3a"
             ],
             [
              0.8888888888888888,
              "#fdca26"
             ],
             [
              1,
              "#f0f921"
             ]
            ],
            "type": "heatmapgl"
           }
          ],
          "histogram": [
           {
            "marker": {
             "pattern": {
              "fillmode": "overlay",
              "size": 10,
              "solidity": 0.2
             }
            },
            "type": "histogram"
           }
          ],
          "histogram2d": [
           {
            "colorbar": {
             "outlinewidth": 0,
             "ticks": ""
            },
            "colorscale": [
             [
              0,
              "#0d0887"
             ],
             [
              0.1111111111111111,
              "#46039f"
             ],
             [
              0.2222222222222222,
              "#7201a8"
             ],
             [
              0.3333333333333333,
              "#9c179e"
             ],
             [
              0.4444444444444444,
              "#bd3786"
             ],
             [
              0.5555555555555556,
              "#d8576b"
             ],
             [
              0.6666666666666666,
              "#ed7953"
             ],
             [
              0.7777777777777778,
              "#fb9f3a"
             ],
             [
              0.8888888888888888,
              "#fdca26"
             ],
             [
              1,
              "#f0f921"
             ]
            ],
            "type": "histogram2d"
           }
          ],
          "histogram2dcontour": [
           {
            "colorbar": {
             "outlinewidth": 0,
             "ticks": ""
            },
            "colorscale": [
             [
              0,
              "#0d0887"
             ],
             [
              0.1111111111111111,
              "#46039f"
             ],
             [
              0.2222222222222222,
              "#7201a8"
             ],
             [
              0.3333333333333333,
              "#9c179e"
             ],
             [
              0.4444444444444444,
              "#bd3786"
             ],
             [
              0.5555555555555556,
              "#d8576b"
             ],
             [
              0.6666666666666666,
              "#ed7953"
             ],
             [
              0.7777777777777778,
              "#fb9f3a"
             ],
             [
              0.8888888888888888,
              "#fdca26"
             ],
             [
              1,
              "#f0f921"
             ]
            ],
            "type": "histogram2dcontour"
           }
          ],
          "mesh3d": [
           {
            "colorbar": {
             "outlinewidth": 0,
             "ticks": ""
            },
            "type": "mesh3d"
           }
          ],
          "parcoords": [
           {
            "line": {
             "colorbar": {
              "outlinewidth": 0,
              "ticks": ""
             }
            },
            "type": "parcoords"
           }
          ],
          "pie": [
           {
            "automargin": true,
            "type": "pie"
           }
          ],
          "scatter": [
           {
            "marker": {
             "colorbar": {
              "outlinewidth": 0,
              "ticks": ""
             }
            },
            "type": "scatter"
           }
          ],
          "scatter3d": [
           {
            "line": {
             "colorbar": {
              "outlinewidth": 0,
              "ticks": ""
             }
            },
            "marker": {
             "colorbar": {
              "outlinewidth": 0,
              "ticks": ""
             }
            },
            "type": "scatter3d"
           }
          ],
          "scattercarpet": [
           {
            "marker": {
             "colorbar": {
              "outlinewidth": 0,
              "ticks": ""
             }
            },
            "type": "scattercarpet"
           }
          ],
          "scattergeo": [
           {
            "marker": {
             "colorbar": {
              "outlinewidth": 0,
              "ticks": ""
             }
            },
            "type": "scattergeo"
           }
          ],
          "scattergl": [
           {
            "marker": {
             "colorbar": {
              "outlinewidth": 0,
              "ticks": ""
             }
            },
            "type": "scattergl"
           }
          ],
          "scattermapbox": [
           {
            "marker": {
             "colorbar": {
              "outlinewidth": 0,
              "ticks": ""
             }
            },
            "type": "scattermapbox"
           }
          ],
          "scatterpolar": [
           {
            "marker": {
             "colorbar": {
              "outlinewidth": 0,
              "ticks": ""
             }
            },
            "type": "scatterpolar"
           }
          ],
          "scatterpolargl": [
           {
            "marker": {
             "colorbar": {
              "outlinewidth": 0,
              "ticks": ""
             }
            },
            "type": "scatterpolargl"
           }
          ],
          "scatterternary": [
           {
            "marker": {
             "colorbar": {
              "outlinewidth": 0,
              "ticks": ""
             }
            },
            "type": "scatterternary"
           }
          ],
          "surface": [
           {
            "colorbar": {
             "outlinewidth": 0,
             "ticks": ""
            },
            "colorscale": [
             [
              0,
              "#0d0887"
             ],
             [
              0.1111111111111111,
              "#46039f"
             ],
             [
              0.2222222222222222,
              "#7201a8"
             ],
             [
              0.3333333333333333,
              "#9c179e"
             ],
             [
              0.4444444444444444,
              "#bd3786"
             ],
             [
              0.5555555555555556,
              "#d8576b"
             ],
             [
              0.6666666666666666,
              "#ed7953"
             ],
             [
              0.7777777777777778,
              "#fb9f3a"
             ],
             [
              0.8888888888888888,
              "#fdca26"
             ],
             [
              1,
              "#f0f921"
             ]
            ],
            "type": "surface"
           }
          ],
          "table": [
           {
            "cells": {
             "fill": {
              "color": "#EBF0F8"
             },
             "line": {
              "color": "white"
             }
            },
            "header": {
             "fill": {
              "color": "#C8D4E3"
             },
             "line": {
              "color": "white"
             }
            },
            "type": "table"
           }
          ]
         },
         "layout": {
          "annotationdefaults": {
           "arrowcolor": "#2a3f5f",
           "arrowhead": 0,
           "arrowwidth": 1
          },
          "autotypenumbers": "strict",
          "coloraxis": {
           "colorbar": {
            "outlinewidth": 0,
            "ticks": ""
           }
          },
          "colorscale": {
           "diverging": [
            [
             0,
             "#8e0152"
            ],
            [
             0.1,
             "#c51b7d"
            ],
            [
             0.2,
             "#de77ae"
            ],
            [
             0.3,
             "#f1b6da"
            ],
            [
             0.4,
             "#fde0ef"
            ],
            [
             0.5,
             "#f7f7f7"
            ],
            [
             0.6,
             "#e6f5d0"
            ],
            [
             0.7,
             "#b8e186"
            ],
            [
             0.8,
             "#7fbc41"
            ],
            [
             0.9,
             "#4d9221"
            ],
            [
             1,
             "#276419"
            ]
           ],
           "sequential": [
            [
             0,
             "#0d0887"
            ],
            [
             0.1111111111111111,
             "#46039f"
            ],
            [
             0.2222222222222222,
             "#7201a8"
            ],
            [
             0.3333333333333333,
             "#9c179e"
            ],
            [
             0.4444444444444444,
             "#bd3786"
            ],
            [
             0.5555555555555556,
             "#d8576b"
            ],
            [
             0.6666666666666666,
             "#ed7953"
            ],
            [
             0.7777777777777778,
             "#fb9f3a"
            ],
            [
             0.8888888888888888,
             "#fdca26"
            ],
            [
             1,
             "#f0f921"
            ]
           ],
           "sequentialminus": [
            [
             0,
             "#0d0887"
            ],
            [
             0.1111111111111111,
             "#46039f"
            ],
            [
             0.2222222222222222,
             "#7201a8"
            ],
            [
             0.3333333333333333,
             "#9c179e"
            ],
            [
             0.4444444444444444,
             "#bd3786"
            ],
            [
             0.5555555555555556,
             "#d8576b"
            ],
            [
             0.6666666666666666,
             "#ed7953"
            ],
            [
             0.7777777777777778,
             "#fb9f3a"
            ],
            [
             0.8888888888888888,
             "#fdca26"
            ],
            [
             1,
             "#f0f921"
            ]
           ]
          },
          "colorway": [
           "#636efa",
           "#EF553B",
           "#00cc96",
           "#ab63fa",
           "#FFA15A",
           "#19d3f3",
           "#FF6692",
           "#B6E880",
           "#FF97FF",
           "#FECB52"
          ],
          "font": {
           "color": "#2a3f5f"
          },
          "geo": {
           "bgcolor": "white",
           "lakecolor": "white",
           "landcolor": "#E5ECF6",
           "showlakes": true,
           "showland": true,
           "subunitcolor": "white"
          },
          "hoverlabel": {
           "align": "left"
          },
          "hovermode": "closest",
          "mapbox": {
           "style": "light"
          },
          "paper_bgcolor": "white",
          "plot_bgcolor": "#E5ECF6",
          "polar": {
           "angularaxis": {
            "gridcolor": "white",
            "linecolor": "white",
            "ticks": ""
           },
           "bgcolor": "#E5ECF6",
           "radialaxis": {
            "gridcolor": "white",
            "linecolor": "white",
            "ticks": ""
           }
          },
          "scene": {
           "xaxis": {
            "backgroundcolor": "#E5ECF6",
            "gridcolor": "white",
            "gridwidth": 2,
            "linecolor": "white",
            "showbackground": true,
            "ticks": "",
            "zerolinecolor": "white"
           },
           "yaxis": {
            "backgroundcolor": "#E5ECF6",
            "gridcolor": "white",
            "gridwidth": 2,
            "linecolor": "white",
            "showbackground": true,
            "ticks": "",
            "zerolinecolor": "white"
           },
           "zaxis": {
            "backgroundcolor": "#E5ECF6",
            "gridcolor": "white",
            "gridwidth": 2,
            "linecolor": "white",
            "showbackground": true,
            "ticks": "",
            "zerolinecolor": "white"
           }
          },
          "shapedefaults": {
           "line": {
            "color": "#2a3f5f"
           }
          },
          "ternary": {
           "aaxis": {
            "gridcolor": "white",
            "linecolor": "white",
            "ticks": ""
           },
           "baxis": {
            "gridcolor": "white",
            "linecolor": "white",
            "ticks": ""
           },
           "bgcolor": "#E5ECF6",
           "caxis": {
            "gridcolor": "white",
            "linecolor": "white",
            "ticks": ""
           }
          },
          "title": {
           "x": 0.05
          },
          "xaxis": {
           "automargin": true,
           "gridcolor": "white",
           "linecolor": "white",
           "ticks": "",
           "title": {
            "standoff": 15
           },
           "zerolinecolor": "white",
           "zerolinewidth": 2
          },
          "yaxis": {
           "automargin": true,
           "gridcolor": "white",
           "linecolor": "white",
           "ticks": "",
           "title": {
            "standoff": 15
           },
           "zerolinecolor": "white",
           "zerolinewidth": 2
          }
         }
        },
        "title": {
         "text": "PURL Namespace Creation"
        },
        "xaxis": {
         "anchor": "y",
         "autorange": true,
         "domain": [
          0,
          1
         ],
         "range": [
          2008.5,
          2021.5
         ],
         "title": {
          "text": "Year"
         },
         "type": "linear"
        },
        "yaxis": {
         "anchor": "x",
         "autorange": true,
         "domain": [
          0,
          1
         ],
         "range": [
          0,
          16758.947368421053
         ],
         "title": {
          "text": "Namespaces Created"
         },
         "type": "linear"
        }
       }
      },
      "image/png": "[encoded data removed]",
      "text/html": [
       "<div>                            <div id=\"5d45c7cc-db07-4e03-ba64-1c86ec9d3264\" class=\"plotly-graph-div\" style=\"height:525px; width:100%;\"></div>            <script type=\"text/javascript\">                require([\"plotly\"], function(Plotly) {                    window.PLOTLYENV=window.PLOTLYENV || {};                                    if (document.getElementById(\"5d45c7cc-db07-4e03-ba64-1c86ec9d3264\")) {                    Plotly.newPlot(                        \"5d45c7cc-db07-4e03-ba64-1c86ec9d3264\",                        [{\"alignmentgroup\":\"True\",\"hovertemplate\":\"variable=created<br>Year=%{x}<br>Namespaces Created=%{y}<extra></extra>\",\"legendgroup\":\"created\",\"marker\":{\"color\":\"#636efa\",\"pattern\":{\"shape\":\"\"}},\"name\":\"created\",\"offsetgroup\":\"created\",\"orientation\":\"v\",\"showlegend\":true,\"textposition\":\"auto\",\"x\":[2009,2010,2011,2012,2013,2014,2015,2016,2017,2018,2019,2020,2021],\"xaxis\":\"x\",\"y\":[15921,271,267,197,220,135,9,380,983,852,641,981,1037],\"yaxis\":\"y\",\"type\":\"bar\"}],                        {\"template\":{\"data\":{\"bar\":[{\"error_x\":{\"color\":\"#2a3f5f\"},\"error_y\":{\"color\":\"#2a3f5f\"},\"marker\":{\"line\":{\"color\":\"#E5ECF6\",\"width\":0.5},\"pattern\":{\"fillmode\":\"overlay\",\"size\":10,\"solidity\":0.2}},\"type\":\"bar\"}],\"barpolar\":[{\"marker\":{\"line\":{\"color\":\"#E5ECF6\",\"width\":0.5},\"pattern\":{\"fillmode\":\"overlay\",\"size\":10,\"solidity\":0.2}},\"type\":\"barpolar\"}],\"carpet\":[{\"aaxis\":{\"endlinecolor\":\"#2a3f5f\",\"gridcolor\":\"white\",\"linecolor\":\"white\",\"minorgridcolor\":\"white\",\"startlinecolor\":\"#2a3f5f\"},\"baxis\":{\"endlinecolor\":\"#2a3f5f\",\"gridcolor\":\"white\",\"linecolor\":\"white\",\"minorgridcolor\":\"white\",\"startlinecolor\":\"#2a3f5f\"},\"type\":\"carpet\"}],\"choropleth\":[{\"colorbar\":{\"outlinewidth\":0,\"ticks\":\"\"},\"type\":\"choropleth\"}],\"contour\":[{\"colorbar\":{\"outlinewidth\":0,\"ticks\":\"\"},\"colorscale\":[[0.0,\"#0d0887\"],[0.1111111111111111,\"#46039f\"],[0.2222222222222222,\"#7201a8\"],[0.3333333333333333,\"#9c179e\"],[0.4444444444444444,\"#bd3786\"],[0.5555555555555556,\"#d8576b\"],[0.6666666666666666,\"#ed7953\"],[0.7777777777777778,\"#fb9f3a\"],[0.8888888888888888,\"#fdca26\"],[1.0,\"#f0f921\"]],\"type\":\"contour\"}],\"contourcarpet\":[{\"colorbar\":{\"outlinewidth\":0,\"ticks\":\"\"},\"type\":\"contourcarpet\"}],\"heatmap\":[{\"colorbar\":{\"outlinewidth\":0,\"ticks\":\"\"},\"colorscale\":[[0.0,\"#0d0887\"],[0.1111111111111111,\"#46039f\"],[0.2222222222222222,\"#7201a8\"],[0.3333333333333333,\"#9c179e\"],[0.4444444444444444,\"#bd3786\"],[0.5555555555555556,\"#d8576b\"],[0.6666666666666666,\"#ed7953\"],[0.7777777777777778,\"#fb9f3a\"],[0.8888888888888888,\"#fdca26\"],[1.0,\"#f0f921\"]],\"type\":\"heatmap\"}],\"heatmapgl\":[{\"colorbar\":{\"outlinewidth\":0,\"ticks\":\"\"},\"colorscale\":[[0.0,\"#0d0887\"],[0.1111111111111111,\"#46039f\"],[0.2222222222222222,\"#7201a8\"],[0.3333333333333333,\"#9c179e\"],[0.4444444444444444,\"#bd3786\"],[0.5555555555555556,\"#d8576b\"],[0.6666666666666666,\"#ed7953\"],[0.7777777777777778,\"#fb9f3a\"],[0.8888888888888888,\"#fdca26\"],[1.0,\"#f0f921\"]],\"type\":\"heatmapgl\"}],\"histogram\":[{\"marker\":{\"pattern\":{\"fillmode\":\"overlay\",\"size\":10,\"solidity\":0.2}},\"type\":\"histogram\"}],\"histogram2d\":[{\"colorbar\":{\"outlinewidth\":0,\"ticks\":\"\"},\"colorscale\":[[0.0,\"#0d0887\"],[0.1111111111111111,\"#46039f\"],[0.2222222222222222,\"#7201a8\"],[0.3333333333333333,\"#9c179e\"],[0.4444444444444444,\"#bd3786\"],[0.5555555555555556,\"#d8576b\"],[0.6666666666666666,\"#ed7953\"],[0.7777777777777778,\"#fb9f3a\"],[0.8888888888888888,\"#fdca26\"],[1.0,\"#f0f921\"]],\"type\":\"histogram2d\"}],\"histogram2dcontour\":[{\"colorbar\":{\"outlinewidth\":0,\"ticks\":\"\"},\"colorscale\":[[0.0,\"#0d0887\"],[0.1111111111111111,\"#46039f\"],[0.2222222222222222,\"#7201a8\"],[0.3333333333333333,\"#9c179e\"],[0.4444444444444444,\"#bd3786\"],[0.5555555555555556,\"#d8576b\"],[0.6666666666666666,\"#ed7953\"],[0.7777777777777778,\"#fb9f3a\"],[0.8888888888888888,\"#fdca26\"],[1.0,\"#f0f921\"]],\"type\":\"histogram2dcontour\"}],\"mesh3d\":[{\"colorbar\":{\"outlinewidth\":0,\"ticks\":\"\"},\"type\":\"mesh3d\"}],\"parcoords\":[{\"line\":{\"colorbar\":{\"outlinewidth\":0,\"ticks\":\"\"}},\"type\":\"parcoords\"}],\"pie\":[{\"automargin\":true,\"type\":\"pie\"}],\"scatter\":[{\"marker\":{\"colorbar\":{\"outlinewidth\":0,\"ticks\":\"\"}},\"type\":\"scatter\"}],\"scatter3d\":[{\"line\":{\"colorbar\":{\"outlinewidth\":0,\"ticks\":\"\"}},\"marker\":{\"colorbar\":{\"outlinewidth\":0,\"ticks\":\"\"}},\"type\":\"scatter3d\"}],\"scattercarpet\":[{\"marker\":{\"colorbar\":{\"outlinewidth\":0,\"ticks\":\"\"}},\"type\":\"scattercarpet\"}],\"scattergeo\":[{\"marker\":{\"colorbar\":{\"outlinewidth\":0,\"ticks\":\"\"}},\"type\":\"scattergeo\"}],\"scattergl\":[{\"marker\":{\"colorbar\":{\"outlinewidth\":0,\"ticks\":\"\"}},\"type\":\"scattergl\"}],\"scattermapbox\":[{\"marker\":{\"colorbar\":{\"outlinewidth\":0,\"ticks\":\"\"}},\"type\":\"scattermapbox\"}],\"scatterpolar\":[{\"marker\":{\"colorbar\":{\"outlinewidth\":0,\"ticks\":\"\"}},\"type\":\"scatterpolar\"}],\"scatterpolargl\":[{\"marker\":{\"colorbar\":{\"outlinewidth\":0,\"ticks\":\"\"}},\"type\":\"scatterpolargl\"}],\"scatterternary\":[{\"marker\":{\"colorbar\":{\"outlinewidth\":0,\"ticks\":\"\"}},\"type\":\"scatterternary\"}],\"surface\":[{\"colorbar\":{\"outlinewidth\":0,\"ticks\":\"\"},\"colorscale\":[[0.0,\"#0d0887\"],[0.1111111111111111,\"#46039f\"],[0.2222222222222222,\"#7201a8\"],[0.3333333333333333,\"#9c179e\"],[0.4444444444444444,\"#bd3786\"],[0.5555555555555556,\"#d8576b\"],[0.6666666666666666,\"#ed7953\"],[0.7777777777777778,\"#fb9f3a\"],[0.8888888888888888,\"#fdca26\"],[1.0,\"#f0f921\"]],\"type\":\"surface\"}],\"table\":[{\"cells\":{\"fill\":{\"color\":\"#EBF0F8\"},\"line\":{\"color\":\"white\"}},\"header\":{\"fill\":{\"color\":\"#C8D4E3\"},\"line\":{\"color\":\"white\"}},\"type\":\"table\"}]},\"layout\":{\"annotationdefaults\":{\"arrowcolor\":\"#2a3f5f\",\"arrowhead\":0,\"arrowwidth\":1},\"autotypenumbers\":\"strict\",\"coloraxis\":{\"colorbar\":{\"outlinewidth\":0,\"ticks\":\"\"}},\"colorscale\":{\"diverging\":[[0,\"#8e0152\"],[0.1,\"#c51b7d\"],[0.2,\"#de77ae\"],[0.3,\"#f1b6da\"],[0.4,\"#fde0ef\"],[0.5,\"#f7f7f7\"],[0.6,\"#e6f5d0\"],[0.7,\"#b8e186\"],[0.8,\"#7fbc41\"],[0.9,\"#4d9221\"],[1,\"#276419\"]],\"sequential\":[[0.0,\"#0d0887\"],[0.1111111111111111,\"#46039f\"],[0.2222222222222222,\"#7201a8\"],[0.3333333333333333,\"#9c179e\"],[0.4444444444444444,\"#bd3786\"],[0.5555555555555556,\"#d8576b\"],[0.6666666666666666,\"#ed7953\"],[0.7777777777777778,\"#fb9f3a\"],[0.8888888888888888,\"#fdca26\"],[1.0,\"#f0f921\"]],\"sequentialminus\":[[0.0,\"#0d0887\"],[0.1111111111111111,\"#46039f\"],[0.2222222222222222,\"#7201a8\"],[0.3333333333333333,\"#9c179e\"],[0.4444444444444444,\"#bd3786\"],[0.5555555555555556,\"#d8576b\"],[0.6666666666666666,\"#ed7953\"],[0.7777777777777778,\"#fb9f3a\"],[0.8888888888888888,\"#fdca26\"],[1.0,\"#f0f921\"]]},\"colorway\":[\"#636efa\",\"#EF553B\",\"#00cc96\",\"#ab63fa\",\"#FFA15A\",\"#19d3f3\",\"#FF6692\",\"#B6E880\",\"#FF97FF\",\"#FECB52\"],\"font\":{\"color\":\"#2a3f5f\"},\"geo\":{\"bgcolor\":\"white\",\"lakecolor\":\"white\",\"landcolor\":\"#E5ECF6\",\"showlakes\":true,\"showland\":true,\"subunitcolor\":\"white\"},\"hoverlabel\":{\"align\":\"left\"},\"hovermode\":\"closest\",\"mapbox\":{\"style\":\"light\"},\"paper_bgcolor\":\"white\",\"plot_bgcolor\":\"#E5ECF6\",\"polar\":{\"angularaxis\":{\"gridcolor\":\"white\",\"linecolor\":\"white\",\"ticks\":\"\"},\"bgcolor\":\"#E5ECF6\",\"radialaxis\":{\"gridcolor\":\"white\",\"linecolor\":\"white\",\"ticks\":\"\"}},\"scene\":{\"xaxis\":{\"backgroundcolor\":\"#E5ECF6\",\"gridcolor\":\"white\",\"gridwidth\":2,\"linecolor\":\"white\",\"showbackground\":true,\"ticks\":\"\",\"zerolinecolor\":\"white\"},\"yaxis\":{\"backgroundcolor\":\"#E5ECF6\",\"gridcolor\":\"white\",\"gridwidth\":2,\"linecolor\":\"white\",\"showbackground\":true,\"ticks\":\"\",\"zerolinecolor\":\"white\"},\"zaxis\":{\"backgroundcolor\":\"#E5ECF6\",\"gridcolor\":\"white\",\"gridwidth\":2,\"linecolor\":\"white\",\"showbackground\":true,\"ticks\":\"\",\"zerolinecolor\":\"white\"}},\"shapedefaults\":{\"line\":{\"color\":\"#2a3f5f\"}},\"ternary\":{\"aaxis\":{\"gridcolor\":\"white\",\"linecolor\":\"white\",\"ticks\":\"\"},\"baxis\":{\"gridcolor\":\"white\",\"linecolor\":\"white\",\"ticks\":\"\"},\"bgcolor\":\"#E5ECF6\",\"caxis\":{\"gridcolor\":\"white\",\"linecolor\":\"white\",\"ticks\":\"\"}},\"title\":{\"x\":0.05},\"xaxis\":{\"automargin\":true,\"gridcolor\":\"white\",\"linecolor\":\"white\",\"ticks\":\"\",\"title\":{\"standoff\":15},\"zerolinecolor\":\"white\",\"zerolinewidth\":2},\"yaxis\":{\"automargin\":true,\"gridcolor\":\"white\",\"linecolor\":\"white\",\"ticks\":\"\",\"title\":{\"standoff\":15},\"zerolinecolor\":\"white\",\"zerolinewidth\":2}}},\"xaxis\":{\"anchor\":\"y\",\"domain\":[0.0,1.0],\"title\":{\"text\":\"Year\"}},\"yaxis\":{\"anchor\":\"x\",\"domain\":[0.0,1.0],\"title\":{\"text\":\"Namespaces Created\"}},\"legend\":{\"title\":{\"text\":\"variable\"},\"tracegroupgap\":0},\"title\":{\"text\":\"PURL Namespace Creation\"},\"barmode\":\"relative\",\"showlegend\":false},                        {\"responsive\": true}                    ).then(function(){\n",
       "                            \n",
       "var gd = document.getElementById('5d45c7cc-db07-4e03-ba64-1c86ec9d3264');\n",
       "var x = new MutationObserver(function (mutations, observer) {{\n",
       "        var display = window.getComputedStyle(gd).display;\n",
       "        if (!display || display === 'none') {{\n",
       "            console.log([gd, 'removed!']);\n",
       "            Plotly.purge(gd);\n",
       "            observer.disconnect();\n",
       "        }}\n",
       "}});\n",
       "\n",
       "// Listen for the removal of the full notebook cells\n",
       "var notebookContainer = gd.closest('#notebook-container');\n",
       "if (notebookContainer) {{\n",
       "    x.observe(notebookContainer, {childList: true});\n",
       "}}\n",
       "\n",
       "// Listen for the clearing of the current output cell\n",
       "var outputEl = gd.closest('.output');\n",
       "if (outputEl) {{\n",
       "    x.observe(outputEl, {childList: true});\n",
       "}}\n",
       "\n",
       "                        })                };                });            </script>        </div>"
      ]
     },
     "metadata": {},
     "output_type": "display_data"
    }
   ],
   "source": [
    "from plotly import express as xp\n",
    "\n",
    "fig = xp.bar(counts, labels={'value': 'Namespaces Created', 'index': 'Year'}, title='PURL Namespace Creation')\n",
    "fig.layout.update(showlegend=False)\n",
    "fig"
   ]
  },
  {
   "cell_type": "code",
   "execution_count": 76,
   "metadata": {},
   "outputs": [
    {
     "data": {
      "application/vnd.plotly.v1+json": {
       "config": {
        "plotlyServerURL": "https://plot.ly"
       },
       "data": [
        {
         "alignmentgroup": "True",
         "hovertemplate": "variable=created<br>Year=%{x}<br>Namespaces Created=%{y}<extra></extra>",
         "legendgroup": "created",
         "marker": {
          "color": "#636efa",
          "pattern": {
           "shape": ""
          }
         },
         "name": "created",
         "offsetgroup": "created",
         "orientation": "v",
         "showlegend": true,
         "textposition": "auto",
         "type": "bar",
         "x": [
          2010,
          2011,
          2012,
          2013,
          2014,
          2015,
          2016,
          2017,
          2018,
          2019,
          2020,
          2021
         ],
         "xaxis": "x",
         "y": [
          271,
          267,
          197,
          220,
          135,
          9,
          380,
          983,
          852,
          641,
          981,
          1037
         ],
         "yaxis": "y"
        }
       ],
       "layout": {
        "autosize": true,
        "barmode": "relative",
        "legend": {
         "title": {
          "text": "variable"
         },
         "tracegroupgap": 0
        },
        "showlegend": false,
        "template": {
         "data": {
          "bar": [
           {
            "error_x": {
             "color": "#2a3f5f"
            },
            "error_y": {
             "color": "#2a3f5f"
            },
            "marker": {
             "line": {
              "color": "#E5ECF6",
              "width": 0.5
             },
             "pattern": {
              "fillmode": "overlay",
              "size": 10,
              "solidity": 0.2
             }
            },
            "type": "bar"
           }
          ],
          "barpolar": [
           {
            "marker": {
             "line": {
              "color": "#E5ECF6",
              "width": 0.5
             },
             "pattern": {
              "fillmode": "overlay",
              "size": 10,
              "solidity": 0.2
             }
            },
            "type": "barpolar"
           }
          ],
          "carpet": [
           {
            "aaxis": {
             "endlinecolor": "#2a3f5f",
             "gridcolor": "white",
             "linecolor": "white",
             "minorgridcolor": "white",
             "startlinecolor": "#2a3f5f"
            },
            "baxis": {
             "endlinecolor": "#2a3f5f",
             "gridcolor": "white",
             "linecolor": "white",
             "minorgridcolor": "white",
             "startlinecolor": "#2a3f5f"
            },
            "type": "carpet"
           }
          ],
          "choropleth": [
           {
            "colorbar": {
             "outlinewidth": 0,
             "ticks": ""
            },
            "type": "choropleth"
           }
          ],
          "contour": [
           {
            "colorbar": {
             "outlinewidth": 0,
             "ticks": ""
            },
            "colorscale": [
             [
              0,
              "#0d0887"
             ],
             [
              0.1111111111111111,
              "#46039f"
             ],
             [
              0.2222222222222222,
              "#7201a8"
             ],
             [
              0.3333333333333333,
              "#9c179e"
             ],
             [
              0.4444444444444444,
              "#bd3786"
             ],
             [
              0.5555555555555556,
              "#d8576b"
             ],
             [
              0.6666666666666666,
              "#ed7953"
             ],
             [
              0.7777777777777778,
              "#fb9f3a"
             ],
             [
              0.8888888888888888,
              "#fdca26"
             ],
             [
              1,
              "#f0f921"
             ]
            ],
            "type": "contour"
           }
          ],
          "contourcarpet": [
           {
            "colorbar": {
             "outlinewidth": 0,
             "ticks": ""
            },
            "type": "contourcarpet"
           }
          ],
          "heatmap": [
           {
            "colorbar": {
             "outlinewidth": 0,
             "ticks": ""
            },
            "colorscale": [
             [
              0,
              "#0d0887"
             ],
             [
              0.1111111111111111,
              "#46039f"
             ],
             [
              0.2222222222222222,
              "#7201a8"
             ],
             [
              0.3333333333333333,
              "#9c179e"
             ],
             [
              0.4444444444444444,
              "#bd3786"
             ],
             [
              0.5555555555555556,
              "#d8576b"
             ],
             [
              0.6666666666666666,
              "#ed7953"
             ],
             [
              0.7777777777777778,
              "#fb9f3a"
             ],
             [
              0.8888888888888888,
              "#fdca26"
             ],
             [
              1,
              "#f0f921"
             ]
            ],
            "type": "heatmap"
           }
          ],
          "heatmapgl": [
           {
            "colorbar": {
             "outlinewidth": 0,
             "ticks": ""
            },
            "colorscale": [
             [
              0,
              "#0d0887"
             ],
             [
              0.1111111111111111,
              "#46039f"
             ],
             [
              0.2222222222222222,
              "#7201a8"
             ],
             [
              0.3333333333333333,
              "#9c179e"
             ],
             [
              0.4444444444444444,
              "#bd3786"
             ],
             [
              0.5555555555555556,
              "#d8576b"
             ],
             [
              0.6666666666666666,
              "#ed7953"
             ],
             [
              0.7777777777777778,
              "#fb9f3a"
             ],
             [
              0.8888888888888888,
              "#fdca26"
             ],
             [
              1,
              "#f0f921"
             ]
            ],
            "type": "heatmapgl"
           }
          ],
          "histogram": [
           {
            "marker": {
             "pattern": {
              "fillmode": "overlay",
              "size": 10,
              "solidity": 0.2
             }
            },
            "type": "histogram"
           }
          ],
          "histogram2d": [
           {
            "colorbar": {
             "outlinewidth": 0,
             "ticks": ""
            },
            "colorscale": [
             [
              0,
              "#0d0887"
             ],
             [
              0.1111111111111111,
              "#46039f"
             ],
             [
              0.2222222222222222,
              "#7201a8"
             ],
             [
              0.3333333333333333,
              "#9c179e"
             ],
             [
              0.4444444444444444,
              "#bd3786"
             ],
             [
              0.5555555555555556,
              "#d8576b"
             ],
             [
              0.6666666666666666,
              "#ed7953"
             ],
             [
              0.7777777777777778,
              "#fb9f3a"
             ],
             [
              0.8888888888888888,
              "#fdca26"
             ],
             [
              1,
              "#f0f921"
             ]
            ],
            "type": "histogram2d"
           }
          ],
          "histogram2dcontour": [
           {
            "colorbar": {
             "outlinewidth": 0,
             "ticks": ""
            },
            "colorscale": [
             [
              0,
              "#0d0887"
             ],
             [
              0.1111111111111111,
              "#46039f"
             ],
             [
              0.2222222222222222,
              "#7201a8"
             ],
             [
              0.3333333333333333,
              "#9c179e"
             ],
             [
              0.4444444444444444,
              "#bd3786"
             ],
             [
              0.5555555555555556,
              "#d8576b"
             ],
             [
              0.6666666666666666,
              "#ed7953"
             ],
             [
              0.7777777777777778,
              "#fb9f3a"
             ],
             [
              0.8888888888888888,
              "#fdca26"
             ],
             [
              1,
              "#f0f921"
             ]
            ],
            "type": "histogram2dcontour"
           }
          ],
          "mesh3d": [
           {
            "colorbar": {
             "outlinewidth": 0,
             "ticks": ""
            },
            "type": "mesh3d"
           }
          ],
          "parcoords": [
           {
            "line": {
             "colorbar": {
              "outlinewidth": 0,
              "ticks": ""
             }
            },
            "type": "parcoords"
           }
          ],
          "pie": [
           {
            "automargin": true,
            "type": "pie"
           }
          ],
          "scatter": [
           {
            "marker": {
             "colorbar": {
              "outlinewidth": 0,
              "ticks": ""
             }
            },
            "type": "scatter"
           }
          ],
          "scatter3d": [
           {
            "line": {
             "colorbar": {
              "outlinewidth": 0,
              "ticks": ""
             }
            },
            "marker": {
             "colorbar": {
              "outlinewidth": 0,
              "ticks": ""
             }
            },
            "type": "scatter3d"
           }
          ],
          "scattercarpet": [
           {
            "marker": {
             "colorbar": {
              "outlinewidth": 0,
              "ticks": ""
             }
            },
            "type": "scattercarpet"
           }
          ],
          "scattergeo": [
           {
            "marker": {
             "colorbar": {
              "outlinewidth": 0,
              "ticks": ""
             }
            },
            "type": "scattergeo"
           }
          ],
          "scattergl": [
           {
            "marker": {
             "colorbar": {
              "outlinewidth": 0,
              "ticks": ""
             }
            },
            "type": "scattergl"
           }
          ],
          "scattermapbox": [
           {
            "marker": {
             "colorbar": {
              "outlinewidth": 0,
              "ticks": ""
             }
            },
            "type": "scattermapbox"
           }
          ],
          "scatterpolar": [
           {
            "marker": {
             "colorbar": {
              "outlinewidth": 0,
              "ticks": ""
             }
            },
            "type": "scatterpolar"
           }
          ],
          "scatterpolargl": [
           {
            "marker": {
             "colorbar": {
              "outlinewidth": 0,
              "ticks": ""
             }
            },
            "type": "scatterpolargl"
           }
          ],
          "scatterternary": [
           {
            "marker": {
             "colorbar": {
              "outlinewidth": 0,
              "ticks": ""
             }
            },
            "type": "scatterternary"
           }
          ],
          "surface": [
           {
            "colorbar": {
             "outlinewidth": 0,
             "ticks": ""
            },
            "colorscale": [
             [
              0,
              "#0d0887"
             ],
             [
              0.1111111111111111,
              "#46039f"
             ],
             [
              0.2222222222222222,
              "#7201a8"
             ],
             [
              0.3333333333333333,
              "#9c179e"
             ],
             [
              0.4444444444444444,
              "#bd3786"
             ],
             [
              0.5555555555555556,
              "#d8576b"
             ],
             [
              0.6666666666666666,
              "#ed7953"
             ],
             [
              0.7777777777777778,
              "#fb9f3a"
             ],
             [
              0.8888888888888888,
              "#fdca26"
             ],
             [
              1,
              "#f0f921"
             ]
            ],
            "type": "surface"
           }
          ],
          "table": [
           {
            "cells": {
             "fill": {
              "color": "#EBF0F8"
             },
             "line": {
              "color": "white"
             }
            },
            "header": {
             "fill": {
              "color": "#C8D4E3"
             },
             "line": {
              "color": "white"
             }
            },
            "type": "table"
           }
          ]
         },
         "layout": {
          "annotationdefaults": {
           "arrowcolor": "#2a3f5f",
           "arrowhead": 0,
           "arrowwidth": 1
          },
          "autotypenumbers": "strict",
          "coloraxis": {
           "colorbar": {
            "outlinewidth": 0,
            "ticks": ""
           }
          },
          "colorscale": {
           "diverging": [
            [
             0,
             "#8e0152"
            ],
            [
             0.1,
             "#c51b7d"
            ],
            [
             0.2,
             "#de77ae"
            ],
            [
             0.3,
             "#f1b6da"
            ],
            [
             0.4,
             "#fde0ef"
            ],
            [
             0.5,
             "#f7f7f7"
            ],
            [
             0.6,
             "#e6f5d0"
            ],
            [
             0.7,
             "#b8e186"
            ],
            [
             0.8,
             "#7fbc41"
            ],
            [
             0.9,
             "#4d9221"
            ],
            [
             1,
             "#276419"
            ]
           ],
           "sequential": [
            [
             0,
             "#0d0887"
            ],
            [
             0.1111111111111111,
             "#46039f"
            ],
            [
             0.2222222222222222,
             "#7201a8"
            ],
            [
             0.3333333333333333,
             "#9c179e"
            ],
            [
             0.4444444444444444,
             "#bd3786"
            ],
            [
             0.5555555555555556,
             "#d8576b"
            ],
            [
             0.6666666666666666,
             "#ed7953"
            ],
            [
             0.7777777777777778,
             "#fb9f3a"
            ],
            [
             0.8888888888888888,
             "#fdca26"
            ],
            [
             1,
             "#f0f921"
            ]
           ],
           "sequentialminus": [
            [
             0,
             "#0d0887"
            ],
            [
             0.1111111111111111,
             "#46039f"
            ],
            [
             0.2222222222222222,
             "#7201a8"
            ],
            [
             0.3333333333333333,
             "#9c179e"
            ],
            [
             0.4444444444444444,
             "#bd3786"
            ],
            [
             0.5555555555555556,
             "#d8576b"
            ],
            [
             0.6666666666666666,
             "#ed7953"
            ],
            [
             0.7777777777777778,
             "#fb9f3a"
            ],
            [
             0.8888888888888888,
             "#fdca26"
            ],
            [
             1,
             "#f0f921"
            ]
           ]
          },
          "colorway": [
           "#636efa",
           "#EF553B",
           "#00cc96",
           "#ab63fa",
           "#FFA15A",
           "#19d3f3",
           "#FF6692",
           "#B6E880",
           "#FF97FF",
           "#FECB52"
          ],
          "font": {
           "color": "#2a3f5f"
          },
          "geo": {
           "bgcolor": "white",
           "lakecolor": "white",
           "landcolor": "#E5ECF6",
           "showlakes": true,
           "showland": true,
           "subunitcolor": "white"
          },
          "hoverlabel": {
           "align": "left"
          },
          "hovermode": "closest",
          "mapbox": {
           "style": "light"
          },
          "paper_bgcolor": "white",
          "plot_bgcolor": "#E5ECF6",
          "polar": {
           "angularaxis": {
            "gridcolor": "white",
            "linecolor": "white",
            "ticks": ""
           },
           "bgcolor": "#E5ECF6",
           "radialaxis": {
            "gridcolor": "white",
            "linecolor": "white",
            "ticks": ""
           }
          },
          "scene": {
           "xaxis": {
            "backgroundcolor": "#E5ECF6",
            "gridcolor": "white",
            "gridwidth": 2,
            "linecolor": "white",
            "showbackground": true,
            "ticks": "",
            "zerolinecolor": "white"
           },
           "yaxis": {
            "backgroundcolor": "#E5ECF6",
            "gridcolor": "white",
            "gridwidth": 2,
            "linecolor": "white",
            "showbackground": true,
            "ticks": "",
            "zerolinecolor": "white"
           },
           "zaxis": {
            "backgroundcolor": "#E5ECF6",
            "gridcolor": "white",
            "gridwidth": 2,
            "linecolor": "white",
            "showbackground": true,
            "ticks": "",
            "zerolinecolor": "white"
           }
          },
          "shapedefaults": {
           "line": {
            "color": "#2a3f5f"
           }
          },
          "ternary": {
           "aaxis": {
            "gridcolor": "white",
            "linecolor": "white",
            "ticks": ""
           },
           "baxis": {
            "gridcolor": "white",
            "linecolor": "white",
            "ticks": ""
           },
           "bgcolor": "#E5ECF6",
           "caxis": {
            "gridcolor": "white",
            "linecolor": "white",
            "ticks": ""
           }
          },
          "title": {
           "x": 0.05
          },
          "xaxis": {
           "automargin": true,
           "gridcolor": "white",
           "linecolor": "white",
           "ticks": "",
           "title": {
            "standoff": 15
           },
           "zerolinecolor": "white",
           "zerolinewidth": 2
          },
          "yaxis": {
           "automargin": true,
           "gridcolor": "white",
           "linecolor": "white",
           "ticks": "",
           "title": {
            "standoff": 15
           },
           "zerolinecolor": "white",
           "zerolinewidth": 2
          }
         }
        },
        "title": {
         "text": "PURL Namespace Creation (after 2009)"
        },
        "xaxis": {
         "anchor": "y",
         "autorange": true,
         "domain": [
          0,
          1
         ],
         "range": [
          2009.5,
          2021.5
         ],
         "title": {
          "text": "Year"
         },
         "type": "linear"
        },
        "yaxis": {
         "anchor": "x",
         "autorange": true,
         "domain": [
          0,
          1
         ],
         "range": [
          0,
          1091.578947368421
         ],
         "title": {
          "text": "Namespaces Created"
         },
         "type": "linear"
        }
       }
      },
      "image/png": "[encoded data removed]",
      "text/html": [
       "<div>                            <div id=\"b2a1318c-88b8-4e57-b72d-f9f22134bb47\" class=\"plotly-graph-div\" style=\"height:525px; width:100%;\"></div>            <script type=\"text/javascript\">                require([\"plotly\"], function(Plotly) {                    window.PLOTLYENV=window.PLOTLYENV || {};                                    if (document.getElementById(\"b2a1318c-88b8-4e57-b72d-f9f22134bb47\")) {                    Plotly.newPlot(                        \"b2a1318c-88b8-4e57-b72d-f9f22134bb47\",                        [{\"alignmentgroup\":\"True\",\"hovertemplate\":\"variable=created<br>Year=%{x}<br>Namespaces Created=%{y}<extra></extra>\",\"legendgroup\":\"created\",\"marker\":{\"color\":\"#636efa\",\"pattern\":{\"shape\":\"\"}},\"name\":\"created\",\"offsetgroup\":\"created\",\"orientation\":\"v\",\"showlegend\":true,\"textposition\":\"auto\",\"x\":[2010,2011,2012,2013,2014,2015,2016,2017,2018,2019,2020,2021],\"xaxis\":\"x\",\"y\":[271,267,197,220,135,9,380,983,852,641,981,1037],\"yaxis\":\"y\",\"type\":\"bar\"}],                        {\"template\":{\"data\":{\"bar\":[{\"error_x\":{\"color\":\"#2a3f5f\"},\"error_y\":{\"color\":\"#2a3f5f\"},\"marker\":{\"line\":{\"color\":\"#E5ECF6\",\"width\":0.5},\"pattern\":{\"fillmode\":\"overlay\",\"size\":10,\"solidity\":0.2}},\"type\":\"bar\"}],\"barpolar\":[{\"marker\":{\"line\":{\"color\":\"#E5ECF6\",\"width\":0.5},\"pattern\":{\"fillmode\":\"overlay\",\"size\":10,\"solidity\":0.2}},\"type\":\"barpolar\"}],\"carpet\":[{\"aaxis\":{\"endlinecolor\":\"#2a3f5f\",\"gridcolor\":\"white\",\"linecolor\":\"white\",\"minorgridcolor\":\"white\",\"startlinecolor\":\"#2a3f5f\"},\"baxis\":{\"endlinecolor\":\"#2a3f5f\",\"gridcolor\":\"white\",\"linecolor\":\"white\",\"minorgridcolor\":\"white\",\"startlinecolor\":\"#2a3f5f\"},\"type\":\"carpet\"}],\"choropleth\":[{\"colorbar\":{\"outlinewidth\":0,\"ticks\":\"\"},\"type\":\"choropleth\"}],\"contour\":[{\"colorbar\":{\"outlinewidth\":0,\"ticks\":\"\"},\"colorscale\":[[0.0,\"#0d0887\"],[0.1111111111111111,\"#46039f\"],[0.2222222222222222,\"#7201a8\"],[0.3333333333333333,\"#9c179e\"],[0.4444444444444444,\"#bd3786\"],[0.5555555555555556,\"#d8576b\"],[0.6666666666666666,\"#ed7953\"],[0.7777777777777778,\"#fb9f3a\"],[0.8888888888888888,\"#fdca26\"],[1.0,\"#f0f921\"]],\"type\":\"contour\"}],\"contourcarpet\":[{\"colorbar\":{\"outlinewidth\":0,\"ticks\":\"\"},\"type\":\"contourcarpet\"}],\"heatmap\":[{\"colorbar\":{\"outlinewidth\":0,\"ticks\":\"\"},\"colorscale\":[[0.0,\"#0d0887\"],[0.1111111111111111,\"#46039f\"],[0.2222222222222222,\"#7201a8\"],[0.3333333333333333,\"#9c179e\"],[0.4444444444444444,\"#bd3786\"],[0.5555555555555556,\"#d8576b\"],[0.6666666666666666,\"#ed7953\"],[0.7777777777777778,\"#fb9f3a\"],[0.8888888888888888,\"#fdca26\"],[1.0,\"#f0f921\"]],\"type\":\"heatmap\"}],\"heatmapgl\":[{\"colorbar\":{\"outlinewidth\":0,\"ticks\":\"\"},\"colorscale\":[[0.0,\"#0d0887\"],[0.1111111111111111,\"#46039f\"],[0.2222222222222222,\"#7201a8\"],[0.3333333333333333,\"#9c179e\"],[0.4444444444444444,\"#bd3786\"],[0.5555555555555556,\"#d8576b\"],[0.6666666666666666,\"#ed7953\"],[0.7777777777777778,\"#fb9f3a\"],[0.8888888888888888,\"#fdca26\"],[1.0,\"#f0f921\"]],\"type\":\"heatmapgl\"}],\"histogram\":[{\"marker\":{\"pattern\":{\"fillmode\":\"overlay\",\"size\":10,\"solidity\":0.2}},\"type\":\"histogram\"}],\"histogram2d\":[{\"colorbar\":{\"outlinewidth\":0,\"ticks\":\"\"},\"colorscale\":[[0.0,\"#0d0887\"],[0.1111111111111111,\"#46039f\"],[0.2222222222222222,\"#7201a8\"],[0.3333333333333333,\"#9c179e\"],[0.4444444444444444,\"#bd3786\"],[0.5555555555555556,\"#d8576b\"],[0.6666666666666666,\"#ed7953\"],[0.7777777777777778,\"#fb9f3a\"],[0.8888888888888888,\"#fdca26\"],[1.0,\"#f0f921\"]],\"type\":\"histogram2d\"}],\"histogram2dcontour\":[{\"colorbar\":{\"outlinewidth\":0,\"ticks\":\"\"},\"colorscale\":[[0.0,\"#0d0887\"],[0.1111111111111111,\"#46039f\"],[0.2222222222222222,\"#7201a8\"],[0.3333333333333333,\"#9c179e\"],[0.4444444444444444,\"#bd3786\"],[0.5555555555555556,\"#d8576b\"],[0.6666666666666666,\"#ed7953\"],[0.7777777777777778,\"#fb9f3a\"],[0.8888888888888888,\"#fdca26\"],[1.0,\"#f0f921\"]],\"type\":\"histogram2dcontour\"}],\"mesh3d\":[{\"colorbar\":{\"outlinewidth\":0,\"ticks\":\"\"},\"type\":\"mesh3d\"}],\"parcoords\":[{\"line\":{\"colorbar\":{\"outlinewidth\":0,\"ticks\":\"\"}},\"type\":\"parcoords\"}],\"pie\":[{\"automargin\":true,\"type\":\"pie\"}],\"scatter\":[{\"marker\":{\"colorbar\":{\"outlinewidth\":0,\"ticks\":\"\"}},\"type\":\"scatter\"}],\"scatter3d\":[{\"line\":{\"colorbar\":{\"outlinewidth\":0,\"ticks\":\"\"}},\"marker\":{\"colorbar\":{\"outlinewidth\":0,\"ticks\":\"\"}},\"type\":\"scatter3d\"}],\"scattercarpet\":[{\"marker\":{\"colorbar\":{\"outlinewidth\":0,\"ticks\":\"\"}},\"type\":\"scattercarpet\"}],\"scattergeo\":[{\"marker\":{\"colorbar\":{\"outlinewidth\":0,\"ticks\":\"\"}},\"type\":\"scattergeo\"}],\"scattergl\":[{\"marker\":{\"colorbar\":{\"outlinewidth\":0,\"ticks\":\"\"}},\"type\":\"scattergl\"}],\"scattermapbox\":[{\"marker\":{\"colorbar\":{\"outlinewidth\":0,\"ticks\":\"\"}},\"type\":\"scattermapbox\"}],\"scatterpolar\":[{\"marker\":{\"colorbar\":{\"outlinewidth\":0,\"ticks\":\"\"}},\"type\":\"scatterpolar\"}],\"scatterpolargl\":[{\"marker\":{\"colorbar\":{\"outlinewidth\":0,\"ticks\":\"\"}},\"type\":\"scatterpolargl\"}],\"scatterternary\":[{\"marker\":{\"colorbar\":{\"outlinewidth\":0,\"ticks\":\"\"}},\"type\":\"scatterternary\"}],\"surface\":[{\"colorbar\":{\"outlinewidth\":0,\"ticks\":\"\"},\"colorscale\":[[0.0,\"#0d0887\"],[0.1111111111111111,\"#46039f\"],[0.2222222222222222,\"#7201a8\"],[0.3333333333333333,\"#9c179e\"],[0.4444444444444444,\"#bd3786\"],[0.5555555555555556,\"#d8576b\"],[0.6666666666666666,\"#ed7953\"],[0.7777777777777778,\"#fb9f3a\"],[0.8888888888888888,\"#fdca26\"],[1.0,\"#f0f921\"]],\"type\":\"surface\"}],\"table\":[{\"cells\":{\"fill\":{\"color\":\"#EBF0F8\"},\"line\":{\"color\":\"white\"}},\"header\":{\"fill\":{\"color\":\"#C8D4E3\"},\"line\":{\"color\":\"white\"}},\"type\":\"table\"}]},\"layout\":{\"annotationdefaults\":{\"arrowcolor\":\"#2a3f5f\",\"arrowhead\":0,\"arrowwidth\":1},\"autotypenumbers\":\"strict\",\"coloraxis\":{\"colorbar\":{\"outlinewidth\":0,\"ticks\":\"\"}},\"colorscale\":{\"diverging\":[[0,\"#8e0152\"],[0.1,\"#c51b7d\"],[0.2,\"#de77ae\"],[0.3,\"#f1b6da\"],[0.4,\"#fde0ef\"],[0.5,\"#f7f7f7\"],[0.6,\"#e6f5d0\"],[0.7,\"#b8e186\"],[0.8,\"#7fbc41\"],[0.9,\"#4d9221\"],[1,\"#276419\"]],\"sequential\":[[0.0,\"#0d0887\"],[0.1111111111111111,\"#46039f\"],[0.2222222222222222,\"#7201a8\"],[0.3333333333333333,\"#9c179e\"],[0.4444444444444444,\"#bd3786\"],[0.5555555555555556,\"#d8576b\"],[0.6666666666666666,\"#ed7953\"],[0.7777777777777778,\"#fb9f3a\"],[0.8888888888888888,\"#fdca26\"],[1.0,\"#f0f921\"]],\"sequentialminus\":[[0.0,\"#0d0887\"],[0.1111111111111111,\"#46039f\"],[0.2222222222222222,\"#7201a8\"],[0.3333333333333333,\"#9c179e\"],[0.4444444444444444,\"#bd3786\"],[0.5555555555555556,\"#d8576b\"],[0.6666666666666666,\"#ed7953\"],[0.7777777777777778,\"#fb9f3a\"],[0.8888888888888888,\"#fdca26\"],[1.0,\"#f0f921\"]]},\"colorway\":[\"#636efa\",\"#EF553B\",\"#00cc96\",\"#ab63fa\",\"#FFA15A\",\"#19d3f3\",\"#FF6692\",\"#B6E880\",\"#FF97FF\",\"#FECB52\"],\"font\":{\"color\":\"#2a3f5f\"},\"geo\":{\"bgcolor\":\"white\",\"lakecolor\":\"white\",\"landcolor\":\"#E5ECF6\",\"showlakes\":true,\"showland\":true,\"subunitcolor\":\"white\"},\"hoverlabel\":{\"align\":\"left\"},\"hovermode\":\"closest\",\"mapbox\":{\"style\":\"light\"},\"paper_bgcolor\":\"white\",\"plot_bgcolor\":\"#E5ECF6\",\"polar\":{\"angularaxis\":{\"gridcolor\":\"white\",\"linecolor\":\"white\",\"ticks\":\"\"},\"bgcolor\":\"#E5ECF6\",\"radialaxis\":{\"gridcolor\":\"white\",\"linecolor\":\"white\",\"ticks\":\"\"}},\"scene\":{\"xaxis\":{\"backgroundcolor\":\"#E5ECF6\",\"gridcolor\":\"white\",\"gridwidth\":2,\"linecolor\":\"white\",\"showbackground\":true,\"ticks\":\"\",\"zerolinecolor\":\"white\"},\"yaxis\":{\"backgroundcolor\":\"#E5ECF6\",\"gridcolor\":\"white\",\"gridwidth\":2,\"linecolor\":\"white\",\"showbackground\":true,\"ticks\":\"\",\"zerolinecolor\":\"white\"},\"zaxis\":{\"backgroundcolor\":\"#E5ECF6\",\"gridcolor\":\"white\",\"gridwidth\":2,\"linecolor\":\"white\",\"showbackground\":true,\"ticks\":\"\",\"zerolinecolor\":\"white\"}},\"shapedefaults\":{\"line\":{\"color\":\"#2a3f5f\"}},\"ternary\":{\"aaxis\":{\"gridcolor\":\"white\",\"linecolor\":\"white\",\"ticks\":\"\"},\"baxis\":{\"gridcolor\":\"white\",\"linecolor\":\"white\",\"ticks\":\"\"},\"bgcolor\":\"#E5ECF6\",\"caxis\":{\"gridcolor\":\"white\",\"linecolor\":\"white\",\"ticks\":\"\"}},\"title\":{\"x\":0.05},\"xaxis\":{\"automargin\":true,\"gridcolor\":\"white\",\"linecolor\":\"white\",\"ticks\":\"\",\"title\":{\"standoff\":15},\"zerolinecolor\":\"white\",\"zerolinewidth\":2},\"yaxis\":{\"automargin\":true,\"gridcolor\":\"white\",\"linecolor\":\"white\",\"ticks\":\"\",\"title\":{\"standoff\":15},\"zerolinecolor\":\"white\",\"zerolinewidth\":2}}},\"xaxis\":{\"anchor\":\"y\",\"domain\":[0.0,1.0],\"title\":{\"text\":\"Year\"}},\"yaxis\":{\"anchor\":\"x\",\"domain\":[0.0,1.0],\"title\":{\"text\":\"Namespaces Created\"}},\"legend\":{\"title\":{\"text\":\"variable\"},\"tracegroupgap\":0},\"title\":{\"text\":\"PURL Namespace Creation (after 2009)\"},\"barmode\":\"relative\",\"showlegend\":false},                        {\"responsive\": true}                    ).then(function(){\n",
       "                            \n",
       "var gd = document.getElementById('b2a1318c-88b8-4e57-b72d-f9f22134bb47');\n",
       "var x = new MutationObserver(function (mutations, observer) {{\n",
       "        var display = window.getComputedStyle(gd).display;\n",
       "        if (!display || display === 'none') {{\n",
       "            console.log([gd, 'removed!']);\n",
       "            Plotly.purge(gd);\n",
       "            observer.disconnect();\n",
       "        }}\n",
       "}});\n",
       "\n",
       "// Listen for the removal of the full notebook cells\n",
       "var notebookContainer = gd.closest('#notebook-container');\n",
       "if (notebookContainer) {{\n",
       "    x.observe(notebookContainer, {childList: true});\n",
       "}}\n",
       "\n",
       "// Listen for the clearing of the current output cell\n",
       "var outputEl = gd.closest('.output');\n",
       "if (outputEl) {{\n",
       "    x.observe(outputEl, {childList: true});\n",
       "}}\n",
       "\n",
       "                        })                };                });            </script>        </div>"
      ]
     },
     "metadata": {},
     "output_type": "display_data"
    }
   ],
   "source": [
    "fig = xp.bar(counts[counts.index > 2009], labels={'value': 'Namespaces Created', 'index': 'Year'}, title='PURL Namespace Creation (after 2009)')\n",
    "fig.layout.update(showlegend=False)\n",
    "fig"
   ]
  },
  {
   "cell_type": "markdown",
   "metadata": {},
   "source": [
    "What were some of the namespaces that were created this year?"
   ]
  },
  {
   "cell_type": "code",
   "execution_count": 9,
   "metadata": {},
   "outputs": [
    {
     "data": {
      "text/html": [
       "<div>\n",
       "<style scoped>\n",
       "    .dataframe tbody tr th:only-of-type {\n",
       "        vertical-align: middle;\n",
       "    }\n",
       "\n",
       "    .dataframe tbody tr th {\n",
       "        vertical-align: top;\n",
       "    }\n",
       "\n",
       "    .dataframe thead th {\n",
       "        text-align: right;\n",
       "    }\n",
       "</style>\n",
       "<table border=\"1\" class=\"dataframe\">\n",
       "  <thead>\n",
       "    <tr style=\"text-align: right;\">\n",
       "      <th></th>\n",
       "      <th>name</th>\n",
       "      <th>created</th>\n",
       "      <th>purls</th>\n",
       "      <th>maintainer.fullname</th>\n",
       "      <th>maintainer.email</th>\n",
       "      <th>maintainer.affiliation</th>\n",
       "      <th>maintainer.userid</th>\n",
       "      <th>maintainer</th>\n",
       "    </tr>\n",
       "  </thead>\n",
       "  <tbody>\n",
       "    <tr>\n",
       "      <th>6</th>\n",
       "      <td>/cube</td>\n",
       "      <td>2021-11-10 19:59:43</td>\n",
       "      <td>NaN</td>\n",
       "      <td>NaN</td>\n",
       "      <td>NaN</td>\n",
       "      <td>NaN</td>\n",
       "      <td>NaN</td>\n",
       "      <td>NaN</td>\n",
       "    </tr>\n",
       "    <tr>\n",
       "      <th>13</th>\n",
       "      <td>/mhk</td>\n",
       "      <td>2021-04-20 11:44:26</td>\n",
       "      <td>[{'type': '302', 'name': '/mhk/1', 'modified':...</td>\n",
       "      <td>NaN</td>\n",
       "      <td>NaN</td>\n",
       "      <td>NaN</td>\n",
       "      <td>NaN</td>\n",
       "      <td>NaN</td>\n",
       "    </tr>\n",
       "    <tr>\n",
       "      <th>42</th>\n",
       "      <td>/spc93/test1</td>\n",
       "      <td>2021-04-29 09:33:46</td>\n",
       "      <td>[{'created': '2021-04-29 09:55:40', 'target': ...</td>\n",
       "      <td>NaN</td>\n",
       "      <td>NaN</td>\n",
       "      <td>NaN</td>\n",
       "      <td>NaN</td>\n",
       "      <td>NaN</td>\n",
       "    </tr>\n",
       "    <tr>\n",
       "      <th>72</th>\n",
       "      <td>/orphanetws/mapping/from/orphanet</td>\n",
       "      <td>2021-04-28 14:24:10</td>\n",
       "      <td>[{'target': 'http://155.133.131.171:8080/Mappi...</td>\n",
       "      <td>NaN</td>\n",
       "      <td>NaN</td>\n",
       "      <td>NaN</td>\n",
       "      <td>NaN</td>\n",
       "      <td>NaN</td>\n",
       "    </tr>\n",
       "    <tr>\n",
       "      <th>78</th>\n",
       "      <td>/sampling_ontology</td>\n",
       "      <td>2021-12-02 16:37:18</td>\n",
       "      <td>NaN</td>\n",
       "      <td>NaN</td>\n",
       "      <td>NaN</td>\n",
       "      <td>NaN</td>\n",
       "      <td>NaN</td>\n",
       "      <td>NaN</td>\n",
       "    </tr>\n",
       "    <tr>\n",
       "      <th>...</th>\n",
       "      <td>...</td>\n",
       "      <td>...</td>\n",
       "      <td>...</td>\n",
       "      <td>...</td>\n",
       "      <td>...</td>\n",
       "      <td>...</td>\n",
       "      <td>...</td>\n",
       "      <td>...</td>\n",
       "    </tr>\n",
       "    <tr>\n",
       "      <th>21814</th>\n",
       "      <td>/schwigri/2019/tokyo-tech/report/en</td>\n",
       "      <td>2021-11-05 00:37:02</td>\n",
       "      <td>[{'name': '/schwigri/2019/tokyo-tech/report/en...</td>\n",
       "      <td>NaN</td>\n",
       "      <td>NaN</td>\n",
       "      <td>NaN</td>\n",
       "      <td>NaN</td>\n",
       "      <td>NaN</td>\n",
       "    </tr>\n",
       "    <tr>\n",
       "      <th>21823</th>\n",
       "      <td>/m4m</td>\n",
       "      <td>2021-08-23 13:01:16</td>\n",
       "      <td>[{'name': '/m4m', 'type': '302', 'target': 'ht...</td>\n",
       "      <td>NaN</td>\n",
       "      <td>NaN</td>\n",
       "      <td>NaN</td>\n",
       "      <td>NaN</td>\n",
       "      <td>NaN</td>\n",
       "    </tr>\n",
       "    <tr>\n",
       "      <th>21854</th>\n",
       "      <td>/lmjxt</td>\n",
       "      <td>2021-03-27 12:06:36</td>\n",
       "      <td>[{'domain': '/lmjxt', 'type': '302', 'name': '...</td>\n",
       "      <td>NaN</td>\n",
       "      <td>NaN</td>\n",
       "      <td>NaN</td>\n",
       "      <td>NaN</td>\n",
       "      <td>NaN</td>\n",
       "    </tr>\n",
       "    <tr>\n",
       "      <th>21872</th>\n",
       "      <td>/waerwadcz</td>\n",
       "      <td>2021-11-17 18:28:28</td>\n",
       "      <td>NaN</td>\n",
       "      <td>NaN</td>\n",
       "      <td>NaN</td>\n",
       "      <td>NaN</td>\n",
       "      <td>NaN</td>\n",
       "      <td>NaN</td>\n",
       "    </tr>\n",
       "    <tr>\n",
       "      <th>21881</th>\n",
       "      <td>/Cam1</td>\n",
       "      <td>2021-08-24 23:57:25</td>\n",
       "      <td>[{'name': '/Cam1', 'type': '302', 'target': 'h...</td>\n",
       "      <td>NaN</td>\n",
       "      <td>NaN</td>\n",
       "      <td>NaN</td>\n",
       "      <td>NaN</td>\n",
       "      <td>NaN</td>\n",
       "    </tr>\n",
       "  </tbody>\n",
       "</table>\n",
       "<p>1037 rows × 8 columns</p>\n",
       "</div>"
      ],
      "text/plain": [
       "                                      name             created  \\\n",
       "6                                    /cube 2021-11-10 19:59:43   \n",
       "13                                    /mhk 2021-04-20 11:44:26   \n",
       "42                            /spc93/test1 2021-04-29 09:33:46   \n",
       "72       /orphanetws/mapping/from/orphanet 2021-04-28 14:24:10   \n",
       "78                      /sampling_ontology 2021-12-02 16:37:18   \n",
       "...                                    ...                 ...   \n",
       "21814  /schwigri/2019/tokyo-tech/report/en 2021-11-05 00:37:02   \n",
       "21823                                 /m4m 2021-08-23 13:01:16   \n",
       "21854                               /lmjxt 2021-03-27 12:06:36   \n",
       "21872                           /waerwadcz 2021-11-17 18:28:28   \n",
       "21881                                /Cam1 2021-08-24 23:57:25   \n",
       "\n",
       "                                                   purls maintainer.fullname  \\\n",
       "6                                                    NaN                 NaN   \n",
       "13     [{'type': '302', 'name': '/mhk/1', 'modified':...                 NaN   \n",
       "42     [{'created': '2021-04-29 09:55:40', 'target': ...                 NaN   \n",
       "72     [{'target': 'http://155.133.131.171:8080/Mappi...                 NaN   \n",
       "78                                                   NaN                 NaN   \n",
       "...                                                  ...                 ...   \n",
       "21814  [{'name': '/schwigri/2019/tokyo-tech/report/en...                 NaN   \n",
       "21823  [{'name': '/m4m', 'type': '302', 'target': 'ht...                 NaN   \n",
       "21854  [{'domain': '/lmjxt', 'type': '302', 'name': '...                 NaN   \n",
       "21872                                                NaN                 NaN   \n",
       "21881  [{'name': '/Cam1', 'type': '302', 'target': 'h...                 NaN   \n",
       "\n",
       "      maintainer.email maintainer.affiliation maintainer.userid  maintainer  \n",
       "6                  NaN                    NaN               NaN         NaN  \n",
       "13                 NaN                    NaN               NaN         NaN  \n",
       "42                 NaN                    NaN               NaN         NaN  \n",
       "72                 NaN                    NaN               NaN         NaN  \n",
       "78                 NaN                    NaN               NaN         NaN  \n",
       "...                ...                    ...               ...         ...  \n",
       "21814              NaN                    NaN               NaN         NaN  \n",
       "21823              NaN                    NaN               NaN         NaN  \n",
       "21854              NaN                    NaN               NaN         NaN  \n",
       "21872              NaN                    NaN               NaN         NaN  \n",
       "21881              NaN                    NaN               NaN         NaN  \n",
       "\n",
       "[1037 rows x 8 columns]"
      ]
     },
     "execution_count": 9,
     "metadata": {},
     "output_type": "execute_result"
    }
   ],
   "source": [
    "purl2021 = df[df['created'].dt.year == 2021]\n",
    "purl2021.to_csv('data/purls2021.csv', index=False)\n",
    "purl2021"
   ]
  },
  {
   "cell_type": "markdown",
   "metadata": {},
   "source": [
    "## Namespace Updates\n",
    "\n",
    "Similarly it's possible to use the history file (if it's present) to see how much namespaces are being updated. Note I ran across a few examples of invalid JSON so it's important to guard against those, for example:\n",
    "\n",
    "https://ia801206.us.archive.org/20/items/purl_.fp/purl_.fp_purl_history.json\n",
    "\n",
    "This generator will return a simpler dictionary of names and edit datetime.\n"
   ]
  },
  {
   "cell_type": "code",
   "execution_count": 85,
   "metadata": {},
   "outputs": [
    {
     "data": {
      "text/plain": [
       "{'ns': '/umarchives/mum00516',\n",
       " 'name': 'University of Mississippi',\n",
       " 'update': '2009-07-23 00:10:01'}"
      ]
     },
     "execution_count": 85,
     "metadata": {},
     "output_type": "execute_result"
    }
   ],
   "source": [
    "def purls_updates():\n",
    "    data = pathlib.Path('data/purl')\n",
    "    for ns_dir in data.iterdir():\n",
    "        ns = ns_dir.name\n",
    "        metadata_file = ns_dir / f\"{ns}_purl.json\"\n",
    "        history_file = ns_dir / f\"{ns}_purl_history.json\"\n",
    "        if metadata_file.is_file() and history_file.is_file():\n",
    "            try:\n",
    "                meta = json.load(metadata_file.open())\n",
    "                maintainer = meta['maintainer']['affiliation'] if 'maintainer' in meta else '???' \n",
    "                history = json.load(history_file.open())\n",
    "                for edit in history['history']:\n",
    "                    yield {'ns': meta['name'], 'name': maintainer, 'update': edit['modtime']}\n",
    "            except Exception as e:\n",
    "                print(f'Error when processing {ns}: {e}')\n",
    "                break\n",
    "        \n",
    "next(purls_updates())"
   ]
  },
  {
   "cell_type": "markdown",
   "metadata": {},
   "source": [
    "And we can recreate our DataFrame with the new `last_update` column."
   ]
  },
  {
   "cell_type": "code",
   "execution_count": 86,
   "metadata": {},
   "outputs": [
    {
     "name": "stdout",
     "output_type": "stream",
     "text": [
      "Error when processing purl_tod_test: 'NoneType' object is not subscriptable\n"
     ]
    },
    {
     "data": {
      "text/html": [
       "<div>\n",
       "<style scoped>\n",
       "    .dataframe tbody tr th:only-of-type {\n",
       "        vertical-align: middle;\n",
       "    }\n",
       "\n",
       "    .dataframe tbody tr th {\n",
       "        vertical-align: top;\n",
       "    }\n",
       "\n",
       "    .dataframe thead th {\n",
       "        text-align: right;\n",
       "    }\n",
       "</style>\n",
       "<table border=\"1\" class=\"dataframe\">\n",
       "  <thead>\n",
       "    <tr style=\"text-align: right;\">\n",
       "      <th></th>\n",
       "      <th>ns</th>\n",
       "      <th>name</th>\n",
       "      <th>update</th>\n",
       "    </tr>\n",
       "  </thead>\n",
       "  <tbody>\n",
       "    <tr>\n",
       "      <th>0</th>\n",
       "      <td>/umarchives/mum00516</td>\n",
       "      <td>University of Mississippi</td>\n",
       "      <td>2009-07-23 00:10:01</td>\n",
       "    </tr>\n",
       "    <tr>\n",
       "      <th>1</th>\n",
       "      <td>/umarchives/mum00516</td>\n",
       "      <td>University of Mississippi</td>\n",
       "      <td>2009-11-04 10:08:07</td>\n",
       "    </tr>\n",
       "    <tr>\n",
       "      <th>2</th>\n",
       "      <td>/oclc/rspd</td>\n",
       "      <td>OCLC, Office of Research</td>\n",
       "      <td>2009-07-22 23:10:49</td>\n",
       "    </tr>\n",
       "    <tr>\n",
       "      <th>3</th>\n",
       "      <td>/net/gandalf</td>\n",
       "      <td></td>\n",
       "      <td>2009-07-22 22:55:06</td>\n",
       "    </tr>\n",
       "    <tr>\n",
       "      <th>4</th>\n",
       "      <td>/net/macquigg</td>\n",
       "      <td></td>\n",
       "      <td>2009-07-23 01:28:25</td>\n",
       "    </tr>\n",
       "    <tr>\n",
       "      <th>...</th>\n",
       "      <td>...</td>\n",
       "      <td>...</td>\n",
       "      <td>...</td>\n",
       "    </tr>\n",
       "    <tr>\n",
       "      <th>395609</th>\n",
       "      <td>/tuisp/online</td>\n",
       "      <td></td>\n",
       "      <td>2009-07-22 22:34:18</td>\n",
       "    </tr>\n",
       "    <tr>\n",
       "      <th>395610</th>\n",
       "      <td>/net/apas</td>\n",
       "      <td>Erisian Coop</td>\n",
       "      <td>2009-07-22 18:40:02</td>\n",
       "    </tr>\n",
       "    <tr>\n",
       "      <th>395611</th>\n",
       "      <td>/oclc/oluc/42917920</td>\n",
       "      <td>PURL Server</td>\n",
       "      <td>2009-07-23 03:09:25</td>\n",
       "    </tr>\n",
       "    <tr>\n",
       "      <th>395612</th>\n",
       "      <td>/oclc/oluc/43189125</td>\n",
       "      <td>PURL Server</td>\n",
       "      <td>2009-07-22 21:38:21</td>\n",
       "    </tr>\n",
       "    <tr>\n",
       "      <th>395613</th>\n",
       "      <td>/oclc/oluc/43053170</td>\n",
       "      <td>PURL Server</td>\n",
       "      <td>2009-07-22 22:39:48</td>\n",
       "    </tr>\n",
       "  </tbody>\n",
       "</table>\n",
       "<p>395614 rows × 3 columns</p>\n",
       "</div>"
      ],
      "text/plain": [
       "                          ns                       name              update\n",
       "0       /umarchives/mum00516  University of Mississippi 2009-07-23 00:10:01\n",
       "1       /umarchives/mum00516  University of Mississippi 2009-11-04 10:08:07\n",
       "2                 /oclc/rspd   OCLC, Office of Research 2009-07-22 23:10:49\n",
       "3               /net/gandalf                            2009-07-22 22:55:06\n",
       "4              /net/macquigg                            2009-07-23 01:28:25\n",
       "...                      ...                        ...                 ...\n",
       "395609         /tuisp/online                            2009-07-22 22:34:18\n",
       "395610             /net/apas               Erisian Coop 2009-07-22 18:40:02\n",
       "395611   /oclc/oluc/42917920                PURL Server 2009-07-23 03:09:25\n",
       "395612   /oclc/oluc/43189125                PURL Server 2009-07-22 21:38:21\n",
       "395613   /oclc/oluc/43053170                PURL Server 2009-07-22 22:39:48\n",
       "\n",
       "[395614 rows x 3 columns]"
      ]
     },
     "execution_count": 86,
     "metadata": {},
     "output_type": "execute_result"
    }
   ],
   "source": [
    "df2 = pandas.json_normalize(purls_updates())\n",
    "df2['update'] = pandas.to_datetime(df2['update'])\n",
    "df2"
   ]
  },
  {
   "cell_type": "code",
   "execution_count": 88,
   "metadata": {},
   "outputs": [
    {
     "data": {
      "text/plain": [
       "update\n",
       "2009    182174\n",
       "2010      4032\n",
       "2011     63736\n",
       "2012     49756\n",
       "2013     29650\n",
       "2014     26950\n",
       "2015     26503\n",
       "2016      5334\n",
       "2017      2328\n",
       "2018      1390\n",
       "2019      1171\n",
       "2020      1230\n",
       "2021      1360\n",
       "Name: update, dtype: int64"
      ]
     },
     "execution_count": 88,
     "metadata": {},
     "output_type": "execute_result"
    }
   ],
   "source": [
    "updates = df2['update'].groupby(by=[df2['update'].dt.year]).count()\n",
    "updates"
   ]
  },
  {
   "cell_type": "markdown",
   "metadata": {},
   "source": [
    "Again it looks like there were a bunch of updates given a date at the start of some kind of migration. So lets ignore those:"
   ]
  },
  {
   "cell_type": "code",
   "execution_count": 84,
   "metadata": {},
   "outputs": [
    {
     "data": {
      "application/vnd.plotly.v1+json": {
       "config": {
        "plotlyServerURL": "https://plot.ly"
       },
       "data": [
        {
         "alignmentgroup": "True",
         "hovertemplate": "variable=update<br>Year=%{x}<br>Namespaces Updated=%{y}<extra></extra>",
         "legendgroup": "update",
         "marker": {
          "color": "#636efa",
          "pattern": {
           "shape": ""
          }
         },
         "name": "update",
         "offsetgroup": "update",
         "orientation": "v",
         "showlegend": true,
         "textposition": "auto",
         "type": "bar",
         "x": [
          2010,
          2011,
          2012,
          2013,
          2014,
          2015,
          2016,
          2017,
          2018,
          2019,
          2020,
          2021
         ],
         "xaxis": "x",
         "y": [
          4032,
          63736,
          49756,
          29650,
          26950,
          26503,
          5334,
          2328,
          1390,
          1171,
          1230,
          1360
         ],
         "yaxis": "y"
        }
       ],
       "layout": {
        "autosize": true,
        "barmode": "relative",
        "legend": {
         "title": {
          "text": "variable"
         },
         "tracegroupgap": 0
        },
        "showlegend": false,
        "template": {
         "data": {
          "bar": [
           {
            "error_x": {
             "color": "#2a3f5f"
            },
            "error_y": {
             "color": "#2a3f5f"
            },
            "marker": {
             "line": {
              "color": "#E5ECF6",
              "width": 0.5
             },
             "pattern": {
              "fillmode": "overlay",
              "size": 10,
              "solidity": 0.2
             }
            },
            "type": "bar"
           }
          ],
          "barpolar": [
           {
            "marker": {
             "line": {
              "color": "#E5ECF6",
              "width": 0.5
             },
             "pattern": {
              "fillmode": "overlay",
              "size": 10,
              "solidity": 0.2
             }
            },
            "type": "barpolar"
           }
          ],
          "carpet": [
           {
            "aaxis": {
             "endlinecolor": "#2a3f5f",
             "gridcolor": "white",
             "linecolor": "white",
             "minorgridcolor": "white",
             "startlinecolor": "#2a3f5f"
            },
            "baxis": {
             "endlinecolor": "#2a3f5f",
             "gridcolor": "white",
             "linecolor": "white",
             "minorgridcolor": "white",
             "startlinecolor": "#2a3f5f"
            },
            "type": "carpet"
           }
          ],
          "choropleth": [
           {
            "colorbar": {
             "outlinewidth": 0,
             "ticks": ""
            },
            "type": "choropleth"
           }
          ],
          "contour": [
           {
            "colorbar": {
             "outlinewidth": 0,
             "ticks": ""
            },
            "colorscale": [
             [
              0,
              "#0d0887"
             ],
             [
              0.1111111111111111,
              "#46039f"
             ],
             [
              0.2222222222222222,
              "#7201a8"
             ],
             [
              0.3333333333333333,
              "#9c179e"
             ],
             [
              0.4444444444444444,
              "#bd3786"
             ],
             [
              0.5555555555555556,
              "#d8576b"
             ],
             [
              0.6666666666666666,
              "#ed7953"
             ],
             [
              0.7777777777777778,
              "#fb9f3a"
             ],
             [
              0.8888888888888888,
              "#fdca26"
             ],
             [
              1,
              "#f0f921"
             ]
            ],
            "type": "contour"
           }
          ],
          "contourcarpet": [
           {
            "colorbar": {
             "outlinewidth": 0,
             "ticks": ""
            },
            "type": "contourcarpet"
           }
          ],
          "heatmap": [
           {
            "colorbar": {
             "outlinewidth": 0,
             "ticks": ""
            },
            "colorscale": [
             [
              0,
              "#0d0887"
             ],
             [
              0.1111111111111111,
              "#46039f"
             ],
             [
              0.2222222222222222,
              "#7201a8"
             ],
             [
              0.3333333333333333,
              "#9c179e"
             ],
             [
              0.4444444444444444,
              "#bd3786"
             ],
             [
              0.5555555555555556,
              "#d8576b"
             ],
             [
              0.6666666666666666,
              "#ed7953"
             ],
             [
              0.7777777777777778,
              "#fb9f3a"
             ],
             [
              0.8888888888888888,
              "#fdca26"
             ],
             [
              1,
              "#f0f921"
             ]
            ],
            "type": "heatmap"
           }
          ],
          "heatmapgl": [
           {
            "colorbar": {
             "outlinewidth": 0,
             "ticks": ""
            },
            "colorscale": [
             [
              0,
              "#0d0887"
             ],
             [
              0.1111111111111111,
              "#46039f"
             ],
             [
              0.2222222222222222,
              "#7201a8"
             ],
             [
              0.3333333333333333,
              "#9c179e"
             ],
             [
              0.4444444444444444,
              "#bd3786"
             ],
             [
              0.5555555555555556,
              "#d8576b"
             ],
             [
              0.6666666666666666,
              "#ed7953"
             ],
             [
              0.7777777777777778,
              "#fb9f3a"
             ],
             [
              0.8888888888888888,
              "#fdca26"
             ],
             [
              1,
              "#f0f921"
             ]
            ],
            "type": "heatmapgl"
           }
          ],
          "histogram": [
           {
            "marker": {
             "pattern": {
              "fillmode": "overlay",
              "size": 10,
              "solidity": 0.2
             }
            },
            "type": "histogram"
           }
          ],
          "histogram2d": [
           {
            "colorbar": {
             "outlinewidth": 0,
             "ticks": ""
            },
            "colorscale": [
             [
              0,
              "#0d0887"
             ],
             [
              0.1111111111111111,
              "#46039f"
             ],
             [
              0.2222222222222222,
              "#7201a8"
             ],
             [
              0.3333333333333333,
              "#9c179e"
             ],
             [
              0.4444444444444444,
              "#bd3786"
             ],
             [
              0.5555555555555556,
              "#d8576b"
             ],
             [
              0.6666666666666666,
              "#ed7953"
             ],
             [
              0.7777777777777778,
              "#fb9f3a"
             ],
             [
              0.8888888888888888,
              "#fdca26"
             ],
             [
              1,
              "#f0f921"
             ]
            ],
            "type": "histogram2d"
           }
          ],
          "histogram2dcontour": [
           {
            "colorbar": {
             "outlinewidth": 0,
             "ticks": ""
            },
            "colorscale": [
             [
              0,
              "#0d0887"
             ],
             [
              0.1111111111111111,
              "#46039f"
             ],
             [
              0.2222222222222222,
              "#7201a8"
             ],
             [
              0.3333333333333333,
              "#9c179e"
             ],
             [
              0.4444444444444444,
              "#bd3786"
             ],
             [
              0.5555555555555556,
              "#d8576b"
             ],
             [
              0.6666666666666666,
              "#ed7953"
             ],
             [
              0.7777777777777778,
              "#fb9f3a"
             ],
             [
              0.8888888888888888,
              "#fdca26"
             ],
             [
              1,
              "#f0f921"
             ]
            ],
            "type": "histogram2dcontour"
           }
          ],
          "mesh3d": [
           {
            "colorbar": {
             "outlinewidth": 0,
             "ticks": ""
            },
            "type": "mesh3d"
           }
          ],
          "parcoords": [
           {
            "line": {
             "colorbar": {
              "outlinewidth": 0,
              "ticks": ""
             }
            },
            "type": "parcoords"
           }
          ],
          "pie": [
           {
            "automargin": true,
            "type": "pie"
           }
          ],
          "scatter": [
           {
            "marker": {
             "colorbar": {
              "outlinewidth": 0,
              "ticks": ""
             }
            },
            "type": "scatter"
           }
          ],
          "scatter3d": [
           {
            "line": {
             "colorbar": {
              "outlinewidth": 0,
              "ticks": ""
             }
            },
            "marker": {
             "colorbar": {
              "outlinewidth": 0,
              "ticks": ""
             }
            },
            "type": "scatter3d"
           }
          ],
          "scattercarpet": [
           {
            "marker": {
             "colorbar": {
              "outlinewidth": 0,
              "ticks": ""
             }
            },
            "type": "scattercarpet"
           }
          ],
          "scattergeo": [
           {
            "marker": {
             "colorbar": {
              "outlinewidth": 0,
              "ticks": ""
             }
            },
            "type": "scattergeo"
           }
          ],
          "scattergl": [
           {
            "marker": {
             "colorbar": {
              "outlinewidth": 0,
              "ticks": ""
             }
            },
            "type": "scattergl"
           }
          ],
          "scattermapbox": [
           {
            "marker": {
             "colorbar": {
              "outlinewidth": 0,
              "ticks": ""
             }
            },
            "type": "scattermapbox"
           }
          ],
          "scatterpolar": [
           {
            "marker": {
             "colorbar": {
              "outlinewidth": 0,
              "ticks": ""
             }
            },
            "type": "scatterpolar"
           }
          ],
          "scatterpolargl": [
           {
            "marker": {
             "colorbar": {
              "outlinewidth": 0,
              "ticks": ""
             }
            },
            "type": "scatterpolargl"
           }
          ],
          "scatterternary": [
           {
            "marker": {
             "colorbar": {
              "outlinewidth": 0,
              "ticks": ""
             }
            },
            "type": "scatterternary"
           }
          ],
          "surface": [
           {
            "colorbar": {
             "outlinewidth": 0,
             "ticks": ""
            },
            "colorscale": [
             [
              0,
              "#0d0887"
             ],
             [
              0.1111111111111111,
              "#46039f"
             ],
             [
              0.2222222222222222,
              "#7201a8"
             ],
             [
              0.3333333333333333,
              "#9c179e"
             ],
             [
              0.4444444444444444,
              "#bd3786"
             ],
             [
              0.5555555555555556,
              "#d8576b"
             ],
             [
              0.6666666666666666,
              "#ed7953"
             ],
             [
              0.7777777777777778,
              "#fb9f3a"
             ],
             [
              0.8888888888888888,
              "#fdca26"
             ],
             [
              1,
              "#f0f921"
             ]
            ],
            "type": "surface"
           }
          ],
          "table": [
           {
            "cells": {
             "fill": {
              "color": "#EBF0F8"
             },
             "line": {
              "color": "white"
             }
            },
            "header": {
             "fill": {
              "color": "#C8D4E3"
             },
             "line": {
              "color": "white"
             }
            },
            "type": "table"
           }
          ]
         },
         "layout": {
          "annotationdefaults": {
           "arrowcolor": "#2a3f5f",
           "arrowhead": 0,
           "arrowwidth": 1
          },
          "autotypenumbers": "strict",
          "coloraxis": {
           "colorbar": {
            "outlinewidth": 0,
            "ticks": ""
           }
          },
          "colorscale": {
           "diverging": [
            [
             0,
             "#8e0152"
            ],
            [
             0.1,
             "#c51b7d"
            ],
            [
             0.2,
             "#de77ae"
            ],
            [
             0.3,
             "#f1b6da"
            ],
            [
             0.4,
             "#fde0ef"
            ],
            [
             0.5,
             "#f7f7f7"
            ],
            [
             0.6,
             "#e6f5d0"
            ],
            [
             0.7,
             "#b8e186"
            ],
            [
             0.8,
             "#7fbc41"
            ],
            [
             0.9,
             "#4d9221"
            ],
            [
             1,
             "#276419"
            ]
           ],
           "sequential": [
            [
             0,
             "#0d0887"
            ],
            [
             0.1111111111111111,
             "#46039f"
            ],
            [
             0.2222222222222222,
             "#7201a8"
            ],
            [
             0.3333333333333333,
             "#9c179e"
            ],
            [
             0.4444444444444444,
             "#bd3786"
            ],
            [
             0.5555555555555556,
             "#d8576b"
            ],
            [
             0.6666666666666666,
             "#ed7953"
            ],
            [
             0.7777777777777778,
             "#fb9f3a"
            ],
            [
             0.8888888888888888,
             "#fdca26"
            ],
            [
             1,
             "#f0f921"
            ]
           ],
           "sequentialminus": [
            [
             0,
             "#0d0887"
            ],
            [
             0.1111111111111111,
             "#46039f"
            ],
            [
             0.2222222222222222,
             "#7201a8"
            ],
            [
             0.3333333333333333,
             "#9c179e"
            ],
            [
             0.4444444444444444,
             "#bd3786"
            ],
            [
             0.5555555555555556,
             "#d8576b"
            ],
            [
             0.6666666666666666,
             "#ed7953"
            ],
            [
             0.7777777777777778,
             "#fb9f3a"
            ],
            [
             0.8888888888888888,
             "#fdca26"
            ],
            [
             1,
             "#f0f921"
            ]
           ]
          },
          "colorway": [
           "#636efa",
           "#EF553B",
           "#00cc96",
           "#ab63fa",
           "#FFA15A",
           "#19d3f3",
           "#FF6692",
           "#B6E880",
           "#FF97FF",
           "#FECB52"
          ],
          "font": {
           "color": "#2a3f5f"
          },
          "geo": {
           "bgcolor": "white",
           "lakecolor": "white",
           "landcolor": "#E5ECF6",
           "showlakes": true,
           "showland": true,
           "subunitcolor": "white"
          },
          "hoverlabel": {
           "align": "left"
          },
          "hovermode": "closest",
          "mapbox": {
           "style": "light"
          },
          "paper_bgcolor": "white",
          "plot_bgcolor": "#E5ECF6",
          "polar": {
           "angularaxis": {
            "gridcolor": "white",
            "linecolor": "white",
            "ticks": ""
           },
           "bgcolor": "#E5ECF6",
           "radialaxis": {
            "gridcolor": "white",
            "linecolor": "white",
            "ticks": ""
           }
          },
          "scene": {
           "xaxis": {
            "backgroundcolor": "#E5ECF6",
            "gridcolor": "white",
            "gridwidth": 2,
            "linecolor": "white",
            "showbackground": true,
            "ticks": "",
            "zerolinecolor": "white"
           },
           "yaxis": {
            "backgroundcolor": "#E5ECF6",
            "gridcolor": "white",
            "gridwidth": 2,
            "linecolor": "white",
            "showbackground": true,
            "ticks": "",
            "zerolinecolor": "white"
           },
           "zaxis": {
            "backgroundcolor": "#E5ECF6",
            "gridcolor": "white",
            "gridwidth": 2,
            "linecolor": "white",
            "showbackground": true,
            "ticks": "",
            "zerolinecolor": "white"
           }
          },
          "shapedefaults": {
           "line": {
            "color": "#2a3f5f"
           }
          },
          "ternary": {
           "aaxis": {
            "gridcolor": "white",
            "linecolor": "white",
            "ticks": ""
           },
           "baxis": {
            "gridcolor": "white",
            "linecolor": "white",
            "ticks": ""
           },
           "bgcolor": "#E5ECF6",
           "caxis": {
            "gridcolor": "white",
            "linecolor": "white",
            "ticks": ""
           }
          },
          "title": {
           "x": 0.05
          },
          "xaxis": {
           "automargin": true,
           "gridcolor": "white",
           "linecolor": "white",
           "ticks": "",
           "title": {
            "standoff": 15
           },
           "zerolinecolor": "white",
           "zerolinewidth": 2
          },
          "yaxis": {
           "automargin": true,
           "gridcolor": "white",
           "linecolor": "white",
           "ticks": "",
           "title": {
            "standoff": 15
           },
           "zerolinecolor": "white",
           "zerolinewidth": 2
          }
         }
        },
        "title": {
         "text": "PURL Namespace Updates (after 2009)"
        },
        "xaxis": {
         "anchor": "y",
         "autorange": true,
         "domain": [
          0,
          1
         ],
         "range": [
          2009.5,
          2021.5
         ],
         "title": {
          "text": "Year"
         },
         "type": "linear"
        },
        "yaxis": {
         "anchor": "x",
         "autorange": true,
         "domain": [
          0,
          1
         ],
         "range": [
          0,
          67090.52631578948
         ],
         "title": {
          "text": "Namespaces Updated"
         },
         "type": "linear"
        }
       }
      },
      "image/png": "[encoded data removed]",
      "text/html": [
       "<div>                            <div id=\"b8dd200d-c7dc-401f-9d58-e4650d61eb33\" class=\"plotly-graph-div\" style=\"height:525px; width:100%;\"></div>            <script type=\"text/javascript\">                require([\"plotly\"], function(Plotly) {                    window.PLOTLYENV=window.PLOTLYENV || {};                                    if (document.getElementById(\"b8dd200d-c7dc-401f-9d58-e4650d61eb33\")) {                    Plotly.newPlot(                        \"b8dd200d-c7dc-401f-9d58-e4650d61eb33\",                        [{\"alignmentgroup\":\"True\",\"hovertemplate\":\"variable=update<br>Year=%{x}<br>Namespaces Updated=%{y}<extra></extra>\",\"legendgroup\":\"update\",\"marker\":{\"color\":\"#636efa\",\"pattern\":{\"shape\":\"\"}},\"name\":\"update\",\"offsetgroup\":\"update\",\"orientation\":\"v\",\"showlegend\":true,\"textposition\":\"auto\",\"x\":[2010,2011,2012,2013,2014,2015,2016,2017,2018,2019,2020,2021],\"xaxis\":\"x\",\"y\":[4032,63736,49756,29650,26950,26503,5334,2328,1390,1171,1230,1360],\"yaxis\":\"y\",\"type\":\"bar\"}],                        {\"template\":{\"data\":{\"bar\":[{\"error_x\":{\"color\":\"#2a3f5f\"},\"error_y\":{\"color\":\"#2a3f5f\"},\"marker\":{\"line\":{\"color\":\"#E5ECF6\",\"width\":0.5},\"pattern\":{\"fillmode\":\"overlay\",\"size\":10,\"solidity\":0.2}},\"type\":\"bar\"}],\"barpolar\":[{\"marker\":{\"line\":{\"color\":\"#E5ECF6\",\"width\":0.5},\"pattern\":{\"fillmode\":\"overlay\",\"size\":10,\"solidity\":0.2}},\"type\":\"barpolar\"}],\"carpet\":[{\"aaxis\":{\"endlinecolor\":\"#2a3f5f\",\"gridcolor\":\"white\",\"linecolor\":\"white\",\"minorgridcolor\":\"white\",\"startlinecolor\":\"#2a3f5f\"},\"baxis\":{\"endlinecolor\":\"#2a3f5f\",\"gridcolor\":\"white\",\"linecolor\":\"white\",\"minorgridcolor\":\"white\",\"startlinecolor\":\"#2a3f5f\"},\"type\":\"carpet\"}],\"choropleth\":[{\"colorbar\":{\"outlinewidth\":0,\"ticks\":\"\"},\"type\":\"choropleth\"}],\"contour\":[{\"colorbar\":{\"outlinewidth\":0,\"ticks\":\"\"},\"colorscale\":[[0.0,\"#0d0887\"],[0.1111111111111111,\"#46039f\"],[0.2222222222222222,\"#7201a8\"],[0.3333333333333333,\"#9c179e\"],[0.4444444444444444,\"#bd3786\"],[0.5555555555555556,\"#d8576b\"],[0.6666666666666666,\"#ed7953\"],[0.7777777777777778,\"#fb9f3a\"],[0.8888888888888888,\"#fdca26\"],[1.0,\"#f0f921\"]],\"type\":\"contour\"}],\"contourcarpet\":[{\"colorbar\":{\"outlinewidth\":0,\"ticks\":\"\"},\"type\":\"contourcarpet\"}],\"heatmap\":[{\"colorbar\":{\"outlinewidth\":0,\"ticks\":\"\"},\"colorscale\":[[0.0,\"#0d0887\"],[0.1111111111111111,\"#46039f\"],[0.2222222222222222,\"#7201a8\"],[0.3333333333333333,\"#9c179e\"],[0.4444444444444444,\"#bd3786\"],[0.5555555555555556,\"#d8576b\"],[0.6666666666666666,\"#ed7953\"],[0.7777777777777778,\"#fb9f3a\"],[0.8888888888888888,\"#fdca26\"],[1.0,\"#f0f921\"]],\"type\":\"heatmap\"}],\"heatmapgl\":[{\"colorbar\":{\"outlinewidth\":0,\"ticks\":\"\"},\"colorscale\":[[0.0,\"#0d0887\"],[0.1111111111111111,\"#46039f\"],[0.2222222222222222,\"#7201a8\"],[0.3333333333333333,\"#9c179e\"],[0.4444444444444444,\"#bd3786\"],[0.5555555555555556,\"#d8576b\"],[0.6666666666666666,\"#ed7953\"],[0.7777777777777778,\"#fb9f3a\"],[0.8888888888888888,\"#fdca26\"],[1.0,\"#f0f921\"]],\"type\":\"heatmapgl\"}],\"histogram\":[{\"marker\":{\"pattern\":{\"fillmode\":\"overlay\",\"size\":10,\"solidity\":0.2}},\"type\":\"histogram\"}],\"histogram2d\":[{\"colorbar\":{\"outlinewidth\":0,\"ticks\":\"\"},\"colorscale\":[[0.0,\"#0d0887\"],[0.1111111111111111,\"#46039f\"],[0.2222222222222222,\"#7201a8\"],[0.3333333333333333,\"#9c179e\"],[0.4444444444444444,\"#bd3786\"],[0.5555555555555556,\"#d8576b\"],[0.6666666666666666,\"#ed7953\"],[0.7777777777777778,\"#fb9f3a\"],[0.8888888888888888,\"#fdca26\"],[1.0,\"#f0f921\"]],\"type\":\"histogram2d\"}],\"histogram2dcontour\":[{\"colorbar\":{\"outlinewidth\":0,\"ticks\":\"\"},\"colorscale\":[[0.0,\"#0d0887\"],[0.1111111111111111,\"#46039f\"],[0.2222222222222222,\"#7201a8\"],[0.3333333333333333,\"#9c179e\"],[0.4444444444444444,\"#bd3786\"],[0.5555555555555556,\"#d8576b\"],[0.6666666666666666,\"#ed7953\"],[0.7777777777777778,\"#fb9f3a\"],[0.8888888888888888,\"#fdca26\"],[1.0,\"#f0f921\"]],\"type\":\"histogram2dcontour\"}],\"mesh3d\":[{\"colorbar\":{\"outlinewidth\":0,\"ticks\":\"\"},\"type\":\"mesh3d\"}],\"parcoords\":[{\"line\":{\"colorbar\":{\"outlinewidth\":0,\"ticks\":\"\"}},\"type\":\"parcoords\"}],\"pie\":[{\"automargin\":true,\"type\":\"pie\"}],\"scatter\":[{\"marker\":{\"colorbar\":{\"outlinewidth\":0,\"ticks\":\"\"}},\"type\":\"scatter\"}],\"scatter3d\":[{\"line\":{\"colorbar\":{\"outlinewidth\":0,\"ticks\":\"\"}},\"marker\":{\"colorbar\":{\"outlinewidth\":0,\"ticks\":\"\"}},\"type\":\"scatter3d\"}],\"scattercarpet\":[{\"marker\":{\"colorbar\":{\"outlinewidth\":0,\"ticks\":\"\"}},\"type\":\"scattercarpet\"}],\"scattergeo\":[{\"marker\":{\"colorbar\":{\"outlinewidth\":0,\"ticks\":\"\"}},\"type\":\"scattergeo\"}],\"scattergl\":[{\"marker\":{\"colorbar\":{\"outlinewidth\":0,\"ticks\":\"\"}},\"type\":\"scattergl\"}],\"scattermapbox\":[{\"marker\":{\"colorbar\":{\"outlinewidth\":0,\"ticks\":\"\"}},\"type\":\"scattermapbox\"}],\"scatterpolar\":[{\"marker\":{\"colorbar\":{\"outlinewidth\":0,\"ticks\":\"\"}},\"type\":\"scatterpolar\"}],\"scatterpolargl\":[{\"marker\":{\"colorbar\":{\"outlinewidth\":0,\"ticks\":\"\"}},\"type\":\"scatterpolargl\"}],\"scatterternary\":[{\"marker\":{\"colorbar\":{\"outlinewidth\":0,\"ticks\":\"\"}},\"type\":\"scatterternary\"}],\"surface\":[{\"colorbar\":{\"outlinewidth\":0,\"ticks\":\"\"},\"colorscale\":[[0.0,\"#0d0887\"],[0.1111111111111111,\"#46039f\"],[0.2222222222222222,\"#7201a8\"],[0.3333333333333333,\"#9c179e\"],[0.4444444444444444,\"#bd3786\"],[0.5555555555555556,\"#d8576b\"],[0.6666666666666666,\"#ed7953\"],[0.7777777777777778,\"#fb9f3a\"],[0.8888888888888888,\"#fdca26\"],[1.0,\"#f0f921\"]],\"type\":\"surface\"}],\"table\":[{\"cells\":{\"fill\":{\"color\":\"#EBF0F8\"},\"line\":{\"color\":\"white\"}},\"header\":{\"fill\":{\"color\":\"#C8D4E3\"},\"line\":{\"color\":\"white\"}},\"type\":\"table\"}]},\"layout\":{\"annotationdefaults\":{\"arrowcolor\":\"#2a3f5f\",\"arrowhead\":0,\"arrowwidth\":1},\"autotypenumbers\":\"strict\",\"coloraxis\":{\"colorbar\":{\"outlinewidth\":0,\"ticks\":\"\"}},\"colorscale\":{\"diverging\":[[0,\"#8e0152\"],[0.1,\"#c51b7d\"],[0.2,\"#de77ae\"],[0.3,\"#f1b6da\"],[0.4,\"#fde0ef\"],[0.5,\"#f7f7f7\"],[0.6,\"#e6f5d0\"],[0.7,\"#b8e186\"],[0.8,\"#7fbc41\"],[0.9,\"#4d9221\"],[1,\"#276419\"]],\"sequential\":[[0.0,\"#0d0887\"],[0.1111111111111111,\"#46039f\"],[0.2222222222222222,\"#7201a8\"],[0.3333333333333333,\"#9c179e\"],[0.4444444444444444,\"#bd3786\"],[0.5555555555555556,\"#d8576b\"],[0.6666666666666666,\"#ed7953\"],[0.7777777777777778,\"#fb9f3a\"],[0.8888888888888888,\"#fdca26\"],[1.0,\"#f0f921\"]],\"sequentialminus\":[[0.0,\"#0d0887\"],[0.1111111111111111,\"#46039f\"],[0.2222222222222222,\"#7201a8\"],[0.3333333333333333,\"#9c179e\"],[0.4444444444444444,\"#bd3786\"],[0.5555555555555556,\"#d8576b\"],[0.6666666666666666,\"#ed7953\"],[0.7777777777777778,\"#fb9f3a\"],[0.8888888888888888,\"#fdca26\"],[1.0,\"#f0f921\"]]},\"colorway\":[\"#636efa\",\"#EF553B\",\"#00cc96\",\"#ab63fa\",\"#FFA15A\",\"#19d3f3\",\"#FF6692\",\"#B6E880\",\"#FF97FF\",\"#FECB52\"],\"font\":{\"color\":\"#2a3f5f\"},\"geo\":{\"bgcolor\":\"white\",\"lakecolor\":\"white\",\"landcolor\":\"#E5ECF6\",\"showlakes\":true,\"showland\":true,\"subunitcolor\":\"white\"},\"hoverlabel\":{\"align\":\"left\"},\"hovermode\":\"closest\",\"mapbox\":{\"style\":\"light\"},\"paper_bgcolor\":\"white\",\"plot_bgcolor\":\"#E5ECF6\",\"polar\":{\"angularaxis\":{\"gridcolor\":\"white\",\"linecolor\":\"white\",\"ticks\":\"\"},\"bgcolor\":\"#E5ECF6\",\"radialaxis\":{\"gridcolor\":\"white\",\"linecolor\":\"white\",\"ticks\":\"\"}},\"scene\":{\"xaxis\":{\"backgroundcolor\":\"#E5ECF6\",\"gridcolor\":\"white\",\"gridwidth\":2,\"linecolor\":\"white\",\"showbackground\":true,\"ticks\":\"\",\"zerolinecolor\":\"white\"},\"yaxis\":{\"backgroundcolor\":\"#E5ECF6\",\"gridcolor\":\"white\",\"gridwidth\":2,\"linecolor\":\"white\",\"showbackground\":true,\"ticks\":\"\",\"zerolinecolor\":\"white\"},\"zaxis\":{\"backgroundcolor\":\"#E5ECF6\",\"gridcolor\":\"white\",\"gridwidth\":2,\"linecolor\":\"white\",\"showbackground\":true,\"ticks\":\"\",\"zerolinecolor\":\"white\"}},\"shapedefaults\":{\"line\":{\"color\":\"#2a3f5f\"}},\"ternary\":{\"aaxis\":{\"gridcolor\":\"white\",\"linecolor\":\"white\",\"ticks\":\"\"},\"baxis\":{\"gridcolor\":\"white\",\"linecolor\":\"white\",\"ticks\":\"\"},\"bgcolor\":\"#E5ECF6\",\"caxis\":{\"gridcolor\":\"white\",\"linecolor\":\"white\",\"ticks\":\"\"}},\"title\":{\"x\":0.05},\"xaxis\":{\"automargin\":true,\"gridcolor\":\"white\",\"linecolor\":\"white\",\"ticks\":\"\",\"title\":{\"standoff\":15},\"zerolinecolor\":\"white\",\"zerolinewidth\":2},\"yaxis\":{\"automargin\":true,\"gridcolor\":\"white\",\"linecolor\":\"white\",\"ticks\":\"\",\"title\":{\"standoff\":15},\"zerolinecolor\":\"white\",\"zerolinewidth\":2}}},\"xaxis\":{\"anchor\":\"y\",\"domain\":[0.0,1.0],\"title\":{\"text\":\"Year\"}},\"yaxis\":{\"anchor\":\"x\",\"domain\":[0.0,1.0],\"title\":{\"text\":\"Namespaces Updated\"}},\"legend\":{\"title\":{\"text\":\"variable\"},\"tracegroupgap\":0},\"title\":{\"text\":\"PURL Namespace Updates (after 2009)\"},\"barmode\":\"relative\",\"showlegend\":false},                        {\"responsive\": true}                    ).then(function(){\n",
       "                            \n",
       "var gd = document.getElementById('b8dd200d-c7dc-401f-9d58-e4650d61eb33');\n",
       "var x = new MutationObserver(function (mutations, observer) {{\n",
       "        var display = window.getComputedStyle(gd).display;\n",
       "        if (!display || display === 'none') {{\n",
       "            console.log([gd, 'removed!']);\n",
       "            Plotly.purge(gd);\n",
       "            observer.disconnect();\n",
       "        }}\n",
       "}});\n",
       "\n",
       "// Listen for the removal of the full notebook cells\n",
       "var notebookContainer = gd.closest('#notebook-container');\n",
       "if (notebookContainer) {{\n",
       "    x.observe(notebookContainer, {childList: true});\n",
       "}}\n",
       "\n",
       "// Listen for the clearing of the current output cell\n",
       "var outputEl = gd.closest('.output');\n",
       "if (outputEl) {{\n",
       "    x.observe(outputEl, {childList: true});\n",
       "}}\n",
       "\n",
       "                        })                };                });            </script>        </div>"
      ]
     },
     "metadata": {},
     "output_type": "display_data"
    }
   ],
   "source": [
    "fig = xp.bar(updates[counts.index > 2009], labels={'value': 'Namespaces Updated', 'index': 'Year'}, title='PURL Namespace Updates (after 2009)')\n",
    "fig.layout.update(showlegend=False)\n",
    "fig"
   ]
  },
  {
   "cell_type": "markdown",
   "metadata": {},
   "source": [
    "So there has been a drastic fall in how often the namespaces are updated once it moved to the Internet Archive?\n",
    "\n",
    "## Most Updated\n",
    "\n",
    "What namespaces are updated the most?\n"
   ]
  },
  {
   "cell_type": "code",
   "execution_count": 95,
   "metadata": {},
   "outputs": [
    {
     "data": {
      "text/html": [
       "<div>\n",
       "<style scoped>\n",
       "    .dataframe tbody tr th:only-of-type {\n",
       "        vertical-align: middle;\n",
       "    }\n",
       "\n",
       "    .dataframe tbody tr th {\n",
       "        vertical-align: top;\n",
       "    }\n",
       "\n",
       "    .dataframe thead th {\n",
       "        text-align: right;\n",
       "    }\n",
       "</style>\n",
       "<table border=\"1\" class=\"dataframe\">\n",
       "  <thead>\n",
       "    <tr style=\"text-align: right;\">\n",
       "      <th></th>\n",
       "      <th>name</th>\n",
       "      <th>update</th>\n",
       "    </tr>\n",
       "    <tr>\n",
       "      <th>ns</th>\n",
       "      <th></th>\n",
       "      <th></th>\n",
       "    </tr>\n",
       "  </thead>\n",
       "  <tbody>\n",
       "    <tr>\n",
       "      <th>/oclc/oluc</th>\n",
       "      <td>140539</td>\n",
       "      <td>140539</td>\n",
       "    </tr>\n",
       "    <tr>\n",
       "      <th>/opendata-cz</th>\n",
       "      <td>28393</td>\n",
       "      <td>28393</td>\n",
       "    </tr>\n",
       "    <tr>\n",
       "      <th>/procurement</th>\n",
       "      <td>20760</td>\n",
       "      <td>20760</td>\n",
       "    </tr>\n",
       "    <tr>\n",
       "      <th>/yoolib/inha</th>\n",
       "      <td>19057</td>\n",
       "      <td>19057</td>\n",
       "    </tr>\n",
       "    <tr>\n",
       "      <th>/yoolib/bmsaintomer</th>\n",
       "      <td>18480</td>\n",
       "      <td>18480</td>\n",
       "    </tr>\n",
       "    <tr>\n",
       "      <th>/net</th>\n",
       "      <td>18415</td>\n",
       "      <td>18415</td>\n",
       "    </tr>\n",
       "    <tr>\n",
       "      <th>/yoolib/bmaixenprovence</th>\n",
       "      <td>14931</td>\n",
       "      <td>14931</td>\n",
       "    </tr>\n",
       "    <tr>\n",
       "      <th>/yoolib/bmdieppe</th>\n",
       "      <td>14532</td>\n",
       "      <td>14532</td>\n",
       "    </tr>\n",
       "    <tr>\n",
       "      <th>/5060d4</th>\n",
       "      <td>13461</td>\n",
       "      <td>13461</td>\n",
       "    </tr>\n",
       "    <tr>\n",
       "      <th>/net/concentrix</th>\n",
       "      <td>9658</td>\n",
       "      <td>9658</td>\n",
       "    </tr>\n",
       "    <tr>\n",
       "      <th>/yoolib/ad24</th>\n",
       "      <td>8173</td>\n",
       "      <td>8173</td>\n",
       "    </tr>\n",
       "    <tr>\n",
       "      <th>/yoolib/bmfrejus</th>\n",
       "      <td>8073</td>\n",
       "      <td>8073</td>\n",
       "    </tr>\n",
       "    <tr>\n",
       "      <th>/greycite</th>\n",
       "      <td>8006</td>\n",
       "      <td>8006</td>\n",
       "    </tr>\n",
       "    <tr>\n",
       "      <th>/yoolib/ammontbrison</th>\n",
       "      <td>7808</td>\n",
       "      <td>7808</td>\n",
       "    </tr>\n",
       "    <tr>\n",
       "      <th>/yoolib/ad65</th>\n",
       "      <td>7331</td>\n",
       "      <td>7331</td>\n",
       "    </tr>\n",
       "    <tr>\n",
       "      <th>/yoolib/bmsisteron</th>\n",
       "      <td>5789</td>\n",
       "      <td>5789</td>\n",
       "    </tr>\n",
       "    <tr>\n",
       "      <th>/ogit</th>\n",
       "      <td>3636</td>\n",
       "      <td>3636</td>\n",
       "    </tr>\n",
       "    <tr>\n",
       "      <th>/yoolib/bmchambery</th>\n",
       "      <td>3223</td>\n",
       "      <td>3223</td>\n",
       "    </tr>\n",
       "    <tr>\n",
       "      <th>/pkc</th>\n",
       "      <td>2709</td>\n",
       "      <td>2709</td>\n",
       "    </tr>\n",
       "    <tr>\n",
       "      <th>/yoolib/bmnice</th>\n",
       "      <td>2453</td>\n",
       "      <td>2453</td>\n",
       "    </tr>\n",
       "    <tr>\n",
       "      <th>/yoolib/mht</th>\n",
       "      <td>2180</td>\n",
       "      <td>2180</td>\n",
       "    </tr>\n",
       "    <tr>\n",
       "      <th>/yoolib/muplansreliefs</th>\n",
       "      <td>1849</td>\n",
       "      <td>1849</td>\n",
       "    </tr>\n",
       "    <tr>\n",
       "      <th>/yoolib/bmverdun1418</th>\n",
       "      <td>1567</td>\n",
       "      <td>1567</td>\n",
       "    </tr>\n",
       "    <tr>\n",
       "      <th>/rpu</th>\n",
       "      <td>1334</td>\n",
       "      <td>1334</td>\n",
       "    </tr>\n",
       "    <tr>\n",
       "      <th>/edam/data</th>\n",
       "      <td>1144</td>\n",
       "      <td>1144</td>\n",
       "    </tr>\n",
       "    <tr>\n",
       "      <th>/kuk/kdl</th>\n",
       "      <td>1078</td>\n",
       "      <td>1078</td>\n",
       "    </tr>\n",
       "    <tr>\n",
       "      <th>/yoolib/ambagneux</th>\n",
       "      <td>925</td>\n",
       "      <td>925</td>\n",
       "    </tr>\n",
       "    <tr>\n",
       "      <th>/archaide</th>\n",
       "      <td>619</td>\n",
       "      <td>619</td>\n",
       "    </tr>\n",
       "    <tr>\n",
       "      <th>/edam/operation</th>\n",
       "      <td>536</td>\n",
       "      <td>536</td>\n",
       "    </tr>\n",
       "    <tr>\n",
       "      <th>/arago</th>\n",
       "      <td>440</td>\n",
       "      <td>440</td>\n",
       "    </tr>\n",
       "    <tr>\n",
       "      <th>/norc/gss</th>\n",
       "      <td>378</td>\n",
       "      <td>378</td>\n",
       "    </tr>\n",
       "    <tr>\n",
       "      <th>/yoolib/bubljd</th>\n",
       "      <td>359</td>\n",
       "      <td>359</td>\n",
       "    </tr>\n",
       "    <tr>\n",
       "      <th>/dabgeo</th>\n",
       "      <td>343</td>\n",
       "      <td>343</td>\n",
       "    </tr>\n",
       "    <tr>\n",
       "      <th>/net/infousa</th>\n",
       "      <td>310</td>\n",
       "      <td>310</td>\n",
       "    </tr>\n",
       "    <tr>\n",
       "      <th>/norc/nnr</th>\n",
       "      <td>294</td>\n",
       "      <td>294</td>\n",
       "    </tr>\n",
       "    <tr>\n",
       "      <th>/org</th>\n",
       "      <td>270</td>\n",
       "      <td>270</td>\n",
       "    </tr>\n",
       "    <tr>\n",
       "      <th>/bupress/publications</th>\n",
       "      <td>259</td>\n",
       "      <td>259</td>\n",
       "    </tr>\n",
       "    <tr>\n",
       "      <th>/codex</th>\n",
       "      <td>245</td>\n",
       "      <td>245</td>\n",
       "    </tr>\n",
       "    <tr>\n",
       "      <th>/adms</th>\n",
       "      <td>219</td>\n",
       "      <td>219</td>\n",
       "    </tr>\n",
       "    <tr>\n",
       "      <th>/rand</th>\n",
       "      <td>207</td>\n",
       "      <td>207</td>\n",
       "    </tr>\n",
       "    <tr>\n",
       "      <th>/ifgi</th>\n",
       "      <td>195</td>\n",
       "      <td>195</td>\n",
       "    </tr>\n",
       "    <tr>\n",
       "      <th>/avraham.bernstein</th>\n",
       "      <td>193</td>\n",
       "      <td>193</td>\n",
       "    </tr>\n",
       "    <tr>\n",
       "      <th>/yoolib/bubljdlec</th>\n",
       "      <td>181</td>\n",
       "      <td>181</td>\n",
       "    </tr>\n",
       "    <tr>\n",
       "      <th>/net/drc</th>\n",
       "      <td>164</td>\n",
       "      <td>164</td>\n",
       "    </tr>\n",
       "    <tr>\n",
       "      <th>/edam/resource</th>\n",
       "      <td>161</td>\n",
       "      <td>161</td>\n",
       "    </tr>\n",
       "    <tr>\n",
       "      <th>/jorl</th>\n",
       "      <td>155</td>\n",
       "      <td>155</td>\n",
       "    </tr>\n",
       "    <tr>\n",
       "      <th>/oclc</th>\n",
       "      <td>143</td>\n",
       "      <td>143</td>\n",
       "    </tr>\n",
       "    <tr>\n",
       "      <th>/nga</th>\n",
       "      <td>137</td>\n",
       "      <td>137</td>\n",
       "    </tr>\n",
       "    <tr>\n",
       "      <th>/viso</th>\n",
       "      <td>137</td>\n",
       "      <td>137</td>\n",
       "    </tr>\n",
       "    <tr>\n",
       "      <th>/escidoc/metadata</th>\n",
       "      <td>132</td>\n",
       "      <td>132</td>\n",
       "    </tr>\n",
       "  </tbody>\n",
       "</table>\n",
       "</div>"
      ],
      "text/plain": [
       "                           name  update\n",
       "ns                                     \n",
       "/oclc/oluc               140539  140539\n",
       "/opendata-cz              28393   28393\n",
       "/procurement              20760   20760\n",
       "/yoolib/inha              19057   19057\n",
       "/yoolib/bmsaintomer       18480   18480\n",
       "/net                      18415   18415\n",
       "/yoolib/bmaixenprovence   14931   14931\n",
       "/yoolib/bmdieppe          14532   14532\n",
       "/5060d4                   13461   13461\n",
       "/net/concentrix            9658    9658\n",
       "/yoolib/ad24               8173    8173\n",
       "/yoolib/bmfrejus           8073    8073\n",
       "/greycite                  8006    8006\n",
       "/yoolib/ammontbrison       7808    7808\n",
       "/yoolib/ad65               7331    7331\n",
       "/yoolib/bmsisteron         5789    5789\n",
       "/ogit                      3636    3636\n",
       "/yoolib/bmchambery         3223    3223\n",
       "/pkc                       2709    2709\n",
       "/yoolib/bmnice             2453    2453\n",
       "/yoolib/mht                2180    2180\n",
       "/yoolib/muplansreliefs     1849    1849\n",
       "/yoolib/bmverdun1418       1567    1567\n",
       "/rpu                       1334    1334\n",
       "/edam/data                 1144    1144\n",
       "/kuk/kdl                   1078    1078\n",
       "/yoolib/ambagneux           925     925\n",
       "/archaide                   619     619\n",
       "/edam/operation             536     536\n",
       "/arago                      440     440\n",
       "/norc/gss                   378     378\n",
       "/yoolib/bubljd              359     359\n",
       "/dabgeo                     343     343\n",
       "/net/infousa                310     310\n",
       "/norc/nnr                   294     294\n",
       "/org                        270     270\n",
       "/bupress/publications       259     259\n",
       "/codex                      245     245\n",
       "/adms                       219     219\n",
       "/rand                       207     207\n",
       "/ifgi                       195     195\n",
       "/avraham.bernstein          193     193\n",
       "/yoolib/bubljdlec           181     181\n",
       "/net/drc                    164     164\n",
       "/edam/resource              161     161\n",
       "/jorl                       155     155\n",
       "/oclc                       143     143\n",
       "/nga                        137     137\n",
       "/viso                       137     137\n",
       "/escidoc/metadata           132     132"
      ]
     },
     "execution_count": 95,
     "metadata": {},
     "output_type": "execute_result"
    }
   ],
   "source": [
    "ns_counts = df2.groupby(by=df2['ns']).count()\n",
    "ns_counts = ns_counts.sort_values('update', ascending=False)\n",
    "ns_counts.head(50)"
   ]
  },
  {
   "cell_type": "markdown",
   "metadata": {},
   "source": [
    "How about if we look by affiliate name?"
   ]
  },
  {
   "cell_type": "code",
   "execution_count": 96,
   "metadata": {},
   "outputs": [
    {
     "data": {
      "text/html": [
       "<div>\n",
       "<style scoped>\n",
       "    .dataframe tbody tr th:only-of-type {\n",
       "        vertical-align: middle;\n",
       "    }\n",
       "\n",
       "    .dataframe tbody tr th {\n",
       "        vertical-align: top;\n",
       "    }\n",
       "\n",
       "    .dataframe thead th {\n",
       "        text-align: right;\n",
       "    }\n",
       "</style>\n",
       "<table border=\"1\" class=\"dataframe\">\n",
       "  <thead>\n",
       "    <tr style=\"text-align: right;\">\n",
       "      <th></th>\n",
       "      <th>name</th>\n",
       "      <th>update</th>\n",
       "    </tr>\n",
       "    <tr>\n",
       "      <th>ns</th>\n",
       "      <th></th>\n",
       "      <th></th>\n",
       "    </tr>\n",
       "  </thead>\n",
       "  <tbody>\n",
       "    <tr>\n",
       "      <th>/oclc/oluc</th>\n",
       "      <td>140539</td>\n",
       "      <td>140539</td>\n",
       "    </tr>\n",
       "    <tr>\n",
       "      <th>/opendata-cz</th>\n",
       "      <td>28393</td>\n",
       "      <td>28393</td>\n",
       "    </tr>\n",
       "    <tr>\n",
       "      <th>/procurement</th>\n",
       "      <td>20760</td>\n",
       "      <td>20760</td>\n",
       "    </tr>\n",
       "    <tr>\n",
       "      <th>/yoolib/inha</th>\n",
       "      <td>19057</td>\n",
       "      <td>19057</td>\n",
       "    </tr>\n",
       "    <tr>\n",
       "      <th>/yoolib/bmsaintomer</th>\n",
       "      <td>18480</td>\n",
       "      <td>18480</td>\n",
       "    </tr>\n",
       "    <tr>\n",
       "      <th>/net</th>\n",
       "      <td>18415</td>\n",
       "      <td>18415</td>\n",
       "    </tr>\n",
       "    <tr>\n",
       "      <th>/yoolib/bmaixenprovence</th>\n",
       "      <td>14931</td>\n",
       "      <td>14931</td>\n",
       "    </tr>\n",
       "    <tr>\n",
       "      <th>/yoolib/bmdieppe</th>\n",
       "      <td>14532</td>\n",
       "      <td>14532</td>\n",
       "    </tr>\n",
       "    <tr>\n",
       "      <th>/5060d4</th>\n",
       "      <td>13461</td>\n",
       "      <td>13461</td>\n",
       "    </tr>\n",
       "    <tr>\n",
       "      <th>/net/concentrix</th>\n",
       "      <td>9658</td>\n",
       "      <td>9658</td>\n",
       "    </tr>\n",
       "    <tr>\n",
       "      <th>/yoolib/ad24</th>\n",
       "      <td>8173</td>\n",
       "      <td>8173</td>\n",
       "    </tr>\n",
       "    <tr>\n",
       "      <th>/yoolib/bmfrejus</th>\n",
       "      <td>8073</td>\n",
       "      <td>8073</td>\n",
       "    </tr>\n",
       "    <tr>\n",
       "      <th>/greycite</th>\n",
       "      <td>8006</td>\n",
       "      <td>8006</td>\n",
       "    </tr>\n",
       "    <tr>\n",
       "      <th>/yoolib/ammontbrison</th>\n",
       "      <td>7808</td>\n",
       "      <td>7808</td>\n",
       "    </tr>\n",
       "    <tr>\n",
       "      <th>/yoolib/ad65</th>\n",
       "      <td>7331</td>\n",
       "      <td>7331</td>\n",
       "    </tr>\n",
       "    <tr>\n",
       "      <th>/yoolib/bmsisteron</th>\n",
       "      <td>5789</td>\n",
       "      <td>5789</td>\n",
       "    </tr>\n",
       "    <tr>\n",
       "      <th>/ogit</th>\n",
       "      <td>3636</td>\n",
       "      <td>3636</td>\n",
       "    </tr>\n",
       "    <tr>\n",
       "      <th>/yoolib/bmchambery</th>\n",
       "      <td>3223</td>\n",
       "      <td>3223</td>\n",
       "    </tr>\n",
       "    <tr>\n",
       "      <th>/pkc</th>\n",
       "      <td>2709</td>\n",
       "      <td>2709</td>\n",
       "    </tr>\n",
       "    <tr>\n",
       "      <th>/yoolib/bmnice</th>\n",
       "      <td>2453</td>\n",
       "      <td>2453</td>\n",
       "    </tr>\n",
       "    <tr>\n",
       "      <th>/yoolib/mht</th>\n",
       "      <td>2180</td>\n",
       "      <td>2180</td>\n",
       "    </tr>\n",
       "    <tr>\n",
       "      <th>/yoolib/muplansreliefs</th>\n",
       "      <td>1849</td>\n",
       "      <td>1849</td>\n",
       "    </tr>\n",
       "    <tr>\n",
       "      <th>/yoolib/bmverdun1418</th>\n",
       "      <td>1567</td>\n",
       "      <td>1567</td>\n",
       "    </tr>\n",
       "    <tr>\n",
       "      <th>/rpu</th>\n",
       "      <td>1334</td>\n",
       "      <td>1334</td>\n",
       "    </tr>\n",
       "    <tr>\n",
       "      <th>/edam/data</th>\n",
       "      <td>1144</td>\n",
       "      <td>1144</td>\n",
       "    </tr>\n",
       "    <tr>\n",
       "      <th>/kuk/kdl</th>\n",
       "      <td>1078</td>\n",
       "      <td>1078</td>\n",
       "    </tr>\n",
       "    <tr>\n",
       "      <th>/yoolib/ambagneux</th>\n",
       "      <td>925</td>\n",
       "      <td>925</td>\n",
       "    </tr>\n",
       "    <tr>\n",
       "      <th>/archaide</th>\n",
       "      <td>619</td>\n",
       "      <td>619</td>\n",
       "    </tr>\n",
       "    <tr>\n",
       "      <th>/edam/operation</th>\n",
       "      <td>536</td>\n",
       "      <td>536</td>\n",
       "    </tr>\n",
       "    <tr>\n",
       "      <th>/arago</th>\n",
       "      <td>440</td>\n",
       "      <td>440</td>\n",
       "    </tr>\n",
       "    <tr>\n",
       "      <th>/norc/gss</th>\n",
       "      <td>378</td>\n",
       "      <td>378</td>\n",
       "    </tr>\n",
       "    <tr>\n",
       "      <th>/yoolib/bubljd</th>\n",
       "      <td>359</td>\n",
       "      <td>359</td>\n",
       "    </tr>\n",
       "    <tr>\n",
       "      <th>/dabgeo</th>\n",
       "      <td>343</td>\n",
       "      <td>343</td>\n",
       "    </tr>\n",
       "    <tr>\n",
       "      <th>/net/infousa</th>\n",
       "      <td>310</td>\n",
       "      <td>310</td>\n",
       "    </tr>\n",
       "    <tr>\n",
       "      <th>/norc/nnr</th>\n",
       "      <td>294</td>\n",
       "      <td>294</td>\n",
       "    </tr>\n",
       "    <tr>\n",
       "      <th>/org</th>\n",
       "      <td>270</td>\n",
       "      <td>270</td>\n",
       "    </tr>\n",
       "    <tr>\n",
       "      <th>/bupress/publications</th>\n",
       "      <td>259</td>\n",
       "      <td>259</td>\n",
       "    </tr>\n",
       "    <tr>\n",
       "      <th>/codex</th>\n",
       "      <td>245</td>\n",
       "      <td>245</td>\n",
       "    </tr>\n",
       "    <tr>\n",
       "      <th>/adms</th>\n",
       "      <td>219</td>\n",
       "      <td>219</td>\n",
       "    </tr>\n",
       "    <tr>\n",
       "      <th>/rand</th>\n",
       "      <td>207</td>\n",
       "      <td>207</td>\n",
       "    </tr>\n",
       "    <tr>\n",
       "      <th>/ifgi</th>\n",
       "      <td>195</td>\n",
       "      <td>195</td>\n",
       "    </tr>\n",
       "    <tr>\n",
       "      <th>/avraham.bernstein</th>\n",
       "      <td>193</td>\n",
       "      <td>193</td>\n",
       "    </tr>\n",
       "    <tr>\n",
       "      <th>/yoolib/bubljdlec</th>\n",
       "      <td>181</td>\n",
       "      <td>181</td>\n",
       "    </tr>\n",
       "    <tr>\n",
       "      <th>/net/drc</th>\n",
       "      <td>164</td>\n",
       "      <td>164</td>\n",
       "    </tr>\n",
       "    <tr>\n",
       "      <th>/edam/resource</th>\n",
       "      <td>161</td>\n",
       "      <td>161</td>\n",
       "    </tr>\n",
       "    <tr>\n",
       "      <th>/jorl</th>\n",
       "      <td>155</td>\n",
       "      <td>155</td>\n",
       "    </tr>\n",
       "    <tr>\n",
       "      <th>/oclc</th>\n",
       "      <td>143</td>\n",
       "      <td>143</td>\n",
       "    </tr>\n",
       "    <tr>\n",
       "      <th>/viso</th>\n",
       "      <td>137</td>\n",
       "      <td>137</td>\n",
       "    </tr>\n",
       "    <tr>\n",
       "      <th>/nga</th>\n",
       "      <td>137</td>\n",
       "      <td>137</td>\n",
       "    </tr>\n",
       "    <tr>\n",
       "      <th>/escidoc/metadata</th>\n",
       "      <td>132</td>\n",
       "      <td>132</td>\n",
       "    </tr>\n",
       "  </tbody>\n",
       "</table>\n",
       "</div>"
      ],
      "text/plain": [
       "                           name  update\n",
       "ns                                     \n",
       "/oclc/oluc               140539  140539\n",
       "/opendata-cz              28393   28393\n",
       "/procurement              20760   20760\n",
       "/yoolib/inha              19057   19057\n",
       "/yoolib/bmsaintomer       18480   18480\n",
       "/net                      18415   18415\n",
       "/yoolib/bmaixenprovence   14931   14931\n",
       "/yoolib/bmdieppe          14532   14532\n",
       "/5060d4                   13461   13461\n",
       "/net/concentrix            9658    9658\n",
       "/yoolib/ad24               8173    8173\n",
       "/yoolib/bmfrejus           8073    8073\n",
       "/greycite                  8006    8006\n",
       "/yoolib/ammontbrison       7808    7808\n",
       "/yoolib/ad65               7331    7331\n",
       "/yoolib/bmsisteron         5789    5789\n",
       "/ogit                      3636    3636\n",
       "/yoolib/bmchambery         3223    3223\n",
       "/pkc                       2709    2709\n",
       "/yoolib/bmnice             2453    2453\n",
       "/yoolib/mht                2180    2180\n",
       "/yoolib/muplansreliefs     1849    1849\n",
       "/yoolib/bmverdun1418       1567    1567\n",
       "/rpu                       1334    1334\n",
       "/edam/data                 1144    1144\n",
       "/kuk/kdl                   1078    1078\n",
       "/yoolib/ambagneux           925     925\n",
       "/archaide                   619     619\n",
       "/edam/operation             536     536\n",
       "/arago                      440     440\n",
       "/norc/gss                   378     378\n",
       "/yoolib/bubljd              359     359\n",
       "/dabgeo                     343     343\n",
       "/net/infousa                310     310\n",
       "/norc/nnr                   294     294\n",
       "/org                        270     270\n",
       "/bupress/publications       259     259\n",
       "/codex                      245     245\n",
       "/adms                       219     219\n",
       "/rand                       207     207\n",
       "/ifgi                       195     195\n",
       "/avraham.bernstein          193     193\n",
       "/yoolib/bubljdlec           181     181\n",
       "/net/drc                    164     164\n",
       "/edam/resource              161     161\n",
       "/jorl                       155     155\n",
       "/oclc                       143     143\n",
       "/viso                       137     137\n",
       "/nga                        137     137\n",
       "/escidoc/metadata           132     132"
      ]
     },
     "execution_count": 96,
     "metadata": {},
     "output_type": "execute_result"
    }
   ],
   "source": [
    "name_counts = df2.groupby(by=df2['ns']).count()\n",
    "name_counts = ns_counts.sort_values('update', ascending=False)\n",
    "name_counts.head(50)"
   ]
  },
  {
   "cell_type": "code",
   "execution_count": 98,
   "metadata": {},
   "outputs": [
    {
     "data": {
      "text/html": [
       "<div>\n",
       "<style scoped>\n",
       "    .dataframe tbody tr th:only-of-type {\n",
       "        vertical-align: middle;\n",
       "    }\n",
       "\n",
       "    .dataframe tbody tr th {\n",
       "        vertical-align: top;\n",
       "    }\n",
       "\n",
       "    .dataframe thead th {\n",
       "        text-align: right;\n",
       "    }\n",
       "</style>\n",
       "<table border=\"1\" class=\"dataframe\">\n",
       "  <thead>\n",
       "    <tr style=\"text-align: right;\">\n",
       "      <th></th>\n",
       "      <th>ns</th>\n",
       "      <th>name</th>\n",
       "      <th>update</th>\n",
       "    </tr>\n",
       "    <tr>\n",
       "      <th>update</th>\n",
       "      <th></th>\n",
       "      <th></th>\n",
       "      <th></th>\n",
       "    </tr>\n",
       "  </thead>\n",
       "  <tbody>\n",
       "    <tr>\n",
       "      <th>2009</th>\n",
       "      <td>140539</td>\n",
       "      <td>140539</td>\n",
       "      <td>140539</td>\n",
       "    </tr>\n",
       "  </tbody>\n",
       "</table>\n",
       "</div>"
      ],
      "text/plain": [
       "            ns    name  update\n",
       "update                        \n",
       "2009    140539  140539  140539"
      ]
     },
     "execution_count": 98,
     "metadata": {},
     "output_type": "execute_result"
    }
   ],
   "source": [
    "oluc = df2[df2['ns'] == '/oclc/oluc']\n",
    "oluc_counts = oluc.groupby(by=oluc['update'].dt.year).count()\n",
    "oluc_counts"
   ]
  },
  {
   "cell_type": "markdown",
   "metadata": {},
   "source": [
    "Oh so these account for the big ingest in 2009!? How about `opendata-cz`?"
   ]
  },
  {
   "cell_type": "code",
   "execution_count": 101,
   "metadata": {},
   "outputs": [
    {
     "data": {
      "text/html": [
       "<div>\n",
       "<style scoped>\n",
       "    .dataframe tbody tr th:only-of-type {\n",
       "        vertical-align: middle;\n",
       "    }\n",
       "\n",
       "    .dataframe tbody tr th {\n",
       "        vertical-align: top;\n",
       "    }\n",
       "\n",
       "    .dataframe thead th {\n",
       "        text-align: right;\n",
       "    }\n",
       "</style>\n",
       "<table border=\"1\" class=\"dataframe\">\n",
       "  <thead>\n",
       "    <tr style=\"text-align: right;\">\n",
       "      <th></th>\n",
       "      <th>ns</th>\n",
       "      <th>name</th>\n",
       "      <th>update</th>\n",
       "    </tr>\n",
       "    <tr>\n",
       "      <th>update</th>\n",
       "      <th></th>\n",
       "      <th></th>\n",
       "      <th></th>\n",
       "    </tr>\n",
       "  </thead>\n",
       "  <tbody>\n",
       "    <tr>\n",
       "      <th>2011</th>\n",
       "      <td>28393</td>\n",
       "      <td>28393</td>\n",
       "      <td>28393</td>\n",
       "    </tr>\n",
       "  </tbody>\n",
       "</table>\n",
       "</div>"
      ],
      "text/plain": [
       "           ns   name  update\n",
       "update                      \n",
       "2011    28393  28393   28393"
      ]
     },
     "execution_count": 101,
     "metadata": {},
     "output_type": "execute_result"
    }
   ],
   "source": [
    "cz = df2[df2['ns'] == '/opendata-cz']\n",
    "cz = cz.groupby(by=cz['update'].dt.year).count()\n",
    "cz"
   ]
  },
  {
   "cell_type": "markdown",
   "metadata": {},
   "source": [
    "It looks like this also was a big ingest at a point in time? Moving down the list a bit how about `/net`?"
   ]
  },
  {
   "cell_type": "code",
   "execution_count": 102,
   "metadata": {},
   "outputs": [
    {
     "data": {
      "text/html": [
       "<div>\n",
       "<style scoped>\n",
       "    .dataframe tbody tr th:only-of-type {\n",
       "        vertical-align: middle;\n",
       "    }\n",
       "\n",
       "    .dataframe tbody tr th {\n",
       "        vertical-align: top;\n",
       "    }\n",
       "\n",
       "    .dataframe thead th {\n",
       "        text-align: right;\n",
       "    }\n",
       "</style>\n",
       "<table border=\"1\" class=\"dataframe\">\n",
       "  <thead>\n",
       "    <tr style=\"text-align: right;\">\n",
       "      <th></th>\n",
       "      <th>ns</th>\n",
       "      <th>name</th>\n",
       "      <th>update</th>\n",
       "    </tr>\n",
       "    <tr>\n",
       "      <th>update</th>\n",
       "      <th></th>\n",
       "      <th></th>\n",
       "      <th></th>\n",
       "    </tr>\n",
       "  </thead>\n",
       "  <tbody>\n",
       "    <tr>\n",
       "      <th>2009</th>\n",
       "      <td>15112</td>\n",
       "      <td>15112</td>\n",
       "      <td>15112</td>\n",
       "    </tr>\n",
       "    <tr>\n",
       "      <th>2010</th>\n",
       "      <td>598</td>\n",
       "      <td>598</td>\n",
       "      <td>598</td>\n",
       "    </tr>\n",
       "    <tr>\n",
       "      <th>2011</th>\n",
       "      <td>371</td>\n",
       "      <td>371</td>\n",
       "      <td>371</td>\n",
       "    </tr>\n",
       "    <tr>\n",
       "      <th>2012</th>\n",
       "      <td>381</td>\n",
       "      <td>381</td>\n",
       "      <td>381</td>\n",
       "    </tr>\n",
       "    <tr>\n",
       "      <th>2013</th>\n",
       "      <td>341</td>\n",
       "      <td>341</td>\n",
       "      <td>341</td>\n",
       "    </tr>\n",
       "    <tr>\n",
       "      <th>2014</th>\n",
       "      <td>740</td>\n",
       "      <td>740</td>\n",
       "      <td>740</td>\n",
       "    </tr>\n",
       "    <tr>\n",
       "      <th>2015</th>\n",
       "      <td>864</td>\n",
       "      <td>864</td>\n",
       "      <td>864</td>\n",
       "    </tr>\n",
       "    <tr>\n",
       "      <th>2020</th>\n",
       "      <td>8</td>\n",
       "      <td>8</td>\n",
       "      <td>8</td>\n",
       "    </tr>\n",
       "  </tbody>\n",
       "</table>\n",
       "</div>"
      ],
      "text/plain": [
       "           ns   name  update\n",
       "update                      \n",
       "2009    15112  15112   15112\n",
       "2010      598    598     598\n",
       "2011      371    371     371\n",
       "2012      381    381     381\n",
       "2013      341    341     341\n",
       "2014      740    740     740\n",
       "2015      864    864     864\n",
       "2020        8      8       8"
      ]
     },
     "execution_count": 102,
     "metadata": {},
     "output_type": "execute_result"
    }
   ],
   "source": [
    "net = df2[df2['ns'] == '/net']\n",
    "net = net.groupby(by=net['update'].dt.year).count()\n",
    "net"
   ]
  },
  {
   "cell_type": "markdown",
   "metadata": {},
   "source": [
    "## Does it Work?\n",
    "\n",
    "How many of the PURLs still work? First we need to get a list of the current URLs from the metadata."
   ]
  },
  {
   "cell_type": "code",
   "execution_count": 27,
   "metadata": {},
   "outputs": [
    {
     "data": {
      "text/plain": [
       "{'maintainer': 'University of Mississippi',\n",
       " 'target': 'http://www.olemiss.edu/depts/general_library/archives/finding_aids/MUM00516.html',\n",
       " 'created': '2009-07-23 00:10:01',\n",
       " 'modified': '2009-11-04 10:08:07'}"
      ]
     },
     "execution_count": 27,
     "metadata": {},
     "output_type": "execute_result"
    }
   ],
   "source": [
    "def purl_targets():\n",
    "    data = pathlib.Path('data/purl')\n",
    "    for ns_dir in data.iterdir():\n",
    "        ns = ns_dir.name\n",
    "        metadata_file = ns_dir / f\"{ns}_purl.json\"\n",
    "        if metadata_file.is_file():\n",
    "            meta = json.load(metadata_file.open())\n",
    "            if meta.get('purls') is None: continue\n",
    "            if meta.get('maintainer') is not None and meta['maintainer'].get('affiliation') is not None:\n",
    "                maintainer = meta['maintainer']['affiliation']\n",
    "            else:\n",
    "                maintainer = '???'\n",
    "            for purl in meta['purls']:\n",
    "                yield {\n",
    "                    'maintainer': maintainer,\n",
    "                    'target': purl['target'],\n",
    "                    'created': purl['created'],\n",
    "                    'modified': purl.get('modified')\n",
    "                }\n",
    "        \n",
    "next(purl_targets())"
   ]
  },
  {
   "cell_type": "code",
   "execution_count": 29,
   "metadata": {},
   "outputs": [
    {
     "data": {
      "text/html": [
       "<div>\n",
       "<style scoped>\n",
       "    .dataframe tbody tr th:only-of-type {\n",
       "        vertical-align: middle;\n",
       "    }\n",
       "\n",
       "    .dataframe tbody tr th {\n",
       "        vertical-align: top;\n",
       "    }\n",
       "\n",
       "    .dataframe thead th {\n",
       "        text-align: right;\n",
       "    }\n",
       "</style>\n",
       "<table border=\"1\" class=\"dataframe\">\n",
       "  <thead>\n",
       "    <tr style=\"text-align: right;\">\n",
       "      <th></th>\n",
       "      <th>maintainer</th>\n",
       "      <th>target</th>\n",
       "      <th>created</th>\n",
       "      <th>modified</th>\n",
       "    </tr>\n",
       "  </thead>\n",
       "  <tbody>\n",
       "    <tr>\n",
       "      <th>69443</th>\n",
       "      <td>???</td>\n",
       "      <td>http://scientiageneralis.com.br/index.php/SG/a...</td>\n",
       "      <td>2021-12-15 13:51:09</td>\n",
       "      <td>2021-12-15 13:51:09</td>\n",
       "    </tr>\n",
       "    <tr>\n",
       "      <th>482588</th>\n",
       "      <td>???</td>\n",
       "      <td>https://www.vocoreg.org/home/CALLISTO/master</td>\n",
       "      <td>2021-12-15 09:04:48</td>\n",
       "      <td>2021-12-15 09:04:48</td>\n",
       "    </tr>\n",
       "    <tr>\n",
       "      <th>39157</th>\n",
       "      <td>???</td>\n",
       "      <td>http://www.iseor-formations.com/pdf/ACTESCOLOD...</td>\n",
       "      <td>2021-12-12 15:14:44</td>\n",
       "      <td>2021-12-12 15:14:44</td>\n",
       "    </tr>\n",
       "    <tr>\n",
       "      <th>467630</th>\n",
       "      <td>???</td>\n",
       "      <td>https://pubs.opengroup.org/architecture/archim...</td>\n",
       "      <td>2021-12-11 08:35:28</td>\n",
       "      <td>2021-12-11 08:35:28</td>\n",
       "    </tr>\n",
       "    <tr>\n",
       "      <th>467629</th>\n",
       "      <td>???</td>\n",
       "      <td>https:https://pubs.opengroup.org/architecture/...</td>\n",
       "      <td>2021-12-11 08:34:21</td>\n",
       "      <td>2021-12-11 08:34:21</td>\n",
       "    </tr>\n",
       "    <tr>\n",
       "      <th>...</th>\n",
       "      <td>...</td>\n",
       "      <td>...</td>\n",
       "      <td>...</td>\n",
       "      <td>...</td>\n",
       "    </tr>\n",
       "    <tr>\n",
       "      <th>405632</th>\n",
       "      <td>PURL Server</td>\n",
       "      <td>http://saifmohammad.com/WebPages/lexicons.html...</td>\n",
       "      <td>2015-10-16 14:09:08</td>\n",
       "      <td>None</td>\n",
       "    </tr>\n",
       "    <tr>\n",
       "      <th>405633</th>\n",
       "      <td>PURL Server</td>\n",
       "      <td>http://comodi.sems.uni-rostock.de/2015-10-09</td>\n",
       "      <td>2015-10-21 08:17:26</td>\n",
       "      <td>None</td>\n",
       "    </tr>\n",
       "    <tr>\n",
       "      <th>405634</th>\n",
       "      <td>PURL Server</td>\n",
       "      <td>http://comodi.sems.uni-rostock.de/2015-10-20</td>\n",
       "      <td>2015-10-21 08:17:39</td>\n",
       "      <td>None</td>\n",
       "    </tr>\n",
       "    <tr>\n",
       "      <th>405636</th>\n",
       "      <td>PURL Server</td>\n",
       "      <td>http://semantic.cs.put.poznan.pl/dmo/DMOP/DMOP...</td>\n",
       "      <td>2015-10-23 05:35:27</td>\n",
       "      <td>None</td>\n",
       "    </tr>\n",
       "    <tr>\n",
       "      <th>405637</th>\n",
       "      <td>PURL Server</td>\n",
       "      <td>http://semantic.cs.put.poznan.pl/dmo/DMOP/</td>\n",
       "      <td>2015-10-23 05:43:39</td>\n",
       "      <td>None</td>\n",
       "    </tr>\n",
       "  </tbody>\n",
       "</table>\n",
       "<p>501135 rows × 4 columns</p>\n",
       "</div>"
      ],
      "text/plain": [
       "         maintainer                                             target  \\\n",
       "69443           ???  http://scientiageneralis.com.br/index.php/SG/a...   \n",
       "482588          ???       https://www.vocoreg.org/home/CALLISTO/master   \n",
       "39157           ???  http://www.iseor-formations.com/pdf/ACTESCOLOD...   \n",
       "467630          ???  https://pubs.opengroup.org/architecture/archim...   \n",
       "467629          ???  https:https://pubs.opengroup.org/architecture/...   \n",
       "...             ...                                                ...   \n",
       "405632  PURL Server  http://saifmohammad.com/WebPages/lexicons.html...   \n",
       "405633  PURL Server       http://comodi.sems.uni-rostock.de/2015-10-09   \n",
       "405634  PURL Server       http://comodi.sems.uni-rostock.de/2015-10-20   \n",
       "405636  PURL Server  http://semantic.cs.put.poznan.pl/dmo/DMOP/DMOP...   \n",
       "405637  PURL Server         http://semantic.cs.put.poznan.pl/dmo/DMOP/   \n",
       "\n",
       "                    created             modified  \n",
       "69443   2021-12-15 13:51:09  2021-12-15 13:51:09  \n",
       "482588  2021-12-15 09:04:48  2021-12-15 09:04:48  \n",
       "39157   2021-12-12 15:14:44  2021-12-12 15:14:44  \n",
       "467630  2021-12-11 08:35:28  2021-12-11 08:35:28  \n",
       "467629  2021-12-11 08:34:21  2021-12-11 08:34:21  \n",
       "...                     ...                  ...  \n",
       "405632  2015-10-16 14:09:08                 None  \n",
       "405633  2015-10-21 08:17:26                 None  \n",
       "405634  2015-10-21 08:17:39                 None  \n",
       "405636  2015-10-23 05:35:27                 None  \n",
       "405637  2015-10-23 05:43:39                 None  \n",
       "\n",
       "[501135 rows x 4 columns]"
      ]
     },
     "execution_count": 29,
     "metadata": {},
     "output_type": "execute_result"
    }
   ],
   "source": [
    "urls = pandas.json_normalize(purl_targets()).sort_values('modified', ascending=False)\n",
    "urls"
   ]
  },
  {
   "cell_type": "markdown",
   "metadata": {},
   "source": [
    "So we've got 405,637 URLs. That would take a while to check all of them. How about we sample them? This [calculator](https://www.qualtrics.com/blog/calculating-sample-size/) says if we want a 99% confidence level and a 5% margin of error we can go with a sample size of 662."
   ]
  },
  {
   "cell_type": "code",
   "execution_count": 30,
   "metadata": {},
   "outputs": [
    {
     "data": {
      "text/html": [
       "<div>\n",
       "<style scoped>\n",
       "    .dataframe tbody tr th:only-of-type {\n",
       "        vertical-align: middle;\n",
       "    }\n",
       "\n",
       "    .dataframe tbody tr th {\n",
       "        vertical-align: top;\n",
       "    }\n",
       "\n",
       "    .dataframe thead th {\n",
       "        text-align: right;\n",
       "    }\n",
       "</style>\n",
       "<table border=\"1\" class=\"dataframe\">\n",
       "  <thead>\n",
       "    <tr style=\"text-align: right;\">\n",
       "      <th></th>\n",
       "      <th>maintainer</th>\n",
       "      <th>target</th>\n",
       "      <th>created</th>\n",
       "      <th>modified</th>\n",
       "    </tr>\n",
       "  </thead>\n",
       "  <tbody>\n",
       "    <tr>\n",
       "      <th>330279</th>\n",
       "      <td>PURL Server</td>\n",
       "      <td>http://www.terafsada.com/adtrackz/go.php?c=cgj...</td>\n",
       "      <td>2009-07-22 22:00:57</td>\n",
       "      <td>2009-07-22 22:00:57</td>\n",
       "    </tr>\n",
       "    <tr>\n",
       "      <th>31053</th>\n",
       "      <td>Newcastle University</td>\n",
       "      <td>http://greycite.knowledgeblog.org/?uid=15961</td>\n",
       "      <td>2014-08-18 00:28:39</td>\n",
       "      <td>2014-08-18 00:28:39</td>\n",
       "    </tr>\n",
       "    <tr>\n",
       "      <th>232876</th>\n",
       "      <td>OCLC, Office of Research</td>\n",
       "      <td>http://dos10.nysed.gov/cgi-bin/nysedoc?index1=...</td>\n",
       "      <td>2009-07-22 23:29:15</td>\n",
       "      <td>2009-07-22 23:29:15</td>\n",
       "    </tr>\n",
       "    <tr>\n",
       "      <th>55170</th>\n",
       "      <td>PURL Server</td>\n",
       "      <td>http://my.yoolib.com/ad65/?p=7357</td>\n",
       "      <td>2013-06-11 06:11:14</td>\n",
       "      <td>2013-06-11 06:11:14</td>\n",
       "    </tr>\n",
       "    <tr>\n",
       "      <th>143939</th>\n",
       "      <td>OCLC, Office of Research</td>\n",
       "      <td>http://www.gorr.state.ny.us/gorr/zoning.html</td>\n",
       "      <td>2009-07-22 17:52:09</td>\n",
       "      <td>2009-07-22 17:52:09</td>\n",
       "    </tr>\n",
       "    <tr>\n",
       "      <th>...</th>\n",
       "      <td>...</td>\n",
       "      <td>...</td>\n",
       "      <td>...</td>\n",
       "      <td>...</td>\n",
       "    </tr>\n",
       "    <tr>\n",
       "      <th>239002</th>\n",
       "      <td>OCLC, Office of Research</td>\n",
       "      <td>http://gowest.coalliance.org/cgi-bin/imager?20...</td>\n",
       "      <td>2009-07-22 23:56:24</td>\n",
       "      <td>2009-07-22 23:56:24</td>\n",
       "    </tr>\n",
       "    <tr>\n",
       "      <th>326140</th>\n",
       "      <td>PURL Server</td>\n",
       "      <td>http://maps.yahoo.com/py/ddResults.py?Pyt=Tmap...</td>\n",
       "      <td>2009-07-22 19:34:54</td>\n",
       "      <td>2009-07-22 19:34:54</td>\n",
       "    </tr>\n",
       "    <tr>\n",
       "      <th>400829</th>\n",
       "      <td>PURL Server</td>\n",
       "      <td>http://www.library.nd.edu/ddw/public/resource_...</td>\n",
       "      <td>2009-07-23 01:27:09</td>\n",
       "      <td>None</td>\n",
       "    </tr>\n",
       "    <tr>\n",
       "      <th>119930</th>\n",
       "      <td>PURL Server</td>\n",
       "      <td>http://my.yoolib.net/bmsaintomer/?p=8679</td>\n",
       "      <td>2012-04-27 11:15:25</td>\n",
       "      <td>2012-04-27 11:15:25</td>\n",
       "    </tr>\n",
       "    <tr>\n",
       "      <th>470093</th>\n",
       "      <td>PURL Server</td>\n",
       "      <td>http://my.yoolib.com/bmalencon/?p=170</td>\n",
       "      <td>2014-04-15 12:34:29</td>\n",
       "      <td>2014-04-15 12:34:29</td>\n",
       "    </tr>\n",
       "  </tbody>\n",
       "</table>\n",
       "<p>662 rows × 4 columns</p>\n",
       "</div>"
      ],
      "text/plain": [
       "                      maintainer  \\\n",
       "330279               PURL Server   \n",
       "31053       Newcastle University   \n",
       "232876  OCLC, Office of Research   \n",
       "55170                PURL Server   \n",
       "143939  OCLC, Office of Research   \n",
       "...                          ...   \n",
       "239002  OCLC, Office of Research   \n",
       "326140               PURL Server   \n",
       "400829               PURL Server   \n",
       "119930               PURL Server   \n",
       "470093               PURL Server   \n",
       "\n",
       "                                                   target  \\\n",
       "330279  http://www.terafsada.com/adtrackz/go.php?c=cgj...   \n",
       "31053        http://greycite.knowledgeblog.org/?uid=15961   \n",
       "232876  http://dos10.nysed.gov/cgi-bin/nysedoc?index1=...   \n",
       "55170                   http://my.yoolib.com/ad65/?p=7357   \n",
       "143939       http://www.gorr.state.ny.us/gorr/zoning.html   \n",
       "...                                                   ...   \n",
       "239002  http://gowest.coalliance.org/cgi-bin/imager?20...   \n",
       "326140  http://maps.yahoo.com/py/ddResults.py?Pyt=Tmap...   \n",
       "400829  http://www.library.nd.edu/ddw/public/resource_...   \n",
       "119930           http://my.yoolib.net/bmsaintomer/?p=8679   \n",
       "470093              http://my.yoolib.com/bmalencon/?p=170   \n",
       "\n",
       "                    created             modified  \n",
       "330279  2009-07-22 22:00:57  2009-07-22 22:00:57  \n",
       "31053   2014-08-18 00:28:39  2014-08-18 00:28:39  \n",
       "232876  2009-07-22 23:29:15  2009-07-22 23:29:15  \n",
       "55170   2013-06-11 06:11:14  2013-06-11 06:11:14  \n",
       "143939  2009-07-22 17:52:09  2009-07-22 17:52:09  \n",
       "...                     ...                  ...  \n",
       "239002  2009-07-22 23:56:24  2009-07-22 23:56:24  \n",
       "326140  2009-07-22 19:34:54  2009-07-22 19:34:54  \n",
       "400829  2009-07-23 01:27:09                 None  \n",
       "119930  2012-04-27 11:15:25  2012-04-27 11:15:25  \n",
       "470093  2014-04-15 12:34:29  2014-04-15 12:34:29  \n",
       "\n",
       "[662 rows x 4 columns]"
      ]
     },
     "execution_count": 30,
     "metadata": {},
     "output_type": "execute_result"
    }
   ],
   "source": [
    "url_sample = urls.sample(662)\n",
    "url_sample"
   ]
  },
  {
   "cell_type": "markdown",
   "metadata": {},
   "source": [
    "Knowing whether a URL is working or not is actually a really tricky thing. A URL could appear to work but point at something completely different than what was intended. A URL could return 200 OK but the page could read that the resource is gone. It's very tricky. But lets just take a simplistic look at the status code from the response. Even then we need to be carefult to guard against errors where the host name no longer exists, and where the connection timeouts when the webserver doesn't respond in a timely manner. Since this can take a while its' useful to print out what's happening as it is going."
   ]
  },
  {
   "cell_type": "code",
   "execution_count": null,
   "metadata": {},
   "outputs": [],
   "source": [
    "def status_code(url):\n",
    "    try:\n",
    "        resp = requests.get(url, timeout=10)\n",
    "        print(f'{resp.status_code} {url}')\n",
    "        return str(resp.status_code)\n",
    "    except Exception as e:\n",
    "        print(f'{e} {url}')\n",
    "        return 'other'"
   ]
  },
  {
   "cell_type": "code",
   "execution_count": 78,
   "metadata": {},
   "outputs": [
    {
     "name": "stdout",
     "output_type": "stream",
     "text": [
      "404 http://my.yoolib.net/bmsaintomer/?p=8679\n"
     ]
    },
    {
     "data": {
      "text/plain": [
       "'404'"
      ]
     },
     "execution_count": 78,
     "metadata": {},
     "output_type": "execute_result"
    }
   ],
   "source": [
    "status_code('http://my.yoolib.net/bmsaintomer/?p=8679')"
   ]
  },
  {
   "cell_type": "markdown",
   "metadata": {},
   "source": [
    "This does not bode well, but lets run this for our sample."
   ]
  },
  {
   "cell_type": "code",
   "execution_count": 82,
   "metadata": {},
   "outputs": [
    {
     "name": "stdout",
     "output_type": "stream",
     "text": [
      "HTTPConnectionPool(host='www.terafsada.com', port=80): Max retries exceeded with url: /adtrackz/go.php?c=cgjobssales (Caused by NewConnectionError('<urllib3.connection.HTTPConnection object at 0x7fc5f5d62be0>: Failed to establish a new connection: [Errno -2] Name or service not known')) http://www.terafsada.com/adtrackz/go.php?c=cgjobssales\n",
      "HTTPConnectionPool(host='greycite.knowledgeblog.org', port=80): Max retries exceeded with url: /?uid=15961 (Caused by ConnectTimeoutError(<urllib3.connection.HTTPConnection object at 0x7fc5f5d62f40>, 'Connection to greycite.knowledgeblog.org timed out. (connect timeout=10)')) http://greycite.knowledgeblog.org/?uid=15961\n",
      "HTTPConnectionPool(host='dos10.nysed.gov', port=80): Max retries exceeded with url: /cgi-bin/nysedoc?index1=39286861 (Caused by NewConnectionError('<urllib3.connection.HTTPConnection object at 0x7fc5f5d62fa0>: Failed to establish a new connection: [Errno -2] Name or service not known')) http://dos10.nysed.gov/cgi-bin/nysedoc?index1=39286861\n",
      "404 http://my.yoolib.com/ad65/?p=7357\n",
      "HTTPConnectionPool(host='www.gorr.state.ny.us', port=80): Max retries exceeded with url: /gorr/zoning.html (Caused by NewConnectionError('<urllib3.connection.HTTPConnection object at 0x7fc5f5d620d0>: Failed to establish a new connection: [Errno -2] Name or service not known')) http://www.gorr.state.ny.us/gorr/zoning.html\n",
      "404 http://my.yoolib.com/bmmontpellier/?p=18550\n",
      "200 http://www.dismarc.org/vocabulary/dmGenres/11219\n",
      "HTTPConnectionPool(host='www.iir.ubc.ca', port=80): Max retries exceeded with url: /Job.htm (Caused by NewConnectionError('<urllib3.connection.HTTPConnection object at 0x7fc5f5d62a30>: Failed to establish a new connection: [Errno -5] No address associated with hostname')) http://www.iir.ubc.ca/Job.htm\n",
      "200 http://www.parl.gc.ca/InfocomDoc/36/1/FINA/Studies/Reports/finarp11-e.htm\n",
      "200 http://www2.unil.ch/viatimages/index.php?module=image&action=detail&IDImage=2178&projet=viaticalpes&lang=fr\n",
      "404 http://opendata.cz/cpv/2008/35511300-2/\n",
      "200 http://nsidc.org/cgi-bin/gpd_deliver_jpg.pl?USGS94V2_022\n",
      "404 http://my.yoolib.net/bmmontpellier/?p=1966\n",
      "404 http://my.yoolib.com/bmfrejus/?p=1315\n",
      "404 http://www.cpsc.gov/indexmain.html\n",
      "200 http://creator.zoho.com/library/copy-of-scheduling/form-perma/Instruction_Request/\n",
      "200 http://decapoda.nhm.org/references/12236\n",
      "404 http://my.yoolib.net/bmmontpellier/?p=6839\n",
      "404 http://my.yoolib.com/bmaixenprovence/?p=500\n",
      "404 http://my.yoolib.com/bmmontpellier/?p=31383\n",
      "404 http://my.yoolib.com/ad24/?p=6800\n",
      "No connection adapters were found for 'telnet://ifas.ufl.edu' telnet://ifas.ufl.edu\n",
      "200 http://pir.georgetown.edu/cgi-bin/pro/entry_pro?id=PRO:000000805\n",
      "404 http://opendata.cz/vocabulary/cpv/2008/38562000-2\n",
      "HTTPConnectionPool(host='www.makeingmoneyhome.com', port=80): Max retries exceeded with url: / (Caused by NewConnectionError('<urllib3.connection.HTTPConnection object at 0x7fc5f3ca68e0>: Failed to establish a new connection: [Errno -2] Name or service not known')) http://www.makeingmoneyhome.com\n",
      "404 http://my.yoolib.com/bmaixenprovence/?p=13851\n",
      "404 http://my.yoolib.net/bmsaintomer/?p=8086\n",
      "200 http://www.adrive.com/public/c89111182e75902500d810efb6868e950280d27827b81fadc0d608ba367e8791.html\n",
      "200 https://web.archive.org/web/20170722153156/http://www.afr.com:80/joanna-mather-j7gd3\n",
      "200 http://www.archive.org/search.php?query=collection:MontanaStateLibrary AND oclc-id:197488448\n",
      "200 http://pir.georgetown.edu/cgi-bin/pro/entry_pro?id=PRO:000001469\n",
      "200 http://my.yoolib.com/cinemathequedetoulouse/?p=1089\n",
      "200 http://nsidc.org/cgi-bin/gpd_deliver_jpg.pl?rmnp1941_andrews194106\n",
      "404 http://www.diglib.org/use/scholars0406/\n",
      "404 http://my.yoolib.com/ad65/?p=10871\n",
      "404 http://my.yoolib.com/ad24/?p=4593\n",
      "200 http://users.pandora.be/pact\n",
      "Invalid URL '': No schema supplied. Perhaps you meant http://? \n",
      "HTTPConnectionPool(host='valueaddeddistribution.com', port=80): Max retries exceeded with url: /loader.php?name=Greg&custID=e3980852-d3f9-21d3-9b10-48b9737158f0&inciID=37515 (Caused by NewConnectionError('<urllib3.connection.HTTPConnection object at 0x7fc5f48f20d0>: Failed to establish a new connection: [Errno -2] Name or service not known')) http://valueaddeddistribution.com/loader.php?name=Greg&custID=e3980852-d3f9-21d3-9b10-48b9737158f0&inciID=37515\n",
      "200 http://www.jumpingfrog.com\n",
      "404 http://my.yoolib.com/bmfrejus/?p=1011\n",
      "404 http://my.yoolib.com/ammontbrison/?p=354\n",
      "200 http://my.yoolib.com/ambazas/?p=2297\n",
      "404 http://my.yoolib.com/bmaixenprovence/?p=14174\n",
      "200 http://www2.unil.ch/viatimages/index.php?module=image&action=detail&IDImage=3369&projet=viaticalpes&lang=it\n",
      "404 http://my.yoolib.com/bmbayonne/?p=1152\n",
      "404 http://my.yoolib.net/bmmontpellier/?p=8447\n",
      "200 http://my.yoolib.com/cinemathequedetoulouse/?p=1083\n",
      "404 http://my.yoolib.com/ad65/?p=11711\n",
      "HTTPConnectionPool(host='greycite.knowledgeblog.org', port=80): Max retries exceeded with url: /?uid=15205 (Caused by ConnectTimeoutError(<urllib3.connection.HTTPConnection object at 0x7fc5f5d627c0>, 'Connection to greycite.knowledgeblog.org timed out. (connect timeout=10)')) http://greycite.knowledgeblog.org/?uid=15205\n",
      "200 http://firstsearch.oclc.org/journal=0309-0558;screen=info;ECOIP\n",
      "200 http://www.dismarc.org/vocabulary/dmGenres/#23655\n",
      "HTTPConnectionPool(host='valueaddeddistribution.com', port=80): Max retries exceeded with url: /loader.php?name=Ken&custID=c9bb87cf-33e1-b32c-8f8d-48b97836fe83&inciID=36992 (Caused by NewConnectionError('<urllib3.connection.HTTPConnection object at 0x7fc5f3c85760>: Failed to establish a new connection: [Errno -2] Name or service not known')) http://valueaddeddistribution.com/loader.php?name=Ken&custID=c9bb87cf-33e1-b32c-8f8d-48b97836fe83&inciID=36992\n",
      "200 http://www.pbs.org/wgbh/nova/pyramid/\n",
      "404 http://my.yoolib.com/bmchambery/?p=1801\n",
      "200 http://dsal.uchicago.edu/indexes/bas/index.html\n",
      "HTTPConnectionPool(host='gray.nber.org', port=80): Max retries exceeded with url: /papers/W5429 (Caused by NewConnectionError('<urllib3.connection.HTTPConnection object at 0x7fc5f3c85ca0>: Failed to establish a new connection: [Errno -2] Name or service not known')) http://gray.nber.org/papers/W5429\n",
      "HTTPConnectionPool(host='gowest.coalliance.org', port=80): Max retries exceeded with url: /cgi-bin/imager?20031088 (Caused by NewConnectionError('<urllib3.connection.HTTPConnection object at 0x7fc5f5d62fd0>: Failed to establish a new connection: [Errno -2] Name or service not known')) http://gowest.coalliance.org/cgi-bin/imager?20031088\n",
      "HTTPConnectionPool(host='ianrwww.unl.edu', port=80): Max retries exceeded with url: /ianr/pubs/extnpubs/dairy/g1143.htm (Caused by NewConnectionError('<urllib3.connection.HTTPConnection object at 0x7fc5f3c85c40>: Failed to establish a new connection: [Errno -2] Name or service not known')) http://ianrwww.unl.edu/ianr/pubs/extnpubs/dairy/g1143.htm\n",
      "200 http://pir.georgetown.edu/cgi-bin/pro/entry_pro?id=PRO:000000832\n",
      "200 http://www2.unil.ch/viatimages/index.php?module=image&action=detail&IDImage=2280&projet=viaticalpes&lang=en\n",
      "HTTPConnectionPool(host='www-medlib.med.utah.edu', port=80): Max retries exceeded with url: /kw/derm/mml/derm_24840018.jpg (Caused by NewConnectionError('<urllib3.connection.HTTPConnection object at 0x7fc5f5d623a0>: Failed to establish a new connection: [Errno -2] Name or service not known')) http://www-medlib.med.utah.edu/kw/derm/mml/derm%5F24840018.jpg\n",
      "200 http://ufal.mff.cuni.cz/~hana/morph.html\n",
      "200 http://www.olemiss.edu/depts/general_library/archives/finding_aids/MUM00674.html\n",
      "HTTPConnectionPool(host='plutonium-erl.actx.edu', port=80): Max retries exceeded with url: /cgi-bin/pdf.cgi?i00239 (Caused by NewConnectionError('<urllib3.connection.HTTPConnection object at 0x7fc5fa44a850>: Failed to establish a new connection: [Errno -2] Name or service not known')) http://plutonium-erl.actx.edu/cgi-bin/pdf.cgi?i00239\n",
      "404 http://my.yoolib.com/letelegramme/?p=9553\n",
      "HTTPConnectionPool(host='gowest.coalliance.org', port=80): Max retries exceeded with url: /cgi-bin/imager?10033368 (Caused by NewConnectionError('<urllib3.connection.HTTPConnection object at 0x7fc5fa44af40>: Failed to establish a new connection: [Errno -2] Name or service not known')) http://gowest.coalliance.org/cgi-bin/imager?10033368\n",
      "404 http://my.yoolib.com/ad65/?p=14752\n",
      "200 http://www.aph.org\n",
      "HTTPConnectionPool(host='valueaddeddistribution.com', port=80): Max retries exceeded with url: /loader.php?name=Jenna&custID=782178e2-f8cd-9af1-cc19-4a202a2502c8&inciID=43444 (Caused by NewConnectionError('<urllib3.connection.HTTPConnection object at 0x7fc5f5d62160>: Failed to establish a new connection: [Errno -2] Name or service not known')) http://valueaddeddistribution.com/loader.php?name=Jenna&custID=782178e2-f8cd-9af1-cc19-4a202a2502c8&inciID=43444\n",
      "404 http://my.yoolib.com/letelegramme/?p=6268\n",
      "404 http://my.yoolib.com/ad65/?p=12163\n",
      "HTTPConnectionPool(host='http', port=80): Max retries exceeded with url: //gowest.coalliance.org/cgi-bin/imager?00072830 (Caused by NewConnectionError('<urllib3.connection.HTTPConnection object at 0x7fc5fa44aaf0>: Failed to establish a new connection: [Errno -3] Temporary failure in name resolution')) http://http://gowest.coalliance.org/cgi-bin/imager?00072830\n",
      "HTTPConnectionPool(host='gowest.coalliance.org', port=80): Max retries exceeded with url: /cgi-bin/imager?10061697 (Caused by NewConnectionError('<urllib3.connection.HTTPConnection object at 0x7fc5f5d62220>: Failed to establish a new connection: [Errno -2] Name or service not known')) http://gowest.coalliance.org/cgi-bin/imager?10061697\n",
      "200 http://www.archive.org/details/potentialforener00martrich\n",
      "404 http://my.yoolib.com/bmbordeaux/?p=6281\n",
      "200 http://hdl.loc.gov/loc.gmd/g3884a.pm009504\n",
      "404 http://www.census.gov/ftp/pub/prod/1/manmin/92area/92manufac.html\n",
      "HTTPConnectionPool(host='gowest.coalliance.org', port=80): Max retries exceeded with url: /cgi-bin/imager?20030224 (Caused by NewConnectionError('<urllib3.connection.HTTPConnection object at 0x7fc5fb2bb370>: Failed to establish a new connection: [Errno -2] Name or service not known')) http://gowest.coalliance.org/cgi-bin/imager?20030224\n",
      "404 http://my.yoolib.com/letelegramme/?p=2499\n",
      "200 http://www.archive.org/details/centuryofservice1976warm\n",
      "404 http://my.yoolib.com/bmchambery/?p=1034\n",
      "200 http://my.yoolib.com/cinemathequedetoulouse/?p=257\n",
      "404 http://my.yoolib.com/bmaixenprovence/?p=7146\n",
      "200 http://www.lib.uidaho.edu/internet/links/Chemistry/\n",
      "404 http://my.yoolib.com/ad65/?p=12294\n",
      "HTTPConnectionPool(host='www.ref.oclc.org', port=2000): Max retries exceeded with url: /journal=0046-5070;screen=info;ECOIP (Caused by ConnectTimeoutError(<urllib3.connection.HTTPConnection object at 0x7fc5f48f2ca0>, 'Connection to www.ref.oclc.org timed out. (connect timeout=10)')) http://www.ref.oclc.org:2000/journal=0046-5070;screen=info;ECOIP\n",
      "No connection adapters were found for 'ftp://uiarchive.cso.uiuc.edu/pub/etext/gutenberg/etext93/tarz310.txt' ftp://uiarchive.cso.uiuc.edu/pub/etext/gutenberg/etext93/tarz310.txt\n",
      "200 http://my.yoolib.com/inha/?p=18193\n",
      "HTTPConnectionPool(host='chppm-www.apgea.army.mil', port=80): Max retries exceeded with url: /documents/FACT/65-049-0503.pdf (Caused by NewConnectionError('<urllib3.connection.HTTPConnection object at 0x7fc5fb2c5730>: Failed to establish a new connection: [Errno -2] Name or service not known')) http://chppm-www.apgea.army.mil/documents/FACT/65-049-0503.pdf\n",
      "200 http://www2.unil.ch/viatimages/index.php?module=image&action=detail&IDImage=3725&projet=viaticalpes&lang=en\n",
      "HTTPConnectionPool(host='greycite.knowledgeblog.org', port=80): Max retries exceeded with url: /?uid=10623 (Caused by ConnectTimeoutError(<urllib3.connection.HTTPConnection object at 0x7fc5fb2c5370>, 'Connection to greycite.knowledgeblog.org timed out. (connect timeout=10)')) http://greycite.knowledgeblog.org/?uid=10623\n",
      "404 http://my.yoolib.com/bmfrejus/?p=2941\n",
      "HTTPConnectionPool(host='valueaddeddistribution.com', port=80): Max retries exceeded with url: /loader.php?name=Bonnie&custID=707a525a-0a9b-625f-1030-48b9761efebb&inciID=35203 (Caused by NewConnectionError('<urllib3.connection.HTTPConnection object at 0x7fc5fb2c5a30>: Failed to establish a new connection: [Errno -2] Name or service not known')) http://valueaddeddistribution.com/loader.php?name=Bonnie&custID=707a525a-0a9b-625f-1030-48b9761efebb&inciID=35203\n",
      "200 http://firstsearch.oclc.org/journal=0002-9327;screen=info;ECOIP\n",
      "HTTPConnectionPool(host='www.ref.oclc.org', port=2000): Max retries exceeded with url: /journal=1077-3169;screen=info;ECOIP (Caused by ConnectTimeoutError(<urllib3.connection.HTTPConnection object at 0x7fc5f5d5bb20>, 'Connection to www.ref.oclc.org timed out. (connect timeout=10)')) http://www.ref.oclc.org:2000/journal=1077-3169;screen=info;ECOIP\n",
      "200 http://www.boora.com/\n",
      "404 http://my.yoolib.com/ambagneux/?p=175\n",
      "HTTPConnectionPool(host='gowest.coalliance.org', port=80): Max retries exceeded with url: /cgi-bin/imager?10060294 (Caused by NewConnectionError('<urllib3.connection.HTTPConnection object at 0x7fc5f3c85c40>: Failed to establish a new connection: [Errno -2] Name or service not known')) http://gowest.coalliance.org/cgi-bin/imager?10060294\n",
      "403 http://MyOptInPage.com/?pid=3191464\n",
      "HTTPConnectionPool(host='gowest.coalliance.org', port=80): Max retries exceeded with url: /cgi-bin/imager?10031654 (Caused by NewConnectionError('<urllib3.connection.HTTPConnection object at 0x7fc5f3c853a0>: Failed to establish a new connection: [Errno -2] Name or service not known')) http://gowest.coalliance.org/cgi-bin/imager?10031654\n",
      "404 http://www.library.unt.edu/info/willis/music/speccol.asp#wfaa%5Fwbap\n",
      "200 http://my.yoolib.com/bmdieppe/?p=5283\n",
      "HTTPConnectionPool(host='gowest.coalliance.org', port=80): Max retries exceeded with url: /cgi-bin/imager?10033029 (Caused by NewConnectionError('<urllib3.connection.HTTPConnection object at 0x7fc5fa44a5b0>: Failed to establish a new connection: [Errno -2] Name or service not known')) http://gowest.coalliance.org/cgi-bin/imager?10033029\n",
      "404 http://my.yoolib.com/bmaixenprovence/?p=8399\n",
      "404 http://my.yoolib.com/bmnice/?p=1988\n",
      "HTTPConnectionPool(host='www.cloakroom.com', port=80): Max retries exceeded with url: / (Caused by NewConnectionError('<urllib3.connection.HTTPConnection object at 0x7fc5f3c85310>: Failed to establish a new connection: [Errno -2] Name or service not known')) http://www.cloakroom.com\n",
      "HTTPConnectionPool(host='plutonium-erl.actx.edu', port=80): Max retries exceeded with url: /ns29no3.html (Caused by NewConnectionError('<urllib3.connection.HTTPConnection object at 0x7fc5f5d5bb50>: Failed to establish a new connection: [Errno -2] Name or service not known')) http://plutonium-erl.actx.edu/ns29no3.html\n",
      "HTTPConnectionPool(host='gowest.coalliance.org', port=80): Max retries exceeded with url: /cgi-bin/imager?10062063 (Caused by NewConnectionError('<urllib3.connection.HTTPConnection object at 0x7fc5f3c85640>: Failed to establish a new connection: [Errno -2] Name or service not known')) http://gowest.coalliance.org/cgi-bin/imager?10062063\n",
      "200 http://my.yoolib.com/inha/?p=16630\n",
      "404 http://my.yoolib.net/bmmontpellier/?p=11156\n",
      "HTTPConnectionPool(host='www.ref.oclc.org', port=2000): Max retries exceeded with url: / (Caused by ConnectTimeoutError(<urllib3.connection.HTTPConnection object at 0x7fc5f4ebacd0>, 'Connection to www.ref.oclc.org timed out. (connect timeout=10)')) http://www.ref.oclc.org:2000\n",
      "No connection adapters were found for 'gopher://cpsc.gov:70/00/CPSC_Pubs/Chld_Sfy/4359' gopher://cpsc.gov:70/00/CPSC_Pubs/Chld_Sfy/4359\n",
      "404 http://my.yoolib.com/muplansreliefs/?p=962\n",
      "404 http://my.yoolib.com/ad24/?p=9008\n",
      "404 http://members.chello.at/milan.guglielmi/\n",
      "HTTPConnectionPool(host='valueaddeddistribution.com', port=80): Max retries exceeded with url: /loader.php?name=Julie&custID=772e9133-6430-2238-96da-49c3fd83844f&inciID=43423 (Caused by NewConnectionError('<urllib3.connection.HTTPConnection object at 0x7fc5fa44a850>: Failed to establish a new connection: [Errno -2] Name or service not known')) http://valueaddeddistribution.com/loader.php?name=Julie&custID=772e9133-6430-2238-96da-49c3fd83844f&inciID=43423\n",
      "404 http://my.yoolib.com/bmchambery/?p=796\n",
      "HTTPConnectionPool(host='www.pry.ec.gc.ca', port=80): Max retries exceeded with url: /ep/emergencies/index.html (Caused by NewConnectionError('<urllib3.connection.HTTPConnection object at 0x7fc5fa44a610>: Failed to establish a new connection: [Errno -2] Name or service not known')) http://www.pry.ec.gc.ca/ep/emergencies/index.html\n",
      "HTTPConnectionPool(host='gowest.coalliance.org', port=80): Max retries exceeded with url: /cgi-bin/imager?10061000 (Caused by NewConnectionError('<urllib3.connection.HTTPConnection object at 0x7fc5fa44ad30>: Failed to establish a new connection: [Errno -2] Name or service not known')) http://gowest.coalliance.org/cgi-bin/imager?10061000\n",
      "HTTPConnectionPool(host='gowest.coalliance.org', port=80): Max retries exceeded with url: /cgi-bin/imager?00185811 (Caused by NewConnectionError('<urllib3.connection.HTTPConnection object at 0x7fc5fa44ae20>: Failed to establish a new connection: [Errno -2] Name or service not known')) http://gowest.coalliance.org/cgi-bin/imager?00185811\n",
      "404 http://my.yoolib.net/bmsaintomer/?p=14023\n",
      "('Connection aborted.', ConnectionResetError(104, 'Connection reset by peer')) http://www.bitlocker.com/guest?c=2&r=1959604598605298\n",
      "200 http://purl.access.gpo.gov/GPO/LPS2599\n",
      "200 http://www.cdc.gov/nccdphp/sgr/sgr.htm\n",
      "404 http://my.yoolib.com/letelegramme/?p=9894\n",
      "404 http://my.yoolib.com/letelegramme/?p=12818\n",
      "200 http://www.onb.ac.at/sichtungen/rezensionen/bauer-m-1b.html\n",
      "200 http://my.yoolib.net/inha/?p=1616\n",
      "403 https://www.armarium.eu/startseite/salzburg/benediktinerinnen-nonnberg-salzburg-osb/\n",
      "HTTPConnectionPool(host='gowest.coalliance.org', port=80): Max retries exceeded with url: /cgi-bin/imager?00074813 (Caused by NewConnectionError('<urllib3.connection.HTTPConnection object at 0x7fc5fb2bbb20>: Failed to establish a new connection: [Errno -2] Name or service not known')) http://gowest.coalliance.org/cgi-bin/imager?00074813\n",
      "HTTPConnectionPool(host='www.becomerainmaker.com', port=80): Max retries exceeded with url: / (Caused by NewConnectionError('<urllib3.connection.HTTPConnection object at 0x7fc5fb2bb730>: Failed to establish a new connection: [Errno -2] Name or service not known')) http://www.becomerainmaker.com\n",
      "HTTPSConnectionPool(host='www.hisp.com', port=443): Max retries exceeded with url: /hispmag.html (Caused by SSLError(SSLCertVerificationError(1, '[SSL: CERTIFICATE_VERIFY_FAILED] certificate verify failed: unable to get local issuer certificate (_ssl.c:1131)'))) http://www.hisp.com/hispmag.html\n",
      "HTTPConnectionPool(host='gowest.coalliance.org', port=80): Max retries exceeded with url: /cgi-bin/imager?00137203 (Caused by NewConnectionError('<urllib3.connection.HTTPConnection object at 0x7fc5fb2c5520>: Failed to establish a new connection: [Errno -2] Name or service not known')) http://gowest.coalliance.org/cgi-bin/imager?00137203\n",
      "404 http://opendata.cz/vocabulary/cpv/2008/70110000-5\n",
      "404 http://www.washoe.lib.nv.us/govdocs/may03/1998%20Trends%20Data.pdf\n",
      "200 http://my.yoolib.com/bmdieppe/?p=15037\n",
      "200 http://svn.assembla.com/svn/soar/vendor/zedgraph/current\n",
      "200 http://my.yoolib.com/inha/?p=20755\n",
      "404 http://my.yoolib.com/bmbordeaux/?p=239\n",
      "HTTPConnectionPool(host='valueaddeddistribution.com', port=80): Max retries exceeded with url: /loader.php?name=Michael&custID=cdf3150c-6499-1ba0-df45-48b977da8b52&inciID=37080 (Caused by NewConnectionError('<urllib3.connection.HTTPConnection object at 0x7fc5fa5b16d0>: Failed to establish a new connection: [Errno -2] Name or service not known')) http://valueaddeddistribution.com/loader.php?name=Michael&custID=cdf3150c-6499-1ba0-df45-48b977da8b52&inciID=37080\n",
      "200 http://decapoda.nhm.org/references/30909\n",
      "200 http://nsidc.org/cgi-bin/gpd_deliver_jpg.pl?arapaho_waldrop_109\n",
      "404 http://my.yoolib.com/bmbordeaux/?p=2341\n",
      "404 http://www.library.unt.edu/info/willis/music/speccol.asp#wfaa%5Fwbap\n",
      "HTTPConnectionPool(host='www.makeingmoneyhome.com', port=80): Max retries exceeded with url: / (Caused by NewConnectionError('<urllib3.connection.HTTPConnection object at 0x7fc5fa5b1040>: Failed to establish a new connection: [Errno -2] Name or service not known')) http://www.makeingmoneyhome.com\n",
      "403 http://MyOptInPage.com/?pid=3191464\n",
      "404 http://my.yoolib.net/bmmontpellier/?p=1094\n",
      "200 http://www2.unil.ch/viatimages/index.php?module=image&action=detail&IDImage=1607&projet=viaticalpes&lang=de\n",
      "HTTPConnectionPool(host='www.access.gpo.gov', port=80): Max retries exceeded with url: /su_docs/aces/aces160.shtml (Caused by ConnectTimeoutError(<urllib3.connection.HTTPConnection object at 0x7fc5fa5b13d0>, 'Connection to www.access.gpo.gov timed out. (connect timeout=10)')) http://www.access.gpo.gov/su%5Fdocs/aces/aces160.shtml\n",
      "200 http://my.yoolib.net/inha/?p=1164\n",
      "404 http://www.library.unt.edu/info/willis/music/speccol.asp#wfaa%5Fwbap\n",
      "HTTPConnectionPool(host='www.ref.oclc.org', port=2000): Max retries exceeded with url: / (Caused by ConnectTimeoutError(<urllib3.connection.HTTPConnection object at 0x7fc5f5d625e0>, 'Connection to www.ref.oclc.org timed out. (connect timeout=10)')) http://www.ref.oclc.org:2000\n",
      "404 http://my.yoolib.com/letelegramme/?p=1578\n",
      "HTTPConnectionPool(host='valueaddeddistribution.com', port=80): Max retries exceeded with url: /loader.php?name=Bruce&custID=b8d8d136-e52c-da04-8c40-48b97c1e7007&inciID=45104 (Caused by NewConnectionError('<urllib3.connection.HTTPConnection object at 0x7fc5f48f25e0>: Failed to establish a new connection: [Errno -2] Name or service not known')) http://valueaddeddistribution.com/loader.php?name=Bruce&custID=b8d8d136-e52c-da04-8c40-48b97c1e7007&inciID=45104\n",
      "HTTPConnectionPool(host='208.200.37.251', port=80): Max retries exceeded with url: /pdfs/a00438.pdf (Caused by ConnectTimeoutError(<urllib3.connection.HTTPConnection object at 0x7fc5f48f2790>, 'Connection to 208.200.37.251 timed out. (connect timeout=10)')) http://208.200.37.251/pdfs/a00438.pdf\n",
      "200 http://scholar.lib.vt.edu/theses/materials/uploads/delayed/etd-62697-223539/etd-title.html\n",
      "200 http://nsidc.org/cgi-bin/gpd_deliver_jpg.pl?USGS94V2_058\n",
      "404 http://www.usace.army.mil/inet/usace-docs/eng-manuals/em1110-2-1415/toc.htm\n",
      "HTTPConnectionPool(host='repo.tabtab.org', port=80): Max retries exceeded with url: /doxygen-graphit/group__KeyValueStore.StoredFrom.html (Caused by NewConnectionError('<urllib3.connection.HTTPConnection object at 0x7fc5f9778cd0>: Failed to establish a new connection: [Errno -2] Name or service not known')) http://repo.tabtab.org/doxygen-graphit/group__KeyValueStore.StoredFrom.html\n",
      "404 http://orpheus.ucsd.edu/speccoll/testing/mscl-fa1.html\n",
      "404 http://my.yoolib.com/ad65/?p=8343\n",
      "HTTPConnectionPool(host='gowest.coalliance.org', port=80): Max retries exceeded with url: /cgi-bin/imager?11000413 (Caused by NewConnectionError('<urllib3.connection.HTTPConnection object at 0x7fc5f48f2310>: Failed to establish a new connection: [Errno -2] Name or service not known')) http://gowest.coalliance.org/cgi-bin/imager?11000413\n",
      "404 http://my.yoolib.com/ad65/?p=12645\n",
      "No connection adapters were found for 'gopher://cpsc.gov:70/00/CPSC_Pubs/house/5023' gopher://cpsc.gov:70/00/CPSC_Pubs/house/5023\n",
      "404 https://pr-paras.github.io/ontelligence/\n",
      "HTTPConnectionPool(host='www-medlib.med.utah.edu', port=80): Max retries exceeded with url: /kw/sol/sss/mml/sol11301.jpg (Caused by NewConnectionError('<urllib3.connection.HTTPConnection object at 0x7fc5fb2c5520>: Failed to establish a new connection: [Errno -2] Name or service not known')) http://www-medlib.med.utah.edu/kw/sol/sss/mml/sol11301.jpg\n",
      "404 http://my.yoolib.com/bmaixenprovence/?p=6682\n",
      "404 http://www.library.unt.edu/info/willis/music/speccol.asp#wfaa%5Fwbap\n",
      "404 http://my.yoolib.com/bmmontpellier/?p=35345\n",
      "HTTPConnectionPool(host='gowest.coalliance.org', port=80): Max retries exceeded with url: /cgi-bin/imager?10021233 (Caused by NewConnectionError('<urllib3.connection.HTTPConnection object at 0x7fc5f3ca63d0>: Failed to establish a new connection: [Errno -2] Name or service not known')) http://gowest.coalliance.org/cgi-bin/imager?10021233\n",
      "404 http://my.yoolib.com/ad65/?p=11787\n",
      "HTTPConnectionPool(host='www.ref.oclc.org', port=2000): Max retries exceeded with url: /journal=0300-7162;screen=info;ECOIP (Caused by ConnectTimeoutError(<urllib3.connection.HTTPConnection object at 0x7fc5f48f28b0>, 'Connection to www.ref.oclc.org timed out. (connect timeout=10)')) http://www.ref.oclc.org:2000/journal=0300-7162;screen=info;ECOIP\n",
      "404 http://my.yoolib.com/bmfrejus/?p=5411\n",
      "HTTPConnectionPool(host='www.lovinglifeinluxury.com', port=80): Max retries exceeded with url: / (Caused by NewConnectionError('<urllib3.connection.HTTPConnection object at 0x7fc5fa5b1af0>: Failed to establish a new connection: [Errno -2] Name or service not known')) http://www.lovinglifeinluxury.com\n",
      "HTTPConnectionPool(host='gowest.coalliance.org', port=80): Max retries exceeded with url: /cgi-bin/imager?10031846 (Caused by NewConnectionError('<urllib3.connection.HTTPConnection object at 0x7fc5fa5b1af0>: Failed to establish a new connection: [Errno -2] Name or service not known')) http://gowest.coalliance.org/cgi-bin/imager?10031846\n",
      "200 http://my.yoolib.net/inha/?p=5040\n",
      "404 http://my.yoolib.com/bmsisteron/?p=2377\n",
      "200 http://nsidc.org/cgi-bin/gpd_deliver_jpg.pl?USGSA2_205\n",
      "200 http://nsidc.org/cgi-bin/gpd_deliver_jpg.pl?rmnp1950_andrews194907\n",
      "404 http://my.yoolib.com/ad24/?p=6231\n",
      "404 http://my.yoolib.net/bmsaintomer/?p=4672\n",
      "HTTPConnectionPool(host='localhost', port=80): Max retries exceeded with url: / (Caused by NewConnectionError('<urllib3.connection.HTTPConnection object at 0x7fc5f3c85790>: Failed to establish a new connection: [Errno 111] Connection refused')) http://localhost\n",
      "406 http://www.ConquestEmpires.com/re/shortsalesexposed.html\n",
      "HTTPConnectionPool(host='www.access.gpo.gov', port=80): Max retries exceeded with url: /su_docs/aces/aces160.shtml (Caused by ConnectTimeoutError(<urllib3.connection.HTTPConnection object at 0x7fc5fa447fd0>, 'Connection to www.access.gpo.gov timed out. (connect timeout=10)')) http://www.access.gpo.gov/su%5Fdocs/aces/aces160.shtml\n",
      "200 http://www.roughguides.com\n",
      "200 http://www.matthewbender.com/lpbin/mb%5Flpext.dll/594b?f=file[ibrowse-h.htm]&p9=594b\n",
      "404 http://www.indiana.edu/~letrs/vwwp/norton/mob.html\n",
      "200 http://lcweb.loc.gov/catdir/toc/97-121161.html\n",
      "200 http://www.netlibrary.com/summary.asp?ID=11064\n",
      "200 http://my.yoolib.com/theatreduparvis/?p=1473\n",
      "404 http://my.yoolib.com/bmsisteron/?p=6395\n",
      "200 http://my.yoolib.net/inha/?p=6408\n",
      "404 http://my.yoolib.net/bmsaintomer/?p=6749\n",
      "200 http://etana.org/sites/default/files/coretexts/17069.pdf\n",
      "HTTPConnectionPool(host='gowest.coalliance.org', port=80): Max retries exceeded with url: /cgi-bin/imager?10060013 (Caused by NewConnectionError('<urllib3.connection.HTTPConnection object at 0x7fc5f5d628b0>: Failed to establish a new connection: [Errno -2] Name or service not known')) http://gowest.coalliance.org/cgi-bin/imager?10060013\n",
      "404 http://www.umi.com/proquest\n",
      "404 http://my.yoolib.net/bmsaintomer/?p=7630\n",
      "200 http://purl.access.gpo.gov/GPO/LPS536\n",
      "404 http://www.census.gov/ftp/pub/prod/1/manmin/92area/92manufac.html\n",
      "404 http://my.yoolib.com/letelegramme/?p=9835\n",
      "404 http://www.ide.go.jp/English/welcome.html\n",
      "200 http://my.yoolib.com/bmdieppe/?p=1353\n",
      "200 http://nsidc.org/cgi-bin/gpd_deliver_jpg.pl?arapahoA4_15\n",
      "404 http://my.yoolib.com/letelegramme/?p=10468\n",
      "200 http://nsidc.org/cgi-bin/gpd_deliver_jpg.pl?USGSA6_175\n",
      "403 http://www.lonelyplanet.com/dest/sam/graphics/map-chi.htm\n",
      "HTTPConnectionPool(host='www.oznet.ksu.edu', port=80): Max retries exceeded with url: /library/misc2/mf2007.pdf (Caused by ConnectTimeoutError(<urllib3.connection.HTTPConnection object at 0x7fc5fb2bcf70>, 'Connection to www.oznet.ksu.edu timed out. (connect timeout=10)')) http://www.oznet.ksu.edu/library/misc2/mf2007.pdf\n",
      "200 http://www.metalab.unc.edu/wm/paint/auth/hobbema/\n",
      "404 http://my.yoolib.net/bmsaintomer/?p=14554\n",
      "('Connection aborted.', ConnectionResetError(104, 'Connection reset by peer')) http://purl.oclc.org/scorpion/\n",
      "404 http://my.yoolib.net/bmmontpellier/?p=11667\n",
      "404 http://www.olemiss.edu/depts/general_library/archives/finding_aids/MUM01460.html\n",
      "HTTPConnectionPool(host='www-medlib.med.utah.edu', port=80): Max retries exceeded with url: /kw/sol/sss/mml/sol00799.jpg (Caused by NewConnectionError('<urllib3.connection.HTTPConnection object at 0x7fc5fa447820>: Failed to establish a new connection: [Errno -2] Name or service not known')) http://www-medlib.med.utah.edu/kw/sol/sss/mml/sol00799.jpg\n",
      "HTTPConnectionPool(host='valueaddeddistribution.com', port=80): Max retries exceeded with url: /loader.php?name=Debra&custID=883c6f46-661c-a687-d41d-48b982d29461&inciID=31240 (Caused by NewConnectionError('<urllib3.connection.HTTPConnection object at 0x7fc5fa4471c0>: Failed to establish a new connection: [Errno -2] Name or service not known')) http://valueaddeddistribution.com/loader.php?name=Debra&custID=883c6f46-661c-a687-d41d-48b982d29461&inciID=31240\n",
      "200 http://pir.georgetown.edu/cgi-bin/pro/entry_pro?id=PRO:000000416\n",
      "HTTPConnectionPool(host='157.182.199.25', port=80): Max retries exceeded with url: /etd/templates/showETD.cfm?recnum=258 (Caused by ConnectTimeoutError(<urllib3.connection.HTTPConnection object at 0x7fc5f5d628b0>, 'Connection to 157.182.199.25 timed out. (connect timeout=10)')) http://157.182.199.25/etd/templates/showETD.cfm?recnum=258\n",
      "HTTPConnectionPool(host='www.psmpc.gov.au', port=80): Max retries exceeded with url: /publications/diversitypaper.htm (Caused by NewConnectionError('<urllib3.connection.HTTPConnection object at 0x7fc5fb2bb7f0>: Failed to establish a new connection: [Errno -2] Name or service not known')) http://www.psmpc.gov.au/publications/diversitypaper.htm\n",
      "404 http://my.yoolib.com/bmsisteron/?p=4399\n",
      "404 http://my.yoolib.com/ammontbrison/?p=2344\n",
      "HTTPConnectionPool(host='backoffice', port=80): Max retries exceeded with url: / (Caused by NewConnectionError('<urllib3.connection.HTTPConnection object at 0x7fc5f48f26a0>: Failed to establish a new connection: [Errno -3] Temporary failure in name resolution')) http://backoffice\n",
      "404 http://www.ianr.unl.edu/pubs/fieldcrops/g1076.htm.\n",
      "200 http://my.yoolib.net/inha/?p=3855\n",
      "HTTPConnectionPool(host='gowest.coalliance.org', port=80): Max retries exceeded with url: /cgi-bin/imager?00072839 (Caused by NewConnectionError('<urllib3.connection.HTTPConnection object at 0x7fc5f48f28e0>: Failed to establish a new connection: [Errno -2] Name or service not known')) http://gowest.coalliance.org/cgi-bin/imager?00072839\n",
      "404 http://www.elsevier.com:80/inca/publications/store/5/0/5/7/1/4/\n",
      "200 http://nsidc.org/cgi-bin/gpd_deliver_jpg.pl?USGS92V5_295\n",
      "200 http://nsidc.org/cgi-bin/gpd_deliver_jpg.pl?jakobshavnGI10_28\n",
      "404 http://my.yoolib.com/bmsisteron/?p=1648\n",
      "No connection adapters were found for 'gopher://gopher.lib.virginia.edu:70/11/socsci/icpsr' gopher://gopher.lib.virginia.edu:70/11/socsci/icpsr\n",
      "No connection adapters were found for 'ftp://uiarchive.cso.uiuc.edu/pub/etext/gutenberg/etext93/7gabl10.txt' ftp://uiarchive.cso.uiuc.edu/pub/etext/gutenberg/etext93/7gabl10.txt\n",
      "Invalid URL '': No schema supplied. Perhaps you meant http://? \n",
      "404 http://my.yoolib.com/bmbordeaux/?p=4982\n",
      "200 http://www.netlibrary.com/summary.asp?ID=6747\n",
      "200 http://decapoda.nhm.org/references/30774\n",
      "200 http://my.yoolib.net/inha/?p=10456\n",
      "404 http://my.yoolib.com/bmmontpellier/?p=32292\n",
      "HTTPConnectionPool(host='webdoc.lhl.mo.us', port=80): Max retries exceeded with url: /aiche97/97an4b.pdf (Caused by NewConnectionError('<urllib3.connection.HTTPConnection object at 0x7fc5fb2c5ee0>: Failed to establish a new connection: [Errno -2] Name or service not known')) http://webdoc.lhl.mo.us/aiche97/97an4b.pdf\n",
      "200 http://www.textdoctor.com/\n",
      "404 http://my.yoolib.com/bmmontpellier/?p=35367\n",
      "404 http://my.yoolib.com/letelegramme/?p=20185\n",
      "404 http://my.yoolib.com/letelegramme/?p=7364\n",
      "200 http://decapoda.nhm.org/references/12472\n",
      "200 http://www.dismarc.org/vocabulary/dmGenres/23162\n",
      "404 http://my.yoolib.com/bmsisteron/?p=1086\n",
      "404 http://my.yoolib.com/bmfrejus/?p=5957\n",
      "404 http://opendata.cz/vocabulary/cpv/2008/37529200-4\n",
      "200 http://my.yoolib.com/cinemathequedetoulouse/?p=2263\n",
      "404 http://my.yoolib.net/bmmontpellier/?p=11222\n",
      "404 http://opendata.cz/cpv/2008/24327330-4/\n",
      "HTTPConnectionPool(host='gowest.coalliance.org', port=80): Max retries exceeded with url: /cgi-bin/imager?10062196 (Caused by NewConnectionError('<urllib3.connection.HTTPConnection object at 0x7fc5f3c85400>: Failed to establish a new connection: [Errno -2] Name or service not known')) http://gowest.coalliance.org/cgi-bin/imager?10062196\n",
      "200 http://my.yoolib.com/ambazas/?p=464\n",
      "404 http://my.yoolib.com/bmnice/?p=2826\n",
      "404 http://my.yoolib.com/letelegramme/?p=3762\n",
      "404 http://my.yoolib.net/bmsaintomer/?p=11066\n",
      "200 http://www.archive.org/details/weneedhelp1967step\n",
      "200 http://purl.org/icall/werti\n",
      "404 http://my.yoolib.com/bmaixenprovence/?p=5314\n",
      "HTTPConnectionPool(host='greycite.knowledgeblog.org', port=80): Max retries exceeded with url: /?uid=15044 (Caused by ConnectTimeoutError(<urllib3.connection.HTTPConnection object at 0x7fc5f48f2580>, 'Connection to greycite.knowledgeblog.org timed out. (connect timeout=10)')) http://greycite.knowledgeblog.org/?uid=15044\n",
      "404 http://my.yoolib.com/ammontbrison/?p=6035\n",
      "HTTPConnectionPool(host='gowest.coalliance.org', port=80): Max retries exceeded with url: /cgi-bin/imager?00136795 (Caused by NewConnectionError('<urllib3.connection.HTTPConnection object at 0x7fc5fa5b19a0>: Failed to establish a new connection: [Errno -2] Name or service not known')) http://gowest.coalliance.org/cgi-bin/imager?00136795\n",
      "404 https://raw.githubusercontent.com/matentzn/SSSOM/master/context.jsonld\n",
      "200 http://www.buchhandel.de/\n",
      "200 http://kidshealth.org/parent/firstaid_safe/outdoor/water_safety.html\n",
      "HTTPConnectionPool(host='www.ub.uni-duisburg.de', port=80): Max retries exceeded with url: /ETD-db/theses/available/duett-12132001-134601/ (Caused by NewConnectionError('<urllib3.connection.HTTPConnection object at 0x7fc5f5d629d0>: Failed to establish a new connection: [Errno -2] Name or service not known')) http://www.ub.uni-duisburg.de/ETD-db/theses/available/duett-12132001-134601/\n",
      "200 http://my.yoolib.net/inha/?p=4644\n",
      "200 http://www.archive.org/details/moisturefluxthro00reitrich\n",
      "404 http://my.yoolib.com/letelegramme/?p=11323\n",
      "404 http://my.yoolib.com/bmaixenprovence/?p=12632\n",
      "200 http://my.yoolib.com/bmdieppe/?p=9404\n",
      "200 https://cdm15728.contentdm.oclc.org/digital/collection/lessonplans/id/69/rec/6\n",
      "404 http://my.yoolib.com/bmfrejus/?p=5069\n",
      "404 http://my.yoolib.net/bmsaintomer/?p=6866\n",
      "404 http://my.yoolib.com/muplansreliefs/?p=1416\n",
      "HTTPConnectionPool(host='valueaddeddistribution.com', port=80): Max retries exceeded with url: /loader.php?name=Rich&custID=6bc6b12a-7231-52ae-21ae-49e35647cb59&inciID=43106 (Caused by NewConnectionError('<urllib3.connection.HTTPConnection object at 0x7fc5fb2c5bb0>: Failed to establish a new connection: [Errno -2] Name or service not known')) http://valueaddeddistribution.com/loader.php?name=Rich&custID=6bc6b12a-7231-52ae-21ae-49e35647cb59&inciID=43106\n",
      "404 http://my.yoolib.net/ad24/?p=1093\n",
      "404 http://my.yoolib.net/bmsaintomer/?p=2807\n",
      "No connection adapters were found for 'gopher://gopher.lib.virginia.edu:70/11/alpha/bmcr/' gopher://gopher.lib.virginia.edu:70/11/alpha/bmcr/\n",
      "404 http://opendata.cz/vocabulary/cpv/2008/AB22-5\n",
      "404 http://my.yoolib.com/bmverdun1418/?p=1574\n",
      "404 http://my.yoolib.net/bmmontpellier/?p=6930\n",
      "200 http://www.olemiss.edu/depts/general_library/archives/finding_aids/MUM00549.html\n",
      "404 http://my.yoolib.com/letelegramme/?p=17363\n",
      "200 http://www.norc.org/PDFs/publications/NORCRpt_117.pdf\n",
      "HTTPConnectionPool(host='www.ddyarch.com', port=80): Max retries exceeded with url: / (Caused by NewConnectionError('<urllib3.connection.HTTPConnection object at 0x7fc5f4eba340>: Failed to establish a new connection: [Errno -2] Name or service not known')) http://www.ddyarch.com/\n",
      "404 http://my.yoolib.com/letelegramme/?p=18778\n",
      "404 http://opendata.cz/vocabulary/cpv/2008/75231220-2\n",
      "404 http://www.elsevier.com/homepage/elecserv.htt\n",
      "HTTPConnectionPool(host='www.dataentryjob.org', port=80): Max retries exceeded with url: / (Caused by NewConnectionError('<urllib3.connection.HTTPConnection object at 0x7fc5fb2c5dc0>: Failed to establish a new connection: [Errno -2] Name or service not known')) http://www.dataentryjob.org\n",
      "HTTPConnectionPool(host='webdoc.lhl.mo.us', port=80): Max retries exceeded with url: /aiche98/98an96a.pdf (Caused by NewConnectionError('<urllib3.connection.HTTPConnection object at 0x7fc5fb2c5dc0>: Failed to establish a new connection: [Errno -2] Name or service not known')) http://webdoc.lhl.mo.us/aiche98/98an96a.pdf\n",
      "404 http://my.yoolib.com/bmbordeaux/?p=3738\n",
      "200 http://nsidc.org/cgi-bin/gpd_deliver_jpg.pl?USGSA19_114\n",
      "200 http://www2.unil.ch/viatimages/index.php?module=image&action=detail&IDImage=1849&projet=viaticalpes&lang=it\n",
      "200 http://my.yoolib.net/inha/?p=2966\n",
      "HTTPConnectionPool(host='gowest.coalliance.org', port=80): Max retries exceeded with url: /cgi-bin/imager?20030892 (Caused by NewConnectionError('<urllib3.connection.HTTPConnection object at 0x7fc5fa447a00>: Failed to establish a new connection: [Errno -2] Name or service not known')) http://gowest.coalliance.org/cgi-bin/imager?20030892\n",
      "404 http://my.yoolib.com/ammontbrison/?p=6369\n",
      "HTTPConnectionPool(host='gowest.coalliance.org', port=80): Max retries exceeded with url: /cgi-bin/imager?10031478 (Caused by NewConnectionError('<urllib3.connection.HTTPConnection object at 0x7fc5f4eba340>: Failed to establish a new connection: [Errno -2] Name or service not known')) http://gowest.coalliance.org/cgi-bin/imager?10031478\n",
      "200 http://www2.unil.ch/viatimages/index.php?module=image&action=detail&IDImage=432&projet=viaticalpes&lang=fr\n",
      "404 http://www.library.unt.edu/info/willis/music/speccol.asp#wfaa%5Fwbap\n",
      "200 http://www.netlibrary.com/summary.asp?ID=1199\n",
      "403 http://www.treasury.govt.nz/publications/research-policy/wp/2001/01-26\n",
      "404 http://my.yoolib.com/ammontbrison/?p=4675\n",
      "200 http://www.geocities.com/rmcbride.geo\n",
      "200 http://my.yoolib.com/bmdieppe/?p=4562\n",
      "404 http://opendata.cz/vocabulary/cpv/2008/TA43-8\n",
      "404 http://www.umi.com/pqdauto/\n",
      "HTTPConnectionPool(host='gowest.coalliance.org', port=80): Max retries exceeded with url: /cgi-bin/imager?20003891 (Caused by NewConnectionError('<urllib3.connection.HTTPConnection object at 0x7fc5fa5b1bb0>: Failed to establish a new connection: [Errno -2] Name or service not known')) http://gowest.coalliance.org/cgi-bin/imager?20003891\n",
      "200 http://www.cheneycowles.org/archives\n",
      "404 http://my.yoolib.net/bmmontpellier/?p=1361\n",
      "200 http://decapoda.nhm.org/references/10870\n",
      "HTTPConnectionPool(host='valueaddeddistribution.com', port=80): Max retries exceeded with url: /loader.php?name=Carrie&custID=610e3513-8071-fe8a-9acc-48b979cd09cd&inciID=34914 (Caused by NewConnectionError('<urllib3.connection.HTTPConnection object at 0x7fc5f3c85340>: Failed to establish a new connection: [Errno -2] Name or service not known')) http://valueaddeddistribution.com/loader.php?name=Carrie&custID=610e3513-8071-fe8a-9acc-48b979cd09cd&inciID=34914\n",
      "400 https://raw.githubusercontent.com/FlyBase/drosophila-anatomy-developmental-ontology/master/fbbt/releases/\n",
      "('Connection aborted.', ConnectionResetError(104, 'Connection reset by peer')) http://WWW.OCLC.ORG/oclc/menu/fs.htm\n",
      "404 http://www.library.unt.edu/info/willis/music/speccol.asp#wfaa%5Fwbap\n",
      "404 http://my.yoolib.com/bmfrejus/?p=1496\n",
      "404 http://my.yoolib.com/bmfrejus/?p=4693\n",
      "HTTPConnectionPool(host='www2.lib.udel.edu', port=80): Max retries exceeded with url: /subj/lgst/internet.htm (Caused by NewConnectionError('<urllib3.connection.HTTPConnection object at 0x7fc5f4ebabb0>: Failed to establish a new connection: [Errno -2] Name or service not known')) http://www2.lib.udel.edu/subj/lgst/internet.htm\n",
      "HTTPConnectionPool(host='valueaddeddistribution.com', port=80): Max retries exceeded with url: /loader.php?name=Dan&custID=3f278ff9-67c9-6325-7934-48b9796b9c57&inciID=34312 (Caused by NewConnectionError('<urllib3.connection.HTTPConnection object at 0x7fc5f4eba190>: Failed to establish a new connection: [Errno -2] Name or service not known')) http://valueaddeddistribution.com/loader.php?name=Dan&custID=3f278ff9-67c9-6325-7934-48b9796b9c57&inciID=34312\n",
      "200 http://lcweb.loc.gov/catdir/toc/96-37511.html\n",
      "404 http://lists.oasis-open.org/htdig/bin/htsearch?config=lists_oasis-open_org&restrict=%2Frights-requirements%2F&method=and&sort=score&words=minutes\n",
      "HTTPConnectionPool(host='www.agoralang.com', port=80): Max retries exceeded with url: / (Caused by ConnectTimeoutError(<urllib3.connection.HTTPConnection object at 0x7fc5f4ebafd0>, 'Connection to www.agoralang.com timed out. (connect timeout=10)')) http://www.agoralang.com/\n",
      "200 http://nsidc.org/cgi-bin/gpd_deliver_jpg.pl?AGS_F_57_R119\n",
      "404 http://my.yoolib.com/bmsisteron/?p=596\n",
      "HTTPConnectionPool(host='gowest.coalliance.org', port=80): Max retries exceeded with url: /cgi-bin/imager?10019444 (Caused by NewConnectionError('<urllib3.connection.HTTPConnection object at 0x7fc5fa447430>: Failed to establish a new connection: [Errno -2] Name or service not known')) http://gowest.coalliance.org/cgi-bin/imager?10019444\n",
      "404 http://my.yoolib.com/bmfrejus/?p=1537\n",
      "200 http://cdm15728.contentdm.oclc.org/cdm/ref/collection/findingaids/id/2554\n",
      "404 http://www.dola.state.co.us/choosehm.htm\n",
      "404 http://vocab.deri.ie/chartr\n",
      "200 http://duepublico.uni-duisburg-essen.de/servlets/DocumentServlet?name=duett-05212001-112225/\n",
      "200 http://www2.unil.ch/viatimages/index.php?module=image&action=detail&IDImage=231&projet=viaticalpes&lang=de\n",
      "HTTPConnectionPool(host='www.24hours2cash.com', port=80): Max retries exceeded with url: / (Caused by NewConnectionError('<urllib3.connection.HTTPConnection object at 0x7fc5f5d629d0>: Failed to establish a new connection: [Errno -2] Name or service not known')) http://www.24hours2cash.com\n",
      "HTTPConnectionPool(host='library.ctstateu.edu', port=80): Max retries exceeded with url: /ccsu_theses/1493.html (Caused by NewConnectionError('<urllib3.connection.HTTPConnection object at 0x7fc5fa447850>: Failed to establish a new connection: [Errno -2] Name or service not known')) http://library.ctstateu.edu/ccsu%5Ftheses/1493.html\n",
      "HTTPConnectionPool(host='mohai.kcls.org', port=80): Max retries exceeded with url: /images/photos/v01-650w.jpg (Caused by NewConnectionError('<urllib3.connection.HTTPConnection object at 0x7fc5f4ebabb0>: Failed to establish a new connection: [Errno -2] Name or service not known')) http://mohai.kcls.org/images/photos/v01-650w.jpg\n",
      "HTTPConnectionPool(host='gowest.coalliance.org', port=80): Max retries exceeded with url: /cgi-bin/imager?00170574 (Caused by NewConnectionError('<urllib3.connection.HTTPConnection object at 0x7fc5fb2bbf70>: Failed to establish a new connection: [Errno -2] Name or service not known')) http://gowest.coalliance.org/cgi-bin/imager?00170574\n",
      "200 http://www.archive.org/details/departmentofagri00lloyrich\n",
      "HTTPConnectionPool(host='137.74.162.72', port=80): Max retries exceeded with url: / (Caused by ConnectTimeoutError(<urllib3.connection.HTTPConnection object at 0x7fc5f48fef10>, 'Connection to 137.74.162.72 timed out. (connect timeout=10)')) http://my.yoolib.com/bmalencon/?p=807\n",
      "200 http://www2.unil.ch/viatimages/index.php?module=image&action=detail&IDImage=464&projet=viaticalpes&lang=it\n",
      "200 http://www2.unil.ch/viatimages/index.php?module=image&action=detail&IDImage=3385&projet=viaticalpes&lang=it\n",
      "HTTPConnectionPool(host='mohai.kcls.org', port=80): Max retries exceeded with url: /images/photos/v01-854t.jpg (Caused by NewConnectionError('<urllib3.connection.HTTPConnection object at 0x7fc5f48f2f10>: Failed to establish a new connection: [Errno -2] Name or service not known')) http://mohai.kcls.org/images/photos/v01-854t.jpg\n",
      "HTTPConnectionPool(host='thearsenals302.com', port=80): Max retries exceeded with url: / (Caused by NewConnectionError('<urllib3.connection.HTTPConnection object at 0x7fc5f48f2310>: Failed to establish a new connection: [Errno -2] Name or service not known')) http://thearsenals302.com\n",
      "404 http://my.yoolib.com/bmbordeaux/?p=102\n",
      "404 http://my.yoolib.com/bmfrejus/?p=5063\n",
      "404 http://my.yoolib.com/ad65/?p=10406\n",
      "HTTPConnectionPool(host='gowest.coalliance.org', port=80): Max retries exceeded with url: /cgi-bin/imager?20002258 (Caused by NewConnectionError('<urllib3.connection.HTTPConnection object at 0x7fc5f48f25b0>: Failed to establish a new connection: [Errno -2] Name or service not known')) http://gowest.coalliance.org/cgi-bin/imager?20002258\n",
      "200 http://dsp-psd.pwgsc.gc.ca/dsp-psd/Pilot/Statcan/51-204-XIB/51-204-XIB-e.html\n",
      "404 http://my.yoolib.com/ad65/?p=10527\n",
      "404 http://my.yoolib.com/bmaixenprovence/?p=1103\n",
      "HTTPConnectionPool(host='gowest.coalliance.org', port=80): Max retries exceeded with url: /cgi-bin/imager?10061461 (Caused by NewConnectionError('<urllib3.connection.HTTPConnection object at 0x7fc5f48f2cd0>: Failed to establish a new connection: [Errno -2] Name or service not known')) http://gowest.coalliance.org/cgi-bin/imager?10061461\n",
      "No connection adapters were found for 'telnet://fedbbs.access.gpo.gov' telnet://fedbbs.access.gpo.gov\n",
      "200 http://my.yoolib.com/bmdieppe/?p=13710\n",
      "HTTPConnectionPool(host='hna.ffh.vic.gov.au', port=80): Max retries exceeded with url: /phb/ (Caused by NewConnectionError('<urllib3.connection.HTTPConnection object at 0x7fc5fb2bbcd0>: Failed to establish a new connection: [Errno -2] Name or service not known')) http://hna.ffh.vic.gov.au/phb/\n",
      "404 http://my.yoolib.net/bmsaintomer/?p=9135\n",
      "HTTPConnectionPool(host='http', port=80): Max retries exceeded with url: //www.aghayan.com/Iran%20Law%20Library.htm (Caused by NewConnectionError('<urllib3.connection.HTTPConnection object at 0x7fc5f48f2670>: Failed to establish a new connection: [Errno -3] Temporary failure in name resolution')) http://http://www.aghayan.com/Iran%20Law%20Library.htm\n",
      "404 http://www.botany.com/index.html\n",
      "200 http://www.free-culture.cc/notes/72.pdf\n",
      "HTTPConnectionPool(host='mohai.kcls.org', port=80): Max retries exceeded with url: /images/photos/v01-563t.jpg (Caused by NewConnectionError('<urllib3.connection.HTTPConnection object at 0x7fc5f48f2a00>: Failed to establish a new connection: [Errno -2] Name or service not known')) http://mohai.kcls.org/images/photos/v01-563t.jpg\n",
      "200 http://www.archive.org/search.php?query=collection:MontanaStateLibrary AND oclc-id:57335640\n",
      "404 http://www.census.gov/ftp/pub/prod/1/manmin/92area/92manufac.html\n",
      "HTTPConnectionPool(host='gowest.coalliance.org', port=80): Max retries exceeded with url: /cgi-bin/imager?00185308 (Caused by NewConnectionError('<urllib3.connection.HTTPConnection object at 0x7fc5fa5b16a0>: Failed to establish a new connection: [Errno -2] Name or service not known')) http://gowest.coalliance.org/cgi-bin/imager?00185308\n",
      "404 http://www.hud.gov/fha/mfh/mfhrrr.html\n",
      "HTTPConnectionPool(host='imageweb.zoo.ox.ac.uk', port=80): Max retries exceeded with url: /pub/2010/Ontologies/fabio/ (Caused by NewConnectionError('<urllib3.connection.HTTPConnection object at 0x7fc5fa447d60>: Failed to establish a new connection: [Errno -5] No address associated with hostname')) http://imageweb.zoo.ox.ac.uk/pub/2010/Ontologies/fabio/\n",
      "200 http://my.yoolib.com/bmdieppe/?p=6737\n",
      "404 http://my.yoolib.com/bmmontpellier/?p=18543\n",
      "No connection adapters were found for 'ftp://uiarchive.cso.uiuc.edu/pub/etext/gutenberg/etext95/whrt210.zip' ftp://uiarchive.cso.uiuc.edu/pub/etext/gutenberg/etext95/whrt210.zip\n",
      "404 http://my.yoolib.com/bmnice/?p=2096\n",
      "404 http://opendata.cz/vocabulary/cpv/2008/EA05-7\n",
      "200 http://firstsearch.oclc.org/journal=0029-4624;screen=info;ECOIP\n",
      "404 http://my.yoolib.com/bmaixenprovence/?p=7667\n",
      "404 http://my.yoolib.com/bmmontpellier/?p=28179\n",
      "200 http://www.nssb.org/news/newsletter.html\n",
      "404 http://my.yoolib.net/bmmontpellier/?p=8607\n",
      "200 http://www2.unil.ch/viatimages/index.php?module=image&action=detail&IDImage=2075&projet=viaticalpes&lang=it\n",
      "200 http://my.yoolib.com/bmdieppe/?p=4333\n",
      "HTTPConnectionPool(host='gowest.coalliance.org', port=80): Max retries exceeded with url: /cgi-bin/imager?00138287 (Caused by NewConnectionError('<urllib3.connection.HTTPConnection object at 0x7fc5f3c85430>: Failed to establish a new connection: [Errno -2] Name or service not known')) http://gowest.coalliance.org/cgi-bin/imager?00138287\n",
      "404 http://my.yoolib.com/bmaixenprovence/?p=4590\n",
      "200 http://www.aph.org\n",
      "200 http://www.sc.edu/library/socar/mpc/johnston.html\n",
      "404 http://my.yoolib.com/letelegramme/?p=11015\n",
      "200 http://www.archive.org/details/stateofmontanahe00mont\n",
      "HTTPConnectionPool(host='topsiteforyou.com', port=80): Max retries exceeded with url: /form (Caused by NewConnectionError('<urllib3.connection.HTTPConnection object at 0x7fc5f48fe190>: Failed to establish a new connection: [Errno -2] Name or service not known')) http://topsiteforyou.com/form\n",
      "200 http://arstudies.contentdm.oclc.org/cdm/compoundobject/collection/p15728coll5/id/308/show/279/rec/3\n",
      "404 http://my.yoolib.com/buiheid/?p=260\n",
      "HTTPConnectionPool(host='valueaddeddistribution.com', port=80): Max retries exceeded with url: /loader.php?name=Patricia&custID=a11f25bf-4de5-bce8-923c-48b979165cae&inciID=36170 (Caused by NewConnectionError('<urllib3.connection.HTTPConnection object at 0x7fc5f48feee0>: Failed to establish a new connection: [Errno -2] Name or service not known')) http://valueaddeddistribution.com/loader.php?name=Patricia&custID=a11f25bf-4de5-bce8-923c-48b979165cae&inciID=36170\n",
      "200 https://raw.githubusercontent.com/nam-pi/core-owl/cdfd9b3e8d11372086ab1dc29202c7af86828d83/core.owl\n",
      "200 http://nsidc.org/cgi-bin/gpd_deliver_jpg.pl?USGSA3_215\n",
      "200 http://www.archive.org/details/designinghealthp1994mont\n",
      "HTTPConnectionPool(host='www.melvyl.ucop.edu', port=80): Max retries exceeded with url: /?CSdb=psyc (Caused by NewConnectionError('<urllib3.connection.HTTPConnection object at 0x7fc6074a1f40>: Failed to establish a new connection: [Errno -2] Name or service not known')) http://www.melvyl.ucop.edu/?CSdb=psyc\n",
      "200 http://www2.unil.ch/viatimages/index.php?module=image&action=detail&IDImage=2431&projet=viaticalpes&lang=en\n",
      "200 http://my.yoolib.com/inha/?p=20040\n",
      "HTTPConnectionPool(host='valueaddeddistribution.com', port=80): Max retries exceeded with url: /loader.php?name=Matthew&custID=ba13dd18-9192-1374-f020-48b974430c14&inciID=36672 (Caused by NewConnectionError('<urllib3.connection.HTTPConnection object at 0x7fc5f5d629a0>: Failed to establish a new connection: [Errno -2] Name or service not known')) http://valueaddeddistribution.com/loader.php?name=Matthew&custID=ba13dd18-9192-1374-f020-48b974430c14&inciID=36672\n",
      "404 http://duepublico.uni-duisburg-essen.de/servlets/DocumentServlet?name=duett-08082002-105548/\n",
      "HTTPConnectionPool(host='tkshare.com.ar', port=80): Max retries exceeded with url: / (Caused by NewConnectionError('<urllib3.connection.HTTPConnection object at 0x7fc5f5d620d0>: Failed to establish a new connection: [Errno -2] Name or service not known')) http://tkshare.com.ar\n",
      "404 http://my.yoolib.com/bmaixenprovence/?p=7255\n",
      "404 http://my.yoolib.com/bmchambery/?p=3159\n",
      "HTTPConnectionPool(host='greycite.knowledgeblog.org', port=80): Max retries exceeded with url: /?uid=10967 (Caused by ConnectTimeoutError(<urllib3.connection.HTTPConnection object at 0x7fc5f48fe880>, 'Connection to greycite.knowledgeblog.org timed out. (connect timeout=10)')) http://greycite.knowledgeblog.org/?uid=10967\n",
      "404 http://my.yoolib.net/bmsaintomer/?p=13332\n",
      "HTTPConnectionPool(host='valueaddeddistribution.com', port=80): Max retries exceeded with url: /loader.php?name=Steve&custID=22328f77-6f57-52f0-081a-48b980f0a90c&inciID=31793 (Caused by NewConnectionError('<urllib3.connection.HTTPConnection object at 0x7fc5fb2c57f0>: Failed to establish a new connection: [Errno -2] Name or service not known')) http://valueaddeddistribution.com/loader.php?name=Steve&custID=22328f77-6f57-52f0-081a-48b980f0a90c&inciID=31793\n",
      "200 http://www.nlm.nih.gov/medlineplus/complementaryandalternativemedicine.html\n",
      "404 http://my.yoolib.com/muplansreliefs/?p=309\n",
      "404 http://my.yoolib.com/bmaixenprovence/?p=4317\n",
      "200 http://my.yoolib.com/bmdieppe/?p=224\n",
      "404 http://my.yoolib.com/ampessac/?p=177\n",
      "404 http://my.yoolib.com/muplansreliefs/?p=621\n",
      "200 http://www.ejil.org/\n",
      "200 http://my.yoolib.com/inha/?p=19538\n",
      "200 http://link.springer.de/link/service/journals/00261/index.htm\n",
      "HTTPConnectionPool(host='gowest.coalliance.org', port=80): Max retries exceeded with url: /cgi-bin/imager?11000457 (Caused by NewConnectionError('<urllib3.connection.HTTPConnection object at 0x7fc5fb2c5160>: Failed to establish a new connection: [Errno -2] Name or service not known')) http://gowest.coalliance.org/cgi-bin/imager?11000457\n",
      "404 http://www.cs.cornell.edu/lagoze/carlhome.htm\n",
      "Failed to parse: https://library.stlawu.edu:http/rbrwelco.html http://www.stlawu.edu/library:http/rbrwelco.html\n",
      "404 http://my.yoolib.com/bmaixenprovence/?p=1503\n",
      "404 http://my.yoolib.net/ad24/?p=843\n",
      "200 http://www.netlibrary.com/summary.asp?ID=8064\n",
      "200 http://lcweb.loc.gov/catdir/toc/97-42831.html\n",
      "400 https://drive.google.com/drive/u/0/folders/1Woj81IEvGRwRv-MzBoiD6lm1zABediZg/SoftwareTesting.owl\n",
      "200 http://www2.unil.ch/viatimages/index.php?module=image&action=detail&IDImage=924&projet=viaticalpes&lang=en\n",
      "404 http://my.yoolib.com/bmaixenprovence/?p=3549\n",
      "404 http://my.yoolib.com/bmfrejus/?p=758\n",
      "404 http://my.yoolib.com/bmmontpellier/?p=34476\n",
      "200 http://decapoda.nhm.org/references/26802\n",
      "404 http://my.yoolib.com/bmverdun1418/?p=1331\n",
      "404 http://my.yoolib.com/ambagneux/?p=956\n",
      "HTTPSConnectionPool(host='oppaga.fl.gov', port=443): Max retries exceeded with url: / (Caused by SSLError(SSLError(1, '[SSL: DH_KEY_TOO_SMALL] dh key too small (_ssl.c:1131)'))) http://www.oppaga.state.fl.us\n",
      "503 http://jorl.net/index.php/jorl/article/download/336/pdf_126\n",
      "HTTPConnectionPool(host='valueaddeddistribution.com', port=80): Max retries exceeded with url: /loader.php?name=Thomas&custID=a8c19b3f-2274-5589-a90e-49ad4d49d91a&inciID=44706 (Caused by NewConnectionError('<urllib3.connection.HTTPConnection object at 0x7fc5f48fe190>: Failed to establish a new connection: [Errno -2] Name or service not known')) http://valueaddeddistribution.com/loader.php?name=Thomas&custID=a8c19b3f-2274-5589-a90e-49ad4d49d91a&inciID=44706\n",
      "No connection adapters were found for 'ftp://uiarchive.cso.uiuc.edu/pub/etext/gutenberg/etext96/frain10.zip' ftp://uiarchive.cso.uiuc.edu/pub/etext/gutenberg/etext96/frain10.zip\n",
      "404 http://my.yoolib.com/bmmontpellier/?p=33657\n",
      "200 http://linuxdoc.org/\n",
      "HTTPConnectionPool(host='gowest.coalliance.org', port=80): Max retries exceeded with url: /cgi-bin/imager?10061886 (Caused by NewConnectionError('<urllib3.connection.HTTPConnection object at 0x7fc5f48feb80>: Failed to establish a new connection: [Errno -2] Name or service not known')) http://gowest.coalliance.org/cgi-bin/imager?10061886\n",
      "200 http://nsidc.org/cgi-bin/gpd_deliver_jpg.pl?AGS_M_57_SG100\n",
      "404 http://my.yoolib.com/letelegramme/?p=4076\n",
      "404 http://hdl.loc.gov/loc.award/rpbaasm.0871\n",
      "200 http://nsidc.org/cgi-bin/gpd_deliver_jpg.pl?USGS93V3_100\n",
      "420 http://www.jstor.org/journals/00361429.html\n",
      "HTTPConnectionPool(host='greycite.knowledgeblog.org', port=80): Max retries exceeded with url: /?uid=11876 (Caused by ConnectTimeoutError(<urllib3.connection.HTTPConnection object at 0x7fc5f5d623a0>, 'Connection to greycite.knowledgeblog.org timed out. (connect timeout=10)')) http://greycite.knowledgeblog.org/?uid=11876\n",
      "HTTPConnectionPool(host='gowest.coalliance.org', port=80): Max retries exceeded with url: /cgi-bin/imager?00136083 (Caused by NewConnectionError('<urllib3.connection.HTTPConnection object at 0x7fc5f3c754f0>: Failed to establish a new connection: [Errno -2] Name or service not known')) http://gowest.coalliance.org/cgi-bin/imager?00136083\n",
      "200 http://blog.360.yahoo.com/dr_pankajmehra\n",
      "HTTPConnectionPool(host='www.ref.oclc.org', port=2000): Max retries exceeded with url: /ECOIP (Caused by ConnectTimeoutError(<urllib3.connection.HTTPConnection object at 0x7fc5f5d62430>, 'Connection to www.ref.oclc.org timed out. (connect timeout=10)')) http://www.ref.oclc.org:2000/ECOIP\n",
      "404 http://my.yoolib.com/bmsisteron/?p=834\n",
      "404 http://opendata.cz/vocabulary/cpv/2008/18936000-9\n",
      "404 http://www.library.unt.edu/info/willis/music/speccol.asp#wfaa%5Fwbap\n",
      "HTTPSConnectionPool(host='intelshare.intelink.gov', port=443): Max retries exceeded with url: /sites/odni/cio/ea/library/Data%20Specifications/Forms/default.aspx (Caused by SSLError(SSLCertVerificationError(1, '[SSL: CERTIFICATE_VERIFY_FAILED] certificate verify failed: self signed certificate in certificate chain (_ssl.c:1131)'))) https://intelshare.intelink.gov/sites/odni/cio/ea/library/Data%20Specifications/Forms/default.aspx\n",
      "200 http://library.case.edu/ksl/ecoll/books/alldoc00/alldoc00e.html\n",
      "404 http://www.nsf.gov/sbe/srs/fedfunds/start.htm\n",
      "404 http://my.yoolib.com/ad24/?p=8083\n",
      "200 http://my.yoolib.com/bmdieppe/?p=2818\n",
      "404 http://my.yoolib.com/ad24/?p=4702\n",
      "200 http://nsidc.org/cgi-bin/gpd_deliver_jpg.pl?moltkeGI23_14\n",
      "HTTPConnectionPool(host='www.ref.oclc.org', port=2000): Max retries exceeded with url: /journal=0962-8770;screen=info;ECOIP (Caused by ConnectTimeoutError(<urllib3.connection.HTTPConnection object at 0x7fc6074a1f40>, 'Connection to www.ref.oclc.org timed out. (connect timeout=10)')) http://www.ref.oclc.org:2000/journal=0962-8770;screen=info;ECOIP\n",
      "HTTPConnectionPool(host='www.ref.oclc.org', port=2000): Max retries exceeded with url: /journal=0022-314x;screen=info;ECOIP (Caused by ConnectTimeoutError(<urllib3.connection.HTTPConnection object at 0x7fc6074a1b20>, 'Connection to www.ref.oclc.org timed out. (connect timeout=10)')) http://www.ref.oclc.org:2000/journal=0022-314x;screen=info;ECOIP\n",
      "200 http://www.webmasterized.com\n",
      "200 http://www.geocities.com/SiliconValley/Vista/3856/cnkeknm.htm\n",
      "404 http://my.yoolib.com/letelegramme/?p=10038\n",
      "404 http://my.yoolib.net/bmsaintomer/?p=17765\n",
      "404 http://blog.chinaunix.net/u/2117/index.php\n",
      "404 http://opendata.cz/cpv/2008/37527100-9/\n",
      "200 http://link.springer.de/link/service/journals/00775/index.htm\n",
      "200 http://www.jcaai.org/\n",
      "200 http://www.incore.ulst.ac.uk/cds/countries/\n",
      "200 http://web.uflib.ufl.edu/spec/archome/SeriesP9.htm\n",
      "HTTPConnectionPool(host='http', port=80): Max retries exceeded with url: //www.mnplan.state.mn.us/pdf/gisparcl.pdf (Caused by NewConnectionError('<urllib3.connection.HTTPConnection object at 0x7fc5f48fe100>: Failed to establish a new connection: [Errno -3] Temporary failure in name resolution')) http://http://www.mnplan.state.mn.us/pdf/gisparcl.pdf\n",
      "HTTPConnectionPool(host='gowest.coalliance.org', port=80): Max retries exceeded with url: /cgi-bin/imager?10031359 (Caused by NewConnectionError('<urllib3.connection.HTTPConnection object at 0x7fc5f48fed30>: Failed to establish a new connection: [Errno -2] Name or service not known')) http://gowest.coalliance.org/cgi-bin/imager?10031359\n",
      "404 http://my.yoolib.com/ad65/?p=10397\n",
      "404 http://my.yoolib.net/bmsaintomer/?p=5474\n",
      "200 http://scholar.lib.vt.edu/theses/public/etd-12164379662151\n",
      "404 http://opendata.cz/cpv/2008/79221000-9/\n",
      "('Connection aborted.', ConnectionResetError(104, 'Connection reset by peer')) http://patft.uspto.gov/netacgi/nph-Parser?Sect1=PTO2&Sect2=HITOFF&p=1&u=/netahtml/search-bool.html&r=1&f=G&l=50&co1=AND&d=ptxt&s1=6,519,700.WKU.&OS=PN/6,519,700&RS=PN/6,519,700\n",
      "HTTPConnectionPool(host='greycite.knowledgeblog.org', port=80): Max retries exceeded with url: /?uid=4344 (Caused by ConnectTimeoutError(<urllib3.connection.HTTPConnection object at 0x7fc5f3ca6c40>, 'Connection to greycite.knowledgeblog.org timed out. (connect timeout=10)')) http://greycite.knowledgeblog.org/?uid=4344\n",
      "404 http://my.yoolib.net/ad24/?p=1544\n",
      "404 http://my.yoolib.com/ad65/?p=12515\n",
      "200 http://pir.georgetown.edu/cgi-bin/pro/entry_pro?id=PRO:000001408\n",
      "404 http://my.yoolib.com/bmverdun1418/?p=505\n",
      "200 http://sourceforge.net/project/showfiles.php?group_id=31249&release_id=111204\n",
      "500 http://ontologi.es/book/isbn-lookup.pl?isbn=\n",
      "200 http://www.globalpensionplan.net/?id=vivace\n",
      "200 http://palmcentral.com/\n",
      "HTTPConnectionPool(host='topsiteforyou.com', port=80): Max retries exceeded with url: /form (Caused by NewConnectionError('<urllib3.connection.HTTPConnection object at 0x7fc5f3ca60d0>: Failed to establish a new connection: [Errno -2] Name or service not known')) http://topsiteforyou.com/form\n",
      "200 http://www.acm.org/pubs/contents/proceedings/small/\n",
      "200 http://www.olemiss.edu/depts/general_library/archives/finding_aids/MUM00310.html\n",
      "200 http://my.yoolib.com/inha/?p=14349\n",
      "200 http://www.bibliomania.com/Fiction/Butler/Way/\n",
      "404 http://opendata.cz/cpv/2008/48314000-2/\n",
      "404 http://www.learning-web.org/CS502A2G1/SV_OCR_Caere_64_MP3.mp3\n",
      "404 http://my.yoolib.com/bmaixenprovence/?p=10587\n",
      "200 http://mari-portal.de\n",
      "200 http://lcweb2.loc.gov/frd/cs/cgtoc.html\n",
      "200 http://my.yoolib.com/bmdieppe/?p=4458\n",
      "HTTPConnectionPool(host='mohai.kcls.org', port=80): Max retries exceeded with url: /images/photos/v01-099t.jpg (Caused by NewConnectionError('<urllib3.connection.HTTPConnection object at 0x7fc5fa447c10>: Failed to establish a new connection: [Errno -2] Name or service not known')) http://mohai.kcls.org/images/photos/v01-099t.jpg\n",
      "HTTPConnectionPool(host='valueaddeddistribution.com', port=80): Max retries exceeded with url: /loader.php?name=Jimmy&custID=a8d3d722-35eb-33cc-e45a-49e4cb286821&inciID=44709 (Caused by NewConnectionError('<urllib3.connection.HTTPConnection object at 0x7fc5fa447fd0>: Failed to establish a new connection: [Errno -2] Name or service not known')) http://valueaddeddistribution.com/loader.php?name=Jimmy&custID=a8d3d722-35eb-33cc-e45a-49e4cb286821&inciID=44709\n",
      "404 http://my.yoolib.com/letelegramme/?p=22318\n",
      "404 http://my.yoolib.com/letelegramme/?p=997\n",
      "200 http://hdl.loc.gov/loc.gmd/g3824n.pm008162\n",
      "Invalid URL '': No schema supplied. Perhaps you meant http://? \n",
      "HTTPConnectionPool(host='mohai.kcls.org', port=80): Max retries exceeded with url: /images/photos/v03-067w.jpg (Caused by NewConnectionError('<urllib3.connection.HTTPConnection object at 0x7fc5f48fed00>: Failed to establish a new connection: [Errno -2] Name or service not known')) http://mohai.kcls.org/images/photos/v03-067w.jpg\n",
      "HTTPConnectionPool(host='gowest.coalliance.org', port=80): Max retries exceeded with url: /cgi-bin/imager?20003375 (Caused by NewConnectionError('<urllib3.connection.HTTPConnection object at 0x7fc5f4eba5e0>: Failed to establish a new connection: [Errno -2] Name or service not known')) http://gowest.coalliance.org/cgi-bin/imager?20003375\n",
      "200 http://my.yoolib.com/bmdieppe/?p=9252\n",
      "200 http://www.netlibrary.com/summary.asp?ID=5953\n",
      "404 http://my.yoolib.com/bmsisteron/?p=1066\n",
      "404 http://www.wheaton.edu/bgc/archives/guides/sc070.htm\n",
      "404 http://my.yoolib.com/ammontbrison/?p=1060\n",
      "404 http://my.yoolib.com/ammontbrison/?p=4296\n",
      "HTTPConnectionPool(host='www.oznet.ksu.edu', port=80): Max retries exceeded with url: /library/agec2/mf589.pdf (Caused by ConnectTimeoutError(<urllib3.connection.HTTPConnection object at 0x7fc5f976c0a0>, 'Connection to www.oznet.ksu.edu timed out. (connect timeout=10)')) http://www.oznet.ksu.edu/library/agec2/mf589.pdf\n",
      "404 http://jppeka.bay.livefilestore.com/y1pfz337fZxxMK2we36iZLHOfuCZRTXp3udrlMIio6pOqGJXYMtRofwUvvtsaIeraabP0nxEi_tPtUxnv8YSLGtBw/ring-air%20waves.mp3?download\n",
      "HTTPConnectionPool(host='gowest.coalliance.org', port=80): Max retries exceeded with url: /cgi-bin/imager?10031314 (Caused by NewConnectionError('<urllib3.connection.HTTPConnection object at 0x7fc5fa447670>: Failed to establish a new connection: [Errno -2] Name or service not known')) http://gowest.coalliance.org/cgi-bin/imager?10031314\n",
      "HTTPConnectionPool(host='gowest.coalliance.org', port=80): Max retries exceeded with url: /cgi-bin/imager?10062616 (Caused by NewConnectionError('<urllib3.connection.HTTPConnection object at 0x7fc5fb2c5100>: Failed to establish a new connection: [Errno -2] Name or service not known')) http://gowest.coalliance.org/cgi-bin/imager?10062616\n",
      "404 http://www.library.unt.edu/info/willis/music/speccol.asp#wfaa%5Fwbap\n",
      "404 http://my.yoolib.net/bmsaintomer/?p=13888\n",
      "404 http://my.yoolib.com/letelegramme/?p=17600\n",
      "HTTPConnectionPool(host='e-math.ams.org', port=80): Max retries exceeded with url: /web/publications (Caused by NewConnectionError('<urllib3.connection.HTTPConnection object at 0x7fc6074a1d90>: Failed to establish a new connection: [Errno -2] Name or service not known')) http://e-math.ams.org/web/publications\n",
      "HTTPConnectionPool(host='www.de.state.az.us', port=80): Max retries exceeded with url: /links/economic/webpage/page6.html (Caused by NewConnectionError('<urllib3.connection.HTTPConnection object at 0x7fc5fb2c5b80>: Failed to establish a new connection: [Errno -3] Temporary failure in name resolution')) http://www.de.state.az.us/links/economic/webpage/page6.html\n",
      "HTTPConnectionPool(host='greycite.knowledgeblog.org', port=80): Max retries exceeded with url: /?uid=16584 (Caused by ConnectTimeoutError(<urllib3.connection.HTTPConnection object at 0x7fc5fb2c5a30>, 'Connection to greycite.knowledgeblog.org timed out. (connect timeout=10)')) http://greycite.knowledgeblog.org/?uid=16584\n",
      "404 http://my.yoolib.com/ammontbrison/?p=677\n",
      "404 http://my.yoolib.com/bmmontpellier/?p=17890\n",
      "200 http://my.yoolib.com/inha/?p=21453\n",
      "404 http://my.yoolib.com/bmaixenprovence/?p=14816\n",
      "503 http://digilib.nypl.org/dncimages/NYSAMP/98f2530r.jpg\n",
      "404 http://my.yoolib.com/ammontbrison/?p=57\n",
      "404 http://opendata.cz/cpv/2008/79824000-6/\n",
      "404 http://www.surveymonkey.com/s.aspx?sm=jl8dzRicaZvP_2fiMTOf9v6A_3d_3d&c=t25\n",
      "200 http://www.outbreak.org/cgi-outbreak-unreg/dynaserve.exe/index.html\n",
      "404 http://my.yoolib.com/letelegramme/?p=9577\n",
      "200 http://mnfmarketing.com\n",
      "404 http://my.yoolib.com/ammontbrison/?p=4489\n",
      "404 http://www.ftc.gov/bcp/conline/pubs/homes/getloan.htm\n",
      "404 http://my.yoolib.com/bmsisteron/?p=4643\n",
      "404 http://my.yoolib.net/bmmontpellier/?p=3937\n",
      "200 http://mnfmarketing.com\n",
      "404 http://my.yoolib.com/letelegramme/?p=11204\n",
      "200 http://www.treasury.govt.nz/budget/2013/suppestimates\n",
      "404 http://www.online.ie/donal/dh3.adp\n",
      "200 http://www.arkhenum.fr\n",
      "404 http://my.yoolib.com/bmaixenprovence/?p=7487\n",
      "404 http://www.ncl.ac.uk/%7Enantiq/arma/welc/begin.htm\n",
      "404 http://my.yoolib.com/ammontbrison/?p=478\n",
      "404 http://my.yoolib.net/bmsaintomer/?p=8665\n",
      "200 http://www2.unil.ch/viatimages/index.php?module=image&action=detail&IDImage=3501&projet=viaticalpes&lang=it\n",
      "404 http://www.library.unt.edu/info/willis/music/speccol.asp#wfaa%5Fwbap\n",
      "200 http://occitanica.eu/omeka/items/show/11009\n",
      "200 http://my.yoolib.net/inha/?p=1152\n",
      "404 http://my.yoolib.com/bmmontpellier/?p=35696\n",
      "404 http://my.yoolib.com/bmnice/?p=2205\n",
      "200 http://purl.access.gpo.gov/GPO/LPS3438\n",
      "HTTPConnectionPool(host='gowest.coalliance.org', port=80): Max retries exceeded with url: /cgi-bin/imager?20003941 (Caused by NewConnectionError('<urllib3.connection.HTTPConnection object at 0x7fc5f5d653d0>: Failed to establish a new connection: [Errno -2] Name or service not known')) http://gowest.coalliance.org/cgi-bin/imager?20003941\n",
      "404 http://opendata.cz/vocabulary/cpv/2008/77330000-2\n",
      "200 http://www.cs.utoronto.ca/~mfazel/\n",
      "200 http://fb.com/xxselimxx\n",
      "200 http://nsidc.org/cgi-bin/gpd_deliver_jpg.pl?petowickGI29_07\n",
      "200 http://www.netlibrary.com/summary.asp?ID=7307\n",
      "404 http://my.yoolib.com/letelegramme/?p=15646\n",
      "404 http://my.yoolib.com/amcarmaux/?p=393\n",
      "404 http://my.yoolib.com/bmnice/?p=785\n",
      "200 https://cdm15728.contentdm.oclc.org/digital/collection/p15728coll1/id/11889\n",
      "406 http://www.ggw.org/freenet/f/fdm/\n",
      "HTTPConnectionPool(host='webdoc.lhl.mo.us', port=80): Max retries exceeded with url: /aiche99/99an141j.pdf (Caused by NewConnectionError('<urllib3.connection.HTTPConnection object at 0x7fc5f5d62490>: Failed to establish a new connection: [Errno -2] Name or service not known')) http://webdoc.lhl.mo.us/aiche99/99an141j.pdf\n",
      "404 http://my.yoolib.com/bmaixenprovence/?p=1197\n",
      "200 http://my.yoolib.com/bmdieppe/?p=14599\n",
      "403 http://www.lonelyplanet.com/dest/eur/aus.htm\n",
      "404 http://my.yoolib.com/ad65/?p=12427\n",
      "HTTPConnectionPool(host='gowest.coalliance.org', port=80): Max retries exceeded with url: /cgi-bin/imager?00170826 (Caused by NewConnectionError('<urllib3.connection.HTTPConnection object at 0x7fc5f5d62b80>: Failed to establish a new connection: [Errno -2] Name or service not known')) http://gowest.coalliance.org/cgi-bin/imager?00170826\n",
      "404 http://my.yoolib.net/bmsaintomer/?p=2035\n",
      "200 https://archive.org/details/finalenvironmen1985mont_0\n",
      "200 http://gbg.homebizlifestyles.com/?id=320911\n",
      "HTTPConnectionPool(host='gowest.coalliance.org', port=80): Max retries exceeded with url: /cgi-bin/imager?10030987 (Caused by NewConnectionError('<urllib3.connection.HTTPConnection object at 0x7fc5f976c8e0>: Failed to establish a new connection: [Errno -2] Name or service not known')) http://gowest.coalliance.org/cgi-bin/imager?10030987\n",
      "HTTPConnectionPool(host='http', port=80): Max retries exceeded with url: //www.cdc.gov/nchswww/products/pubs/pubd/hp2k/statnt/statnt/20-11.htm (Caused by NewConnectionError('<urllib3.connection.HTTPConnection object at 0x7fc5f3c85a60>: Failed to establish a new connection: [Errno -3] Temporary failure in name resolution')) http://http://www.cdc.gov/nchswww/products/pubs/pubd/hp2k/statnt/statnt/20-11.htm\n",
      "200 http://www.archive.org/search.php?query=collection:MontanaStateLibrary AND oclc-id:1194414\n",
      "200 http://www.wilmington.net/arts/poets/\n",
      "404 http://www.law.uchicago.edu/Publications/Working/index.html\n",
      "200 http://www.sccsi.com/DaVinci/patenfaq.html\n",
      "404 http://my.yoolib.net/bmmontpellier/?p=13218\n",
      "200 http://my.yoolib.com/bmdieppe/?p=3809\n",
      "HTTPConnectionPool(host='www.csrl.ars.usda.gov', port=80): Max retries exceeded with url: /cppru/scce.htm (Caused by ConnectTimeoutError(<urllib3.connection.HTTPConnection object at 0x7fc5f48fe1c0>, 'Connection to www.csrl.ars.usda.gov timed out. (connect timeout=10)')) http://www.csrl.ars.usda.gov/cppru/scce.htm\n",
      "404 http://my.yoolib.com/ad24/?p=4612\n",
      "HTTPConnectionPool(host='gowest.coalliance.org', port=80): Max retries exceeded with url: /cgi-bin/imager?10030933 (Caused by NewConnectionError('<urllib3.connection.HTTPConnection object at 0x7fc5fb2c5d00>: Failed to establish a new connection: [Errno -2] Name or service not known')) http://gowest.coalliance.org/cgi-bin/imager?10030933\n",
      "404 http://my.yoolib.com/buiheid/?p=92\n",
      "200 http://www.dismarc.org/vocabulary/dmGenres/23033\n",
      "200 http://my.yoolib.com/bmdieppe/?p=5753\n",
      "404 http://my.yoolib.com/ad65/?p=12528\n",
      "HTTPConnectionPool(host='www.pathtosuccess2008.com', port=80): Max retries exceeded with url: / (Caused by NewConnectionError('<urllib3.connection.HTTPConnection object at 0x7fc5f3c75dc0>: Failed to establish a new connection: [Errno -2] Name or service not known')) http://www.pathtosuccess2008.com/\n",
      "HTTPConnectionPool(host='gowest.coalliance.org', port=80): Max retries exceeded with url: /cgi-bin/imager?00186738 (Caused by NewConnectionError('<urllib3.connection.HTTPConnection object at 0x7fc5f3c75fa0>: Failed to establish a new connection: [Errno -2] Name or service not known')) http://gowest.coalliance.org/cgi-bin/imager?00186738\n",
      "200 http://www.ebi.ac.uk/Tools/dbfetch/dbfetch/edam/0002537\n",
      "404 http://www.library.unt.edu/info/willis/music/speccol.asp#wfaa%5Fwbap\n",
      "200 http://nsidc.org/cgi-bin/gpd_deliver_jpg.pl?fallingice1936071002\n",
      "404 http://biomedical.annualreviews.org/contents-by-date.0.shtml\n",
      "404 http://my.yoolib.com/bmbordeaux/?p=6160\n",
      "404 http://my.yoolib.com/ammontbrison/?p=3349\n",
      "404 http://my.yoolib.com/bmverdun1418/?p=333\n",
      "Invalid URL '': No schema supplied. Perhaps you meant http://? \n",
      "404 http://my.yoolib.com/ad24/?p=6691\n",
      "404 http://www.state.gov/www/background%5Fnotes/\n",
      "404 http://my.yoolib.com/bmsisteron/?p=4670\n",
      "HTTPConnectionPool(host='valueaddeddistribution.com', port=80): Max retries exceeded with url: /loader.php?name=Doug%20&custID=65275a2b-f6de-21b5-d545-4999c0e6c93b&inciID=31268 (Caused by NewConnectionError('<urllib3.connection.HTTPConnection object at 0x7fc5fb2bce20>: Failed to establish a new connection: [Errno -2] Name or service not known')) http://valueaddeddistribution.com/loader.php?name=Doug &custID=65275a2b-f6de-21b5-d545-4999c0e6c93b&inciID=31268\n",
      "404 http://my.yoolib.com/ad24/?p=3229\n",
      "403 http://www.eqao.com/eqao/home_page/pdf_e/99P033e.pdf\n",
      "404 http://my.yoolib.com/ad24/?p=3439\n",
      "404 http://opendata.cz/vocabulary/cpv/2008/42124230-5\n",
      "404 http://my.yoolib.com/muplansreliefs/?p=1455\n",
      "200 http://www.guidestar.org\n",
      "404 http://my.yoolib.com/bmaixenprovence/?p=7964\n",
      "404 http://my.yoolib.com/bmsaintomer/?p=19241\n",
      "200 http://nsidc.org/cgi-bin/gpd_deliver_jpg.pl?serpentine1950081101\n",
      "200 http://scholar.lib.vt.edu/theses/available/etd-92398-04626\n",
      "Invalid URL '': No schema supplied. Perhaps you meant http://? \n",
      "Invalid URL '': No schema supplied. Perhaps you meant http://? \n",
      "HTTPConnectionPool(host='gowest.coalliance.org', port=80): Max retries exceeded with url: /cgi-bin/imager?10020573 (Caused by NewConnectionError('<urllib3.connection.HTTPConnection object at 0x7fc5f48fee80>: Failed to establish a new connection: [Errno -2] Name or service not known')) http://gowest.coalliance.org/cgi-bin/imager?10020573\n",
      "200 http://www.dismarc.org/vocabulary/dmGenres/23768\n",
      "200 http://www.library.nd.edu/ddw/public/resource_list.cgi?resource_id=5610&list_type=full_resource\n",
      "404 http://my.yoolib.com/bmbayonne/?p=1762\n",
      "200 http://my.yoolib.com/ambazas/?p=1703\n",
      "HTTPConnectionPool(host='www.amcity.com', port=80): Max retries exceeded with url: /jacksonville/ (Caused by NewConnectionError('<urllib3.connection.HTTPConnection object at 0x7fc5f5d42af0>: Failed to establish a new connection: [Errno -2] Name or service not known')) http://www.amcity.com/jacksonville/\n",
      "HTTPConnectionPool(host='members.xoom.com', port=80): Max retries exceeded with url: /TexasSFE/index.html (Caused by ConnectTimeoutError(<urllib3.connection.HTTPConnection object at 0x7fc5f5d425b0>, 'Connection to members.xoom.com timed out. (connect timeout=10)')) http://members.xoom.com/TexasSFE/index.html\n",
      "404 http://www.cs.umd.edu/users/cml/\n",
      "404 http://my.yoolib.com/letelegramme/?p=21913\n",
      "404 https://raw.githubusercontent.com/PlinianCore/Sources/master/extension/uses.xml\n",
      "404 http://my.yoolib.com/bmaixenprovence/?p=10861\n",
      "404 http://my.yoolib.com/bmsisteron/?p=5303\n",
      "404 http://opendata.cz/cpv/2008/03100000-2/\n",
      "HTTPConnectionPool(host='www.lbo.state.us.oh', port=80): Max retries exceeded with url: /pdf/ISSUE_02/PDF (Caused by NewConnectionError('<urllib3.connection.HTTPConnection object at 0x7fc6074a1940>: Failed to establish a new connection: [Errno -2] Name or service not known')) http://www.lbo.state.us.oh/pdf/ISSUE%5F02/PDF\n",
      "200 http://www.archive.org/details/fiftyyearsofprog1963stat\n",
      "404 http://my.yoolib.com/bmaixenprovence/?p=6237\n",
      "200 http://www.navy.mil/\n",
      "200 http://my.yoolib.com/bmauch/?p=284\n",
      "200 http://www2.unil.ch/viatimages/index.php?module=image&action=detail&IDImage=3774&projet=viaticalpes&lang=fr\n",
      "404 http://my.yoolib.com/bmchambery/?p=2730\n",
      "404 http://my.yoolib.net/bmmontpellier/?p=4140\n",
      "200 http://cdm15728.contentdm.oclc.org/cdm/ref/collection/p15728coll1/id/11741\n",
      "HTTPConnectionPool(host='gowest.coalliance.org', port=80): Max retries exceeded with url: /cgi-bin/imager?20002599 (Caused by NewConnectionError('<urllib3.connection.HTTPConnection object at 0x7fc6074a6b80>: Failed to establish a new connection: [Errno -2] Name or service not known')) http://gowest.coalliance.org/cgi-bin/imager?20002599\n",
      "200 http://nsidc.org/cgi-bin/gpd_deliver_jpg.pl?lauteraar1899_814\n",
      "HTTPConnectionPool(host='www.access.gpo.gov', port=80): Max retries exceeded with url: /su_docs/aces/aces160.shtml (Caused by ConnectTimeoutError(<urllib3.connection.HTTPConnection object at 0x7fc6074a67f0>, 'Connection to www.access.gpo.gov timed out. (connect timeout=10)')) http://www.access.gpo.gov/su%5Fdocs/aces/aces160.shtml\n",
      "200 http://www.aifs.gov.au/nch/pubs/issues/issues15/issues15.pdf\n",
      "404 http://my.yoolib.com/bmmontpellier/?p=35242\n",
      "200 http://nsidc.org/cgi-bin/gpd_deliver_jpg.pl?USGSA19_004\n",
      "404 http://my.yoolib.com/ammontbrison/?p=6235\n",
      "200 http://my.yoolib.com/bumazarine/?p=67\n",
      "No connection adapters were found for 'ftp://uiarchive.cso.uiuc.edu/pub/etext/gutenberg/etext96/trlst10.zip' ftp://uiarchive.cso.uiuc.edu/pub/etext/gutenberg/etext96/trlst10.zip\n",
      "200 http://my.yoolib.net/inha/?p=10730\n",
      "404 http://my.yoolib.com/bmsaintomer/?p=20576\n",
      "HTTPConnectionPool(host='wwwsc.library.unh.edu', port=80): Max retries exceeded with url: /specoll/archives/copyright.htm (Caused by NewConnectionError('<urllib3.connection.HTTPConnection object at 0x7fc6074a60a0>: Failed to establish a new connection: [Errno -2] Name or service not known')) http://wwwsc.library.unh.edu/specoll/archives/copyright.htm\n",
      "200 http://my.yoolib.com/bmdieppe/?p=5346\n",
      "HTTPConnectionPool(host='136.142.56.160', port=80): Max retries exceeded with url: /ovidweb/ovidweb.cgi?T=JS&MODE=ovid&NEWS=N&PAGE=toc&D=ovid_ovft&AN=00001698-000000000-00000 (Caused by ConnectTimeoutError(<urllib3.connection.HTTPConnection object at 0x7fc5f5d42bb0>, 'Connection to 136.142.56.160 timed out. (connect timeout=10)')) http://136.142.56.160/ovidweb/ovidweb.cgi?T=JS&MODE=ovid&NEWS=N&PAGE=toc&D=ovid%5fovft&AN=00001698-000000000-00000\n",
      "HTTPConnectionPool(host='www.onlineprofitinstantly.com', port=80): Max retries exceeded with url: / (Caused by NewConnectionError('<urllib3.connection.HTTPConnection object at 0x7fc5fa44ae80>: Failed to establish a new connection: [Errno -2] Name or service not known')) http://www.onlineprofitinstantly.com\n",
      "404 http://my.yoolib.com/buiheid/?p=235\n",
      "HTTPConnectionPool(host='valueaddeddistribution.com', port=80): Max retries exceeded with url: /loader.php?name=Buddy&custID=7e13eb62-5b7e-df45-60e7-48b97272252c&inciID=32644 (Caused by NewConnectionError('<urllib3.connection.HTTPConnection object at 0x7fc6074a6160>: Failed to establish a new connection: [Errno -2] Name or service not known')) http://valueaddeddistribution.com/loader.php?name=Buddy&custID=7e13eb62-5b7e-df45-60e7-48b97272252c&inciID=32644\n",
      "200 http://www.bleuel.com/ip-zit.htm\n",
      "HTTPConnectionPool(host='gowest.coalliance.org', port=80): Max retries exceeded with url: /cgi-bin/imager?10019820 (Caused by NewConnectionError('<urllib3.connection.HTTPConnection object at 0x7fc6074a6ac0>: Failed to establish a new connection: [Errno -2] Name or service not known')) http://gowest.coalliance.org/cgi-bin/imager?10019820\n",
      "200 http://www.state.ak.us/local/akpages/ADMIN/apoc/emlob8.htm\n",
      "HTTPConnectionPool(host='gowest.coalliance.org', port=80): Max retries exceeded with url: /cgi-bin/imager?00187206 (Caused by NewConnectionError('<urllib3.connection.HTTPConnection object at 0x7fc6074a68e0>: Failed to establish a new connection: [Errno -2] Name or service not known')) http://gowest.coalliance.org/cgi-bin/imager?00187206\n",
      "HTTPConnectionPool(host='gowest.coalliance.org', port=80): Max retries exceeded with url: /cgi-bin/imager?10030032 (Caused by NewConnectionError('<urllib3.connection.HTTPConnection object at 0x7fc6074a6af0>: Failed to establish a new connection: [Errno -2] Name or service not known')) http://gowest.coalliance.org/cgi-bin/imager?10030032\n",
      "404 http://my.yoolib.net/bmmontpellier/?p=7383\n",
      "200 http://www.olemiss.edu/depts/general_library/archives/finding_aids/MUM00232.html\n",
      "200 http://my.yoolib.com/bmdieppe/?p=8171\n",
      "200 http://my.yoolib.com/bmdieppe/?p=13110\n",
      "HTTPConnectionPool(host='www.library.nwu.edu', port=80): Max retries exceeded with url: /govpub/collections/wwii-posters (Caused by NewConnectionError('<urllib3.connection.HTTPConnection object at 0x7fc6074a6ca0>: Failed to establish a new connection: [Errno -2] Name or service not known')) http://www.library.nwu.edu/govpub/collections/wwii-posters\n",
      "200 http://nsidc.org/cgi-bin/gpd_deliver_jpg.pl?USGS92V5_305\n",
      "404 http://my.yoolib.com/letelegramme/?p=21714\n",
      "200 http://www.lib.berkeley.edu/MRC/FSM.html#FSMsounds\n",
      "404 http://my.yoolib.com/bmmontpellier/?p=33534\n",
      "200 http://www.goldsoup.com\n",
      "200 http://my.yoolib.net/inha/?p=7946\n",
      "200 http://duepublico.uni-duisburg-essen.de/servlets/DocumentServlet?name=duett-05252001-115538/\n",
      "HTTPConnectionPool(host='gowest.coalliance.org', port=80): Max retries exceeded with url: /cgi-bin/imager?20031198 (Caused by NewConnectionError('<urllib3.connection.HTTPConnection object at 0x7fc5f5d65ac0>: Failed to establish a new connection: [Errno -2] Name or service not known')) http://gowest.coalliance.org/cgi-bin/imager?20031198\n",
      "200 http://maps.yahoo.com/py/ddResults.py?Pyt=Tmap&ed=jfVEzuV.winKINOnbsI5xvaH.A2tpgeF8iv6WbPbV57iokWY3MJCq6E0Ml15bUM9zgzpKbCUKg--&newcsz=&newcountry=us&newtcsz=Naperville,+IL+60540-6295&newtcountry=us\n",
      "200 http://www.library.nd.edu/ddw/public/resource_list.cgi?resource_id=6043&list_type=full_resource\n",
      "404 http://my.yoolib.net/bmsaintomer/?p=8679\n",
      "HTTPConnectionPool(host='137.74.162.72', port=80): Max retries exceeded with url: / (Caused by ConnectTimeoutError(<urllib3.connection.HTTPConnection object at 0x7fc608a09550>, 'Connection to 137.74.162.72 timed out. (connect timeout=10)')) http://my.yoolib.com/bmalencon/?p=170\n"
     ]
    }
   ],
   "source": [
    "url_sample['status_code'] = url_sample['target'].apply(status_code)"
   ]
  },
  {
   "cell_type": "markdown",
   "metadata": {},
   "source": [
    "Just eyeballing these results its clear that there are some large pockets of URLs at some hosts like `my.yoolib.com` so in order to make claims about maintainers in general we would want to have a smarter sampling method that doesn't over sample particular maintainers. But lets just take a look at these URLs."
   ]
  },
  {
   "cell_type": "code",
   "execution_count": 49,
   "metadata": {},
   "outputs": [
    {
     "data": {
      "text/plain": [
       "404.0    259\n",
       "200.0    213\n",
       "403.0      6\n",
       "406.0      2\n",
       "500.0      2\n",
       "400.0      2\n",
       "503.0      2\n",
       "420.0      1\n",
       "Name: status_code, dtype: int64"
      ]
     },
     "execution_count": 49,
     "metadata": {},
     "output_type": "execute_result"
    }
   ],
   "source": [
    "url_sample['status_code'].value_counts()"
   ]
  },
  {
   "cell_type": "markdown",
   "metadata": {},
   "source": [
    "But lets try again but this time sample based on the namespace."
   ]
  },
  {
   "cell_type": "code",
   "execution_count": 50,
   "metadata": {},
   "outputs": [
    {
     "data": {
      "text/plain": [
       "21894"
      ]
     },
     "execution_count": 50,
     "metadata": {},
     "output_type": "execute_result"
    }
   ],
   "source": [
    "len(df)"
   ]
  },
  {
   "cell_type": "markdown",
   "metadata": {},
   "source": [
    "The calculator says for 99% confidence and 5% margin of error we should use 644."
   ]
  },
  {
   "cell_type": "code",
   "execution_count": 72,
   "metadata": {},
   "outputs": [
    {
     "data": {
      "text/html": [
       "<div>\n",
       "<style scoped>\n",
       "    .dataframe tbody tr th:only-of-type {\n",
       "        vertical-align: middle;\n",
       "    }\n",
       "\n",
       "    .dataframe tbody tr th {\n",
       "        vertical-align: top;\n",
       "    }\n",
       "\n",
       "    .dataframe thead th {\n",
       "        text-align: right;\n",
       "    }\n",
       "</style>\n",
       "<table border=\"1\" class=\"dataframe\">\n",
       "  <thead>\n",
       "    <tr style=\"text-align: right;\">\n",
       "      <th></th>\n",
       "      <th>name</th>\n",
       "      <th>created</th>\n",
       "      <th>purls</th>\n",
       "      <th>maintainer.fullname</th>\n",
       "      <th>maintainer.email</th>\n",
       "      <th>maintainer.affiliation</th>\n",
       "      <th>maintainer.userid</th>\n",
       "      <th>maintainer</th>\n",
       "    </tr>\n",
       "  </thead>\n",
       "  <tbody>\n",
       "    <tr>\n",
       "      <th>12753</th>\n",
       "      <td>/oclc/oluc/43080762</td>\n",
       "      <td>2009-07-22 16:28:35</td>\n",
       "      <td>[{'target': 'http://webdoc.lhl.mo.us/aiche99/9...</td>\n",
       "      <td>User of Steel</td>\n",
       "      <td>null</td>\n",
       "      <td>PURL Server</td>\n",
       "      <td>admin</td>\n",
       "      <td>NaN</td>\n",
       "    </tr>\n",
       "    <tr>\n",
       "      <th>17477</th>\n",
       "      <td>/net/2995</td>\n",
       "      <td>2009-07-22 17:37:29</td>\n",
       "      <td>[{'target': 'http://topsiteforyou.com/form', '...</td>\n",
       "      <td>Kevin McCarry</td>\n",
       "      <td>woben2@gmail.com</td>\n",
       "      <td></td>\n",
       "      <td>ELEMENT</td>\n",
       "      <td>NaN</td>\n",
       "    </tr>\n",
       "    <tr>\n",
       "      <th>9135</th>\n",
       "      <td>/umarchives/mum00592</td>\n",
       "      <td>2009-07-22 15:55:58</td>\n",
       "      <td>[{'target': 'http://www.olemiss.edu/depts/gene...</td>\n",
       "      <td>University Special Collections and Archives</td>\n",
       "      <td>archive@olemiss.edu</td>\n",
       "      <td>University of Mississippi</td>\n",
       "      <td>OLEMISSARCHIVES</td>\n",
       "      <td>NaN</td>\n",
       "    </tr>\n",
       "    <tr>\n",
       "      <th>16381</th>\n",
       "      <td>/uporto/id</td>\n",
       "      <td>2013-05-13 06:49:51</td>\n",
       "      <td>[{'target': 'https://inqueritos.up.pt/limesurv...</td>\n",
       "      <td>U.PORTO-REIT:DUD-SERU</td>\n",
       "      <td>helpdesk@reit.up.pt</td>\n",
       "      <td>uporto</td>\n",
       "      <td>uporto1reit2dud3seru</td>\n",
       "      <td>NaN</td>\n",
       "    </tr>\n",
       "    <tr>\n",
       "      <th>21797</th>\n",
       "      <td>/oclc/oluc/43272755</td>\n",
       "      <td>2009-07-22 16:15:11</td>\n",
       "      <td>[{'target': 'http://libwww.syr.edu/information...</td>\n",
       "      <td>User of Steel</td>\n",
       "      <td>null</td>\n",
       "      <td>PURL Server</td>\n",
       "      <td>admin</td>\n",
       "      <td>NaN</td>\n",
       "    </tr>\n",
       "    <tr>\n",
       "      <th>...</th>\n",
       "      <td>...</td>\n",
       "      <td>...</td>\n",
       "      <td>...</td>\n",
       "      <td>...</td>\n",
       "      <td>...</td>\n",
       "      <td>...</td>\n",
       "      <td>...</td>\n",
       "      <td>...</td>\n",
       "    </tr>\n",
       "    <tr>\n",
       "      <th>13757</th>\n",
       "      <td>/obo/obi/wiki</td>\n",
       "      <td>2009-07-22 16:53:26</td>\n",
       "      <td>[{'target': 'http://obi-ontology.org/page/', '...</td>\n",
       "      <td>Alan Ruttenberg</td>\n",
       "      <td>alanruttenberg@gmail.com</td>\n",
       "      <td>Science Commons</td>\n",
       "      <td>ALANRUTTENBERG</td>\n",
       "      <td>NaN</td>\n",
       "    </tr>\n",
       "    <tr>\n",
       "      <th>5662</th>\n",
       "      <td>/sh</td>\n",
       "      <td>2017-11-16 04:50:56</td>\n",
       "      <td>[{'name': '/sh', 'type': 'partial', 'created':...</td>\n",
       "      <td>NaN</td>\n",
       "      <td>NaN</td>\n",
       "      <td>NaN</td>\n",
       "      <td>NaN</td>\n",
       "      <td>NaN</td>\n",
       "    </tr>\n",
       "    <tr>\n",
       "      <th>18659</th>\n",
       "      <td>/net/netrier</td>\n",
       "      <td>2009-07-22 17:11:30</td>\n",
       "      <td>[{'target': 'http://www.mediasanto.com/cboxser...</td>\n",
       "      <td>sco</td>\n",
       "      <td>contact@mediasanto.com</td>\n",
       "      <td>mediasanto</td>\n",
       "      <td>MEDIASANTO</td>\n",
       "      <td>NaN</td>\n",
       "    </tr>\n",
       "    <tr>\n",
       "      <th>8072</th>\n",
       "      <td>/yoolib/ad24</td>\n",
       "      <td>2011-09-16 04:53:45</td>\n",
       "      <td>[{'target': 'http://my.yoolib.net/ad24/?p=832'...</td>\n",
       "      <td>User of Steel</td>\n",
       "      <td>null</td>\n",
       "      <td>PURL Server</td>\n",
       "      <td>admin</td>\n",
       "      <td>NaN</td>\n",
       "    </tr>\n",
       "    <tr>\n",
       "      <th>17427</th>\n",
       "      <td>/umarchives/mum00580</td>\n",
       "      <td>2009-07-22 15:56:03</td>\n",
       "      <td>[{'target': 'http://www.olemiss.edu/depts/gene...</td>\n",
       "      <td>University Special Collections and Archives</td>\n",
       "      <td>archive@olemiss.edu</td>\n",
       "      <td>University of Mississippi</td>\n",
       "      <td>OLEMISSARCHIVES</td>\n",
       "      <td>NaN</td>\n",
       "    </tr>\n",
       "  </tbody>\n",
       "</table>\n",
       "<p>644 rows × 8 columns</p>\n",
       "</div>"
      ],
      "text/plain": [
       "                       name             created  \\\n",
       "12753   /oclc/oluc/43080762 2009-07-22 16:28:35   \n",
       "17477             /net/2995 2009-07-22 17:37:29   \n",
       "9135   /umarchives/mum00592 2009-07-22 15:55:58   \n",
       "16381            /uporto/id 2013-05-13 06:49:51   \n",
       "21797   /oclc/oluc/43272755 2009-07-22 16:15:11   \n",
       "...                     ...                 ...   \n",
       "13757         /obo/obi/wiki 2009-07-22 16:53:26   \n",
       "5662                    /sh 2017-11-16 04:50:56   \n",
       "18659          /net/netrier 2009-07-22 17:11:30   \n",
       "8072           /yoolib/ad24 2011-09-16 04:53:45   \n",
       "17427  /umarchives/mum00580 2009-07-22 15:56:03   \n",
       "\n",
       "                                                   purls  \\\n",
       "12753  [{'target': 'http://webdoc.lhl.mo.us/aiche99/9...   \n",
       "17477  [{'target': 'http://topsiteforyou.com/form', '...   \n",
       "9135   [{'target': 'http://www.olemiss.edu/depts/gene...   \n",
       "16381  [{'target': 'https://inqueritos.up.pt/limesurv...   \n",
       "21797  [{'target': 'http://libwww.syr.edu/information...   \n",
       "...                                                  ...   \n",
       "13757  [{'target': 'http://obi-ontology.org/page/', '...   \n",
       "5662   [{'name': '/sh', 'type': 'partial', 'created':...   \n",
       "18659  [{'target': 'http://www.mediasanto.com/cboxser...   \n",
       "8072   [{'target': 'http://my.yoolib.net/ad24/?p=832'...   \n",
       "17427  [{'target': 'http://www.olemiss.edu/depts/gene...   \n",
       "\n",
       "                               maintainer.fullname          maintainer.email  \\\n",
       "12753                                User of Steel                      null   \n",
       "17477                                Kevin McCarry          woben2@gmail.com   \n",
       "9135   University Special Collections and Archives       archive@olemiss.edu   \n",
       "16381                        U.PORTO-REIT:DUD-SERU       helpdesk@reit.up.pt   \n",
       "21797                                User of Steel                      null   \n",
       "...                                            ...                       ...   \n",
       "13757                              Alan Ruttenberg  alanruttenberg@gmail.com   \n",
       "5662                                           NaN                       NaN   \n",
       "18659                                          sco    contact@mediasanto.com   \n",
       "8072                                 User of Steel                      null   \n",
       "17427  University Special Collections and Archives       archive@olemiss.edu   \n",
       "\n",
       "          maintainer.affiliation     maintainer.userid  maintainer  \n",
       "12753                PURL Server                 admin         NaN  \n",
       "17477                                          ELEMENT         NaN  \n",
       "9135   University of Mississippi       OLEMISSARCHIVES         NaN  \n",
       "16381                     uporto  uporto1reit2dud3seru         NaN  \n",
       "21797                PURL Server                 admin         NaN  \n",
       "...                          ...                   ...         ...  \n",
       "13757            Science Commons        ALANRUTTENBERG         NaN  \n",
       "5662                         NaN                   NaN         NaN  \n",
       "18659                 mediasanto            MEDIASANTO         NaN  \n",
       "8072                 PURL Server                 admin         NaN  \n",
       "17427  University of Mississippi       OLEMISSARCHIVES         NaN  \n",
       "\n",
       "[644 rows x 8 columns]"
      ]
     },
     "execution_count": 72,
     "metadata": {},
     "output_type": "execute_result"
    }
   ],
   "source": [
    "ns_sample = df[df['purls'].notna()].sample(644)\n",
    "ns_sample"
   ]
  },
  {
   "cell_type": "markdown",
   "metadata": {},
   "source": [
    "Now we need a function that will get a URL for one of these namespaces. It's actually embedded in the `purls` series. This function can randomly pick one of the URLs in the namespace or simply return it if there's only one."
   ]
  },
  {
   "cell_type": "code",
   "execution_count": 75,
   "metadata": {},
   "outputs": [],
   "source": [
    "import random\n",
    "\n",
    "def ns_url(purls):\n",
    "    if not purls:\n",
    "        return None\n",
    "    targets = [p['target'] for p in purls]\n",
    "    if len(targets) == 1:\n",
    "        return targets[0]\n",
    "    elif len(targets) == 0:\n",
    "        return None\n",
    "    else:\n",
    "        return random.choice(targets)                              "
   ]
  },
  {
   "cell_type": "code",
   "execution_count": 76,
   "metadata": {},
   "outputs": [
    {
     "data": {
      "text/html": [
       "<div>\n",
       "<style scoped>\n",
       "    .dataframe tbody tr th:only-of-type {\n",
       "        vertical-align: middle;\n",
       "    }\n",
       "\n",
       "    .dataframe tbody tr th {\n",
       "        vertical-align: top;\n",
       "    }\n",
       "\n",
       "    .dataframe thead th {\n",
       "        text-align: right;\n",
       "    }\n",
       "</style>\n",
       "<table border=\"1\" class=\"dataframe\">\n",
       "  <thead>\n",
       "    <tr style=\"text-align: right;\">\n",
       "      <th></th>\n",
       "      <th>name</th>\n",
       "      <th>created</th>\n",
       "      <th>purls</th>\n",
       "      <th>maintainer.fullname</th>\n",
       "      <th>maintainer.email</th>\n",
       "      <th>maintainer.affiliation</th>\n",
       "      <th>maintainer.userid</th>\n",
       "      <th>maintainer</th>\n",
       "      <th>sample_url</th>\n",
       "    </tr>\n",
       "  </thead>\n",
       "  <tbody>\n",
       "    <tr>\n",
       "      <th>12753</th>\n",
       "      <td>/oclc/oluc/43080762</td>\n",
       "      <td>2009-07-22 16:28:35</td>\n",
       "      <td>[{'target': 'http://webdoc.lhl.mo.us/aiche99/9...</td>\n",
       "      <td>User of Steel</td>\n",
       "      <td>null</td>\n",
       "      <td>PURL Server</td>\n",
       "      <td>admin</td>\n",
       "      <td>NaN</td>\n",
       "      <td>http://webdoc.lhl.mo.us/aiche99/99an22a.pdf</td>\n",
       "    </tr>\n",
       "    <tr>\n",
       "      <th>17477</th>\n",
       "      <td>/net/2995</td>\n",
       "      <td>2009-07-22 17:37:29</td>\n",
       "      <td>[{'target': 'http://topsiteforyou.com/form', '...</td>\n",
       "      <td>Kevin McCarry</td>\n",
       "      <td>woben2@gmail.com</td>\n",
       "      <td></td>\n",
       "      <td>ELEMENT</td>\n",
       "      <td>NaN</td>\n",
       "      <td>http://topsiteforyou.com/form</td>\n",
       "    </tr>\n",
       "    <tr>\n",
       "      <th>9135</th>\n",
       "      <td>/umarchives/mum00592</td>\n",
       "      <td>2009-07-22 15:55:58</td>\n",
       "      <td>[{'target': 'http://www.olemiss.edu/depts/gene...</td>\n",
       "      <td>University Special Collections and Archives</td>\n",
       "      <td>archive@olemiss.edu</td>\n",
       "      <td>University of Mississippi</td>\n",
       "      <td>OLEMISSARCHIVES</td>\n",
       "      <td>NaN</td>\n",
       "      <td>http://www.olemiss.edu/depts/general_library/a...</td>\n",
       "    </tr>\n",
       "    <tr>\n",
       "      <th>16381</th>\n",
       "      <td>/uporto/id</td>\n",
       "      <td>2013-05-13 06:49:51</td>\n",
       "      <td>[{'target': 'https://inqueritos.up.pt/limesurv...</td>\n",
       "      <td>U.PORTO-REIT:DUD-SERU</td>\n",
       "      <td>helpdesk@reit.up.pt</td>\n",
       "      <td>uporto</td>\n",
       "      <td>uporto1reit2dud3seru</td>\n",
       "      <td>NaN</td>\n",
       "      <td>https://inqueritos.up.pt/limesurvey/557995</td>\n",
       "    </tr>\n",
       "    <tr>\n",
       "      <th>21797</th>\n",
       "      <td>/oclc/oluc/43272755</td>\n",
       "      <td>2009-07-22 16:15:11</td>\n",
       "      <td>[{'target': 'http://libwww.syr.edu/information...</td>\n",
       "      <td>User of Steel</td>\n",
       "      <td>null</td>\n",
       "      <td>PURL Server</td>\n",
       "      <td>admin</td>\n",
       "      <td>NaN</td>\n",
       "      <td>http://libwww.syr.edu/information/media/archiv...</td>\n",
       "    </tr>\n",
       "    <tr>\n",
       "      <th>...</th>\n",
       "      <td>...</td>\n",
       "      <td>...</td>\n",
       "      <td>...</td>\n",
       "      <td>...</td>\n",
       "      <td>...</td>\n",
       "      <td>...</td>\n",
       "      <td>...</td>\n",
       "      <td>...</td>\n",
       "      <td>...</td>\n",
       "    </tr>\n",
       "    <tr>\n",
       "      <th>13757</th>\n",
       "      <td>/obo/obi/wiki</td>\n",
       "      <td>2009-07-22 16:53:26</td>\n",
       "      <td>[{'target': 'http://obi-ontology.org/page/', '...</td>\n",
       "      <td>Alan Ruttenberg</td>\n",
       "      <td>alanruttenberg@gmail.com</td>\n",
       "      <td>Science Commons</td>\n",
       "      <td>ALANRUTTENBERG</td>\n",
       "      <td>NaN</td>\n",
       "      <td>http://obi-ontology.org</td>\n",
       "    </tr>\n",
       "    <tr>\n",
       "      <th>5662</th>\n",
       "      <td>/sh</td>\n",
       "      <td>2017-11-16 04:50:56</td>\n",
       "      <td>[{'name': '/sh', 'type': 'partial', 'created':...</td>\n",
       "      <td>NaN</td>\n",
       "      <td>NaN</td>\n",
       "      <td>NaN</td>\n",
       "      <td>NaN</td>\n",
       "      <td>NaN</td>\n",
       "      <td>https://sci.pe</td>\n",
       "    </tr>\n",
       "    <tr>\n",
       "      <th>18659</th>\n",
       "      <td>/net/netrier</td>\n",
       "      <td>2009-07-22 17:11:30</td>\n",
       "      <td>[{'target': 'http://www.mediasanto.com/cboxser...</td>\n",
       "      <td>sco</td>\n",
       "      <td>contact@mediasanto.com</td>\n",
       "      <td>mediasanto</td>\n",
       "      <td>MEDIASANTO</td>\n",
       "      <td>NaN</td>\n",
       "      <td>http://www.mediasanto.com/cboxserver/cbs?isan=...</td>\n",
       "    </tr>\n",
       "    <tr>\n",
       "      <th>8072</th>\n",
       "      <td>/yoolib/ad24</td>\n",
       "      <td>2011-09-16 04:53:45</td>\n",
       "      <td>[{'target': 'http://my.yoolib.net/ad24/?p=832'...</td>\n",
       "      <td>User of Steel</td>\n",
       "      <td>null</td>\n",
       "      <td>PURL Server</td>\n",
       "      <td>admin</td>\n",
       "      <td>NaN</td>\n",
       "      <td>http://my.yoolib.com/ad24/?p=4338</td>\n",
       "    </tr>\n",
       "    <tr>\n",
       "      <th>17427</th>\n",
       "      <td>/umarchives/mum00580</td>\n",
       "      <td>2009-07-22 15:56:03</td>\n",
       "      <td>[{'target': 'http://www.olemiss.edu/depts/gene...</td>\n",
       "      <td>University Special Collections and Archives</td>\n",
       "      <td>archive@olemiss.edu</td>\n",
       "      <td>University of Mississippi</td>\n",
       "      <td>OLEMISSARCHIVES</td>\n",
       "      <td>NaN</td>\n",
       "      <td>http://www.olemiss.edu/depts/general_library/a...</td>\n",
       "    </tr>\n",
       "  </tbody>\n",
       "</table>\n",
       "<p>644 rows × 9 columns</p>\n",
       "</div>"
      ],
      "text/plain": [
       "                       name             created  \\\n",
       "12753   /oclc/oluc/43080762 2009-07-22 16:28:35   \n",
       "17477             /net/2995 2009-07-22 17:37:29   \n",
       "9135   /umarchives/mum00592 2009-07-22 15:55:58   \n",
       "16381            /uporto/id 2013-05-13 06:49:51   \n",
       "21797   /oclc/oluc/43272755 2009-07-22 16:15:11   \n",
       "...                     ...                 ...   \n",
       "13757         /obo/obi/wiki 2009-07-22 16:53:26   \n",
       "5662                    /sh 2017-11-16 04:50:56   \n",
       "18659          /net/netrier 2009-07-22 17:11:30   \n",
       "8072           /yoolib/ad24 2011-09-16 04:53:45   \n",
       "17427  /umarchives/mum00580 2009-07-22 15:56:03   \n",
       "\n",
       "                                                   purls  \\\n",
       "12753  [{'target': 'http://webdoc.lhl.mo.us/aiche99/9...   \n",
       "17477  [{'target': 'http://topsiteforyou.com/form', '...   \n",
       "9135   [{'target': 'http://www.olemiss.edu/depts/gene...   \n",
       "16381  [{'target': 'https://inqueritos.up.pt/limesurv...   \n",
       "21797  [{'target': 'http://libwww.syr.edu/information...   \n",
       "...                                                  ...   \n",
       "13757  [{'target': 'http://obi-ontology.org/page/', '...   \n",
       "5662   [{'name': '/sh', 'type': 'partial', 'created':...   \n",
       "18659  [{'target': 'http://www.mediasanto.com/cboxser...   \n",
       "8072   [{'target': 'http://my.yoolib.net/ad24/?p=832'...   \n",
       "17427  [{'target': 'http://www.olemiss.edu/depts/gene...   \n",
       "\n",
       "                               maintainer.fullname          maintainer.email  \\\n",
       "12753                                User of Steel                      null   \n",
       "17477                                Kevin McCarry          woben2@gmail.com   \n",
       "9135   University Special Collections and Archives       archive@olemiss.edu   \n",
       "16381                        U.PORTO-REIT:DUD-SERU       helpdesk@reit.up.pt   \n",
       "21797                                User of Steel                      null   \n",
       "...                                            ...                       ...   \n",
       "13757                              Alan Ruttenberg  alanruttenberg@gmail.com   \n",
       "5662                                           NaN                       NaN   \n",
       "18659                                          sco    contact@mediasanto.com   \n",
       "8072                                 User of Steel                      null   \n",
       "17427  University Special Collections and Archives       archive@olemiss.edu   \n",
       "\n",
       "          maintainer.affiliation     maintainer.userid  maintainer  \\\n",
       "12753                PURL Server                 admin         NaN   \n",
       "17477                                          ELEMENT         NaN   \n",
       "9135   University of Mississippi       OLEMISSARCHIVES         NaN   \n",
       "16381                     uporto  uporto1reit2dud3seru         NaN   \n",
       "21797                PURL Server                 admin         NaN   \n",
       "...                          ...                   ...         ...   \n",
       "13757            Science Commons        ALANRUTTENBERG         NaN   \n",
       "5662                         NaN                   NaN         NaN   \n",
       "18659                 mediasanto            MEDIASANTO         NaN   \n",
       "8072                 PURL Server                 admin         NaN   \n",
       "17427  University of Mississippi       OLEMISSARCHIVES         NaN   \n",
       "\n",
       "                                              sample_url  \n",
       "12753        http://webdoc.lhl.mo.us/aiche99/99an22a.pdf  \n",
       "17477                      http://topsiteforyou.com/form  \n",
       "9135   http://www.olemiss.edu/depts/general_library/a...  \n",
       "16381         https://inqueritos.up.pt/limesurvey/557995  \n",
       "21797  http://libwww.syr.edu/information/media/archiv...  \n",
       "...                                                  ...  \n",
       "13757                            http://obi-ontology.org  \n",
       "5662                                      https://sci.pe  \n",
       "18659  http://www.mediasanto.com/cboxserver/cbs?isan=...  \n",
       "8072                   http://my.yoolib.com/ad24/?p=4338  \n",
       "17427  http://www.olemiss.edu/depts/general_library/a...  \n",
       "\n",
       "[644 rows x 9 columns]"
      ]
     },
     "execution_count": 76,
     "metadata": {},
     "output_type": "execute_result"
    }
   ],
   "source": [
    "ns_sample['sample_url'] = ns_sample['purls'].apply(ns_url)\n",
    "ns_sample"
   ]
  },
  {
   "cell_type": "markdown",
   "metadata": {},
   "source": [
    "Now lets check these."
   ]
  },
  {
   "cell_type": "code",
   "execution_count": 81,
   "metadata": {},
   "outputs": [
    {
     "name": "stdout",
     "output_type": "stream",
     "text": [
      "HTTPConnectionPool(host='webdoc.lhl.mo.us', port=80): Max retries exceeded with url: /aiche99/99an22a.pdf (Caused by NewConnectionError('<urllib3.connection.HTTPConnection object at 0x7fc5fb2c5c10>: Failed to establish a new connection: [Errno -2] Name or service not known')) http://webdoc.lhl.mo.us/aiche99/99an22a.pdf\n",
      "HTTPConnectionPool(host='topsiteforyou.com', port=80): Max retries exceeded with url: /form (Caused by NewConnectionError('<urllib3.connection.HTTPConnection object at 0x7fc5fb2c5640>: Failed to establish a new connection: [Errno -2] Name or service not known')) http://topsiteforyou.com/form\n",
      "200 http://www.olemiss.edu/depts/general_library/archives/finding_aids/MUM00592.html\n",
      "404 https://inqueritos.up.pt/limesurvey/557995\n",
      "HTTPConnectionPool(host='libwww.syr.edu', port=80): Max retries exceeded with url: /information/media/archive/main.htm (Caused by NewConnectionError('<urllib3.connection.HTTPConnection object at 0x7fc5fb2c5490>: Failed to establish a new connection: [Errno -2] Name or service not known')) http://libwww.syr.edu/information/media/archive/main.htm\n",
      "HTTPConnectionPool(host='zerver.thpl.lib.fl.us', port=80): Max retries exceeded with url: /archive05/440.jpg (Caused by NewConnectionError('<urllib3.connection.HTTPConnection object at 0x7fc5fb2c57c0>: Failed to establish a new connection: [Errno -3] Temporary failure in name resolution')) http://zerver.thpl.lib.fl.us/archive05/440.jpg\n",
      "200 https://dailystormer.su\n",
      "404 http://www.indiana.edu/%7Eletrs/vwwp/linton/autokirk3.html\n",
      "HTTPConnectionPool(host='gowest.coalliance.org', port=80): Max retries exceeded with url: /cgi-bin/imager?10022999 (Caused by NewConnectionError('<urllib3.connection.HTTPConnection object at 0x7fc5fb2c5e50>: Failed to establish a new connection: [Errno -2] Name or service not known')) http://gowest.coalliance.org/cgi-bin/imager?10022999\n",
      "HTTPConnectionPool(host='webdoc.lhl.mo.us', port=80): Max retries exceeded with url: /aiche99/99an47g.pdf (Caused by NewConnectionError('<urllib3.connection.HTTPConnection object at 0x7fc5fb2c5160>: Failed to establish a new connection: [Errno -2] Name or service not known')) http://webdoc.lhl.mo.us/aiche99/99an47g.pdf\n",
      "200 http://tph.tuwien.ac.at/~areiner/\n",
      "HTTPConnectionPool(host='webdoc.lhl.mo.us', port=80): Max retries exceeded with url: /aiche99/99an14d.pdf (Caused by NewConnectionError('<urllib3.connection.HTTPConnection object at 0x7fc5fb2c5490>: Failed to establish a new connection: [Errno -2] Name or service not known')) http://webdoc.lhl.mo.us/aiche99/99an14d.pdf\n",
      "HTTPConnectionPool(host='gowest.coalliance.org', port=80): Max retries exceeded with url: /cgi-bin/imager?0019495 (Caused by NewConnectionError('<urllib3.connection.HTTPConnection object at 0x7fc5fb2c5970>: Failed to establish a new connection: [Errno -2] Name or service not known')) http://gowest.coalliance.org/cgi-bin/imager?0019495\n",
      "404 http://lov.okfn.org/vocommons/voaf\n",
      "HTTPConnectionPool(host='gowest.coalliance.org', port=80): Max retries exceeded with url: /cgi-bin/imager?10022860 (Caused by NewConnectionError('<urllib3.connection.HTTPConnection object at 0x7fc5fb2c5970>: Failed to establish a new connection: [Errno -2] Name or service not known')) http://gowest.coalliance.org/cgi-bin/imager?10022860\n",
      "404 http://lib-www.lanl.gov/~herbertv/niso/context-object.xsd\n",
      "200 http://www.topmeds10.com/search.php?aid=57123&q=ibuprofen\n",
      "200 https://archive.org/download/mat700/mat700.rdf\n",
      "200 http://www.netlibrary.com/summary.asp?ID=11025\n",
      "400 https://raw.githubusercontent.com/tucotuco/bco/master/\n",
      "406 http://www.whitleymedia.com/prx/\n",
      "200 http://www.medcominc.com/\n",
      "HTTPSConnectionPool(host='www.estadonacion.or.cr', port=443): Max retries exceeded with url: / (Caused by SSLError(SSLCertVerificationError(\"hostname 'www.estadonacion.or.cr' doesn't match 'estadonacion.or.cr'\"))) http://www.estadonacion.or.cr\n",
      "404 http://ogms.googlecode.com/svn/trunk/src/ontology/omre/omre.owl\n",
      "200 http://www.olemiss.edu/depts/general_library/archives/finding_aids/MUM00943.html\n",
      "HTTPConnectionPool(host='shoal.w3.org', port=80): Max retries exceeded with url: /9911rams8/ (Caused by NewConnectionError('<urllib3.connection.HTTPConnection object at 0x7fc5fb2bcd60>: Failed to establish a new connection: [Errno -2] Name or service not known')) http://shoal.w3.org/9911rams8/\n",
      "HTTPConnectionPool(host='gowest.coalliance.org', port=80): Max retries exceeded with url: /cgi-bin/imager?11000444 (Caused by NewConnectionError('<urllib3.connection.HTTPConnection object at 0x7fc5fb2bc0a0>: Failed to establish a new connection: [Errno -2] Name or service not known')) http://gowest.coalliance.org/cgi-bin/imager?11000444\n",
      "403 http://www.csis.hku.hk/~shlee\n",
      "HTTPConnectionPool(host='gowest.coalliance.org', port=80): Max retries exceeded with url: /cgi-bin/imager?10022408 (Caused by NewConnectionError('<urllib3.connection.HTTPConnection object at 0x7fc5fb2c5910>: Failed to establish a new connection: [Errno -2] Name or service not known')) http://gowest.coalliance.org/cgi-bin/imager?10022408\n",
      "200 http://purl.access.gpo.gov/GPO/LPS2941\n",
      "200 http://code.google.com/p/fluid2learn/\n",
      "200 http://purl.org/swinburnearchive/acs0000001-01-i023.xml\n",
      "HTTPConnectionPool(host='24.27.36.126', port=80): Max retries exceeded with url: /991120rams9/ (Caused by ConnectTimeoutError(<urllib3.connection.HTTPConnection object at 0x7fc5fb2c5c10>, 'Connection to 24.27.36.126 timed out. (connect timeout=10)')) http://24.27.36.126/991120rams9/\n",
      "HTTPConnectionPool(host='topsiteforyou.com', port=80): Max retries exceeded with url: /form (Caused by NewConnectionError('<urllib3.connection.HTTPConnection object at 0x7fc5fb2bb1c0>: Failed to establish a new connection: [Errno -2] Name or service not known')) http://topsiteforyou.com/form\n",
      "200 https://onjogodopau.wordpress.com/\n",
      "403 http://www.imf.org/external/pubs/cat/longres.cfm?sk=3272.0\n",
      "HTTPConnectionPool(host='gowest.coalliance.org', port=80): Max retries exceeded with url: /cgi-bin/imager?10022437 (Caused by NewConnectionError('<urllib3.connection.HTTPConnection object at 0x7fc5fb2bb370>: Failed to establish a new connection: [Errno -2] Name or service not known')) http://gowest.coalliance.org/cgi-bin/imager?10022437\n",
      "200 http://www.netlibrary.com/summary.asp?ID=9686\n",
      "HTTPConnectionPool(host='gowest.coalliance.org', port=80): Max retries exceeded with url: /cgi-bin/imager?10023019 (Caused by NewConnectionError('<urllib3.connection.HTTPConnection object at 0x7fc5f3c85c70>: Failed to establish a new connection: [Errno -2] Name or service not known')) http://gowest.coalliance.org/cgi-bin/imager?10023019\n",
      "200 https://meeuw.org/\n",
      "200 http://www.aph.org\n",
      "404 http://spiurl2.appspot.com/\n",
      "HTTPConnectionPool(host='webdoc.lhl.mo.us', port=80): Max retries exceeded with url: /aiche99/99an139e.pdf (Caused by NewConnectionError('<urllib3.connection.HTTPConnection object at 0x7fc5f3c85f10>: Failed to establish a new connection: [Errno -2] Name or service not known')) http://webdoc.lhl.mo.us/aiche99/99an139e.pdf\n",
      "200 http://groups.google.com/groups/search?as_umsgid=\n",
      "HTTPConnectionPool(host='gowest.coalliance.org', port=80): Max retries exceeded with url: /cgi-bin/imager?20031670 (Caused by NewConnectionError('<urllib3.connection.HTTPConnection object at 0x7fc5fb2bbc70>: Failed to establish a new connection: [Errno -2] Name or service not known')) http://gowest.coalliance.org/cgi-bin/imager?20031670\n",
      "200 http://www.highprogrammer.com/cgi-bin/uniqueid/\n",
      "HTTPConnectionPool(host='gowest.coalliance.org', port=80): Max retries exceeded with url: /cgi-bin/imager?10021186 (Caused by NewConnectionError('<urllib3.connection.HTTPConnection object at 0x7fc5f3c85910>: Failed to establish a new connection: [Errno -2] Name or service not known')) http://gowest.coalliance.org/cgi-bin/imager?10021186\n",
      "HTTPConnectionPool(host='gowest.coalliance.org', port=80): Max retries exceeded with url: /cgi-bin/imager?10022565 (Caused by NewConnectionError('<urllib3.connection.HTTPConnection object at 0x7fc5f4ebafd0>: Failed to establish a new connection: [Errno -2] Name or service not known')) http://gowest.coalliance.org/cgi-bin/imager?10022565\n",
      "HTTPConnectionPool(host='webdoc.lhl.mo.us', port=80): Max retries exceeded with url: /aiche99/99an58e.pdf (Caused by NewConnectionError('<urllib3.connection.HTTPConnection object at 0x7fc5f3c857f0>: Failed to establish a new connection: [Errno -2] Name or service not known')) http://webdoc.lhl.mo.us/aiche99/99an58e.pdf\n",
      "HTTPConnectionPool(host='gowest.coalliance.org', port=80): Max retries exceeded with url: /cgi-bin/imager?10022500 (Caused by NewConnectionError('<urllib3.connection.HTTPConnection object at 0x7fc6074a6160>: Failed to establish a new connection: [Errno -2] Name or service not known')) http://gowest.coalliance.org/cgi-bin/imager?10022500\n",
      "200 https://github.com/sofayam\n",
      "HTTPConnectionPool(host='webdoc.lhl.mo.us', port=80): Max retries exceeded with url: /aiche99/99an186c.pdf (Caused by NewConnectionError('<urllib3.connection.HTTPConnection object at 0x7fc5f4eba7f0>: Failed to establish a new connection: [Errno -2] Name or service not known')) http://webdoc.lhl.mo.us/aiche99/99an186c.pdf\n",
      "('Connection aborted.', ConnectionResetError(104, 'Connection reset by peer')) http://purl.org/registry/servlet/OAIHandler/extension?verb=GetMetadata&metadataPrefix=mtx&identifier=\n",
      "200 http://purl.org/swinburnearchive/acs0000001-04-i000.xml\n",
      "200 http://casadelaguilasl.com/ontologies/OLMvTrans.owl\n",
      "HTTPConnectionPool(host='www.hq.usace.army.mil', port=80): Max retries exceeded with url: /ceso/cesopub.htm (Caused by NewConnectionError('<urllib3.connection.HTTPConnection object at 0x7fc5f3c85100>: Failed to establish a new connection: [Errno -2] Name or service not known')) http://www.hq.usace.army.mil/ceso/cesopub.htm\n",
      "HTTPConnectionPool(host='young-j.oa.oclc.org', port=8280): Max retries exceeded with url: / (Caused by NewConnectionError('<urllib3.connection.HTTPConnection object at 0x7fc5f3c85bb0>: Failed to establish a new connection: [Errno -2] Name or service not known')) http://young-j.oa.oclc.org:8280/\n",
      "HTTPConnectionPool(host='webdoc.lhl.mo.us', port=80): Max retries exceeded with url: /aiche99/99an127ai.pdf (Caused by NewConnectionError('<urllib3.connection.HTTPConnection object at 0x7fc5f3c85640>: Failed to establish a new connection: [Errno -2] Name or service not known')) http://webdoc.lhl.mo.us/aiche99/99an127ai.pdf\n",
      "200 http://sean.petiya.com\n",
      "HTTPSConnectionPool(host='www.morehead-st.edu', port=443): Max retries exceeded with url: /units/library/per/his399ky.html (Caused by SSLError(SSLCertVerificationError(\"hostname 'www.morehead-st.edu' doesn't match either of '*.moreheadstate.edu', 'moreheadstate.edu'\"))) http://www.morehead-st.edu/units/library/per/his399ky.html\n",
      "HTTPConnectionPool(host='gowest.coalliance.org', port=80): Max retries exceeded with url: /cgi-bin/imager?10022812 (Caused by NewConnectionError('<urllib3.connection.HTTPConnection object at 0x7fc5f3c85bb0>: Failed to establish a new connection: [Errno -2] Name or service not known')) http://gowest.coalliance.org/cgi-bin/imager?10022812\n",
      "200 http://purl.org/jdx/terms/\n",
      "HTTPConnectionPool(host='webdoc.lhl.mo.us', port=80): Max retries exceeded with url: /aiche99/99an126k.pdf (Caused by NewConnectionError('<urllib3.connection.HTTPConnection object at 0x7fc5fb2c55b0>: Failed to establish a new connection: [Errno -2] Name or service not known')) http://webdoc.lhl.mo.us/aiche99/99an126k.pdf\n",
      "200 http://esperanto-panorama.net/dmoz/\n",
      "200 http://hdl.loc.gov/loc.gmd/g4081p.rr002820\n",
      "404 https://seliganapolitica.github.io/polare/ontologies/\n",
      "404 http://www.lib.unc.edu/ncc/pcoll/01pitt/pitt.html\n",
      "Invalid URL '': No schema supplied. Perhaps you meant http://? \n",
      "HTTPConnectionPool(host='yerlwa.ng', port=80): Max retries exceeded with url: / (Caused by NewConnectionError('<urllib3.connection.HTTPConnection object at 0x7fc5f3c85130>: Failed to establish a new connection: [Errno -2] Name or service not known')) http://Yerlwa.ng\n",
      "200 http://Countylibrary.Marin.org/crm/crmindex.html\n",
      "HTTPConnectionPool(host='topsiteforyou.com', port=80): Max retries exceeded with url: /form (Caused by NewConnectionError('<urllib3.connection.HTTPConnection object at 0x7fc5fb2c5af0>: Failed to establish a new connection: [Errno -2] Name or service not known')) http://topsiteforyou.com/form\n",
      "200 http://www.olemiss.edu/depts/general_library/archives/finding_aids/MUM00264.html\n",
      "200 http://www.egroups.com/files/rss-dev/Modules/modules.html\n",
      "404 http://www-ti.informatik.uni-tuebingen.de/~gerhardt/wiki-mode-1.gif\n",
      "HTTPConnectionPool(host='maple.lemoyne.edu', port=80): Max retries exceeded with url: /~giunta/papers.html (Caused by NewConnectionError('<urllib3.connection.HTTPConnection object at 0x7fc5fb2c5250>: Failed to establish a new connection: [Errno -5] No address associated with hostname')) http://maple.lemoyne.edu/%7Egiunta/papers.html\n",
      "200 http://www.lib.uidaho.edu/internet/links/Engineering%5Fand%5FTechnology/\n",
      "HTTPConnectionPool(host='gowest.coalliance.org', port=80): Max retries exceeded with url: /cgi-bin/imager?10022720 (Caused by NewConnectionError('<urllib3.connection.HTTPConnection object at 0x7fc5f3c85130>: Failed to establish a new connection: [Errno -2] Name or service not known')) http://gowest.coalliance.org/cgi-bin/imager?10022720\n",
      "200 http://hdl.loc.gov/loc.gmd/g4181p.rr003700\n",
      "200 http://www.olemiss.edu/depts/general_library/archives/finding_aids/MUM00517.html\n",
      "404 http://www.olemiss.edu/depts/general_library/archives/finding_aids/MUM01671.html\n",
      "404 http://etext.virginia.edu/bsuva/promptbook/\n",
      "404 http://www.lib.unc.edu/ncc/pcoll/01onslow/onslow.html\n",
      "404 http://students.washington.edu/jtennis/dcconf/dcconf_thesaurus.rdf\n",
      "HTTPConnectionPool(host='www.csa.com', port=80): Max retries exceeded with url: /htbin/dbsel.cgi?username=uwash&access=uwash347&cat=materials (Caused by ConnectTimeoutError(<urllib3.connection.HTTPConnection object at 0x7fc5f3c85c40>, 'Connection to www.csa.com timed out. (connect timeout=10)')) http://www.csa.com/htbin/dbsel.cgi?username=uwash&access=uwash347&cat=materials\n",
      "404 http://www.olemiss.edu/depts/general_library/archives/finding_aids/MUM01204.html\n",
      "200 http://viaf.org/viaf/56343222/\n",
      "404 http://www.olemiss.edu/depts/general_library/archives/finding_aids/MUM01002.html\n",
      "200 http://www.rug.nl/staff/t.a.wassenaar/index\n",
      "200 http://books.google.com/books?vid=ISBN0691095892&id=O7AG9TxDJdgC&pg=PP1&lpg=PP1&ots=BNQg_FmLlj&dq=Republic.com&sig=tOKki6WeuRwSXZwimQhwAus2bQ4\n",
      "HTTPConnectionPool(host='webdoc.lhl.mo.us', port=80): Max retries exceeded with url: /aiche99/99an62b.pdf (Caused by NewConnectionError('<urllib3.connection.HTTPConnection object at 0x7fc5fb2bcac0>: Failed to establish a new connection: [Errno -2] Name or service not known')) http://webdoc.lhl.mo.us/aiche99/99an62b.pdf\n",
      "HTTPConnectionPool(host='http', port=80): Max retries exceeded with url: //www.brad.ac.uk/university/cfa (Caused by NewConnectionError('<urllib3.connection.HTTPConnection object at 0x7fc5fb2bc370>: Failed to establish a new connection: [Errno -3] Temporary failure in name resolution')) http://http://www.brad.ac.uk/university/cfa\n",
      "HTTPConnectionPool(host='66.26.68.138', port=80): Max retries exceeded with url: / (Caused by ConnectTimeoutError(<urllib3.connection.HTTPConnection object at 0x7fc5fb2bcd60>, 'Connection to 66.26.68.138 timed out. (connect timeout=10)')) http://66.26.68.138/\n",
      "HTTPConnectionPool(host='library.advanced.org', port=80): Max retries exceeded with url: /11922/index.htm (Caused by ConnectTimeoutError(<urllib3.connection.HTTPConnection object at 0x7fc5fb2bbbe0>, 'Connection to library.advanced.org timed out. (connect timeout=10)')) http://library.advanced.org/11922/index.htm\n",
      "HTTPConnectionPool(host='webdoc.lhl.mo.us', port=80): Max retries exceeded with url: /aiche99/99an65a.pdf (Caused by NewConnectionError('<urllib3.connection.HTTPConnection object at 0x7fc5f3c853a0>: Failed to establish a new connection: [Errno -2] Name or service not known')) http://webdoc.lhl.mo.us/aiche99/99an65a.pdf\n",
      "403 http://userpage.fu-berlin.de/~ram/pub/zip_jf47ht81Ht/\n",
      "200 http://www.olemiss.edu/depts/general_library/archives/finding_aids/MUM00681.html\n",
      "200 http://www.olemiss.edu/depts/general_library/archives/finding_aids/MUM00213.html\n",
      "HTTPConnectionPool(host='swag.webns.net', port=80): Max retries exceeded with url: / (Caused by ConnectTimeoutError(<urllib3.connection.HTTPConnection object at 0x7fc6074a6730>, 'Connection to swag.webns.net timed out. (connect timeout=10)')) http://purl.org/swag/\n",
      "HTTPConnectionPool(host='nattrans.net', port=80): Max retries exceeded with url: /xlf/dtd/xlf.dtd (Caused by NewConnectionError('<urllib3.connection.HTTPConnection object at 0x7fc5f3ca68e0>: Failed to establish a new connection: [Errno -2] Name or service not known')) http://nattrans.net/xlf/dtd/xlf.dtd\n",
      "HTTPConnectionPool(host='gowest.coalliance.org', port=80): Max retries exceeded with url: /cgi-bin/imager?10022913 (Caused by NewConnectionError('<urllib3.connection.HTTPConnection object at 0x7fc6074a6130>: Failed to establish a new connection: [Errno -2] Name or service not known')) http://gowest.coalliance.org/cgi-bin/imager?10022913\n",
      "HTTPConnectionPool(host='items-uploads.us.archive.org', port=81): Max retries exceeded with url: /1/incoming/yiddish_1/PBMSLibrary/978065700XXXX/9780657000011/book/0003.tif (Caused by NewConnectionError('<urllib3.connection.HTTPConnection object at 0x7fc5f3ca6c70>: Failed to establish a new connection: [Errno -2] Name or service not known')) http://items-uploads.us.archive.org:81/1/incoming/yiddish_1/PBMSLibrary/978065700XXXX/9780657000011/book/0003.tif\n",
      "HTTPConnectionPool(host='members.lycos.nl', port=80): Max retries exceeded with url: /usldevcenter/rdf/index.rdf (Caused by NewConnectionError('<urllib3.connection.HTTPConnection object at 0x7fc6074a6b50>: Failed to establish a new connection: [Errno 111] Connection refused')) http://members.lycos.nl/usldevcenter/rdf/index.rdf\n",
      "200 http://www.cmrls.org\n",
      "HTTPConnectionPool(host='gowest.coalliance.org', port=80): Max retries exceeded with url: /cgi-bin/imager?10021415 (Caused by NewConnectionError('<urllib3.connection.HTTPConnection object at 0x7fc5fb2c55e0>: Failed to establish a new connection: [Errno -2] Name or service not known')) http://gowest.coalliance.org/cgi-bin/imager?10021415\n",
      "HTTPConnectionPool(host='www.oclc.org', port=5046): Max retries exceeded with url: /oclc/research/conferences/imagemeta/ (Caused by ConnectTimeoutError(<urllib3.connection.HTTPConnection object at 0x7fc6074a12e0>, 'Connection to www.oclc.org timed out. (connect timeout=10)')) http://purl.org/metadata/image/\n",
      "404 http://www.laas.fr/~emarsden/\n",
      "HTTPConnectionPool(host='sanjaydalal.info', port=80): Max retries exceeded with url: / (Caused by NewConnectionError('<urllib3.connection.HTTPConnection object at 0x7fc6074a6be0>: Failed to establish a new connection: [Errno -2] Name or service not known')) http://sanjaydalal.info\n",
      "200 http://www.olemiss.edu/depts/general_library/archives/finding_aids/MUM01253.html\n",
      "HTTPConnectionPool(host='webdoc.lhl.mo.us', port=80): Max retries exceeded with url: /aiche99/99an55g.pdf (Caused by NewConnectionError('<urllib3.connection.HTTPConnection object at 0x7fc6074a66d0>: Failed to establish a new connection: [Errno -2] Name or service not known')) http://webdoc.lhl.mo.us/aiche99/99an55g.pdf\n",
      "400 http://www.btinternet.com/~b.mcbride/\n",
      "HTTPConnectionPool(host='gowest.coalliance.org', port=80): Max retries exceeded with url: /cgi-bin/imager?10022730 (Caused by NewConnectionError('<urllib3.connection.HTTPConnection object at 0x7fc6074a6eb0>: Failed to establish a new connection: [Errno -2] Name or service not known')) http://gowest.coalliance.org/cgi-bin/imager?10022730\n",
      "404 http://www.vnet.es/motril/\n",
      "HTTPConnectionPool(host='link.springer-ny.com', port=80): Max retries exceeded with url: /link/service/journals/10032/index.htm (Caused by NewConnectionError('<urllib3.connection.HTTPConnection object at 0x7fc5fb2bb0d0>: Failed to establish a new connection: [Errno -2] Name or service not known')) http://link.springer-ny.com/link/service/journals/10032/index.htm\n",
      "HTTPConnectionPool(host='gowest.coalliance.org', port=80): Max retries exceeded with url: /cgi-bin/imager?10021041 (Caused by NewConnectionError('<urllib3.connection.HTTPConnection object at 0x7fc5fb2c5f10>: Failed to establish a new connection: [Errno -2] Name or service not known')) http://gowest.coalliance.org/cgi-bin/imager?10021041\n",
      "Invalid URL '': No schema supplied. Perhaps you meant http://? \n",
      "200 http://www.w3.org/2006/07/SWD/recipes/examples-20080421/\n",
      "404 http://www.indiana.edu/~letrs/vwwp/robins/votes.sgml\n",
      "200 http://www.unito.it\n",
      "HTTPConnectionPool(host='gowest.coalliance.org', port=80): Max retries exceeded with url: /cgi-bin/imager?11000393 (Caused by NewConnectionError('<urllib3.connection.HTTPConnection object at 0x7fc5fb2c53a0>: Failed to establish a new connection: [Errno -2] Name or service not known')) http://gowest.coalliance.org/cgi-bin/imager?11000393\n",
      "HTTPConnectionPool(host='gowest.coalliance.org', port=80): Max retries exceeded with url: /cgi-bin/imager?10021227 (Caused by NewConnectionError('<urllib3.connection.HTTPConnection object at 0x7fc6074a6580>: Failed to establish a new connection: [Errno -2] Name or service not known')) http://gowest.coalliance.org/cgi-bin/imager?10021227\n",
      "HTTPConnectionPool(host='www.parasar.net', port=80): Max retries exceeded with url: /tacos (Caused by NewConnectionError('<urllib3.connection.HTTPConnection object at 0x7fc5fb2bb700>: Failed to establish a new connection: [Errno -2] Name or service not known')) http://www.parasar.net/tacos\n",
      "HTTPConnectionPool(host='gowest.coalliance.org', port=80): Max retries exceeded with url: /cgi-bin/imager?10023069 (Caused by NewConnectionError('<urllib3.connection.HTTPConnection object at 0x7fc6074a6eb0>: Failed to establish a new connection: [Errno -2] Name or service not known')) http://gowest.coalliance.org/cgi-bin/imager?10023069\n",
      "200 https://archiveofourown.org/users/Eldy\n",
      "200 http://nrorwze.cluster024.hosting.ovh.net/tom/tomOnt\n",
      "HTTPConnectionPool(host='zerver.thpl.lib.fl.us', port=80): Max retries exceeded with url: /archive05/524.jpg (Caused by NewConnectionError('<urllib3.connection.HTTPConnection object at 0x7fc6074a6190>: Failed to establish a new connection: [Errno -3] Temporary failure in name resolution')) http://zerver.thpl.lib.fl.us/archive05/524.jpg\n",
      "HTTPConnectionPool(host='gowest.coalliance.org', port=80): Max retries exceeded with url: /cgi-bin/imager?10021476 (Caused by NewConnectionError('<urllib3.connection.HTTPConnection object at 0x7fc5fb2c5790>: Failed to establish a new connection: [Errno -2] Name or service not known')) http://gowest.coalliance.org/cgi-bin/imager?10021476\n",
      "HTTPConnectionPool(host='www.newsobserver.com', port=80): Read timed out. (read timeout=10) http://www.news-observer.com/tri/blueprints/\n",
      "200 http://www.olemiss.edu/depts/general_library/archives/finding_aids/MUM00072.html\n",
      "HTTPConnectionPool(host='gowest.coalliance.org', port=80): Max retries exceeded with url: /cgi-bin/imager?0019538 (Caused by NewConnectionError('<urllib3.connection.HTTPConnection object at 0x7fc5f3c75df0>: Failed to establish a new connection: [Errno -2] Name or service not known')) http://gowest.coalliance.org/cgi-bin/imager?0019538\n",
      "HTTPConnectionPool(host='gowest.coalliance.org', port=80): Max retries exceeded with url: /cgi-bin/imager?10021414 (Caused by NewConnectionError('<urllib3.connection.HTTPConnection object at 0x7fc5f3c75820>: Failed to establish a new connection: [Errno -2] Name or service not known')) http://gowest.coalliance.org/cgi-bin/imager?10021414\n",
      "HTTPConnectionPool(host='gowest.coalliance.org', port=80): Max retries exceeded with url: /cgi-bin/imager?10021067 (Caused by NewConnectionError('<urllib3.connection.HTTPConnection object at 0x7fc5f3c75bb0>: Failed to establish a new connection: [Errno -2] Name or service not known')) http://gowest.coalliance.org/cgi-bin/imager?10021067\n",
      "404 https://innoweb.mondragon.edu/ontologies/dabgeo/application_context/smart_grid_scenario/smart_home/buildingelementactuators/1.1/ontology/\n",
      "HTTPConnectionPool(host='webdoc.lhl.mo.us', port=80): Max retries exceeded with url: /aiche99/99an146b.pdf (Caused by NewConnectionError('<urllib3.connection.HTTPConnection object at 0x7fc5f3c75610>: Failed to establish a new connection: [Errno -2] Name or service not known')) http://webdoc.lhl.mo.us/aiche99/99an146b.pdf\n",
      "404 http://www.aareal-bank.com/servlet/PB/menu/1003540_l1/index.html\n",
      "HTTPConnectionPool(host='www.quaternet.fr', port=8080): Max retries exceeded with url: /bergonie (Caused by ConnectTimeoutError(<urllib3.connection.HTTPConnection object at 0x7fc5f3c75f40>, 'Connection to www.quaternet.fr timed out. (connect timeout=10)')) http://www.quaternet.fr:8080/bergonie\n",
      "HTTPConnectionPool(host='webdoc.lhl.mo.us', port=80): Max retries exceeded with url: /aiche99/99an140e.pdf (Caused by NewConnectionError('<urllib3.connection.HTTPConnection object at 0x7fc6074a1520>: Failed to establish a new connection: [Errno -2] Name or service not known')) http://webdoc.lhl.mo.us/aiche99/99an140e.pdf\n",
      "Failed to parse: http://data:text/plain;charset=UTF-8,%40prefix%20%3A%20%3Chttp%3A%2F%2Fwebns%2Enet%2Froughterms%2F%3E%2E%20%3ASean%20%3AhasMailbox%20%3Cmailto%3Asean%40mysterylights%2Ecom%3E%2E http://data:text/plain;charset=UTF-8,%40prefix%20%3A%20%3Chttp%3A%2F%2Fwebns%2Enet%2Froughterms%2F%3E%2E%20%3ASean%20%3AhasMailbox%20%3Cmailto%3Asean%40mysterylights%2Ecom%3E%2E\n",
      "200 http://smiy.sourceforge.net/ao/versions/20100811/spec/associationontology.html\n",
      "200 http://herontest.be.halo2test.icts.kuleuven.be/advn/s/vanherck/page/overzicht\n",
      "200 http://www.w3.org/2006/07/SWD/recipes/examples-20080421/example5a/\n",
      "200 http://www.letrs.indiana.edu/swinburne/xml/sbsmessi00.xml\n",
      "503 http://www.interscience.wiley.com/jpages/1077-2413/\n",
      "HTTPConnectionPool(host='www.arrakis.es', port=80): Max retries exceeded with url: /~gustavo7/ (Caused by NewConnectionError('<urllib3.connection.HTTPConnection object at 0x7fc5f3c751f0>: Failed to establish a new connection: [Errno -3] Temporary failure in name resolution')) http://www.arrakis.es/~gustavo7/\n",
      "404 http://www.indiana.edu/%7Eletrs/vwwp/malet/carissima.html\n",
      "Invalid URL '': No schema supplied. Perhaps you meant http://? \n",
      "404 http://www.olemiss.edu/depts/general_library/archives/finding_aids/MUM01531.html\n",
      "200 http://www.olemiss.edu/depts/general_library/archives/finding_aids/MUM00518.html\n",
      "HTTPConnectionPool(host='kddste.sda.tech', port=80): Max retries exceeded with url: /SEOontology/SEO.ttl (Caused by ConnectTimeoutError(<urllib3.connection.HTTPConnection object at 0x7fc6074a11f0>, 'Connection to kddste.sda.tech timed out. (connect timeout=10)')) http://kddste.sda.tech/SEOontology/SEO.ttl\n",
      "200 http://firstsearch.oclc.org\n",
      "200 https://lesliesikos.com/dataset/ispnet_base.trig\n",
      "HTTPConnectionPool(host='gowest.coalliance.org', port=80): Max retries exceeded with url: /cgi-bin/imager?0019508 (Caused by NewConnectionError('<urllib3.connection.HTTPConnection object at 0x7fc5fb2bcc70>: Failed to establish a new connection: [Errno -2] Name or service not known')) http://gowest.coalliance.org/cgi-bin/imager?0019508\n",
      "404 http://www.olemiss.edu/depts/general_library/archives/finding_aids/MUM01142.html\n",
      "HTTPConnectionPool(host='gowest.coalliance.org', port=80): Max retries exceeded with url: /cgi-bin/imager?10022445 (Caused by NewConnectionError('<urllib3.connection.HTTPConnection object at 0x7fc5fb2bc670>: Failed to establish a new connection: [Errno -2] Name or service not known')) http://gowest.coalliance.org/cgi-bin/imager?10022445\n",
      "HTTPConnectionPool(host='155.210.152.189', port=80): Max retries exceeded with url: /sw/geo/ (Caused by ConnectTimeoutError(<urllib3.connection.HTTPConnection object at 0x7fc5fb2bc970>, 'Connection to 155.210.152.189 timed out. (connect timeout=10)')) http://155.210.152.189/sw/geo/\n",
      "200 http://www.contacto-latino.com/\n",
      "404 http://www.olemiss.edu/depts/general_library/archives/finding_aids/MUM01556.html\n",
      "403 http://www.sciencedirect.com/science/journal/00150282\n",
      "404 https://zoshoin-db-zosan.herokuapp.com/works/5\n",
      "200 https://sik-isea.anton.ch\n",
      "404 http://www.kgv.net/vtang1/images/te.jpg\n",
      "HTTPConnectionPool(host='elysium-808982938.download-3.online', port=80): Max retries exceeded with url: / (Caused by NewConnectionError('<urllib3.connection.HTTPConnection object at 0x7fc5fb2c5790>: Failed to establish a new connection: [Errno -2] Name or service not known')) http://elysium-808982938.download-3.online/\n",
      "200 http://www.letrs.indiana.edu/swinburne/txt/sbslitny00.txt\n",
      "HTTPConnectionPool(host='gowest.coalliance.org', port=80): Max retries exceeded with url: /cgi-bin/imager?1000505 (Caused by NewConnectionError('<urllib3.connection.HTTPConnection object at 0x7fc5fb2bc7f0>: Failed to establish a new connection: [Errno -2] Name or service not known')) http://gowest.coalliance.org/cgi-bin/imager?1000505\n",
      "200 http://www.epa.gov/superfund/\n",
      "200 http://www.springer.de/\n",
      "404 http://www.pan.ci.seattle.wa.us/npo/plans/id/idhome.htm\n",
      "404 http://www.lib.unc.edu/ncc/pcoll/50engstrom.html\n",
      "200 http://captsolo.net/semweb/resume/base.rdfs\n",
      "404 http://www.injelea.de/frank_hamm\n",
      "HTTPConnectionPool(host='gowest.coalliance.org', port=80): Max retries exceeded with url: /cgi-bin/imager?10022743 (Caused by NewConnectionError('<urllib3.connection.HTTPConnection object at 0x7fc5fb2bc550>: Failed to establish a new connection: [Errno -2] Name or service not known')) http://gowest.coalliance.org/cgi-bin/imager?10022743\n",
      "200 http://www.netlibrary.com/summary.asp?ID=9237\n",
      "HTTPConnectionPool(host='gowest.coalliance.org', port=80): Max retries exceeded with url: /cgi-bin/imager?20031769 (Caused by NewConnectionError('<urllib3.connection.HTTPConnection object at 0x7fc6074a6190>: Failed to establish a new connection: [Errno -2] Name or service not known')) http://gowest.coalliance.org/cgi-bin/imager?20031769\n",
      "HTTPConnectionPool(host='www.nea.gov', port=80): Max retries exceeded with url: /pub/Researcharts/Summary40.html (Caused by NewConnectionError('<urllib3.connection.HTTPConnection object at 0x7fc5f3ca6d00>: Failed to establish a new connection: [Errno -2] Name or service not known')) http://www.nea.gov/pub/Researcharts/Summary40.html\n",
      "200 http://www.gravit-e.ca/\n",
      "404 http://www.lib.unc.edu/ncc/pcoll/01johnston/johnston.html\n",
      "999 https://linkedin.com/in/karapetyan\n",
      "200 http://www.musiclanguagefrontiers.com\n",
      "200 https://raw.githubusercontent.com/codemeta/codemeta/2.0/codemeta.jsonld\n",
      "404 http://fruitsandnuts.ucdavis.edu/wlnt2.html\n",
      "200 http://www.motril.org\n",
      "HTTPConnectionPool(host='nf5000', port=80): Max retries exceeded with url: /DistDoc/url.htm (Caused by NewConnectionError('<urllib3.connection.HTTPConnection object at 0x7fc5fa5b1790>: Failed to establish a new connection: [Errno -3] Temporary failure in name resolution')) http://NF5000/DistDoc/url.htm\n",
      "404 http://www.imrc.kist.re.kr/cai/\n",
      "200 https://github.com/lmblanes/ontologies/blob/master/ISO_50001_Ontology/ISO_50001.owl\n",
      "HTTPConnectionPool(host='data.mw.org.nz', port=80): Max retries exceeded with url: /project/e-IDI/pocEvaluationReport.pdf (Caused by ConnectTimeoutError(<urllib3.connection.HTTPConnection object at 0x7fc5f3c85940>, 'Connection to data.mw.org.nz timed out. (connect timeout=10)')) http://data.mw.org.nz/project/e-IDI/pocEvaluationReport.pdf\n",
      "404 http://www.fsu.edu/library/sacs/stnd25-fn12-8.pdf\n",
      "HTTPConnectionPool(host='https', port=80): Max retries exceeded with url: //webdav.ibackup.com/users/jbcust/Files/presentations/cinema/airpollut.avi (Caused by NewConnectionError('<urllib3.connection.HTTPConnection object at 0x7fc6074a6b50>: Failed to establish a new connection: [Errno -3] Temporary failure in name resolution')) http://https://webdav.ibackup.com/users/jbcust/Files/presentations/cinema/airpollut.avi\n",
      "503 http://www.interscience.wiley.com/jpages/0020-7608/\n",
      "HTTPConnectionPool(host='muntu.altervista.org', port=80): Max retries exceeded with url: /biblioteca/2_Mauss_Fauconnet_Introduzione_alla_sociologia.pdf (Caused by NewConnectionError('<urllib3.connection.HTTPConnection object at 0x7fc5f5d62d60>: Failed to establish a new connection: [Errno -2] Name or service not known')) http://muntu.altervista.org/biblioteca/2_Mauss_Fauconnet_Introduzione_alla_sociologia.pdf\n",
      "HTTPConnectionPool(host='www.ontogame.org', port=80): Max retries exceeded with url: / (Caused by ConnectTimeoutError(<urllib3.connection.HTTPConnection object at 0x7fc5f5d62c70>, 'Connection to www.ontogame.org timed out. (connect timeout=10)')) http://www.ontogame.org/\n",
      "HTTPConnectionPool(host='gemstar.ischool.washington.edu', port=80): Max retries exceeded with url: /GEMatUW/index.html (Caused by NewConnectionError('<urllib3.connection.HTTPConnection object at 0x7fc5fb2bb7f0>: Failed to establish a new connection: [Errno -2] Name or service not known')) http://gemstar.ischool.washington.edu/GEMatUW/index.html\n",
      "HTTPConnectionPool(host='epublicns05.esc.rl.ac.uk', port=80): Max retries exceeded with url: / (Caused by ConnectTimeoutError(<urllib3.connection.HTTPConnection object at 0x7fc5fb2bb6d0>, 'Connection to epublicns05.esc.rl.ac.uk timed out. (connect timeout=10)')) http://epublicns05.esc.rl.ac.uk\n",
      "HTTPConnectionPool(host='dadosservidorpublico.com.br', port=80): Max retries exceeded with url: / (Caused by NewConnectionError('<urllib3.connection.HTTPConnection object at 0x7fc5fb2bccd0>: Failed to establish a new connection: [Errno -2] Name or service not known')) http://dadosservidorpublico.com.br\n",
      "404 http://purl.oclc.org/NET/oluc/42943717\n",
      "200 http://korwoni.org\n",
      "404 http://www.ced.org/DOCS/REPORTS/Intro.htm\n",
      "HTTPConnectionPool(host='ojs.iucaa.ernet.in', port=80): Max retries exceeded with url: /index.php/KHAGOL/ (Caused by NewConnectionError('<urllib3.connection.HTTPConnection object at 0x7fc5f48feac0>: Failed to establish a new connection: [Errno -2] Name or service not known')) http://ojs.iucaa.ernet.in/index.php/KHAGOL/\n",
      "HTTPConnectionPool(host='nepos.dur.ac.uk', port=8080): Max retries exceeded with url: /metsnav/sadsir/ (Caused by ConnectTimeoutError(<urllib3.connection.HTTPConnection object at 0x7fc5f48feaf0>, 'Connection to nepos.dur.ac.uk timed out. (connect timeout=10)')) http://nepos.dur.ac.uk:8080/metsnav/sadsir/\n",
      "200 http://hdl.loc.gov/loc.gmd/g4340.rr003050\n",
      "404 https://fit.uni-tuebingen.de/Activity/Details?id=7942\n",
      "200 http://www.netlibrary.com/summary.asp?ID=9722\n",
      "200 http://www.springer.de/\n",
      "HTTPConnectionPool(host='hii.ics.forth.gr', port=80): Max retries exceeded with url: /work/schemas/ (Caused by NewConnectionError('<urllib3.connection.HTTPConnection object at 0x7fc6074a1a90>: Failed to establish a new connection: [Errno -2] Name or service not known')) http://hii.ics.forth.gr/work/schemas/\n",
      "404 http://sharkeylab.org/taxabank/showrecord.php?id=988&mode=edit\n",
      "HTTPConnectionPool(host='www.access.gpo.gov', port=80): Max retries exceeded with url: /su_docs/aces/aces160.shtml (Caused by ConnectTimeoutError(<urllib3.connection.HTTPConnection object at 0x7fc5f48fe610>, 'Connection to www.access.gpo.gov timed out. (connect timeout=10)')) http://www.access.gpo.gov/su%5Fdocs/aces/aces160.shtml\n",
      "('Connection aborted.', ConnectionResetError(104, 'Connection reset by peer')) http://www.oclc.org/oclc/\n",
      "404 https://github.com/saidfathalla/EVENTS-Ontology/blob/master/EVENTS.owl\n",
      "200 http://www.pasoapaso.com/\n",
      "200 http://labcsx.dcc.ufmg.br/\n",
      "HTTPConnectionPool(host='gowest.coalliance.org', port=80): Max retries exceeded with url: /cgi-bin/imager?10022751 (Caused by NewConnectionError('<urllib3.connection.HTTPConnection object at 0x7fc5f3ca6ac0>: Failed to establish a new connection: [Errno -2] Name or service not known')) http://gowest.coalliance.org/cgi-bin/imager?10022751\n",
      "403 http://www.nathan.co.za/message/\n",
      "200 https://eis-bonn.github.io/ontologies/nosql/index-en.html\n",
      "HTTPConnectionPool(host='www.openspf.org', port=80): Max retries exceeded with url: /Why (Caused by NewConnectionError('<urllib3.connection.HTTPConnection object at 0x7fc6074a6730>: Failed to establish a new connection: [Errno 101] Network is unreachable')) http://www.openspf.org/Why\n",
      "HTTPConnectionPool(host='gowesst.coalliance.org', port=80): Max retries exceeded with url: /cgi-bin/imager?10023139 (Caused by NewConnectionError('<urllib3.connection.HTTPConnection object at 0x7fc5f48f24f0>: Failed to establish a new connection: [Errno -2] Name or service not known')) http://gowesst.coalliance.org/cgi-bin/imager?10023139\n",
      "200 http://www.olemiss.edu/depts/general_library/archives/finding_aids/MUM00772.html\n",
      "HTTPConnectionPool(host='members.xoom.com', port=80): Max retries exceeded with url: /windsor/security/ (Caused by ConnectTimeoutError(<urllib3.connection.HTTPConnection object at 0x7fc5f5d62190>, 'Connection to members.xoom.com timed out. (connect timeout=10)')) http://members.xoom.com/windsor/security/\n",
      "404 http://www.olemiss.edu/depts/general_library/archives/finding_aids/MUM01638.html\n",
      "HTTPConnectionPool(host='www.repository.knaw.nl', port=80): Max retries exceeded with url: /web/dare_didl.xsd (Caused by NewConnectionError('<urllib3.connection.HTTPConnection object at 0x7fc5f3c85130>: Failed to establish a new connection: [Errno -2] Name or service not known')) http://www.repository.knaw.nl/web/dare_didl.xsd\n",
      "503 https://gitlab.com/stairwai/wp3/ontology/-/raw/main/StairwAI_AI_Assets_Ontology_slim.rdf\n",
      "HTTPSConnectionPool(host='und.nodak.edu', port=443): Max retries exceeded with url: /dept/library/Collections/og177.html (Caused by ConnectTimeoutError(<urllib3.connection.HTTPSConnection object at 0x7fc5fb2c5550>, 'Connection to und.nodak.edu timed out. (connect timeout=10)')) http://www.und.nodak.edu/dept/library/Collections/og177.html\n",
      "HTTPConnectionPool(host='gowest.coalliance.org', port=80): Max retries exceeded with url: /cgi-bin/imager?10022884 (Caused by NewConnectionError('<urllib3.connection.HTTPConnection object at 0x7fc6074a1a90>: Failed to establish a new connection: [Errno -2] Name or service not known')) http://gowest.coalliance.org/cgi-bin/imager?10022884\n",
      "HTTPConnectionPool(host='webdoc.lhl.mo.us', port=80): Max retries exceeded with url: /aiche99/99an179g.pdf (Caused by NewConnectionError('<urllib3.connection.HTTPConnection object at 0x7fc6074a11f0>: Failed to establish a new connection: [Errno -2] Name or service not known')) http://webdoc.lhl.mo.us/aiche99/99an179g.pdf\n",
      "200 http://purl.access.gpo.gov/GPO/LPS3660\n",
      "404 http://www.olemiss.edu/depts/general_library/archives/finding_aids/MUM00722.html\n",
      "HTTPConnectionPool(host='jserva.hd.free.fr', port=80): Max retries exceeded with url: / (Caused by NewConnectionError('<urllib3.connection.HTTPConnection object at 0x7fc6074a13d0>: Failed to establish a new connection: [Errno -2] Name or service not known')) http://jserva.hd.free.fr/\n",
      "200 https://www.dropbox.com/sh/6urb0abw3ibzjqa/AABjIuk1c6ToFtif0kdjBVq8a?dl=0\n",
      "HTTPConnectionPool(host='topsiteforyou.com', port=80): Max retries exceeded with url: /form/ (Caused by NewConnectionError('<urllib3.connection.HTTPConnection object at 0x7fc6074a13d0>: Failed to establish a new connection: [Errno -2] Name or service not known')) http://topsiteforyou.com/form/\n",
      "HTTPConnectionPool(host='topsiteforyou.com', port=80): Max retries exceeded with url: /form/ (Caused by NewConnectionError('<urllib3.connection.HTTPConnection object at 0x7fc5fb2bbc10>: Failed to establish a new connection: [Errno -2] Name or service not known')) http://topsiteforyou.com/form/\n",
      "HTTPConnectionPool(host='www.access.gpo.gov', port=80): Max retries exceeded with url: /su_docs/dpos/webtech.html (Caused by ConnectTimeoutError(<urllib3.connection.HTTPConnection object at 0x7fc6074a13d0>, 'Connection to www.access.gpo.gov timed out. (connect timeout=10)')) http://www.access.gpo.gov/su%5Fdocs/dpos/webtech.html\n",
      "HTTPConnectionPool(host='webdoc.lhl.mo.us', port=80): Max retries exceeded with url: /aiche99/99an110g.pdf (Caused by NewConnectionError('<urllib3.connection.HTTPConnection object at 0x7fc5f3c75c70>: Failed to establish a new connection: [Errno -2] Name or service not known')) http://webdoc.lhl.mo.us/aiche99/99an110g.pdf\n",
      "404 http://www.olemiss.edu/depts/general_library/archives/finding_aids/MUM01003.html\n",
      "200 https://www.youtube.com/watch?v=G1NaBgYdceg\n",
      "200 https://raw.githubusercontent.com/larisa-soldatova/tml/master/tml-metadata.owl\n",
      "404 http://www.citeweb.net/indianisme/\n",
      "200 http://www.olemiss.edu/depts/general_library/archives/finding_aids/MUM00236.html\n",
      "200 https://raw.githubusercontent.com/iodepo/ontologies_vocabularies/master/linked-cruise-summary-reports/ttl/csr.ttl\n",
      "HTTPConnectionPool(host='zerver.thpl.lib.fl.us', port=80): Max retries exceeded with url: /archive05/414.jpg (Caused by NewConnectionError('<urllib3.connection.HTTPConnection object at 0x7fc6074a1610>: Failed to establish a new connection: [Errno -3] Temporary failure in name resolution')) http://zerver.thpl.lib.fl.us/archive05/414.jpg\n",
      "200 http://cs.brown.edu/courses/csci1951-v/\n",
      "200 http://www.boomingnow.com\n",
      "HTTPConnectionPool(host='www.centcom.net', port=80): Max retries exceeded with url: / (Caused by NewConnectionError('<urllib3.connection.HTTPConnection object at 0x7fc6074a1a60>: Failed to establish a new connection: [Errno -3] Temporary failure in name resolution')) http://www.centcom.net\n",
      "Invalid URL 'None': No schema supplied. Perhaps you meant http://None? None\n",
      "200 https://purl.org/sushant/cuemage\n",
      "HTTPConnectionPool(host='www.revoptom.com', port=80): Max retries exceeded with url: /handbook/hbhome.htm (Caused by ConnectTimeoutError(<urllib3.connection.HTTPConnection object at 0x7fc5f3c75bb0>, 'Connection to www.revoptom.com timed out. (connect timeout=10)')) http://www.revoptom.com/handbook/hbhome.htm\n",
      "Invalid URL 'None': No schema supplied. Perhaps you meant http://None? None\n",
      "200 http://moinmoin.wikiwikiweb.de/\n",
      "200 http://www.oac.cdlib.org/cgi-bin/oac/berkeley/bancroft/boltwibr\n",
      "404 http://my.yoolib.com/bmaixenprovence/?p=12959\n",
      "HTTPConnectionPool(host='topsiteforyou.com', port=80): Max retries exceeded with url: /form/ (Caused by NewConnectionError('<urllib3.connection.HTTPConnection object at 0x7fc6074a1d60>: Failed to establish a new connection: [Errno -2] Name or service not known')) http://topsiteforyou.com/form/\n",
      "404 https://purl.org/fledge_docs\n",
      "HTTPConnectionPool(host='koda.nfshost.com', port=80): Max retries exceeded with url: / (Caused by NewConnectionError('<urllib3.connection.HTTPConnection object at 0x7fc5f48fe3a0>: Failed to establish a new connection: [Errno -5] No address associated with hostname')) http://koda.nfshost.com/\n",
      "200 http://blogs.lse.ac.uk/impactofsocialsciences/2017/04/10/rather-than-simply-moving-from-paying-to-read-to-paying-to-publish-its-time-for-a-european-open-access-platform/\n",
      "200 https://raw.githubusercontent.com/UKGovLD/publishing-statistical-data/master/specs/src/main/vocab/cube.ttl\n",
      "200 https://ro.ecu.edu.au/datasets/48/\n",
      "Invalid URL 'members.tripod.com/~studyo': No schema supplied. Perhaps you meant http://members.tripod.com/~studyo? members.tripod.com/~studyo\n",
      "404 http://www.olemiss.edu/depts/general_library/files/archives/collections/guides/latesthtml/MUM00025.html\n",
      "200 http://www.ingenerf.homepage.t-online.de/\n",
      "200 http://www.netlibrary.com/summary.asp?ID=2188\n",
      "200 http://www.i2s.fr/a\n",
      "HTTPSConnectionPool(host='www.sinclair.edu', port=443): Max retries exceeded with url: /centers/wc/pub/purl/ (Caused by SSLError(SSLError(1, '[SSL: DH_KEY_TOO_SMALL] dh key too small (_ssl.c:1131)'))) http://www.sinclair.edu/centers/wc/pub/purl/\n",
      "HTTPConnectionPool(host='cup-uk-1520', port=82): Max retries exceeded with url: /core (Caused by NewConnectionError('<urllib3.connection.HTTPConnection object at 0x7fc5f48fee50>: Failed to establish a new connection: [Errno -3] Temporary failure in name resolution')) http://cup-uk-1520:82/core\n",
      "200 http://www.variazioniproject.org/vmap/VMAP.html#Printed|outline\n",
      "Invalid URL '': No schema supplied. Perhaps you meant http://? \n",
      "200 http://www.letrs.indiana.edu/swinburne/xml/sbswhtmn00.xml\n",
      "Invalid URL 'None': No schema supplied. Perhaps you meant http://None? None\n",
      "HTTPConnectionPool(host='200.144.255.210', port=8081): Max retries exceeded with url: /tpubby/ (Caused by ConnectTimeoutError(<urllib3.connection.HTTPConnection object at 0x7fc5f48fea60>, 'Connection to 200.144.255.210 timed out. (connect timeout=10)')) http://200.144.255.210:8081/tpubby/\n",
      "HTTPConnectionPool(host='gowest.coalliance.org', port=80): Max retries exceeded with url: /cgi-bin/imager?10022762 (Caused by NewConnectionError('<urllib3.connection.HTTPConnection object at 0x7fc5f48f2070>: Failed to establish a new connection: [Errno -2] Name or service not known')) http://gowest.coalliance.org/cgi-bin/imager?10022762\n",
      "HTTPConnectionPool(host='libproxy.mit.edu', port=8000): Max retries exceeded with url: /login?url=http://www.ieee.org/ielonline (Caused by NewConnectionError('<urllib3.connection.HTTPConnection object at 0x7fc5f414ca00>: Failed to establish a new connection: [Errno 111] Connection refused')) http://libproxy.mit.edu:8000/login?url=http://www.ieee.org/ielonline\n",
      "200 http://www.geocities.com/soho/study/6219\n",
      "HTTPConnectionPool(host='www.oclc.org', port=5047): Max retries exceeded with url: /~hickey/rdog/ (Caused by ConnectTimeoutError(<urllib3.connection.HTTPConnection object at 0x7fc5f48f26d0>, 'Connection to www.oclc.org timed out. (connect timeout=10)')) http://www.oclc.org:5047/~hickey/rdog/\n",
      "404 http://www.olemiss.edu/depts/general_library/archives/finding_aids/MUM01188.html\n",
      "HTTPSConnectionPool(host='scribble.com', port=443): Max retries exceeded with url: / (Caused by SSLError(SSLError(1, '[SSL: WRONG_SIGNATURE_TYPE] wrong signature type (_ssl.c:1131)'))) http://scribble.com/\n",
      "HTTPConnectionPool(host='webdoc.lhl.mo.us', port=80): Max retries exceeded with url: /aiche99/99an121g.pdf (Caused by NewConnectionError('<urllib3.connection.HTTPConnection object at 0x7fc5f48f2850>: Failed to establish a new connection: [Errno -2] Name or service not known')) http://webdoc.lhl.mo.us/aiche99/99an121g.pdf\n",
      "HTTPConnectionPool(host='zerver.thpl.lib.fl.us', port=80): Max retries exceeded with url: /archive02/591.jpg (Caused by NewConnectionError('<urllib3.connection.HTTPConnection object at 0x7fc5f3c85130>: Failed to establish a new connection: [Errno -3] Temporary failure in name resolution')) http://zerver.thpl.lib.fl.us/archive02/591.jpg\n",
      "200 http://www.agroforestryvoc.fr/\n",
      "HTTPConnectionPool(host='species-id.net', port=80): Max retries exceeded with url: /wiki/TaxPub/location (Caused by NewConnectionError('<urllib3.connection.HTTPConnection object at 0x7fc5f3c85580>: Failed to establish a new connection: [Errno 111] Connection refused')) http://species-id.net/wiki/TaxPub/location\n",
      "200 http://purl.access.gpo.gov/GPO/LPS3672\n",
      "404 http://www.nws.noaa.gov/om/disaster/ok-ks/report7.pdf\n",
      "404 http://tmsnet.sourceforge.net/resources/formats/\n",
      "200 https://atomgraph.github.io/Web-Client/ns.ttl\n",
      "HTTPConnectionPool(host='drosolen.edcdiamond.com', port=80): Max retries exceeded with url: /en/Page2.aspx (Caused by NewConnectionError('<urllib3.connection.HTTPConnection object at 0x7fc5f3c85460>: Failed to establish a new connection: [Errno -2] Name or service not known')) http://drosolen.edcdiamond.com/en/Page2.aspx\n",
      "200 https://www.datprotocol.com/deps/0003-http-pinning-service-api/\n",
      "HTTPConnectionPool(host='news', port=80): Max retries exceeded with url: //132.241.197.64/ (Caused by NewConnectionError('<urllib3.connection.HTTPConnection object at 0x7fc5f3c850a0>: Failed to establish a new connection: [Errno -3] Temporary failure in name resolution')) http://news://132.241.197.64/\n",
      "HTTPConnectionPool(host='gowest.coalliance.org', port=80): Max retries exceeded with url: /cgi-bin/imager?10022266 (Caused by NewConnectionError('<urllib3.connection.HTTPConnection object at 0x7fc5f3c85100>: Failed to establish a new connection: [Errno -2] Name or service not known')) http://gowest.coalliance.org/cgi-bin/imager?10022266\n",
      "HTTPConnectionPool(host='ontology.maggioli.it', port=80): Max retries exceeded with url: /ontology/0.1/pa (Caused by ConnectTimeoutError(<urllib3.connection.HTTPConnection object at 0x7fc5f3c85a00>, 'Connection to ontology.maggioli.it timed out. (connect timeout=10)')) http://ontology.maggioli.it/ontology/0.1/pa\n",
      "('Connection aborted.', RemoteDisconnected('Remote end closed connection without response')) http://marketinglibrary.concentrix.ph/awareness/process.php?name=John&custID=0000541&flg=arrived\n",
      "200 http://www.olemiss.edu/depts/general_library/archives/finding_aids/MUM01214.html\n",
      "HTTPConnectionPool(host='195.166.96.149', port=80): Max retries exceeded with url: /gemini/ (Caused by ConnectTimeoutError(<urllib3.connection.HTTPConnection object at 0x7fc5f48feee0>, 'Connection to 195.166.96.149 timed out. (connect timeout=10)')) http://195.166.96.149/gemini/\n",
      "HTTPConnectionPool(host='plexusld.com', port=80): Max retries exceeded with url: / (Caused by NewConnectionError('<urllib3.connection.HTTPConnection object at 0x7fc5f3c75970>: Failed to establish a new connection: [Errno -2] Name or service not known')) http://plexusld.com\n",
      "404 http://purl.org/net/DesignCourse\n",
      "200 https://dke.uni-wuppertal.de/en/projects/hyplag.html\n",
      "HTTPConnectionPool(host='hmnid.ru', port=80): Max retries exceeded with url: / (Caused by ConnectTimeoutError(<urllib3.connection.HTTPConnection object at 0x7fc5f3c75bb0>, 'Connection to hmnid.ru timed out. (connect timeout=10)')) http://hmnid.ru\n",
      "404 http://www.olemiss.edu/depts/general_library/archives/finding_aids/MUM00800.html\n",
      "200 http://tuisp.online.fr/\n",
      "403 http://www.imf.org/external/pubs/cat/longres.cfm?sk&sk=3289.0\n",
      "403 http://www.northampton.ac.uk/\n",
      "200 http://www.matthewbender.com/lpbin/mblpext.dll/406?f=file[ibrowse-h.htm]&p9=406\n",
      "HTTPConnectionPool(host='gowest.coalliance.org', port=80): Max retries exceeded with url: /cgi-bin/imager?10023061 (Caused by NewConnectionError('<urllib3.connection.HTTPConnection object at 0x7fc5f48f2a60>: Failed to establish a new connection: [Errno -2] Name or service not known')) http://gowest.coalliance.org/cgi-bin/imager?10023061\n",
      "200 http://www.esegi.com/esegi/emr/edicion2/esp/texto/prod6.html\n",
      "404 http://www.usace.army.mil/essc/visiona/Vismenu.htm\n",
      "('Connection aborted.', RemoteDisconnected('Remote end closed connection without response')) http://partners.cpacoreg.com/z/15736/CD5611/\n",
      "401 https://sistemas.anac.gov.br/wiki\n",
      "HTTPConnectionPool(host='qry.netword.com', port=80): Max retries exceeded with url: /q/qry.phtml?netword= (Caused by NewConnectionError('<urllib3.connection.HTTPConnection object at 0x7fc5f5d62880>: Failed to establish a new connection: [Errno -2] Name or service not known')) http://qry.netword.com/q/qry.phtml?netword=\n",
      "HTTPConnectionPool(host='semiotic-description', port=80): Max retries exceeded with url: / (Caused by NewConnectionError('<urllib3.connection.HTTPConnection object at 0x7fc5f5d62df0>: Failed to establish a new connection: [Errno -3] Temporary failure in name resolution')) http://semiotic-description\n",
      "200 http://www.netlibrary.com/summary.asp?ID=9355\n",
      "HTTPConnectionPool(host='topsiteforyou.com', port=80): Max retries exceeded with url: /form/ (Caused by NewConnectionError('<urllib3.connection.HTTPConnection object at 0x7fc5f5d62c10>: Failed to establish a new connection: [Errno -2] Name or service not known')) http://topsiteforyou.com/form/\n",
      "200 http://www.spoorinfo.nl/\n",
      "404 http://www.lib.unc.edu/ncc/pcoll/01ashe/ashe.html\n",
      "HTTPConnectionPool(host='hymglossary.tamu.edu', port=80): Max retries exceeded with url: /projects/32/public/ontology/ (Caused by NewConnectionError('<urllib3.connection.HTTPConnection object at 0x7fc5f5d62e50>: Failed to establish a new connection: [Errno -2] Name or service not known')) http://hymglossary.tamu.edu/projects/32/public/ontology/\n",
      "HTTPSConnectionPool(host='www.uni.com', port=443): Max retries exceeded with url: /pqdauto (Caused by SSLError(SSLCertVerificationError(1, '[SSL: CERTIFICATE_VERIFY_FAILED] certificate verify failed: unable to get local issuer certificate (_ssl.c:1131)'))) http://www.uni.com/pqdauto\n",
      "HTTPConnectionPool(host='https', port=80): Max retries exceeded with url: //144.16.64.148/~dhani/IndiaEnergy/ (Caused by NewConnectionError('<urllib3.connection.HTTPConnection object at 0x7fc5f5d62b20>: Failed to establish a new connection: [Errno -3] Temporary failure in name resolution')) http://https://144.16.64.148/~dhani/IndiaEnergy/\n",
      "200 http://peteschult.co.nf\n",
      "200 http://jwaresoftware.org/wiki/ped4ant/download\n",
      "200 http://www.ojp.usdoj.gov/bjs/abstract/wfcj.htm\n",
      "HTTPConnectionPool(host='forums.ecss.nl', port=80): Max retries exceeded with url: /forums/ecss/dispatch.cgi/standards/docProfile/100744/d20090526122349/No/t100744.htm (Caused by ConnectTimeoutError(<urllib3.connection.HTTPConnection object at 0x7fc5fa5b1220>, 'Connection to forums.ecss.nl timed out. (connect timeout=10)')) http://www.ecss.nl/forums/ecss/dispatch.cgi/standards/docProfile/100744/d20090526122349/No/t100744.htm\n",
      "200 http://hdl.loc.gov/loc.gmd/g3801p.rr002650\n",
      "HTTPConnectionPool(host='webdoc.lhl.mo.us', port=80): Max retries exceeded with url: /aiche99/99an143e.pdf (Caused by NewConnectionError('<urllib3.connection.HTTPConnection object at 0x7fc5fa5b17f0>: Failed to establish a new connection: [Errno -2] Name or service not known')) http://webdoc.lhl.mo.us/aiche99/99an143e.pdf\n",
      "200 http://www.netlibrary.com/summary.asp?ID=11919\n",
      "200 http://www.tcl.tk/\n",
      "200 http://bemi.free.fr/\n",
      "HTTPConnectionPool(host='12.207.155.157', port=80): Max retries exceeded with url: / (Caused by ConnectTimeoutError(<urllib3.connection.HTTPConnection object at 0x7fc5f48f2640>, 'Connection to 12.207.155.157 timed out. (connect timeout=10)')) http://12.207.155.157/\n",
      "200 http://www.britannica.com/\n",
      "404 http://www.homefarm.com/dfp/default.htm\n",
      "HTTPConnectionPool(host='topsiteforyou.com', port=80): Max retries exceeded with url: /form (Caused by NewConnectionError('<urllib3.connection.HTTPConnection object at 0x7fc5f48f2fd0>: Failed to establish a new connection: [Errno -2] Name or service not known')) http://topsiteforyou.com/form\n",
      "200 http://buzzword.org.uk/profiles/hAtom/0.1/\n",
      "HTTPConnectionPool(host='trovator.combios.es', port=80): Max retries exceeded with url: / (Caused by NewConnectionError('<urllib3.connection.HTTPConnection object at 0x7fc5f48f2520>: Failed to establish a new connection: [Errno -2] Name or service not known')) http://trovator.combios.es\n",
      "200 http://www.worldbank.org/html/dec/Publications/Workpapers/wps2000series/wps2235/wps2235-abstract.html\n",
      "404 http://www.lib.unc.edu/ncc/pcoll/01durham/durham.html\n",
      "200 http://www.olemiss.edu/depts/general_library/archives/finding_aids/MUM00594.html\n",
      "HTTPConnectionPool(host='webdoc.lhl.mo.us', port=80): Max retries exceeded with url: /aiche99/99an59c.pdf (Caused by NewConnectionError('<urllib3.connection.HTTPConnection object at 0x7fc5f48f2d00>: Failed to establish a new connection: [Errno -2] Name or service not known')) http://webdoc.lhl.mo.us/aiche99/99an59c.pdf\n",
      "HTTPConnectionPool(host='gowest.coalliance.org', port=80): Max retries exceeded with url: /cgi-bin/imager?10022863 (Caused by NewConnectionError('<urllib3.connection.HTTPConnection object at 0x7fc5f48f26d0>: Failed to establish a new connection: [Errno -2] Name or service not known')) http://gowest.coalliance.org/cgi-bin/imager?10022863\n",
      "404 http://purl.oclc.org/net/ryu\n",
      "200 http://vimss.lbl.gov/~kdkeck/n9.html\n",
      "HTTPConnectionPool(host='www.csrl.ars.usda.gov', port=80): Max retries exceeded with url: /cppru/icblevlu.htm (Caused by ConnectTimeoutError(<urllib3.connection.HTTPConnection object at 0x7fc5f976c460>, 'Connection to www.csrl.ars.usda.gov timed out. (connect timeout=10)')) http://www.csrl.ars.usda.gov/cppru/icblevlu.htm\n",
      "200 http://www.ma.utexas.edu/~tornaria/cnt/\n",
      "406 http://www.ekac.org/index.html\n",
      "200 http://hdl.loc.gov/loc.gmd/g3701p.rr003280\n",
      "404 http://openscience.adaptcentre.ie/ontologies/GDPRtEXT/deliverables/gdpr.rdf\n",
      "200 https://www.reddit.com/r/algorand/comments/n6dnj3/own_a_piece_of_my_finite_human_existence/\n",
      "('Connection aborted.', ConnectionResetError(104, 'Connection reset by peer')) http://alcme.oclc.org/xtcat/servlet/OAIHandler\n",
      "200 https://www.spoc-web.com/\n",
      "404 https://raw.githubusercontent.com/ieee-rtr-ontology/robot-task-ontology/fatibaba-patch-2/owl-s-imports.owl?token=AD4OTA3LHW4EBEO2BQ2NLO3BRKN66\n",
      "HTTPConnectionPool(host='webdoc.lhl.mo.us', port=80): Max retries exceeded with url: /aiche99/99an105c.pdf (Caused by NewConnectionError('<urllib3.connection.HTTPConnection object at 0x7fc5f5d62eb0>: Failed to establish a new connection: [Errno -2] Name or service not known')) http://webdoc.lhl.mo.us/aiche99/99an105c.pdf\n",
      "200 https://raw.githubusercontent.com/pesc-org/ILR-PESC-Context/master/ILR-Context.jsonld\n",
      "HTTPConnectionPool(host='webdoc.lhl.mo.us', port=80): Max retries exceeded with url: /aiche99/99an169ag.pdf (Caused by NewConnectionError('<urllib3.connection.HTTPConnection object at 0x7fc5f3c75a30>: Failed to establish a new connection: [Errno -2] Name or service not known')) http://webdoc.lhl.mo.us/aiche99/99an169ag.pdf\n",
      "HTTPConnectionPool(host='http', port=80): Max retries exceeded with url: //www.ices.on.ca. (Caused by NewConnectionError('<urllib3.connection.HTTPConnection object at 0x7fc5f4eba160>: Failed to establish a new connection: [Errno -3] Temporary failure in name resolution')) http://http://www.ices.on.ca.\n",
      "HTTPConnectionPool(host='webdoc.lhl.mo.us', port=80): Max retries exceeded with url: /aiche99/99an169w.pdf (Caused by NewConnectionError('<urllib3.connection.HTTPConnection object at 0x7fc5f5d624f0>: Failed to establish a new connection: [Errno -2] Name or service not known')) http://webdoc.lhl.mo.us/aiche99/99an169w.pdf\n",
      "403 http://www.imf.org/external/pubs/cat/longres.cfm?sk&sk=3311.0\n",
      "Invalid URL '': No schema supplied. Perhaps you meant http://? \n",
      "200 http://www.cs.arizona.edu/people/rudick/\n",
      "200 http://maven.xwiki.org/\n",
      "200 http://www.netlibrary.com/summary.asp?ID=4532\n",
      "404 https://innoweb.mondragon.edu/ontologies/dabgeo/application_context/application_type/city_energy_performance_assessment/energycostindicators/1.1/ontology/\n",
      "200 http://www.olemiss.edu/depts/general_library/archives/finding_aids/MUM00620.html\n",
      "404 http://www.olemiss.edu/depts/general_library/archives/finding_aids/MUM01548.html\n",
      "404 http://www.lib.unc.edu/ncc/pcoll/41canfield.html\n",
      "('Connection aborted.', ConnectionResetError(104, 'Connection reset by peer')) http://www.oclc.org/oclc/menu/catme.htm\n",
      "200 http://hdl.loc.gov/loc.gmd/g3901p.rr002740\n",
      "200 http://www.letrs.indiana.edu/swinburne/xml/pb1kings00.xml\n",
      "HTTPConnectionPool(host='www.ot.state.mn.us', port=80): Max retries exceeded with url: /reports/masterplan.PDF (Caused by NewConnectionError('<urllib3.connection.HTTPConnection object at 0x7fc5f3c851c0>: Failed to establish a new connection: [Errno -2] Name or service not known')) http://www.ot.state.mn.us/reports/masterplan.PDF\n",
      "200 http://hdl.loc.gov/loc.gmd/g3721p.rr004730\n",
      "HTTPConnectionPool(host='82.166.2.75', port=80): Max retries exceeded with url: / (Caused by ConnectTimeoutError(<urllib3.connection.HTTPConnection object at 0x7fc5f3c85340>, 'Connection to 82.166.2.75 timed out. (connect timeout=10)')) http://82.166.2.75/\n",
      "200 http://ryanh.addr.com/\n",
      "200 http://www.netlibrary.com/summary.asp?ID=5168\n",
      "200 https://git.uni-wuppertal.de/pdf-analysis/entrypoint\n",
      "200 http://www.olemiss.edu/depts/general_library/archives/finding_aids/MUM00098.html\n",
      "('Connection aborted.', RemoteDisconnected('Remote end closed connection without response')) http://eyedea.com\n",
      "HTTPConnectionPool(host='gowest.coalliance.org', port=80): Max retries exceeded with url: /cgi-bin/imager?0019488 (Caused by NewConnectionError('<urllib3.connection.HTTPConnection object at 0x7fc5f5d62820>: Failed to establish a new connection: [Errno -2] Name or service not known')) http://gowest.coalliance.org/cgi-bin/imager?0019488\n",
      "404 http://www.indiana.edu/~letrs/vwwp/clive/clive-poems1872.sgml\n",
      "HTTPConnectionPool(host='www.logai.org.', port=80): Max retries exceeded with url: / (Caused by NewConnectionError('<urllib3.connection.HTTPConnection object at 0x7fc5f5d627f0>: Failed to establish a new connection: [Errno -2] Name or service not known')) http://www.logai.org.\n",
      "HTTPConnectionPool(host='gowest.coalliance.org', port=80): Max retries exceeded with url: /cgi-bin/imager?10021251 (Caused by NewConnectionError('<urllib3.connection.HTTPConnection object at 0x7fc5f5d62640>: Failed to establish a new connection: [Errno -2] Name or service not known')) http://gowest.coalliance.org/cgi-bin/imager?10021251\n",
      "200 https://www.spc.int/DigitalLibrary/Get\n",
      "404 http://www.olemiss.edu/depts/general_library/archives/finding_aids/MUM01336.html\n",
      "HTTPConnectionPool(host='orc.rsch.oclc.org', port=6466): Max retries exceeded with url: /corc.html (Caused by NewConnectionError('<urllib3.connection.HTTPConnection object at 0x7fc5f5d62c10>: Failed to establish a new connection: [Errno -2] Name or service not known')) http://orc.rsch.oclc.org:6466/corc.html\n",
      "HTTPConnectionPool(host='sharedname.org', port=80): Max retries exceeded with url: /page/Meetings/2009-04-29/Agenda (Caused by ConnectTimeoutError(<urllib3.connection.HTTPConnection object at 0x7fc5f5d62e20>, 'Connection to sharedname.org timed out. (connect timeout=10)')) http://sharedname.org/page/Meetings/2009-04-29/Agenda\n",
      "No connection adapters were found for 'ftp://http://www.ames.net/aeon/' ftp://http://www.ames.net/aeon/\n",
      "HTTPConnectionPool(host='gowest.coalliance.org', port=80): Max retries exceeded with url: /cgi-bin/imager?10022314 (Caused by NewConnectionError('<urllib3.connection.HTTPConnection object at 0x7fc5f4eba100>: Failed to establish a new connection: [Errno -2] Name or service not known')) http://gowest.coalliance.org/cgi-bin/imager?10022314\n",
      "HTTPConnectionPool(host='private.addcom.de', port=80): Max retries exceeded with url: /mda/ (Caused by NewConnectionError('<urllib3.connection.HTTPConnection object at 0x7fc5f5d62940>: Failed to establish a new connection: [Errno -2] Name or service not known')) http://private.addcom.de/mda/\n",
      "HTTPConnectionPool(host='gowest.coalliance.org', port=80): Max retries exceeded with url: /cgi-bin/imager?10022326 (Caused by NewConnectionError('<urllib3.connection.HTTPConnection object at 0x7fc5f5d62610>: Failed to establish a new connection: [Errno -2] Name or service not known')) http://gowest.coalliance.org/cgi-bin/imager?10022326\n",
      "200 http://jmwickma.fastmail.fm/mastercode.tar.bz2\n",
      "HTTPConnectionPool(host='gowest.coalliance.org', port=80): Max retries exceeded with url: /cgi-bin/imager?10022987 (Caused by NewConnectionError('<urllib3.connection.HTTPConnection object at 0x7fc5f5d62ca0>: Failed to establish a new connection: [Errno -2] Name or service not known')) http://gowest.coalliance.org/cgi-bin/imager?10022987\n",
      "200 https://jachicaiza.github.io/scipubReport/\n",
      "Exceeded 30 redirects. http://purl.org/omeaontologynetwork\n",
      "404 http://tools.ietf.org/html/rfc4266\n",
      "200 http://www.nijmegen.nl\n",
      "HTTPConnectionPool(host='gowest.coalliance.org', port=80): Max retries exceeded with url: /cgi-bin/imager?10023038 (Caused by NewConnectionError('<urllib3.connection.HTTPConnection object at 0x7fc5f5d5a8b0>: Failed to establish a new connection: [Errno -2] Name or service not known')) http://gowest.coalliance.org/cgi-bin/imager?10023038\n",
      "200 https://github.com/ontoneo-project/Ontoneo/tree/master/releases/2016-12-26\n",
      "HTTPConnectionPool(host='mt.usgs.gov', port=80): Max retries exceeded with url: / (Caused by NewConnectionError('<urllib3.connection.HTTPConnection object at 0x7fc5f5d5aa90>: Failed to establish a new connection: [Errno -5] No address associated with hostname')) http://mt.usgs.gov/\n",
      "200 http://firstsearch.oclc.org\n",
      "404 http://www.olemiss.edu/depts/general_library/archives/finding_aids/MUM00630.html\n",
      "200 http://www.scribeserver.com/NEUMES/\n",
      "200 https://raw.githubusercontent.com/Ebiquity/Unified-Cybersecurity-Ontology/master/stix/stix2.0/stix2.ttl\n",
      "404 http://purl.org/ctdl/vocabs/orgType/\n",
      "200 http://Countylibrary.Marin.org/crm/crmindex.html\n",
      "200 http://www.ecclesman.com\n",
      "404 http://www.ietf.org/internet-drafts/draft-snell-atompub-feed-license-07.txt\n",
      "HTTPConnectionPool(host='webdoc.lhl.mo.us', port=80): Max retries exceeded with url: /aiche99/99an136d.pdf (Caused by NewConnectionError('<urllib3.connection.HTTPConnection object at 0x7fc5f5d65cd0>: Failed to establish a new connection: [Errno -2] Name or service not known')) http://webdoc.lhl.mo.us/aiche99/99an136d.pdf\n",
      "404 http://www.vnet.es/motril/\n",
      "200 https://ahti-saarelainen.zgrep.org/~shikhin/doughnuts.html\n",
      "HTTPConnectionPool(host='home.fuse.net', port=80): Max retries exceeded with url: /harlan/gone.htm (Caused by NewConnectionError('<urllib3.connection.HTTPConnection object at 0x7fc5f5d653a0>: Failed to establish a new connection: [Errno -2] Name or service not known')) http://home.fuse.net/harlan/gone.htm\n",
      "200 http://www.netlibrary.com/summary.asp?ID=1625\n",
      "200 http://hdl.loc.gov/loc.gmd/g3823s.rr004680\n",
      "200 http://data.geohive.ie\n",
      "('Connection aborted.', ConnectionResetError(104, 'Connection reset by peer')) http://alcme.oclc.org/webjunction/OAIHandler?verb=GetRecord&metadataPrefix=marc21&identifier=\n",
      "HTTPConnectionPool(host='laz.uoregon.edu', port=80): Max retries exceeded with url: /~naop/links.html (Caused by NewConnectionError('<urllib3.connection.HTTPConnection object at 0x7fc5f5d42430>: Failed to establish a new connection: [Errno -2] Name or service not known')) http://laz.uoregon.edu/%7Enaop/links.html\n",
      "200 http://firstsearch.oclc.org\n",
      "HTTPConnectionPool(host='www.nousapsis.net', port=80): Max retries exceeded with url: / (Caused by NewConnectionError('<urllib3.connection.HTTPConnection object at 0x7fc5f5d42220>: Failed to establish a new connection: [Errno -2] Name or service not known')) http://www.nousapsis.net/\n",
      "200 http://www.free-culture.cc/notes/4.pdf\n",
      "200 http://www.olemiss.edu/depts/general_library/archives/finding_aids/MUM00515.html\n",
      "404 http://www.surveymonkey.com/s.aspx?sm=OLYDoVMfrDGyN6YNbQ8XCw_3d_3d&c=\n",
      "200 https://www.eff.org/deeplinks/2016/07/new-wordlists-random-passphrases\n",
      "200 http://www.olemiss.edu/depts/general_library/archives/finding_aids/MUM00358.html\n",
      "200 http://www.wto.org/wto/ddf/ep/public.html\n",
      "HTTPConnectionPool(host='qviz.salzburgresearch.at', port=80): Max retries exceeded with url: /qviz/ (Caused by NewConnectionError('<urllib3.connection.HTTPConnection object at 0x7fc5f5d623a0>: Failed to establish a new connection: [Errno -2] Name or service not known')) http://qviz.salzburgresearch.at/qviz/\n",
      "HTTPConnectionPool(host='www.psc.state.wi.us', port=80): Max retries exceeded with url: /writings/brochures/PowrLine.htm (Caused by NewConnectionError('<urllib3.connection.HTTPConnection object at 0x7fc5f5d620d0>: Failed to establish a new connection: [Errno -2] Name or service not known')) http://www.psc.state.wi.us/writings/brochures/PowrLine.htm\n",
      "404 http://www.usace.army.mil/strategic/coe/index.htm\n",
      "404 http://iserve.kmi.open.ac.uk/ontology/msm1.0.rdfxml\n",
      "200 http://www.olemiss.edu/depts/general_library/archives/finding_aids/MUM00192.html\n",
      "200 http://www.olemiss.edu/depts/general_library/archives/finding_aids/MUM00466.html\n",
      "200 http://www.dfki.de/\n",
      "404 http://opendesignsystem.org/documents/opendesignsystem.org/documents/open_design_system_framework/latest/ods-odsf.latest.owl\n",
      "HTTPConnectionPool(host='topsiteforyou.com', port=80): Max retries exceeded with url: /form (Caused by NewConnectionError('<urllib3.connection.HTTPConnection object at 0x7fc5f5d5a7f0>: Failed to establish a new connection: [Errno -2] Name or service not known')) http://topsiteforyou.com/form\n",
      "200 http://purl.org/swinburnearchive/acs0000001-01-i046.xml\n",
      "404 http://purl.org/dc/documents/\n",
      "HTTPConnectionPool(host='gowest.coalliance.org', port=80): Max retries exceeded with url: /cgi-bin/imager?10022923 (Caused by NewConnectionError('<urllib3.connection.HTTPConnection object at 0x7fc5f5d656d0>: Failed to establish a new connection: [Errno -2] Name or service not known')) http://gowest.coalliance.org/cgi-bin/imager?10022923\n",
      "HTTPConnectionPool(host='genes.alfalfa.ksu.edu', port=80): Max retries exceeded with url: /Excite/AT-Cultivarsquery.html (Caused by ConnectTimeoutError(<urllib3.connection.HTTPConnection object at 0x7fc5f5d65190>, 'Connection to genes.alfalfa.ksu.edu timed out. (connect timeout=10)')) http://genes.alfalfa.ksu.edu/Excite/AT-Cultivarsquery.html\n",
      "404 http://www.biwa.ne.jp/~ryo/tonton.css\n",
      "200 http://www.pagefav.com/\n",
      "403 https://utpl-my.sharepoint.com/personal/daguaman_utpl_edu_ec/_layouts/15/onedrive.aspx?id=%2Fpersonal%2Fdaguaman%5Futpl%5Fedu%5Fec%2FDocuments%2FDecision%20tree%20to%20determine%20a%20set%20of%20toolsfinal%2Epdf&parent=%2Fpersonal%2Fdaguaman%5Futpl%5Fedu%5Fec%2FDocuments&originalPath=aHR0cHM6Ly91dHBsLW15LnNoYXJlcG9pbnQuY29tLzpiOi9nL3BlcnNvbmFsL2RhZ3VhbWFuX3V0cGxfZWR1X2VjL0VjOGExQVp5amFCRGc3czd4alJ4cFFVQmtYMm5WRUFsZmtFYXNQbVQ5UG1UMlE_cnRpbWU9YTVBd0x6NkQxMGc\n",
      "HTTPConnectionPool(host='https', port=80): Max retries exceeded with url: //unixblade7.cc.ic.ac.uk/models/ (Caused by NewConnectionError('<urllib3.connection.HTTPConnection object at 0x7fc5f5d65b20>: Failed to establish a new connection: [Errno -3] Temporary failure in name resolution')) http://https://unixblade7.cc.ic.ac.uk/models/\n",
      "HTTPConnectionPool(host='gowest.coalliance.org', port=80): Max retries exceeded with url: /cgi-bin/imager?10022988 (Caused by NewConnectionError('<urllib3.connection.HTTPConnection object at 0x7fc5f48e9e50>: Failed to establish a new connection: [Errno -2] Name or service not known')) http://gowest.coalliance.org/cgi-bin/imager?10022988\n",
      "HTTPConnectionPool(host='topsiteforyou.com', port=80): Max retries exceeded with url: /form (Caused by NewConnectionError('<urllib3.connection.HTTPConnection object at 0x7fc5f5d5a8e0>: Failed to establish a new connection: [Errno -2] Name or service not known')) http://topsiteforyou.com/form\n",
      "200 http://www.google.com/search?q=allintitle:++author+OR+authors+OR+book+OR+books+OR+writer+OR+writers+site:npr.org&hl=en&lr=&as_qdr=all&start=10&sa=N\n",
      "HTTPConnectionPool(host='webdoc.lhl.mo.us', port=80): Max retries exceeded with url: /aiche99/99an205o.pdf (Caused by NewConnectionError('<urllib3.connection.HTTPConnection object at 0x7fc5f5d5ac40>: Failed to establish a new connection: [Errno -2] Name or service not known')) http://webdoc.lhl.mo.us/aiche99/99an205o.pdf\n",
      "200 http://www.letrs.indiana.edu/swinburne/xml/pb1satia00.xml\n",
      "404 http://www.olemiss.edu/depts/general_library/archives/finding_aids/MUM00993.html\n",
      "HTTPConnectionPool(host='gowest.coalliance.org', port=80): Max retries exceeded with url: /cgi-bin/imager?10022559 (Caused by NewConnectionError('<urllib3.connection.HTTPConnection object at 0x7fc5f5d65ca0>: Failed to establish a new connection: [Errno -2] Name or service not known')) http://gowest.coalliance.org/cgi-bin/imager?10022559\n",
      "200 http://www.ifomis.org/biotop/\n",
      "200 http://www.lib.uidaho.edu/secure/wiley.html\n",
      "200 http://greenwood.cr.usgs.gov/pub/fact-sheets/fs-0145-99/\n",
      "404 http://www.las-cruces.org/housing.htm\n",
      "200 http://www.biopax.org/mediawiki\n",
      "HTTPConnectionPool(host='gowest.coalliance.org', port=80): Max retries exceeded with url: /cgi-bin/imager?10021230 (Caused by NewConnectionError('<urllib3.connection.HTTPConnection object at 0x7fc5f5d65160>: Failed to establish a new connection: [Errno -2] Name or service not known')) http://gowest.coalliance.org/cgi-bin/imager?10021230\n",
      "HTTPConnectionPool(host='topsiteforyou.com', port=80): Max retries exceeded with url: /form (Caused by NewConnectionError('<urllib3.connection.HTTPConnection object at 0x7fc5f5d65dc0>: Failed to establish a new connection: [Errno -2] Name or service not known')) http://topsiteforyou.com/form\n",
      "404 http://www.vnet.es/motril/\n",
      "200 http://www.thawra.com/thawra.htm\n",
      "404 http://www.dis.uniroma1.it/~acensi/category/myblog.xml\n",
      "HTTPConnectionPool(host='proten.systems.ne.jp', port=80): Max retries exceeded with url: / (Caused by NewConnectionError('<urllib3.connection.HTTPConnection object at 0x7fc5f5d65520>: Failed to establish a new connection: [Errno -2] Name or service not known')) http://proten.systems.ne.jp/\n",
      "HTTPConnectionPool(host='gowest.coalliance.org', port=80): Max retries exceeded with url: /cgi-bin/imager?10023057 (Caused by NewConnectionError('<urllib3.connection.HTTPConnection object at 0x7fc5f5d65520>: Failed to establish a new connection: [Errno -2] Name or service not known')) http://gowest.coalliance.org/cgi-bin/imager?10023057\n",
      "200 http://www.norc.org/PDFs/publications/SmithT_Nat_Gun_Policy_2001.pdf\n",
      "200 http://www.netlibrary.com/summary.asp?ID=6278\n",
      "404 http://www.vnet.es/motril/\n",
      "200 http://www.olemiss.edu/depts/general_library/archives/finding_aids/MUM01694.html\n",
      "200 http://arub.inqool.cz/cz/1-teorie-a-pristupy\n",
      "Invalid URL '': No schema supplied. Perhaps you meant http://? \n",
      "HTTPConnectionPool(host='www.srs.fs.fed.us', port=80): Max retries exceeded with url: /pubs/rb/rb_srs033.pdf (Caused by NewConnectionError('<urllib3.connection.HTTPConnection object at 0x7fc5fa44a790>: Failed to establish a new connection: [Errno -2] Name or service not known')) http://www.srs.fs.fed.us/pubs/rb/rb%5Fsrs033.pdf\n",
      "404 http://www.indiana.edu/~letrs/vwwp/anon/unprotected.html\n",
      "('Connection aborted.', ConnectionResetError(104, 'Connection reset by peer')) https://nocv.tw.rpi.edu/elda/api/vocab/dcmp/term/\n",
      "HTTPConnectionPool(host='file', port=80): Max retries exceeded with url: //localhost/ (Caused by NewConnectionError('<urllib3.connection.HTTPConnection object at 0x7fc5fa44a730>: Failed to establish a new connection: [Errno -3] Temporary failure in name resolution')) http://file://localhost/\n",
      "HTTPConnectionPool(host='people.cornell.edu', port=80): Max retries exceeded with url: /pages/kb69/RRV/meta/M_RRVSummary.html (Caused by NewConnectionError('<urllib3.connection.HTTPConnection object at 0x7fc5f5d42070>: Failed to establish a new connection: [Errno -2] Name or service not known')) http://people.cornell.edu/pages/kb69/RRV/meta/M_RRVSummary.html\n",
      "200 http://groups.google.com/group/lingopal/\n",
      "200 http://sealang.net/assam\n",
      "HTTPConnectionPool(host='gowest.coalliance.org', port=80): Max retries exceeded with url: /cgi-bin/imager?11000482 (Caused by NewConnectionError('<urllib3.connection.HTTPConnection object at 0x7fc5f5d42ee0>: Failed to establish a new connection: [Errno -2] Name or service not known')) http://gowest.coalliance.org/cgi-bin/imager?11000482\n",
      "200 https://raw.githubusercontent.com/brunopenteado/OpenData/master/ontologies/a1.owl\n",
      "200 http://sites.google.com/site/acrologicrecycled/lists/list-environment-incinerator-environment-agency-decision-document\n",
      "200 http://www.netlibrary.com/summary.asp?ID=10364\n",
      "HTTPConnectionPool(host='orc', port=4342): Max retries exceeded with url: /openurl/servlet/OAIHandler/extension?verb=GetMetadata&metadataPrefix=oai_dc&identifier= (Caused by NewConnectionError('<urllib3.connection.HTTPConnection object at 0x7fc5f5d42ee0>: Failed to establish a new connection: [Errno -3] Temporary failure in name resolution')) http://orc:4342/openurl/servlet/OAIHandler/extension?verb=GetMetadata&metadataPrefix=oai_dc&identifier=\n",
      "200 http://www.netlibrary.com/summary.asp?ID=6929\n",
      "200 http://www.olemiss.edu/depts/general_library/archives/finding_aids/MUM00024.html\n",
      "200 https://raw.githubusercontent.com/HUPO-PSI/mzIdentML/master/cv/XLMOD.obo\n",
      "200 http://sfsheath.github.io/roman-amphitheaters/roman-amphitheaters.geojson\n",
      "200 https://purl.org/boxer/\n",
      "HTTPConnectionPool(host='nt.scbbs.com', port=80): Max retries exceeded with url: /cgi-bin/omisapi.dll?clientID=20240&infobase=MESSAGE&softpage=refMainView (Caused by ConnectTimeoutError(<urllib3.connection.HTTPConnection object at 0x7fc5fa44a460>, 'Connection to nt.scbbs.com timed out. (connect timeout=10)')) http://nt.scbbs.com/cgi-bin/omisapi.dll?clientID=20240&infobase=MESSAGE&softpage=refMainView\n",
      "HTTPConnectionPool(host='gowest.coalliance.org', port=80): Max retries exceeded with url: /cgi-bin/imager?10023004 (Caused by NewConnectionError('<urllib3.connection.HTTPConnection object at 0x7fc5f4918100>: Failed to establish a new connection: [Errno -2] Name or service not known')) http://gowest.coalliance.org/cgi-bin/imager?10023004\n",
      "200 http://jwaresoftware.org/apis/log4ant/latest/\n",
      "HTTPConnectionPool(host='metacognition.info', port=80): Max retries exceeded with url: /ontologies/problem-oriented-medical-record.owl (Caused by NewConnectionError('<urllib3.connection.HTTPConnection object at 0x7fc5fa44a190>: Failed to establish a new connection: [Errno -3] Temporary failure in name resolution')) http://metacognition.info/ontologies/problem-oriented-medical-record.owl\n",
      "200 http://www.ocli.com/index.html\n",
      "HTTPConnectionPool(host='www.etho.caltech.edu', port=80): Max retries exceeded with url: /~bjorn/NNYJ/ (Caused by NewConnectionError('<urllib3.connection.HTTPConnection object at 0x7fc5fa44a8b0>: Failed to establish a new connection: [Errno -2] Name or service not known')) http://www.etho.caltech.edu/~bjorn/NNYJ/\n",
      "200 http://www.crosslogic.com\n",
      "200 http://www.google.com/\n",
      "404 http://www.americancomm.org/%7Eaca/acj/acj.html\n",
      "HTTPConnectionPool(host='http', port=80): Max retries exceeded with url: //WWW.yes.or.at/yes (Caused by NewConnectionError('<urllib3.connection.HTTPConnection object at 0x7fc5fa44a850>: Failed to establish a new connection: [Errno -3] Temporary failure in name resolution')) http://HTTP://WWW.yes.or.at/yes\n",
      "200 http://www.google.com/\n",
      "HTTPConnectionPool(host='webdoc.lhl.mo.us', port=80): Max retries exceeded with url: /aiche99/99an210e.pdf (Caused by NewConnectionError('<urllib3.connection.HTTPConnection object at 0x7fc5fa44a1f0>: Failed to establish a new connection: [Errno -2] Name or service not known')) http://webdoc.lhl.mo.us/aiche99/99an210e.pdf\n",
      "HTTPSConnectionPool(host='bupress.unibz.it', port=443): Max retries exceeded with url: /en/produkt/zona7/ (Caused by SSLError(SSLCertVerificationError(1, '[SSL: CERTIFICATE_VERIFY_FAILED] certificate verify failed: unable to get local issuer certificate (_ssl.c:1131)'))) https://bupress.unibz.it/en/produkt/zona7/\n",
      "200 http://osf.io/download/sq6k5/\n",
      "404 http://www.uexpress.com/index.html\n",
      "HTTPConnectionPool(host='gowest.coalliance.org', port=80): Max retries exceeded with url: /cgi-bin/imager?10022893 (Caused by NewConnectionError('<urllib3.connection.HTTPConnection object at 0x7fc5fa44aa00>: Failed to establish a new connection: [Errno -2] Name or service not known')) http://gowest.coalliance.org/cgi-bin/imager?10022893\n",
      "403 http://mathieusaby.fr/\n",
      "200 http://www.antoniocosta.eu\n",
      "200 https://dialnet.unirioja.es/descarga/articulo/2932218.pdf\n",
      "200 http://147.162.119.1:8081/resianica/deu/miklkopi.do\n",
      "200 http://verc.enes.org\n",
      "HTTPSConnectionPool(host='static.btric.org', port=443): Max retries exceeded with url: /mkt/bfd/btric-fostering-the-decentralization-revolution.pdf (Caused by SSLError(SSLCertVerificationError(\"hostname 'static.btric.org' doesn't match either of 'allmail.svc.cbmco.net', 'www.allmail.svc.cbmco.net'\"))) https://static.btric.org/mkt/bfd/btric-fostering-the-decentralization-revolution.pdf\n",
      "404 http://www.olemiss.edu/depts/general_library/files/archives/collections/guides/latesthtml/MUM00034.html\n",
      "200 http://www.olemiss.edu/depts/general_library/archives/finding_aids/MUM00201.html\n",
      "200 http://www.neuinfo.org/about/vocabularies.shtml\n",
      "HTTPConnectionPool(host='gowest.coalliance.org', port=80): Max retries exceeded with url: /cgi-bin/imager?10022610 (Caused by NewConnectionError('<urllib3.connection.HTTPConnection object at 0x7fc5fa44a070>: Failed to establish a new connection: [Errno -2] Name or service not known')) http://gowest.coalliance.org/cgi-bin/imager?10022610\n",
      "404 http://www.indiana.edu/%7Eensiweb/\n",
      "Invalid URL '': No schema supplied. Perhaps you meant http://? \n",
      "200 http://esweb.bna.com\n",
      "404 http://www.olemiss.edu/depts/general_library/archives/finding_aids/MUM00872.html\n",
      "404 http://www.phil.muni.cz/~macova/\n",
      "404 http://members.aol.com/ryukage/ifmi/documents/2006/WD-iflink10-20060320/\n",
      "HTTPConnectionPool(host='pi0959.kub.nl', port=2080): Max retries exceeded with url: /Maas/ (Caused by NewConnectionError('<urllib3.connection.HTTPConnection object at 0x7fc5fa44a5e0>: Failed to establish a new connection: [Errno -5] No address associated with hostname')) http://pi0959.kub.nl:2080/Maas/\n",
      "HTTPConnectionPool(host='topsiteforyou.com', port=80): Max retries exceeded with url: /form/ (Caused by NewConnectionError('<urllib3.connection.HTTPConnection object at 0x7fc5fa44abb0>: Failed to establish a new connection: [Errno -2] Name or service not known')) http://topsiteforyou.com/form/\n",
      "HTTPConnectionPool(host='ojps.aip.org', port=80): Max retries exceeded with url: /medphys/ (Caused by NewConnectionError('<urllib3.connection.HTTPConnection object at 0x7fc5fa44a4f0>: Failed to establish a new connection: [Errno -2] Name or service not known')) http://ojps.aip.org/medphys/\n",
      "HTTPConnectionPool(host='webdoc.lhl.mo.us', port=80): Max retries exceeded with url: /aiche99/99an135b.pdf (Caused by NewConnectionError('<urllib3.connection.HTTPConnection object at 0x7fc5fa44abe0>: Failed to establish a new connection: [Errno -2] Name or service not known')) http://webdoc.lhl.mo.us/aiche99/99an135b.pdf\n",
      "Invalid URL '': No schema supplied. Perhaps you meant http://? \n",
      "HTTPConnectionPool(host='www.yourpassport2life.com', port=80): Max retries exceeded with url: / (Caused by NewConnectionError('<urllib3.connection.HTTPConnection object at 0x7fc5fa44a4f0>: Failed to establish a new connection: [Errno -2] Name or service not known')) http://www.yourpassport2life.com\n",
      "404 http://www.vnet.es/motril/\n",
      "200 http://www.free-culture.cc/notes/6.pdf\n",
      "404 https://uit.no/tmu/\n",
      "200 https://soundcloud.com/douganger/heb2101\n",
      "200 http://www.eki.ee/letter/chardata.cgi?ucode=\n",
      "HTTPConnectionPool(host='gowest.coalliance.org', port=80): Max retries exceeded with url: /cgi-bin/imager?10022250 (Caused by NewConnectionError('<urllib3.connection.HTTPConnection object at 0x7fc5fa44a340>: Failed to establish a new connection: [Errno -2] Name or service not known')) http://gowest.coalliance.org/cgi-bin/imager?10022250\n",
      "HTTPConnectionPool(host='www.substancemisuse.org.uk', port=80): Max retries exceeded with url: / (Caused by NewConnectionError('<urllib3.connection.HTTPConnection object at 0x7fc5fa44a790>: Failed to establish a new connection: [Errno -2] Name or service not known')) http://www.substancemisuse.org.uk/\n",
      "HTTPConnectionPool(host='flopopeeps.fp', port=80): Max retries exceeded with url: / (Caused by NewConnectionError('<urllib3.connection.HTTPConnection object at 0x7fc5f5d65520>: Failed to establish a new connection: [Errno -2] Name or service not known')) http://flopopeeps.fp\n",
      "200 http://librdf.org/raptor/\n",
      "200 http://www.olemiss.edu/depts/general_library/archives/finding_aids/MUM00595.html\n",
      "HTTPConnectionPool(host='newt.oerc.ox.ac.uk', port=80): Max retries exceeded with url: /isatab/soapdenovo2/ (Caused by NewConnectionError('<urllib3.connection.HTTPConnection object at 0x7fc5fa44ae50>: Failed to establish a new connection: [Errno 111] Connection refused')) http://newt.oerc.ox.ac.uk/isatab/soapdenovo2/\n",
      "HTTPConnectionPool(host='spacepol.aero', port=80): Max retries exceeded with url: / (Caused by NewConnectionError('<urllib3.connection.HTTPConnection object at 0x7fc5f5d42700>: Failed to establish a new connection: [Errno -2] Name or service not known')) http://www.spacepol.ca/\n",
      "200 http://www.olemiss.edu/depts/general_library/archives/finding_aids/MUM00427.html\n",
      "200 http://marblehorse.sourceforge.net\n",
      "200 http://www.worldbank.org/html/dec/Publications/Workpapers/wps2000series/wps2233/wps2233-abstract.html\n",
      "404 http://www.olemiss.edu/depts/general_library/archives/finding_aids/MUM00946.html\n",
      "404 http://www.xs4all.nl/~pilger/ber/\n",
      "404 http://www.un.org/Depts/dhl/me_water.htm\n",
      "404 http://155.133.131.171:8080/MappingWS/fromOmim\n",
      "HTTPConnectionPool(host='gowest.coalliance.org', port=80): Max retries exceeded with url: /cgi-bin/imager?10022634 (Caused by NewConnectionError('<urllib3.connection.HTTPConnection object at 0x7fc5f5d42d30>: Failed to establish a new connection: [Errno -2] Name or service not known')) http://gowest.coalliance.org/cgi-bin/imager?10022634\n",
      "HTTPConnectionPool(host='gowest.coalliance.org', port=80): Max retries exceeded with url: /cgi-bin/imager?10021274 (Caused by NewConnectionError('<urllib3.connection.HTTPConnection object at 0x7fc5f5d426d0>: Failed to establish a new connection: [Errno -2] Name or service not known')) http://gowest.coalliance.org/cgi-bin/imager?10021274\n",
      "200 https://github.com/sburden/allerton2013\n",
      "404 http://www.olemiss.edu/depts/general_library/files/archives/collections/guides/latesthtml/MUM00060.html\n",
      "404 http://www.olemiss.edu/depts/general_library/archives/finding_aids/MUM01445.html\n",
      "200 http://cutter.com/osir/fulltext/\n",
      "404 http://purl.org/net/fyp/try/sport.owl\n",
      "404 http://aliciacalvo.com/data/totOkXML.owl\n",
      "404 http://obi.svn.sourceforge.net/svnroot/obi/releases/2011-04-20/merged/merged-obi-comments.owl\n",
      "200 https://glyconnect.expasy.org/browser/proteins\n",
      "404 http://www.clever.net/cyrillica/qub/\n",
      "200 http://taiwan.yam.org.tw/womenweb/health.htm\n",
      "HTTPConnectionPool(host='webdoc.lhl.mo.us', port=80): Max retries exceeded with url: /aiche99/99an197b.pdf (Caused by NewConnectionError('<urllib3.connection.HTTPConnection object at 0x7fc5f5d42a90>: Failed to establish a new connection: [Errno -2] Name or service not known')) http://webdoc.lhl.mo.us/aiche99/99an197b.pdf\n",
      "200 http://www.olemiss.edu/depts/general_library/archives/finding_aids/MUM00599.html\n",
      "HTTPConnectionPool(host='webdoc.lhl.mo.us', port=80): Max retries exceeded with url: /aiche99/99an140d.pdf (Caused by NewConnectionError('<urllib3.connection.HTTPConnection object at 0x7fc5f5d42400>: Failed to establish a new connection: [Errno -2] Name or service not known')) http://webdoc.lhl.mo.us/aiche99/99an140d.pdf\n",
      "404 http://www.vnet.es/motril/\n",
      "HTTPConnectionPool(host='gowest.coalliance.org', port=80): Max retries exceeded with url: /cgi-bin/imager?10021422 (Caused by NewConnectionError('<urllib3.connection.HTTPConnection object at 0x7fc5fa44a0d0>: Failed to establish a new connection: [Errno -2] Name or service not known')) http://gowest.coalliance.org/cgi-bin/imager?10021422\n",
      "200 http://www.ext.nodak.edu/extpubs/plantsci/weeds/w1183w.htm\n",
      "HTTPConnectionPool(host='gowest.coalliance.org', port=80): Max retries exceeded with url: /cgi-bin/imager?20031610 (Caused by NewConnectionError('<urllib3.connection.HTTPConnection object at 0x7fc5f5d5b700>: Failed to establish a new connection: [Errno -2] Name or service not known')) http://gowest.coalliance.org/cgi-bin/imager?20031610\n",
      "404 http://manipal.org/net/raghavendra_web\n",
      "HTTPConnectionPool(host='gowest.coalliance.org', port=80): Max retries exceeded with url: /cgi-bin/imager?20031883 (Caused by NewConnectionError('<urllib3.connection.HTTPConnection object at 0x7fc5f5d5b6d0>: Failed to establish a new connection: [Errno -2] Name or service not known')) http://gowest.coalliance.org/cgi-bin/imager?20031883\n",
      "200 http://www.worldbank.org/html/dec/Publications/Workpapers/wps2000series/wps2239/wps2239-abstract.html\n",
      "HTTPConnectionPool(host='gowest.coalliance.org', port=80): Max retries exceeded with url: /cgi-bin/imager?10021303 (Caused by NewConnectionError('<urllib3.connection.HTTPConnection object at 0x7fc5f5d5ad00>: Failed to establish a new connection: [Errno -2] Name or service not known')) http://gowest.coalliance.org/cgi-bin/imager?10021303\n",
      "503 http://www.interscience.wiley.com/jpages/0885-6230/\n",
      "403 http://www.kitlv.nl/doc-online/testonline1.pdf\n",
      "200 http://www.helsinginsanomat.fi\n",
      "HTTPConnectionPool(host='www.access.gpo.gov', port=80): Max retries exceeded with url: /su_docs/gils/gils.html (Caused by ConnectTimeoutError(<urllib3.connection.HTTPConnection object at 0x7fc5f5d65e80>, 'Connection to www.access.gpo.gov timed out. (connect timeout=10)')) http://www.access.gpo.gov/su%5Fdocs/gils/gils.html\n",
      "200 http://www.acm.org/pubs/contents/proceedings/simulation/306902/\n",
      "HTTPConnectionPool(host='libwww.syr.edu', port=80): Max retries exceeded with url: /information/media/archive/main.htm (Caused by NewConnectionError('<urllib3.connection.HTTPConnection object at 0x7fc5f5d5b160>: Failed to establish a new connection: [Errno -2] Name or service not known')) http://libwww.syr.edu/information/media/archive/main.htm\n",
      "HTTPConnectionPool(host='gowest.coalliance.org', port=80): Max retries exceeded with url: /cgi-bin/imager?10022318 (Caused by NewConnectionError('<urllib3.connection.HTTPConnection object at 0x7fc5f5d5b6d0>: Failed to establish a new connection: [Errno -2] Name or service not known')) http://gowest.coalliance.org/cgi-bin/imager?10022318\n",
      "200 https://github.com/tetherless-world/education-standards-ontology/blob/master/ont/eso.ttl\n",
      "200 https://raw.githubusercontent.com/openrif/contributor-role-ontology/master/src/ontology/cro-edit.owl\n",
      "Invalid URL '': No schema supplied. Perhaps you meant http://? \n",
      "200 http://catalogo.bnportugal.pt/ipac20/ipac.jsp?profile=bn&uri=full=3100024~!619~!0\n",
      "200 http://www.letrs.indiana.edu/swinburne/xml/sbsyears00.xml\n",
      "404 http://olis.net.au/~franksc/\n",
      "404 https://brunodujardin.dscloud.biz/AdP\n",
      "HTTPConnectionPool(host='gowest.coalliance.org', port=80): Max retries exceeded with url: /cgi-bin/imager?10021063 (Caused by NewConnectionError('<urllib3.connection.HTTPConnection object at 0x7fc5f5d5b730>: Failed to establish a new connection: [Errno -2] Name or service not known')) http://gowest.coalliance.org/cgi-bin/imager?10021063\n",
      "200 https://cl.ly/607445/20190607-Nishad_Presentation_Metadata-Archives_v031.pdf\n",
      "404 http://www.ling.osu.edu/~kbaker/data\n",
      "Invalid URL '': No schema supplied. Perhaps you meant http://? \n",
      "HTTPConnectionPool(host='gowest.coalliance.org', port=80): Max retries exceeded with url: /cgi-bin/imager?10022473 (Caused by NewConnectionError('<urllib3.connection.HTTPConnection object at 0x7fc5f5d5be20>: Failed to establish a new connection: [Errno -2] Name or service not known')) http://gowest.coalliance.org/cgi-bin/imager?10022473\n",
      "200 https://ceus.ucacue.edu.ec/index.php/ceus\n",
      "200 http://ProfScholz.de\n",
      "200 https://cdn.biblioteca.ims.com.br/fotoptica/1972/revista/publicacao58/\n",
      "404 http://www.maths.mq.edu.au/~steffen/Alpha/AlphaX/\n",
      "200 http://trojczak.pl/about/me\n",
      "200 http://www.acm.org/pubs/contents/proceedings/simulation/99633/\n",
      "200 http://www.aidsinfonyc.org/hivplus/index.html\n",
      "200 http://wwwlib.umi.com/cr/utexas/main\n",
      "HTTPConnectionPool(host='gowest.coalliance.org', port=80): Max retries exceeded with url: /cgi-bin/imager?20031743 (Caused by NewConnectionError('<urllib3.connection.HTTPConnection object at 0x7fc5f5d5b970>: Failed to establish a new connection: [Errno -2] Name or service not known')) http://gowest.coalliance.org/cgi-bin/imager?20031743\n",
      "404 http://www.olemiss.edu/depts/general_library/archives/finding_aids/MUM01568.html\n",
      "200 http://B4mad.Net/\n",
      "HTTPConnectionPool(host='thoth.sbs.ohio-state.edu', port=80): Max retries exceeded with url: /HyperNews/get/aaggis.html (Caused by ConnectTimeoutError(<urllib3.connection.HTTPConnection object at 0x7fc5f5d5b3d0>, 'Connection to thoth.sbs.ohio-state.edu timed out. (connect timeout=10)')) http://thoth.sbs.ohio-state.edu/HyperNews/get/aaggis.html\n",
      "404 http://www3.nd.edu/~qzhi/\n",
      "404 http://www.olemiss.edu/depts/general_library/archives/finding_aids/MUM01247.html\n",
      "200 http://Countylibrary.Marin.org/crm/crmindex.html\n",
      "HTTPSConnectionPool(host='jarrettpoto.com', port=443): Max retries exceeded with url: / (Caused by NewConnectionError('<urllib3.connection.HTTPSConnection object at 0x7fc5fa44a910>: Failed to establish a new connection: [Errno -3] Temporary failure in name resolution')) https://jarrettpoto.com\n",
      "Exceeded 30 redirects. http://purl.org/trivialpedia\n",
      "HTTPConnectionPool(host='gowest.coalliance.org', port=80): Max retries exceeded with url: /cgi-bin/imager?0019517 (Caused by NewConnectionError('<urllib3.connection.HTTPConnection object at 0x7fc5fb2bcbb0>: Failed to establish a new connection: [Errno -2] Name or service not known')) http://gowest.coalliance.org/cgi-bin/imager?0019517\n",
      "404 http://www.diglib.org/pubs/dlf100/index.htm\n",
      "404 http://www.i-rip.com/Noah/Massachusetts/\n",
      "HTTPConnectionPool(host='gowest.coalliance.org', port=80): Max retries exceeded with url: /cgi-bin/imager?20031885 (Caused by NewConnectionError('<urllib3.connection.HTTPConnection object at 0x7fc5fb2bcfa0>: Failed to establish a new connection: [Errno -2] Name or service not known')) http://gowest.coalliance.org/cgi-bin/imager?20031885\n",
      "404 http://protares-ontology.googlecode.com/svn/v1/protares/\n",
      "HTTPConnectionPool(host='www.wla.lib.wi.us', port=80): Max retries exceeded with url: /waal/ (Caused by ConnectTimeoutError(<urllib3.connection.HTTPConnection object at 0x7fc5fb2bc190>, 'Connection to www.wla.lib.wi.us timed out. (connect timeout=10)')) http://www.wla.lib.wi.us/waal/\n",
      "HTTPConnectionPool(host='gowest.coalliance.org', port=80): Max retries exceeded with url: /cgi-bin/imager?10021256 (Caused by NewConnectionError('<urllib3.connection.HTTPConnection object at 0x7fc5f4eba1c0>: Failed to establish a new connection: [Errno -2] Name or service not known')) http://gowest.coalliance.org/cgi-bin/imager?10021256\n",
      "HTTPConnectionPool(host='gowest.coalliance.org', port=80): Max retries exceeded with url: /cgi-bin/imager?10022501 (Caused by NewConnectionError('<urllib3.connection.HTTPConnection object at 0x7fc5f976c7c0>: Failed to establish a new connection: [Errno -2] Name or service not known')) http://gowest.coalliance.org/cgi-bin/imager?10022501\n",
      "200 http://windsurf.mediaforte.com/\n",
      "HTTPConnectionPool(host='webdoc.lhl.mo.us', port=80): Max retries exceeded with url: /aiche99/99an221b.pdf (Caused by NewConnectionError('<urllib3.connection.HTTPConnection object at 0x7fc5f4eba2b0>: Failed to establish a new connection: [Errno -2] Name or service not known')) http://webdoc.lhl.mo.us/aiche99/99an221b.pdf\n",
      "HTTPConnectionPool(host='ishare.infineon.com', port=80): Max retries exceeded with url: /sites/SC_CH/Shared%20Documents/pizza.owl (Caused by NewConnectionError('<urllib3.connection.HTTPConnection object at 0x7fc5f4eba4f0>: Failed to establish a new connection: [Errno -2] Name or service not known')) http://ishare.infineon.com/sites/SC_CH/Shared%20Documents/pizza.owl\n",
      "Invalid URL '': No schema supplied. Perhaps you meant http://? \n",
      "200 http://www.free-culture.cc/notes/43.pdf\n",
      "HTTPConnectionPool(host='gowest.coalliance.org', port=80): Max retries exceeded with url: /cgi-bin/imager?10021242 (Caused by NewConnectionError('<urllib3.connection.HTTPConnection object at 0x7fc5f4eba0a0>: Failed to establish a new connection: [Errno -2] Name or service not known')) http://gowest.coalliance.org/cgi-bin/imager?10021242\n",
      "HTTPConnectionPool(host='webdoc.lhl.mo.us', port=80): Max retries exceeded with url: /aiche99/99an168a.pdf (Caused by NewConnectionError('<urllib3.connection.HTTPConnection object at 0x7fc5fb2bcaf0>: Failed to establish a new connection: [Errno -2] Name or service not known')) http://webdoc.lhl.mo.us/aiche99/99an168a.pdf\n",
      "Invalid URL 'None': No schema supplied. Perhaps you meant http://None? None\n",
      "999 http://www.manuel-merz.de\n",
      "HTTPConnectionPool(host='ubs-archives.org', port=80): Max retries exceeded with url: /metadata/dcterms-ubs.rdf (Caused by NewConnectionError('<urllib3.connection.HTTPConnection object at 0x7fc5f3c85a30>: Failed to establish a new connection: [Errno -5] No address associated with hostname')) http://ubs-archives.org/metadata/dcterms-ubs.rdf#scriptureScope\n",
      "200 http://lcweb2.loc.gov/pp/fsacquery.html\n",
      "200 https://cnn.com\n",
      "404 http://www.olemiss.edu/depts/general_library/archives/finding_aids/MUM01149.html\n",
      "HTTPConnectionPool(host='gowest.coalliance.org', port=80): Max retries exceeded with url: /cgi-bin/imager?10019471 (Caused by NewConnectionError('<urllib3.connection.HTTPConnection object at 0x7fc5f3c850a0>: Failed to establish a new connection: [Errno -2] Name or service not known')) http://gowest.coalliance.org/cgi-bin/imager?10019471\n",
      "HTTPConnectionPool(host='gowest.coalliance.org', port=80): Max retries exceeded with url: /cgi-bin/imager?10022843 (Caused by NewConnectionError('<urllib3.connection.HTTPConnection object at 0x7fc5f3c851f0>: Failed to establish a new connection: [Errno -2] Name or service not known')) http://gowest.coalliance.org/cgi-bin/imager?10022843\n",
      "404 http://www.vnet.es/motril/\n",
      "404 http://cpcug.org/user/jelks/\n",
      "HTTPConnectionPool(host='documents.dcr.state.nc.us', port=80): Max retries exceeded with url: / (Caused by ConnectTimeoutError(<urllib3.connection.HTTPConnection object at 0x7fc5f976c970>, 'Connection to documents.dcr.state.nc.us timed out. (connect timeout=10)')) http://documents.dcr.state.nc.us/\n",
      "200 https://www.federicopolito.it\n",
      "HTTPConnectionPool(host='topsiteforyou.com', port=80): Max retries exceeded with url: /form (Caused by NewConnectionError('<urllib3.connection.HTTPConnection object at 0x7fc5f3ca6910>: Failed to establish a new connection: [Errno -2] Name or service not known')) http://topsiteforyou.com/form\n",
      "HTTPConnectionPool(host='www.german-digital-group.de', port=80): Max retries exceeded with url: /rnd/ (Caused by ConnectTimeoutError(<urllib3.connection.HTTPConnection object at 0x7fc5f3ca6fd0>, 'Connection to www.german-digital-group.de timed out. (connect timeout=10)')) http://www.german-digital-group.de/rnd/\n",
      "200 http://www.learningfrontiers.eu/\n",
      "200 https://github.com/mukil/dmx-classifications\n",
      "HTTPConnectionPool(host='gowest.coalliance.org', port=80): Max retries exceeded with url: /cgi-bin/imager?10022782 (Caused by NewConnectionError('<urllib3.connection.HTTPConnection object at 0x7fc5f48f2b50>: Failed to establish a new connection: [Errno -2] Name or service not known')) http://gowest.coalliance.org/cgi-bin/imager?10022782\n",
      "200 http://purl.access.gpo.gov/GPO/LPS3738\n",
      "406 http://ontodm.com\n",
      "Invalid URL 'None': No schema supplied. Perhaps you meant http://None? None\n",
      "200 http://www.sumerian.com\n",
      "404 http://www.indiana.edu/~libarch/Inst/026inst.html\n",
      "404 http://www.olemiss.edu/depts/general_library/archives/finding_aids/MUM01125.html\n",
      "404 http://example.org/1\n",
      "200 http://www.letrs.indiana.edu/swinburne/xml/pb1rndla00.xml\n",
      "200 https://www.dropbox.com/s/0u6jp6gjo84zgng/A31_C01_A_Data-driven_Approach_for_Real-Time_Clothes_Simulation.ttl?dl=0\n",
      "404 http://www.mtholyoke.edu/offices/library/arch/col/ms0718r.htm\n",
      "200 http://www.netlibrary.com/summary.asp?ID=4661\n",
      "404 http://www.olemiss.edu/depts/general_library/archives/finding_aids/MUM00141.html\n",
      "404 http://metalab.unc.edu/docsouth/fowler/fowler.html\n",
      "404 http://jppeka.bay.livefilestore.com/y1pfz337fZxxMK2we36iZLHOfuCZRTXp3udrlMIio6pOqGJXYMtRofwUvvtsaIeraabP0nxEi_tPtUxnv8YSLGtBw/ring-air%20waves.mp3?download\n",
      "200 https://www.ualberta.ca/~lijiangn/bcc/\n",
      "404 https://raw.githubusercontent.com/saidfathalla/EVENTS-Ontology/master/EVENTS.owl\n",
      "200 http://www.economist.com/opinion/displayStory.cfm?story_id=1547223\n",
      "404 http://www.fas.harvard.edu/%7Epluralsm/\n",
      "200 http://www.letrs.indiana.edu/swinburne/txt/pb1yearl00.txt\n",
      "200 http://www.netlibrary.com/summary.asp?ID=9872\n",
      "HTTPConnectionPool(host='webdoc.lhl.mo.us', port=80): Max retries exceeded with url: /aiche99/99an185d.pdf (Caused by NewConnectionError('<urllib3.connection.HTTPConnection object at 0x7fc5fb2bbb20>: Failed to establish a new connection: [Errno -2] Name or service not known')) http://webdoc.lhl.mo.us/aiche99/99an185d.pdf\n",
      "200 http://obi-ontology.org\n",
      "('Connection aborted.', RemoteDisconnected('Remote end closed connection without response')) https://sci.pe\n",
      "HTTPConnectionPool(host='www.mediasanto.com', port=80): Max retries exceeded with url: /cboxserver/cbs?isan=scojdk&isbn=944196e38c0d1edf8557d4f9a3340155&folder=scojdk&tablecontent=mycontent (Caused by NewConnectionError('<urllib3.connection.HTTPConnection object at 0x7fc5f5d62940>: Failed to establish a new connection: [Errno -2] Name or service not known')) http://www.mediasanto.com/cboxserver/cbs?isan=scojdk&isbn=944196e38c0d1edf8557d4f9a3340155&folder=scojdk&tablecontent=mycontent\n",
      "404 http://my.yoolib.com/ad24/?p=4338\n",
      "200 http://www.olemiss.edu/depts/general_library/archives/finding_aids/MUM00580.html\n"
     ]
    }
   ],
   "source": [
    "ns_sample['status_code'] = ns_sample['sample_url'].apply(status_code)"
   ]
  },
  {
   "cell_type": "markdown",
   "metadata": {},
   "source": [
    "Even here we can see oversampling of some domains like  `www.olemiss.edu`. I guess they are creating multiple PURL namespaces for things?"
   ]
  },
  {
   "cell_type": "code",
   "execution_count": 127,
   "metadata": {},
   "outputs": [
    {
     "data": {
      "text/plain": [
       "status_code\n",
       "NaN    262\n",
       "200    236\n",
       "404    123\n",
       "403     11\n",
       "503      4\n",
       "406      3\n",
       "400      2\n",
       "999      2\n",
       "401      1\n",
       "???      1\n",
       "dtype: int64"
      ]
     },
     "execution_count": 127,
     "metadata": {},
     "output_type": "execute_result"
    }
   ],
   "source": [
    "s = ns_sample.value_counts('status_code', dropna=False)\n",
    "s"
   ]
  },
  {
   "cell_type": "code",
   "execution_count": 133,
   "metadata": {},
   "outputs": [
    {
     "data": {
      "application/vnd.plotly.v1+json": {
       "config": {
        "plotlyServerURL": "https://plot.ly"
       },
       "data": [
        {
         "hole": 0.3,
         "labels": [
          "???",
          "200",
          "404",
          "403",
          "503",
          "406",
          "400",
          "999",
          "401",
          "???"
         ],
         "textinfo": "label+percent",
         "type": "pie",
         "values": [
          262,
          236,
          123,
          11,
          4,
          3,
          2,
          2,
          1,
          1
         ]
        }
       ],
       "layout": {
        "autosize": true,
        "showlegend": false,
        "template": {
         "data": {
          "bar": [
           {
            "error_x": {
             "color": "#2a3f5f"
            },
            "error_y": {
             "color": "#2a3f5f"
            },
            "marker": {
             "line": {
              "color": "#E5ECF6",
              "width": 0.5
             },
             "pattern": {
              "fillmode": "overlay",
              "size": 10,
              "solidity": 0.2
             }
            },
            "type": "bar"
           }
          ],
          "barpolar": [
           {
            "marker": {
             "line": {
              "color": "#E5ECF6",
              "width": 0.5
             },
             "pattern": {
              "fillmode": "overlay",
              "size": 10,
              "solidity": 0.2
             }
            },
            "type": "barpolar"
           }
          ],
          "carpet": [
           {
            "aaxis": {
             "endlinecolor": "#2a3f5f",
             "gridcolor": "white",
             "linecolor": "white",
             "minorgridcolor": "white",
             "startlinecolor": "#2a3f5f"
            },
            "baxis": {
             "endlinecolor": "#2a3f5f",
             "gridcolor": "white",
             "linecolor": "white",
             "minorgridcolor": "white",
             "startlinecolor": "#2a3f5f"
            },
            "type": "carpet"
           }
          ],
          "choropleth": [
           {
            "colorbar": {
             "outlinewidth": 0,
             "ticks": ""
            },
            "type": "choropleth"
           }
          ],
          "contour": [
           {
            "colorbar": {
             "outlinewidth": 0,
             "ticks": ""
            },
            "colorscale": [
             [
              0,
              "#0d0887"
             ],
             [
              0.1111111111111111,
              "#46039f"
             ],
             [
              0.2222222222222222,
              "#7201a8"
             ],
             [
              0.3333333333333333,
              "#9c179e"
             ],
             [
              0.4444444444444444,
              "#bd3786"
             ],
             [
              0.5555555555555556,
              "#d8576b"
             ],
             [
              0.6666666666666666,
              "#ed7953"
             ],
             [
              0.7777777777777778,
              "#fb9f3a"
             ],
             [
              0.8888888888888888,
              "#fdca26"
             ],
             [
              1,
              "#f0f921"
             ]
            ],
            "type": "contour"
           }
          ],
          "contourcarpet": [
           {
            "colorbar": {
             "outlinewidth": 0,
             "ticks": ""
            },
            "type": "contourcarpet"
           }
          ],
          "heatmap": [
           {
            "colorbar": {
             "outlinewidth": 0,
             "ticks": ""
            },
            "colorscale": [
             [
              0,
              "#0d0887"
             ],
             [
              0.1111111111111111,
              "#46039f"
             ],
             [
              0.2222222222222222,
              "#7201a8"
             ],
             [
              0.3333333333333333,
              "#9c179e"
             ],
             [
              0.4444444444444444,
              "#bd3786"
             ],
             [
              0.5555555555555556,
              "#d8576b"
             ],
             [
              0.6666666666666666,
              "#ed7953"
             ],
             [
              0.7777777777777778,
              "#fb9f3a"
             ],
             [
              0.8888888888888888,
              "#fdca26"
             ],
             [
              1,
              "#f0f921"
             ]
            ],
            "type": "heatmap"
           }
          ],
          "heatmapgl": [
           {
            "colorbar": {
             "outlinewidth": 0,
             "ticks": ""
            },
            "colorscale": [
             [
              0,
              "#0d0887"
             ],
             [
              0.1111111111111111,
              "#46039f"
             ],
             [
              0.2222222222222222,
              "#7201a8"
             ],
             [
              0.3333333333333333,
              "#9c179e"
             ],
             [
              0.4444444444444444,
              "#bd3786"
             ],
             [
              0.5555555555555556,
              "#d8576b"
             ],
             [
              0.6666666666666666,
              "#ed7953"
             ],
             [
              0.7777777777777778,
              "#fb9f3a"
             ],
             [
              0.8888888888888888,
              "#fdca26"
             ],
             [
              1,
              "#f0f921"
             ]
            ],
            "type": "heatmapgl"
           }
          ],
          "histogram": [
           {
            "marker": {
             "pattern": {
              "fillmode": "overlay",
              "size": 10,
              "solidity": 0.2
             }
            },
            "type": "histogram"
           }
          ],
          "histogram2d": [
           {
            "colorbar": {
             "outlinewidth": 0,
             "ticks": ""
            },
            "colorscale": [
             [
              0,
              "#0d0887"
             ],
             [
              0.1111111111111111,
              "#46039f"
             ],
             [
              0.2222222222222222,
              "#7201a8"
             ],
             [
              0.3333333333333333,
              "#9c179e"
             ],
             [
              0.4444444444444444,
              "#bd3786"
             ],
             [
              0.5555555555555556,
              "#d8576b"
             ],
             [
              0.6666666666666666,
              "#ed7953"
             ],
             [
              0.7777777777777778,
              "#fb9f3a"
             ],
             [
              0.8888888888888888,
              "#fdca26"
             ],
             [
              1,
              "#f0f921"
             ]
            ],
            "type": "histogram2d"
           }
          ],
          "histogram2dcontour": [
           {
            "colorbar": {
             "outlinewidth": 0,
             "ticks": ""
            },
            "colorscale": [
             [
              0,
              "#0d0887"
             ],
             [
              0.1111111111111111,
              "#46039f"
             ],
             [
              0.2222222222222222,
              "#7201a8"
             ],
             [
              0.3333333333333333,
              "#9c179e"
             ],
             [
              0.4444444444444444,
              "#bd3786"
             ],
             [
              0.5555555555555556,
              "#d8576b"
             ],
             [
              0.6666666666666666,
              "#ed7953"
             ],
             [
              0.7777777777777778,
              "#fb9f3a"
             ],
             [
              0.8888888888888888,
              "#fdca26"
             ],
             [
              1,
              "#f0f921"
             ]
            ],
            "type": "histogram2dcontour"
           }
          ],
          "mesh3d": [
           {
            "colorbar": {
             "outlinewidth": 0,
             "ticks": ""
            },
            "type": "mesh3d"
           }
          ],
          "parcoords": [
           {
            "line": {
             "colorbar": {
              "outlinewidth": 0,
              "ticks": ""
             }
            },
            "type": "parcoords"
           }
          ],
          "pie": [
           {
            "automargin": true,
            "type": "pie"
           }
          ],
          "scatter": [
           {
            "marker": {
             "colorbar": {
              "outlinewidth": 0,
              "ticks": ""
             }
            },
            "type": "scatter"
           }
          ],
          "scatter3d": [
           {
            "line": {
             "colorbar": {
              "outlinewidth": 0,
              "ticks": ""
             }
            },
            "marker": {
             "colorbar": {
              "outlinewidth": 0,
              "ticks": ""
             }
            },
            "type": "scatter3d"
           }
          ],
          "scattercarpet": [
           {
            "marker": {
             "colorbar": {
              "outlinewidth": 0,
              "ticks": ""
             }
            },
            "type": "scattercarpet"
           }
          ],
          "scattergeo": [
           {
            "marker": {
             "colorbar": {
              "outlinewidth": 0,
              "ticks": ""
             }
            },
            "type": "scattergeo"
           }
          ],
          "scattergl": [
           {
            "marker": {
             "colorbar": {
              "outlinewidth": 0,
              "ticks": ""
             }
            },
            "type": "scattergl"
           }
          ],
          "scattermapbox": [
           {
            "marker": {
             "colorbar": {
              "outlinewidth": 0,
              "ticks": ""
             }
            },
            "type": "scattermapbox"
           }
          ],
          "scatterpolar": [
           {
            "marker": {
             "colorbar": {
              "outlinewidth": 0,
              "ticks": ""
             }
            },
            "type": "scatterpolar"
           }
          ],
          "scatterpolargl": [
           {
            "marker": {
             "colorbar": {
              "outlinewidth": 0,
              "ticks": ""
             }
            },
            "type": "scatterpolargl"
           }
          ],
          "scatterternary": [
           {
            "marker": {
             "colorbar": {
              "outlinewidth": 0,
              "ticks": ""
             }
            },
            "type": "scatterternary"
           }
          ],
          "surface": [
           {
            "colorbar": {
             "outlinewidth": 0,
             "ticks": ""
            },
            "colorscale": [
             [
              0,
              "#0d0887"
             ],
             [
              0.1111111111111111,
              "#46039f"
             ],
             [
              0.2222222222222222,
              "#7201a8"
             ],
             [
              0.3333333333333333,
              "#9c179e"
             ],
             [
              0.4444444444444444,
              "#bd3786"
             ],
             [
              0.5555555555555556,
              "#d8576b"
             ],
             [
              0.6666666666666666,
              "#ed7953"
             ],
             [
              0.7777777777777778,
              "#fb9f3a"
             ],
             [
              0.8888888888888888,
              "#fdca26"
             ],
             [
              1,
              "#f0f921"
             ]
            ],
            "type": "surface"
           }
          ],
          "table": [
           {
            "cells": {
             "fill": {
              "color": "#EBF0F8"
             },
             "line": {
              "color": "white"
             }
            },
            "header": {
             "fill": {
              "color": "#C8D4E3"
             },
             "line": {
              "color": "white"
             }
            },
            "type": "table"
           }
          ]
         },
         "layout": {
          "annotationdefaults": {
           "arrowcolor": "#2a3f5f",
           "arrowhead": 0,
           "arrowwidth": 1
          },
          "autotypenumbers": "strict",
          "coloraxis": {
           "colorbar": {
            "outlinewidth": 0,
            "ticks": ""
           }
          },
          "colorscale": {
           "diverging": [
            [
             0,
             "#8e0152"
            ],
            [
             0.1,
             "#c51b7d"
            ],
            [
             0.2,
             "#de77ae"
            ],
            [
             0.3,
             "#f1b6da"
            ],
            [
             0.4,
             "#fde0ef"
            ],
            [
             0.5,
             "#f7f7f7"
            ],
            [
             0.6,
             "#e6f5d0"
            ],
            [
             0.7,
             "#b8e186"
            ],
            [
             0.8,
             "#7fbc41"
            ],
            [
             0.9,
             "#4d9221"
            ],
            [
             1,
             "#276419"
            ]
           ],
           "sequential": [
            [
             0,
             "#0d0887"
            ],
            [
             0.1111111111111111,
             "#46039f"
            ],
            [
             0.2222222222222222,
             "#7201a8"
            ],
            [
             0.3333333333333333,
             "#9c179e"
            ],
            [
             0.4444444444444444,
             "#bd3786"
            ],
            [
             0.5555555555555556,
             "#d8576b"
            ],
            [
             0.6666666666666666,
             "#ed7953"
            ],
            [
             0.7777777777777778,
             "#fb9f3a"
            ],
            [
             0.8888888888888888,
             "#fdca26"
            ],
            [
             1,
             "#f0f921"
            ]
           ],
           "sequentialminus": [
            [
             0,
             "#0d0887"
            ],
            [
             0.1111111111111111,
             "#46039f"
            ],
            [
             0.2222222222222222,
             "#7201a8"
            ],
            [
             0.3333333333333333,
             "#9c179e"
            ],
            [
             0.4444444444444444,
             "#bd3786"
            ],
            [
             0.5555555555555556,
             "#d8576b"
            ],
            [
             0.6666666666666666,
             "#ed7953"
            ],
            [
             0.7777777777777778,
             "#fb9f3a"
            ],
            [
             0.8888888888888888,
             "#fdca26"
            ],
            [
             1,
             "#f0f921"
            ]
           ]
          },
          "colorway": [
           "#636efa",
           "#EF553B",
           "#00cc96",
           "#ab63fa",
           "#FFA15A",
           "#19d3f3",
           "#FF6692",
           "#B6E880",
           "#FF97FF",
           "#FECB52"
          ],
          "font": {
           "color": "#2a3f5f"
          },
          "geo": {
           "bgcolor": "white",
           "lakecolor": "white",
           "landcolor": "#E5ECF6",
           "showlakes": true,
           "showland": true,
           "subunitcolor": "white"
          },
          "hoverlabel": {
           "align": "left"
          },
          "hovermode": "closest",
          "mapbox": {
           "style": "light"
          },
          "paper_bgcolor": "white",
          "plot_bgcolor": "#E5ECF6",
          "polar": {
           "angularaxis": {
            "gridcolor": "white",
            "linecolor": "white",
            "ticks": ""
           },
           "bgcolor": "#E5ECF6",
           "radialaxis": {
            "gridcolor": "white",
            "linecolor": "white",
            "ticks": ""
           }
          },
          "scene": {
           "xaxis": {
            "backgroundcolor": "#E5ECF6",
            "gridcolor": "white",
            "gridwidth": 2,
            "linecolor": "white",
            "showbackground": true,
            "ticks": "",
            "zerolinecolor": "white"
           },
           "yaxis": {
            "backgroundcolor": "#E5ECF6",
            "gridcolor": "white",
            "gridwidth": 2,
            "linecolor": "white",
            "showbackground": true,
            "ticks": "",
            "zerolinecolor": "white"
           },
           "zaxis": {
            "backgroundcolor": "#E5ECF6",
            "gridcolor": "white",
            "gridwidth": 2,
            "linecolor": "white",
            "showbackground": true,
            "ticks": "",
            "zerolinecolor": "white"
           }
          },
          "shapedefaults": {
           "line": {
            "color": "#2a3f5f"
           }
          },
          "ternary": {
           "aaxis": {
            "gridcolor": "white",
            "linecolor": "white",
            "ticks": ""
           },
           "baxis": {
            "gridcolor": "white",
            "linecolor": "white",
            "ticks": ""
           },
           "bgcolor": "#E5ECF6",
           "caxis": {
            "gridcolor": "white",
            "linecolor": "white",
            "ticks": ""
           }
          },
          "title": {
           "x": 0.05
          },
          "xaxis": {
           "automargin": true,
           "gridcolor": "white",
           "linecolor": "white",
           "ticks": "",
           "title": {
            "standoff": 15
           },
           "zerolinecolor": "white",
           "zerolinewidth": 2
          },
          "yaxis": {
           "automargin": true,
           "gridcolor": "white",
           "linecolor": "white",
           "ticks": "",
           "title": {
            "standoff": 15
           },
           "zerolinecolor": "white",
           "zerolinewidth": 2
          }
         }
        },
        "title": {
         "text": "Sampled PURL HTTP Status Codes"
        }
       }
      },
      "image/png": "[encoded data removed]",
      "text/html": [
       "<div>                            <div id=\"59f9e49a-e940-4a21-b93a-d46a7be8b634\" class=\"plotly-graph-div\" style=\"height:700px; width:100%;\"></div>            <script type=\"text/javascript\">                require([\"plotly\"], function(Plotly) {                    window.PLOTLYENV=window.PLOTLYENV || {};                                    if (document.getElementById(\"59f9e49a-e940-4a21-b93a-d46a7be8b634\")) {                    Plotly.newPlot(                        \"59f9e49a-e940-4a21-b93a-d46a7be8b634\",                        [{\"hole\":0.3,\"labels\":[\"???\",\"200\",\"404\",\"403\",\"503\",\"406\",\"400\",\"999\",\"401\",\"???\"],\"textinfo\":\"label+percent\",\"values\":[262,236,123,11,4,3,2,2,1,1],\"type\":\"pie\"}],                        {\"template\":{\"data\":{\"bar\":[{\"error_x\":{\"color\":\"#2a3f5f\"},\"error_y\":{\"color\":\"#2a3f5f\"},\"marker\":{\"line\":{\"color\":\"#E5ECF6\",\"width\":0.5},\"pattern\":{\"fillmode\":\"overlay\",\"size\":10,\"solidity\":0.2}},\"type\":\"bar\"}],\"barpolar\":[{\"marker\":{\"line\":{\"color\":\"#E5ECF6\",\"width\":0.5},\"pattern\":{\"fillmode\":\"overlay\",\"size\":10,\"solidity\":0.2}},\"type\":\"barpolar\"}],\"carpet\":[{\"aaxis\":{\"endlinecolor\":\"#2a3f5f\",\"gridcolor\":\"white\",\"linecolor\":\"white\",\"minorgridcolor\":\"white\",\"startlinecolor\":\"#2a3f5f\"},\"baxis\":{\"endlinecolor\":\"#2a3f5f\",\"gridcolor\":\"white\",\"linecolor\":\"white\",\"minorgridcolor\":\"white\",\"startlinecolor\":\"#2a3f5f\"},\"type\":\"carpet\"}],\"choropleth\":[{\"colorbar\":{\"outlinewidth\":0,\"ticks\":\"\"},\"type\":\"choropleth\"}],\"contour\":[{\"colorbar\":{\"outlinewidth\":0,\"ticks\":\"\"},\"colorscale\":[[0.0,\"#0d0887\"],[0.1111111111111111,\"#46039f\"],[0.2222222222222222,\"#7201a8\"],[0.3333333333333333,\"#9c179e\"],[0.4444444444444444,\"#bd3786\"],[0.5555555555555556,\"#d8576b\"],[0.6666666666666666,\"#ed7953\"],[0.7777777777777778,\"#fb9f3a\"],[0.8888888888888888,\"#fdca26\"],[1.0,\"#f0f921\"]],\"type\":\"contour\"}],\"contourcarpet\":[{\"colorbar\":{\"outlinewidth\":0,\"ticks\":\"\"},\"type\":\"contourcarpet\"}],\"heatmap\":[{\"colorbar\":{\"outlinewidth\":0,\"ticks\":\"\"},\"colorscale\":[[0.0,\"#0d0887\"],[0.1111111111111111,\"#46039f\"],[0.2222222222222222,\"#7201a8\"],[0.3333333333333333,\"#9c179e\"],[0.4444444444444444,\"#bd3786\"],[0.5555555555555556,\"#d8576b\"],[0.6666666666666666,\"#ed7953\"],[0.7777777777777778,\"#fb9f3a\"],[0.8888888888888888,\"#fdca26\"],[1.0,\"#f0f921\"]],\"type\":\"heatmap\"}],\"heatmapgl\":[{\"colorbar\":{\"outlinewidth\":0,\"ticks\":\"\"},\"colorscale\":[[0.0,\"#0d0887\"],[0.1111111111111111,\"#46039f\"],[0.2222222222222222,\"#7201a8\"],[0.3333333333333333,\"#9c179e\"],[0.4444444444444444,\"#bd3786\"],[0.5555555555555556,\"#d8576b\"],[0.6666666666666666,\"#ed7953\"],[0.7777777777777778,\"#fb9f3a\"],[0.8888888888888888,\"#fdca26\"],[1.0,\"#f0f921\"]],\"type\":\"heatmapgl\"}],\"histogram\":[{\"marker\":{\"pattern\":{\"fillmode\":\"overlay\",\"size\":10,\"solidity\":0.2}},\"type\":\"histogram\"}],\"histogram2d\":[{\"colorbar\":{\"outlinewidth\":0,\"ticks\":\"\"},\"colorscale\":[[0.0,\"#0d0887\"],[0.1111111111111111,\"#46039f\"],[0.2222222222222222,\"#7201a8\"],[0.3333333333333333,\"#9c179e\"],[0.4444444444444444,\"#bd3786\"],[0.5555555555555556,\"#d8576b\"],[0.6666666666666666,\"#ed7953\"],[0.7777777777777778,\"#fb9f3a\"],[0.8888888888888888,\"#fdca26\"],[1.0,\"#f0f921\"]],\"type\":\"histogram2d\"}],\"histogram2dcontour\":[{\"colorbar\":{\"outlinewidth\":0,\"ticks\":\"\"},\"colorscale\":[[0.0,\"#0d0887\"],[0.1111111111111111,\"#46039f\"],[0.2222222222222222,\"#7201a8\"],[0.3333333333333333,\"#9c179e\"],[0.4444444444444444,\"#bd3786\"],[0.5555555555555556,\"#d8576b\"],[0.6666666666666666,\"#ed7953\"],[0.7777777777777778,\"#fb9f3a\"],[0.8888888888888888,\"#fdca26\"],[1.0,\"#f0f921\"]],\"type\":\"histogram2dcontour\"}],\"mesh3d\":[{\"colorbar\":{\"outlinewidth\":0,\"ticks\":\"\"},\"type\":\"mesh3d\"}],\"parcoords\":[{\"line\":{\"colorbar\":{\"outlinewidth\":0,\"ticks\":\"\"}},\"type\":\"parcoords\"}],\"pie\":[{\"automargin\":true,\"type\":\"pie\"}],\"scatter\":[{\"marker\":{\"colorbar\":{\"outlinewidth\":0,\"ticks\":\"\"}},\"type\":\"scatter\"}],\"scatter3d\":[{\"line\":{\"colorbar\":{\"outlinewidth\":0,\"ticks\":\"\"}},\"marker\":{\"colorbar\":{\"outlinewidth\":0,\"ticks\":\"\"}},\"type\":\"scatter3d\"}],\"scattercarpet\":[{\"marker\":{\"colorbar\":{\"outlinewidth\":0,\"ticks\":\"\"}},\"type\":\"scattercarpet\"}],\"scattergeo\":[{\"marker\":{\"colorbar\":{\"outlinewidth\":0,\"ticks\":\"\"}},\"type\":\"scattergeo\"}],\"scattergl\":[{\"marker\":{\"colorbar\":{\"outlinewidth\":0,\"ticks\":\"\"}},\"type\":\"scattergl\"}],\"scattermapbox\":[{\"marker\":{\"colorbar\":{\"outlinewidth\":0,\"ticks\":\"\"}},\"type\":\"scattermapbox\"}],\"scatterpolar\":[{\"marker\":{\"colorbar\":{\"outlinewidth\":0,\"ticks\":\"\"}},\"type\":\"scatterpolar\"}],\"scatterpolargl\":[{\"marker\":{\"colorbar\":{\"outlinewidth\":0,\"ticks\":\"\"}},\"type\":\"scatterpolargl\"}],\"scatterternary\":[{\"marker\":{\"colorbar\":{\"outlinewidth\":0,\"ticks\":\"\"}},\"type\":\"scatterternary\"}],\"surface\":[{\"colorbar\":{\"outlinewidth\":0,\"ticks\":\"\"},\"colorscale\":[[0.0,\"#0d0887\"],[0.1111111111111111,\"#46039f\"],[0.2222222222222222,\"#7201a8\"],[0.3333333333333333,\"#9c179e\"],[0.4444444444444444,\"#bd3786\"],[0.5555555555555556,\"#d8576b\"],[0.6666666666666666,\"#ed7953\"],[0.7777777777777778,\"#fb9f3a\"],[0.8888888888888888,\"#fdca26\"],[1.0,\"#f0f921\"]],\"type\":\"surface\"}],\"table\":[{\"cells\":{\"fill\":{\"color\":\"#EBF0F8\"},\"line\":{\"color\":\"white\"}},\"header\":{\"fill\":{\"color\":\"#C8D4E3\"},\"line\":{\"color\":\"white\"}},\"type\":\"table\"}]},\"layout\":{\"annotationdefaults\":{\"arrowcolor\":\"#2a3f5f\",\"arrowhead\":0,\"arrowwidth\":1},\"autotypenumbers\":\"strict\",\"coloraxis\":{\"colorbar\":{\"outlinewidth\":0,\"ticks\":\"\"}},\"colorscale\":{\"diverging\":[[0,\"#8e0152\"],[0.1,\"#c51b7d\"],[0.2,\"#de77ae\"],[0.3,\"#f1b6da\"],[0.4,\"#fde0ef\"],[0.5,\"#f7f7f7\"],[0.6,\"#e6f5d0\"],[0.7,\"#b8e186\"],[0.8,\"#7fbc41\"],[0.9,\"#4d9221\"],[1,\"#276419\"]],\"sequential\":[[0.0,\"#0d0887\"],[0.1111111111111111,\"#46039f\"],[0.2222222222222222,\"#7201a8\"],[0.3333333333333333,\"#9c179e\"],[0.4444444444444444,\"#bd3786\"],[0.5555555555555556,\"#d8576b\"],[0.6666666666666666,\"#ed7953\"],[0.7777777777777778,\"#fb9f3a\"],[0.8888888888888888,\"#fdca26\"],[1.0,\"#f0f921\"]],\"sequentialminus\":[[0.0,\"#0d0887\"],[0.1111111111111111,\"#46039f\"],[0.2222222222222222,\"#7201a8\"],[0.3333333333333333,\"#9c179e\"],[0.4444444444444444,\"#bd3786\"],[0.5555555555555556,\"#d8576b\"],[0.6666666666666666,\"#ed7953\"],[0.7777777777777778,\"#fb9f3a\"],[0.8888888888888888,\"#fdca26\"],[1.0,\"#f0f921\"]]},\"colorway\":[\"#636efa\",\"#EF553B\",\"#00cc96\",\"#ab63fa\",\"#FFA15A\",\"#19d3f3\",\"#FF6692\",\"#B6E880\",\"#FF97FF\",\"#FECB52\"],\"font\":{\"color\":\"#2a3f5f\"},\"geo\":{\"bgcolor\":\"white\",\"lakecolor\":\"white\",\"landcolor\":\"#E5ECF6\",\"showlakes\":true,\"showland\":true,\"subunitcolor\":\"white\"},\"hoverlabel\":{\"align\":\"left\"},\"hovermode\":\"closest\",\"mapbox\":{\"style\":\"light\"},\"paper_bgcolor\":\"white\",\"plot_bgcolor\":\"#E5ECF6\",\"polar\":{\"angularaxis\":{\"gridcolor\":\"white\",\"linecolor\":\"white\",\"ticks\":\"\"},\"bgcolor\":\"#E5ECF6\",\"radialaxis\":{\"gridcolor\":\"white\",\"linecolor\":\"white\",\"ticks\":\"\"}},\"scene\":{\"xaxis\":{\"backgroundcolor\":\"#E5ECF6\",\"gridcolor\":\"white\",\"gridwidth\":2,\"linecolor\":\"white\",\"showbackground\":true,\"ticks\":\"\",\"zerolinecolor\":\"white\"},\"yaxis\":{\"backgroundcolor\":\"#E5ECF6\",\"gridcolor\":\"white\",\"gridwidth\":2,\"linecolor\":\"white\",\"showbackground\":true,\"ticks\":\"\",\"zerolinecolor\":\"white\"},\"zaxis\":{\"backgroundcolor\":\"#E5ECF6\",\"gridcolor\":\"white\",\"gridwidth\":2,\"linecolor\":\"white\",\"showbackground\":true,\"ticks\":\"\",\"zerolinecolor\":\"white\"}},\"shapedefaults\":{\"line\":{\"color\":\"#2a3f5f\"}},\"ternary\":{\"aaxis\":{\"gridcolor\":\"white\",\"linecolor\":\"white\",\"ticks\":\"\"},\"baxis\":{\"gridcolor\":\"white\",\"linecolor\":\"white\",\"ticks\":\"\"},\"bgcolor\":\"#E5ECF6\",\"caxis\":{\"gridcolor\":\"white\",\"linecolor\":\"white\",\"ticks\":\"\"}},\"title\":{\"x\":0.05},\"xaxis\":{\"automargin\":true,\"gridcolor\":\"white\",\"linecolor\":\"white\",\"ticks\":\"\",\"title\":{\"standoff\":15},\"zerolinecolor\":\"white\",\"zerolinewidth\":2},\"yaxis\":{\"automargin\":true,\"gridcolor\":\"white\",\"linecolor\":\"white\",\"ticks\":\"\",\"title\":{\"standoff\":15},\"zerolinecolor\":\"white\",\"zerolinewidth\":2}}},\"height\":700,\"showlegend\":false,\"title\":{\"text\":\"Sampled PURL HTTP Status Codes\"}},                        {\"responsive\": true}                    ).then(function(){\n",
       "                            \n",
       "var gd = document.getElementById('59f9e49a-e940-4a21-b93a-d46a7be8b634');\n",
       "var x = new MutationObserver(function (mutations, observer) {{\n",
       "        var display = window.getComputedStyle(gd).display;\n",
       "        if (!display || display === 'none') {{\n",
       "            console.log([gd, 'removed!']);\n",
       "            Plotly.purge(gd);\n",
       "            observer.disconnect();\n",
       "        }}\n",
       "}});\n",
       "\n",
       "// Listen for the removal of the full notebook cells\n",
       "var notebookContainer = gd.closest('#notebook-container');\n",
       "if (notebookContainer) {{\n",
       "    x.observe(notebookContainer, {childList: true});\n",
       "}}\n",
       "\n",
       "// Listen for the clearing of the current output cell\n",
       "var outputEl = gd.closest('.output');\n",
       "if (outputEl) {{\n",
       "    x.observe(outputEl, {childList: true});\n",
       "}}\n",
       "\n",
       "                        })                };                });            </script>        </div>"
      ]
     },
     "metadata": {},
     "output_type": "display_data"
    }
   ],
   "source": [
    "import plotly.graph_objects as go\n",
    "\n",
    "s = ns_sample.value_counts('status_code', dropna=False)\n",
    "s = s.reset_index()\n",
    "s.columns = ['status_code', 'urls']\n",
    "s.at[0, 'status_code'] = '???'\n",
    "\n",
    "fig = go.Figure(data=[go.Pie(labels=s.status_code, values=s.urls, hole=.3, textinfo='label+percent')])\n",
    "fig.update_layout(height=700, showlegend=False, title='Sampled PURL HTTP Status Codes')\n",
    "fig\n",
    "\n",
    "#xp.pie(s, values='urls', names='status_code', textinfo='label+percent')"
   ]
  },
  {
   "cell_type": "code",
   "execution_count": 122,
   "metadata": {},
   "outputs": [
    {
     "data": {
      "text/html": [
       "<div>\n",
       "<style scoped>\n",
       "    .dataframe tbody tr th:only-of-type {\n",
       "        vertical-align: middle;\n",
       "    }\n",
       "\n",
       "    .dataframe tbody tr th {\n",
       "        vertical-align: top;\n",
       "    }\n",
       "\n",
       "    .dataframe thead th {\n",
       "        text-align: right;\n",
       "    }\n",
       "</style>\n",
       "<table border=\"1\" class=\"dataframe\">\n",
       "  <thead>\n",
       "    <tr style=\"text-align: right;\">\n",
       "      <th></th>\n",
       "      <th>status_code</th>\n",
       "      <th>urls</th>\n",
       "    </tr>\n",
       "  </thead>\n",
       "  <tbody>\n",
       "    <tr>\n",
       "      <th>0</th>\n",
       "      <td>???</td>\n",
       "      <td>262</td>\n",
       "    </tr>\n",
       "    <tr>\n",
       "      <th>1</th>\n",
       "      <td>200</td>\n",
       "      <td>236</td>\n",
       "    </tr>\n",
       "    <tr>\n",
       "      <th>2</th>\n",
       "      <td>404</td>\n",
       "      <td>123</td>\n",
       "    </tr>\n",
       "    <tr>\n",
       "      <th>3</th>\n",
       "      <td>403</td>\n",
       "      <td>11</td>\n",
       "    </tr>\n",
       "    <tr>\n",
       "      <th>4</th>\n",
       "      <td>503</td>\n",
       "      <td>4</td>\n",
       "    </tr>\n",
       "    <tr>\n",
       "      <th>5</th>\n",
       "      <td>406</td>\n",
       "      <td>3</td>\n",
       "    </tr>\n",
       "    <tr>\n",
       "      <th>6</th>\n",
       "      <td>400</td>\n",
       "      <td>2</td>\n",
       "    </tr>\n",
       "    <tr>\n",
       "      <th>7</th>\n",
       "      <td>999</td>\n",
       "      <td>2</td>\n",
       "    </tr>\n",
       "    <tr>\n",
       "      <th>8</th>\n",
       "      <td>401</td>\n",
       "      <td>1</td>\n",
       "    </tr>\n",
       "  </tbody>\n",
       "</table>\n",
       "</div>"
      ],
      "text/plain": [
       "  status_code  urls\n",
       "0         ???   262\n",
       "1         200   236\n",
       "2         404   123\n",
       "3         403    11\n",
       "4         503     4\n",
       "5         406     3\n",
       "6         400     2\n",
       "7         999     2\n",
       "8         401     1"
      ]
     },
     "execution_count": 122,
     "metadata": {},
     "output_type": "execute_result"
    }
   ],
   "source": [
    "s.at[0, 'status_code'] = '???'\n",
    "s"
   ]
  },
  {
   "cell_type": "code",
   "execution_count": 112,
   "metadata": {},
   "outputs": [
    {
     "data": {
      "text/html": [
       "<div>\n",
       "<style scoped>\n",
       "    .dataframe tbody tr th:only-of-type {\n",
       "        vertical-align: middle;\n",
       "    }\n",
       "\n",
       "    .dataframe tbody tr th {\n",
       "        vertical-align: top;\n",
       "    }\n",
       "\n",
       "    .dataframe thead th {\n",
       "        text-align: right;\n",
       "    }\n",
       "</style>\n",
       "<table border=\"1\" class=\"dataframe\">\n",
       "  <thead>\n",
       "    <tr style=\"text-align: right;\">\n",
       "      <th></th>\n",
       "      <th>status_code</th>\n",
       "      <th>urls</th>\n",
       "    </tr>\n",
       "  </thead>\n",
       "  <tbody>\n",
       "    <tr>\n",
       "      <th>0</th>\n",
       "      <td>NaN</td>\n",
       "      <td>262</td>\n",
       "    </tr>\n",
       "    <tr>\n",
       "      <th>1</th>\n",
       "      <td>200</td>\n",
       "      <td>236</td>\n",
       "    </tr>\n",
       "    <tr>\n",
       "      <th>2</th>\n",
       "      <td>404</td>\n",
       "      <td>123</td>\n",
       "    </tr>\n",
       "    <tr>\n",
       "      <th>3</th>\n",
       "      <td>403</td>\n",
       "      <td>11</td>\n",
       "    </tr>\n",
       "    <tr>\n",
       "      <th>4</th>\n",
       "      <td>503</td>\n",
       "      <td>4</td>\n",
       "    </tr>\n",
       "    <tr>\n",
       "      <th>5</th>\n",
       "      <td>406</td>\n",
       "      <td>3</td>\n",
       "    </tr>\n",
       "    <tr>\n",
       "      <th>6</th>\n",
       "      <td>400</td>\n",
       "      <td>2</td>\n",
       "    </tr>\n",
       "    <tr>\n",
       "      <th>7</th>\n",
       "      <td>999</td>\n",
       "      <td>2</td>\n",
       "    </tr>\n",
       "    <tr>\n",
       "      <th>8</th>\n",
       "      <td>401</td>\n",
       "      <td>1</td>\n",
       "    </tr>\n",
       "  </tbody>\n",
       "</table>\n",
       "</div>"
      ],
      "text/plain": [
       "  status_code  urls\n",
       "0         NaN   262\n",
       "1         200   236\n",
       "2         404   123\n",
       "3         403    11\n",
       "4         503     4\n",
       "5         406     3\n",
       "6         400     2\n",
       "7         999     2\n",
       "8         401     1"
      ]
     },
     "execution_count": 112,
     "metadata": {},
     "output_type": "execute_result"
    }
   ],
   "source": []
  },
  {
   "cell_type": "code",
   "execution_count": null,
   "metadata": {},
   "outputs": [],
   "source": []
  }
 ],
 "metadata": {
  "kernelspec": {
   "display_name": "Python 3",
   "language": "python",
   "name": "python3"
  },
  "language_info": {
   "codemirror_mode": {
    "name": "ipython",
    "version": 3
   },
   "file_extension": ".py",
   "mimetype": "text/x-python",
   "name": "python",
   "nbconvert_exporter": "python",
   "pygments_lexer": "ipython3",
   "version": "3.8.10"
  }
 },
 "nbformat": 4,
 "nbformat_minor": 4
}
