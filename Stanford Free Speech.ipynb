{
 "cells": [
  {
   "cell_type": "markdown",
   "id": "bcf418db-84d3-4ee6-a9cc-d53e776cce05",
   "metadata": {},
   "source": [
    "# Stanford Campus Speech\n",
    "\n",
    "This notebook is an example of using the OpenAlex API to explore what researchers at Stanford University have written about *campus speech*, *free speech* and *academic freedom*."
   ]
  },
  {
   "cell_type": "markdown",
   "id": "bbc7f481-61a0-4a49-b611-dddcff784e50",
   "metadata": {},
   "source": [
    "## The OpenAlex API"
   ]
  },
  {
   "cell_type": "markdown",
   "id": "3d3c11a1-b97f-44cb-8ade-7981b6693ce3",
   "metadata": {},
   "source": [
    "First lets see how many articles there are from Stanford University in OpenAlex."
   ]
  },
  {
   "cell_type": "code",
   "execution_count": 1,
   "id": "4ed5cd6f-bf3c-430e-97c2-79b7f37d15b9",
   "metadata": {},
   "outputs": [
    {
     "data": {
      "text/plain": [
       "445835"
      ]
     },
     "execution_count": 1,
     "metadata": {},
     "output_type": "execute_result"
    }
   ],
   "source": [
    "import pyalex\n",
    "\n",
    "pyalex.config.email = \"ehs@pobox.com\"\n",
    "pyalex.config.retry_http_codes = [429, 500, 503]\n",
    "\n",
    "pyalex.Works().filter(institutions={\"id\": \"I97018004\"}).count()"
   ]
  },
  {
   "cell_type": "markdown",
   "id": "2ce26e4e-924d-48c2-b561-1874d503f311",
   "metadata": {},
   "source": [
    "We can also search the title and abstract for Works that match the phrase \"Academic Freedom\"."
   ]
  },
  {
   "cell_type": "code",
   "execution_count": 2,
   "id": "867bace2-4f66-473c-ba32-868e137c2c90",
   "metadata": {},
   "outputs": [
    {
     "data": {
      "text/plain": [
       "28219"
      ]
     },
     "execution_count": 2,
     "metadata": {},
     "output_type": "execute_result"
    }
   ],
   "source": [
    "pyalex.Works().filter(title_and_abstract={\"search\": \"'Academic Freedom'\"}).count()"
   ]
  },
  {
   "cell_type": "markdown",
   "id": "875ce8b5-1972-450e-b03d-1c4f4ff411e0",
   "metadata": {},
   "source": [
    "Here is what the titles of the first 10 results looks like:"
   ]
  },
  {
   "cell_type": "code",
   "execution_count": 3,
   "id": "90973c5a-2d4b-4b05-8aad-c6ef22aa6e31",
   "metadata": {},
   "outputs": [
    {
     "data": {
      "text/plain": [
       "[{'title': 'Academic freedom, private‐sector focus, and the process of innovation',\n",
       "  'publication_year': 2008},\n",
       " {'title': 'The Development of Academic Freedom in the United States',\n",
       "  'publication_year': 1956},\n",
       " {'title': 'Academic freedom, autonomy and accountability in British universities',\n",
       "  'publication_year': 1990},\n",
       " {'title': 'Academic Freedom Under Fire: The Case for Critical Pedagogy',\n",
       "  'publication_year': 2006},\n",
       " {'title': 'The Future of Academic Freedom', 'publication_year': 1997},\n",
       " {'title': 'Academic freedom in the age of the university',\n",
       "  'publication_year': 1961},\n",
       " {'title': 'Academic Freedom in Clinical Research', 'publication_year': 2002},\n",
       " {'title': 'Academic Freedom in Europe: A Preliminary Comparative Analysis',\n",
       "  'publication_year': 2007},\n",
       " {'title': 'Unintended consequences of cooperative research: impact of industry sponsorship on climate for academic freedom and other graduate student outcome',\n",
       "  'publication_year': 2001},\n",
       " {'title': 'The 1940 Statement of Principles on Academic Freedom and Tenure',\n",
       "  'publication_year': 1990}]"
      ]
     },
     "execution_count": 3,
     "metadata": {},
     "output_type": "execute_result"
    }
   ],
   "source": [
    "pyalex.Works().filter(title_and_abstract={\"search\": '\"Academic Freedom\"'}).select([\"title\", \"publication_year\"]).get(per_page=10)"
   ]
  },
  {
   "cell_type": "markdown",
   "id": "2f2cbdae-f9db-46f0-b8cd-426f17bace93",
   "metadata": {},
   "source": [
    "The search can be composed with a filter to limit to Works where one of the authors is from Stanford:"
   ]
  },
  {
   "cell_type": "code",
   "execution_count": 4,
   "id": "12d9884f-1220-4ab8-8a9a-310ae6aa3fb6",
   "metadata": {},
   "outputs": [
    {
     "data": {
      "text/plain": [
       "[{'title': 'Doing Medical Journals Differently: <i>Open Medicine,</i> Open Access, and Academic Freedom'},\n",
       " {'title': 'The Perversion of Virtue―Causes and Consequences of Threats to Academic Freedom in the Contemporary University'},\n",
       " {'title': 'Education in Safe and Unsafe Spaces'},\n",
       " {'title': 'Illiberal Reactions to Higher Education'},\n",
       " {'title': 'Academic Freedom in America — In Support of Institutional Voices'},\n",
       " {'title': 'The formalization of the university: rules, roots, and routes'},\n",
       " {'title': 'Policies on Faculty Conflicts of Interest at US Universities'},\n",
       " {'title': 'Adaptations of Avian Flu Virus Are a Cause for Concern'},\n",
       " {'title': 'A New Model for Industry–Academic Partnerships'},\n",
       " {'title': 'Eyes Wide Shut: University, State and Society'}]"
      ]
     },
     "execution_count": 4,
     "metadata": {},
     "output_type": "execute_result"
    }
   ],
   "source": [
    "pyalex.Works().search('\"Academic Freedom\"').filter(institutions={\"id\": \"I97018004\"}).select([\"title\"]).get(per_page=10)"
   ]
  },
  {
   "cell_type": "markdown",
   "id": "af2533cc-2715-431a-a5cb-53f3cce86e20",
   "metadata": {},
   "source": [
    "To determine who the Stanford researchers are we need to request the `authorships` data and filter where the `I97018004` code is listed as one of their institutions."
   ]
  },
  {
   "cell_type": "code",
   "execution_count": 5,
   "id": "061c29e2-881d-4ed3-9d25-5808bf3ecb99",
   "metadata": {},
   "outputs": [
    {
     "data": {
      "text/plain": [
       "{'title': 'Doing Medical Journals Differently: <i>Open Medicine,</i> Open Access, and Academic Freedom',\n",
       " 'authorships': [{'author_position': 'first',\n",
       "   'author': {'id': 'https://openalex.org/A5008862123',\n",
       "    'display_name': 'John Willinsky',\n",
       "    'orcid': 'https://orcid.org/0000-0001-6192-8687'},\n",
       "   'institutions': [{'id': 'https://openalex.org/I141945490',\n",
       "     'display_name': 'University of British Columbia',\n",
       "     'ror': 'https://ror.org/03rmrcq20',\n",
       "     'country_code': 'CA',\n",
       "     'type': 'education',\n",
       "     'lineage': ['https://openalex.org/I141945490']},\n",
       "    {'id': 'https://openalex.org/I97018004',\n",
       "     'display_name': 'Stanford University',\n",
       "     'ror': 'https://ror.org/00f54p054',\n",
       "     'country_code': 'US',\n",
       "     'type': 'education',\n",
       "     'lineage': ['https://openalex.org/I97018004']}],\n",
       "   'countries': ['CA', 'US'],\n",
       "   'is_corresponding': False,\n",
       "   'raw_author_name': 'John Willinsky',\n",
       "   'raw_affiliation_strings': ['Stanford University and the University of British Columbia'],\n",
       "   'affiliations': [{'raw_affiliation_string': 'Stanford University and the University of British Columbia',\n",
       "     'institution_ids': ['https://openalex.org/I141945490',\n",
       "      'https://openalex.org/I97018004']}]},\n",
       "  {'author_position': 'middle',\n",
       "   'author': {'id': 'https://openalex.org/A5077554177',\n",
       "    'display_name': 'Sally Murray',\n",
       "    'orcid': 'https://orcid.org/0009-0001-8849-5778'},\n",
       "   'institutions': [{'id': 'https://openalex.org/I93396115',\n",
       "     'display_name': 'The University of Notre Dame Australia',\n",
       "     'ror': 'https://ror.org/02stey378',\n",
       "     'country_code': 'AU',\n",
       "     'type': 'education',\n",
       "     'lineage': ['https://openalex.org/I93396115']}],\n",
       "   'countries': ['AU'],\n",
       "   'is_corresponding': False,\n",
       "   'raw_author_name': 'Sally Murray',\n",
       "   'raw_affiliation_strings': ['University of Notre Dame Australia#TAB#'],\n",
       "   'affiliations': [{'raw_affiliation_string': 'University of Notre Dame Australia#TAB#',\n",
       "     'institution_ids': ['https://openalex.org/I93396115']}]},\n",
       "  {'author_position': 'middle',\n",
       "   'author': {'id': 'https://openalex.org/A5000327707',\n",
       "    'display_name': 'Claire Kendall',\n",
       "    'orcid': 'https://orcid.org/0000-0003-2686-1135'},\n",
       "   'institutions': [{'id': 'https://openalex.org/I153718931',\n",
       "     'display_name': 'University of Ottawa',\n",
       "     'ror': 'https://ror.org/03c4mmv16',\n",
       "     'country_code': 'CA',\n",
       "     'type': 'education',\n",
       "     'lineage': ['https://openalex.org/I153718931']}],\n",
       "   'countries': ['CA'],\n",
       "   'is_corresponding': False,\n",
       "   'raw_author_name': 'Claire Kendall',\n",
       "   'raw_affiliation_strings': ['University of Ottawa CANADA'],\n",
       "   'affiliations': [{'raw_affiliation_string': 'University of Ottawa CANADA',\n",
       "     'institution_ids': ['https://openalex.org/I153718931']}]},\n",
       "  {'author_position': 'last',\n",
       "   'author': {'id': 'https://openalex.org/A5024216545',\n",
       "    'display_name': 'Anita Palepu',\n",
       "    'orcid': 'https://orcid.org/0000-0002-7881-4800'},\n",
       "   'institutions': [{'id': 'https://openalex.org/I141945490',\n",
       "     'display_name': 'University of British Columbia',\n",
       "     'ror': 'https://ror.org/03rmrcq20',\n",
       "     'country_code': 'CA',\n",
       "     'type': 'education',\n",
       "     'lineage': ['https://openalex.org/I141945490']}],\n",
       "   'countries': ['CA'],\n",
       "   'is_corresponding': False,\n",
       "   'raw_author_name': 'Anita Palepu',\n",
       "   'raw_affiliation_strings': ['University of British Columbia, Canada ,'],\n",
       "   'affiliations': [{'raw_affiliation_string': 'University of British Columbia, Canada ,',\n",
       "     'institution_ids': ['https://openalex.org/I141945490']}]}]}"
      ]
     },
     "execution_count": 5,
     "metadata": {},
     "output_type": "execute_result"
    }
   ],
   "source": [
    "work = pyalex.Works().search('\"Academic Freedom\"').filter(institutions={\"id\": \"I97018004\"}).select([\"title\", \"authorships\"]).get(per_page=1)[0]\n",
    "work"
   ]
  },
  {
   "cell_type": "code",
   "execution_count": 6,
   "id": "58cef9a2-b29c-4468-b181-7769fd2d7ccc",
   "metadata": {},
   "outputs": [
    {
     "name": "stdout",
     "output_type": "stream",
     "text": [
      "John Willinsky\n"
     ]
    }
   ],
   "source": [
    "for author in work['authorships']:\n",
    "    if 'https://openalex.org/I97018004' in [i['id'] for i in author['institutions']]:\n",
    "        print(author['author']['display_name'])"
   ]
  },
  {
   "cell_type": "markdown",
   "id": "a7cbdf63-e0df-4ad5-a897-658ac7661ccf",
   "metadata": {},
   "source": [
    "## Putting it Together\n",
    "\n",
    "Lets create a function that does this search and returns an iterator where each result is a tuple of an author and a work. One thing that is also useful to do here is limit to publications from the last 10 years since we are trying to find researchers who are currently at Stanford."
   ]
  },
  {
   "cell_type": "code",
   "execution_count": 7,
   "id": "8f2f550b-e760-4aac-a183-965ef4e64a65",
   "metadata": {},
   "outputs": [
    {
     "name": "stdout",
     "output_type": "stream",
     "text": [
      "Erika T. Hermanowicz\n",
      "The Perversion of Virtue―Causes and Consequences of Threats to Academic Freedom in the Contemporary University\n",
      "https://openalex.org/W4367319927\n"
     ]
    }
   ],
   "source": [
    "def search(q):\n",
    "    for page in pyalex.Works().search(f\"{q}\").filter(institutions={\"id\": \"I97018004\"}).paginate(per_page=200):\n",
    "        for work in page:\n",
    "            for author in work['authorships']:\n",
    "                if work['publication_year'] >= 2014 and 'https://openalex.org/I97018004' in [i['id'] for i in author['institutions']]:\n",
    "                    yield (author, work)\n",
    "\n",
    "author, work = next(search('\"academic freedom\"'))\n",
    "print(author['author']['display_name'])\n",
    "print(work['title'])\n",
    "print(work['id'])"
   ]
  },
  {
   "cell_type": "markdown",
   "id": "a7451001-f718-465a-8098-b677f2aa5a74",
   "metadata": {},
   "source": [
    "It would be useful to have a function that does the query and summarizes the results by printing the research name and the list of work IDs that matched:"
   ]
  },
  {
   "cell_type": "code",
   "execution_count": 30,
   "id": "82f008f7-f4fe-48f3-8151-0ffe7cb46487",
   "metadata": {},
   "outputs": [],
   "source": [
    "from collections import defaultdict\n",
    "from IPython.display import display, Markdown\n",
    "\n",
    "def print_results(q):\n",
    "    results = defaultdict(list)\n",
    "    \n",
    "    for author, work in search(q):\n",
    "        results[author['author']['display_name']].append(work)\n",
    "\n",
    "    for name in sorted(results, key=lambda name: len(results[name]), reverse=True):\n",
    "        lines = [f\"* {name}\"]\n",
    "        for work in results[name]:\n",
    "            lines.append(f\"  * [{work['title']}]({work['id']})\")\n",
    "        display(Markdown(\"\\n\".join(lines)))\n"
   ]
  },
  {
   "cell_type": "markdown",
   "id": "52c702cb-616f-4c1f-922b-fa02ffe18153",
   "metadata": {},
   "source": [
    "### Academic Freedom"
   ]
  },
  {
   "cell_type": "code",
   "execution_count": 31,
   "id": "7d7ea03b-36c2-4add-90c0-6eb67ca2f595",
   "metadata": {},
   "outputs": [
    {
     "data": {
      "text/markdown": [
       "* Michelle M. Mello\n",
       "  * [Beyond financial conflicts of interest: Institutional oversight of faculty consulting agreements at schools of medicine and public health](https://openalex.org/W2949573220)\n",
       "  * [Population health science as a unifying foundation for translational clinical and public health research](https://openalex.org/W4214523602)\n",
       "  * [Beyond financial conflicts of interest: Institutional oversight of faculty consulting agreements at schools of medicine and public health](https://openalex.org/W2886563298)"
      ],
      "text/plain": [
       "<IPython.core.display.Markdown object>"
      ]
     },
     "metadata": {},
     "output_type": "display_data"
    },
    {
     "data": {
      "text/markdown": [
       "* John W. Meyer\n",
       "  * [Illiberal Reactions to Higher Education](https://openalex.org/W4289866241)\n",
       "  * [Global Neoliberalism as a Cultural Order and Its Expansive Educational Effects](https://openalex.org/W4205238454)"
      ],
      "text/plain": [
       "<IPython.core.display.Markdown object>"
      ]
     },
     "metadata": {},
     "output_type": "display_data"
    },
    {
     "data": {
      "text/markdown": [
       "* Francisco O. Ramírez\n",
       "  * [Beyond internationalisation and isomorphism – the construction of a global higher education regime](https://openalex.org/W2962437407)\n",
       "  * [Reputation management by Chinese universities: Primary profile and comparative features](https://openalex.org/W3027627788)"
      ],
      "text/plain": [
       "<IPython.core.display.Markdown object>"
      ]
     },
     "metadata": {},
     "output_type": "display_data"
    },
    {
     "data": {
      "text/markdown": [
       "* John P. A. Ioannidis\n",
       "  * [Scientific petitions and open letters in the era of covid-19](https://openalex.org/W3093968437)\n",
       "  * [Conflict of Interest in Nutrition Research—Reply](https://openalex.org/W2810885292)"
      ],
      "text/plain": [
       "<IPython.core.display.Markdown object>"
      ]
     },
     "metadata": {},
     "output_type": "display_data"
    },
    {
     "data": {
      "text/markdown": [
       "* Jay Bhattacharya\n",
       "  * [Stagnation and Scientific Incentives](https://openalex.org/W3006456429)\n",
       "  * [Dr. Jay Bhattacharya Reveals Stanford University’s Attempts To Derail COVID Studies](https://openalex.org/W4386924307)"
      ],
      "text/plain": [
       "<IPython.core.display.Markdown object>"
      ]
     },
     "metadata": {},
     "output_type": "display_data"
    },
    {
     "data": {
      "text/markdown": [
       "* Mitchell L. Stevens\n",
       "  * [What is educational entrepreneurship? Strategic action, temporality, and the expansion of US higher education](https://openalex.org/W3154557225)\n",
       "  * [What is Educational Entrepreneurship? Strategic Action, Temporality, and the Expansion of US Higher Education](https://openalex.org/W4243217009)"
      ],
      "text/plain": [
       "<IPython.core.display.Markdown object>"
      ]
     },
     "metadata": {},
     "output_type": "display_data"
    },
    {
     "data": {
      "text/markdown": [
       "* Erika T. Hermanowicz\n",
       "  * [The Perversion of Virtue―Causes and Consequences of Threats to Academic Freedom in the Contemporary University](https://openalex.org/W4367319927)"
      ],
      "text/plain": [
       "<IPython.core.display.Markdown object>"
      ]
     },
     "metadata": {},
     "output_type": "display_data"
    },
    {
     "data": {
      "text/markdown": [
       "* Joseph C. Hermanowicz\n",
       "  * [The Perversion of Virtue―Causes and Consequences of Threats to Academic Freedom in the Contemporary University](https://openalex.org/W4367319927)"
      ],
      "text/plain": [
       "<IPython.core.display.Markdown object>"
      ]
     },
     "metadata": {},
     "output_type": "display_data"
    },
    {
     "data": {
      "text/markdown": [
       "* Eamonn Callan\n",
       "  * [Education in Safe and Unsafe Spaces](https://openalex.org/W2566803539)"
      ],
      "text/plain": [
       "<IPython.core.display.Markdown object>"
      ]
     },
     "metadata": {},
     "output_type": "display_data"
    },
    {
     "data": {
      "text/markdown": [
       "* Evan Mullen\n",
       "  * [Academic Freedom in America — In Support of Institutional Voices](https://openalex.org/W4400150739)"
      ],
      "text/plain": [
       "<IPython.core.display.Markdown object>"
      ]
     },
     "metadata": {},
     "output_type": "display_data"
    },
    {
     "data": {
      "text/markdown": [
       "* Eric J. Topol\n",
       "  * [Academic Freedom in America — In Support of Institutional Voices](https://openalex.org/W4400150739)"
      ],
      "text/plain": [
       "<IPython.core.display.Markdown object>"
      ]
     },
     "metadata": {},
     "output_type": "display_data"
    },
    {
     "data": {
      "text/markdown": [
       "* Abraham Verghese\n",
       "  * [Academic Freedom in America — In Support of Institutional Voices](https://openalex.org/W4400150739)"
      ],
      "text/plain": [
       "<IPython.core.display.Markdown object>"
      ]
     },
     "metadata": {},
     "output_type": "display_data"
    },
    {
     "data": {
      "text/markdown": [
       "* Gary King\n",
       "  * [A New Model for Industry–Academic Partnerships](https://openalex.org/W2969656656)"
      ],
      "text/plain": [
       "<IPython.core.display.Markdown object>"
      ]
     },
     "metadata": {},
     "output_type": "display_data"
    },
    {
     "data": {
      "text/markdown": [
       "* Nathaniel Persily\n",
       "  * [A New Model for Industry–Academic Partnerships](https://openalex.org/W2969656656)"
      ],
      "text/plain": [
       "<IPython.core.display.Markdown object>"
      ]
     },
     "metadata": {},
     "output_type": "display_data"
    },
    {
     "data": {
      "text/markdown": [
       "* Ali Borjian\n",
       "  * [Mexican Teachers of English: Promoting Bilingualism in Complex Times](https://openalex.org/W4292843545)"
      ],
      "text/plain": [
       "<IPython.core.display.Markdown object>"
      ]
     },
     "metadata": {},
     "output_type": "display_data"
    },
    {
     "data": {
      "text/markdown": [
       "* Johanna Rodehau-Noack\n",
       "  * [Forum: Dead-Ends, Disasters, Delays? Reflecting on Research Failure in International Studies and Ways to Avoid It](https://openalex.org/W4401792574)"
      ],
      "text/plain": [
       "<IPython.core.display.Markdown object>"
      ]
     },
     "metadata": {},
     "output_type": "display_data"
    },
    {
     "data": {
      "text/markdown": [
       "* Stephen Haber\n",
       "  * [Patent trolls as financial intermediaries? Experimental evidence](https://openalex.org/W3122445785)"
      ],
      "text/plain": [
       "<IPython.core.display.Markdown object>"
      ]
     },
     "metadata": {},
     "output_type": "display_data"
    },
    {
     "data": {
      "text/markdown": [
       "* Seth H. Werfel\n",
       "  * [Patent trolls as financial intermediaries? Experimental evidence](https://openalex.org/W3122445785)"
      ],
      "text/plain": [
       "<IPython.core.display.Markdown object>"
      ]
     },
     "metadata": {},
     "output_type": "display_data"
    },
    {
     "data": {
      "text/markdown": [
       "* Elisabeth Niklasson\n",
       "  * [The Scandinavian far-right and the new politicisation of heritage](https://openalex.org/W2788349117)"
      ],
      "text/plain": [
       "<IPython.core.display.Markdown object>"
      ]
     },
     "metadata": {},
     "output_type": "display_data"
    },
    {
     "data": {
      "text/markdown": [
       "* Marina Ranga\n",
       "  * [The new face of university–business cooperation in Finland](https://openalex.org/W2567473852)"
      ],
      "text/plain": [
       "<IPython.core.display.Markdown object>"
      ]
     },
     "metadata": {},
     "output_type": "display_data"
    },
    {
     "data": {
      "text/markdown": [
       "* Nel Noddings\n",
       "  * [The Palgrave International Handbook of Alternative Education](https://openalex.org/W2516537225)"
      ],
      "text/plain": [
       "<IPython.core.display.Markdown object>"
      ]
     },
     "metadata": {},
     "output_type": "display_data"
    },
    {
     "data": {
      "text/markdown": [
       "* S. Gabriela Gavrila\n",
       "  * [Reputation management by Chinese universities: Primary profile and comparative features](https://openalex.org/W3027627788)"
      ],
      "text/plain": [
       "<IPython.core.display.Markdown object>"
      ]
     },
     "metadata": {},
     "output_type": "display_data"
    },
    {
     "data": {
      "text/markdown": [
       "* Shanil Ebrahim\n",
       "  * [Agreements between Industry and Academia on Publication Rights: A Retrospective Study of Protocols and Publications of Randomized Clinical Trials](https://openalex.org/W2472949758)"
      ],
      "text/plain": [
       "<IPython.core.display.Markdown object>"
      ]
     },
     "metadata": {},
     "output_type": "display_data"
    },
    {
     "data": {
      "text/markdown": [
       "* John F. Trepanowski\n",
       "  * [Conflict of Interest in Nutrition Research—Reply](https://openalex.org/W2810885292)"
      ],
      "text/plain": [
       "<IPython.core.display.Markdown object>"
      ]
     },
     "metadata": {},
     "output_type": "display_data"
    },
    {
     "data": {
      "text/markdown": [
       "* Louise Lu\n",
       "  * [Prosocial motives underlie scientific censorship by scientists: A perspective and research agenda](https://openalex.org/W4388819006)"
      ],
      "text/plain": [
       "<IPython.core.display.Markdown object>"
      ]
     },
     "metadata": {},
     "output_type": "display_data"
    },
    {
     "data": {
      "text/markdown": [
       "* Ethan W. Ris\n",
       "  * [Hierarchy as a theme in the US college, 1880–1920](https://openalex.org/W1087515698)"
      ],
      "text/plain": [
       "<IPython.core.display.Markdown object>"
      ]
     },
     "metadata": {},
     "output_type": "display_data"
    },
    {
     "data": {
      "text/markdown": [
       "* Mikko Packalén\n",
       "  * [Stagnation and Scientific Incentives](https://openalex.org/W3006456429)"
      ],
      "text/plain": [
       "<IPython.core.display.Markdown object>"
      ]
     },
     "metadata": {},
     "output_type": "display_data"
    },
    {
     "data": {
      "text/markdown": [
       "* Megan J. Palmer\n",
       "  * [Anomaly handling and the politics of gene drives](https://openalex.org/W2777513300)"
      ],
      "text/plain": [
       "<IPython.core.display.Markdown object>"
      ]
     },
     "metadata": {},
     "output_type": "display_data"
    },
    {
     "data": {
      "text/markdown": [
       "* Richard J. Shavelson\n",
       "  * [Statistical Significance and Program Effect](https://openalex.org/W2577392827)"
      ],
      "text/plain": [
       "<IPython.core.display.Markdown object>"
      ]
     },
     "metadata": {},
     "output_type": "display_data"
    },
    {
     "data": {
      "text/markdown": [
       "* Paolo Parigi\n",
       "  * [An institutional mechanism to reduce internal competition? A hypothesis about the diffusion of satellite universities in Italy](https://openalex.org/W2035878840)"
      ],
      "text/plain": [
       "<IPython.core.display.Markdown object>"
      ]
     },
     "metadata": {},
     "output_type": "display_data"
    },
    {
     "data": {
      "text/markdown": [
       "* Ben A. Barres\n",
       "  * [Stop blocking postdocs’ paths to success](https://openalex.org/W2753111675)"
      ],
      "text/plain": [
       "<IPython.core.display.Markdown object>"
      ]
     },
     "metadata": {},
     "output_type": "display_data"
    },
    {
     "data": {
      "text/markdown": [
       "* James H. Mittelman\n",
       "  * [A Better Intellectual Community Is Possible: Dialogues with Ali A. Mazrui](https://openalex.org/W2060377431)"
      ],
      "text/plain": [
       "<IPython.core.display.Markdown object>"
      ]
     },
     "metadata": {},
     "output_type": "display_data"
    },
    {
     "data": {
      "text/markdown": [
       "* Patricia Bromley\n",
       "  * [Global Neoliberalism as a Cultural Order and Its Expansive Educational Effects](https://openalex.org/W4205238454)"
      ],
      "text/plain": [
       "<IPython.core.display.Markdown object>"
      ]
     },
     "metadata": {},
     "output_type": "display_data"
    },
    {
     "data": {
      "text/markdown": [
       "* Cristina M. Alvira\n",
       "  * [Enhancing the Development and Retention of Physician-Scientists in Academic Pediatrics: Strategies for Success](https://openalex.org/W2883007104)"
      ],
      "text/plain": [
       "<IPython.core.display.Markdown object>"
      ]
     },
     "metadata": {},
     "output_type": "display_data"
    },
    {
     "data": {
      "text/markdown": [
       "* Joy P. Ku\n",
       "  * [Perspectives on Sharing Models and Related Resources in Computational Biomechanics Research](https://openalex.org/W2772507395)"
      ],
      "text/plain": [
       "<IPython.core.display.Markdown object>"
      ]
     },
     "metadata": {},
     "output_type": "display_data"
    },
    {
     "data": {
      "text/markdown": [
       "* Jennifer L. Hicks\n",
       "  * [Perspectives on Sharing Models and Related Resources in Computational Biomechanics Research](https://openalex.org/W2772507395)"
      ],
      "text/plain": [
       "<IPython.core.display.Markdown object>"
      ]
     },
     "metadata": {},
     "output_type": "display_data"
    },
    {
     "data": {
      "text/markdown": [
       "* Scott L. Delp\n",
       "  * [Perspectives on Sharing Models and Related Resources in Computational Biomechanics Research](https://openalex.org/W2772507395)"
      ],
      "text/plain": [
       "<IPython.core.display.Markdown object>"
      ]
     },
     "metadata": {},
     "output_type": "display_data"
    },
    {
     "data": {
      "text/markdown": [
       "* W. Bentley MacLeod\n",
       "  * [Why Does the U.S. Have the Best Research Universities? Incentives, Resources, and Virtuous Circles](https://openalex.org/W4285581011)"
      ],
      "text/plain": [
       "<IPython.core.display.Markdown object>"
      ]
     },
     "metadata": {},
     "output_type": "display_data"
    },
    {
     "data": {
      "text/markdown": [
       "* Miguel Urquiola\n",
       "  * [Why Does the U.S. Have the Best Research Universities? Incentives, Resources, and Virtuous Circles](https://openalex.org/W4285581011)"
      ],
      "text/plain": [
       "<IPython.core.display.Markdown object>"
      ]
     },
     "metadata": {},
     "output_type": "display_data"
    },
    {
     "data": {
      "text/markdown": [
       "* Alan K. Louie\n",
       "  * [This Is Water Revisited: Creativity Lost](https://openalex.org/W658137489)"
      ],
      "text/plain": [
       "<IPython.core.display.Markdown object>"
      ]
     },
     "metadata": {},
     "output_type": "display_data"
    },
    {
     "data": {
      "text/markdown": [
       "* Jennifer Perkins\n",
       "  * [Unpacking Engineering Faculty’s Discrepant Views of Mentoring through the Lens of Attachment Theory](https://openalex.org/W4391600086)"
      ],
      "text/plain": [
       "<IPython.core.display.Markdown object>"
      ]
     },
     "metadata": {},
     "output_type": "display_data"
    },
    {
     "data": {
      "text/markdown": [
       "* Samantha Brunhaver\n",
       "  * [Unpacking Engineering Faculty’s Discrepant Views of Mentoring through the Lens of Attachment Theory](https://openalex.org/W4391600086)"
      ],
      "text/plain": [
       "<IPython.core.display.Markdown object>"
      ]
     },
     "metadata": {},
     "output_type": "display_data"
    },
    {
     "data": {
      "text/markdown": [
       "* Adam Carberry\n",
       "  * [Unpacking Engineering Faculty’s Discrepant Views of Mentoring through the Lens of Attachment Theory](https://openalex.org/W4391600086)"
      ],
      "text/plain": [
       "<IPython.core.display.Markdown object>"
      ]
     },
     "metadata": {},
     "output_type": "display_data"
    },
    {
     "data": {
      "text/markdown": [
       "* Lauri Dietz\n",
       "  * [Wicked²: The increasing wickedness of educational developers as DEI cultural influencers](https://openalex.org/W4205894824)"
      ],
      "text/plain": [
       "<IPython.core.display.Markdown object>"
      ]
     },
     "metadata": {},
     "output_type": "display_data"
    },
    {
     "data": {
      "text/markdown": [
       "* Melissa E. Ko\n",
       "  * [Revolutionizing Grading: Implications on Power, Agency, and Equity](https://openalex.org/W4391963831)"
      ],
      "text/plain": [
       "<IPython.core.display.Markdown object>"
      ]
     },
     "metadata": {},
     "output_type": "display_data"
    },
    {
     "data": {
      "text/markdown": [
       "* Anniek de Ruijter\n",
       "  * [EU external health security policy and law](https://openalex.org/W2907980317)"
      ],
      "text/plain": [
       "<IPython.core.display.Markdown object>"
      ]
     },
     "metadata": {},
     "output_type": "display_data"
    },
    {
     "data": {
      "text/markdown": [
       "* Elisabeth Forster\n",
       "  * [1919 – The Year That Changed China](https://openalex.org/W4210986380)"
      ],
      "text/plain": [
       "<IPython.core.display.Markdown object>"
      ]
     },
     "metadata": {},
     "output_type": "display_data"
    },
    {
     "data": {
      "text/markdown": [
       "* Jorah Dannenberg\n",
       "  * [Promising as Doxastic Entrustment](https://openalex.org/W2972248255)"
      ],
      "text/plain": [
       "<IPython.core.display.Markdown object>"
      ]
     },
     "metadata": {},
     "output_type": "display_data"
    },
    {
     "data": {
      "text/markdown": [
       "* Ayça Alemdaroğlu\n",
       "  * [The University in the Making of Authoritarian Turkey](https://openalex.org/W4383960951)"
      ],
      "text/plain": [
       "<IPython.core.display.Markdown object>"
      ]
     },
     "metadata": {},
     "output_type": "display_data"
    },
    {
     "data": {
      "text/markdown": [
       "* Cassie A. Wright\n",
       "  * [<i>Composition in the Age of Austerity</i>, Nancy Welch and Tony Scott, eds.](https://openalex.org/W2613122352)"
      ],
      "text/plain": [
       "<IPython.core.display.Markdown object>"
      ]
     },
     "metadata": {},
     "output_type": "display_data"
    },
    {
     "data": {
      "text/markdown": [
       "* Chris Ford\n",
       "  * [Processing](https://openalex.org/W4250431239)"
      ],
      "text/plain": [
       "<IPython.core.display.Markdown object>"
      ]
     },
     "metadata": {},
     "output_type": "display_data"
    },
    {
     "data": {
      "text/markdown": [
       "* Jens Jungblut\n",
       "  * [A look back on some books we did not manage to review in 2017](https://openalex.org/W2783807313)"
      ],
      "text/plain": [
       "<IPython.core.display.Markdown object>"
      ]
     },
     "metadata": {},
     "output_type": "display_data"
    },
    {
     "data": {
      "text/markdown": [
       "* John Willinsky\n",
       "  * [If, Alongside Libraries, Funders Pulled Their Weight: A Study in Universal Open Access](https://openalex.org/W2957028843)"
      ],
      "text/plain": [
       "<IPython.core.display.Markdown object>"
      ]
     },
     "metadata": {},
     "output_type": "display_data"
    }
   ],
   "source": [
    "print_results('\"academic freedom\"')"
   ]
  },
  {
   "cell_type": "markdown",
   "id": "1119e010-1a9f-4c0e-94b0-49180199f475",
   "metadata": {},
   "source": [
    "### Free Speech"
   ]
  },
  {
   "cell_type": "code",
   "execution_count": 32,
   "id": "5c88b017-1cee-4751-9a66-a49a050176e1",
   "metadata": {},
   "outputs": [
    {
     "data": {
      "text/markdown": [
       "* Josiah Ober\n",
       "  * [Development and Political Theory in Classical Athens](https://openalex.org/W3122719624)\n",
       "  * [Development and Political Theory in Classical Athens](https://openalex.org/W1095857336)\n",
       "  * [A Theory of Democracy](https://openalex.org/W2738706274)\n",
       "  * [Democracy after Liberalism](https://openalex.org/W2738337334)"
      ],
      "text/plain": [
       "<IPython.core.display.Markdown object>"
      ]
     },
     "metadata": {},
     "output_type": "display_data"
    },
    {
     "data": {
      "text/markdown": [
       "* Barry R. Weingast\n",
       "  * [Development and Political Theory in Classical Athens](https://openalex.org/W3122719624)\n",
       "  * [Development and Political Theory in Classical Athens](https://openalex.org/W1095857336)\n",
       "  * [Capitalism, Democracy, and Countermajoritarian Institutions](https://openalex.org/W1059681994)"
      ],
      "text/plain": [
       "<IPython.core.display.Markdown object>"
      ]
     },
     "metadata": {},
     "output_type": "display_data"
    },
    {
     "data": {
      "text/markdown": [
       "* Hakeem Jefferson\n",
       "  * [Beyond the Ballot Box: A Conversation About Democracy and Policing in the United States](https://openalex.org/W4297519268)\n",
       "  * [White racial identity, political attitudes, and selective exposure to information about racism](https://openalex.org/W4379207953)\n",
       "  * [None](https://openalex.org/W4297509984)"
      ],
      "text/plain": [
       "<IPython.core.display.Markdown object>"
      ]
     },
     "metadata": {},
     "output_type": "display_data"
    },
    {
     "data": {
      "text/markdown": [
       "* Anna D. Gibson\n",
       "  * [Free Speech and Safe Spaces: How Moderation Policies Shape Online Discussion Spaces](https://openalex.org/W2932595524)\n",
       "  * [Safe Spaces &amp; Free Speech: Effects of Moderation Policy on Structures of Online Forum Discussions](https://openalex.org/W2574524142)"
      ],
      "text/plain": [
       "<IPython.core.display.Markdown object>"
      ]
     },
     "metadata": {},
     "output_type": "display_data"
    },
    {
     "data": {
      "text/markdown": [
       "* Eamonn Callan\n",
       "  * [Education in Safe and Unsafe Spaces](https://openalex.org/W2566803539)\n",
       "  * [Debate: Liberal Virtues and Civic Education](https://openalex.org/W1914456685)"
      ],
      "text/plain": [
       "<IPython.core.display.Markdown object>"
      ]
     },
     "metadata": {},
     "output_type": "display_data"
    },
    {
     "data": {
      "text/markdown": [
       "* Elias Aboujaoude\n",
       "  * [Cyberbullying: Review of an Old Problem Gone Viral](https://openalex.org/W1593589895)\n",
       "  * [Protecting privacy to protect mental health: the new ethical imperative](https://openalex.org/W2945903941)"
      ],
      "text/plain": [
       "<IPython.core.display.Markdown object>"
      ]
     },
     "metadata": {},
     "output_type": "display_data"
    },
    {
     "data": {
      "text/markdown": [
       "* Jonathan Mummolo\n",
       "  * [Assessing the Breadth of Framing Effects](https://openalex.org/W2552460768)\n",
       "  * [Assessing the Breadth of Framing Effects](https://openalex.org/W2952186088)"
      ],
      "text/plain": [
       "<IPython.core.display.Markdown object>"
      ]
     },
     "metadata": {},
     "output_type": "display_data"
    },
    {
     "data": {
      "text/markdown": [
       "* John W. Meyer\n",
       "  * [The Pyramid of Nonprofit Responsibility: The Institutionalization of Organizational Responsibility Across Sectors](https://openalex.org/W2891671424)\n",
       "  * [Illiberal Reactions to Higher Education](https://openalex.org/W4289866241)"
      ],
      "text/plain": [
       "<IPython.core.display.Markdown object>"
      ]
     },
     "metadata": {},
     "output_type": "display_data"
    },
    {
     "data": {
      "text/markdown": [
       "* Deepak Kumar\n",
       "  * [No Calm in the Storm: Investigating QAnon Website Relationships](https://openalex.org/W3175604790)\n",
       "  * [On the Infrastructure Providers That Support Misinformation Websites](https://openalex.org/W4312583375)"
      ],
      "text/plain": [
       "<IPython.core.display.Markdown object>"
      ]
     },
     "metadata": {},
     "output_type": "display_data"
    },
    {
     "data": {
      "text/markdown": [
       "* Zakir Durumeric\n",
       "  * [No Calm in the Storm: Investigating QAnon Website Relationships](https://openalex.org/W3175604790)\n",
       "  * [On the Infrastructure Providers That Support Misinformation Websites](https://openalex.org/W4312583375)"
      ],
      "text/plain": [
       "<IPython.core.display.Markdown object>"
      ]
     },
     "metadata": {},
     "output_type": "display_data"
    },
    {
     "data": {
      "text/markdown": [
       "* Jon A. Krosnick\n",
       "  * [Lack of Replication or Generalization? Cultural Values Explain a Question Wording Effect](https://openalex.org/W3186908110)\n",
       "  * [Implementing a Multinational Study of Questionnaire Design](https://openalex.org/W2893208751)"
      ],
      "text/plain": [
       "<IPython.core.display.Markdown object>"
      ]
     },
     "metadata": {},
     "output_type": "display_data"
    },
    {
     "data": {
      "text/markdown": [
       "* Jisha Menon\n",
       "  * [Introduction: Performing the Secular: Religion, Politics, and the Public Sphere](https://openalex.org/W2755783325)\n",
       "  * [Performing the Secular](https://openalex.org/W2756119157)"
      ],
      "text/plain": [
       "<IPython.core.display.Markdown object>"
      ]
     },
     "metadata": {},
     "output_type": "display_data"
    },
    {
     "data": {
      "text/markdown": [
       "* Tejúmólá Ọláníyan\n",
       "  * [Thinking with an Accent](https://openalex.org/W4366088804)\n",
       "  * [Thinking with an Accent: Toward a New Object, Method, and Practice](https://openalex.org/W4321435131)"
      ],
      "text/plain": [
       "<IPython.core.display.Markdown object>"
      ]
     },
     "metadata": {},
     "output_type": "display_data"
    },
    {
     "data": {
      "text/markdown": [
       "* Emily Apter\n",
       "  * [Thinking with an Accent](https://openalex.org/W4366088804)\n",
       "  * [Thinking with an Accent: Toward a New Object, Method, and Practice](https://openalex.org/W4321435131)"
      ],
      "text/plain": [
       "<IPython.core.display.Markdown object>"
      ]
     },
     "metadata": {},
     "output_type": "display_data"
    },
    {
     "data": {
      "text/markdown": [
       "* Lital Levy\n",
       "  * [Thinking with an Accent](https://openalex.org/W4366088804)\n",
       "  * [Thinking with an Accent: Toward a New Object, Method, and Practice](https://openalex.org/W4321435131)"
      ],
      "text/plain": [
       "<IPython.core.display.Markdown object>"
      ]
     },
     "metadata": {},
     "output_type": "display_data"
    },
    {
     "data": {
      "text/markdown": [
       "* Vicente L. Rafael\n",
       "  * [Thinking with an Accent](https://openalex.org/W4366088804)\n",
       "  * [Thinking with an Accent: Toward a New Object, Method, and Practice](https://openalex.org/W4321435131)"
      ],
      "text/plain": [
       "<IPython.core.display.Markdown object>"
      ]
     },
     "metadata": {},
     "output_type": "display_data"
    },
    {
     "data": {
      "text/markdown": [
       "* Rebecca L. Walkowitz\n",
       "  * [Thinking with an Accent](https://openalex.org/W4366088804)\n",
       "  * [Thinking with an Accent: Toward a New Object, Method, and Practice](https://openalex.org/W4321435131)"
      ],
      "text/plain": [
       "<IPython.core.display.Markdown object>"
      ]
     },
     "metadata": {},
     "output_type": "display_data"
    },
    {
     "data": {
      "text/markdown": [
       "* Walter D. Mignolo\n",
       "  * [Thinking with an Accent](https://openalex.org/W4366088804)\n",
       "  * [Thinking with an Accent: Toward a New Object, Method, and Practice](https://openalex.org/W4321435131)"
      ],
      "text/plain": [
       "<IPython.core.display.Markdown object>"
      ]
     },
     "metadata": {},
     "output_type": "display_data"
    },
    {
     "data": {
      "text/markdown": [
       "* Mara Mills\n",
       "  * [Thinking with an Accent](https://openalex.org/W4366088804)\n",
       "  * [Thinking with an Accent: Toward a New Object, Method, and Practice](https://openalex.org/W4321435131)"
      ],
      "text/plain": [
       "<IPython.core.display.Markdown object>"
      ]
     },
     "metadata": {},
     "output_type": "display_data"
    },
    {
     "data": {
      "text/markdown": [
       "* Kiran Mirchandani\n",
       "  * [Thinking with an Accent](https://openalex.org/W4366088804)\n",
       "  * [Thinking with an Accent: Toward a New Object, Method, and Practice](https://openalex.org/W4321435131)"
      ],
      "text/plain": [
       "<IPython.core.display.Markdown object>"
      ]
     },
     "metadata": {},
     "output_type": "display_data"
    },
    {
     "data": {
      "text/markdown": [
       "* Marjorie Perloff\n",
       "  * [From Language Poetry to the New Concretism: The Evolution of the Avant-Garde](https://openalex.org/W4285060790)\n",
       "  * [Literature of the Americas](https://openalex.org/W4285060219)"
      ],
      "text/plain": [
       "<IPython.core.display.Markdown object>"
      ]
     },
     "metadata": {},
     "output_type": "display_data"
    },
    {
     "data": {
      "text/markdown": [
       "* Robert H. Weisberg\n",
       "  * [Editors’ Introduction](https://openalex.org/W4252922793)\n",
       "  * [Editors’ Introduction](https://openalex.org/W4249970587)"
      ],
      "text/plain": [
       "<IPython.core.display.Markdown object>"
      ]
     },
     "metadata": {},
     "output_type": "display_data"
    },
    {
     "data": {
      "text/markdown": [
       "* Rory McCarthy\n",
       "  * [Protecting the Sacred: Tunisia's Islamist Movement Ennahdha and the Challenge of Free Speech](https://openalex.org/W2021516663)"
      ],
      "text/plain": [
       "<IPython.core.display.Markdown object>"
      ]
     },
     "metadata": {},
     "output_type": "display_data"
    },
    {
     "data": {
      "text/markdown": [
       "* Michelle M. Mello\n",
       "  * [Vaccine Misinformation and the First Amendment—The Price of Free Speech](https://openalex.org/W4220969295)"
      ],
      "text/plain": [
       "<IPython.core.display.Markdown object>"
      ]
     },
     "metadata": {},
     "output_type": "display_data"
    },
    {
     "data": {
      "text/markdown": [
       "* Herbert Lin\n",
       "  * [Improving Section 230, Preserving Democracy, and Protecting Free Speech](https://openalex.org/W4360603761)"
      ],
      "text/plain": [
       "<IPython.core.display.Markdown object>"
      ]
     },
     "metadata": {},
     "output_type": "display_data"
    },
    {
     "data": {
      "text/markdown": [
       "* Michael E. Bratman\n",
       "  * [Temptation and the Agent’s Standpoint](https://openalex.org/W2093599020)"
      ],
      "text/plain": [
       "<IPython.core.display.Markdown object>"
      ]
     },
     "metadata": {},
     "output_type": "display_data"
    },
    {
     "data": {
      "text/markdown": [
       "* Sonoo Thadaney Israni\n",
       "  * [Equity, Inclusivity, and Innovative Digital Technologies to Improve Adolescent and Young Adult Health](https://openalex.org/W3044203156)"
      ],
      "text/plain": [
       "<IPython.core.display.Markdown object>"
      ]
     },
     "metadata": {},
     "output_type": "display_data"
    },
    {
     "data": {
      "text/markdown": [
       "* Michael E. Matheny\n",
       "  * [Equity, Inclusivity, and Innovative Digital Technologies to Improve Adolescent and Young Adult Health](https://openalex.org/W3044203156)"
      ],
      "text/plain": [
       "<IPython.core.display.Markdown object>"
      ]
     },
     "metadata": {},
     "output_type": "display_data"
    },
    {
     "data": {
      "text/markdown": [
       "* Gregory Major Blascovich\n",
       "  * [The threat of increasing diversity: Why many White Americans support Trump in the 2016 presidential election](https://openalex.org/W2538146842)"
      ],
      "text/plain": [
       "<IPython.core.display.Markdown object>"
      ]
     },
     "metadata": {},
     "output_type": "display_data"
    },
    {
     "data": {
      "text/markdown": [
       "* Terry M. Moe\n",
       "  * [The End of Exceptionalism in American Education: The Changing Politics of School Reform](https://openalex.org/W1488751944)"
      ],
      "text/plain": [
       "<IPython.core.display.Markdown object>"
      ]
     },
     "metadata": {},
     "output_type": "display_data"
    },
    {
     "data": {
      "text/markdown": [
       "* David Jurgens\n",
       "  * [User Migration in Online Social Networks: A Case Study on Reddit During a Period of Community Unrest](https://openalex.org/W2570325132)"
      ],
      "text/plain": [
       "<IPython.core.display.Markdown object>"
      ]
     },
     "metadata": {},
     "output_type": "display_data"
    },
    {
     "data": {
      "text/markdown": [
       "* Andreas Kuehn\n",
       "  * [Unpacking the International Law on Cybersecurity Due Diligence: Lessons from the Public and Private Sectors](https://openalex.org/W2180877400)"
      ],
      "text/plain": [
       "<IPython.core.display.Markdown object>"
      ]
     },
     "metadata": {},
     "output_type": "display_data"
    },
    {
     "data": {
      "text/markdown": [
       "* Lisel Alice Murdock‐Perriera\n",
       "  * [From Backlash to Inclusion for All: Instituting Diversity Efforts to Maximize Benefits Across Group Lines](https://openalex.org/W2783630876)"
      ],
      "text/plain": [
       "<IPython.core.display.Markdown object>"
      ]
     },
     "metadata": {},
     "output_type": "display_data"
    },
    {
     "data": {
      "text/markdown": [
       "* Ann M. Weber\n",
       "  * [Gender equality and gender norms: framing the opportunities for health](https://openalex.org/W2946886418)"
      ],
      "text/plain": [
       "<IPython.core.display.Markdown object>"
      ]
     },
     "metadata": {},
     "output_type": "display_data"
    },
    {
     "data": {
      "text/markdown": [
       "* Sarah Henry\n",
       "  * [Gender equality and gender norms: framing the opportunities for health](https://openalex.org/W2946886418)"
      ],
      "text/plain": [
       "<IPython.core.display.Markdown object>"
      ]
     },
     "metadata": {},
     "output_type": "display_data"
    },
    {
     "data": {
      "text/markdown": [
       "* Gary L. Darmstadt\n",
       "  * [Gender equality and gender norms: framing the opportunities for health](https://openalex.org/W2946886418)"
      ],
      "text/plain": [
       "<IPython.core.display.Markdown object>"
      ]
     },
     "metadata": {},
     "output_type": "display_data"
    },
    {
     "data": {
      "text/markdown": [
       "* Karoly Nikolich\n",
       "  * [Building Bridges through Science](https://openalex.org/W2770038755)"
      ],
      "text/plain": [
       "<IPython.core.display.Markdown object>"
      ]
     },
     "metadata": {},
     "output_type": "display_data"
    },
    {
     "data": {
      "text/markdown": [
       "* Jonathan Pace\n",
       "  * [CYBERLIBERTARIANISM IN THE MID-1990S](https://openalex.org/W3092598249)"
      ],
      "text/plain": [
       "<IPython.core.display.Markdown object>"
      ]
     },
     "metadata": {},
     "output_type": "display_data"
    },
    {
     "data": {
      "text/markdown": [
       "* Ronald M. Kaplan\n",
       "  * [Computational Psycholinguistics](https://openalex.org/W3089051981)"
      ],
      "text/plain": [
       "<IPython.core.display.Markdown object>"
      ]
     },
     "metadata": {},
     "output_type": "display_data"
    },
    {
     "data": {
      "text/markdown": [
       "* Jamie L. Taxer\n",
       "  * [Independent and joint effects of teacher enthusiasm and motivation on student motivation and experiences: A field experiment](https://openalex.org/W2898520937)"
      ],
      "text/plain": [
       "<IPython.core.display.Markdown object>"
      ]
     },
     "metadata": {},
     "output_type": "display_data"
    },
    {
     "data": {
      "text/markdown": [
       "* Chethan Pandarinath\n",
       "  * [Stable long-term BCI-enabled communication in ALS and locked-in syndrome using LFP signals](https://openalex.org/W2801702694)"
      ],
      "text/plain": [
       "<IPython.core.display.Markdown object>"
      ]
     },
     "metadata": {},
     "output_type": "display_data"
    },
    {
     "data": {
      "text/markdown": [
       "* Christine H Blabe\n",
       "  * [Stable long-term BCI-enabled communication in ALS and locked-in syndrome using LFP signals](https://openalex.org/W2801702694)"
      ],
      "text/plain": [
       "<IPython.core.display.Markdown object>"
      ]
     },
     "metadata": {},
     "output_type": "display_data"
    },
    {
     "data": {
      "text/markdown": [
       "* Jaimie M. Henderson\n",
       "  * [Stable long-term BCI-enabled communication in ALS and locked-in syndrome using LFP signals](https://openalex.org/W2801702694)"
      ],
      "text/plain": [
       "<IPython.core.display.Markdown object>"
      ]
     },
     "metadata": {},
     "output_type": "display_data"
    },
    {
     "data": {
      "text/markdown": [
       "* Krishna V. Shenoy\n",
       "  * [Stable long-term BCI-enabled communication in ALS and locked-in syndrome using LFP signals](https://openalex.org/W2801702694)"
      ],
      "text/plain": [
       "<IPython.core.display.Markdown object>"
      ]
     },
     "metadata": {},
     "output_type": "display_data"
    },
    {
     "data": {
      "text/markdown": [
       "* Eric Avis\n",
       "  * [Money and Politics: The Effects of Campaign Spending Limits on Political Competition and Incumbency Advantage](https://openalex.org/W2624869805)"
      ],
      "text/plain": [
       "<IPython.core.display.Markdown object>"
      ]
     },
     "metadata": {},
     "output_type": "display_data"
    },
    {
     "data": {
      "text/markdown": [
       "* Claudio Ferraz\n",
       "  * [Money and Politics: The Effects of Campaign Spending Limits on Political Competition and Incumbency Advantage](https://openalex.org/W2624869805)"
      ],
      "text/plain": [
       "<IPython.core.display.Markdown object>"
      ]
     },
     "metadata": {},
     "output_type": "display_data"
    },
    {
     "data": {
      "text/markdown": [
       "* Frederico Finan\n",
       "  * [Money and Politics: The Effects of Campaign Spending Limits on Political Competition and Incumbency Advantage](https://openalex.org/W2624869805)"
      ],
      "text/plain": [
       "<IPython.core.display.Markdown object>"
      ]
     },
     "metadata": {},
     "output_type": "display_data"
    },
    {
     "data": {
      "text/markdown": [
       "* Carlos Varjão\n",
       "  * [Money and Politics: The Effects of Campaign Spending Limits on Political Competition and Incumbency Advantage](https://openalex.org/W2624869805)"
      ],
      "text/plain": [
       "<IPython.core.display.Markdown object>"
      ]
     },
     "metadata": {},
     "output_type": "display_data"
    },
    {
     "data": {
      "text/markdown": [
       "* Daniel Chambers\n",
       "  * [A Stanford Conference on Social Media, Ethics, and COVID-19 Misinformation (INFODEMIC): Qualitative Thematic Analysis](https://openalex.org/W4206062377)"
      ],
      "text/plain": [
       "<IPython.core.display.Markdown object>"
      ]
     },
     "metadata": {},
     "output_type": "display_data"
    },
    {
     "data": {
      "text/markdown": [
       "* Tatum Minh La\n",
       "  * [A Stanford Conference on Social Media, Ethics, and COVID-19 Misinformation (INFODEMIC): Qualitative Thematic Analysis](https://openalex.org/W4206062377)"
      ],
      "text/plain": [
       "<IPython.core.display.Markdown object>"
      ]
     },
     "metadata": {},
     "output_type": "display_data"
    },
    {
     "data": {
      "text/markdown": [
       "* Alexa Ryan\n",
       "  * [A Stanford Conference on Social Media, Ethics, and COVID-19 Misinformation (INFODEMIC): Qualitative Thematic Analysis](https://openalex.org/W4206062377)"
      ],
      "text/plain": [
       "<IPython.core.display.Markdown object>"
      ]
     },
     "metadata": {},
     "output_type": "display_data"
    },
    {
     "data": {
      "text/markdown": [
       "* Adyant Shankar\n",
       "  * [A Stanford Conference on Social Media, Ethics, and COVID-19 Misinformation (INFODEMIC): Qualitative Thematic Analysis](https://openalex.org/W4206062377)"
      ],
      "text/plain": [
       "<IPython.core.display.Markdown object>"
      ]
     },
     "metadata": {},
     "output_type": "display_data"
    },
    {
     "data": {
      "text/markdown": [
       "* Athena Xue\n",
       "  * [A Stanford Conference on Social Media, Ethics, and COVID-19 Misinformation (INFODEMIC): Qualitative Thematic Analysis](https://openalex.org/W4206062377)"
      ],
      "text/plain": [
       "<IPython.core.display.Markdown object>"
      ]
     },
     "metadata": {},
     "output_type": "display_data"
    },
    {
     "data": {
      "text/markdown": [
       "* Rachel Barber\n",
       "  * [A Stanford Conference on Social Media, Ethics, and COVID-19 Misinformation (INFODEMIC): Qualitative Thematic Analysis](https://openalex.org/W4206062377)"
      ],
      "text/plain": [
       "<IPython.core.display.Markdown object>"
      ]
     },
     "metadata": {},
     "output_type": "display_data"
    },
    {
     "data": {
      "text/markdown": [
       "* Nicholas T. Bott\n",
       "  * [A Study of Novel Exploratory Tools, Digital Technologies, and Central Nervous System Biomarkers to Characterize Unipolar Depression](https://openalex.org/W3158697864)"
      ],
      "text/plain": [
       "<IPython.core.display.Markdown object>"
      ]
     },
     "metadata": {},
     "output_type": "display_data"
    },
    {
     "data": {
      "text/markdown": [
       "* Chan Young Park\n",
       "  * [Challenges and Opportunities in Information Manipulation Detection: An Examination of Wartime Russian Media](https://openalex.org/W4385574356)"
      ],
      "text/plain": [
       "<IPython.core.display.Markdown object>"
      ]
     },
     "metadata": {},
     "output_type": "display_data"
    },
    {
     "data": {
      "text/markdown": [
       "* Julia Mendelsohn\n",
       "  * [Challenges and Opportunities in Information Manipulation Detection: An Examination of Wartime Russian Media](https://openalex.org/W4385574356)"
      ],
      "text/plain": [
       "<IPython.core.display.Markdown object>"
      ]
     },
     "metadata": {},
     "output_type": "display_data"
    },
    {
     "data": {
      "text/markdown": [
       "* Paul M. Sniderman\n",
       "  * [Some Advances in the Design of Survey Experiments](https://openalex.org/W2802604990)"
      ],
      "text/plain": [
       "<IPython.core.display.Markdown object>"
      ]
     },
     "metadata": {},
     "output_type": "display_data"
    },
    {
     "data": {
      "text/markdown": [
       "* Dennis P. Wall\n",
       "  * [The Quantified Brain: A Framework for Mobile Device-Based Assessment of Behavior and Neurological Function](https://openalex.org/W2345518922)"
      ],
      "text/plain": [
       "<IPython.core.display.Markdown object>"
      ]
     },
     "metadata": {},
     "output_type": "display_data"
    },
    {
     "data": {
      "text/markdown": [
       "* David E. Stark\n",
       "  * [The Quantified Brain: A Framework for Mobile Device-Based Assessment of Behavior and Neurological Function](https://openalex.org/W2345518922)"
      ],
      "text/plain": [
       "<IPython.core.display.Markdown object>"
      ]
     },
     "metadata": {},
     "output_type": "display_data"
    },
    {
     "data": {
      "text/markdown": [
       "* Rebecca Lewis\n",
       "  * [“We Dissect Stupidity and Respond to It”: Response Videos and Networked Harassment on YouTube](https://openalex.org/W4255701139)"
      ],
      "text/plain": [
       "<IPython.core.display.Markdown object>"
      ]
     },
     "metadata": {},
     "output_type": "display_data"
    },
    {
     "data": {
      "text/markdown": [
       "* Patricia Bromley\n",
       "  * [The Pyramid of Nonprofit Responsibility: The Institutionalization of Organizational Responsibility Across Sectors](https://openalex.org/W2891671424)"
      ],
      "text/plain": [
       "<IPython.core.display.Markdown object>"
      ]
     },
     "metadata": {},
     "output_type": "display_data"
    },
    {
     "data": {
      "text/markdown": [
       "* Mitchell L. Stevens\n",
       "  * [Association, Service, Market: Higher Education in American Political Development](https://openalex.org/W1917001711)"
      ],
      "text/plain": [
       "<IPython.core.display.Markdown object>"
      ]
     },
     "metadata": {},
     "output_type": "display_data"
    },
    {
     "data": {
      "text/markdown": [
       "* Louise Lu\n",
       "  * [Prosocial motives underlie scientific censorship by scientists: A perspective and research agenda](https://openalex.org/W4388819006)"
      ],
      "text/plain": [
       "<IPython.core.display.Markdown object>"
      ]
     },
     "metadata": {},
     "output_type": "display_data"
    },
    {
     "data": {
      "text/markdown": [
       "* Matthew Gentzkow\n",
       "  * [Measuring Group Differences in High-Dimensional Choices: Method and Application to Congressional Speech](https://openalex.org/W2885916966)"
      ],
      "text/plain": [
       "<IPython.core.display.Markdown object>"
      ]
     },
     "metadata": {},
     "output_type": "display_data"
    },
    {
     "data": {
      "text/markdown": [
       "* Jesse M. Shapiro\n",
       "  * [Measuring Group Differences in High-Dimensional Choices: Method and Application to Congressional Speech](https://openalex.org/W2885916966)"
      ],
      "text/plain": [
       "<IPython.core.display.Markdown object>"
      ]
     },
     "metadata": {},
     "output_type": "display_data"
    },
    {
     "data": {
      "text/markdown": [
       "* Matt Taddy\n",
       "  * [Measuring Group Differences in High-Dimensional Choices: Method and Application to Congressional Speech](https://openalex.org/W2885916966)"
      ],
      "text/plain": [
       "<IPython.core.display.Markdown object>"
      ]
     },
     "metadata": {},
     "output_type": "display_data"
    },
    {
     "data": {
      "text/markdown": [
       "* Harris A. Eyre\n",
       "  * [Brain health INnovation Diplomacy: a model binding diverse disciplines to manage the promise and perils of technological innovation](https://openalex.org/W3005043789)"
      ],
      "text/plain": [
       "<IPython.core.display.Markdown object>"
      ]
     },
     "metadata": {},
     "output_type": "display_data"
    },
    {
     "data": {
      "text/markdown": [
       "* W Greenleaf\n",
       "  * [Cyber-Humans: Our Future with Machines](https://openalex.org/W2565243572)"
      ],
      "text/plain": [
       "<IPython.core.display.Markdown object>"
      ]
     },
     "metadata": {},
     "output_type": "display_data"
    },
    {
     "data": {
      "text/markdown": [
       "* Hans W. A. Hanley\n",
       "  * [No Calm in the Storm: Investigating QAnon Website Relationships](https://openalex.org/W3175604790)"
      ],
      "text/plain": [
       "<IPython.core.display.Markdown object>"
      ]
     },
     "metadata": {},
     "output_type": "display_data"
    },
    {
     "data": {
      "text/markdown": [
       "* Keith Winstein\n",
       "  * [Privacy Protection in Online Multimedia](https://openalex.org/W2765646742)"
      ],
      "text/plain": [
       "<IPython.core.display.Markdown object>"
      ]
     },
     "metadata": {},
     "output_type": "display_data"
    },
    {
     "data": {
      "text/markdown": [
       "* Richard J. Shaw\n",
       "  * [Emotional expressiveness and avoidance in narratives of unaccompanied refugee minors](https://openalex.org/W2293038015)"
      ],
      "text/plain": [
       "<IPython.core.display.Markdown object>"
      ]
     },
     "metadata": {},
     "output_type": "display_data"
    },
    {
     "data": {
      "text/markdown": [
       "* Hans Steiner\n",
       "  * [Emotional expressiveness and avoidance in narratives of unaccompanied refugee minors](https://openalex.org/W2293038015)"
      ],
      "text/plain": [
       "<IPython.core.display.Markdown object>"
      ]
     },
     "metadata": {},
     "output_type": "display_data"
    },
    {
     "data": {
      "text/markdown": [
       "* Erika T. Hermanowicz\n",
       "  * [The Perversion of Virtue―Causes and Consequences of Threats to Academic Freedom in the Contemporary University](https://openalex.org/W4367319927)"
      ],
      "text/plain": [
       "<IPython.core.display.Markdown object>"
      ]
     },
     "metadata": {},
     "output_type": "display_data"
    },
    {
     "data": {
      "text/markdown": [
       "* Joseph C. Hermanowicz\n",
       "  * [The Perversion of Virtue―Causes and Consequences of Threats to Academic Freedom in the Contemporary University](https://openalex.org/W4367319927)"
      ],
      "text/plain": [
       "<IPython.core.display.Markdown object>"
      ]
     },
     "metadata": {},
     "output_type": "display_data"
    },
    {
     "data": {
      "text/markdown": [
       "* Carol S. Dweck\n",
       "  * [Is Education a Fundamental Right? People’s Lay Theories About Intellectual Potential Drive Their Positions on Education](https://openalex.org/W2624950597)"
      ],
      "text/plain": [
       "<IPython.core.display.Markdown object>"
      ]
     },
     "metadata": {},
     "output_type": "display_data"
    },
    {
     "data": {
      "text/markdown": [
       "* Shannon Wiltsey Stirman\n",
       "  * [De-Implementation Strategies to End Sexual Orientation and Gender Identity and Expression Change Efforts: Undoing a Harmful Legacy of Behavior Therapy](https://openalex.org/W4386724564)"
      ],
      "text/plain": [
       "<IPython.core.display.Markdown object>"
      ]
     },
     "metadata": {},
     "output_type": "display_data"
    },
    {
     "data": {
      "text/markdown": [
       "* Michael S. Bernstein\n",
       "  * [Embedding Societal Values into Social Media Algorithms](https://openalex.org/W4386966581)"
      ],
      "text/plain": [
       "<IPython.core.display.Markdown object>"
      ]
     },
     "metadata": {},
     "output_type": "display_data"
    },
    {
     "data": {
      "text/markdown": [
       "* Angéle Christin\n",
       "  * [Embedding Societal Values into Social Media Algorithms](https://openalex.org/W4386966581)"
      ],
      "text/plain": [
       "<IPython.core.display.Markdown object>"
      ]
     },
     "metadata": {},
     "output_type": "display_data"
    },
    {
     "data": {
      "text/markdown": [
       "* Jeffrey T. Hancock\n",
       "  * [Embedding Societal Values into Social Media Algorithms](https://openalex.org/W4386966581)"
      ],
      "text/plain": [
       "<IPython.core.display.Markdown object>"
      ]
     },
     "metadata": {},
     "output_type": "display_data"
    },
    {
     "data": {
      "text/markdown": [
       "* Tatsunori Hashimoto\n",
       "  * [Embedding Societal Values into Social Media Algorithms](https://openalex.org/W4386966581)"
      ],
      "text/plain": [
       "<IPython.core.display.Markdown object>"
      ]
     },
     "metadata": {},
     "output_type": "display_data"
    },
    {
     "data": {
      "text/markdown": [
       "* Chenyan Jia\n",
       "  * [Embedding Societal Values into Social Media Algorithms](https://openalex.org/W4386966581)"
      ],
      "text/plain": [
       "<IPython.core.display.Markdown object>"
      ]
     },
     "metadata": {},
     "output_type": "display_data"
    },
    {
     "data": {
      "text/markdown": [
       "* Michelle S. Lam\n",
       "  * [Embedding Societal Values into Social Media Algorithms](https://openalex.org/W4386966581)"
      ],
      "text/plain": [
       "<IPython.core.display.Markdown object>"
      ]
     },
     "metadata": {},
     "output_type": "display_data"
    },
    {
     "data": {
      "text/markdown": [
       "* Nicole Meister\n",
       "  * [Embedding Societal Values into Social Media Algorithms](https://openalex.org/W4386966581)"
      ],
      "text/plain": [
       "<IPython.core.display.Markdown object>"
      ]
     },
     "metadata": {},
     "output_type": "display_data"
    },
    {
     "data": {
      "text/markdown": [
       "* Nathaniel Persily\n",
       "  * [Embedding Societal Values into Social Media Algorithms](https://openalex.org/W4386966581)"
      ],
      "text/plain": [
       "<IPython.core.display.Markdown object>"
      ]
     },
     "metadata": {},
     "output_type": "display_data"
    },
    {
     "data": {
      "text/markdown": [
       "* Tiziano Piccardi\n",
       "  * [Embedding Societal Values into Social Media Algorithms](https://openalex.org/W4386966581)"
      ],
      "text/plain": [
       "<IPython.core.display.Markdown object>"
      ]
     },
     "metadata": {},
     "output_type": "display_data"
    },
    {
     "data": {
      "text/markdown": [
       "* Martin Saveski\n",
       "  * [Embedding Societal Values into Social Media Algorithms](https://openalex.org/W4386966581)"
      ],
      "text/plain": [
       "<IPython.core.display.Markdown object>"
      ]
     },
     "metadata": {},
     "output_type": "display_data"
    },
    {
     "data": {
      "text/markdown": [
       "* Jeanne L. Tsai\n",
       "  * [Embedding Societal Values into Social Media Algorithms](https://openalex.org/W4386966581)"
      ],
      "text/plain": [
       "<IPython.core.display.Markdown object>"
      ]
     },
     "metadata": {},
     "output_type": "display_data"
    },
    {
     "data": {
      "text/markdown": [
       "* Johan Ugander\n",
       "  * [Embedding Societal Values into Social Media Algorithms](https://openalex.org/W4386966581)"
      ],
      "text/plain": [
       "<IPython.core.display.Markdown object>"
      ]
     },
     "metadata": {},
     "output_type": "display_data"
    },
    {
     "data": {
      "text/markdown": [
       "* Chunchen Xu\n",
       "  * [Embedding Societal Values into Social Media Algorithms](https://openalex.org/W4386966581)"
      ],
      "text/plain": [
       "<IPython.core.display.Markdown object>"
      ]
     },
     "metadata": {},
     "output_type": "display_data"
    },
    {
     "data": {
      "text/markdown": [
       "* Nel Noddings\n",
       "  * [The Search for Meaning and Connection](https://openalex.org/W2573326911)"
      ],
      "text/plain": [
       "<IPython.core.display.Markdown object>"
      ]
     },
     "metadata": {},
     "output_type": "display_data"
    },
    {
     "data": {
      "text/markdown": [
       "* Catherine Han\n",
       "  * [On the Infrastructure Providers That Support Misinformation Websites](https://openalex.org/W4312583375)"
      ],
      "text/plain": [
       "<IPython.core.display.Markdown object>"
      ]
     },
     "metadata": {},
     "output_type": "display_data"
    },
    {
     "data": {
      "text/markdown": [
       "* Nilàm Ram\n",
       "  * [Immune cell dynamics in response to an acute laboratory stressor: a within-person between-group analysis of the biological impact of early life adversity](https://openalex.org/W4309667218)"
      ],
      "text/plain": [
       "<IPython.core.display.Markdown object>"
      ]
     },
     "metadata": {},
     "output_type": "display_data"
    },
    {
     "data": {
      "text/markdown": [
       "* Rachel Wetts\n",
       "  * [Antiracism and its Discontents: The Prevalence and Political Influence of Opposition to Antiracism among White Americans](https://openalex.org/W4311103321)"
      ],
      "text/plain": [
       "<IPython.core.display.Markdown object>"
      ]
     },
     "metadata": {},
     "output_type": "display_data"
    },
    {
     "data": {
      "text/markdown": [
       "* Robb Willer\n",
       "  * [Antiracism and its Discontents: The Prevalence and Political Influence of Opposition to Antiracism among White Americans](https://openalex.org/W4311103321)"
      ],
      "text/plain": [
       "<IPython.core.display.Markdown object>"
      ]
     },
     "metadata": {},
     "output_type": "display_data"
    },
    {
     "data": {
      "text/markdown": [
       "* Clay Calvert\n",
       "  * [The First Amendment Right to Record Images of Police in Public Places](https://openalex.org/W2548878679)"
      ],
      "text/plain": [
       "<IPython.core.display.Markdown object>"
      ]
     },
     "metadata": {},
     "output_type": "display_data"
    },
    {
     "data": {
      "text/markdown": [
       "* Duncan Green\n",
       "  * [How Change Happens](https://openalex.org/W4212949550)"
      ],
      "text/plain": [
       "<IPython.core.display.Markdown object>"
      ]
     },
     "metadata": {},
     "output_type": "display_data"
    },
    {
     "data": {
      "text/markdown": [
       "* Andrew Arthur Fitzgerald\n",
       "  * [Letting the Fascists Speak for Themselves: The Enabling of Authoritarians and the Need for a Partisan Press](https://openalex.org/W2851346869)"
      ],
      "text/plain": [
       "<IPython.core.display.Markdown object>"
      ]
     },
     "metadata": {},
     "output_type": "display_data"
    },
    {
     "data": {
      "text/markdown": [
       "* Tom Hank\n",
       "  * [Promoting Human Rights standards for lesbian, gay, bisexual, and transgender people from the perspective of International law](https://openalex.org/W4380224593)"
      ],
      "text/plain": [
       "<IPython.core.display.Markdown object>"
      ]
     },
     "metadata": {},
     "output_type": "display_data"
    },
    {
     "data": {
      "text/markdown": [
       "* José Luis Gandara\n",
       "  * [Beyond the Ballot Box: A Conversation About Democracy and Policing in the United States](https://openalex.org/W4297519268)"
      ],
      "text/plain": [
       "<IPython.core.display.Markdown object>"
      ]
     },
     "metadata": {},
     "output_type": "display_data"
    },
    {
     "data": {
      "text/markdown": [
       "* Lauri Dietz\n",
       "  * [Wicked²: The increasing wickedness of educational developers as DEI cultural influencers](https://openalex.org/W4205894824)"
      ],
      "text/plain": [
       "<IPython.core.display.Markdown object>"
      ]
     },
     "metadata": {},
     "output_type": "display_data"
    },
    {
     "data": {
      "text/markdown": [
       "* Timothy Sands\n",
       "  * [Improved Curve–Flattening for Flexible Space Robotics](https://openalex.org/W4368367453)"
      ],
      "text/plain": [
       "<IPython.core.display.Markdown object>"
      ]
     },
     "metadata": {},
     "output_type": "display_data"
    },
    {
     "data": {
      "text/markdown": [
       "* Federica Carugati\n",
       "  * [Development and Political Theory in Classical Athens](https://openalex.org/W1095857336)"
      ],
      "text/plain": [
       "<IPython.core.display.Markdown object>"
      ]
     },
     "metadata": {},
     "output_type": "display_data"
    },
    {
     "data": {
      "text/markdown": [
       "* Vicki Harrison\n",
       "  * [Social Contagion, from Suicide to Online Challenges to Eating Disorders: Current Research and Harm Mitigation Strategies for Youth Online](https://openalex.org/W4386966643)"
      ],
      "text/plain": [
       "<IPython.core.display.Markdown object>"
      ]
     },
     "metadata": {},
     "output_type": "display_data"
    },
    {
     "data": {
      "text/markdown": [
       "* José Manoel Gonçalves Gândara\n",
       "  * [None](https://openalex.org/W4297509984)"
      ],
      "text/plain": [
       "<IPython.core.display.Markdown object>"
      ]
     },
     "metadata": {},
     "output_type": "display_data"
    },
    {
     "data": {
      "text/markdown": [
       "* Michael Winton\n",
       "  * [None](https://openalex.org/W4297509984)"
      ],
      "text/plain": [
       "<IPython.core.display.Markdown object>"
      ]
     },
     "metadata": {},
     "output_type": "display_data"
    },
    {
     "data": {
      "text/markdown": [
       "* Green Distin\n",
       "  * [None](https://openalex.org/W4297509984)"
      ],
      "text/plain": [
       "<IPython.core.display.Markdown object>"
      ]
     },
     "metadata": {},
     "output_type": "display_data"
    },
    {
     "data": {
      "text/markdown": [
       "* Federico Bianchi\n",
       "  * [“Keep Your Heads Held High Boys!”: Examining the Relationship between the Proud Boys’ Online Discourse and Offline Activities](https://openalex.org/W4391780189)"
      ],
      "text/plain": [
       "<IPython.core.display.Markdown object>"
      ]
     },
     "metadata": {},
     "output_type": "display_data"
    },
    {
     "data": {
      "text/markdown": [
       "* Gerard N. Magliocca\n",
       "  * [From Ashes to Fire: Trademark and Copyright in Transition](https://openalex.org/W3125260666)"
      ],
      "text/plain": [
       "<IPython.core.display.Markdown object>"
      ]
     },
     "metadata": {},
     "output_type": "display_data"
    },
    {
     "data": {
      "text/markdown": [
       "* Jeffrey L. Vagle\n",
       "  * [Furtive Encryption: Power, Trust, and the Constitutional Cost of Collective Surveillance](https://openalex.org/W1505106749)"
      ],
      "text/plain": [
       "<IPython.core.display.Markdown object>"
      ]
     },
     "metadata": {},
     "output_type": "display_data"
    },
    {
     "data": {
      "text/markdown": [
       "* Robert A. Kaufman\n",
       "  * [Section 230 in the Post-COVID Era: Health Misinformation and Social Media](https://openalex.org/W4388788523)"
      ],
      "text/plain": [
       "<IPython.core.display.Markdown object>"
      ]
     },
     "metadata": {},
     "output_type": "display_data"
    },
    {
     "data": {
      "text/markdown": [
       "* Carole Mawson\n",
       "  * [Carnegie Speech Company. <i>NativeAccent. English Speech Training</i>](https://openalex.org/W2604860660)"
      ],
      "text/plain": [
       "<IPython.core.display.Markdown object>"
      ]
     },
     "metadata": {},
     "output_type": "display_data"
    },
    {
     "data": {
      "text/markdown": [
       "* Šumit Ganguly\n",
       "  * [Modi's Undeclared Emergency](https://openalex.org/W4381953254)"
      ],
      "text/plain": [
       "<IPython.core.display.Markdown object>"
      ]
     },
     "metadata": {},
     "output_type": "display_data"
    },
    {
     "data": {
      "text/markdown": [
       "* G. Pascal Zachary\n",
       "  * [Creating a U.S. National Journalism Foundation [Commentary]](https://openalex.org/W3088387751)"
      ],
      "text/plain": [
       "<IPython.core.display.Markdown object>"
      ]
     },
     "metadata": {},
     "output_type": "display_data"
    },
    {
     "data": {
      "text/markdown": [
       "* CAROLINE WINTERER\n",
       "  * [DEMOCRATIC VISTAS](https://openalex.org/W4241356757)"
      ],
      "text/plain": [
       "<IPython.core.display.Markdown object>"
      ]
     },
     "metadata": {},
     "output_type": "display_data"
    },
    {
     "data": {
      "text/markdown": [
       "* Ayça Alemdaroğlu\n",
       "  * [The University in the Making of Authoritarian Turkey](https://openalex.org/W4383960951)"
      ],
      "text/plain": [
       "<IPython.core.display.Markdown object>"
      ]
     },
     "metadata": {},
     "output_type": "display_data"
    },
    {
     "data": {
      "text/markdown": [
       "* Lucy Bernholz\n",
       "  * [Digital Public Policy: New Priorities for Nonprofits](https://openalex.org/W4321612155)"
      ],
      "text/plain": [
       "<IPython.core.display.Markdown object>"
      ]
     },
     "metadata": {},
     "output_type": "display_data"
    },
    {
     "data": {
      "text/markdown": [
       "* Toussaint Nothias\n",
       "  * [Digital Public Policy: New Priorities for Nonprofits](https://openalex.org/W4321612155)"
      ],
      "text/plain": [
       "<IPython.core.display.Markdown object>"
      ]
     },
     "metadata": {},
     "output_type": "display_data"
    },
    {
     "data": {
      "text/markdown": [
       "* Amélie-Sophie Vavrovsky\n",
       "  * [Digital Public Policy: New Priorities for Nonprofits](https://openalex.org/W4321612155)"
      ],
      "text/plain": [
       "<IPython.core.display.Markdown object>"
      ]
     },
     "metadata": {},
     "output_type": "display_data"
    },
    {
     "data": {
      "text/markdown": [
       "* Mike Wald\n",
       "  * [Children, Rights of: Cultural Concerns](https://openalex.org/W1541970018)"
      ],
      "text/plain": [
       "<IPython.core.display.Markdown object>"
      ]
     },
     "metadata": {},
     "output_type": "display_data"
    },
    {
     "data": {
      "text/markdown": [
       "* Bruce E. Cain\n",
       "  * [The Ascendancy of Reform Populism](https://openalex.org/W2498769028)"
      ],
      "text/plain": [
       "<IPython.core.display.Markdown object>"
      ]
     },
     "metadata": {},
     "output_type": "display_data"
    },
    {
     "data": {
      "text/markdown": [
       "* Jay Bhattacharya\n",
       "  * [Dr. Jay Bhattacharya Reveals Stanford University’s Attempts To Derail COVID Studies](https://openalex.org/W4386924307)"
      ],
      "text/plain": [
       "<IPython.core.display.Markdown object>"
      ]
     },
     "metadata": {},
     "output_type": "display_data"
    },
    {
     "data": {
      "text/markdown": [
       "* Robert W. Gordon\n",
       "  * [Originalism and Nostalgic Traditionalism](https://openalex.org/W2735141646)"
      ],
      "text/plain": [
       "<IPython.core.display.Markdown object>"
      ]
     },
     "metadata": {},
     "output_type": "display_data"
    },
    {
     "data": {
      "text/markdown": [
       "* Wajeeha Ahmad\n",
       "  * [The Role of Advertisers and Platforms in Monetizing Misinformation: Descriptive and Experimental Evidence](https://openalex.org/W4392767624)"
      ],
      "text/plain": [
       "<IPython.core.display.Markdown object>"
      ]
     },
     "metadata": {},
     "output_type": "display_data"
    },
    {
     "data": {
      "text/markdown": [
       "* Ashish Sen\n",
       "  * [The Role of Advertisers and Platforms in Monetizing Misinformation: Descriptive and Experimental Evidence](https://openalex.org/W4392767624)"
      ],
      "text/plain": [
       "<IPython.core.display.Markdown object>"
      ]
     },
     "metadata": {},
     "output_type": "display_data"
    },
    {
     "data": {
      "text/markdown": [
       "* Charles E. Eesley\n",
       "  * [The Role of Advertisers and Platforms in Monetizing Misinformation: Descriptive and Experimental Evidence](https://openalex.org/W4392767624)"
      ],
      "text/plain": [
       "<IPython.core.display.Markdown object>"
      ]
     },
     "metadata": {},
     "output_type": "display_data"
    },
    {
     "data": {
      "text/markdown": [
       "* Erik Brynjolfsson\n",
       "  * [The Role of Advertisers and Platforms in Monetizing Misinformation: Descriptive and Experimental Evidence](https://openalex.org/W4392767624)"
      ],
      "text/plain": [
       "<IPython.core.display.Markdown object>"
      ]
     },
     "metadata": {},
     "output_type": "display_data"
    },
    {
     "data": {
      "text/markdown": [
       "* In English\n",
       "  * [Literature of the Americas](https://openalex.org/W4285060219)"
      ],
      "text/plain": [
       "<IPython.core.display.Markdown object>"
      ]
     },
     "metadata": {},
     "output_type": "display_data"
    },
    {
     "data": {
      "text/markdown": [
       "* Sadie D. Patek\n",
       "  * [Literature of the Americas](https://openalex.org/W4285060219)"
      ],
      "text/plain": [
       "<IPython.core.display.Markdown object>"
      ]
     },
     "metadata": {},
     "output_type": "display_data"
    },
    {
     "data": {
      "text/markdown": [
       "* Kenneth Koch\n",
       "  * [Literature of the Americas](https://openalex.org/W4285060219)"
      ],
      "text/plain": [
       "<IPython.core.display.Markdown object>"
      ]
     },
     "metadata": {},
     "output_type": "display_data"
    },
    {
     "data": {
      "text/markdown": [
       "* John Ashbery\n",
       "  * [Literature of the Americas](https://openalex.org/W4285060219)"
      ],
      "text/plain": [
       "<IPython.core.display.Markdown object>"
      ]
     },
     "metadata": {},
     "output_type": "display_data"
    },
    {
     "data": {
      "text/markdown": [
       "* James D. Schuyler\n",
       "  * [Literature of the Americas](https://openalex.org/W4285060219)"
      ],
      "text/plain": [
       "<IPython.core.display.Markdown object>"
      ]
     },
     "metadata": {},
     "output_type": "display_data"
    },
    {
     "data": {
      "text/markdown": [
       "* Barbara Guest\n",
       "  * [Literature of the Americas](https://openalex.org/W4285060219)"
      ],
      "text/plain": [
       "<IPython.core.display.Markdown object>"
      ]
     },
     "metadata": {},
     "output_type": "display_data"
    },
    {
     "data": {
      "text/markdown": [
       "* Ron Padgett\n",
       "  * [Literature of the Americas](https://openalex.org/W4285060219)"
      ],
      "text/plain": [
       "<IPython.core.display.Markdown object>"
      ]
     },
     "metadata": {},
     "output_type": "display_data"
    },
    {
     "data": {
      "text/markdown": [
       "* Ted Berrigan\n",
       "  * [Literature of the Americas](https://openalex.org/W4285060219)"
      ],
      "text/plain": [
       "<IPython.core.display.Markdown object>"
      ]
     },
     "metadata": {},
     "output_type": "display_data"
    },
    {
     "data": {
      "text/markdown": [
       "* Bernadette But\n",
       "  * [Literature of the Americas](https://openalex.org/W4285060219)"
      ],
      "text/plain": [
       "<IPython.core.display.Markdown object>"
      ]
     },
     "metadata": {},
     "output_type": "display_data"
    },
    {
     "data": {
      "text/markdown": [
       "* New York\n",
       "  * [Literature of the Americas](https://openalex.org/W4285060219)"
      ],
      "text/plain": [
       "<IPython.core.display.Markdown object>"
      ]
     },
     "metadata": {},
     "output_type": "display_data"
    },
    {
     "data": {
      "text/markdown": [
       "* Анна Швец\n",
       "  * [Literature of the Americas](https://openalex.org/W4285060219)"
      ],
      "text/plain": [
       "<IPython.core.display.Markdown object>"
      ]
     },
     "metadata": {},
     "output_type": "display_data"
    },
    {
     "data": {
      "text/markdown": [
       "* Ben A. Barres\n",
       "  * [Ben A. Barres](https://openalex.org/W4324263578)"
      ],
      "text/plain": [
       "<IPython.core.display.Markdown object>"
      ]
     },
     "metadata": {},
     "output_type": "display_data"
    }
   ],
   "source": [
    "print_results('\"free speech\"')"
   ]
  },
  {
   "cell_type": "markdown",
   "id": "20f271a5-d559-47e8-a7b8-de95274cede8",
   "metadata": {},
   "source": [
    "### Campus Free Speech"
   ]
  },
  {
   "cell_type": "code",
   "execution_count": 34,
   "id": "72806d81-e554-4440-8a21-bad4c7c13183",
   "metadata": {},
   "outputs": [
    {
     "data": {
      "text/markdown": [
       "* Hakeem Jefferson\n",
       "  * [Beyond the Ballot Box: A Conversation About Democracy and Policing in the United States](https://openalex.org/W4297519268)\n",
       "  * [None](https://openalex.org/W4297509984)\n",
       "  * [White racial identity, political attitudes, and selective exposure to information about racism](https://openalex.org/W4379207953)"
      ],
      "text/plain": [
       "<IPython.core.display.Markdown object>"
      ]
     },
     "metadata": {},
     "output_type": "display_data"
    },
    {
     "data": {
      "text/markdown": [
       "* Tejúmólá Ọláníyan\n",
       "  * [Thinking with an Accent](https://openalex.org/W4366088804)\n",
       "  * [Thinking with an Accent: Toward a New Object, Method, and Practice](https://openalex.org/W4321435131)"
      ],
      "text/plain": [
       "<IPython.core.display.Markdown object>"
      ]
     },
     "metadata": {},
     "output_type": "display_data"
    },
    {
     "data": {
      "text/markdown": [
       "* Emily Apter\n",
       "  * [Thinking with an Accent](https://openalex.org/W4366088804)\n",
       "  * [Thinking with an Accent: Toward a New Object, Method, and Practice](https://openalex.org/W4321435131)"
      ],
      "text/plain": [
       "<IPython.core.display.Markdown object>"
      ]
     },
     "metadata": {},
     "output_type": "display_data"
    },
    {
     "data": {
      "text/markdown": [
       "* Lital Levy\n",
       "  * [Thinking with an Accent](https://openalex.org/W4366088804)\n",
       "  * [Thinking with an Accent: Toward a New Object, Method, and Practice](https://openalex.org/W4321435131)"
      ],
      "text/plain": [
       "<IPython.core.display.Markdown object>"
      ]
     },
     "metadata": {},
     "output_type": "display_data"
    },
    {
     "data": {
      "text/markdown": [
       "* Vicente L. Rafael\n",
       "  * [Thinking with an Accent](https://openalex.org/W4366088804)\n",
       "  * [Thinking with an Accent: Toward a New Object, Method, and Practice](https://openalex.org/W4321435131)"
      ],
      "text/plain": [
       "<IPython.core.display.Markdown object>"
      ]
     },
     "metadata": {},
     "output_type": "display_data"
    },
    {
     "data": {
      "text/markdown": [
       "* Rebecca L. Walkowitz\n",
       "  * [Thinking with an Accent](https://openalex.org/W4366088804)\n",
       "  * [Thinking with an Accent: Toward a New Object, Method, and Practice](https://openalex.org/W4321435131)"
      ],
      "text/plain": [
       "<IPython.core.display.Markdown object>"
      ]
     },
     "metadata": {},
     "output_type": "display_data"
    },
    {
     "data": {
      "text/markdown": [
       "* Walter D. Mignolo\n",
       "  * [Thinking with an Accent](https://openalex.org/W4366088804)\n",
       "  * [Thinking with an Accent: Toward a New Object, Method, and Practice](https://openalex.org/W4321435131)"
      ],
      "text/plain": [
       "<IPython.core.display.Markdown object>"
      ]
     },
     "metadata": {},
     "output_type": "display_data"
    },
    {
     "data": {
      "text/markdown": [
       "* Mara Mills\n",
       "  * [Thinking with an Accent](https://openalex.org/W4366088804)\n",
       "  * [Thinking with an Accent: Toward a New Object, Method, and Practice](https://openalex.org/W4321435131)"
      ],
      "text/plain": [
       "<IPython.core.display.Markdown object>"
      ]
     },
     "metadata": {},
     "output_type": "display_data"
    },
    {
     "data": {
      "text/markdown": [
       "* Kiran Mirchandani\n",
       "  * [Thinking with an Accent](https://openalex.org/W4366088804)\n",
       "  * [Thinking with an Accent: Toward a New Object, Method, and Practice](https://openalex.org/W4321435131)"
      ],
      "text/plain": [
       "<IPython.core.display.Markdown object>"
      ]
     },
     "metadata": {},
     "output_type": "display_data"
    },
    {
     "data": {
      "text/markdown": [
       "* Elias Aboujaoude\n",
       "  * [Cyberbullying: Review of an Old Problem Gone Viral](https://openalex.org/W1593589895)"
      ],
      "text/plain": [
       "<IPython.core.display.Markdown object>"
      ]
     },
     "metadata": {},
     "output_type": "display_data"
    },
    {
     "data": {
      "text/markdown": [
       "* Lisel Alice Murdock‐Perriera\n",
       "  * [From Backlash to Inclusion for All: Instituting Diversity Efforts to Maximize Benefits Across Group Lines](https://openalex.org/W2783630876)"
      ],
      "text/plain": [
       "<IPython.core.display.Markdown object>"
      ]
     },
     "metadata": {},
     "output_type": "display_data"
    },
    {
     "data": {
      "text/markdown": [
       "* Eamonn Callan\n",
       "  * [Education in Safe and Unsafe Spaces](https://openalex.org/W2566803539)"
      ],
      "text/plain": [
       "<IPython.core.display.Markdown object>"
      ]
     },
     "metadata": {},
     "output_type": "display_data"
    },
    {
     "data": {
      "text/markdown": [
       "* Mitchell L. Stevens\n",
       "  * [Association, Service, Market: Higher Education in American Political Development](https://openalex.org/W1917001711)"
      ],
      "text/plain": [
       "<IPython.core.display.Markdown object>"
      ]
     },
     "metadata": {},
     "output_type": "display_data"
    },
    {
     "data": {
      "text/markdown": [
       "* Anna D. Gibson\n",
       "  * [Safe Spaces &amp; Free Speech: Effects of Moderation Policy on Structures of Online Forum Discussions](https://openalex.org/W2574524142)"
      ],
      "text/plain": [
       "<IPython.core.display.Markdown object>"
      ]
     },
     "metadata": {},
     "output_type": "display_data"
    },
    {
     "data": {
      "text/markdown": [
       "* Erika T. Hermanowicz\n",
       "  * [The Perversion of Virtue―Causes and Consequences of Threats to Academic Freedom in the Contemporary University](https://openalex.org/W4367319927)"
      ],
      "text/plain": [
       "<IPython.core.display.Markdown object>"
      ]
     },
     "metadata": {},
     "output_type": "display_data"
    },
    {
     "data": {
      "text/markdown": [
       "* Joseph C. Hermanowicz\n",
       "  * [The Perversion of Virtue―Causes and Consequences of Threats to Academic Freedom in the Contemporary University](https://openalex.org/W4367319927)"
      ],
      "text/plain": [
       "<IPython.core.display.Markdown object>"
      ]
     },
     "metadata": {},
     "output_type": "display_data"
    },
    {
     "data": {
      "text/markdown": [
       "* Nel Noddings\n",
       "  * [The Search for Meaning and Connection](https://openalex.org/W2573326911)"
      ],
      "text/plain": [
       "<IPython.core.display.Markdown object>"
      ]
     },
     "metadata": {},
     "output_type": "display_data"
    },
    {
     "data": {
      "text/markdown": [
       "* Lauri Dietz\n",
       "  * [Wicked²: The increasing wickedness of educational developers as DEI cultural influencers](https://openalex.org/W4205894824)"
      ],
      "text/plain": [
       "<IPython.core.display.Markdown object>"
      ]
     },
     "metadata": {},
     "output_type": "display_data"
    },
    {
     "data": {
      "text/markdown": [
       "* José Luis Gandara\n",
       "  * [Beyond the Ballot Box: A Conversation About Democracy and Policing in the United States](https://openalex.org/W4297519268)"
      ],
      "text/plain": [
       "<IPython.core.display.Markdown object>"
      ]
     },
     "metadata": {},
     "output_type": "display_data"
    },
    {
     "data": {
      "text/markdown": [
       "* Jisha Menon\n",
       "  * [Performing the Secular](https://openalex.org/W2756119157)"
      ],
      "text/plain": [
       "<IPython.core.display.Markdown object>"
      ]
     },
     "metadata": {},
     "output_type": "display_data"
    },
    {
     "data": {
      "text/markdown": [
       "* José Manoel Gonçalves Gândara\n",
       "  * [None](https://openalex.org/W4297509984)"
      ],
      "text/plain": [
       "<IPython.core.display.Markdown object>"
      ]
     },
     "metadata": {},
     "output_type": "display_data"
    },
    {
     "data": {
      "text/markdown": [
       "* Michael Winton\n",
       "  * [None](https://openalex.org/W4297509984)"
      ],
      "text/plain": [
       "<IPython.core.display.Markdown object>"
      ]
     },
     "metadata": {},
     "output_type": "display_data"
    },
    {
     "data": {
      "text/markdown": [
       "* Green Distin\n",
       "  * [None](https://openalex.org/W4297509984)"
      ],
      "text/plain": [
       "<IPython.core.display.Markdown object>"
      ]
     },
     "metadata": {},
     "output_type": "display_data"
    },
    {
     "data": {
      "text/markdown": [
       "* Ayça Alemdaroğlu\n",
       "  * [The University in the Making of Authoritarian Turkey](https://openalex.org/W4383960951)"
      ],
      "text/plain": [
       "<IPython.core.display.Markdown object>"
      ]
     },
     "metadata": {},
     "output_type": "display_data"
    },
    {
     "data": {
      "text/markdown": [
       "* Jay Bhattacharya\n",
       "  * [Dr. Jay Bhattacharya Reveals Stanford University’s Attempts To Derail COVID Studies](https://openalex.org/W4386924307)"
      ],
      "text/plain": [
       "<IPython.core.display.Markdown object>"
      ]
     },
     "metadata": {},
     "output_type": "display_data"
    },
    {
     "data": {
      "text/markdown": [
       "* Ben A. Barres\n",
       "  * [Ben A. Barres](https://openalex.org/W4324263578)"
      ],
      "text/plain": [
       "<IPython.core.display.Markdown object>"
      ]
     },
     "metadata": {},
     "output_type": "display_data"
    }
   ],
   "source": [
    "print_results('campus \"free speech\"')"
   ]
  },
  {
   "cell_type": "code",
   "execution_count": 35,
   "id": "2272f696-b52f-4920-83a0-2f7659aa0e55",
   "metadata": {},
   "outputs": [
    {
     "data": {
      "text/markdown": [
       "* Robin Jia\n",
       "  * [Adversarial Examples for Evaluating Reading Comprehension Systems](https://openalex.org/W2963969878)"
      ],
      "text/plain": [
       "<IPython.core.display.Markdown object>"
      ]
     },
     "metadata": {},
     "output_type": "display_data"
    },
    {
     "data": {
      "text/markdown": [
       "* Percy Liang\n",
       "  * [Adversarial Examples for Evaluating Reading Comprehension Systems](https://openalex.org/W2963969878)"
      ],
      "text/plain": [
       "<IPython.core.display.Markdown object>"
      ]
     },
     "metadata": {},
     "output_type": "display_data"
    }
   ],
   "source": [
    "print_results('\"Kalven Report\"')"
   ]
  },
  {
   "cell_type": "code",
   "execution_count": 36,
   "id": "a3b9f3b7-c49b-4ea7-80bf-15bbdc93a8b5",
   "metadata": {},
   "outputs": [
    {
     "data": {
      "text/markdown": [
       "* Eamonn Callan\n",
       "  * [Education in Safe and Unsafe Spaces](https://openalex.org/W2566803539)"
      ],
      "text/plain": [
       "<IPython.core.display.Markdown object>"
      ]
     },
     "metadata": {},
     "output_type": "display_data"
    },
    {
     "data": {
      "text/markdown": [
       "* David Y. Yang\n",
       "  * [Curriculum and Ideology](https://openalex.org/W4214683418)"
      ],
      "text/plain": [
       "<IPython.core.display.Markdown object>"
      ]
     },
     "metadata": {},
     "output_type": "display_data"
    },
    {
     "data": {
      "text/markdown": [
       "* Nel Noddings\n",
       "  * [The Search for Meaning and Connection](https://openalex.org/W2573326911)"
      ],
      "text/plain": [
       "<IPython.core.display.Markdown object>"
      ]
     },
     "metadata": {},
     "output_type": "display_data"
    },
    {
     "data": {
      "text/markdown": [
       "* Erika T. Hermanowicz\n",
       "  * [The Perversion of Virtue―Causes and Consequences of Threats to Academic Freedom in the Contemporary University](https://openalex.org/W4367319927)"
      ],
      "text/plain": [
       "<IPython.core.display.Markdown object>"
      ]
     },
     "metadata": {},
     "output_type": "display_data"
    },
    {
     "data": {
      "text/markdown": [
       "* Joseph C. Hermanowicz\n",
       "  * [The Perversion of Virtue―Causes and Consequences of Threats to Academic Freedom in the Contemporary University](https://openalex.org/W4367319927)"
      ],
      "text/plain": [
       "<IPython.core.display.Markdown object>"
      ]
     },
     "metadata": {},
     "output_type": "display_data"
    },
    {
     "data": {
      "text/markdown": [
       "* James H. Mittelman\n",
       "  * [A Better Intellectual Community Is Possible: Dialogues with Ali A. Mazrui](https://openalex.org/W2060377431)"
      ],
      "text/plain": [
       "<IPython.core.display.Markdown object>"
      ]
     },
     "metadata": {},
     "output_type": "display_data"
    },
    {
     "data": {
      "text/markdown": [
       "* Jisha Menon\n",
       "  * [Performing the Secular](https://openalex.org/W2756119157)"
      ],
      "text/plain": [
       "<IPython.core.display.Markdown object>"
      ]
     },
     "metadata": {},
     "output_type": "display_data"
    },
    {
     "data": {
      "text/markdown": [
       "* Lee Ross\n",
       "  * [Barriers to agreement in the asymmetric Israeli–Palestinian conflict<sup>1</sup>](https://openalex.org/W2038228457)"
      ],
      "text/plain": [
       "<IPython.core.display.Markdown object>"
      ]
     },
     "metadata": {},
     "output_type": "display_data"
    }
   ],
   "source": [
    "print_results('campus civility')"
   ]
  },
  {
   "cell_type": "code",
   "execution_count": null,
   "id": "801cd8bd-5044-4186-9857-794f735d161c",
   "metadata": {},
   "outputs": [],
   "source": []
  }
 ],
 "metadata": {
  "kernelspec": {
   "display_name": "Python 3 (ipykernel)",
   "language": "python",
   "name": "python3"
  },
  "language_info": {
   "codemirror_mode": {
    "name": "ipython",
    "version": 3
   },
   "file_extension": ".py",
   "mimetype": "text/x-python",
   "name": "python",
   "nbconvert_exporter": "python",
   "pygments_lexer": "ipython3",
   "version": "3.12.2"
  }
 },
 "nbformat": 4,
 "nbformat_minor": 5
}
