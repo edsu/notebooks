{
 "cells": [
  {
   "cell_type": "markdown",
   "id": "bcf418db-84d3-4ee6-a9cc-d53e776cce05",
   "metadata": {},
   "source": [
    "# Stanford Campus Speech\n",
    "\n",
    "This notebook is an example of using the OpenAlex API to explore what researchers at Stanford University have written about *campus speech*, *free speech* and *academic freedom*."
   ]
  },
  {
   "cell_type": "markdown",
   "id": "bbc7f481-61a0-4a49-b611-dddcff784e50",
   "metadata": {},
   "source": [
    "## The OpenAlex API"
   ]
  },
  {
   "cell_type": "markdown",
   "id": "3d3c11a1-b97f-44cb-8ade-7981b6693ce3",
   "metadata": {},
   "source": [
    "First lets see how many articles there are from Stanford University in OpenAlex."
   ]
  },
  {
   "cell_type": "code",
   "execution_count": 72,
   "id": "4ed5cd6f-bf3c-430e-97c2-79b7f37d15b9",
   "metadata": {},
   "outputs": [
    {
     "data": {
      "text/plain": [
       "445809"
      ]
     },
     "execution_count": 72,
     "metadata": {},
     "output_type": "execute_result"
    }
   ],
   "source": [
    "import pyalex\n",
    "\n",
    "pyalex.config.email = \"ehs@pobox.com\"\n",
    "pyalex.config.retry_http_codes = [429, 500, 503]\n",
    "\n",
    "pyalex.Works().filter(institutions={\"id\": \"I97018004\"}).count()"
   ]
  },
  {
   "cell_type": "markdown",
   "id": "2ce26e4e-924d-48c2-b561-1874d503f311",
   "metadata": {},
   "source": [
    "We can also search the title and abstract for Works that match the phrase \"Academic Freedom\"."
   ]
  },
  {
   "cell_type": "code",
   "execution_count": 73,
   "id": "867bace2-4f66-473c-ba32-868e137c2c90",
   "metadata": {},
   "outputs": [
    {
     "data": {
      "text/plain": [
       "28218"
      ]
     },
     "execution_count": 73,
     "metadata": {},
     "output_type": "execute_result"
    }
   ],
   "source": [
    "pyalex.Works().filter(title_and_abstract={\"search\": \"'Academic Freedom'\"}).count()"
   ]
  },
  {
   "cell_type": "markdown",
   "id": "875ce8b5-1972-450e-b03d-1c4f4ff411e0",
   "metadata": {},
   "source": [
    "Here is what the titles of the first 10 results looks like:"
   ]
  },
  {
   "cell_type": "code",
   "execution_count": 104,
   "id": "90973c5a-2d4b-4b05-8aad-c6ef22aa6e31",
   "metadata": {},
   "outputs": [
    {
     "data": {
      "text/plain": [
       "[{'title': 'Academic freedom, private‐sector focus, and the process of innovation',\n",
       "  'publication_year': 2008},\n",
       " {'title': 'The Development of Academic Freedom in the United States',\n",
       "  'publication_year': 1956},\n",
       " {'title': 'Academic freedom, autonomy and accountability in British universities',\n",
       "  'publication_year': 1990},\n",
       " {'title': 'Academic Freedom Under Fire: The Case for Critical Pedagogy',\n",
       "  'publication_year': 2006},\n",
       " {'title': 'The Future of Academic Freedom', 'publication_year': 1997},\n",
       " {'title': 'Academic freedom in the age of the university',\n",
       "  'publication_year': 1961},\n",
       " {'title': 'Academic Freedom in Clinical Research', 'publication_year': 2002},\n",
       " {'title': 'Academic Freedom in Europe: A Preliminary Comparative Analysis',\n",
       "  'publication_year': 2007},\n",
       " {'title': 'Unintended consequences of cooperative research: impact of industry sponsorship on climate for academic freedom and other graduate student outcome',\n",
       "  'publication_year': 2001},\n",
       " {'title': 'The 1940 Statement of Principles on Academic Freedom and Tenure',\n",
       "  'publication_year': 1990}]"
      ]
     },
     "execution_count": 104,
     "metadata": {},
     "output_type": "execute_result"
    }
   ],
   "source": [
    "pyalex.Works().filter(title_and_abstract={\"search\": '\"Academic Freedom\"'}).select([\"title\", \"publication_year\"]).get(per_page=10)"
   ]
  },
  {
   "cell_type": "markdown",
   "id": "2f2cbdae-f9db-46f0-b8cd-426f17bace93",
   "metadata": {},
   "source": [
    "The search can be composed with a filter to limit to Works where one of the authors is from Stanford:"
   ]
  },
  {
   "cell_type": "code",
   "execution_count": 75,
   "id": "12d9884f-1220-4ab8-8a9a-310ae6aa3fb6",
   "metadata": {},
   "outputs": [
    {
     "data": {
      "text/plain": [
       "[{'title': 'Doing Medical Journals Differently: <i>Open Medicine,</i> Open Access, and Academic Freedom'},\n",
       " {'title': 'The Perversion of Virtue―Causes and Consequences of Threats to Academic Freedom in the Contemporary University'},\n",
       " {'title': 'Education in Safe and Unsafe Spaces'},\n",
       " {'title': 'Illiberal Reactions to Higher Education'},\n",
       " {'title': 'Academic Freedom in America — In Support of Institutional Voices'},\n",
       " {'title': 'The formalization of the university: rules, roots, and routes'},\n",
       " {'title': 'Policies on Faculty Conflicts of Interest at US Universities'},\n",
       " {'title': 'Adaptations of Avian Flu Virus Are a Cause for Concern'},\n",
       " {'title': 'A New Model for Industry–Academic Partnerships'},\n",
       " {'title': 'Eyes Wide Shut: University, State and Society'}]"
      ]
     },
     "execution_count": 75,
     "metadata": {},
     "output_type": "execute_result"
    }
   ],
   "source": [
    "pyalex.Works().search('\"Academic Freedom\"').filter(institutions={\"id\": \"I97018004\"}).select([\"title\"]).get(per_page=10)"
   ]
  },
  {
   "cell_type": "markdown",
   "id": "af2533cc-2715-431a-a5cb-53f3cce86e20",
   "metadata": {},
   "source": [
    "To determine who the Stanford researchers are we need to request the `authorships` data and filter where the `I97018004` code is listed as one of their institutions."
   ]
  },
  {
   "cell_type": "code",
   "execution_count": 76,
   "id": "061c29e2-881d-4ed3-9d25-5808bf3ecb99",
   "metadata": {},
   "outputs": [
    {
     "data": {
      "text/plain": [
       "{'title': 'Doing Medical Journals Differently: <i>Open Medicine,</i> Open Access, and Academic Freedom',\n",
       " 'authorships': [{'author_position': 'first',\n",
       "   'author': {'id': 'https://openalex.org/A5008862123',\n",
       "    'display_name': 'John Willinsky',\n",
       "    'orcid': 'https://orcid.org/0000-0001-6192-8687'},\n",
       "   'institutions': [{'id': 'https://openalex.org/I141945490',\n",
       "     'display_name': 'University of British Columbia',\n",
       "     'ror': 'https://ror.org/03rmrcq20',\n",
       "     'country_code': 'CA',\n",
       "     'type': 'education',\n",
       "     'lineage': ['https://openalex.org/I141945490']},\n",
       "    {'id': 'https://openalex.org/I97018004',\n",
       "     'display_name': 'Stanford University',\n",
       "     'ror': 'https://ror.org/00f54p054',\n",
       "     'country_code': 'US',\n",
       "     'type': 'education',\n",
       "     'lineage': ['https://openalex.org/I97018004']}],\n",
       "   'countries': ['CA', 'US'],\n",
       "   'is_corresponding': False,\n",
       "   'raw_author_name': 'John Willinsky',\n",
       "   'raw_affiliation_strings': ['Stanford University and the University of British Columbia'],\n",
       "   'affiliations': [{'raw_affiliation_string': 'Stanford University and the University of British Columbia',\n",
       "     'institution_ids': ['https://openalex.org/I141945490',\n",
       "      'https://openalex.org/I97018004']}]},\n",
       "  {'author_position': 'middle',\n",
       "   'author': {'id': 'https://openalex.org/A5077554177',\n",
       "    'display_name': 'Sally Murray',\n",
       "    'orcid': 'https://orcid.org/0009-0001-8849-5778'},\n",
       "   'institutions': [{'id': 'https://openalex.org/I93396115',\n",
       "     'display_name': 'The University of Notre Dame Australia',\n",
       "     'ror': 'https://ror.org/02stey378',\n",
       "     'country_code': 'AU',\n",
       "     'type': 'education',\n",
       "     'lineage': ['https://openalex.org/I93396115']}],\n",
       "   'countries': ['AU'],\n",
       "   'is_corresponding': False,\n",
       "   'raw_author_name': 'Sally Murray',\n",
       "   'raw_affiliation_strings': ['University of Notre Dame Australia#TAB#'],\n",
       "   'affiliations': [{'raw_affiliation_string': 'University of Notre Dame Australia#TAB#',\n",
       "     'institution_ids': ['https://openalex.org/I93396115']}]},\n",
       "  {'author_position': 'middle',\n",
       "   'author': {'id': 'https://openalex.org/A5000327707',\n",
       "    'display_name': 'Claire Kendall',\n",
       "    'orcid': 'https://orcid.org/0000-0003-2686-1135'},\n",
       "   'institutions': [{'id': 'https://openalex.org/I153718931',\n",
       "     'display_name': 'University of Ottawa',\n",
       "     'ror': 'https://ror.org/03c4mmv16',\n",
       "     'country_code': 'CA',\n",
       "     'type': 'education',\n",
       "     'lineage': ['https://openalex.org/I153718931']}],\n",
       "   'countries': ['CA'],\n",
       "   'is_corresponding': False,\n",
       "   'raw_author_name': 'Claire Kendall',\n",
       "   'raw_affiliation_strings': ['University of Ottawa CANADA'],\n",
       "   'affiliations': [{'raw_affiliation_string': 'University of Ottawa CANADA',\n",
       "     'institution_ids': ['https://openalex.org/I153718931']}]},\n",
       "  {'author_position': 'last',\n",
       "   'author': {'id': 'https://openalex.org/A5024216545',\n",
       "    'display_name': 'Anita Palepu',\n",
       "    'orcid': 'https://orcid.org/0000-0002-7881-4800'},\n",
       "   'institutions': [{'id': 'https://openalex.org/I141945490',\n",
       "     'display_name': 'University of British Columbia',\n",
       "     'ror': 'https://ror.org/03rmrcq20',\n",
       "     'country_code': 'CA',\n",
       "     'type': 'education',\n",
       "     'lineage': ['https://openalex.org/I141945490']}],\n",
       "   'countries': ['CA'],\n",
       "   'is_corresponding': False,\n",
       "   'raw_author_name': 'Anita Palepu',\n",
       "   'raw_affiliation_strings': ['University of British Columbia, Canada ,'],\n",
       "   'affiliations': [{'raw_affiliation_string': 'University of British Columbia, Canada ,',\n",
       "     'institution_ids': ['https://openalex.org/I141945490']}]}]}"
      ]
     },
     "execution_count": 76,
     "metadata": {},
     "output_type": "execute_result"
    }
   ],
   "source": [
    "work = pyalex.Works().search('\"Academic Freedom\"').filter(institutions={\"id\": \"I97018004\"}).select([\"title\", \"authorships\"]).get(per_page=1)[0]\n",
    "work"
   ]
  },
  {
   "cell_type": "code",
   "execution_count": 82,
   "id": "58cef9a2-b29c-4468-b181-7769fd2d7ccc",
   "metadata": {},
   "outputs": [
    {
     "name": "stdout",
     "output_type": "stream",
     "text": [
      "John Willinsky\n"
     ]
    }
   ],
   "source": [
    "for author in work['authorships']:\n",
    "    if 'https://openalex.org/I97018004' in [i['id'] for i in author['institutions']]:\n",
    "        print(author['author']['display_name'])"
   ]
  },
  {
   "cell_type": "markdown",
   "id": "a7cbdf63-e0df-4ad5-a897-658ac7661ccf",
   "metadata": {},
   "source": [
    "## Putting it Together\n",
    "\n",
    "Lets create a function that does this search and returns an iterator where each result is a tuple of an author and a work. One thing that is also useful to do here is limit to publications from the last 10 years since we are trying to find researchers who are currently at Stanford."
   ]
  },
  {
   "cell_type": "code",
   "execution_count": 105,
   "id": "8f2f550b-e760-4aac-a183-965ef4e64a65",
   "metadata": {},
   "outputs": [
    {
     "name": "stdout",
     "output_type": "stream",
     "text": [
      "Erika T. Hermanowicz\n",
      "The Perversion of Virtue―Causes and Consequences of Threats to Academic Freedom in the Contemporary University\n",
      "https://openalex.org/W4367319927\n"
     ]
    }
   ],
   "source": [
    "def search(q):\n",
    "    for page in pyalex.Works().search(f\"{q}\").filter(institutions={\"id\": \"I97018004\"}).paginate(per_page=200):\n",
    "        for work in page:\n",
    "            for author in work['authorships']:\n",
    "                if work['publication_year'] >= 2014 and 'https://openalex.org/I97018004' in [i['id'] for i in author['institutions']]:\n",
    "                    yield (author, work)\n",
    "\n",
    "author, work = next(search('\"academic freedom\"'))\n",
    "print(author['author']['display_name'])\n",
    "print(work['title'])\n",
    "print(work['id'])"
   ]
  },
  {
   "cell_type": "markdown",
   "id": "a7451001-f718-465a-8098-b677f2aa5a74",
   "metadata": {},
   "source": [
    "It would be useful to have a function that does the query and summarizes the results by printing the research name and the list of work IDs that matched:"
   ]
  },
  {
   "cell_type": "code",
   "execution_count": 145,
   "id": "82f008f7-f4fe-48f3-8151-0ffe7cb46487",
   "metadata": {},
   "outputs": [],
   "source": [
    "from collections import defaultdict\n",
    "from IPython.display import display, Markdown\n",
    "\n",
    "def print_results(q):\n",
    "    results = defaultdict(list)\n",
    "    \n",
    "    for author, work in search(q):\n",
    "        results[author['author']['display_name']].append(work)\n",
    "\n",
    "    for name in sorted(results, key=lambda name: len(results[name]), reverse=True):\n",
    "        ids = ', '.join(w['id'] for w in results[name])\n",
    "        display(Markdown(f\"{name}: {ids}\"))"
   ]
  },
  {
   "cell_type": "markdown",
   "id": "52c702cb-616f-4c1f-922b-fa02ffe18153",
   "metadata": {},
   "source": [
    "### Academic Freedom"
   ]
  },
  {
   "cell_type": "code",
   "execution_count": 146,
   "id": "7d7ea03b-36c2-4add-90c0-6eb67ca2f595",
   "metadata": {},
   "outputs": [
    {
     "data": {
      "text/markdown": [
       "Michelle M. Mello: https://openalex.org/W2949573220, https://openalex.org/W4214523602, https://openalex.org/W2886563298"
      ],
      "text/plain": [
       "<IPython.core.display.Markdown object>"
      ]
     },
     "metadata": {},
     "output_type": "display_data"
    },
    {
     "data": {
      "text/markdown": [
       "John W. Meyer: https://openalex.org/W4289866241, https://openalex.org/W4205238454"
      ],
      "text/plain": [
       "<IPython.core.display.Markdown object>"
      ]
     },
     "metadata": {},
     "output_type": "display_data"
    },
    {
     "data": {
      "text/markdown": [
       "Francisco O. Ramírez: https://openalex.org/W2962437407, https://openalex.org/W3027627788"
      ],
      "text/plain": [
       "<IPython.core.display.Markdown object>"
      ]
     },
     "metadata": {},
     "output_type": "display_data"
    },
    {
     "data": {
      "text/markdown": [
       "John P. A. Ioannidis: https://openalex.org/W3093968437, https://openalex.org/W2810885292"
      ],
      "text/plain": [
       "<IPython.core.display.Markdown object>"
      ]
     },
     "metadata": {},
     "output_type": "display_data"
    },
    {
     "data": {
      "text/markdown": [
       "Jay Bhattacharya: https://openalex.org/W3006456429, https://openalex.org/W4386924307"
      ],
      "text/plain": [
       "<IPython.core.display.Markdown object>"
      ]
     },
     "metadata": {},
     "output_type": "display_data"
    },
    {
     "data": {
      "text/markdown": [
       "Mitchell L. Stevens: https://openalex.org/W3154557225, https://openalex.org/W4243217009"
      ],
      "text/plain": [
       "<IPython.core.display.Markdown object>"
      ]
     },
     "metadata": {},
     "output_type": "display_data"
    },
    {
     "data": {
      "text/markdown": [
       "Erika T. Hermanowicz: https://openalex.org/W4367319927"
      ],
      "text/plain": [
       "<IPython.core.display.Markdown object>"
      ]
     },
     "metadata": {},
     "output_type": "display_data"
    },
    {
     "data": {
      "text/markdown": [
       "Joseph C. Hermanowicz: https://openalex.org/W4367319927"
      ],
      "text/plain": [
       "<IPython.core.display.Markdown object>"
      ]
     },
     "metadata": {},
     "output_type": "display_data"
    },
    {
     "data": {
      "text/markdown": [
       "Eamonn Callan: https://openalex.org/W2566803539"
      ],
      "text/plain": [
       "<IPython.core.display.Markdown object>"
      ]
     },
     "metadata": {},
     "output_type": "display_data"
    },
    {
     "data": {
      "text/markdown": [
       "Evan Mullen: https://openalex.org/W4400150739"
      ],
      "text/plain": [
       "<IPython.core.display.Markdown object>"
      ]
     },
     "metadata": {},
     "output_type": "display_data"
    },
    {
     "data": {
      "text/markdown": [
       "Eric J. Topol: https://openalex.org/W4400150739"
      ],
      "text/plain": [
       "<IPython.core.display.Markdown object>"
      ]
     },
     "metadata": {},
     "output_type": "display_data"
    },
    {
     "data": {
      "text/markdown": [
       "Abraham Verghese: https://openalex.org/W4400150739"
      ],
      "text/plain": [
       "<IPython.core.display.Markdown object>"
      ]
     },
     "metadata": {},
     "output_type": "display_data"
    },
    {
     "data": {
      "text/markdown": [
       "Gary King: https://openalex.org/W2969656656"
      ],
      "text/plain": [
       "<IPython.core.display.Markdown object>"
      ]
     },
     "metadata": {},
     "output_type": "display_data"
    },
    {
     "data": {
      "text/markdown": [
       "Nathaniel Persily: https://openalex.org/W2969656656"
      ],
      "text/plain": [
       "<IPython.core.display.Markdown object>"
      ]
     },
     "metadata": {},
     "output_type": "display_data"
    },
    {
     "data": {
      "text/markdown": [
       "Ali Borjian: https://openalex.org/W4292843545"
      ],
      "text/plain": [
       "<IPython.core.display.Markdown object>"
      ]
     },
     "metadata": {},
     "output_type": "display_data"
    },
    {
     "data": {
      "text/markdown": [
       "Johanna Rodehau-Noack: https://openalex.org/W4401792574"
      ],
      "text/plain": [
       "<IPython.core.display.Markdown object>"
      ]
     },
     "metadata": {},
     "output_type": "display_data"
    },
    {
     "data": {
      "text/markdown": [
       "Stephen Haber: https://openalex.org/W3122445785"
      ],
      "text/plain": [
       "<IPython.core.display.Markdown object>"
      ]
     },
     "metadata": {},
     "output_type": "display_data"
    },
    {
     "data": {
      "text/markdown": [
       "Seth H. Werfel: https://openalex.org/W3122445785"
      ],
      "text/plain": [
       "<IPython.core.display.Markdown object>"
      ]
     },
     "metadata": {},
     "output_type": "display_data"
    },
    {
     "data": {
      "text/markdown": [
       "Elisabeth Niklasson: https://openalex.org/W2788349117"
      ],
      "text/plain": [
       "<IPython.core.display.Markdown object>"
      ]
     },
     "metadata": {},
     "output_type": "display_data"
    },
    {
     "data": {
      "text/markdown": [
       "Marina Ranga: https://openalex.org/W2567473852"
      ],
      "text/plain": [
       "<IPython.core.display.Markdown object>"
      ]
     },
     "metadata": {},
     "output_type": "display_data"
    },
    {
     "data": {
      "text/markdown": [
       "Nel Noddings: https://openalex.org/W2516537225"
      ],
      "text/plain": [
       "<IPython.core.display.Markdown object>"
      ]
     },
     "metadata": {},
     "output_type": "display_data"
    },
    {
     "data": {
      "text/markdown": [
       "S. Gabriela Gavrila: https://openalex.org/W3027627788"
      ],
      "text/plain": [
       "<IPython.core.display.Markdown object>"
      ]
     },
     "metadata": {},
     "output_type": "display_data"
    },
    {
     "data": {
      "text/markdown": [
       "Shanil Ebrahim: https://openalex.org/W2472949758"
      ],
      "text/plain": [
       "<IPython.core.display.Markdown object>"
      ]
     },
     "metadata": {},
     "output_type": "display_data"
    },
    {
     "data": {
      "text/markdown": [
       "John F. Trepanowski: https://openalex.org/W2810885292"
      ],
      "text/plain": [
       "<IPython.core.display.Markdown object>"
      ]
     },
     "metadata": {},
     "output_type": "display_data"
    },
    {
     "data": {
      "text/markdown": [
       "Louise Lu: https://openalex.org/W4388819006"
      ],
      "text/plain": [
       "<IPython.core.display.Markdown object>"
      ]
     },
     "metadata": {},
     "output_type": "display_data"
    },
    {
     "data": {
      "text/markdown": [
       "Ethan W. Ris: https://openalex.org/W1087515698"
      ],
      "text/plain": [
       "<IPython.core.display.Markdown object>"
      ]
     },
     "metadata": {},
     "output_type": "display_data"
    },
    {
     "data": {
      "text/markdown": [
       "Mikko Packalén: https://openalex.org/W3006456429"
      ],
      "text/plain": [
       "<IPython.core.display.Markdown object>"
      ]
     },
     "metadata": {},
     "output_type": "display_data"
    },
    {
     "data": {
      "text/markdown": [
       "Megan J. Palmer: https://openalex.org/W2777513300"
      ],
      "text/plain": [
       "<IPython.core.display.Markdown object>"
      ]
     },
     "metadata": {},
     "output_type": "display_data"
    },
    {
     "data": {
      "text/markdown": [
       "Richard J. Shavelson: https://openalex.org/W2577392827"
      ],
      "text/plain": [
       "<IPython.core.display.Markdown object>"
      ]
     },
     "metadata": {},
     "output_type": "display_data"
    },
    {
     "data": {
      "text/markdown": [
       "Paolo Parigi: https://openalex.org/W2035878840"
      ],
      "text/plain": [
       "<IPython.core.display.Markdown object>"
      ]
     },
     "metadata": {},
     "output_type": "display_data"
    },
    {
     "data": {
      "text/markdown": [
       "Ben A. Barres: https://openalex.org/W2753111675"
      ],
      "text/plain": [
       "<IPython.core.display.Markdown object>"
      ]
     },
     "metadata": {},
     "output_type": "display_data"
    },
    {
     "data": {
      "text/markdown": [
       "James H. Mittelman: https://openalex.org/W2060377431"
      ],
      "text/plain": [
       "<IPython.core.display.Markdown object>"
      ]
     },
     "metadata": {},
     "output_type": "display_data"
    },
    {
     "data": {
      "text/markdown": [
       "Patricia Bromley: https://openalex.org/W4205238454"
      ],
      "text/plain": [
       "<IPython.core.display.Markdown object>"
      ]
     },
     "metadata": {},
     "output_type": "display_data"
    },
    {
     "data": {
      "text/markdown": [
       "Cristina M. Alvira: https://openalex.org/W2883007104"
      ],
      "text/plain": [
       "<IPython.core.display.Markdown object>"
      ]
     },
     "metadata": {},
     "output_type": "display_data"
    },
    {
     "data": {
      "text/markdown": [
       "Joy P. Ku: https://openalex.org/W2772507395"
      ],
      "text/plain": [
       "<IPython.core.display.Markdown object>"
      ]
     },
     "metadata": {},
     "output_type": "display_data"
    },
    {
     "data": {
      "text/markdown": [
       "Jennifer L. Hicks: https://openalex.org/W2772507395"
      ],
      "text/plain": [
       "<IPython.core.display.Markdown object>"
      ]
     },
     "metadata": {},
     "output_type": "display_data"
    },
    {
     "data": {
      "text/markdown": [
       "Scott L. Delp: https://openalex.org/W2772507395"
      ],
      "text/plain": [
       "<IPython.core.display.Markdown object>"
      ]
     },
     "metadata": {},
     "output_type": "display_data"
    },
    {
     "data": {
      "text/markdown": [
       "W. Bentley MacLeod: https://openalex.org/W4285581011"
      ],
      "text/plain": [
       "<IPython.core.display.Markdown object>"
      ]
     },
     "metadata": {},
     "output_type": "display_data"
    },
    {
     "data": {
      "text/markdown": [
       "Miguel Urquiola: https://openalex.org/W4285581011"
      ],
      "text/plain": [
       "<IPython.core.display.Markdown object>"
      ]
     },
     "metadata": {},
     "output_type": "display_data"
    },
    {
     "data": {
      "text/markdown": [
       "Alan K. Louie: https://openalex.org/W658137489"
      ],
      "text/plain": [
       "<IPython.core.display.Markdown object>"
      ]
     },
     "metadata": {},
     "output_type": "display_data"
    },
    {
     "data": {
      "text/markdown": [
       "Jennifer Perkins: https://openalex.org/W4391600086"
      ],
      "text/plain": [
       "<IPython.core.display.Markdown object>"
      ]
     },
     "metadata": {},
     "output_type": "display_data"
    },
    {
     "data": {
      "text/markdown": [
       "Samantha Brunhaver: https://openalex.org/W4391600086"
      ],
      "text/plain": [
       "<IPython.core.display.Markdown object>"
      ]
     },
     "metadata": {},
     "output_type": "display_data"
    },
    {
     "data": {
      "text/markdown": [
       "Adam Carberry: https://openalex.org/W4391600086"
      ],
      "text/plain": [
       "<IPython.core.display.Markdown object>"
      ]
     },
     "metadata": {},
     "output_type": "display_data"
    },
    {
     "data": {
      "text/markdown": [
       "Lauri Dietz: https://openalex.org/W4205894824"
      ],
      "text/plain": [
       "<IPython.core.display.Markdown object>"
      ]
     },
     "metadata": {},
     "output_type": "display_data"
    },
    {
     "data": {
      "text/markdown": [
       "Melissa E. Ko: https://openalex.org/W4391963831"
      ],
      "text/plain": [
       "<IPython.core.display.Markdown object>"
      ]
     },
     "metadata": {},
     "output_type": "display_data"
    },
    {
     "data": {
      "text/markdown": [
       "Anniek de Ruijter: https://openalex.org/W2907980317"
      ],
      "text/plain": [
       "<IPython.core.display.Markdown object>"
      ]
     },
     "metadata": {},
     "output_type": "display_data"
    },
    {
     "data": {
      "text/markdown": [
       "Elisabeth Forster: https://openalex.org/W4210986380"
      ],
      "text/plain": [
       "<IPython.core.display.Markdown object>"
      ]
     },
     "metadata": {},
     "output_type": "display_data"
    },
    {
     "data": {
      "text/markdown": [
       "Jorah Dannenberg: https://openalex.org/W2972248255"
      ],
      "text/plain": [
       "<IPython.core.display.Markdown object>"
      ]
     },
     "metadata": {},
     "output_type": "display_data"
    },
    {
     "data": {
      "text/markdown": [
       "Ayça Alemdaroğlu: https://openalex.org/W4383960951"
      ],
      "text/plain": [
       "<IPython.core.display.Markdown object>"
      ]
     },
     "metadata": {},
     "output_type": "display_data"
    },
    {
     "data": {
      "text/markdown": [
       "Cassie A. Wright: https://openalex.org/W2613122352"
      ],
      "text/plain": [
       "<IPython.core.display.Markdown object>"
      ]
     },
     "metadata": {},
     "output_type": "display_data"
    },
    {
     "data": {
      "text/markdown": [
       "Chris Ford: https://openalex.org/W4250431239"
      ],
      "text/plain": [
       "<IPython.core.display.Markdown object>"
      ]
     },
     "metadata": {},
     "output_type": "display_data"
    },
    {
     "data": {
      "text/markdown": [
       "Jens Jungblut: https://openalex.org/W2783807313"
      ],
      "text/plain": [
       "<IPython.core.display.Markdown object>"
      ]
     },
     "metadata": {},
     "output_type": "display_data"
    },
    {
     "data": {
      "text/markdown": [
       "John Willinsky: https://openalex.org/W2957028843"
      ],
      "text/plain": [
       "<IPython.core.display.Markdown object>"
      ]
     },
     "metadata": {},
     "output_type": "display_data"
    }
   ],
   "source": [
    "print_results('\"academic freedom\"')"
   ]
  },
  {
   "cell_type": "markdown",
   "id": "1119e010-1a9f-4c0e-94b0-49180199f475",
   "metadata": {},
   "source": [
    "### Free Speech"
   ]
  },
  {
   "cell_type": "code",
   "execution_count": 147,
   "id": "5c88b017-1cee-4751-9a66-a49a050176e1",
   "metadata": {},
   "outputs": [
    {
     "data": {
      "text/markdown": [
       "Josiah Ober: https://openalex.org/W3122719624, https://openalex.org/W1095857336, https://openalex.org/W2738706274, https://openalex.org/W2738337334"
      ],
      "text/plain": [
       "<IPython.core.display.Markdown object>"
      ]
     },
     "metadata": {},
     "output_type": "display_data"
    },
    {
     "data": {
      "text/markdown": [
       "Barry R. Weingast: https://openalex.org/W3122719624, https://openalex.org/W1095857336, https://openalex.org/W1059681994"
      ],
      "text/plain": [
       "<IPython.core.display.Markdown object>"
      ]
     },
     "metadata": {},
     "output_type": "display_data"
    },
    {
     "data": {
      "text/markdown": [
       "Hakeem Jefferson: https://openalex.org/W4297519268, https://openalex.org/W4379207953, https://openalex.org/W4297509984"
      ],
      "text/plain": [
       "<IPython.core.display.Markdown object>"
      ]
     },
     "metadata": {},
     "output_type": "display_data"
    },
    {
     "data": {
      "text/markdown": [
       "Anna D. Gibson: https://openalex.org/W2932595524, https://openalex.org/W2574524142"
      ],
      "text/plain": [
       "<IPython.core.display.Markdown object>"
      ]
     },
     "metadata": {},
     "output_type": "display_data"
    },
    {
     "data": {
      "text/markdown": [
       "Eamonn Callan: https://openalex.org/W2566803539, https://openalex.org/W1914456685"
      ],
      "text/plain": [
       "<IPython.core.display.Markdown object>"
      ]
     },
     "metadata": {},
     "output_type": "display_data"
    },
    {
     "data": {
      "text/markdown": [
       "Elias Aboujaoude: https://openalex.org/W1593589895, https://openalex.org/W2945903941"
      ],
      "text/plain": [
       "<IPython.core.display.Markdown object>"
      ]
     },
     "metadata": {},
     "output_type": "display_data"
    },
    {
     "data": {
      "text/markdown": [
       "Jonathan Mummolo: https://openalex.org/W2552460768, https://openalex.org/W2952186088"
      ],
      "text/plain": [
       "<IPython.core.display.Markdown object>"
      ]
     },
     "metadata": {},
     "output_type": "display_data"
    },
    {
     "data": {
      "text/markdown": [
       "John W. Meyer: https://openalex.org/W2891671424, https://openalex.org/W4289866241"
      ],
      "text/plain": [
       "<IPython.core.display.Markdown object>"
      ]
     },
     "metadata": {},
     "output_type": "display_data"
    },
    {
     "data": {
      "text/markdown": [
       "Deepak Kumar: https://openalex.org/W3175604790, https://openalex.org/W4312583375"
      ],
      "text/plain": [
       "<IPython.core.display.Markdown object>"
      ]
     },
     "metadata": {},
     "output_type": "display_data"
    },
    {
     "data": {
      "text/markdown": [
       "Zakir Durumeric: https://openalex.org/W3175604790, https://openalex.org/W4312583375"
      ],
      "text/plain": [
       "<IPython.core.display.Markdown object>"
      ]
     },
     "metadata": {},
     "output_type": "display_data"
    },
    {
     "data": {
      "text/markdown": [
       "Jon A. Krosnick: https://openalex.org/W3186908110, https://openalex.org/W2893208751"
      ],
      "text/plain": [
       "<IPython.core.display.Markdown object>"
      ]
     },
     "metadata": {},
     "output_type": "display_data"
    },
    {
     "data": {
      "text/markdown": [
       "Jisha Menon: https://openalex.org/W2755783325, https://openalex.org/W2756119157"
      ],
      "text/plain": [
       "<IPython.core.display.Markdown object>"
      ]
     },
     "metadata": {},
     "output_type": "display_data"
    },
    {
     "data": {
      "text/markdown": [
       "Tejúmólá Ọláníyan: https://openalex.org/W4366088804, https://openalex.org/W4321435131"
      ],
      "text/plain": [
       "<IPython.core.display.Markdown object>"
      ]
     },
     "metadata": {},
     "output_type": "display_data"
    },
    {
     "data": {
      "text/markdown": [
       "Emily Apter: https://openalex.org/W4366088804, https://openalex.org/W4321435131"
      ],
      "text/plain": [
       "<IPython.core.display.Markdown object>"
      ]
     },
     "metadata": {},
     "output_type": "display_data"
    },
    {
     "data": {
      "text/markdown": [
       "Lital Levy: https://openalex.org/W4366088804, https://openalex.org/W4321435131"
      ],
      "text/plain": [
       "<IPython.core.display.Markdown object>"
      ]
     },
     "metadata": {},
     "output_type": "display_data"
    },
    {
     "data": {
      "text/markdown": [
       "Vicente L. Rafael: https://openalex.org/W4366088804, https://openalex.org/W4321435131"
      ],
      "text/plain": [
       "<IPython.core.display.Markdown object>"
      ]
     },
     "metadata": {},
     "output_type": "display_data"
    },
    {
     "data": {
      "text/markdown": [
       "Rebecca L. Walkowitz: https://openalex.org/W4366088804, https://openalex.org/W4321435131"
      ],
      "text/plain": [
       "<IPython.core.display.Markdown object>"
      ]
     },
     "metadata": {},
     "output_type": "display_data"
    },
    {
     "data": {
      "text/markdown": [
       "Walter D. Mignolo: https://openalex.org/W4366088804, https://openalex.org/W4321435131"
      ],
      "text/plain": [
       "<IPython.core.display.Markdown object>"
      ]
     },
     "metadata": {},
     "output_type": "display_data"
    },
    {
     "data": {
      "text/markdown": [
       "Mara Mills: https://openalex.org/W4366088804, https://openalex.org/W4321435131"
      ],
      "text/plain": [
       "<IPython.core.display.Markdown object>"
      ]
     },
     "metadata": {},
     "output_type": "display_data"
    },
    {
     "data": {
      "text/markdown": [
       "Kiran Mirchandani: https://openalex.org/W4366088804, https://openalex.org/W4321435131"
      ],
      "text/plain": [
       "<IPython.core.display.Markdown object>"
      ]
     },
     "metadata": {},
     "output_type": "display_data"
    },
    {
     "data": {
      "text/markdown": [
       "Marjorie Perloff: https://openalex.org/W4285060790, https://openalex.org/W4285060219"
      ],
      "text/plain": [
       "<IPython.core.display.Markdown object>"
      ]
     },
     "metadata": {},
     "output_type": "display_data"
    },
    {
     "data": {
      "text/markdown": [
       "Robert H. Weisberg: https://openalex.org/W4252922793, https://openalex.org/W4249970587"
      ],
      "text/plain": [
       "<IPython.core.display.Markdown object>"
      ]
     },
     "metadata": {},
     "output_type": "display_data"
    },
    {
     "data": {
      "text/markdown": [
       "Rory McCarthy: https://openalex.org/W2021516663"
      ],
      "text/plain": [
       "<IPython.core.display.Markdown object>"
      ]
     },
     "metadata": {},
     "output_type": "display_data"
    },
    {
     "data": {
      "text/markdown": [
       "Michelle M. Mello: https://openalex.org/W4220969295"
      ],
      "text/plain": [
       "<IPython.core.display.Markdown object>"
      ]
     },
     "metadata": {},
     "output_type": "display_data"
    },
    {
     "data": {
      "text/markdown": [
       "Herbert Lin: https://openalex.org/W4360603761"
      ],
      "text/plain": [
       "<IPython.core.display.Markdown object>"
      ]
     },
     "metadata": {},
     "output_type": "display_data"
    },
    {
     "data": {
      "text/markdown": [
       "Michael E. Bratman: https://openalex.org/W2093599020"
      ],
      "text/plain": [
       "<IPython.core.display.Markdown object>"
      ]
     },
     "metadata": {},
     "output_type": "display_data"
    },
    {
     "data": {
      "text/markdown": [
       "Sonoo Thadaney Israni: https://openalex.org/W3044203156"
      ],
      "text/plain": [
       "<IPython.core.display.Markdown object>"
      ]
     },
     "metadata": {},
     "output_type": "display_data"
    },
    {
     "data": {
      "text/markdown": [
       "Michael E. Matheny: https://openalex.org/W3044203156"
      ],
      "text/plain": [
       "<IPython.core.display.Markdown object>"
      ]
     },
     "metadata": {},
     "output_type": "display_data"
    },
    {
     "data": {
      "text/markdown": [
       "Gregory Major Blascovich: https://openalex.org/W2538146842"
      ],
      "text/plain": [
       "<IPython.core.display.Markdown object>"
      ]
     },
     "metadata": {},
     "output_type": "display_data"
    },
    {
     "data": {
      "text/markdown": [
       "Terry M. Moe: https://openalex.org/W1488751944"
      ],
      "text/plain": [
       "<IPython.core.display.Markdown object>"
      ]
     },
     "metadata": {},
     "output_type": "display_data"
    },
    {
     "data": {
      "text/markdown": [
       "David Jurgens: https://openalex.org/W2570325132"
      ],
      "text/plain": [
       "<IPython.core.display.Markdown object>"
      ]
     },
     "metadata": {},
     "output_type": "display_data"
    },
    {
     "data": {
      "text/markdown": [
       "Andreas Kuehn: https://openalex.org/W2180877400"
      ],
      "text/plain": [
       "<IPython.core.display.Markdown object>"
      ]
     },
     "metadata": {},
     "output_type": "display_data"
    },
    {
     "data": {
      "text/markdown": [
       "Lisel Alice Murdock‐Perriera: https://openalex.org/W2783630876"
      ],
      "text/plain": [
       "<IPython.core.display.Markdown object>"
      ]
     },
     "metadata": {},
     "output_type": "display_data"
    },
    {
     "data": {
      "text/markdown": [
       "Ann M. Weber: https://openalex.org/W2946886418"
      ],
      "text/plain": [
       "<IPython.core.display.Markdown object>"
      ]
     },
     "metadata": {},
     "output_type": "display_data"
    },
    {
     "data": {
      "text/markdown": [
       "Sarah Henry: https://openalex.org/W2946886418"
      ],
      "text/plain": [
       "<IPython.core.display.Markdown object>"
      ]
     },
     "metadata": {},
     "output_type": "display_data"
    },
    {
     "data": {
      "text/markdown": [
       "Gary L. Darmstadt: https://openalex.org/W2946886418"
      ],
      "text/plain": [
       "<IPython.core.display.Markdown object>"
      ]
     },
     "metadata": {},
     "output_type": "display_data"
    },
    {
     "data": {
      "text/markdown": [
       "Karoly Nikolich: https://openalex.org/W2770038755"
      ],
      "text/plain": [
       "<IPython.core.display.Markdown object>"
      ]
     },
     "metadata": {},
     "output_type": "display_data"
    },
    {
     "data": {
      "text/markdown": [
       "Jonathan Pace: https://openalex.org/W3092598249"
      ],
      "text/plain": [
       "<IPython.core.display.Markdown object>"
      ]
     },
     "metadata": {},
     "output_type": "display_data"
    },
    {
     "data": {
      "text/markdown": [
       "Ronald M. Kaplan: https://openalex.org/W3089051981"
      ],
      "text/plain": [
       "<IPython.core.display.Markdown object>"
      ]
     },
     "metadata": {},
     "output_type": "display_data"
    },
    {
     "data": {
      "text/markdown": [
       "Jamie L. Taxer: https://openalex.org/W2898520937"
      ],
      "text/plain": [
       "<IPython.core.display.Markdown object>"
      ]
     },
     "metadata": {},
     "output_type": "display_data"
    },
    {
     "data": {
      "text/markdown": [
       "Chethan Pandarinath: https://openalex.org/W2801702694"
      ],
      "text/plain": [
       "<IPython.core.display.Markdown object>"
      ]
     },
     "metadata": {},
     "output_type": "display_data"
    },
    {
     "data": {
      "text/markdown": [
       "Christine H Blabe: https://openalex.org/W2801702694"
      ],
      "text/plain": [
       "<IPython.core.display.Markdown object>"
      ]
     },
     "metadata": {},
     "output_type": "display_data"
    },
    {
     "data": {
      "text/markdown": [
       "Jaimie M. Henderson: https://openalex.org/W2801702694"
      ],
      "text/plain": [
       "<IPython.core.display.Markdown object>"
      ]
     },
     "metadata": {},
     "output_type": "display_data"
    },
    {
     "data": {
      "text/markdown": [
       "Krishna V. Shenoy: https://openalex.org/W2801702694"
      ],
      "text/plain": [
       "<IPython.core.display.Markdown object>"
      ]
     },
     "metadata": {},
     "output_type": "display_data"
    },
    {
     "data": {
      "text/markdown": [
       "Eric Avis: https://openalex.org/W2624869805"
      ],
      "text/plain": [
       "<IPython.core.display.Markdown object>"
      ]
     },
     "metadata": {},
     "output_type": "display_data"
    },
    {
     "data": {
      "text/markdown": [
       "Claudio Ferraz: https://openalex.org/W2624869805"
      ],
      "text/plain": [
       "<IPython.core.display.Markdown object>"
      ]
     },
     "metadata": {},
     "output_type": "display_data"
    },
    {
     "data": {
      "text/markdown": [
       "Frederico Finan: https://openalex.org/W2624869805"
      ],
      "text/plain": [
       "<IPython.core.display.Markdown object>"
      ]
     },
     "metadata": {},
     "output_type": "display_data"
    },
    {
     "data": {
      "text/markdown": [
       "Carlos Varjão: https://openalex.org/W2624869805"
      ],
      "text/plain": [
       "<IPython.core.display.Markdown object>"
      ]
     },
     "metadata": {},
     "output_type": "display_data"
    },
    {
     "data": {
      "text/markdown": [
       "Daniel Chambers: https://openalex.org/W4206062377"
      ],
      "text/plain": [
       "<IPython.core.display.Markdown object>"
      ]
     },
     "metadata": {},
     "output_type": "display_data"
    },
    {
     "data": {
      "text/markdown": [
       "Tatum Minh La: https://openalex.org/W4206062377"
      ],
      "text/plain": [
       "<IPython.core.display.Markdown object>"
      ]
     },
     "metadata": {},
     "output_type": "display_data"
    },
    {
     "data": {
      "text/markdown": [
       "Alexa Ryan: https://openalex.org/W4206062377"
      ],
      "text/plain": [
       "<IPython.core.display.Markdown object>"
      ]
     },
     "metadata": {},
     "output_type": "display_data"
    },
    {
     "data": {
      "text/markdown": [
       "Adyant Shankar: https://openalex.org/W4206062377"
      ],
      "text/plain": [
       "<IPython.core.display.Markdown object>"
      ]
     },
     "metadata": {},
     "output_type": "display_data"
    },
    {
     "data": {
      "text/markdown": [
       "Athena Xue: https://openalex.org/W4206062377"
      ],
      "text/plain": [
       "<IPython.core.display.Markdown object>"
      ]
     },
     "metadata": {},
     "output_type": "display_data"
    },
    {
     "data": {
      "text/markdown": [
       "Rachel Barber: https://openalex.org/W4206062377"
      ],
      "text/plain": [
       "<IPython.core.display.Markdown object>"
      ]
     },
     "metadata": {},
     "output_type": "display_data"
    },
    {
     "data": {
      "text/markdown": [
       "Nicholas T. Bott: https://openalex.org/W3158697864"
      ],
      "text/plain": [
       "<IPython.core.display.Markdown object>"
      ]
     },
     "metadata": {},
     "output_type": "display_data"
    },
    {
     "data": {
      "text/markdown": [
       "Chan Young Park: https://openalex.org/W4385574356"
      ],
      "text/plain": [
       "<IPython.core.display.Markdown object>"
      ]
     },
     "metadata": {},
     "output_type": "display_data"
    },
    {
     "data": {
      "text/markdown": [
       "Julia Mendelsohn: https://openalex.org/W4385574356"
      ],
      "text/plain": [
       "<IPython.core.display.Markdown object>"
      ]
     },
     "metadata": {},
     "output_type": "display_data"
    },
    {
     "data": {
      "text/markdown": [
       "Paul M. Sniderman: https://openalex.org/W2802604990"
      ],
      "text/plain": [
       "<IPython.core.display.Markdown object>"
      ]
     },
     "metadata": {},
     "output_type": "display_data"
    },
    {
     "data": {
      "text/markdown": [
       "Dennis P. Wall: https://openalex.org/W2345518922"
      ],
      "text/plain": [
       "<IPython.core.display.Markdown object>"
      ]
     },
     "metadata": {},
     "output_type": "display_data"
    },
    {
     "data": {
      "text/markdown": [
       "David E. Stark: https://openalex.org/W2345518922"
      ],
      "text/plain": [
       "<IPython.core.display.Markdown object>"
      ]
     },
     "metadata": {},
     "output_type": "display_data"
    },
    {
     "data": {
      "text/markdown": [
       "Rebecca Lewis: https://openalex.org/W4255701139"
      ],
      "text/plain": [
       "<IPython.core.display.Markdown object>"
      ]
     },
     "metadata": {},
     "output_type": "display_data"
    },
    {
     "data": {
      "text/markdown": [
       "Patricia Bromley: https://openalex.org/W2891671424"
      ],
      "text/plain": [
       "<IPython.core.display.Markdown object>"
      ]
     },
     "metadata": {},
     "output_type": "display_data"
    },
    {
     "data": {
      "text/markdown": [
       "Mitchell L. Stevens: https://openalex.org/W1917001711"
      ],
      "text/plain": [
       "<IPython.core.display.Markdown object>"
      ]
     },
     "metadata": {},
     "output_type": "display_data"
    },
    {
     "data": {
      "text/markdown": [
       "Louise Lu: https://openalex.org/W4388819006"
      ],
      "text/plain": [
       "<IPython.core.display.Markdown object>"
      ]
     },
     "metadata": {},
     "output_type": "display_data"
    },
    {
     "data": {
      "text/markdown": [
       "Matthew Gentzkow: https://openalex.org/W2885916966"
      ],
      "text/plain": [
       "<IPython.core.display.Markdown object>"
      ]
     },
     "metadata": {},
     "output_type": "display_data"
    },
    {
     "data": {
      "text/markdown": [
       "Jesse M. Shapiro: https://openalex.org/W2885916966"
      ],
      "text/plain": [
       "<IPython.core.display.Markdown object>"
      ]
     },
     "metadata": {},
     "output_type": "display_data"
    },
    {
     "data": {
      "text/markdown": [
       "Matt Taddy: https://openalex.org/W2885916966"
      ],
      "text/plain": [
       "<IPython.core.display.Markdown object>"
      ]
     },
     "metadata": {},
     "output_type": "display_data"
    },
    {
     "data": {
      "text/markdown": [
       "Harris A. Eyre: https://openalex.org/W3005043789"
      ],
      "text/plain": [
       "<IPython.core.display.Markdown object>"
      ]
     },
     "metadata": {},
     "output_type": "display_data"
    },
    {
     "data": {
      "text/markdown": [
       "W Greenleaf: https://openalex.org/W2565243572"
      ],
      "text/plain": [
       "<IPython.core.display.Markdown object>"
      ]
     },
     "metadata": {},
     "output_type": "display_data"
    },
    {
     "data": {
      "text/markdown": [
       "Hans W. A. Hanley: https://openalex.org/W3175604790"
      ],
      "text/plain": [
       "<IPython.core.display.Markdown object>"
      ]
     },
     "metadata": {},
     "output_type": "display_data"
    },
    {
     "data": {
      "text/markdown": [
       "Keith Winstein: https://openalex.org/W2765646742"
      ],
      "text/plain": [
       "<IPython.core.display.Markdown object>"
      ]
     },
     "metadata": {},
     "output_type": "display_data"
    },
    {
     "data": {
      "text/markdown": [
       "Richard J. Shaw: https://openalex.org/W2293038015"
      ],
      "text/plain": [
       "<IPython.core.display.Markdown object>"
      ]
     },
     "metadata": {},
     "output_type": "display_data"
    },
    {
     "data": {
      "text/markdown": [
       "Hans Steiner: https://openalex.org/W2293038015"
      ],
      "text/plain": [
       "<IPython.core.display.Markdown object>"
      ]
     },
     "metadata": {},
     "output_type": "display_data"
    },
    {
     "data": {
      "text/markdown": [
       "Erika T. Hermanowicz: https://openalex.org/W4367319927"
      ],
      "text/plain": [
       "<IPython.core.display.Markdown object>"
      ]
     },
     "metadata": {},
     "output_type": "display_data"
    },
    {
     "data": {
      "text/markdown": [
       "Joseph C. Hermanowicz: https://openalex.org/W4367319927"
      ],
      "text/plain": [
       "<IPython.core.display.Markdown object>"
      ]
     },
     "metadata": {},
     "output_type": "display_data"
    },
    {
     "data": {
      "text/markdown": [
       "Carol S. Dweck: https://openalex.org/W2624950597"
      ],
      "text/plain": [
       "<IPython.core.display.Markdown object>"
      ]
     },
     "metadata": {},
     "output_type": "display_data"
    },
    {
     "data": {
      "text/markdown": [
       "Shannon Wiltsey Stirman: https://openalex.org/W4386724564"
      ],
      "text/plain": [
       "<IPython.core.display.Markdown object>"
      ]
     },
     "metadata": {},
     "output_type": "display_data"
    },
    {
     "data": {
      "text/markdown": [
       "Michael S. Bernstein: https://openalex.org/W4386966581"
      ],
      "text/plain": [
       "<IPython.core.display.Markdown object>"
      ]
     },
     "metadata": {},
     "output_type": "display_data"
    },
    {
     "data": {
      "text/markdown": [
       "Angéle Christin: https://openalex.org/W4386966581"
      ],
      "text/plain": [
       "<IPython.core.display.Markdown object>"
      ]
     },
     "metadata": {},
     "output_type": "display_data"
    },
    {
     "data": {
      "text/markdown": [
       "Jeffrey T. Hancock: https://openalex.org/W4386966581"
      ],
      "text/plain": [
       "<IPython.core.display.Markdown object>"
      ]
     },
     "metadata": {},
     "output_type": "display_data"
    },
    {
     "data": {
      "text/markdown": [
       "Tatsunori Hashimoto: https://openalex.org/W4386966581"
      ],
      "text/plain": [
       "<IPython.core.display.Markdown object>"
      ]
     },
     "metadata": {},
     "output_type": "display_data"
    },
    {
     "data": {
      "text/markdown": [
       "Chenyan Jia: https://openalex.org/W4386966581"
      ],
      "text/plain": [
       "<IPython.core.display.Markdown object>"
      ]
     },
     "metadata": {},
     "output_type": "display_data"
    },
    {
     "data": {
      "text/markdown": [
       "Michelle S. Lam: https://openalex.org/W4386966581"
      ],
      "text/plain": [
       "<IPython.core.display.Markdown object>"
      ]
     },
     "metadata": {},
     "output_type": "display_data"
    },
    {
     "data": {
      "text/markdown": [
       "Nicole Meister: https://openalex.org/W4386966581"
      ],
      "text/plain": [
       "<IPython.core.display.Markdown object>"
      ]
     },
     "metadata": {},
     "output_type": "display_data"
    },
    {
     "data": {
      "text/markdown": [
       "Nathaniel Persily: https://openalex.org/W4386966581"
      ],
      "text/plain": [
       "<IPython.core.display.Markdown object>"
      ]
     },
     "metadata": {},
     "output_type": "display_data"
    },
    {
     "data": {
      "text/markdown": [
       "Tiziano Piccardi: https://openalex.org/W4386966581"
      ],
      "text/plain": [
       "<IPython.core.display.Markdown object>"
      ]
     },
     "metadata": {},
     "output_type": "display_data"
    },
    {
     "data": {
      "text/markdown": [
       "Martin Saveski: https://openalex.org/W4386966581"
      ],
      "text/plain": [
       "<IPython.core.display.Markdown object>"
      ]
     },
     "metadata": {},
     "output_type": "display_data"
    },
    {
     "data": {
      "text/markdown": [
       "Jeanne L. Tsai: https://openalex.org/W4386966581"
      ],
      "text/plain": [
       "<IPython.core.display.Markdown object>"
      ]
     },
     "metadata": {},
     "output_type": "display_data"
    },
    {
     "data": {
      "text/markdown": [
       "Johan Ugander: https://openalex.org/W4386966581"
      ],
      "text/plain": [
       "<IPython.core.display.Markdown object>"
      ]
     },
     "metadata": {},
     "output_type": "display_data"
    },
    {
     "data": {
      "text/markdown": [
       "Chunchen Xu: https://openalex.org/W4386966581"
      ],
      "text/plain": [
       "<IPython.core.display.Markdown object>"
      ]
     },
     "metadata": {},
     "output_type": "display_data"
    },
    {
     "data": {
      "text/markdown": [
       "Nel Noddings: https://openalex.org/W2573326911"
      ],
      "text/plain": [
       "<IPython.core.display.Markdown object>"
      ]
     },
     "metadata": {},
     "output_type": "display_data"
    },
    {
     "data": {
      "text/markdown": [
       "Catherine Han: https://openalex.org/W4312583375"
      ],
      "text/plain": [
       "<IPython.core.display.Markdown object>"
      ]
     },
     "metadata": {},
     "output_type": "display_data"
    },
    {
     "data": {
      "text/markdown": [
       "Nilàm Ram: https://openalex.org/W4309667218"
      ],
      "text/plain": [
       "<IPython.core.display.Markdown object>"
      ]
     },
     "metadata": {},
     "output_type": "display_data"
    },
    {
     "data": {
      "text/markdown": [
       "Rachel Wetts: https://openalex.org/W4311103321"
      ],
      "text/plain": [
       "<IPython.core.display.Markdown object>"
      ]
     },
     "metadata": {},
     "output_type": "display_data"
    },
    {
     "data": {
      "text/markdown": [
       "Robb Willer: https://openalex.org/W4311103321"
      ],
      "text/plain": [
       "<IPython.core.display.Markdown object>"
      ]
     },
     "metadata": {},
     "output_type": "display_data"
    },
    {
     "data": {
      "text/markdown": [
       "Clay Calvert: https://openalex.org/W2548878679"
      ],
      "text/plain": [
       "<IPython.core.display.Markdown object>"
      ]
     },
     "metadata": {},
     "output_type": "display_data"
    },
    {
     "data": {
      "text/markdown": [
       "Duncan Green: https://openalex.org/W4212949550"
      ],
      "text/plain": [
       "<IPython.core.display.Markdown object>"
      ]
     },
     "metadata": {},
     "output_type": "display_data"
    },
    {
     "data": {
      "text/markdown": [
       "Andrew Arthur Fitzgerald: https://openalex.org/W2851346869"
      ],
      "text/plain": [
       "<IPython.core.display.Markdown object>"
      ]
     },
     "metadata": {},
     "output_type": "display_data"
    },
    {
     "data": {
      "text/markdown": [
       "Tom Hank: https://openalex.org/W4380224593"
      ],
      "text/plain": [
       "<IPython.core.display.Markdown object>"
      ]
     },
     "metadata": {},
     "output_type": "display_data"
    },
    {
     "data": {
      "text/markdown": [
       "José Luis Gandara: https://openalex.org/W4297519268"
      ],
      "text/plain": [
       "<IPython.core.display.Markdown object>"
      ]
     },
     "metadata": {},
     "output_type": "display_data"
    },
    {
     "data": {
      "text/markdown": [
       "Lauri Dietz: https://openalex.org/W4205894824"
      ],
      "text/plain": [
       "<IPython.core.display.Markdown object>"
      ]
     },
     "metadata": {},
     "output_type": "display_data"
    },
    {
     "data": {
      "text/markdown": [
       "Timothy Sands: https://openalex.org/W4368367453"
      ],
      "text/plain": [
       "<IPython.core.display.Markdown object>"
      ]
     },
     "metadata": {},
     "output_type": "display_data"
    },
    {
     "data": {
      "text/markdown": [
       "Federica Carugati: https://openalex.org/W1095857336"
      ],
      "text/plain": [
       "<IPython.core.display.Markdown object>"
      ]
     },
     "metadata": {},
     "output_type": "display_data"
    },
    {
     "data": {
      "text/markdown": [
       "Vicki Harrison: https://openalex.org/W4386966643"
      ],
      "text/plain": [
       "<IPython.core.display.Markdown object>"
      ]
     },
     "metadata": {},
     "output_type": "display_data"
    },
    {
     "data": {
      "text/markdown": [
       "José Manoel Gonçalves Gândara: https://openalex.org/W4297509984"
      ],
      "text/plain": [
       "<IPython.core.display.Markdown object>"
      ]
     },
     "metadata": {},
     "output_type": "display_data"
    },
    {
     "data": {
      "text/markdown": [
       "Michael Winton: https://openalex.org/W4297509984"
      ],
      "text/plain": [
       "<IPython.core.display.Markdown object>"
      ]
     },
     "metadata": {},
     "output_type": "display_data"
    },
    {
     "data": {
      "text/markdown": [
       "Green Distin: https://openalex.org/W4297509984"
      ],
      "text/plain": [
       "<IPython.core.display.Markdown object>"
      ]
     },
     "metadata": {},
     "output_type": "display_data"
    },
    {
     "data": {
      "text/markdown": [
       "Federico Bianchi: https://openalex.org/W4391780189"
      ],
      "text/plain": [
       "<IPython.core.display.Markdown object>"
      ]
     },
     "metadata": {},
     "output_type": "display_data"
    },
    {
     "data": {
      "text/markdown": [
       "Gerard N. Magliocca: https://openalex.org/W3125260666"
      ],
      "text/plain": [
       "<IPython.core.display.Markdown object>"
      ]
     },
     "metadata": {},
     "output_type": "display_data"
    },
    {
     "data": {
      "text/markdown": [
       "Jeffrey L. Vagle: https://openalex.org/W1505106749"
      ],
      "text/plain": [
       "<IPython.core.display.Markdown object>"
      ]
     },
     "metadata": {},
     "output_type": "display_data"
    },
    {
     "data": {
      "text/markdown": [
       "Robert A. Kaufman: https://openalex.org/W4388788523"
      ],
      "text/plain": [
       "<IPython.core.display.Markdown object>"
      ]
     },
     "metadata": {},
     "output_type": "display_data"
    },
    {
     "data": {
      "text/markdown": [
       "Carole Mawson: https://openalex.org/W2604860660"
      ],
      "text/plain": [
       "<IPython.core.display.Markdown object>"
      ]
     },
     "metadata": {},
     "output_type": "display_data"
    },
    {
     "data": {
      "text/markdown": [
       "Šumit Ganguly: https://openalex.org/W4381953254"
      ],
      "text/plain": [
       "<IPython.core.display.Markdown object>"
      ]
     },
     "metadata": {},
     "output_type": "display_data"
    },
    {
     "data": {
      "text/markdown": [
       "G. Pascal Zachary: https://openalex.org/W3088387751"
      ],
      "text/plain": [
       "<IPython.core.display.Markdown object>"
      ]
     },
     "metadata": {},
     "output_type": "display_data"
    },
    {
     "data": {
      "text/markdown": [
       "CAROLINE WINTERER: https://openalex.org/W4241356757"
      ],
      "text/plain": [
       "<IPython.core.display.Markdown object>"
      ]
     },
     "metadata": {},
     "output_type": "display_data"
    },
    {
     "data": {
      "text/markdown": [
       "Ayça Alemdaroğlu: https://openalex.org/W4383960951"
      ],
      "text/plain": [
       "<IPython.core.display.Markdown object>"
      ]
     },
     "metadata": {},
     "output_type": "display_data"
    },
    {
     "data": {
      "text/markdown": [
       "Lucy Bernholz: https://openalex.org/W4321612155"
      ],
      "text/plain": [
       "<IPython.core.display.Markdown object>"
      ]
     },
     "metadata": {},
     "output_type": "display_data"
    },
    {
     "data": {
      "text/markdown": [
       "Toussaint Nothias: https://openalex.org/W4321612155"
      ],
      "text/plain": [
       "<IPython.core.display.Markdown object>"
      ]
     },
     "metadata": {},
     "output_type": "display_data"
    },
    {
     "data": {
      "text/markdown": [
       "Amélie-Sophie Vavrovsky: https://openalex.org/W4321612155"
      ],
      "text/plain": [
       "<IPython.core.display.Markdown object>"
      ]
     },
     "metadata": {},
     "output_type": "display_data"
    },
    {
     "data": {
      "text/markdown": [
       "Mike Wald: https://openalex.org/W1541970018"
      ],
      "text/plain": [
       "<IPython.core.display.Markdown object>"
      ]
     },
     "metadata": {},
     "output_type": "display_data"
    },
    {
     "data": {
      "text/markdown": [
       "Bruce E. Cain: https://openalex.org/W2498769028"
      ],
      "text/plain": [
       "<IPython.core.display.Markdown object>"
      ]
     },
     "metadata": {},
     "output_type": "display_data"
    },
    {
     "data": {
      "text/markdown": [
       "Robert W. Gordon: https://openalex.org/W2735141646"
      ],
      "text/plain": [
       "<IPython.core.display.Markdown object>"
      ]
     },
     "metadata": {},
     "output_type": "display_data"
    },
    {
     "data": {
      "text/markdown": [
       "Jay Bhattacharya: https://openalex.org/W4386924307"
      ],
      "text/plain": [
       "<IPython.core.display.Markdown object>"
      ]
     },
     "metadata": {},
     "output_type": "display_data"
    },
    {
     "data": {
      "text/markdown": [
       "Wajeeha Ahmad: https://openalex.org/W4392767624"
      ],
      "text/plain": [
       "<IPython.core.display.Markdown object>"
      ]
     },
     "metadata": {},
     "output_type": "display_data"
    },
    {
     "data": {
      "text/markdown": [
       "Ashish Sen: https://openalex.org/W4392767624"
      ],
      "text/plain": [
       "<IPython.core.display.Markdown object>"
      ]
     },
     "metadata": {},
     "output_type": "display_data"
    },
    {
     "data": {
      "text/markdown": [
       "Charles E. Eesley: https://openalex.org/W4392767624"
      ],
      "text/plain": [
       "<IPython.core.display.Markdown object>"
      ]
     },
     "metadata": {},
     "output_type": "display_data"
    },
    {
     "data": {
      "text/markdown": [
       "Erik Brynjolfsson: https://openalex.org/W4392767624"
      ],
      "text/plain": [
       "<IPython.core.display.Markdown object>"
      ]
     },
     "metadata": {},
     "output_type": "display_data"
    },
    {
     "data": {
      "text/markdown": [
       "In English: https://openalex.org/W4285060219"
      ],
      "text/plain": [
       "<IPython.core.display.Markdown object>"
      ]
     },
     "metadata": {},
     "output_type": "display_data"
    },
    {
     "data": {
      "text/markdown": [
       "Sadie D. Patek: https://openalex.org/W4285060219"
      ],
      "text/plain": [
       "<IPython.core.display.Markdown object>"
      ]
     },
     "metadata": {},
     "output_type": "display_data"
    },
    {
     "data": {
      "text/markdown": [
       "Kenneth Koch: https://openalex.org/W4285060219"
      ],
      "text/plain": [
       "<IPython.core.display.Markdown object>"
      ]
     },
     "metadata": {},
     "output_type": "display_data"
    },
    {
     "data": {
      "text/markdown": [
       "John Ashbery: https://openalex.org/W4285060219"
      ],
      "text/plain": [
       "<IPython.core.display.Markdown object>"
      ]
     },
     "metadata": {},
     "output_type": "display_data"
    },
    {
     "data": {
      "text/markdown": [
       "James D. Schuyler: https://openalex.org/W4285060219"
      ],
      "text/plain": [
       "<IPython.core.display.Markdown object>"
      ]
     },
     "metadata": {},
     "output_type": "display_data"
    },
    {
     "data": {
      "text/markdown": [
       "Barbara Guest: https://openalex.org/W4285060219"
      ],
      "text/plain": [
       "<IPython.core.display.Markdown object>"
      ]
     },
     "metadata": {},
     "output_type": "display_data"
    },
    {
     "data": {
      "text/markdown": [
       "Ron Padgett: https://openalex.org/W4285060219"
      ],
      "text/plain": [
       "<IPython.core.display.Markdown object>"
      ]
     },
     "metadata": {},
     "output_type": "display_data"
    },
    {
     "data": {
      "text/markdown": [
       "Ted Berrigan: https://openalex.org/W4285060219"
      ],
      "text/plain": [
       "<IPython.core.display.Markdown object>"
      ]
     },
     "metadata": {},
     "output_type": "display_data"
    },
    {
     "data": {
      "text/markdown": [
       "Bernadette But: https://openalex.org/W4285060219"
      ],
      "text/plain": [
       "<IPython.core.display.Markdown object>"
      ]
     },
     "metadata": {},
     "output_type": "display_data"
    },
    {
     "data": {
      "text/markdown": [
       "New York: https://openalex.org/W4285060219"
      ],
      "text/plain": [
       "<IPython.core.display.Markdown object>"
      ]
     },
     "metadata": {},
     "output_type": "display_data"
    },
    {
     "data": {
      "text/markdown": [
       "Анна Швец: https://openalex.org/W4285060219"
      ],
      "text/plain": [
       "<IPython.core.display.Markdown object>"
      ]
     },
     "metadata": {},
     "output_type": "display_data"
    },
    {
     "data": {
      "text/markdown": [
       "Ben A. Barres: https://openalex.org/W4324263578"
      ],
      "text/plain": [
       "<IPython.core.display.Markdown object>"
      ]
     },
     "metadata": {},
     "output_type": "display_data"
    }
   ],
   "source": [
    "print_results('\"free speech\"')"
   ]
  },
  {
   "cell_type": "markdown",
   "id": "20f271a5-d559-47e8-a7b8-de95274cede8",
   "metadata": {},
   "source": [
    "### Campus Free Speech"
   ]
  },
  {
   "cell_type": "code",
   "execution_count": 148,
   "id": "72806d81-e554-4440-8a21-bad4c7c13183",
   "metadata": {},
   "outputs": [
    {
     "data": {
      "text/markdown": [
       "Hakeem Jefferson: https://openalex.org/W4297519268, https://openalex.org/W4297509984, https://openalex.org/W4379207953"
      ],
      "text/plain": [
       "<IPython.core.display.Markdown object>"
      ]
     },
     "metadata": {},
     "output_type": "display_data"
    },
    {
     "data": {
      "text/markdown": [
       "Tejúmólá Ọláníyan: https://openalex.org/W4366088804, https://openalex.org/W4321435131"
      ],
      "text/plain": [
       "<IPython.core.display.Markdown object>"
      ]
     },
     "metadata": {},
     "output_type": "display_data"
    },
    {
     "data": {
      "text/markdown": [
       "Emily Apter: https://openalex.org/W4366088804, https://openalex.org/W4321435131"
      ],
      "text/plain": [
       "<IPython.core.display.Markdown object>"
      ]
     },
     "metadata": {},
     "output_type": "display_data"
    },
    {
     "data": {
      "text/markdown": [
       "Lital Levy: https://openalex.org/W4366088804, https://openalex.org/W4321435131"
      ],
      "text/plain": [
       "<IPython.core.display.Markdown object>"
      ]
     },
     "metadata": {},
     "output_type": "display_data"
    },
    {
     "data": {
      "text/markdown": [
       "Vicente L. Rafael: https://openalex.org/W4366088804, https://openalex.org/W4321435131"
      ],
      "text/plain": [
       "<IPython.core.display.Markdown object>"
      ]
     },
     "metadata": {},
     "output_type": "display_data"
    },
    {
     "data": {
      "text/markdown": [
       "Rebecca L. Walkowitz: https://openalex.org/W4366088804, https://openalex.org/W4321435131"
      ],
      "text/plain": [
       "<IPython.core.display.Markdown object>"
      ]
     },
     "metadata": {},
     "output_type": "display_data"
    },
    {
     "data": {
      "text/markdown": [
       "Walter D. Mignolo: https://openalex.org/W4366088804, https://openalex.org/W4321435131"
      ],
      "text/plain": [
       "<IPython.core.display.Markdown object>"
      ]
     },
     "metadata": {},
     "output_type": "display_data"
    },
    {
     "data": {
      "text/markdown": [
       "Mara Mills: https://openalex.org/W4366088804, https://openalex.org/W4321435131"
      ],
      "text/plain": [
       "<IPython.core.display.Markdown object>"
      ]
     },
     "metadata": {},
     "output_type": "display_data"
    },
    {
     "data": {
      "text/markdown": [
       "Kiran Mirchandani: https://openalex.org/W4366088804, https://openalex.org/W4321435131"
      ],
      "text/plain": [
       "<IPython.core.display.Markdown object>"
      ]
     },
     "metadata": {},
     "output_type": "display_data"
    },
    {
     "data": {
      "text/markdown": [
       "Elias Aboujaoude: https://openalex.org/W1593589895"
      ],
      "text/plain": [
       "<IPython.core.display.Markdown object>"
      ]
     },
     "metadata": {},
     "output_type": "display_data"
    },
    {
     "data": {
      "text/markdown": [
       "Lisel Alice Murdock‐Perriera: https://openalex.org/W2783630876"
      ],
      "text/plain": [
       "<IPython.core.display.Markdown object>"
      ]
     },
     "metadata": {},
     "output_type": "display_data"
    },
    {
     "data": {
      "text/markdown": [
       "Eamonn Callan: https://openalex.org/W2566803539"
      ],
      "text/plain": [
       "<IPython.core.display.Markdown object>"
      ]
     },
     "metadata": {},
     "output_type": "display_data"
    },
    {
     "data": {
      "text/markdown": [
       "Mitchell L. Stevens: https://openalex.org/W1917001711"
      ],
      "text/plain": [
       "<IPython.core.display.Markdown object>"
      ]
     },
     "metadata": {},
     "output_type": "display_data"
    },
    {
     "data": {
      "text/markdown": [
       "Anna D. Gibson: https://openalex.org/W2574524142"
      ],
      "text/plain": [
       "<IPython.core.display.Markdown object>"
      ]
     },
     "metadata": {},
     "output_type": "display_data"
    },
    {
     "data": {
      "text/markdown": [
       "Erika T. Hermanowicz: https://openalex.org/W4367319927"
      ],
      "text/plain": [
       "<IPython.core.display.Markdown object>"
      ]
     },
     "metadata": {},
     "output_type": "display_data"
    },
    {
     "data": {
      "text/markdown": [
       "Joseph C. Hermanowicz: https://openalex.org/W4367319927"
      ],
      "text/plain": [
       "<IPython.core.display.Markdown object>"
      ]
     },
     "metadata": {},
     "output_type": "display_data"
    },
    {
     "data": {
      "text/markdown": [
       "Nel Noddings: https://openalex.org/W2573326911"
      ],
      "text/plain": [
       "<IPython.core.display.Markdown object>"
      ]
     },
     "metadata": {},
     "output_type": "display_data"
    },
    {
     "data": {
      "text/markdown": [
       "Lauri Dietz: https://openalex.org/W4205894824"
      ],
      "text/plain": [
       "<IPython.core.display.Markdown object>"
      ]
     },
     "metadata": {},
     "output_type": "display_data"
    },
    {
     "data": {
      "text/markdown": [
       "José Luis Gandara: https://openalex.org/W4297519268"
      ],
      "text/plain": [
       "<IPython.core.display.Markdown object>"
      ]
     },
     "metadata": {},
     "output_type": "display_data"
    },
    {
     "data": {
      "text/markdown": [
       "Jisha Menon: https://openalex.org/W2756119157"
      ],
      "text/plain": [
       "<IPython.core.display.Markdown object>"
      ]
     },
     "metadata": {},
     "output_type": "display_data"
    },
    {
     "data": {
      "text/markdown": [
       "José Manoel Gonçalves Gândara: https://openalex.org/W4297509984"
      ],
      "text/plain": [
       "<IPython.core.display.Markdown object>"
      ]
     },
     "metadata": {},
     "output_type": "display_data"
    },
    {
     "data": {
      "text/markdown": [
       "Michael Winton: https://openalex.org/W4297509984"
      ],
      "text/plain": [
       "<IPython.core.display.Markdown object>"
      ]
     },
     "metadata": {},
     "output_type": "display_data"
    },
    {
     "data": {
      "text/markdown": [
       "Green Distin: https://openalex.org/W4297509984"
      ],
      "text/plain": [
       "<IPython.core.display.Markdown object>"
      ]
     },
     "metadata": {},
     "output_type": "display_data"
    },
    {
     "data": {
      "text/markdown": [
       "Ayça Alemdaroğlu: https://openalex.org/W4383960951"
      ],
      "text/plain": [
       "<IPython.core.display.Markdown object>"
      ]
     },
     "metadata": {},
     "output_type": "display_data"
    },
    {
     "data": {
      "text/markdown": [
       "Jay Bhattacharya: https://openalex.org/W4386924307"
      ],
      "text/plain": [
       "<IPython.core.display.Markdown object>"
      ]
     },
     "metadata": {},
     "output_type": "display_data"
    },
    {
     "data": {
      "text/markdown": [
       "Ben A. Barres: https://openalex.org/W4324263578"
      ],
      "text/plain": [
       "<IPython.core.display.Markdown object>"
      ]
     },
     "metadata": {},
     "output_type": "display_data"
    }
   ],
   "source": [
    "print_results('campus \"free speech\"')"
   ]
  },
  {
   "cell_type": "code",
   "execution_count": 149,
   "id": "2272f696-b52f-4920-83a0-2f7659aa0e55",
   "metadata": {},
   "outputs": [
    {
     "data": {
      "text/markdown": [
       "Robin Jia: https://openalex.org/W2963969878"
      ],
      "text/plain": [
       "<IPython.core.display.Markdown object>"
      ]
     },
     "metadata": {},
     "output_type": "display_data"
    },
    {
     "data": {
      "text/markdown": [
       "Percy Liang: https://openalex.org/W2963969878"
      ],
      "text/plain": [
       "<IPython.core.display.Markdown object>"
      ]
     },
     "metadata": {},
     "output_type": "display_data"
    }
   ],
   "source": [
    "print_results('\"Kalven Report\"')"
   ]
  },
  {
   "cell_type": "code",
   "execution_count": 150,
   "id": "a3b9f3b7-c49b-4ea7-80bf-15bbdc93a8b5",
   "metadata": {},
   "outputs": [
    {
     "data": {
      "text/markdown": [
       "Eamonn Callan: https://openalex.org/W2566803539"
      ],
      "text/plain": [
       "<IPython.core.display.Markdown object>"
      ]
     },
     "metadata": {},
     "output_type": "display_data"
    },
    {
     "data": {
      "text/markdown": [
       "David Y. Yang: https://openalex.org/W4214683418"
      ],
      "text/plain": [
       "<IPython.core.display.Markdown object>"
      ]
     },
     "metadata": {},
     "output_type": "display_data"
    },
    {
     "data": {
      "text/markdown": [
       "Nel Noddings: https://openalex.org/W2573326911"
      ],
      "text/plain": [
       "<IPython.core.display.Markdown object>"
      ]
     },
     "metadata": {},
     "output_type": "display_data"
    },
    {
     "data": {
      "text/markdown": [
       "Erika T. Hermanowicz: https://openalex.org/W4367319927"
      ],
      "text/plain": [
       "<IPython.core.display.Markdown object>"
      ]
     },
     "metadata": {},
     "output_type": "display_data"
    },
    {
     "data": {
      "text/markdown": [
       "Joseph C. Hermanowicz: https://openalex.org/W4367319927"
      ],
      "text/plain": [
       "<IPython.core.display.Markdown object>"
      ]
     },
     "metadata": {},
     "output_type": "display_data"
    },
    {
     "data": {
      "text/markdown": [
       "James H. Mittelman: https://openalex.org/W2060377431"
      ],
      "text/plain": [
       "<IPython.core.display.Markdown object>"
      ]
     },
     "metadata": {},
     "output_type": "display_data"
    },
    {
     "data": {
      "text/markdown": [
       "Jisha Menon: https://openalex.org/W2756119157"
      ],
      "text/plain": [
       "<IPython.core.display.Markdown object>"
      ]
     },
     "metadata": {},
     "output_type": "display_data"
    },
    {
     "data": {
      "text/markdown": [
       "Lee Ross: https://openalex.org/W2038228457"
      ],
      "text/plain": [
       "<IPython.core.display.Markdown object>"
      ]
     },
     "metadata": {},
     "output_type": "display_data"
    }
   ],
   "source": [
    "print_results('campus civility')"
   ]
  },
  {
   "cell_type": "code",
   "execution_count": null,
   "id": "801cd8bd-5044-4186-9857-794f735d161c",
   "metadata": {},
   "outputs": [],
   "source": []
  }
 ],
 "metadata": {
  "kernelspec": {
   "display_name": "Python 3 (ipykernel)",
   "language": "python",
   "name": "python3"
  },
  "language_info": {
   "codemirror_mode": {
    "name": "ipython",
    "version": 3
   },
   "file_extension": ".py",
   "mimetype": "text/x-python",
   "name": "python",
   "nbconvert_exporter": "python",
   "pygments_lexer": "ipython3",
   "version": "3.12.2"
  }
 },
 "nbformat": 4,
 "nbformat_minor": 5
}
