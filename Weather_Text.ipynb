{
  "nbformat": 4,
  "nbformat_minor": 0,
  "metadata": {
    "colab": {
      "name": "Weather Text",
      "provenance": [],
      "collapsed_sections": []
    },
    "kernelspec": {
      "name": "python3",
      "display_name": "Python 3"
    }
  },
  "cells": [
    {
      "cell_type": "markdown",
      "metadata": {
        "id": "8-aldoKOopyO"
      },
      "source": [
        "# Weather Text\n",
        "\n",
        "This notebook is basically an experiment looking at historical weather text in NOAA's [Storms Events Database](https://www.ncdc.noaa.gov/stormevents/).\n",
        "\n",
        "## Download Data\n",
        "\n",
        "First lets download the CSV data from NOAA's [index page](https://www1.ncdc.noaa.gov/pub/data/swdi/stormevents/csvfiles/). You can see that they make several types of CSV files available. We are interested (for the moment) in the storm event files that go back to 1950 and have names that start like `StormEvents_details`.\n",
        "[requests_html](https://requests-html.kennethreitz.org/) makes it pretty easy to scrape the CSV URLs we want out of the page, and we can load them into a huge pandas DataFrame, by concatenating each one after it has been loaded by its URL. Yes pandas can load gzipped CSV data from a URL..."
      ]
    },
    {
      "cell_type": "code",
      "metadata": {
        "id": "AiE8JWpSowhS"
      },
      "source": [
        "!pip install --quiet requests-html pandas"
      ],
      "execution_count": null,
      "outputs": []
    },
    {
      "cell_type": "markdown",
      "metadata": {
        "id": "OjWgLQlos7RX"
      },
      "source": [
        "Get the URLs for the CSVs and download them to a `data` directory.\n"
      ]
    },
    {
      "cell_type": "code",
      "metadata": {
        "id": "DyqEmXACo-XF",
        "outputId": "8cd28767-aef6-4d19-b490-44d1d6ef2ef1",
        "colab": {
          "base_uri": "https://localhost:8080/",
          "height": 1000
        }
      },
      "source": [
        "import pandas\n",
        "import requests_html\n",
        "\n",
        "http = requests_html.HTMLSession()\n",
        "url = 'https://www1.ncdc.noaa.gov/pub/data/swdi/stormevents/csvfiles/'\n",
        "resp = http.get(url)\n",
        "\n",
        "df = pandas.DataFrame()\n",
        "for link in resp.html.find('a'):\n",
        "  if 'StormEvents_details-ftp_v1.0' in link.attrs['href']:\n",
        "    csv_url = url + link.attrs['href']\n",
        "    df = pandas.concat([df, pandas.read_csv(csv_url)])\n",
        "    print(csv_url)\n"
      ],
      "execution_count": null,
      "outputs": [
        {
          "output_type": "stream",
          "text": [
            "https://www1.ncdc.noaa.gov/pub/data/swdi/stormevents/csvfiles/StormEvents_details-ftp_v1.0_d1950_c20170120.csv.gz\n",
            "https://www1.ncdc.noaa.gov/pub/data/swdi/stormevents/csvfiles/StormEvents_details-ftp_v1.0_d1951_c20160223.csv.gz\n",
            "https://www1.ncdc.noaa.gov/pub/data/swdi/stormevents/csvfiles/StormEvents_details-ftp_v1.0_d1952_c20170619.csv.gz\n",
            "https://www1.ncdc.noaa.gov/pub/data/swdi/stormevents/csvfiles/StormEvents_details-ftp_v1.0_d1953_c20160223.csv.gz\n",
            "https://www1.ncdc.noaa.gov/pub/data/swdi/stormevents/csvfiles/StormEvents_details-ftp_v1.0_d1954_c20160223.csv.gz\n",
            "https://www1.ncdc.noaa.gov/pub/data/swdi/stormevents/csvfiles/StormEvents_details-ftp_v1.0_d1955_c20160223.csv.gz\n",
            "https://www1.ncdc.noaa.gov/pub/data/swdi/stormevents/csvfiles/StormEvents_details-ftp_v1.0_d1956_c20170717.csv.gz\n",
            "https://www1.ncdc.noaa.gov/pub/data/swdi/stormevents/csvfiles/StormEvents_details-ftp_v1.0_d1957_c20160223.csv.gz\n",
            "https://www1.ncdc.noaa.gov/pub/data/swdi/stormevents/csvfiles/StormEvents_details-ftp_v1.0_d1958_c20160223.csv.gz\n",
            "https://www1.ncdc.noaa.gov/pub/data/swdi/stormevents/csvfiles/StormEvents_details-ftp_v1.0_d1959_c20160223.csv.gz\n",
            "https://www1.ncdc.noaa.gov/pub/data/swdi/stormevents/csvfiles/StormEvents_details-ftp_v1.0_d1960_c20160223.csv.gz\n",
            "https://www1.ncdc.noaa.gov/pub/data/swdi/stormevents/csvfiles/StormEvents_details-ftp_v1.0_d1961_c20160223.csv.gz\n",
            "https://www1.ncdc.noaa.gov/pub/data/swdi/stormevents/csvfiles/StormEvents_details-ftp_v1.0_d1962_c20160223.csv.gz\n",
            "https://www1.ncdc.noaa.gov/pub/data/swdi/stormevents/csvfiles/StormEvents_details-ftp_v1.0_d1963_c20160223.csv.gz\n",
            "https://www1.ncdc.noaa.gov/pub/data/swdi/stormevents/csvfiles/StormEvents_details-ftp_v1.0_d1964_c20160223.csv.gz\n",
            "https://www1.ncdc.noaa.gov/pub/data/swdi/stormevents/csvfiles/StormEvents_details-ftp_v1.0_d1965_c20190920.csv.gz\n",
            "https://www1.ncdc.noaa.gov/pub/data/swdi/stormevents/csvfiles/StormEvents_details-ftp_v1.0_d1966_c20160223.csv.gz\n",
            "https://www1.ncdc.noaa.gov/pub/data/swdi/stormevents/csvfiles/StormEvents_details-ftp_v1.0_d1967_c20160223.csv.gz\n",
            "https://www1.ncdc.noaa.gov/pub/data/swdi/stormevents/csvfiles/StormEvents_details-ftp_v1.0_d1968_c20160223.csv.gz\n",
            "https://www1.ncdc.noaa.gov/pub/data/swdi/stormevents/csvfiles/StormEvents_details-ftp_v1.0_d1969_c20170717.csv.gz\n",
            "https://www1.ncdc.noaa.gov/pub/data/swdi/stormevents/csvfiles/StormEvents_details-ftp_v1.0_d1970_c20160223.csv.gz\n",
            "https://www1.ncdc.noaa.gov/pub/data/swdi/stormevents/csvfiles/StormEvents_details-ftp_v1.0_d1971_c20160223.csv.gz\n",
            "https://www1.ncdc.noaa.gov/pub/data/swdi/stormevents/csvfiles/StormEvents_details-ftp_v1.0_d1972_c20181029.csv.gz\n",
            "https://www1.ncdc.noaa.gov/pub/data/swdi/stormevents/csvfiles/StormEvents_details-ftp_v1.0_d1973_c20160223.csv.gz\n",
            "https://www1.ncdc.noaa.gov/pub/data/swdi/stormevents/csvfiles/StormEvents_details-ftp_v1.0_d1974_c20160223.csv.gz\n",
            "https://www1.ncdc.noaa.gov/pub/data/swdi/stormevents/csvfiles/StormEvents_details-ftp_v1.0_d1975_c20160223.csv.gz\n",
            "https://www1.ncdc.noaa.gov/pub/data/swdi/stormevents/csvfiles/StormEvents_details-ftp_v1.0_d1976_c20160223.csv.gz\n",
            "https://www1.ncdc.noaa.gov/pub/data/swdi/stormevents/csvfiles/StormEvents_details-ftp_v1.0_d1977_c20160223.csv.gz\n",
            "https://www1.ncdc.noaa.gov/pub/data/swdi/stormevents/csvfiles/StormEvents_details-ftp_v1.0_d1978_c20160223.csv.gz\n",
            "https://www1.ncdc.noaa.gov/pub/data/swdi/stormevents/csvfiles/StormEvents_details-ftp_v1.0_d1979_c20160223.csv.gz\n",
            "https://www1.ncdc.noaa.gov/pub/data/swdi/stormevents/csvfiles/StormEvents_details-ftp_v1.0_d1980_c20170717.csv.gz\n",
            "https://www1.ncdc.noaa.gov/pub/data/swdi/stormevents/csvfiles/StormEvents_details-ftp_v1.0_d1981_c20170717.csv.gz\n",
            "https://www1.ncdc.noaa.gov/pub/data/swdi/stormevents/csvfiles/StormEvents_details-ftp_v1.0_d1982_c20160223.csv.gz\n",
            "https://www1.ncdc.noaa.gov/pub/data/swdi/stormevents/csvfiles/StormEvents_details-ftp_v1.0_d1983_c20160223.csv.gz\n",
            "https://www1.ncdc.noaa.gov/pub/data/swdi/stormevents/csvfiles/StormEvents_details-ftp_v1.0_d1984_c20170717.csv.gz\n",
            "https://www1.ncdc.noaa.gov/pub/data/swdi/stormevents/csvfiles/StormEvents_details-ftp_v1.0_d1985_c20160223.csv.gz\n",
            "https://www1.ncdc.noaa.gov/pub/data/swdi/stormevents/csvfiles/StormEvents_details-ftp_v1.0_d1986_c20160223.csv.gz\n",
            "https://www1.ncdc.noaa.gov/pub/data/swdi/stormevents/csvfiles/StormEvents_details-ftp_v1.0_d1987_c20160223.csv.gz\n",
            "https://www1.ncdc.noaa.gov/pub/data/swdi/stormevents/csvfiles/StormEvents_details-ftp_v1.0_d1988_c20170717.csv.gz\n",
            "https://www1.ncdc.noaa.gov/pub/data/swdi/stormevents/csvfiles/StormEvents_details-ftp_v1.0_d1989_c20170717.csv.gz\n",
            "https://www1.ncdc.noaa.gov/pub/data/swdi/stormevents/csvfiles/StormEvents_details-ftp_v1.0_d1990_c20170717.csv.gz\n",
            "https://www1.ncdc.noaa.gov/pub/data/swdi/stormevents/csvfiles/StormEvents_details-ftp_v1.0_d1991_c20170717.csv.gz\n",
            "https://www1.ncdc.noaa.gov/pub/data/swdi/stormevents/csvfiles/StormEvents_details-ftp_v1.0_d1992_c20170717.csv.gz\n",
            "https://www1.ncdc.noaa.gov/pub/data/swdi/stormevents/csvfiles/StormEvents_details-ftp_v1.0_d1993_c20190920.csv.gz\n",
            "https://www1.ncdc.noaa.gov/pub/data/swdi/stormevents/csvfiles/StormEvents_details-ftp_v1.0_d1994_c20190920.csv.gz\n",
            "https://www1.ncdc.noaa.gov/pub/data/swdi/stormevents/csvfiles/StormEvents_details-ftp_v1.0_d1995_c20190920.csv.gz\n"
          ],
          "name": "stdout"
        },
        {
          "output_type": "stream",
          "text": [
            "/usr/local/lib/python3.6/dist-packages/IPython/core/interactiveshell.py:2718: DtypeWarning: Columns (26,28) have mixed types.Specify dtype option on import or set low_memory=False.\n",
            "  interactivity=interactivity, compiler=compiler, result=result)\n"
          ],
          "name": "stderr"
        },
        {
          "output_type": "stream",
          "text": [
            "https://www1.ncdc.noaa.gov/pub/data/swdi/stormevents/csvfiles/StormEvents_details-ftp_v1.0_d1996_c20170717.csv.gz\n"
          ],
          "name": "stdout"
        },
        {
          "output_type": "stream",
          "text": [
            "/usr/local/lib/python3.6/dist-packages/IPython/core/interactiveshell.py:2718: DtypeWarning: Columns (28) have mixed types.Specify dtype option on import or set low_memory=False.\n",
            "  interactivity=interactivity, compiler=compiler, result=result)\n"
          ],
          "name": "stderr"
        },
        {
          "output_type": "stream",
          "text": [
            "https://www1.ncdc.noaa.gov/pub/data/swdi/stormevents/csvfiles/StormEvents_details-ftp_v1.0_d1997_c20190920.csv.gz\n",
            "https://www1.ncdc.noaa.gov/pub/data/swdi/stormevents/csvfiles/StormEvents_details-ftp_v1.0_d1998_c20170717.csv.gz\n",
            "https://www1.ncdc.noaa.gov/pub/data/swdi/stormevents/csvfiles/StormEvents_details-ftp_v1.0_d2000_c20200707.csv.gz\n",
            "https://www1.ncdc.noaa.gov/pub/data/swdi/stormevents/csvfiles/StormEvents_details-ftp_v1.0_d2001_c20200518.csv.gz\n",
            "https://www1.ncdc.noaa.gov/pub/data/swdi/stormevents/csvfiles/StormEvents_details-ftp_v1.0_d2002_c20200518.csv.gz\n",
            "https://www1.ncdc.noaa.gov/pub/data/swdi/stormevents/csvfiles/StormEvents_details-ftp_v1.0_d2003_c20200518.csv.gz\n",
            "https://www1.ncdc.noaa.gov/pub/data/swdi/stormevents/csvfiles/StormEvents_details-ftp_v1.0_d2004_c20200518.csv.gz\n",
            "https://www1.ncdc.noaa.gov/pub/data/swdi/stormevents/csvfiles/StormEvents_details-ftp_v1.0_d2005_c20200518.csv.gz\n"
          ],
          "name": "stdout"
        },
        {
          "output_type": "stream",
          "text": [
            "/usr/local/lib/python3.6/dist-packages/IPython/core/interactiveshell.py:2718: DtypeWarning: Columns (29,34,35,37) have mixed types.Specify dtype option on import or set low_memory=False.\n",
            "  interactivity=interactivity, compiler=compiler, result=result)\n"
          ],
          "name": "stderr"
        },
        {
          "output_type": "stream",
          "text": [
            "https://www1.ncdc.noaa.gov/pub/data/swdi/stormevents/csvfiles/StormEvents_details-ftp_v1.0_d2006_c20200518.csv.gz\n",
            "https://www1.ncdc.noaa.gov/pub/data/swdi/stormevents/csvfiles/StormEvents_details-ftp_v1.0_d2007_c20170717.csv.gz\n",
            "https://www1.ncdc.noaa.gov/pub/data/swdi/stormevents/csvfiles/StormEvents_details-ftp_v1.0_d2008_c20180718.csv.gz\n",
            "https://www1.ncdc.noaa.gov/pub/data/swdi/stormevents/csvfiles/StormEvents_details-ftp_v1.0_d2009_c20180718.csv.gz\n",
            "https://www1.ncdc.noaa.gov/pub/data/swdi/stormevents/csvfiles/StormEvents_details-ftp_v1.0_d2010_c20200922.csv.gz\n",
            "https://www1.ncdc.noaa.gov/pub/data/swdi/stormevents/csvfiles/StormEvents_details-ftp_v1.0_d2011_c20180718.csv.gz\n",
            "https://www1.ncdc.noaa.gov/pub/data/swdi/stormevents/csvfiles/StormEvents_details-ftp_v1.0_d2012_c20200317.csv.gz\n",
            "https://www1.ncdc.noaa.gov/pub/data/swdi/stormevents/csvfiles/StormEvents_details-ftp_v1.0_d2013_c20170519.csv.gz\n",
            "https://www1.ncdc.noaa.gov/pub/data/swdi/stormevents/csvfiles/StormEvents_details-ftp_v1.0_d2014_c20191116.csv.gz\n",
            "https://www1.ncdc.noaa.gov/pub/data/swdi/stormevents/csvfiles/StormEvents_details-ftp_v1.0_d2015_c20191116.csv.gz\n",
            "https://www1.ncdc.noaa.gov/pub/data/swdi/stormevents/csvfiles/StormEvents_details-ftp_v1.0_d2016_c20190817.csv.gz\n",
            "https://www1.ncdc.noaa.gov/pub/data/swdi/stormevents/csvfiles/StormEvents_details-ftp_v1.0_d2017_c20200616.csv.gz\n",
            "https://www1.ncdc.noaa.gov/pub/data/swdi/stormevents/csvfiles/StormEvents_details-ftp_v1.0_d2018_c20200819.csv.gz\n",
            "https://www1.ncdc.noaa.gov/pub/data/swdi/stormevents/csvfiles/StormEvents_details-ftp_v1.0_d2019_c20201017.csv.gz\n",
            "https://www1.ncdc.noaa.gov/pub/data/swdi/stormevents/csvfiles/StormEvents_details-ftp_v1.0_d2020_c20201017.csv.gz\n"
          ],
          "name": "stdout"
        }
      ]
    },
    {
      "cell_type": "code",
      "metadata": {
        "id": "ZFKmc0ztwSM3",
        "outputId": "c2ef1178-7c8f-4eb3-afef-be89e181e54a",
        "colab": {
          "base_uri": "https://localhost:8080/",
          "height": 739
        }
      },
      "source": [
        "df"
      ],
      "execution_count": null,
      "outputs": [
        {
          "output_type": "execute_result",
          "data": {
            "text/html": [
              "<div>\n",
              "<style scoped>\n",
              "    .dataframe tbody tr th:only-of-type {\n",
              "        vertical-align: middle;\n",
              "    }\n",
              "\n",
              "    .dataframe tbody tr th {\n",
              "        vertical-align: top;\n",
              "    }\n",
              "\n",
              "    .dataframe thead th {\n",
              "        text-align: right;\n",
              "    }\n",
              "</style>\n",
              "<table border=\"1\" class=\"dataframe\">\n",
              "  <thead>\n",
              "    <tr style=\"text-align: right;\">\n",
              "      <th></th>\n",
              "      <th>BEGIN_YEARMONTH</th>\n",
              "      <th>BEGIN_DAY</th>\n",
              "      <th>BEGIN_TIME</th>\n",
              "      <th>END_YEARMONTH</th>\n",
              "      <th>END_DAY</th>\n",
              "      <th>END_TIME</th>\n",
              "      <th>EPISODE_ID</th>\n",
              "      <th>EVENT_ID</th>\n",
              "      <th>STATE</th>\n",
              "      <th>STATE_FIPS</th>\n",
              "      <th>YEAR</th>\n",
              "      <th>MONTH_NAME</th>\n",
              "      <th>EVENT_TYPE</th>\n",
              "      <th>CZ_TYPE</th>\n",
              "      <th>CZ_FIPS</th>\n",
              "      <th>CZ_NAME</th>\n",
              "      <th>WFO</th>\n",
              "      <th>BEGIN_DATE_TIME</th>\n",
              "      <th>CZ_TIMEZONE</th>\n",
              "      <th>END_DATE_TIME</th>\n",
              "      <th>INJURIES_DIRECT</th>\n",
              "      <th>INJURIES_INDIRECT</th>\n",
              "      <th>DEATHS_DIRECT</th>\n",
              "      <th>DEATHS_INDIRECT</th>\n",
              "      <th>DAMAGE_PROPERTY</th>\n",
              "      <th>DAMAGE_CROPS</th>\n",
              "      <th>SOURCE</th>\n",
              "      <th>MAGNITUDE</th>\n",
              "      <th>MAGNITUDE_TYPE</th>\n",
              "      <th>FLOOD_CAUSE</th>\n",
              "      <th>CATEGORY</th>\n",
              "      <th>TOR_F_SCALE</th>\n",
              "      <th>TOR_LENGTH</th>\n",
              "      <th>TOR_WIDTH</th>\n",
              "      <th>TOR_OTHER_WFO</th>\n",
              "      <th>TOR_OTHER_CZ_STATE</th>\n",
              "      <th>TOR_OTHER_CZ_FIPS</th>\n",
              "      <th>TOR_OTHER_CZ_NAME</th>\n",
              "      <th>BEGIN_RANGE</th>\n",
              "      <th>BEGIN_AZIMUTH</th>\n",
              "      <th>BEGIN_LOCATION</th>\n",
              "      <th>END_RANGE</th>\n",
              "      <th>END_AZIMUTH</th>\n",
              "      <th>END_LOCATION</th>\n",
              "      <th>BEGIN_LAT</th>\n",
              "      <th>BEGIN_LON</th>\n",
              "      <th>END_LAT</th>\n",
              "      <th>END_LON</th>\n",
              "      <th>EPISODE_NARRATIVE</th>\n",
              "      <th>EVENT_NARRATIVE</th>\n",
              "      <th>DATA_SOURCE</th>\n",
              "    </tr>\n",
              "  </thead>\n",
              "  <tbody>\n",
              "    <tr>\n",
              "      <th>0</th>\n",
              "      <td>195004</td>\n",
              "      <td>28</td>\n",
              "      <td>1445</td>\n",
              "      <td>195004</td>\n",
              "      <td>28</td>\n",
              "      <td>1445</td>\n",
              "      <td>nan</td>\n",
              "      <td>10096222</td>\n",
              "      <td>OKLAHOMA</td>\n",
              "      <td>40.00</td>\n",
              "      <td>1950</td>\n",
              "      <td>April</td>\n",
              "      <td>Tornado</td>\n",
              "      <td>C</td>\n",
              "      <td>149</td>\n",
              "      <td>WASHITA</td>\n",
              "      <td>NaN</td>\n",
              "      <td>28-APR-50 14:45:00</td>\n",
              "      <td>CST</td>\n",
              "      <td>28-APR-50 14:45:00</td>\n",
              "      <td>0</td>\n",
              "      <td>0</td>\n",
              "      <td>0</td>\n",
              "      <td>0</td>\n",
              "      <td>250K</td>\n",
              "      <td>0</td>\n",
              "      <td>NaN</td>\n",
              "      <td>0.00</td>\n",
              "      <td>NaN</td>\n",
              "      <td>NaN</td>\n",
              "      <td>nan</td>\n",
              "      <td>F3</td>\n",
              "      <td>3.40</td>\n",
              "      <td>400.00</td>\n",
              "      <td>NaN</td>\n",
              "      <td>NaN</td>\n",
              "      <td>nan</td>\n",
              "      <td>NaN</td>\n",
              "      <td>0.00</td>\n",
              "      <td>NaN</td>\n",
              "      <td>NaN</td>\n",
              "      <td>0.00</td>\n",
              "      <td>NaN</td>\n",
              "      <td>NaN</td>\n",
              "      <td>35.12</td>\n",
              "      <td>-99.20</td>\n",
              "      <td>35.17</td>\n",
              "      <td>-99.20</td>\n",
              "      <td>NaN</td>\n",
              "      <td>NaN</td>\n",
              "      <td>PUB</td>\n",
              "    </tr>\n",
              "    <tr>\n",
              "      <th>1</th>\n",
              "      <td>195004</td>\n",
              "      <td>29</td>\n",
              "      <td>1530</td>\n",
              "      <td>195004</td>\n",
              "      <td>29</td>\n",
              "      <td>1530</td>\n",
              "      <td>nan</td>\n",
              "      <td>10120412</td>\n",
              "      <td>TEXAS</td>\n",
              "      <td>48.00</td>\n",
              "      <td>1950</td>\n",
              "      <td>April</td>\n",
              "      <td>Tornado</td>\n",
              "      <td>C</td>\n",
              "      <td>93</td>\n",
              "      <td>COMANCHE</td>\n",
              "      <td>NaN</td>\n",
              "      <td>29-APR-50 15:30:00</td>\n",
              "      <td>CST</td>\n",
              "      <td>29-APR-50 15:30:00</td>\n",
              "      <td>0</td>\n",
              "      <td>0</td>\n",
              "      <td>0</td>\n",
              "      <td>0</td>\n",
              "      <td>25K</td>\n",
              "      <td>0</td>\n",
              "      <td>NaN</td>\n",
              "      <td>0.00</td>\n",
              "      <td>NaN</td>\n",
              "      <td>NaN</td>\n",
              "      <td>nan</td>\n",
              "      <td>F1</td>\n",
              "      <td>11.50</td>\n",
              "      <td>200.00</td>\n",
              "      <td>NaN</td>\n",
              "      <td>NaN</td>\n",
              "      <td>nan</td>\n",
              "      <td>NaN</td>\n",
              "      <td>0.00</td>\n",
              "      <td>NaN</td>\n",
              "      <td>NaN</td>\n",
              "      <td>0.00</td>\n",
              "      <td>NaN</td>\n",
              "      <td>NaN</td>\n",
              "      <td>31.90</td>\n",
              "      <td>-98.60</td>\n",
              "      <td>31.73</td>\n",
              "      <td>-98.60</td>\n",
              "      <td>NaN</td>\n",
              "      <td>NaN</td>\n",
              "      <td>PUB</td>\n",
              "    </tr>\n",
              "    <tr>\n",
              "      <th>2</th>\n",
              "      <td>195007</td>\n",
              "      <td>5</td>\n",
              "      <td>1800</td>\n",
              "      <td>195007</td>\n",
              "      <td>5</td>\n",
              "      <td>1800</td>\n",
              "      <td>nan</td>\n",
              "      <td>10104927</td>\n",
              "      <td>PENNSYLVANIA</td>\n",
              "      <td>42.00</td>\n",
              "      <td>1950</td>\n",
              "      <td>July</td>\n",
              "      <td>Tornado</td>\n",
              "      <td>C</td>\n",
              "      <td>77</td>\n",
              "      <td>LEHIGH</td>\n",
              "      <td>NaN</td>\n",
              "      <td>05-JUL-50 18:00:00</td>\n",
              "      <td>CST</td>\n",
              "      <td>05-JUL-50 18:00:00</td>\n",
              "      <td>2</td>\n",
              "      <td>0</td>\n",
              "      <td>0</td>\n",
              "      <td>0</td>\n",
              "      <td>25K</td>\n",
              "      <td>0</td>\n",
              "      <td>NaN</td>\n",
              "      <td>0.00</td>\n",
              "      <td>NaN</td>\n",
              "      <td>NaN</td>\n",
              "      <td>nan</td>\n",
              "      <td>F2</td>\n",
              "      <td>12.90</td>\n",
              "      <td>33.00</td>\n",
              "      <td>NaN</td>\n",
              "      <td>NaN</td>\n",
              "      <td>nan</td>\n",
              "      <td>NaN</td>\n",
              "      <td>0.00</td>\n",
              "      <td>NaN</td>\n",
              "      <td>NaN</td>\n",
              "      <td>0.00</td>\n",
              "      <td>NaN</td>\n",
              "      <td>NaN</td>\n",
              "      <td>40.58</td>\n",
              "      <td>-75.70</td>\n",
              "      <td>40.65</td>\n",
              "      <td>-75.47</td>\n",
              "      <td>NaN</td>\n",
              "      <td>NaN</td>\n",
              "      <td>PUB</td>\n",
              "    </tr>\n",
              "    <tr>\n",
              "      <th>3</th>\n",
              "      <td>195007</td>\n",
              "      <td>5</td>\n",
              "      <td>1830</td>\n",
              "      <td>195007</td>\n",
              "      <td>5</td>\n",
              "      <td>1830</td>\n",
              "      <td>nan</td>\n",
              "      <td>10104928</td>\n",
              "      <td>PENNSYLVANIA</td>\n",
              "      <td>42.00</td>\n",
              "      <td>1950</td>\n",
              "      <td>July</td>\n",
              "      <td>Tornado</td>\n",
              "      <td>C</td>\n",
              "      <td>43</td>\n",
              "      <td>DAUPHIN</td>\n",
              "      <td>NaN</td>\n",
              "      <td>05-JUL-50 18:30:00</td>\n",
              "      <td>CST</td>\n",
              "      <td>05-JUL-50 18:30:00</td>\n",
              "      <td>0</td>\n",
              "      <td>0</td>\n",
              "      <td>0</td>\n",
              "      <td>0</td>\n",
              "      <td>2.5K</td>\n",
              "      <td>0</td>\n",
              "      <td>NaN</td>\n",
              "      <td>0.00</td>\n",
              "      <td>NaN</td>\n",
              "      <td>NaN</td>\n",
              "      <td>nan</td>\n",
              "      <td>F2</td>\n",
              "      <td>0.00</td>\n",
              "      <td>13.00</td>\n",
              "      <td>NaN</td>\n",
              "      <td>NaN</td>\n",
              "      <td>nan</td>\n",
              "      <td>NaN</td>\n",
              "      <td>0.00</td>\n",
              "      <td>NaN</td>\n",
              "      <td>NaN</td>\n",
              "      <td>0.00</td>\n",
              "      <td>NaN</td>\n",
              "      <td>NaN</td>\n",
              "      <td>40.60</td>\n",
              "      <td>-76.75</td>\n",
              "      <td>nan</td>\n",
              "      <td>nan</td>\n",
              "      <td>NaN</td>\n",
              "      <td>NaN</td>\n",
              "      <td>PUB</td>\n",
              "    </tr>\n",
              "    <tr>\n",
              "      <th>4</th>\n",
              "      <td>195007</td>\n",
              "      <td>24</td>\n",
              "      <td>1440</td>\n",
              "      <td>195007</td>\n",
              "      <td>24</td>\n",
              "      <td>1440</td>\n",
              "      <td>nan</td>\n",
              "      <td>10104929</td>\n",
              "      <td>PENNSYLVANIA</td>\n",
              "      <td>42.00</td>\n",
              "      <td>1950</td>\n",
              "      <td>July</td>\n",
              "      <td>Tornado</td>\n",
              "      <td>C</td>\n",
              "      <td>39</td>\n",
              "      <td>CRAWFORD</td>\n",
              "      <td>NaN</td>\n",
              "      <td>24-JUL-50 14:40:00</td>\n",
              "      <td>CST</td>\n",
              "      <td>24-JUL-50 14:40:00</td>\n",
              "      <td>0</td>\n",
              "      <td>0</td>\n",
              "      <td>0</td>\n",
              "      <td>0</td>\n",
              "      <td>2.5K</td>\n",
              "      <td>0</td>\n",
              "      <td>NaN</td>\n",
              "      <td>0.00</td>\n",
              "      <td>NaN</td>\n",
              "      <td>NaN</td>\n",
              "      <td>nan</td>\n",
              "      <td>F0</td>\n",
              "      <td>0.00</td>\n",
              "      <td>33.00</td>\n",
              "      <td>NaN</td>\n",
              "      <td>NaN</td>\n",
              "      <td>nan</td>\n",
              "      <td>NaN</td>\n",
              "      <td>0.00</td>\n",
              "      <td>NaN</td>\n",
              "      <td>NaN</td>\n",
              "      <td>0.00</td>\n",
              "      <td>NaN</td>\n",
              "      <td>NaN</td>\n",
              "      <td>41.63</td>\n",
              "      <td>-79.68</td>\n",
              "      <td>nan</td>\n",
              "      <td>nan</td>\n",
              "      <td>NaN</td>\n",
              "      <td>NaN</td>\n",
              "      <td>PUB</td>\n",
              "    </tr>\n",
              "    <tr>\n",
              "      <th>...</th>\n",
              "      <td>...</td>\n",
              "      <td>...</td>\n",
              "      <td>...</td>\n",
              "      <td>...</td>\n",
              "      <td>...</td>\n",
              "      <td>...</td>\n",
              "      <td>...</td>\n",
              "      <td>...</td>\n",
              "      <td>...</td>\n",
              "      <td>...</td>\n",
              "      <td>...</td>\n",
              "      <td>...</td>\n",
              "      <td>...</td>\n",
              "      <td>...</td>\n",
              "      <td>...</td>\n",
              "      <td>...</td>\n",
              "      <td>...</td>\n",
              "      <td>...</td>\n",
              "      <td>...</td>\n",
              "      <td>...</td>\n",
              "      <td>...</td>\n",
              "      <td>...</td>\n",
              "      <td>...</td>\n",
              "      <td>...</td>\n",
              "      <td>...</td>\n",
              "      <td>...</td>\n",
              "      <td>...</td>\n",
              "      <td>...</td>\n",
              "      <td>...</td>\n",
              "      <td>...</td>\n",
              "      <td>...</td>\n",
              "      <td>...</td>\n",
              "      <td>...</td>\n",
              "      <td>...</td>\n",
              "      <td>...</td>\n",
              "      <td>...</td>\n",
              "      <td>...</td>\n",
              "      <td>...</td>\n",
              "      <td>...</td>\n",
              "      <td>...</td>\n",
              "      <td>...</td>\n",
              "      <td>...</td>\n",
              "      <td>...</td>\n",
              "      <td>...</td>\n",
              "      <td>...</td>\n",
              "      <td>...</td>\n",
              "      <td>...</td>\n",
              "      <td>...</td>\n",
              "      <td>...</td>\n",
              "      <td>...</td>\n",
              "      <td>...</td>\n",
              "    </tr>\n",
              "    <tr>\n",
              "      <th>40032</th>\n",
              "      <td>202006</td>\n",
              "      <td>18</td>\n",
              "      <td>600</td>\n",
              "      <td>202006</td>\n",
              "      <td>19</td>\n",
              "      <td>600</td>\n",
              "      <td>147668.00</td>\n",
              "      <td>899187</td>\n",
              "      <td>IOWA</td>\n",
              "      <td>19.00</td>\n",
              "      <td>2020</td>\n",
              "      <td>June</td>\n",
              "      <td>Heavy Rain</td>\n",
              "      <td>C</td>\n",
              "      <td>69</td>\n",
              "      <td>FRANKLIN</td>\n",
              "      <td>DMX</td>\n",
              "      <td>18-JUN-20 06:00:00</td>\n",
              "      <td>CST-6</td>\n",
              "      <td>19-JUN-20 06:00:00</td>\n",
              "      <td>0</td>\n",
              "      <td>0</td>\n",
              "      <td>0</td>\n",
              "      <td>0</td>\n",
              "      <td>0.00K</td>\n",
              "      <td>0.00K</td>\n",
              "      <td>COOP Observer</td>\n",
              "      <td>nan</td>\n",
              "      <td>NaN</td>\n",
              "      <td>NaN</td>\n",
              "      <td>nan</td>\n",
              "      <td>NaN</td>\n",
              "      <td>nan</td>\n",
              "      <td>nan</td>\n",
              "      <td>NaN</td>\n",
              "      <td>NaN</td>\n",
              "      <td>nan</td>\n",
              "      <td>NaN</td>\n",
              "      <td>1.00</td>\n",
              "      <td>S</td>\n",
              "      <td>HAMPTON</td>\n",
              "      <td>1.00</td>\n",
              "      <td>S</td>\n",
              "      <td>HAMPTON</td>\n",
              "      <td>42.74</td>\n",
              "      <td>-93.20</td>\n",
              "      <td>42.74</td>\n",
              "      <td>-93.20</td>\n",
              "      <td>An upper-level trough with associated surface ...</td>\n",
              "      <td>Coop observer reported a 24 hour rainfall tota...</td>\n",
              "      <td>CSV</td>\n",
              "    </tr>\n",
              "    <tr>\n",
              "      <th>40033</th>\n",
              "      <td>202006</td>\n",
              "      <td>18</td>\n",
              "      <td>600</td>\n",
              "      <td>202006</td>\n",
              "      <td>19</td>\n",
              "      <td>600</td>\n",
              "      <td>147668.00</td>\n",
              "      <td>899188</td>\n",
              "      <td>IOWA</td>\n",
              "      <td>19.00</td>\n",
              "      <td>2020</td>\n",
              "      <td>June</td>\n",
              "      <td>Heavy Rain</td>\n",
              "      <td>C</td>\n",
              "      <td>69</td>\n",
              "      <td>FRANKLIN</td>\n",
              "      <td>DMX</td>\n",
              "      <td>18-JUN-20 06:00:00</td>\n",
              "      <td>CST-6</td>\n",
              "      <td>19-JUN-20 06:00:00</td>\n",
              "      <td>0</td>\n",
              "      <td>0</td>\n",
              "      <td>0</td>\n",
              "      <td>0</td>\n",
              "      <td>0.00K</td>\n",
              "      <td>0.00K</td>\n",
              "      <td>COOP Observer</td>\n",
              "      <td>nan</td>\n",
              "      <td>NaN</td>\n",
              "      <td>NaN</td>\n",
              "      <td>nan</td>\n",
              "      <td>NaN</td>\n",
              "      <td>nan</td>\n",
              "      <td>nan</td>\n",
              "      <td>NaN</td>\n",
              "      <td>NaN</td>\n",
              "      <td>nan</td>\n",
              "      <td>NaN</td>\n",
              "      <td>1.00</td>\n",
              "      <td>N</td>\n",
              "      <td>HAMPTON</td>\n",
              "      <td>1.00</td>\n",
              "      <td>N</td>\n",
              "      <td>HAMPTON</td>\n",
              "      <td>42.76</td>\n",
              "      <td>-93.20</td>\n",
              "      <td>42.76</td>\n",
              "      <td>-93.20</td>\n",
              "      <td>An upper-level trough with associated surface ...</td>\n",
              "      <td>Coop observer reported a 24 hour rainfall tota...</td>\n",
              "      <td>CSV</td>\n",
              "    </tr>\n",
              "    <tr>\n",
              "      <th>40034</th>\n",
              "      <td>202006</td>\n",
              "      <td>22</td>\n",
              "      <td>2320</td>\n",
              "      <td>202006</td>\n",
              "      <td>24</td>\n",
              "      <td>915</td>\n",
              "      <td>148769.00</td>\n",
              "      <td>899497</td>\n",
              "      <td>IOWA</td>\n",
              "      <td>19.00</td>\n",
              "      <td>2020</td>\n",
              "      <td>June</td>\n",
              "      <td>Flood</td>\n",
              "      <td>C</td>\n",
              "      <td>171</td>\n",
              "      <td>TAMA</td>\n",
              "      <td>DMX</td>\n",
              "      <td>22-JUN-20 23:20:00</td>\n",
              "      <td>CST-6</td>\n",
              "      <td>24-JUN-20 09:15:00</td>\n",
              "      <td>0</td>\n",
              "      <td>0</td>\n",
              "      <td>0</td>\n",
              "      <td>0</td>\n",
              "      <td>0.00K</td>\n",
              "      <td>0.00K</td>\n",
              "      <td>Department of Highways</td>\n",
              "      <td>nan</td>\n",
              "      <td>NaN</td>\n",
              "      <td>Heavy Rain</td>\n",
              "      <td>nan</td>\n",
              "      <td>NaN</td>\n",
              "      <td>nan</td>\n",
              "      <td>nan</td>\n",
              "      <td>NaN</td>\n",
              "      <td>NaN</td>\n",
              "      <td>nan</td>\n",
              "      <td>NaN</td>\n",
              "      <td>0.00</td>\n",
              "      <td>N</td>\n",
              "      <td>TRAER</td>\n",
              "      <td>0.00</td>\n",
              "      <td>E</td>\n",
              "      <td>TRAER</td>\n",
              "      <td>42.20</td>\n",
              "      <td>-92.47</td>\n",
              "      <td>42.20</td>\n",
              "      <td>-92.46</td>\n",
              "      <td>A surface low to the northwest of Iowa allowed...</td>\n",
              "      <td>The department of transportation relayed a rep...</td>\n",
              "      <td>CSV</td>\n",
              "    </tr>\n",
              "    <tr>\n",
              "      <th>40035</th>\n",
              "      <td>202006</td>\n",
              "      <td>23</td>\n",
              "      <td>38</td>\n",
              "      <td>202006</td>\n",
              "      <td>24</td>\n",
              "      <td>915</td>\n",
              "      <td>148769.00</td>\n",
              "      <td>899498</td>\n",
              "      <td>IOWA</td>\n",
              "      <td>19.00</td>\n",
              "      <td>2020</td>\n",
              "      <td>June</td>\n",
              "      <td>Flood</td>\n",
              "      <td>C</td>\n",
              "      <td>171</td>\n",
              "      <td>TAMA</td>\n",
              "      <td>DMX</td>\n",
              "      <td>23-JUN-20 00:38:00</td>\n",
              "      <td>CST-6</td>\n",
              "      <td>24-JUN-20 09:15:00</td>\n",
              "      <td>0</td>\n",
              "      <td>0</td>\n",
              "      <td>0</td>\n",
              "      <td>0</td>\n",
              "      <td>0.00K</td>\n",
              "      <td>0.00K</td>\n",
              "      <td>Department of Highways</td>\n",
              "      <td>nan</td>\n",
              "      <td>NaN</td>\n",
              "      <td>Heavy Rain</td>\n",
              "      <td>nan</td>\n",
              "      <td>NaN</td>\n",
              "      <td>nan</td>\n",
              "      <td>nan</td>\n",
              "      <td>NaN</td>\n",
              "      <td>NaN</td>\n",
              "      <td>nan</td>\n",
              "      <td>NaN</td>\n",
              "      <td>0.00</td>\n",
              "      <td>N</td>\n",
              "      <td>TRAER</td>\n",
              "      <td>0.00</td>\n",
              "      <td>E</td>\n",
              "      <td>TRAER</td>\n",
              "      <td>42.20</td>\n",
              "      <td>-92.47</td>\n",
              "      <td>42.20</td>\n",
              "      <td>-92.46</td>\n",
              "      <td>A surface low to the northwest of Iowa allowed...</td>\n",
              "      <td>Iowa Department of Transportation and the Tama...</td>\n",
              "      <td>CSV</td>\n",
              "    </tr>\n",
              "    <tr>\n",
              "      <th>40036</th>\n",
              "      <td>202006</td>\n",
              "      <td>23</td>\n",
              "      <td>124</td>\n",
              "      <td>202006</td>\n",
              "      <td>24</td>\n",
              "      <td>915</td>\n",
              "      <td>148769.00</td>\n",
              "      <td>899499</td>\n",
              "      <td>IOWA</td>\n",
              "      <td>19.00</td>\n",
              "      <td>2020</td>\n",
              "      <td>June</td>\n",
              "      <td>Flood</td>\n",
              "      <td>C</td>\n",
              "      <td>171</td>\n",
              "      <td>TAMA</td>\n",
              "      <td>DMX</td>\n",
              "      <td>23-JUN-20 01:24:00</td>\n",
              "      <td>CST-6</td>\n",
              "      <td>24-JUN-20 09:15:00</td>\n",
              "      <td>0</td>\n",
              "      <td>0</td>\n",
              "      <td>0</td>\n",
              "      <td>0</td>\n",
              "      <td>0.00K</td>\n",
              "      <td>0.00K</td>\n",
              "      <td>Department of Highways</td>\n",
              "      <td>nan</td>\n",
              "      <td>NaN</td>\n",
              "      <td>Heavy Rain</td>\n",
              "      <td>nan</td>\n",
              "      <td>NaN</td>\n",
              "      <td>nan</td>\n",
              "      <td>nan</td>\n",
              "      <td>NaN</td>\n",
              "      <td>NaN</td>\n",
              "      <td>nan</td>\n",
              "      <td>NaN</td>\n",
              "      <td>3.00</td>\n",
              "      <td>NNE</td>\n",
              "      <td>IRVING</td>\n",
              "      <td>2.00</td>\n",
              "      <td>SE</td>\n",
              "      <td>IRVING</td>\n",
              "      <td>41.96</td>\n",
              "      <td>-92.30</td>\n",
              "      <td>41.91</td>\n",
              "      <td>-92.30</td>\n",
              "      <td>A surface low to the northwest of Iowa allowed...</td>\n",
              "      <td>Iowa Department of Transportation reports wate...</td>\n",
              "      <td>CSV</td>\n",
              "    </tr>\n",
              "  </tbody>\n",
              "</table>\n",
              "<p>1595877 rows × 51 columns</p>\n",
              "</div>"
            ],
            "text/plain": [
              "       BEGIN_YEARMONTH  ...  DATA_SOURCE\n",
              "0               195004  ...          PUB\n",
              "1               195004  ...          PUB\n",
              "2               195007  ...          PUB\n",
              "3               195007  ...          PUB\n",
              "4               195007  ...          PUB\n",
              "...                ...  ...          ...\n",
              "40032           202006  ...          CSV\n",
              "40033           202006  ...          CSV\n",
              "40034           202006  ...          CSV\n",
              "40035           202006  ...          CSV\n",
              "40036           202006  ...          CSV\n",
              "\n",
              "[1595877 rows x 51 columns]"
            ]
          },
          "metadata": {
            "tags": []
          },
          "execution_count": 39
        }
      ]
    },
    {
      "cell_type": "markdown",
      "metadata": {
        "id": "wC1dblHrw-8l"
      },
      "source": [
        "Since we're interested in textual content for these weather events maybe the EVENT_NARRATIVE and EPISODE_NARRATIVE columns could be interesting. Lets just try to load all the CVSs into one big DataFrame. Will Colab blow up, we'll see I guess..."
      ]
    },
    {
      "cell_type": "markdown",
      "metadata": {
        "id": "4qWXNsxo5bvX"
      },
      "source": [
        "Wow so it didn't blow up, it looks like it's just using 1.5GB of RAM for the 1.5 million rows?\n"
      ]
    },
    {
      "cell_type": "markdown",
      "metadata": {
        "id": "qkLW8_pV2F4M"
      },
      "source": [
        "## Narrative Text\n",
        "\n",
        "Lets take a look at how many columns have **EPISODE_NARRATIVE**."
      ]
    },
    {
      "cell_type": "code",
      "metadata": {
        "id": "bXXXK4uv5u85",
        "outputId": "ec484c1b-ab5c-4044-9cc9-a77ff00409a2",
        "colab": {
          "base_uri": "https://localhost:8080/",
          "height": 34
        }
      },
      "source": [
        "episodes = df[df['EPISODE_NARRATIVE'].notnull()]\n",
        "len(episodes) / len(all)"
      ],
      "execution_count": null,
      "outputs": [
        {
          "output_type": "execute_result",
          "data": {
            "text/plain": [
              "0.7109169441003286"
            ]
          },
          "metadata": {
            "tags": []
          },
          "execution_count": 40
        }
      ]
    },
    {
      "cell_type": "markdown",
      "metadata": {
        "id": "9LAcr-X_58TQ"
      },
      "source": [
        "So about 71% of the events have episode narrative. How about the EVENT_NARRATIVE?\n",
        "\n"
      ]
    },
    {
      "cell_type": "code",
      "metadata": {
        "id": "JNIcTvnc6fwE",
        "outputId": "e36a1b64-536b-4e2f-b680-c383acf5c64d",
        "colab": {
          "base_uri": "https://localhost:8080/",
          "height": 34
        }
      },
      "source": [
        "events = df[df['EVENT_NARRATIVE'].notnull()]\n",
        "len(events) / len(all)"
      ],
      "execution_count": null,
      "outputs": [
        {
          "output_type": "execute_result",
          "data": {
            "text/plain": [
              "0.4982583244197391"
            ]
          },
          "metadata": {
            "tags": []
          },
          "execution_count": 41
        }
      ]
    },
    {
      "cell_type": "markdown",
      "metadata": {
        "id": "cd5MwdJy6pMi"
      },
      "source": [
        "Much less 50% have event narrative. About how long are these descriptions?\n"
      ]
    },
    {
      "cell_type": "code",
      "metadata": {
        "id": "WfW2IPa56uFb",
        "outputId": "d45ec42d-33d1-4165-fccc-b14f3a8ea298",
        "colab": {
          "base_uri": "https://localhost:8080/",
          "height": 173
        }
      },
      "source": [
        "df['EPISODE_NARRATIVE'].str.len().describe()"
      ],
      "execution_count": null,
      "outputs": [
        {
          "output_type": "execute_result",
          "data": {
            "text/plain": [
              "count   1134536.00\n",
              "mean        615.10\n",
              "std         932.01\n",
              "min           1.00\n",
              "25%         196.00\n",
              "50%         351.00\n",
              "75%         681.00\n",
              "max       29050.00\n",
              "Name: EPISODE_NARRATIVE, dtype: float64"
            ]
          },
          "metadata": {
            "tags": []
          },
          "execution_count": 42
        }
      ]
    },
    {
      "cell_type": "markdown",
      "metadata": {
        "id": "cwC3F44_9Ab6"
      },
      "source": [
        "Scientific notation makes that kinda hard to read. Let's adjust the default format for floats."
      ]
    },
    {
      "cell_type": "code",
      "metadata": {
        "id": "fEqg70Ur7G5z"
      },
      "source": [
        "pandas.set_option('display.float_format', lambda x: '%.2f' % x)"
      ],
      "execution_count": null,
      "outputs": []
    },
    {
      "cell_type": "code",
      "metadata": {
        "id": "-167Jmcu86b9",
        "outputId": "ef0e6174-b96a-410b-c863-2385c26fcd0e",
        "colab": {
          "base_uri": "https://localhost:8080/",
          "height": 173
        }
      },
      "source": [
        "episodes['EVENT_NARRATIVE'].str.len().describe()"
      ],
      "execution_count": 45,
      "outputs": [
        {
          "output_type": "execute_result",
          "data": {
            "text/plain": [
              "count   643153.00\n",
              "mean       146.72\n",
              "std        198.60\n",
              "min          1.00\n",
              "25%         58.00\n",
              "50%         87.00\n",
              "75%        154.00\n",
              "max       8333.00\n",
              "Name: EVENT_NARRATIVE, dtype: float64"
            ]
          },
          "metadata": {
            "tags": []
          },
          "execution_count": 45
        }
      ]
    },
    {
      "cell_type": "markdown",
      "metadata": {
        "id": "zcBqVDTO8-TY"
      },
      "source": [
        "So the longest description in here is 29050 characters long! The shortest is one character, and on average they are 615 characters long."
      ]
    },
    {
      "cell_type": "code",
      "metadata": {
        "id": "NRSawZa89TWs",
        "outputId": "aefe8cd0-526f-416d-e9bb-278865fb6e0a",
        "colab": {
          "base_uri": "https://localhost:8080/",
          "height": 34
        }
      },
      "source": [
        "events_text_len = events['EVENT_NARRATIVE'].str.len().sum()\n",
        "events_text_len"
      ],
      "execution_count": 48,
      "outputs": [
        {
          "output_type": "execute_result",
          "data": {
            "text/plain": [
              "114256773"
            ]
          },
          "metadata": {
            "tags": []
          },
          "execution_count": 48
        }
      ]
    },
    {
      "cell_type": "code",
      "metadata": {
        "id": "iIM6-NdCBi0A",
        "outputId": "3c79d9dc-6893-4424-e413-f1c1058ea7b7",
        "colab": {
          "base_uri": "https://localhost:8080/",
          "height": 34
        }
      },
      "source": [
        "ulysses_len = len(http.get('https://www.gutenberg.org/files/4300/4300-0.txt').text)\n",
        "ulysses_len"
      ],
      "execution_count": 53,
      "outputs": [
        {
          "output_type": "execute_result",
          "data": {
            "text/plain": [
              "1586488"
            ]
          },
          "metadata": {
            "tags": []
          },
          "execution_count": 53
        }
      ]
    },
    {
      "cell_type": "code",
      "metadata": {
        "id": "4pGgqhJiDG0h",
        "outputId": "b8d5a874-8f6a-4bfe-85f3-ff4dec3fb649",
        "colab": {
          "base_uri": "https://localhost:8080/",
          "height": 34
        }
      },
      "source": [
        "events_text_length / ulysses_len"
      ],
      "execution_count": 54,
      "outputs": [
        {
          "output_type": "execute_result",
          "data": {
            "text/plain": [
              "72.01868088507446"
            ]
          },
          "metadata": {
            "tags": []
          },
          "execution_count": 54
        }
      ]
    },
    {
      "cell_type": "markdown",
      "metadata": {
        "id": "5MJCnKgiDUDm"
      },
      "source": [
        "So there are 72 Ulysses worth of weather text :-)"
      ]
    },
    {
      "cell_type": "code",
      "metadata": {
        "id": "xLGVsBMjDYQA"
      },
      "source": [
        ""
      ],
      "execution_count": null,
      "outputs": []
    }
  ]
}