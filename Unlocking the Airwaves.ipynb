{
 "cells": [
  {
   "cell_type": "markdown",
   "metadata": {},
   "source": [
    "# Unlocking (and Visualizing) the Airwaves\n",
    "\n",
    "The [Unlocking the Airwaves](https://mith.umd.edu/airwaves) ia a [virtual reunification](https://www.journals.uchicago.edu/doi/10.1086/676489) project that makes a collection of radio recordings from the [National Association of Educational Broadcasters](https://en.wikipedia.org/wiki/National_Association_of_Educational_Broadcasters) held at the University of Maryland available along with archival documents held at the Wisconsin Historical Society. The website is a client side application that usese some datasets live for searching and browsing. One of those datasets is `episodes.json` which contains a list of JSON objects for each of the NAEB episodes."
   ]
  },
  {
   "cell_type": "code",
   "execution_count": 43,
   "metadata": {},
   "outputs": [],
   "source": [
    "import requests\n",
    "\n",
    "episodes = requests.get('https://unlocking.netlify.app/data/episodes.json').json()"
   ]
  },
  {
   "cell_type": "markdown",
   "metadata": {},
   "source": [
    "Here's what one of the episode objects looks like:"
   ]
  },
  {
   "cell_type": "code",
   "execution_count": 44,
   "metadata": {},
   "outputs": [
    {
     "name": "stdout",
     "output_type": "stream",
     "text": [
      "{\n",
      "  \"aapbId\": \"cpb-aacip-500-0k26f92s\",\n",
      "  \"naebId\": \"62-41-1\",\n",
      "  \"umdId\": \"1619\",\n",
      "  \"title\": \"Mexican history\",\n",
      "  \"broadcastDate\": \"1962-08-15\",\n",
      "  \"duration\": 1756,\n",
      "  \"seriesDescription\": \"Panel discussion series about Mexico.\",\n",
      "  \"description\": \"Mexican History. Dr. Thomas McGann, Dr. Karl Schmitt, both of University of Texas.\",\n",
      "  \"location\": \"Hornbake Special Collections\",\n",
      "  \"temporal\": \"1961-1970\",\n",
      "  \"language\": \"English\",\n",
      "  \"year\": \"1962\",\n",
      "  \"series\": {\n",
      "    \"id\": \"speaking-of-mexico\",\n",
      "    \"title\": \"Speaking of Mexico\"\n",
      "  },\n",
      "  \"subject\": [\n",
      "    {\n",
      "      \"id\": \"economy-business\",\n",
      "      \"name\": \"Economy & Business\"\n",
      "    },\n",
      "    {\n",
      "      \"id\": \"info-orient\",\n",
      "      \"name\": \"Info.-Orient\"\n",
      "    },\n",
      "    {\n",
      "      \"id\": \"latin-america\",\n",
      "      \"name\": \"Latin America\"\n",
      "    },\n",
      "    {\n",
      "      \"id\": \"mexico-history\",\n",
      "      \"name\": \"Mexico--History\"\n",
      "    },\n",
      "    {\n",
      "      \"id\": \"naeb-region-v\",\n",
      "      \"name\": \"NAEB Region V\"\n",
      "    },\n",
      "    {\n",
      "      \"id\": \"naeb-region-vi-lower-midwestcentral-south\",\n",
      "      \"name\": \"NAEB Region VI: Lower Midwest/Central South\"\n",
      "    }\n",
      "  ],\n",
      "  \"creator\": [\n",
      "    {\n",
      "      \"id\": \"kut-radio-station-austin-tex\",\n",
      "      \"name\": \"KUT (Radio station : Austin, Tex.)\",\n",
      "      \"type\": \"Corporate Body\",\n",
      "      \"role\": \"Producer\"\n",
      "    },\n",
      "    {\n",
      "      \"id\": \"university-of-texas\",\n",
      "      \"name\": \"University of Texas\",\n",
      "      \"type\": \"Corporate Body\",\n",
      "      \"role\": \"Producer\"\n",
      "    }\n",
      "  ],\n",
      "  \"continent\": [\n",
      "    {\n",
      "      \"id\": \"north-america\",\n",
      "      \"name\": \"North America\"\n",
      "    }\n",
      "  ],\n",
      "  \"country\": [\n",
      "    {\n",
      "      \"id\": \"united-states\",\n",
      "      \"name\": \"United States\"\n",
      "    }\n",
      "  ],\n",
      "  \"region\": [\n",
      "    {\n",
      "      \"id\": \"texas\",\n",
      "      \"name\": \"Texas\"\n",
      "    }\n",
      "  ],\n",
      "  \"settlement\": [\n",
      "    {\n",
      "      \"id\": \"austin\",\n",
      "      \"name\": \"Austin\"\n",
      "    }\n",
      "  ],\n",
      "  \"decade\": \"1960-1969\",\n",
      "  \"contributor\": [],\n",
      "  \"airtableId\": \"rec0036DU3thOo0jB\",\n",
      "  \"id\": \"e1\"\n",
      "}\n"
     ]
    }
   ],
   "source": [
    "import json\n",
    "\n",
    "print(json.dumps(episodes[0], indent=2))"
   ]
  },
  {
   "cell_type": "markdown",
   "metadata": {},
   "source": [
    "One thing we can do is look at the social network of creators of these episodes and consider people connected if they've worked together."
   ]
  },
  {
   "cell_type": "code",
   "execution_count": 71,
   "metadata": {},
   "outputs": [
    {
     "name": "stdout",
     "output_type": "stream",
     "text": [
      "287\n"
     ]
    }
   ],
   "source": [
    "import networkx\n",
    "import itertools\n",
    "\n",
    "g = networkx.Graph()\n",
    "\n",
    "for episode in episodes:\n",
    "    creators = filter(lambda p: p['type'] == 'Person', episode.get('creator', []))\n",
    "    creators = set(map(lambda p: p['name'], creators))\n",
    "    \n",
    "    # get all pairwise combinations\n",
    "    for p1, p2 in itertools.combinations(creators, 2):\n",
    "        if p1 == p2:\n",
    "            continue\n",
    "        if g.has_edge(p1, p2):\n",
    "            weight = g.edges[p1, p2]['weight']\n",
    "        else:\n",
    "            weight = 0\n",
    "        g.add_edge(p1, p2, weight=weight + 1)\n",
    "        \n",
    "print(len(g))"
   ]
  },
  {
   "cell_type": "code",
   "execution_count": 105,
   "metadata": {},
   "outputs": [
    {
     "name": "stdout",
     "output_type": "stream",
     "text": [
      "Collecting pyvis\n",
      "  Downloading pyvis-0.1.9-py3-none-any.whl (23 kB)\n",
      "Requirement already satisfied, skipping upgrade: networkx>=1.11 in /home/ed/.local/share/virtualenvs/notebooks-7Xlq9Gbm/lib/python3.8/site-packages (from pyvis) (2.5)\n",
      "Requirement already satisfied, skipping upgrade: jsonpickle>=1.4.1 in /home/ed/.local/share/virtualenvs/notebooks-7Xlq9Gbm/lib/python3.8/site-packages (from pyvis) (1.4.2)\n",
      "Requirement already satisfied, skipping upgrade: jinja2>=2.9.6 in /home/ed/.local/share/virtualenvs/notebooks-7Xlq9Gbm/lib/python3.8/site-packages (from pyvis) (2.11.2)\n",
      "Requirement already satisfied, skipping upgrade: ipython>=5.3.0 in /home/ed/.local/share/virtualenvs/notebooks-7Xlq9Gbm/lib/python3.8/site-packages (from pyvis) (7.19.0)\n",
      "Requirement already satisfied, skipping upgrade: decorator>=4.3.0 in /home/ed/.local/share/virtualenvs/notebooks-7Xlq9Gbm/lib/python3.8/site-packages (from networkx>=1.11->pyvis) (4.4.2)\n",
      "Requirement already satisfied, skipping upgrade: MarkupSafe>=0.23 in /home/ed/.local/share/virtualenvs/notebooks-7Xlq9Gbm/lib/python3.8/site-packages (from jinja2>=2.9.6->pyvis) (1.1.1)\n",
      "Requirement already satisfied, skipping upgrade: jedi>=0.10 in /home/ed/.local/share/virtualenvs/notebooks-7Xlq9Gbm/lib/python3.8/site-packages (from ipython>=5.3.0->pyvis) (0.17.2)\n",
      "Requirement already satisfied, skipping upgrade: pickleshare in /home/ed/.local/share/virtualenvs/notebooks-7Xlq9Gbm/lib/python3.8/site-packages (from ipython>=5.3.0->pyvis) (0.7.5)\n",
      "Requirement already satisfied, skipping upgrade: prompt-toolkit!=3.0.0,!=3.0.1,<3.1.0,>=2.0.0 in /home/ed/.local/share/virtualenvs/notebooks-7Xlq9Gbm/lib/python3.8/site-packages (from ipython>=5.3.0->pyvis) (3.0.8)\n",
      "Requirement already satisfied, skipping upgrade: traitlets>=4.2 in /home/ed/.local/share/virtualenvs/notebooks-7Xlq9Gbm/lib/python3.8/site-packages (from ipython>=5.3.0->pyvis) (5.0.5)\n",
      "Requirement already satisfied, skipping upgrade: pexpect>4.3; sys_platform != \"win32\" in /home/ed/.local/share/virtualenvs/notebooks-7Xlq9Gbm/lib/python3.8/site-packages (from ipython>=5.3.0->pyvis) (4.8.0)\n",
      "Requirement already satisfied, skipping upgrade: setuptools>=18.5 in /home/ed/.local/share/virtualenvs/notebooks-7Xlq9Gbm/lib/python3.8/site-packages (from ipython>=5.3.0->pyvis) (50.3.0)\n",
      "Requirement already satisfied, skipping upgrade: pygments in /home/ed/.local/share/virtualenvs/notebooks-7Xlq9Gbm/lib/python3.8/site-packages (from ipython>=5.3.0->pyvis) (2.7.3)\n",
      "Requirement already satisfied, skipping upgrade: backcall in /home/ed/.local/share/virtualenvs/notebooks-7Xlq9Gbm/lib/python3.8/site-packages (from ipython>=5.3.0->pyvis) (0.2.0)\n",
      "Requirement already satisfied, skipping upgrade: parso<0.8.0,>=0.7.0 in /home/ed/.local/share/virtualenvs/notebooks-7Xlq9Gbm/lib/python3.8/site-packages (from jedi>=0.10->ipython>=5.3.0->pyvis) (0.7.1)\n",
      "Requirement already satisfied, skipping upgrade: wcwidth in /home/ed/.local/share/virtualenvs/notebooks-7Xlq9Gbm/lib/python3.8/site-packages (from prompt-toolkit!=3.0.0,!=3.0.1,<3.1.0,>=2.0.0->ipython>=5.3.0->pyvis) (0.2.5)\n",
      "Requirement already satisfied, skipping upgrade: ipython-genutils in /home/ed/.local/share/virtualenvs/notebooks-7Xlq9Gbm/lib/python3.8/site-packages (from traitlets>=4.2->ipython>=5.3.0->pyvis) (0.2.0)\n",
      "Requirement already satisfied, skipping upgrade: ptyprocess>=0.5 in /home/ed/.local/share/virtualenvs/notebooks-7Xlq9Gbm/lib/python3.8/site-packages (from pexpect>4.3; sys_platform != \"win32\"->ipython>=5.3.0->pyvis) (0.6.0)\n",
      "Installing collected packages: pyvis\n",
      "  Attempting uninstall: pyvis\n",
      "    Found existing installation: pyvis 0.1.8.2\n",
      "    Uninstalling pyvis-0.1.8.2:\n",
      "      Successfully uninstalled pyvis-0.1.8.2\n",
      "Successfully installed pyvis-0.1.9\n"
     ]
    }
   ],
   "source": [
    "! pip install --upgrade pyvis"
   ]
  },
  {
   "cell_type": "code",
   "execution_count": 106,
   "metadata": {},
   "outputs": [
    {
     "data": {
      "text/html": [
       "\n",
       "        <iframe\n",
       "            width=\"1400px\"\n",
       "            height=\"1400px\"\n",
       "            src=\"data/uta-network.html\"\n",
       "            frameborder=\"0\"\n",
       "            allowfullscreen\n",
       "        ></iframe>\n",
       "        "
      ],
      "text/plain": [
       "<IPython.lib.display.IFrame at 0x7effc85e6df0>"
      ]
     },
     "execution_count": 106,
     "metadata": {},
     "output_type": "execute_result"
    }
   ],
   "source": [
    "from pyvis.network import Network\n",
    "from IPython.core.display import display, HTML\n",
    "\n",
    "nt = Network('1400px', '1400px', notebook=True,)\n",
    "nt.from_nx(g)\n",
    "nt.show('data/uta-network.html')"
   ]
  },
  {
   "cell_type": "markdown",
   "metadata": {},
   "source": [
    "That's kind of a tangle. I wonder what it would look like if we remove the edges where the weight is equal to 1, so that we can see people who worked together on more than one episode."
   ]
  },
  {
   "cell_type": "code",
   "execution_count": 118,
   "metadata": {},
   "outputs": [
    {
     "data": {
      "text/html": [
       "\n",
       "        <iframe\n",
       "            width=\"1000px\"\n",
       "            height=\"500px\"\n",
       "            src=\"data/uta-network.html\"\n",
       "            frameborder=\"0\"\n",
       "            allowfullscreen\n",
       "        ></iframe>\n",
       "        "
      ],
      "text/plain": [
       "<IPython.lib.display.IFrame at 0x7effaee3c460>"
      ]
     },
     "execution_count": 118,
     "metadata": {},
     "output_type": "execute_result"
    }
   ],
   "source": [
    "# remove any edges where the weight is 1\n",
    "g2 = g.copy()\n",
    "for n1, n2, data in g.edges(data=True):\n",
    "    if data['weight'] == 1:\n",
    "        g2.remove_edge(n1, n2)\n",
    "\n",
    "# remove nodes that are no longer connected\n",
    "rm_nodes = list(filter(lambda n: g2.degree(n) == 0, g2.nodes()))\n",
    "g2.remove_nodes_from(rm_nodes)\n",
    "\n",
    "nt = Network('500px', '1000px', notebook=True, heading=\"Unlocking the Airwaves\")\n",
    "nt.from_nx(g2)\n",
    "nt.show_buttons()\n",
    "nt.show('data/uta-network.html')"
   ]
  },
  {
   "cell_type": "markdown",
   "metadata": {},
   "source": [
    "That still looks a bit complicated. How about if we limit to people who have particular roles?"
   ]
  },
  {
   "cell_type": "code",
   "execution_count": null,
   "metadata": {},
   "outputs": [],
   "source": []
  }
 ],
 "metadata": {
  "kernelspec": {
   "display_name": "Python 3",
   "language": "python",
   "name": "python3"
  },
  "language_info": {
   "codemirror_mode": {
    "name": "ipython",
    "version": 3
   },
   "file_extension": ".py",
   "mimetype": "text/x-python",
   "name": "python",
   "nbconvert_exporter": "python",
   "pygments_lexer": "ipython3",
   "version": "3.8.10"
  }
 },
 "nbformat": 4,
 "nbformat_minor": 4
}
