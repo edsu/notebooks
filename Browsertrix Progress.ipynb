{
 "cells": [
  {
   "cell_type": "markdown",
   "id": "126e2ab2-f5ca-4c0a-93ad-1498184c7dc5",
   "metadata": {},
   "source": [
    "# Browsertrix Progress\n",
    "\n",
    "When browsertrix-crawler runs it generates a line oriented JSON log file. We can use some of the messages to track how many URLs are getting queued for archiving against how many have been archived so far. This is potentially useful because you don't often know the dimensions of a website (the number of pages) a priori.\n",
    "\n",
    "First lets read in all the log messages for a crawl that is underway. You can find these log files on disk in the collection's `logs` directory."
   ]
  },
  {
   "cell_type": "code",
   "execution_count": 1,
   "id": "4fe9ae0c-7619-4306-8dc5-fb27b51a3cda",
   "metadata": {},
   "outputs": [
    {
     "data": {
      "text/plain": [
       "[{'timestamp': '2024-05-07T23:11:26.459Z',\n",
       "  'logLevel': 'info',\n",
       "  'context': 'general',\n",
       "  'message': 'Browsertrix-Crawler 1.1.2 (with warcio.js 2.2.1)',\n",
       "  'details': {}},\n",
       " {'timestamp': '2024-05-07T23:11:26.460Z',\n",
       "  'logLevel': 'info',\n",
       "  'context': 'general',\n",
       "  'message': 'Seeds',\n",
       "  'details': [{'url': 'http://www.buffon.cnrs.fr/',\n",
       "    'scopeType': 'prefix',\n",
       "    'include': ['/^https?:\\\\/\\\\/www\\\\.buffon\\\\.cnrs\\\\.fr\\\\//'],\n",
       "    'exclude': ['/.*fig=.*fig=.*/'],\n",
       "    'allowHash': False,\n",
       "    'depth': -1,\n",
       "    'sitemap': None,\n",
       "    'maxExtraHops': 0,\n",
       "    'maxDepth': 1000000,\n",
       "    '_excludeStr': '.*fig=.*fig=.*'}]},\n",
       " {'timestamp': '2024-05-07T23:11:26.728Z',\n",
       "  'logLevel': 'info',\n",
       "  'context': 'worker',\n",
       "  'message': 'Creating 4 workers',\n",
       "  'details': {}},\n",
       " {'timestamp': '2024-05-07T23:11:26.729Z',\n",
       "  'logLevel': 'info',\n",
       "  'context': 'worker',\n",
       "  'message': 'Worker starting',\n",
       "  'details': {'workerid': 0}},\n",
       " {'timestamp': '2024-05-07T23:11:26.729Z',\n",
       "  'logLevel': 'info',\n",
       "  'context': 'worker',\n",
       "  'message': 'Worker starting',\n",
       "  'details': {'workerid': 1}},\n",
       " {'timestamp': '2024-05-07T23:11:26.729Z',\n",
       "  'logLevel': 'info',\n",
       "  'context': 'worker',\n",
       "  'message': 'Worker starting',\n",
       "  'details': {'workerid': 2}},\n",
       " {'timestamp': '2024-05-07T23:11:26.730Z',\n",
       "  'logLevel': 'info',\n",
       "  'context': 'worker',\n",
       "  'message': 'Worker starting',\n",
       "  'details': {'workerid': 3}},\n",
       " {'timestamp': '2024-05-07T23:11:26.822Z',\n",
       "  'logLevel': 'info',\n",
       "  'context': 'worker',\n",
       "  'message': 'Starting page',\n",
       "  'details': {'workerid': 0, 'page': 'http://www.buffon.cnrs.fr/'}},\n",
       " {'timestamp': '2024-05-07T23:11:26.823Z',\n",
       "  'logLevel': 'info',\n",
       "  'context': 'crawlStatus',\n",
       "  'message': 'Crawl statistics',\n",
       "  'details': {'crawled': 0,\n",
       "   'total': 1,\n",
       "   'pending': 1,\n",
       "   'failed': 0,\n",
       "   'limit': {'max': 0, 'hit': False},\n",
       "   'pendingPages': ['{\"seedId\":0,\"started\":\"2024-05-07T23:11:26.731Z\",\"extraHops\":0,\"url\":\"http://www.buffon.cnrs.fr/\",\"added\":\"2024-05-07T23:11:26.492Z\",\"depth\":0}']}},\n",
       " {'timestamp': '2024-05-07T23:11:27.063Z',\n",
       "  'logLevel': 'info',\n",
       "  'context': 'general',\n",
       "  'message': 'Awaiting page load',\n",
       "  'details': {'page': 'http://www.buffon.cnrs.fr/', 'workerid': 0}}]"
      ]
     },
     "execution_count": 1,
     "metadata": {},
     "output_type": "execute_result"
    }
   ],
   "source": [
    "import json\n",
    "\n",
    "lines = list(map(json.loads, open('data/btrix-crawl.log')))\n",
    "lines[0:10]"
   ]
  },
  {
   "cell_type": "markdown",
   "id": "7b7f4f43-47e5-4532-ae0f-44bd6054fc3d",
   "metadata": {},
   "source": [
    "Some of the messages have `context: crawlStatus` that provide information about how many pages have been crawled, and how many have yet to be crawled. For a long running crawl this can provide some useful information to see how long the crawl might take, since it's often difficult to known the dimensions of a website."
   ]
  },
  {
   "cell_type": "code",
   "execution_count": 10,
   "id": "71a5f733-a1be-4637-ac57-99b6c60fd437",
   "metadata": {},
   "outputs": [
    {
     "data": {
      "text/plain": [
       "[{'timestamp': '2024-05-07T23:11:26.823Z',\n",
       "  'logLevel': 'info',\n",
       "  'context': 'crawlStatus',\n",
       "  'message': 'Crawl statistics',\n",
       "  'details': {'crawled': 0,\n",
       "   'total': 1,\n",
       "   'pending': 1,\n",
       "   'failed': 0,\n",
       "   'limit': {'max': 0, 'hit': False},\n",
       "   'pendingPages': ['{\"seedId\":0,\"started\":\"2024-05-07T23:11:26.731Z\",\"extraHops\":0,\"url\":\"http://www.buffon.cnrs.fr/\",\"added\":\"2024-05-07T23:11:26.492Z\",\"depth\":0}']}},\n",
       " {'timestamp': '2024-05-07T23:11:29.921Z',\n",
       "  'logLevel': 'info',\n",
       "  'context': 'crawlStatus',\n",
       "  'message': 'Crawl statistics',\n",
       "  'details': {'crawled': 0,\n",
       "   'total': 64,\n",
       "   'pending': 4,\n",
       "   'failed': 0,\n",
       "   'limit': {'max': 0, 'hit': False},\n",
       "   'pendingPages': ['{\"seedId\":0,\"started\":\"2024-05-07T23:11:29.774Z\",\"extraHops\":0,\"url\":\"http://www.buffon.cnrs.fr/cs.php?lang=fr\",\"added\":\"2024-05-07T23:11:29.591Z\",\"depth\":1}',\n",
       "    '{\"seedId\":0,\"started\":\"2024-05-07T23:11:29.774Z\",\"extraHops\":0,\"url\":\"http://www.buffon.cnrs.fr/?lang=fr\",\"added\":\"2024-05-07T23:11:29.590Z\",\"depth\":1}',\n",
       "    '{\"seedId\":0,\"started\":\"2024-05-07T23:11:29.774Z\",\"extraHops\":0,\"url\":\"http://www.buffon.cnrs.fr/?lang=en\",\"added\":\"2024-05-07T23:11:29.590Z\",\"depth\":1}',\n",
       "    '{\"seedId\":0,\"started\":\"2024-05-07T23:11:26.731Z\",\"extraHops\":0,\"url\":\"http://www.buffon.cnrs.fr/\",\"added\":\"2024-05-07T23:11:26.492Z\",\"depth\":0}']}}]"
      ]
     },
     "execution_count": 10,
     "metadata": {},
     "output_type": "execute_result"
    }
   ],
   "source": [
    "crawl_status = list(filter(lambda l: l['context'] == 'crawlStatus', lines))\n",
    "crawl_status[0:2]"
   ]
  },
  {
   "cell_type": "markdown",
   "id": "d3b0ea4a-4079-4be1-b15f-22362386fc2a",
   "metadata": {},
   "source": [
    "For analysis it can help to drop these messages into a Pandas DataFrame."
   ]
  },
  {
   "cell_type": "code",
   "execution_count": 3,
   "id": "7b742612-fbab-45b5-855b-ba13b302c90f",
   "metadata": {},
   "outputs": [
    {
     "data": {
      "text/html": [
       "<div>\n",
       "<style scoped>\n",
       "    .dataframe tbody tr th:only-of-type {\n",
       "        vertical-align: middle;\n",
       "    }\n",
       "\n",
       "    .dataframe tbody tr th {\n",
       "        vertical-align: top;\n",
       "    }\n",
       "\n",
       "    .dataframe thead th {\n",
       "        text-align: right;\n",
       "    }\n",
       "</style>\n",
       "<table border=\"1\" class=\"dataframe\">\n",
       "  <thead>\n",
       "    <tr style=\"text-align: right;\">\n",
       "      <th></th>\n",
       "      <th>timestamp</th>\n",
       "      <th>logLevel</th>\n",
       "      <th>context</th>\n",
       "      <th>message</th>\n",
       "      <th>details</th>\n",
       "    </tr>\n",
       "  </thead>\n",
       "  <tbody>\n",
       "    <tr>\n",
       "      <th>0</th>\n",
       "      <td>2024-05-07T23:11:26.823Z</td>\n",
       "      <td>info</td>\n",
       "      <td>crawlStatus</td>\n",
       "      <td>Crawl statistics</td>\n",
       "      <td>{'crawled': 0, 'total': 1, 'pending': 1, 'fail...</td>\n",
       "    </tr>\n",
       "    <tr>\n",
       "      <th>1</th>\n",
       "      <td>2024-05-07T23:11:29.921Z</td>\n",
       "      <td>info</td>\n",
       "      <td>crawlStatus</td>\n",
       "      <td>Crawl statistics</td>\n",
       "      <td>{'crawled': 0, 'total': 64, 'pending': 4, 'fai...</td>\n",
       "    </tr>\n",
       "    <tr>\n",
       "      <th>2</th>\n",
       "      <td>2024-05-07T23:11:29.921Z</td>\n",
       "      <td>info</td>\n",
       "      <td>crawlStatus</td>\n",
       "      <td>Crawl statistics</td>\n",
       "      <td>{'crawled': 0, 'total': 64, 'pending': 4, 'fai...</td>\n",
       "    </tr>\n",
       "    <tr>\n",
       "      <th>3</th>\n",
       "      <td>2024-05-07T23:11:29.923Z</td>\n",
       "      <td>info</td>\n",
       "      <td>crawlStatus</td>\n",
       "      <td>Crawl statistics</td>\n",
       "      <td>{'crawled': 0, 'total': 64, 'pending': 4, 'fai...</td>\n",
       "    </tr>\n",
       "    <tr>\n",
       "      <th>4</th>\n",
       "      <td>2024-05-07T23:11:31.161Z</td>\n",
       "      <td>info</td>\n",
       "      <td>crawlStatus</td>\n",
       "      <td>Crawl statistics</td>\n",
       "      <td>{'crawled': 1, 'total': 64, 'pending': 4, 'fai...</td>\n",
       "    </tr>\n",
       "    <tr>\n",
       "      <th>...</th>\n",
       "      <td>...</td>\n",
       "      <td>...</td>\n",
       "      <td>...</td>\n",
       "      <td>...</td>\n",
       "      <td>...</td>\n",
       "    </tr>\n",
       "    <tr>\n",
       "      <th>14099</th>\n",
       "      <td>2024-05-08T12:41:51.003Z</td>\n",
       "      <td>info</td>\n",
       "      <td>crawlStatus</td>\n",
       "      <td>Crawl statistics</td>\n",
       "      <td>{'crawled': 14096, 'total': 46225, 'pending': ...</td>\n",
       "    </tr>\n",
       "    <tr>\n",
       "      <th>14100</th>\n",
       "      <td>2024-05-08T12:41:53.604Z</td>\n",
       "      <td>info</td>\n",
       "      <td>crawlStatus</td>\n",
       "      <td>Crawl statistics</td>\n",
       "      <td>{'crawled': 14097, 'total': 46229, 'pending': ...</td>\n",
       "    </tr>\n",
       "    <tr>\n",
       "      <th>14101</th>\n",
       "      <td>2024-05-08T12:41:54.284Z</td>\n",
       "      <td>info</td>\n",
       "      <td>crawlStatus</td>\n",
       "      <td>Crawl statistics</td>\n",
       "      <td>{'crawled': 14098, 'total': 46229, 'pending': ...</td>\n",
       "    </tr>\n",
       "    <tr>\n",
       "      <th>14102</th>\n",
       "      <td>2024-05-08T12:41:54.707Z</td>\n",
       "      <td>info</td>\n",
       "      <td>crawlStatus</td>\n",
       "      <td>Crawl statistics</td>\n",
       "      <td>{'crawled': 14099, 'total': 46229, 'pending': ...</td>\n",
       "    </tr>\n",
       "    <tr>\n",
       "      <th>14103</th>\n",
       "      <td>2024-05-08T12:41:57.385Z</td>\n",
       "      <td>info</td>\n",
       "      <td>crawlStatus</td>\n",
       "      <td>Crawl statistics</td>\n",
       "      <td>{'crawled': 14100, 'total': 46233, 'pending': ...</td>\n",
       "    </tr>\n",
       "  </tbody>\n",
       "</table>\n",
       "<p>14104 rows × 5 columns</p>\n",
       "</div>"
      ],
      "text/plain": [
       "                      timestamp logLevel      context           message  \\\n",
       "0      2024-05-07T23:11:26.823Z     info  crawlStatus  Crawl statistics   \n",
       "1      2024-05-07T23:11:29.921Z     info  crawlStatus  Crawl statistics   \n",
       "2      2024-05-07T23:11:29.921Z     info  crawlStatus  Crawl statistics   \n",
       "3      2024-05-07T23:11:29.923Z     info  crawlStatus  Crawl statistics   \n",
       "4      2024-05-07T23:11:31.161Z     info  crawlStatus  Crawl statistics   \n",
       "...                         ...      ...          ...               ...   \n",
       "14099  2024-05-08T12:41:51.003Z     info  crawlStatus  Crawl statistics   \n",
       "14100  2024-05-08T12:41:53.604Z     info  crawlStatus  Crawl statistics   \n",
       "14101  2024-05-08T12:41:54.284Z     info  crawlStatus  Crawl statistics   \n",
       "14102  2024-05-08T12:41:54.707Z     info  crawlStatus  Crawl statistics   \n",
       "14103  2024-05-08T12:41:57.385Z     info  crawlStatus  Crawl statistics   \n",
       "\n",
       "                                                 details  \n",
       "0      {'crawled': 0, 'total': 1, 'pending': 1, 'fail...  \n",
       "1      {'crawled': 0, 'total': 64, 'pending': 4, 'fai...  \n",
       "2      {'crawled': 0, 'total': 64, 'pending': 4, 'fai...  \n",
       "3      {'crawled': 0, 'total': 64, 'pending': 4, 'fai...  \n",
       "4      {'crawled': 1, 'total': 64, 'pending': 4, 'fai...  \n",
       "...                                                  ...  \n",
       "14099  {'crawled': 14096, 'total': 46225, 'pending': ...  \n",
       "14100  {'crawled': 14097, 'total': 46229, 'pending': ...  \n",
       "14101  {'crawled': 14098, 'total': 46229, 'pending': ...  \n",
       "14102  {'crawled': 14099, 'total': 46229, 'pending': ...  \n",
       "14103  {'crawled': 14100, 'total': 46233, 'pending': ...  \n",
       "\n",
       "[14104 rows x 5 columns]"
      ]
     },
     "execution_count": 3,
     "metadata": {},
     "output_type": "execute_result"
    }
   ],
   "source": [
    "import pandas\n",
    "\n",
    "df = pandas.DataFrame(crawl_status)\n",
    "df"
   ]
  },
  {
   "cell_type": "markdown",
   "id": "84c4b12e-1ce4-4f9f-a10e-a7771a2c79a6",
   "metadata": {},
   "source": [
    "Lets clean up the data a bit so we can work with it easier in Pandas.\n",
    "\n",
    "First lets convert the timestamp column from a string to a datetime."
   ]
  },
  {
   "cell_type": "code",
   "execution_count": 4,
   "id": "95e62de7-a14f-463d-adbc-40936bca3930",
   "metadata": {},
   "outputs": [],
   "source": [
    "df.timestamp = pandas.to_datetime(df.timestamp)"
   ]
  },
  {
   "cell_type": "markdown",
   "id": "13d08a81-c362-41f2-80eb-e3bba4b34406",
   "metadata": {},
   "source": [
    "Next, extract the `crawled` and `total` values from the serialized dictionary in the `details` column."
   ]
  },
  {
   "cell_type": "code",
   "execution_count": 5,
   "id": "b4879f95-c390-4973-9433-8fe9738e6af8",
   "metadata": {},
   "outputs": [],
   "source": [
    "df['crawled'] = df.details.apply(lambda d: d['crawled'])\n",
    "df['pages_to_crawl'] = df.details.apply(lambda d: d['total'])"
   ]
  },
  {
   "cell_type": "markdown",
   "id": "a2b94489-447a-494d-b72d-aed12681381d",
   "metadata": {},
   "source": [
    "Now we can plot the number of pages crawled, and the total pages to crawl (which changes as browsertrix discovers them in new pages)."
   ]
  },
  {
   "cell_type": "code",
   "execution_count": 8,
   "id": "12e70b35-9f66-4fe1-8708-d28ef53c43a2",
   "metadata": {},
   "outputs": [
    {
     "data": {
      "image/png": "[encoded data removed]"
     },
     "metadata": {},
     "output_type": "display_data"
    }
   ],
   "source": [
    "from plotly import graph_objects as go\n",
    "\n",
    "fig = go.Figure()\n",
    "\n",
    "fig.add_trace(\n",
    "    go.Scatter(\n",
    "        x=df.timestamp,\n",
    "        y=df.crawled,\n",
    "        mode='lines',\n",
    "        name='Pages Crawled',\n",
    "        line={'shape': 'spline'}\n",
    "    )\n",
    ")\n",
    "\n",
    "fig.add_trace(\n",
    "    go.Scatter(\n",
    "        x=df.timestamp,\n",
    "        y=df.pages_to_crawl,\n",
    "        mode='lines',\n",
    "        name='Total Pages to Crawl',\n",
    "        line={'shape': 'spline'}\n",
    "    )\n",
    ")\n",
    "\n",
    "fig.update_layout(\n",
    "    title='Browsertrix Crawl and Link Discovery for www.buffon.cnrs.fr',\n",
    "    height=700,\n",
    "    width=1000,\n",
    "    yaxis_title='URLs',\n",
    "    xaxis_title='Crawl Time'\n",
    ")\n",
    "\n",
    "fig.show('png')"
   ]
  },
  {
   "cell_type": "markdown",
   "id": "b69158ae-a1dc-43df-b350-ddb97e54ed2a",
   "metadata": {},
   "source": [
    "Can we infer when the crawl is likely to end, based on what we've seen so far in the log?"
   ]
  },
  {
   "cell_type": "code",
   "execution_count": 9,
   "id": "bfe2cf2f-04ca-4cd1-94ed-277a0c6a6a87",
   "metadata": {},
   "outputs": [
    {
     "name": "stdout",
     "output_type": "stream",
     "text": [
      "LinregressResult(slope=3.659755078527848e-10, intercept=-627698579.0215164, rvalue=0.9112219436982991, pvalue=0.0, stderr=1.3931435705488922e-12, intercept_stderr=2389460.6078011747)\n",
      "LinregressResult(slope=1.1221160219141554e-09, intercept=-1924572951.3339365, rvalue=0.9688762708141956, pvalue=0.0, stderr=2.414260422725134e-12, intercept_stderr=4140836.808945862)\n"
     ]
    }
   ],
   "source": [
    "from scipy.stats import linregress\n",
    "\n",
    "crawled_line = linregress(x=df.timestamp.to_numpy(dtype=float), y=df.crawled)\n",
    "total_line = linregress(x=df.timestamp.to_numpy(dtype=float), y=df.pages_to_crawl)\n",
    "\n",
    "print(crawled_line)\n",
    "print(total_line)"
   ]
  },
  {
   "cell_type": "markdown",
   "id": "5bd315ad-2e7c-403a-afc4-03bcc2a4c85e",
   "metadata": {},
   "source": [
    "TBD..."
   ]
  },
  {
   "cell_type": "code",
   "execution_count": null,
   "id": "2d30edae-8a83-4bff-831e-a1a13238cea6",
   "metadata": {},
   "outputs": [],
   "source": []
  }
 ],
 "metadata": {
  "kernelspec": {
   "display_name": "Python 3 (ipykernel)",
   "language": "python",
   "name": "python3"
  },
  "language_info": {
   "codemirror_mode": {
    "name": "ipython",
    "version": 3
   },
   "file_extension": ".py",
   "mimetype": "text/x-python",
   "name": "python",
   "nbconvert_exporter": "python",
   "pygments_lexer": "ipython3",
   "version": "3.12.2"
  }
 },
 "nbformat": 4,
 "nbformat_minor": 5
}
