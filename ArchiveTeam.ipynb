{
 "cells": [
  {
   "cell_type": "markdown",
   "metadata": {},
   "source": [
    "# ArchiveTeam Ingest Rate"
   ]
  },
  {
   "cell_type": "markdown",
   "metadata": {},
   "source": [
    "This notebook shows how to chart the growth of the ArchiveTeam collection at the Internet Archivee over time. It relies on using the [iacoll](https://github.com/edsu/iacoll) utility to download all the item metadata for the ArchiveTeam collection, and then using that collected metadata to generate some charts.\n",
    "\n",
    "To get the metadata you'll need to run this command for a few days:\n",
    "\n",
    "    % iacoll archiveteam\n",
    "    \n",
    "Once it finishes we can write a function to iterate over all the metadata in the LevelDB database, and populate the *sizes* dictionary that has the date as a key, and the size of the files uploaded that day in bytes as a value."
   ]
  },
  {
   "cell_type": "code",
   "execution_count": 1,
   "metadata": {},
   "outputs": [],
   "source": [
    "import os\n",
    "import re\n",
    "import json\n",
    "import plyvel\n",
    "\n",
    "def get_sizes():\n",
    "    db = plyvel.DB('archiveteam')\n",
    "    sizes = {}\n",
    "\n",
    "    for k, v in db:\n",
    "        item_id = k.decode('utf8')                 \n",
    "        if not item_id.startswith('iacoll:item:'):\n",
    "            continue\n",
    "\n",
    "        item = json.loads(v)\n",
    "        if 'files' not in item or 'addeddate' not in item['metadata']:\n",
    "            continue\n",
    "            \n",
    "        size = 0\n",
    "        for file in item['files']:\n",
    "            if 'size' in file:\n",
    "                size += int(file['size'])\n",
    "            \n",
    "        m = re.match('(^\\d\\d\\d\\d-\\d\\d-\\d\\d)', item['metadata']['addeddate'])\n",
    "        date = m.group(1)\n",
    "    \n",
    "        sizes[date] = sizes.get(date, 0) + size\n",
    "    \n",
    "    db.close()\n",
    "    return sizes    "
   ]
  },
  {
   "cell_type": "markdown",
   "metadata": {},
   "source": [
    "If we don't have it already we need to use our *get_sizes* function to write out a CSV of dates and bytes uploaded to the ArchiveTeam collection on that day. Since it takes some time to iterate over this data we save it so it doesn't need to be recalcuated every time this notebook is run."
   ]
  },
  {
   "cell_type": "code",
   "execution_count": 2,
   "metadata": {},
   "outputs": [],
   "source": [
    "import csv\n",
    "\n",
    "if not os.path.isfile('ArchiveTeam-sizes.csv'):\n",
    "    \n",
    "    sizes = get_sizes()\n",
    "    dates = sorted(sizes.keys())\n",
    "\n",
    "    with open('ArchiveTeam.csv', 'w') as output:\n",
    "        writer = csv.writer(output)\n",
    "        writer.writerow(['date', 'size'])\n",
    "        for date in dates:\n",
    "            writer.writerow([date, sizes[date]])"
   ]
  },
  {
   "cell_type": "markdown",
   "metadata": {},
   "source": [
    "## Analyze the Data\n",
    "\n",
    "So now we have our CSV of data we can analyze it a bit with [pandas](https://pandas.pydata.org/) and maybe generate a useful graph. First we'll import pandas and load in the data as a pandas DataFrame.\n",
    "\n",
    "*Aside: I'm still learning pandas, and this is not meant to be a tutorial. If you want to learn more about all the amazing stuff you can do with it you'll want to spend some time in their excellent [tutorial](https://pandas.pydata.org/pandas-docs/stable/dsintro.html). If you work with R at all it should look pretty familiar. If not, treat this as just dipping your toe in to test the water. That's what I'm doing. If you do know pandas and notice a better way of doing any of this please let me know!*"
   ]
  },
  {
   "cell_type": "code",
   "execution_count": 3,
   "metadata": {},
   "outputs": [
    {
     "data": {
      "text/html": [
       "<div>\n",
       "<style scoped>\n",
       "    .dataframe tbody tr th:only-of-type {\n",
       "        vertical-align: middle;\n",
       "    }\n",
       "\n",
       "    .dataframe tbody tr th {\n",
       "        vertical-align: top;\n",
       "    }\n",
       "\n",
       "    .dataframe thead th {\n",
       "        text-align: right;\n",
       "    }\n",
       "</style>\n",
       "<table border=\"1\" class=\"dataframe\">\n",
       "  <thead>\n",
       "    <tr style=\"text-align: right;\">\n",
       "      <th></th>\n",
       "      <th>size</th>\n",
       "    </tr>\n",
       "    <tr>\n",
       "      <th>date</th>\n",
       "      <th></th>\n",
       "    </tr>\n",
       "  </thead>\n",
       "  <tbody>\n",
       "    <tr>\n",
       "      <th>2009-03-10</th>\n",
       "      <td>214577441</td>\n",
       "    </tr>\n",
       "    <tr>\n",
       "      <th>2009-03-12</th>\n",
       "      <td>214577249</td>\n",
       "    </tr>\n",
       "    <tr>\n",
       "      <th>2010-11-30</th>\n",
       "      <td>75503895</td>\n",
       "    </tr>\n",
       "    <tr>\n",
       "      <th>2011-03-21</th>\n",
       "      <td>3068211032</td>\n",
       "    </tr>\n",
       "    <tr>\n",
       "      <th>2011-04-04</th>\n",
       "      <td>1952767638</td>\n",
       "    </tr>\n",
       "  </tbody>\n",
       "</table>\n",
       "</div>"
      ],
      "text/plain": [
       "                  size\n",
       "date                  \n",
       "2009-03-10   214577441\n",
       "2009-03-12   214577249\n",
       "2010-11-30    75503895\n",
       "2011-03-21  3068211032\n",
       "2011-04-04  1952767638"
      ]
     },
     "execution_count": 3,
     "metadata": {},
     "output_type": "execute_result"
    }
   ],
   "source": [
    "import pandas as pd\n",
    "\n",
    "sizes = pd.read_csv('ArchiveTeam.csv', index_col=0, parse_dates=True)\n",
    "sizes.head()"
   ]
  },
  {
   "cell_type": "markdown",
   "metadata": {},
   "source": [
    "It looks like the liveweb data started saving back in 2011. So now we've got a DataFrame that is indexed by the day, with one Series *size* that contains the bytes. I don't know about you, but I find it difficult to think of size in terms of bytes. So let's use pandas to calcuate a gigabyte column for us using the bytes:"
   ]
  },
  {
   "cell_type": "code",
   "execution_count": 4,
   "metadata": {},
   "outputs": [
    {
     "data": {
      "text/html": [
       "<div>\n",
       "<style scoped>\n",
       "    .dataframe tbody tr th:only-of-type {\n",
       "        vertical-align: middle;\n",
       "    }\n",
       "\n",
       "    .dataframe tbody tr th {\n",
       "        vertical-align: top;\n",
       "    }\n",
       "\n",
       "    .dataframe thead th {\n",
       "        text-align: right;\n",
       "    }\n",
       "</style>\n",
       "<table border=\"1\" class=\"dataframe\">\n",
       "  <thead>\n",
       "    <tr style=\"text-align: right;\">\n",
       "      <th></th>\n",
       "      <th>size</th>\n",
       "      <th>gb</th>\n",
       "    </tr>\n",
       "    <tr>\n",
       "      <th>date</th>\n",
       "      <th></th>\n",
       "      <th></th>\n",
       "    </tr>\n",
       "  </thead>\n",
       "  <tbody>\n",
       "    <tr>\n",
       "      <th>2009-03-10</th>\n",
       "      <td>214577441</td>\n",
       "      <td>0.199841</td>\n",
       "    </tr>\n",
       "    <tr>\n",
       "      <th>2009-03-12</th>\n",
       "      <td>214577249</td>\n",
       "      <td>0.199841</td>\n",
       "    </tr>\n",
       "    <tr>\n",
       "      <th>2010-11-30</th>\n",
       "      <td>75503895</td>\n",
       "      <td>0.070318</td>\n",
       "    </tr>\n",
       "    <tr>\n",
       "      <th>2011-03-21</th>\n",
       "      <td>3068211032</td>\n",
       "      <td>2.857494</td>\n",
       "    </tr>\n",
       "    <tr>\n",
       "      <th>2011-04-04</th>\n",
       "      <td>1952767638</td>\n",
       "      <td>1.818657</td>\n",
       "    </tr>\n",
       "  </tbody>\n",
       "</table>\n",
       "</div>"
      ],
      "text/plain": [
       "                  size        gb\n",
       "date                            \n",
       "2009-03-10   214577441  0.199841\n",
       "2009-03-12   214577249  0.199841\n",
       "2010-11-30    75503895  0.070318\n",
       "2011-03-21  3068211032  2.857494\n",
       "2011-04-04  1952767638  1.818657"
      ]
     },
     "execution_count": 4,
     "metadata": {},
     "output_type": "execute_result"
    }
   ],
   "source": [
    "sizes = sizes.assign(gb=lambda x: x / 1024 ** 3)\n",
    "sizes.head()"
   ]
  },
  {
   "cell_type": "markdown",
   "metadata": {},
   "source": [
    "Now we can tell pandas to calcuate some statistics on our data:"
   ]
  },
  {
   "cell_type": "code",
   "execution_count": 5,
   "metadata": {},
   "outputs": [
    {
     "data": {
      "text/html": [
       "<div>\n",
       "<style scoped>\n",
       "    .dataframe tbody tr th:only-of-type {\n",
       "        vertical-align: middle;\n",
       "    }\n",
       "\n",
       "    .dataframe tbody tr th {\n",
       "        vertical-align: top;\n",
       "    }\n",
       "\n",
       "    .dataframe thead th {\n",
       "        text-align: right;\n",
       "    }\n",
       "</style>\n",
       "<table border=\"1\" class=\"dataframe\">\n",
       "  <thead>\n",
       "    <tr style=\"text-align: right;\">\n",
       "      <th></th>\n",
       "      <th>size</th>\n",
       "      <th>gb</th>\n",
       "    </tr>\n",
       "  </thead>\n",
       "  <tbody>\n",
       "    <tr>\n",
       "      <th>count</th>\n",
       "      <td>2.471000e+03</td>\n",
       "      <td>2471.000000</td>\n",
       "    </tr>\n",
       "    <tr>\n",
       "      <th>mean</th>\n",
       "      <td>1.435572e+12</td>\n",
       "      <td>1336.980692</td>\n",
       "    </tr>\n",
       "    <tr>\n",
       "      <th>std</th>\n",
       "      <td>1.697634e+12</td>\n",
       "      <td>1581.045059</td>\n",
       "    </tr>\n",
       "    <tr>\n",
       "      <th>min</th>\n",
       "      <td>2.566200e+04</td>\n",
       "      <td>0.000024</td>\n",
       "    </tr>\n",
       "    <tr>\n",
       "      <th>25%</th>\n",
       "      <td>3.087655e+11</td>\n",
       "      <td>287.560266</td>\n",
       "    </tr>\n",
       "    <tr>\n",
       "      <th>50%</th>\n",
       "      <td>9.378079e+11</td>\n",
       "      <td>873.401690</td>\n",
       "    </tr>\n",
       "    <tr>\n",
       "      <th>75%</th>\n",
       "      <td>1.868169e+12</td>\n",
       "      <td>1739.868281</td>\n",
       "    </tr>\n",
       "    <tr>\n",
       "      <th>max</th>\n",
       "      <td>1.311028e+13</td>\n",
       "      <td>12209.895500</td>\n",
       "    </tr>\n",
       "  </tbody>\n",
       "</table>\n",
       "</div>"
      ],
      "text/plain": [
       "               size            gb\n",
       "count  2.471000e+03   2471.000000\n",
       "mean   1.435572e+12   1336.980692\n",
       "std    1.697634e+12   1581.045059\n",
       "min    2.566200e+04      0.000024\n",
       "25%    3.087655e+11    287.560266\n",
       "50%    9.378079e+11    873.401690\n",
       "75%    1.868169e+12   1739.868281\n",
       "max    1.311028e+13  12209.895500"
      ]
     },
     "execution_count": 5,
     "metadata": {},
     "output_type": "execute_result"
    }
   ],
   "source": [
    "sizes.describe()"
   ]
  },
  {
   "cell_type": "markdown",
   "metadata": {},
   "source": [
    "## Visualize the Data\n",
    "\n",
    "Since we have thousands of days, it might be useful to see the stats by month rather than by day. That's not too hard to do since our dataframe as a date index and pandas support for [timeseries](https://pandas.pydata.org/pandas-docs/stable/timeseries.html#timeseries) data allows us to resample the dataframe on a monthly basis:"
   ]
  },
  {
   "cell_type": "code",
   "execution_count": 6,
   "metadata": {},
   "outputs": [
    {
     "data": {
      "text/html": [
       "<div>\n",
       "<style scoped>\n",
       "    .dataframe tbody tr th:only-of-type {\n",
       "        vertical-align: middle;\n",
       "    }\n",
       "\n",
       "    .dataframe tbody tr th {\n",
       "        vertical-align: top;\n",
       "    }\n",
       "\n",
       "    .dataframe thead th {\n",
       "        text-align: right;\n",
       "    }\n",
       "</style>\n",
       "<table border=\"1\" class=\"dataframe\">\n",
       "  <thead>\n",
       "    <tr style=\"text-align: right;\">\n",
       "      <th></th>\n",
       "      <th>size</th>\n",
       "      <th>gb</th>\n",
       "    </tr>\n",
       "    <tr>\n",
       "      <th>date</th>\n",
       "      <th></th>\n",
       "      <th></th>\n",
       "    </tr>\n",
       "  </thead>\n",
       "  <tbody>\n",
       "    <tr>\n",
       "      <th>2009-03-31</th>\n",
       "      <td>429154690</td>\n",
       "      <td>0.399681</td>\n",
       "    </tr>\n",
       "    <tr>\n",
       "      <th>2009-04-30</th>\n",
       "      <td>0</td>\n",
       "      <td>0.000000</td>\n",
       "    </tr>\n",
       "    <tr>\n",
       "      <th>2009-05-31</th>\n",
       "      <td>0</td>\n",
       "      <td>0.000000</td>\n",
       "    </tr>\n",
       "    <tr>\n",
       "      <th>2009-06-30</th>\n",
       "      <td>0</td>\n",
       "      <td>0.000000</td>\n",
       "    </tr>\n",
       "    <tr>\n",
       "      <th>2009-07-31</th>\n",
       "      <td>0</td>\n",
       "      <td>0.000000</td>\n",
       "    </tr>\n",
       "  </tbody>\n",
       "</table>\n",
       "</div>"
      ],
      "text/plain": [
       "                 size        gb\n",
       "date                           \n",
       "2009-03-31  429154690  0.399681\n",
       "2009-04-30          0  0.000000\n",
       "2009-05-31          0  0.000000\n",
       "2009-06-30          0  0.000000\n",
       "2009-07-31          0  0.000000"
      ]
     },
     "execution_count": 6,
     "metadata": {},
     "output_type": "execute_result"
    }
   ],
   "source": [
    "sizes_by_month = sizes.resample('M').sum()\n",
    "sizes_by_month.head()"
   ]
  },
  {
   "cell_type": "code",
   "execution_count": 9,
   "metadata": {},
   "outputs": [
    {
     "data": {
      "text/plain": [
       "Text(0.5, 1.0, 'ArchiveTeam Ingest Rate')"
      ]
     },
     "execution_count": 9,
     "metadata": {},
     "output_type": "execute_result"
    },
    {
     "data": {
      "image/png": "[encoded data removed]",
      "text/plain": [
       "<Figure size 432x288 with 1 Axes>"
      ]
     },
     "metadata": {
      "needs_background": "light"
     },
     "output_type": "display_data"
    }
   ],
   "source": [
    "%matplotlib inline\n",
    "\n",
    "plot = sizes_by_month['gb'].plot()\n",
    "plot.set_xlabel('Year')\n",
    "plot.set_ylabel('Gigabytes per Month')\n",
    "plot.set_title('ArchiveTeam Ingest Rate')"
   ]
  },
  {
   "cell_type": "code",
   "execution_count": null,
   "metadata": {},
   "outputs": [],
   "source": []
  }
 ],
 "metadata": {
  "kernelspec": {
   "display_name": "Python 3",
   "language": "python",
   "name": "python3"
  },
  "language_info": {
   "codemirror_mode": {
    "name": "ipython",
    "version": 3
   },
   "file_extension": ".py",
   "mimetype": "text/x-python",
   "name": "python",
   "nbconvert_exporter": "python",
   "pygments_lexer": "ipython3",
   "version": "3.7.0"
  }
 },
 "nbformat": 4,
 "nbformat_minor": 2
}
