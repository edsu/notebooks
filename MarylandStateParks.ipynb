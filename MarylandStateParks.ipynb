{
 "cells": [
  {
   "cell_type": "markdown",
   "metadata": {},
   "source": [
    "# Maryland State Parks Twitter Purge\n",
    "\n",
    "According to [this article](https://www.baltimoresun.com/news/maryland/investigations/bs-md-state-park-social-media-accounts-merging-20190109-story.html) in the Baltimore Sun the Maryland Park Service has decided to consolidate all the individual state park social media accounts, including Twitter. This would effectively remove the historical record of feeds that people have followed. Let's use [twarc](https://github.com/docnow/twarc) to determine where these accounts are, and how many followers and tweets they have."
   ]
  },
  {
   "cell_type": "code",
   "execution_count": 1,
   "metadata": {},
   "outputs": [],
   "source": [
    "import twarc"
   ]
  },
  {
   "cell_type": "markdown",
   "metadata": {},
   "source": [
    "The text of the tweet that each park had to tweet out looked like this:\n",
    "\n",
    "> Happy New Year! As part of our resolution to streamline communications from Maryland State Parks, we are merging this account with @MDStateParks. Please be sure to follow that account today to keep up-to-date with events and news! This account will be closed on January 31.\n",
    "\n",
    "We can use some of that text to identify the Park accounts:"
   ]
  },
  {
   "cell_type": "code",
   "execution_count": 2,
   "metadata": {},
   "outputs": [],
   "source": [
    "t = twarc.Twarc()\n",
    "tweets = t.search('Happy New Year! As part of our resolution to streamline communications from Maryland State Parks, we are merging this account with @MDStateParks')"
   ]
  },
  {
   "cell_type": "markdown",
   "metadata": {},
   "source": [
    "Now lets go through each one and print out the user account, and the number of tweets and followers they have:"
   ]
  },
  {
   "cell_type": "code",
   "execution_count": 3,
   "metadata": {},
   "outputs": [
    {
     "name": "stdout",
     "output_type": "stream",
     "text": [
      "JanesIslandSP 1285 459\n",
      "DeepCreekLakeSP 2634 591\n",
      "PointLookoutSP 1573 468\n",
      "TuckahoeSP 1639 314\n",
      "SenecaCreekSP 1420 632\n",
      "robinsnewswire 25733 1409165\n",
      "HerringtonMnrSP 1691 543\n",
      "PocomokeRiverSP 1671 911\n",
      "RocksStatePark 1321 179\n",
      "SusquehannaSP 1538 232\n",
      "TubmanSP 1670 2613\n",
      "ReneeHawk1956 882 11759\n",
      "GreenbrierSP 1974 998\n",
      "CunninghamFalls 2027 467\n",
      "NewGermanySP 2747 1736\n",
      "SmallwoodSP 1051 319\n",
      "GunpowderSP 2298 1549\n",
      "FortFrederickSP 1231 665\n",
      "RockyGapSP 2746 3834\n",
      "fairhillsp 984 293\n",
      "PatapscoSP 2953 3095\n",
      "AssateagueSP 4028 1510\n"
     ]
    }
   ],
   "source": [
    "for tweet in tweets:\n",
    "    print(tweet['user']['screen_name'], tweet['user']['followers_count'], tweet['user']['statuses_count'])"
   ]
  },
  {
   "cell_type": "markdown",
   "metadata": {},
   "source": [
    "It looks like some users have retweeted that message, like [@robinnewswire](https://robbinewswire) so let's ignore the retweets."
   ]
  },
  {
   "cell_type": "code",
   "execution_count": 4,
   "metadata": {},
   "outputs": [
    {
     "name": "stdout",
     "output_type": "stream",
     "text": [
      "JanesIslandSP 1285 459\n",
      "DeepCreekLakeSP 2634 591\n",
      "PointLookoutSP 1573 468\n",
      "TuckahoeSP 1639 314\n",
      "SenecaCreekSP 1420 632\n",
      "HerringtonMnrSP 1691 543\n",
      "PocomokeRiverSP 1671 911\n",
      "RocksStatePark 1321 179\n",
      "SusquehannaSP 1538 232\n",
      "TubmanSP 1670 2613\n",
      "GreenbrierSP 1974 998\n",
      "CunninghamFalls 2027 467\n",
      "NewGermanySP 2747 1736\n",
      "SmallwoodSP 1051 319\n",
      "GunpowderSP 2298 1549\n",
      "FortFrederickSP 1231 665\n",
      "RockyGapSP 2746 3834\n",
      "fairhillsp 984 293\n",
      "PatapscoSP 2953 3095\n",
      "AssateagueSP 4028 1510\n"
     ]
    }
   ],
   "source": [
    "for tweet in t.search('Happy New Year! As part of our resolution to streamline communications from Maryland State Parks, we are merging this account with @MDStateParks'):\n",
    "    if 'retweeted_status' in tweet:\n",
    "        continue\n",
    "    print(tweet['user']['screen_name'], tweet['user']['followers_count'], tweet['user']['statuses_count'])"
   ]
  },
  {
   "cell_type": "markdown",
   "metadata": {},
   "source": [
    "Let's do the search again but put them into a list that we can then use without going back to the API."
   ]
  },
  {
   "cell_type": "code",
   "execution_count": 5,
   "metadata": {},
   "outputs": [
    {
     "name": "stdout",
     "output_type": "stream",
     "text": [
      "20\n"
     ]
    }
   ],
   "source": [
    "users = []\n",
    "for tweet in t.search('Happy New Year! As part of our resolution to streamline communications from Maryland State Parks, we are merging this account with @MDStateParks'):\n",
    "    if 'retweeted_status' in tweet:\n",
    "        continue\n",
    "    users.append(tweet['user'])\n",
    "print(len(users))"
   ]
  },
  {
   "cell_type": "markdown",
   "metadata": {},
   "source": [
    "Now we can print out the total number of tweets generated by these accounts:"
   ]
  },
  {
   "cell_type": "code",
   "execution_count": 6,
   "metadata": {},
   "outputs": [
    {
     "name": "stdout",
     "output_type": "stream",
     "text": [
      "21408\n"
     ]
    }
   ],
   "source": [
    "print(sum([u['statuses_count'] for u in users]))"
   ]
  },
  {
   "cell_type": "markdown",
   "metadata": {},
   "source": [
    "Or the total number of users who followed each of the accounts:"
   ]
  },
  {
   "cell_type": "code",
   "execution_count": 7,
   "metadata": {},
   "outputs": [
    {
     "name": "stdout",
     "output_type": "stream",
     "text": [
      "38481\n"
     ]
    }
   ],
   "source": [
    "print(sum([u['followers_count'] for u in users]))"
   ]
  },
  {
   "cell_type": "markdown",
   "metadata": {},
   "source": [
    "The [Twitter API](https://developer.twitter.com/en/docs/tweets/timelines/api-reference/get-statuses-user_timeline.html) will only allow you to get the last 3,200 tweets for a given user. But fortunately none of the park accounts have tweeted more than that. So we can use twarc to fetch all the 21,408 tweets. Let's use [tqdm](https://github.com/tqdm/tqdm) to create a little progress bar since this could take some time because of Twitter's [rate limiting](https://developer.twitter.com/en/docs/basics/rate-limits.html) of their API."
   ]
  },
  {
   "cell_type": "code",
   "execution_count": null,
   "metadata": {},
   "outputs": [
    {
     "name": "stderr",
     "output_type": "stream",
     "text": [
      "\n",
      "\n",
      "  0%|          | 0/38481 [00:00<?, ?it/s]\u001b[A\u001b[AWARNING:root:rate limit exceeded: sleeping 498.0369279384613 secs\n"
     ]
    }
   ],
   "source": [
    "from tqdm import tqdm\n",
    "\n",
    "progress = tqdm(total=38481)\n",
    "\n",
    "tweets = []\n",
    "for user in users:\n",
    "    for tweet in t.timeline(user['screen_name']):\n",
    "        tweets.append(tweet)\n",
    "        progress.update(1)    "
   ]
  },
  {
   "cell_type": "code",
   "execution_count": 17,
   "metadata": {},
   "outputs": [
    {
     "name": "stdout",
     "output_type": "stream",
     "text": [
      "0\n"
     ]
    }
   ],
   "source": [
    "print(len(tweets))"
   ]
  },
  {
   "cell_type": "code",
   "execution_count": null,
   "metadata": {},
   "outputs": [],
   "source": []
  }
 ],
 "metadata": {
  "kernelspec": {
   "display_name": "Python 3",
   "language": "python",
   "name": "python3"
  },
  "language_info": {
   "codemirror_mode": {
    "name": "ipython",
    "version": 3
   },
   "file_extension": ".py",
   "mimetype": "text/x-python",
   "name": "python",
   "nbconvert_exporter": "python",
   "pygments_lexer": "ipython3",
   "version": "3.7.2"
  }
 },
 "nbformat": 4,
 "nbformat_minor": 2
}
