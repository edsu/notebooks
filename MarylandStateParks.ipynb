{
 "cells": [
  {
   "cell_type": "markdown",
   "metadata": {},
   "source": [
    "# Maryland State Parks Twitter Purge\n",
    "\n",
    "According to [this article](https://www.baltimoresun.com/news/maryland/investigations/bs-md-state-park-social-media-accounts-merging-20190109-story.html) in the Baltimore Sun the Maryland Park Service has decided to consolidate all the individual state park social media accounts, including Twitter. This would effectively remove the historical record of feeds that people have followed. Let's use [twarc](https://github.com/docnow/twarc) to determine where these accounts are, and how many followers and tweets they have."
   ]
  },
  {
   "cell_type": "code",
   "execution_count": 1,
   "metadata": {},
   "outputs": [],
   "source": [
    "import twarc"
   ]
  },
  {
   "cell_type": "markdown",
   "metadata": {},
   "source": [
    "The text of the tweet that each park had to tweet out looked like this:\n",
    "\n",
    "> Happy New Year! As part of our resolution to streamline communications from Maryland State Parks, we are merging this account with @MDStateParks. Please be sure to follow that account today to keep up-to-date with events and news! This account will be closed on January 31.\n",
    "\n",
    "We can use some of that text to identify the Park accounts:"
   ]
  },
  {
   "cell_type": "code",
   "execution_count": 2,
   "metadata": {},
   "outputs": [],
   "source": [
    "t = twarc.Twarc()\n",
    "tweets = t.search('Happy New Year! As part of our resolution to streamline communications from Maryland State Parks, we are merging this account with @MDStateParks')"
   ]
  },
  {
   "cell_type": "markdown",
   "metadata": {},
   "source": [
    "Now lets go through each one and print out the user account, and the number of tweets and followers they have:"
   ]
  },
  {
   "cell_type": "code",
   "execution_count": 3,
   "metadata": {},
   "outputs": [
    {
     "name": "stdout",
     "output_type": "stream",
     "text": [
      "JanesIslandSP 1286 459\n",
      "DeepCreekLakeSP 2635 591\n",
      "PointLookoutSP 1573 468\n",
      "TuckahoeSP 1639 314\n",
      "SenecaCreekSP 1421 632\n",
      "robinsnewswire 25742 1409604\n",
      "HerringtonMnrSP 1694 543\n",
      "PocomokeRiverSP 1671 911\n",
      "RocksStatePark 1322 179\n",
      "SusquehannaSP 1540 232\n",
      "TubmanSP 1674 2617\n",
      "ReneeHawk1956 881 11771\n",
      "GreenbrierSP 1974 998\n",
      "CunninghamFalls 2028 467\n",
      "NewGermanySP 2752 1739\n",
      "SmallwoodSP 1051 319\n",
      "GunpowderSP 2298 1549\n",
      "FortFrederickSP 1231 665\n",
      "RockyGapSP 2746 3835\n",
      "fairhillsp 984 293\n",
      "PatapscoSP 2955 3095\n",
      "AssateagueSP 4028 1510\n"
     ]
    }
   ],
   "source": [
    "for tweet in tweets:\n",
    "    print(tweet['user']['screen_name'], tweet['user']['followers_count'], tweet['user']['statuses_count'])"
   ]
  },
  {
   "cell_type": "markdown",
   "metadata": {},
   "source": [
    "It looks like some users have retweeted that message, like [@robinnewswire](https://robbinewswire) so let's ignore the retweets."
   ]
  },
  {
   "cell_type": "code",
   "execution_count": 4,
   "metadata": {},
   "outputs": [
    {
     "name": "stdout",
     "output_type": "stream",
     "text": [
      "JanesIslandSP 1286 459\n",
      "DeepCreekLakeSP 2635 591\n",
      "PointLookoutSP 1573 468\n",
      "TuckahoeSP 1639 314\n",
      "SenecaCreekSP 1421 632\n",
      "HerringtonMnrSP 1694 543\n",
      "PocomokeRiverSP 1671 911\n",
      "RocksStatePark 1322 179\n",
      "SusquehannaSP 1540 232\n",
      "TubmanSP 1674 2617\n",
      "GreenbrierSP 1974 998\n",
      "CunninghamFalls 2028 467\n",
      "NewGermanySP 2752 1739\n",
      "SmallwoodSP 1051 319\n",
      "GunpowderSP 2298 1549\n",
      "FortFrederickSP 1231 665\n",
      "RockyGapSP 2746 3835\n",
      "fairhillsp 984 293\n",
      "PatapscoSP 2955 3095\n",
      "AssateagueSP 4028 1510\n"
     ]
    }
   ],
   "source": [
    "for tweet in t.search('Happy New Year! As part of our resolution to streamline communications from Maryland State Parks, we are merging this account with @MDStateParks'):\n",
    "    if 'retweeted_status' in tweet:\n",
    "        continue\n",
    "    print(tweet['user']['screen_name'], tweet['user']['followers_count'], tweet['user']['statuses_count'])"
   ]
  },
  {
   "cell_type": "markdown",
   "metadata": {},
   "source": [
    "Let's do the search again but put them into a list that we can then use without going back to the API."
   ]
  },
  {
   "cell_type": "code",
   "execution_count": 5,
   "metadata": {},
   "outputs": [
    {
     "name": "stdout",
     "output_type": "stream",
     "text": [
      "['JanesIslandSP',\n",
      " 'DeepCreekLakeSP',\n",
      " 'PointLookoutSP',\n",
      " 'TuckahoeSP',\n",
      " 'SenecaCreekSP',\n",
      " 'HerringtonMnrSP',\n",
      " 'PocomokeRiverSP',\n",
      " 'RocksStatePark',\n",
      " 'SusquehannaSP',\n",
      " 'TubmanSP',\n",
      " 'GreenbrierSP',\n",
      " 'CunninghamFalls',\n",
      " 'NewGermanySP',\n",
      " 'SmallwoodSP',\n",
      " 'GunpowderSP',\n",
      " 'FortFrederickSP',\n",
      " 'RockyGapSP',\n",
      " 'fairhillsp',\n",
      " 'PatapscoSP',\n",
      " 'AssateagueSP']\n"
     ]
    }
   ],
   "source": [
    "users = []\n",
    "for tweet in t.search('Happy New Year! As part of our resolution to streamline communications from Maryland State Parks, we are merging this account with @MDStateParks'):\n",
    "    if 'retweeted_status' in tweet:\n",
    "        continue\n",
    "    users.append(tweet['user'])\n",
    "\n",
    "from pprint import pprint\n",
    "pprint([u['screen_name'] for u in users])"
   ]
  },
  {
   "cell_type": "markdown",
   "metadata": {},
   "source": [
    "Now we can print out the total number of tweets generated by these accounts:"
   ]
  },
  {
   "cell_type": "code",
   "execution_count": 6,
   "metadata": {},
   "outputs": [
    {
     "name": "stdout",
     "output_type": "stream",
     "text": [
      "21416\n"
     ]
    }
   ],
   "source": [
    "print(sum([u['statuses_count'] for u in users]))"
   ]
  },
  {
   "cell_type": "markdown",
   "metadata": {},
   "source": [
    "Or the total number of users who followed each of the accounts:"
   ]
  },
  {
   "cell_type": "code",
   "execution_count": 7,
   "metadata": {},
   "outputs": [
    {
     "name": "stdout",
     "output_type": "stream",
     "text": [
      "38502\n"
     ]
    }
   ],
   "source": [
    "print(sum([u['followers_count'] for u in users]))"
   ]
  },
  {
   "cell_type": "markdown",
   "metadata": {},
   "source": [
    "The [Twitter API](https://developer.twitter.com/en/docs/tweets/timelines/api-reference/get-statuses-user_timeline.html) will only allow you to get the last 3,200 tweets for a given user. Most of the account, except for [@AssateagueSP](https://twitter.com/AssateagueSP), are below this limit.\n",
    "\n",
    "Let's use twarc to get what we can from the Twitter API. We will also use [tqdm](https://github.com/tqdm/tqdm) to create a little progress bar."
   ]
  },
  {
   "cell_type": "code",
   "execution_count": 8,
   "metadata": {},
   "outputs": [
    {
     "name": "stderr",
     "output_type": "stream",
     "text": [
      "JanesIslandSP       : 100%|██████████| 459/459 [00:02<00:00, 206.15tweet/s]\n",
      "DeepCreekLakeSP     : 100%|██████████| 591/591 [00:03<00:00, 196.93tweet/s]\n",
      "PointLookoutSP      : 100%|██████████| 468/468 [00:01<00:00, 238.12tweet/s]\n",
      "TuckahoeSP          : 100%|██████████| 314/314 [00:00<00:00, 384.37tweet/s]\n",
      "SenecaCreekSP       : 100%|█████████▉| 631/632 [00:02<00:00, 295.66tweet/s]\n",
      "HerringtonMnrSP     : 100%|█████████▉| 541/543 [00:01<00:00, 279.15tweet/s]\n",
      "PocomokeRiverSP     : 100%|█████████▉| 910/911 [00:03<00:00, 261.30tweet/s]\n",
      "RocksStatePark      : 100%|██████████| 179/179 [00:00<00:00, 240.69tweet/s]\n",
      "SusquehannaSP       : 100%|██████████| 232/232 [00:00<00:00, 234.49tweet/s]\n",
      "TubmanSP            :  99%|█████████▉| 2600/2617 [00:10<00:00, 239.20tweet/s]\n",
      "GreenbrierSP        : 100%|█████████▉| 997/998 [00:04<00:00, 212.36tweet/s]\n",
      "CunninghamFalls     : 100%|██████████| 467/467 [00:02<00:00, 174.02tweet/s]\n",
      "NewGermanySP        : 100%|██████████| 1739/1739 [00:05<00:00, 308.28tweet/s]\n",
      "SmallwoodSP         : 100%|██████████| 319/319 [00:01<00:00, 183.70tweet/s]\n",
      "GunpowderSP         : 100%|██████████| 1549/1549 [00:09<00:00, 155.64tweet/s]\n",
      "FortFrederickSP     : 100%|██████████| 665/665 [00:02<00:00, 233.49tweet/s]\n",
      "RockyGapSP          :  84%|████████▍ | 3220/3835 [00:12<00:02, 253.17tweet/s]\n",
      "fairhillsp          : 100%|██████████| 293/293 [00:02<00:00, 132.74tweet/s]\n",
      "PatapscoSP          : 100%|█████████▉| 3093/3095 [00:14<00:00, 210.78tweet/s]\n",
      "AssateagueSP        :  99%|█████████▉| 1496/1510 [00:05<00:00, 277.86tweet/s]\n"
     ]
    }
   ],
   "source": [
    "from tqdm import tqdm\n",
    "\n",
    "tweets = []\n",
    "for user in users:\n",
    "    progress = tqdm(\n",
    "        desc='{:20}'.format(user['screen_name']),\n",
    "        total=user['statuses_count'],\n",
    "        unit='tweet'\n",
    "    )\n",
    "    for tweet in t.timeline(screen_name=user['screen_name']):\n",
    "        tweets.append(tweet)\n",
    "        progress.update(1)\n",
    "    progress.close()"
   ]
  },
  {
   "cell_type": "markdown",
   "metadata": {},
   "source": [
    "Notice how some of the progress bars didn't quite complete (e.g. RockyGapSP)? It appears that there is a discrepency between the number of tweets they have sent (as reported by Twitter) and the number of tweets that can be retrieved. Perhaps `statuses_count` includes deleted tweets that are not retrievable from Twitter?\n",
    "\n",
    "At any rate, let's write the tweets we were able to get as CSV using twarc:"
   ]
  },
  {
   "cell_type": "code",
   "execution_count": 9,
   "metadata": {},
   "outputs": [],
   "source": [
    "import csv\n",
    "from twarc.json2csv import get_headings, get_row\n",
    "\n",
    "with open('data/md-state-parks.csv', 'w') as fh:\n",
    "    writer = csv.writer(fh)\n",
    "    writer.writerow(get_headings())\n",
    "    for tweet in tweets:\n",
    "        writer.writerow(get_row(tweet))"
   ]
  }
 ],
 "metadata": {
  "kernelspec": {
   "display_name": "Python 3",
   "language": "python",
   "name": "python3"
  },
  "language_info": {
   "codemirror_mode": {
    "name": "ipython",
    "version": 3
   },
   "file_extension": ".py",
   "mimetype": "text/x-python",
   "name": "python",
   "nbconvert_exporter": "python",
   "pygments_lexer": "ipython3",
   "version": "3.7.0"
  }
 },
 "nbformat": 4,
 "nbformat_minor": 2
}
