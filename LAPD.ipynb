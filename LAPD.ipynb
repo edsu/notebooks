{
 "cells": [
  {
   "cell_type": "markdown",
   "id": "97627d69-b2f0-4ca8-b5ad-995024fd5ec1",
   "metadata": {},
   "source": [
    "# LAPD Online PDFS\n",
    "\n",
    "This notebook provides an example of searching the Internet Archive Wayback machine for archival snapshots of PDFs that are likely to contain policy manuals. It uses the [wayback](https://wayback.readthedocs.io/) Python extension to talk to the Internet Archive's [CDX API](https://archive.org/services/docs/api/wayback-cdx-server.html)."
   ]
  },
  {
   "cell_type": "markdown",
   "id": "ff5072f7-a7f4-42ae-97c6-bec28f4b2b8e",
   "metadata": {},
   "source": [
    "## Setup"
   ]
  },
  {
   "cell_type": "markdown",
   "id": "d2c3c243-c813-4320-af8f-831639f419fa",
   "metadata": {},
   "source": [
    "Until [this bug](https://github.com/edgi-govdata-archiving/wayback/issues/88) is fixed we need to install this version of the wayback library:"
   ]
  },
  {
   "cell_type": "code",
   "execution_count": null,
   "id": "e065caea-17b2-4d85-a7d6-41f02606bf9b",
   "metadata": {
    "tags": []
   },
   "outputs": [],
   "source": [
    "!pip install git+https://github.com/edsu/wayback.git@t88-invalid-month"
   ]
  },
  {
   "cell_type": "markdown",
   "id": "36ab933e-4834-4fbd-b639-a5e0e05c92b2",
   "metadata": {},
   "source": [
    "Now we need a client to talk to the CDX API:"
   ]
  },
  {
   "cell_type": "code",
   "execution_count": 2,
   "id": "9395a500-dda4-4aca-b1a9-7d7cc7fb89f4",
   "metadata": {},
   "outputs": [],
   "source": [
    "from wayback import WaybackClient\n",
    "\n",
    "ia = WaybackClient()"
   ]
  },
  {
   "cell_type": "markdown",
   "id": "845a53f5-3de8-4cdf-9910-5baa2a9985d8",
   "metadata": {},
   "source": [
    "The [pandas](https://pandas.pydata.org/) library is useful for working with the results of the CDX API, since it will turn each result into a row in a DataFrame and make it easy to analyze."
   ]
  },
  {
   "cell_type": "code",
   "execution_count": 3,
   "id": "e381fb10-c04c-46ce-a988-79fdf87367b2",
   "metadata": {},
   "outputs": [],
   "source": [
    "import pandas"
   ]
  },
  {
   "cell_type": "markdown",
   "id": "0dff5883-348f-4508-83af-1bbebe01702e",
   "metadata": {},
   "source": [
    "## Get Snapshots"
   ]
  },
  {
   "cell_type": "markdown",
   "id": "67defab4-bd1a-484e-aa1b-47a258011998",
   "metadata": {},
   "source": [
    "First lets query for all the snapshots from `lapdonline.org` and its subdomains:"
   ]
  },
  {
   "cell_type": "code",
   "execution_count": 4,
   "id": "bc58f44f-8c96-4870-bc6b-804c5b926eb9",
   "metadata": {},
   "outputs": [
    {
     "name": "stderr",
     "output_type": "stream",
     "text": [
      "WARNING:root:found invalid timestamp with day 00: 20000800241731\n",
      "WARNING:root:found invalid timestamp with day 00: 20001000010839\n",
      "WARNING:root:found invalid timestamp with month 00: 20000008241731\n",
      "WARNING:root:found invalid timestamp with month 00: 20000009200401\n",
      "WARNING:root:found invalid timestamp with day 00: 20001000011258\n"
     ]
    },
    {
     "data": {
      "text/html": [
       "<div>\n",
       "<style scoped>\n",
       "    .dataframe tbody tr th:only-of-type {\n",
       "        vertical-align: middle;\n",
       "    }\n",
       "\n",
       "    .dataframe tbody tr th {\n",
       "        vertical-align: top;\n",
       "    }\n",
       "\n",
       "    .dataframe thead th {\n",
       "        text-align: right;\n",
       "    }\n",
       "</style>\n",
       "<table border=\"1\" class=\"dataframe\">\n",
       "  <thead>\n",
       "    <tr style=\"text-align: right;\">\n",
       "      <th></th>\n",
       "      <th>key</th>\n",
       "      <th>timestamp</th>\n",
       "      <th>url</th>\n",
       "      <th>mime_type</th>\n",
       "      <th>status_code</th>\n",
       "      <th>digest</th>\n",
       "      <th>length</th>\n",
       "      <th>raw_url</th>\n",
       "      <th>view_url</th>\n",
       "    </tr>\n",
       "  </thead>\n",
       "  <tbody>\n",
       "    <tr>\n",
       "      <th>0</th>\n",
       "      <td>org,lapdonline)/</td>\n",
       "      <td>1998-12-02 19:06:15+00:00</td>\n",
       "      <td>http://www.lapdonline.org/</td>\n",
       "      <td>text/html</td>\n",
       "      <td>200.0</td>\n",
       "      <td>3IVDSMR5VHCYSTPYC55AK2M66CJ6C4QE</td>\n",
       "      <td>1123.0</td>\n",
       "      <td>http://web.archive.org/web/19981202190615id_/h...</td>\n",
       "      <td>http://web.archive.org/web/19981202190615/http...</td>\n",
       "    </tr>\n",
       "    <tr>\n",
       "      <th>1</th>\n",
       "      <td>org,lapdonline)/</td>\n",
       "      <td>1998-12-12 03:04:51+00:00</td>\n",
       "      <td>http://www.lapdonline.org/</td>\n",
       "      <td>text/html</td>\n",
       "      <td>200.0</td>\n",
       "      <td>2GQOTMASA7PZOKDYSLJVHVRPKIUCZI4I</td>\n",
       "      <td>938.0</td>\n",
       "      <td>http://web.archive.org/web/19981212030451id_/h...</td>\n",
       "      <td>http://web.archive.org/web/19981212030451/http...</td>\n",
       "    </tr>\n",
       "    <tr>\n",
       "      <th>2</th>\n",
       "      <td>org,lapdonline)/</td>\n",
       "      <td>1999-02-04 02:58:59+00:00</td>\n",
       "      <td>http://www.lapdonline.org/</td>\n",
       "      <td>text/html</td>\n",
       "      <td>200.0</td>\n",
       "      <td>2GQOTMASA7PZOKDYSLJVHVRPKIUCZI4I</td>\n",
       "      <td>945.0</td>\n",
       "      <td>http://web.archive.org/web/19990204025859id_/h...</td>\n",
       "      <td>http://web.archive.org/web/19990204025859/http...</td>\n",
       "    </tr>\n",
       "    <tr>\n",
       "      <th>3</th>\n",
       "      <td>org,lapdonline)/</td>\n",
       "      <td>1999-02-08 01:44:15+00:00</td>\n",
       "      <td>http://www.lapdonline.org/</td>\n",
       "      <td>text/html</td>\n",
       "      <td>200.0</td>\n",
       "      <td>2GQOTMASA7PZOKDYSLJVHVRPKIUCZI4I</td>\n",
       "      <td>943.0</td>\n",
       "      <td>http://web.archive.org/web/19990208014415id_/h...</td>\n",
       "      <td>http://web.archive.org/web/19990208014415/http...</td>\n",
       "    </tr>\n",
       "    <tr>\n",
       "      <th>4</th>\n",
       "      <td>org,lapdonline)/</td>\n",
       "      <td>1999-04-22 08:56:47+00:00</td>\n",
       "      <td>http://www.lapdonline.org/</td>\n",
       "      <td>text/html</td>\n",
       "      <td>200.0</td>\n",
       "      <td>2GQOTMASA7PZOKDYSLJVHVRPKIUCZI4I</td>\n",
       "      <td>933.0</td>\n",
       "      <td>http://web.archive.org/web/19990422085647id_/h...</td>\n",
       "      <td>http://web.archive.org/web/19990422085647/http...</td>\n",
       "    </tr>\n",
       "    <tr>\n",
       "      <th>...</th>\n",
       "      <td>...</td>\n",
       "      <td>...</td>\n",
       "      <td>...</td>\n",
       "      <td>...</td>\n",
       "      <td>...</td>\n",
       "      <td>...</td>\n",
       "      <td>...</td>\n",
       "      <td>...</td>\n",
       "      <td>...</td>\n",
       "    </tr>\n",
       "    <tr>\n",
       "      <th>963229</th>\n",
       "      <td>org,lapdonline,ww)/home/news_view/68006</td>\n",
       "      <td>2021-09-17 22:54:11+00:00</td>\n",
       "      <td>http://ww.lapdonline.org/home/news_view/68006</td>\n",
       "      <td>text/html</td>\n",
       "      <td>200.0</td>\n",
       "      <td>YHBBKP3H6ZUI2YRJFTD2BD26DBTSO2QJ</td>\n",
       "      <td>8716.0</td>\n",
       "      <td>http://web.archive.org/web/20210917225411id_/h...</td>\n",
       "      <td>http://web.archive.org/web/20210917225411/http...</td>\n",
       "    </tr>\n",
       "    <tr>\n",
       "      <th>963230</th>\n",
       "      <td>org,lapdonline,ww)/home/news_view/68008</td>\n",
       "      <td>2021-09-17 23:22:53+00:00</td>\n",
       "      <td>http://ww.lapdonline.org/home/news_view/68008</td>\n",
       "      <td>text/html</td>\n",
       "      <td>200.0</td>\n",
       "      <td>EOOJJ4DYEEPGILF2YIYEJ64UM7MZ3IPS</td>\n",
       "      <td>8467.0</td>\n",
       "      <td>http://web.archive.org/web/20210917232253id_/h...</td>\n",
       "      <td>http://web.archive.org/web/20210917232253/http...</td>\n",
       "    </tr>\n",
       "    <tr>\n",
       "      <th>963231</th>\n",
       "      <td>org,lapdonline,ww)/home/news_view/68009</td>\n",
       "      <td>2021-09-17 22:27:56+00:00</td>\n",
       "      <td>http://ww.lapdonline.org/home/news_view/68009</td>\n",
       "      <td>text/html</td>\n",
       "      <td>200.0</td>\n",
       "      <td>APUIN33AVIDOD2CTY7STZN26OX7MQSFH</td>\n",
       "      <td>8164.0</td>\n",
       "      <td>http://web.archive.org/web/20210917222756id_/h...</td>\n",
       "      <td>http://web.archive.org/web/20210917222756/http...</td>\n",
       "    </tr>\n",
       "    <tr>\n",
       "      <th>963232</th>\n",
       "      <td>org,lapdonline,ww)/internal_affairs_group</td>\n",
       "      <td>2021-09-17 23:02:45+00:00</td>\n",
       "      <td>http://ww.lapdonline.org/internal_affairs_group</td>\n",
       "      <td>text/html</td>\n",
       "      <td>200.0</td>\n",
       "      <td>2GBZ4XJFKSZU4YUR2OLAVKHCGVHL2UAH</td>\n",
       "      <td>9882.0</td>\n",
       "      <td>http://web.archive.org/web/20210917230245id_/h...</td>\n",
       "      <td>http://web.archive.org/web/20210917230245/http...</td>\n",
       "    </tr>\n",
       "    <tr>\n",
       "      <th>963233</th>\n",
       "      <td>org,lapdonline,ww)/officers_killed_in_the_line...</td>\n",
       "      <td>2021-09-17 21:45:23+00:00</td>\n",
       "      <td>http://ww.lapdonline.org/officers_killed_in_th...</td>\n",
       "      <td>text/html</td>\n",
       "      <td>200.0</td>\n",
       "      <td>QVXCX6RLLUZ4XQGQFMSRMACW6XQASAOW</td>\n",
       "      <td>7424.0</td>\n",
       "      <td>http://web.archive.org/web/20210917214523id_/h...</td>\n",
       "      <td>http://web.archive.org/web/20210917214523/http...</td>\n",
       "    </tr>\n",
       "  </tbody>\n",
       "</table>\n",
       "<p>963234 rows × 9 columns</p>\n",
       "</div>"
      ],
      "text/plain": [
       "                                                      key  \\\n",
       "0                                        org,lapdonline)/   \n",
       "1                                        org,lapdonline)/   \n",
       "2                                        org,lapdonline)/   \n",
       "3                                        org,lapdonline)/   \n",
       "4                                        org,lapdonline)/   \n",
       "...                                                   ...   \n",
       "963229            org,lapdonline,ww)/home/news_view/68006   \n",
       "963230            org,lapdonline,ww)/home/news_view/68008   \n",
       "963231            org,lapdonline,ww)/home/news_view/68009   \n",
       "963232          org,lapdonline,ww)/internal_affairs_group   \n",
       "963233  org,lapdonline,ww)/officers_killed_in_the_line...   \n",
       "\n",
       "                       timestamp  \\\n",
       "0      1998-12-02 19:06:15+00:00   \n",
       "1      1998-12-12 03:04:51+00:00   \n",
       "2      1999-02-04 02:58:59+00:00   \n",
       "3      1999-02-08 01:44:15+00:00   \n",
       "4      1999-04-22 08:56:47+00:00   \n",
       "...                          ...   \n",
       "963229 2021-09-17 22:54:11+00:00   \n",
       "963230 2021-09-17 23:22:53+00:00   \n",
       "963231 2021-09-17 22:27:56+00:00   \n",
       "963232 2021-09-17 23:02:45+00:00   \n",
       "963233 2021-09-17 21:45:23+00:00   \n",
       "\n",
       "                                                      url  mime_type  \\\n",
       "0                              http://www.lapdonline.org/  text/html   \n",
       "1                              http://www.lapdonline.org/  text/html   \n",
       "2                              http://www.lapdonline.org/  text/html   \n",
       "3                              http://www.lapdonline.org/  text/html   \n",
       "4                              http://www.lapdonline.org/  text/html   \n",
       "...                                                   ...        ...   \n",
       "963229      http://ww.lapdonline.org/home/news_view/68006  text/html   \n",
       "963230      http://ww.lapdonline.org/home/news_view/68008  text/html   \n",
       "963231      http://ww.lapdonline.org/home/news_view/68009  text/html   \n",
       "963232    http://ww.lapdonline.org/internal_affairs_group  text/html   \n",
       "963233  http://ww.lapdonline.org/officers_killed_in_th...  text/html   \n",
       "\n",
       "        status_code                            digest  length  \\\n",
       "0             200.0  3IVDSMR5VHCYSTPYC55AK2M66CJ6C4QE  1123.0   \n",
       "1             200.0  2GQOTMASA7PZOKDYSLJVHVRPKIUCZI4I   938.0   \n",
       "2             200.0  2GQOTMASA7PZOKDYSLJVHVRPKIUCZI4I   945.0   \n",
       "3             200.0  2GQOTMASA7PZOKDYSLJVHVRPKIUCZI4I   943.0   \n",
       "4             200.0  2GQOTMASA7PZOKDYSLJVHVRPKIUCZI4I   933.0   \n",
       "...             ...                               ...     ...   \n",
       "963229        200.0  YHBBKP3H6ZUI2YRJFTD2BD26DBTSO2QJ  8716.0   \n",
       "963230        200.0  EOOJJ4DYEEPGILF2YIYEJ64UM7MZ3IPS  8467.0   \n",
       "963231        200.0  APUIN33AVIDOD2CTY7STZN26OX7MQSFH  8164.0   \n",
       "963232        200.0  2GBZ4XJFKSZU4YUR2OLAVKHCGVHL2UAH  9882.0   \n",
       "963233        200.0  QVXCX6RLLUZ4XQGQFMSRMACW6XQASAOW  7424.0   \n",
       "\n",
       "                                                  raw_url  \\\n",
       "0       http://web.archive.org/web/19981202190615id_/h...   \n",
       "1       http://web.archive.org/web/19981212030451id_/h...   \n",
       "2       http://web.archive.org/web/19990204025859id_/h...   \n",
       "3       http://web.archive.org/web/19990208014415id_/h...   \n",
       "4       http://web.archive.org/web/19990422085647id_/h...   \n",
       "...                                                   ...   \n",
       "963229  http://web.archive.org/web/20210917225411id_/h...   \n",
       "963230  http://web.archive.org/web/20210917232253id_/h...   \n",
       "963231  http://web.archive.org/web/20210917222756id_/h...   \n",
       "963232  http://web.archive.org/web/20210917230245id_/h...   \n",
       "963233  http://web.archive.org/web/20210917214523id_/h...   \n",
       "\n",
       "                                                 view_url  \n",
       "0       http://web.archive.org/web/19981202190615/http...  \n",
       "1       http://web.archive.org/web/19981212030451/http...  \n",
       "2       http://web.archive.org/web/19990204025859/http...  \n",
       "3       http://web.archive.org/web/19990208014415/http...  \n",
       "4       http://web.archive.org/web/19990422085647/http...  \n",
       "...                                                   ...  \n",
       "963229  http://web.archive.org/web/20210917225411/http...  \n",
       "963230  http://web.archive.org/web/20210917232253/http...  \n",
       "963231  http://web.archive.org/web/20210917222756/http...  \n",
       "963232  http://web.archive.org/web/20210917230245/http...  \n",
       "963233  http://web.archive.org/web/20210917214523/http...  \n",
       "\n",
       "[963234 rows x 9 columns]"
      ]
     },
     "execution_count": 4,
     "metadata": {},
     "output_type": "execute_result"
    }
   ],
   "source": [
    "lapdonline_org = pandas.DataFrame(ia.search('lapdonline.org', matchType='domain'))\n",
    "lapdonline_org"
   ]
  },
  {
   "cell_type": "markdown",
   "id": "a5876cf0-a53f-4527-8b4c-e2d6c2f78fe4",
   "metadata": {},
   "source": [
    "What hostnames are present in this data?"
   ]
  },
  {
   "cell_type": "code",
   "execution_count": 16,
   "id": "79df7ac1-e498-47f8-a0c9-251938d3c40b",
   "metadata": {},
   "outputs": [
    {
     "data": {
      "text/plain": [
       "www.lapdonline.org                      745623\n",
       "lapdonline.org                          215617\n",
       "lapd-assets.lapdonline.org                1778\n",
       "lapd.lapdonline.org                         93\n",
       "nkca.ucla.edwww.lapdonline.org              51\n",
       "assets.lapdonline.org                       50\n",
       "lapd-lapd-lapd-assets.lapdonline.org        12\n",
       "ww.lapdonline.org                            9\n",
       "wuv.lapdonline.org                           1\n",
       "Name: url, dtype: int64"
      ]
     },
     "execution_count": 16,
     "metadata": {},
     "output_type": "execute_result"
    }
   ],
   "source": [
    "from urllib.parse import urlparse\n",
    "\n",
    "lapdonline_org.url.apply(lambda s: urlparse(s).netloc).value_counts()"
   ]
  },
  {
   "cell_type": "markdown",
   "id": "a96f246c-8fc2-47c6-9b0b-9d22391f105d",
   "metadata": {},
   "source": [
    "Since the `domain` scopeType has been known not to return all results, lets look for each of these using the `prefix` scopeType."
   ]
  },
  {
   "cell_type": "code",
   "execution_count": 23,
   "id": "adce3f0a-8c0f-47aa-906c-ddd42ca6e203",
   "metadata": {},
   "outputs": [
    {
     "data": {
      "text/plain": [
       "['www.lapdonline.org',\n",
       " 'lapdonline.org',\n",
       " 'assets.lapdonline.org',\n",
       " 'nkca.ucla.edwww.lapdonline.org',\n",
       " 'lapd.lapdonline.org',\n",
       " 'lapd-assets.lapdonline.org',\n",
       " 'lapd-lapd-lapd-assets.lapdonline.org',\n",
       " 'wuv.lapdonline.org',\n",
       " 'ww.lapdonline.org']"
      ]
     },
     "execution_count": 23,
     "metadata": {},
     "output_type": "execute_result"
    }
   ],
   "source": [
    "hostnames = list(lapdonline_org.url.apply(lambda s: urlparse(s).netloc).unique())\n",
    "hostnames"
   ]
  },
  {
   "cell_type": "markdown",
   "id": "e3cf5881-d89f-40ba-b326-8b697ce8c54e",
   "metadata": {},
   "source": [
    "One detail is that the results for `www.lapdonline.org` are the same as for `lapdonline.org`, so we can remove that:"
   ]
  },
  {
   "cell_type": "code",
   "execution_count": 24,
   "id": "5e9f8e5f-3cbe-4359-a861-e8985e91c9ab",
   "metadata": {},
   "outputs": [
    {
     "data": {
      "text/plain": [
       "['lapdonline.org',\n",
       " 'assets.lapdonline.org',\n",
       " 'nkca.ucla.edwww.lapdonline.org',\n",
       " 'lapd.lapdonline.org',\n",
       " 'lapd-assets.lapdonline.org',\n",
       " 'lapd-lapd-lapd-assets.lapdonline.org',\n",
       " 'wuv.lapdonline.org',\n",
       " 'ww.lapdonline.org']"
      ]
     },
     "execution_count": 24,
     "metadata": {},
     "output_type": "execute_result"
    }
   ],
   "source": [
    "hostnames.pop(0)\n",
    "hostnames"
   ]
  },
  {
   "cell_type": "markdown",
   "id": "660ab1b1-024b-426c-965c-aa488fb69e78",
   "metadata": {},
   "source": [
    "I also happened to notice that currently they are linking to PDF files at `lapdonlinestrgeacc.blob.core.usgovcloudapi.net` for example if you look at some of the links on https://www.lapdonline.org/reference-library/ so lets add that since it isn't a subdomain of `lapdonline.org`."
   ]
  },
  {
   "cell_type": "code",
   "execution_count": 63,
   "id": "5754d720-d8af-473a-90df-cc81e229067c",
   "metadata": {},
   "outputs": [
    {
     "data": {
      "text/plain": [
       "['lapdonline.org',\n",
       " 'assets.lapdonline.org',\n",
       " 'nkca.ucla.edwww.lapdonline.org',\n",
       " 'lapd.lapdonline.org',\n",
       " 'lapd-assets.lapdonline.org',\n",
       " 'lapd-lapd-lapd-assets.lapdonline.org',\n",
       " 'wuv.lapdonline.org',\n",
       " 'ww.lapdonline.org',\n",
       " 'lapdonlinestrgeacc.blob.core.usgovcloudapi.net']"
      ]
     },
     "execution_count": 63,
     "metadata": {},
     "output_type": "execute_result"
    }
   ],
   "source": [
    "hostnames.append('lapdonlinestrgeacc.blob.core.usgovcloudapi.net')\n",
    "hostnames"
   ]
  },
  {
   "cell_type": "code",
   "execution_count": 64,
   "id": "e8f2c9c7-512c-4fd4-930e-579a9db2081a",
   "metadata": {},
   "outputs": [
    {
     "name": "stderr",
     "output_type": "stream",
     "text": [
      "WARNING:root:found invalid timestamp with day 00: 20000800241731\n",
      "WARNING:root:found invalid timestamp with day 00: 20001000010839\n",
      "WARNING:root:found invalid timestamp with month 00: 20000008241731\n",
      "WARNING:root:found invalid timestamp with month 00: 20000009200401\n",
      "WARNING:root:found invalid timestamp with day 00: 20001000011258\n"
     ]
    },
    {
     "data": {
      "text/html": [
       "<div>\n",
       "<style scoped>\n",
       "    .dataframe tbody tr th:only-of-type {\n",
       "        vertical-align: middle;\n",
       "    }\n",
       "\n",
       "    .dataframe tbody tr th {\n",
       "        vertical-align: top;\n",
       "    }\n",
       "\n",
       "    .dataframe thead th {\n",
       "        text-align: right;\n",
       "    }\n",
       "</style>\n",
       "<table border=\"1\" class=\"dataframe\">\n",
       "  <thead>\n",
       "    <tr style=\"text-align: right;\">\n",
       "      <th></th>\n",
       "      <th>key</th>\n",
       "      <th>timestamp</th>\n",
       "      <th>url</th>\n",
       "      <th>mime_type</th>\n",
       "      <th>status_code</th>\n",
       "      <th>digest</th>\n",
       "      <th>length</th>\n",
       "      <th>raw_url</th>\n",
       "      <th>view_url</th>\n",
       "    </tr>\n",
       "  </thead>\n",
       "  <tbody>\n",
       "    <tr>\n",
       "      <th>0</th>\n",
       "      <td>org,lapdonline)/</td>\n",
       "      <td>1998-12-02 19:06:15+00:00</td>\n",
       "      <td>http://www.lapdonline.org/</td>\n",
       "      <td>text/html</td>\n",
       "      <td>200.0</td>\n",
       "      <td>3IVDSMR5VHCYSTPYC55AK2M66CJ6C4QE</td>\n",
       "      <td>1123.0</td>\n",
       "      <td>http://web.archive.org/web/19981202190615id_/h...</td>\n",
       "      <td>http://web.archive.org/web/19981202190615/http...</td>\n",
       "    </tr>\n",
       "    <tr>\n",
       "      <th>1</th>\n",
       "      <td>org,lapdonline)/</td>\n",
       "      <td>1998-12-12 03:04:51+00:00</td>\n",
       "      <td>http://www.lapdonline.org/</td>\n",
       "      <td>text/html</td>\n",
       "      <td>200.0</td>\n",
       "      <td>2GQOTMASA7PZOKDYSLJVHVRPKIUCZI4I</td>\n",
       "      <td>938.0</td>\n",
       "      <td>http://web.archive.org/web/19981212030451id_/h...</td>\n",
       "      <td>http://web.archive.org/web/19981212030451/http...</td>\n",
       "    </tr>\n",
       "    <tr>\n",
       "      <th>2</th>\n",
       "      <td>org,lapdonline)/</td>\n",
       "      <td>1999-02-04 02:58:59+00:00</td>\n",
       "      <td>http://www.lapdonline.org/</td>\n",
       "      <td>text/html</td>\n",
       "      <td>200.0</td>\n",
       "      <td>2GQOTMASA7PZOKDYSLJVHVRPKIUCZI4I</td>\n",
       "      <td>945.0</td>\n",
       "      <td>http://web.archive.org/web/19990204025859id_/h...</td>\n",
       "      <td>http://web.archive.org/web/19990204025859/http...</td>\n",
       "    </tr>\n",
       "    <tr>\n",
       "      <th>3</th>\n",
       "      <td>org,lapdonline)/</td>\n",
       "      <td>1999-02-08 01:44:15+00:00</td>\n",
       "      <td>http://www.lapdonline.org/</td>\n",
       "      <td>text/html</td>\n",
       "      <td>200.0</td>\n",
       "      <td>2GQOTMASA7PZOKDYSLJVHVRPKIUCZI4I</td>\n",
       "      <td>943.0</td>\n",
       "      <td>http://web.archive.org/web/19990208014415id_/h...</td>\n",
       "      <td>http://web.archive.org/web/19990208014415/http...</td>\n",
       "    </tr>\n",
       "    <tr>\n",
       "      <th>4</th>\n",
       "      <td>org,lapdonline)/</td>\n",
       "      <td>1999-04-22 08:56:47+00:00</td>\n",
       "      <td>http://www.lapdonline.org/</td>\n",
       "      <td>text/html</td>\n",
       "      <td>200.0</td>\n",
       "      <td>2GQOTMASA7PZOKDYSLJVHVRPKIUCZI4I</td>\n",
       "      <td>933.0</td>\n",
       "      <td>http://web.archive.org/web/19990422085647id_/h...</td>\n",
       "      <td>http://web.archive.org/web/19990422085647/http...</td>\n",
       "    </tr>\n",
       "    <tr>\n",
       "      <th>...</th>\n",
       "      <td>...</td>\n",
       "      <td>...</td>\n",
       "      <td>...</td>\n",
       "      <td>...</td>\n",
       "      <td>...</td>\n",
       "      <td>...</td>\n",
       "      <td>...</td>\n",
       "      <td>...</td>\n",
       "      <td>...</td>\n",
       "    </tr>\n",
       "    <tr>\n",
       "      <th>20535</th>\n",
       "      <td>net,usgovcloudapi,core,blob,lapdonlinestrgeacc...</td>\n",
       "      <td>2022-09-18 08:31:14+00:00</td>\n",
       "      <td>https://lapdonlinestrgeacc.blob.core.usgovclou...</td>\n",
       "      <td>application/xml</td>\n",
       "      <td>505.0</td>\n",
       "      <td>ZWPSDUWQQO6G4RJ46OSOSYX7GYHKVQZB</td>\n",
       "      <td>660.0</td>\n",
       "      <td>http://web.archive.org/web/20220918083114id_/h...</td>\n",
       "      <td>http://web.archive.org/web/20220918083114/http...</td>\n",
       "    </tr>\n",
       "    <tr>\n",
       "      <th>20536</th>\n",
       "      <td>net,usgovcloudapi,core,blob,lapdonlinestrgeacc...</td>\n",
       "      <td>2022-09-18 23:57:09+00:00</td>\n",
       "      <td>https://lapdonlinestrgeacc.blob.core.usgovclou...</td>\n",
       "      <td>application/xml</td>\n",
       "      <td>505.0</td>\n",
       "      <td>TFCK2V2CVXQS57GOJMFM2254X3J72ZGW</td>\n",
       "      <td>660.0</td>\n",
       "      <td>http://web.archive.org/web/20220918235709id_/h...</td>\n",
       "      <td>http://web.archive.org/web/20220918235709/http...</td>\n",
       "    </tr>\n",
       "    <tr>\n",
       "      <th>20537</th>\n",
       "      <td>net,usgovcloudapi,core,blob,lapdonlinestrgeacc...</td>\n",
       "      <td>2022-09-19 09:33:08+00:00</td>\n",
       "      <td>https://lapdonlinestrgeacc.blob.core.usgovclou...</td>\n",
       "      <td>application/xml</td>\n",
       "      <td>505.0</td>\n",
       "      <td>EO7QKMER5N4RXSITW34OXRXIM2Y52YKE</td>\n",
       "      <td>656.0</td>\n",
       "      <td>http://web.archive.org/web/20220919093308id_/h...</td>\n",
       "      <td>http://web.archive.org/web/20220919093308/http...</td>\n",
       "    </tr>\n",
       "    <tr>\n",
       "      <th>20538</th>\n",
       "      <td>net,usgovcloudapi,core,blob,lapdonlinestrgeacc...</td>\n",
       "      <td>2022-09-20 02:30:06+00:00</td>\n",
       "      <td>https://lapdonlinestrgeacc.blob.core.usgovclou...</td>\n",
       "      <td>application/xml</td>\n",
       "      <td>505.0</td>\n",
       "      <td>RNO46W7NVTPUIWJPAN7AT4TFNCTANVYQ</td>\n",
       "      <td>656.0</td>\n",
       "      <td>http://web.archive.org/web/20220920023006id_/h...</td>\n",
       "      <td>http://web.archive.org/web/20220920023006/http...</td>\n",
       "    </tr>\n",
       "    <tr>\n",
       "      <th>20539</th>\n",
       "      <td>net,usgovcloudapi,core,blob,lapdonlinestrgeacc...</td>\n",
       "      <td>2022-09-20 10:39:20+00:00</td>\n",
       "      <td>https://lapdonlinestrgeacc.blob.core.usgovclou...</td>\n",
       "      <td>application/xml</td>\n",
       "      <td>505.0</td>\n",
       "      <td>7XMNTT4QJSUKJKW74JLY6DA4W22I4QC5</td>\n",
       "      <td>657.0</td>\n",
       "      <td>http://web.archive.org/web/20220920103920id_/h...</td>\n",
       "      <td>http://web.archive.org/web/20220920103920/http...</td>\n",
       "    </tr>\n",
       "  </tbody>\n",
       "</table>\n",
       "<p>1120030 rows × 9 columns</p>\n",
       "</div>"
      ],
      "text/plain": [
       "                                                     key  \\\n",
       "0                                       org,lapdonline)/   \n",
       "1                                       org,lapdonline)/   \n",
       "2                                       org,lapdonline)/   \n",
       "3                                       org,lapdonline)/   \n",
       "4                                       org,lapdonline)/   \n",
       "...                                                  ...   \n",
       "20535  net,usgovcloudapi,core,blob,lapdonlinestrgeacc...   \n",
       "20536  net,usgovcloudapi,core,blob,lapdonlinestrgeacc...   \n",
       "20537  net,usgovcloudapi,core,blob,lapdonlinestrgeacc...   \n",
       "20538  net,usgovcloudapi,core,blob,lapdonlinestrgeacc...   \n",
       "20539  net,usgovcloudapi,core,blob,lapdonlinestrgeacc...   \n",
       "\n",
       "                      timestamp  \\\n",
       "0     1998-12-02 19:06:15+00:00   \n",
       "1     1998-12-12 03:04:51+00:00   \n",
       "2     1999-02-04 02:58:59+00:00   \n",
       "3     1999-02-08 01:44:15+00:00   \n",
       "4     1999-04-22 08:56:47+00:00   \n",
       "...                         ...   \n",
       "20535 2022-09-18 08:31:14+00:00   \n",
       "20536 2022-09-18 23:57:09+00:00   \n",
       "20537 2022-09-19 09:33:08+00:00   \n",
       "20538 2022-09-20 02:30:06+00:00   \n",
       "20539 2022-09-20 10:39:20+00:00   \n",
       "\n",
       "                                                     url        mime_type  \\\n",
       "0                             http://www.lapdonline.org/        text/html   \n",
       "1                             http://www.lapdonline.org/        text/html   \n",
       "2                             http://www.lapdonline.org/        text/html   \n",
       "3                             http://www.lapdonline.org/        text/html   \n",
       "4                             http://www.lapdonline.org/        text/html   \n",
       "...                                                  ...              ...   \n",
       "20535  https://lapdonlinestrgeacc.blob.core.usgovclou...  application/xml   \n",
       "20536  https://lapdonlinestrgeacc.blob.core.usgovclou...  application/xml   \n",
       "20537  https://lapdonlinestrgeacc.blob.core.usgovclou...  application/xml   \n",
       "20538  https://lapdonlinestrgeacc.blob.core.usgovclou...  application/xml   \n",
       "20539  https://lapdonlinestrgeacc.blob.core.usgovclou...  application/xml   \n",
       "\n",
       "       status_code                            digest  length  \\\n",
       "0            200.0  3IVDSMR5VHCYSTPYC55AK2M66CJ6C4QE  1123.0   \n",
       "1            200.0  2GQOTMASA7PZOKDYSLJVHVRPKIUCZI4I   938.0   \n",
       "2            200.0  2GQOTMASA7PZOKDYSLJVHVRPKIUCZI4I   945.0   \n",
       "3            200.0  2GQOTMASA7PZOKDYSLJVHVRPKIUCZI4I   943.0   \n",
       "4            200.0  2GQOTMASA7PZOKDYSLJVHVRPKIUCZI4I   933.0   \n",
       "...            ...                               ...     ...   \n",
       "20535        505.0  ZWPSDUWQQO6G4RJ46OSOSYX7GYHKVQZB   660.0   \n",
       "20536        505.0  TFCK2V2CVXQS57GOJMFM2254X3J72ZGW   660.0   \n",
       "20537        505.0  EO7QKMER5N4RXSITW34OXRXIM2Y52YKE   656.0   \n",
       "20538        505.0  RNO46W7NVTPUIWJPAN7AT4TFNCTANVYQ   656.0   \n",
       "20539        505.0  7XMNTT4QJSUKJKW74JLY6DA4W22I4QC5   657.0   \n",
       "\n",
       "                                                 raw_url  \\\n",
       "0      http://web.archive.org/web/19981202190615id_/h...   \n",
       "1      http://web.archive.org/web/19981212030451id_/h...   \n",
       "2      http://web.archive.org/web/19990204025859id_/h...   \n",
       "3      http://web.archive.org/web/19990208014415id_/h...   \n",
       "4      http://web.archive.org/web/19990422085647id_/h...   \n",
       "...                                                  ...   \n",
       "20535  http://web.archive.org/web/20220918083114id_/h...   \n",
       "20536  http://web.archive.org/web/20220918235709id_/h...   \n",
       "20537  http://web.archive.org/web/20220919093308id_/h...   \n",
       "20538  http://web.archive.org/web/20220920023006id_/h...   \n",
       "20539  http://web.archive.org/web/20220920103920id_/h...   \n",
       "\n",
       "                                                view_url  \n",
       "0      http://web.archive.org/web/19981202190615/http...  \n",
       "1      http://web.archive.org/web/19981212030451/http...  \n",
       "2      http://web.archive.org/web/19990204025859/http...  \n",
       "3      http://web.archive.org/web/19990208014415/http...  \n",
       "4      http://web.archive.org/web/19990422085647/http...  \n",
       "...                                                  ...  \n",
       "20535  http://web.archive.org/web/20220918083114/http...  \n",
       "20536  http://web.archive.org/web/20220918235709/http...  \n",
       "20537  http://web.archive.org/web/20220919093308/http...  \n",
       "20538  http://web.archive.org/web/20220920023006/http...  \n",
       "20539  http://web.archive.org/web/20220920103920/http...  \n",
       "\n",
       "[1120030 rows x 9 columns]"
      ]
     },
     "execution_count": 64,
     "metadata": {},
     "output_type": "execute_result"
    }
   ],
   "source": [
    "def get_df(hostname):\n",
    "    return pandas.DataFrame(ia.search(hostname, matchType='prefix'))\n",
    "\n",
    "df = pandas.concat([get_df(host) for host in hostnames])\n",
    "df"
   ]
  },
  {
   "cell_type": "markdown",
   "id": "5407528d-ece9-400b-aec8-49de4d857e85",
   "metadata": {},
   "source": [
    "## PDFs\n",
    "\n",
    "How many of the 1,120,030 snapshots have a `pdf` mime_type?"
   ]
  },
  {
   "cell_type": "code",
   "execution_count": 65,
   "id": "4f7b7c4a-b684-44ea-9594-af83026ea741",
   "metadata": {},
   "outputs": [
    {
     "data": {
      "text/html": [
       "<div>\n",
       "<style scoped>\n",
       "    .dataframe tbody tr th:only-of-type {\n",
       "        vertical-align: middle;\n",
       "    }\n",
       "\n",
       "    .dataframe tbody tr th {\n",
       "        vertical-align: top;\n",
       "    }\n",
       "\n",
       "    .dataframe thead th {\n",
       "        text-align: right;\n",
       "    }\n",
       "</style>\n",
       "<table border=\"1\" class=\"dataframe\">\n",
       "  <thead>\n",
       "    <tr style=\"text-align: right;\">\n",
       "      <th></th>\n",
       "      <th>key</th>\n",
       "      <th>timestamp</th>\n",
       "      <th>url</th>\n",
       "      <th>mime_type</th>\n",
       "      <th>status_code</th>\n",
       "      <th>digest</th>\n",
       "      <th>length</th>\n",
       "      <th>raw_url</th>\n",
       "      <th>view_url</th>\n",
       "    </tr>\n",
       "  </thead>\n",
       "  <tbody>\n",
       "    <tr>\n",
       "      <th>6111</th>\n",
       "      <td>org,lapdonline)/2010_archives/pdf_view/45725</td>\n",
       "      <td>2011-12-21 05:42:52+00:00</td>\n",
       "      <td>http://lapdonline.org/2010_archives/pdf_view/4...</td>\n",
       "      <td>application/pdf</td>\n",
       "      <td>200.0</td>\n",
       "      <td>J4N2H7ESDITXCRJXENEUTMBAZTFKC3PJ</td>\n",
       "      <td>449776.0</td>\n",
       "      <td>http://web.archive.org/web/20111221054252id_/h...</td>\n",
       "      <td>http://web.archive.org/web/20111221054252/http...</td>\n",
       "    </tr>\n",
       "    <tr>\n",
       "      <th>6112</th>\n",
       "      <td>org,lapdonline)/2010_archives/pdf_view/45725</td>\n",
       "      <td>2012-05-23 00:14:43+00:00</td>\n",
       "      <td>http://lapdonline.org/2010_archives/pdf_view/4...</td>\n",
       "      <td>application/pdf</td>\n",
       "      <td>200.0</td>\n",
       "      <td>J4N2H7ESDITXCRJXENEUTMBAZTFKC3PJ</td>\n",
       "      <td>449777.0</td>\n",
       "      <td>http://web.archive.org/web/20120523001443id_/h...</td>\n",
       "      <td>http://web.archive.org/web/20120523001443/http...</td>\n",
       "    </tr>\n",
       "    <tr>\n",
       "      <th>6113</th>\n",
       "      <td>org,lapdonline)/2010_archives/pdf_view/45725</td>\n",
       "      <td>2012-05-25 10:14:07+00:00</td>\n",
       "      <td>http://lapdonline.org/2010_archives/pdf_view/4...</td>\n",
       "      <td>application/pdf</td>\n",
       "      <td>200.0</td>\n",
       "      <td>J4N2H7ESDITXCRJXENEUTMBAZTFKC3PJ</td>\n",
       "      <td>449776.0</td>\n",
       "      <td>http://web.archive.org/web/20120525101407id_/h...</td>\n",
       "      <td>http://web.archive.org/web/20120525101407/http...</td>\n",
       "    </tr>\n",
       "    <tr>\n",
       "      <th>6114</th>\n",
       "      <td>org,lapdonline)/2010_archives/pdf_view/45725</td>\n",
       "      <td>2012-05-28 15:26:33+00:00</td>\n",
       "      <td>http://lapdonline.org/2010_archives/pdf_view/4...</td>\n",
       "      <td>application/pdf</td>\n",
       "      <td>200.0</td>\n",
       "      <td>J4N2H7ESDITXCRJXENEUTMBAZTFKC3PJ</td>\n",
       "      <td>449777.0</td>\n",
       "      <td>http://web.archive.org/web/20120528152633id_/h...</td>\n",
       "      <td>http://web.archive.org/web/20120528152633/http...</td>\n",
       "    </tr>\n",
       "    <tr>\n",
       "      <th>6115</th>\n",
       "      <td>org,lapdonline)/2010_archives/pdf_view/45725</td>\n",
       "      <td>2012-06-04 11:02:27+00:00</td>\n",
       "      <td>http://lapdonline.org/2010_archives/pdf_view/4...</td>\n",
       "      <td>application/pdf</td>\n",
       "      <td>200.0</td>\n",
       "      <td>J4N2H7ESDITXCRJXENEUTMBAZTFKC3PJ</td>\n",
       "      <td>449778.0</td>\n",
       "      <td>http://web.archive.org/web/20120604110227id_/h...</td>\n",
       "      <td>http://web.archive.org/web/20120604110227/http...</td>\n",
       "    </tr>\n",
       "    <tr>\n",
       "      <th>...</th>\n",
       "      <td>...</td>\n",
       "      <td>...</td>\n",
       "      <td>...</td>\n",
       "      <td>...</td>\n",
       "      <td>...</td>\n",
       "      <td>...</td>\n",
       "      <td>...</td>\n",
       "      <td>...</td>\n",
       "      <td>...</td>\n",
       "    </tr>\n",
       "    <tr>\n",
       "      <th>19750</th>\n",
       "      <td>net,usgovcloudapi,core,blob,lapdonlinestrgeacc...</td>\n",
       "      <td>2022-08-26 21:32:26+00:00</td>\n",
       "      <td>https://lapdonlinestrgeacc.blob.core.usgovclou...</td>\n",
       "      <td>application/pdf</td>\n",
       "      <td>200.0</td>\n",
       "      <td>W4TF5VPZPJO4QBZMS6D5CGR2VIQDHHEF</td>\n",
       "      <td>452241.0</td>\n",
       "      <td>http://web.archive.org/web/20220826213226id_/h...</td>\n",
       "      <td>http://web.archive.org/web/20220826213226/http...</td>\n",
       "    </tr>\n",
       "    <tr>\n",
       "      <th>19816</th>\n",
       "      <td>net,usgovcloudapi,core,blob,lapdonlinestrgeacc...</td>\n",
       "      <td>2022-08-24 17:25:32+00:00</td>\n",
       "      <td>https://lapdonlinestrgeacc.blob.core.usgovclou...</td>\n",
       "      <td>application/pdf</td>\n",
       "      <td>200.0</td>\n",
       "      <td>NAM3JWW2D2EBN5PHOBKWKDDVTVBUPCEQ</td>\n",
       "      <td>107106.0</td>\n",
       "      <td>http://web.archive.org/web/20220824172532id_/h...</td>\n",
       "      <td>http://web.archive.org/web/20220824172532/http...</td>\n",
       "    </tr>\n",
       "    <tr>\n",
       "      <th>19822</th>\n",
       "      <td>net,usgovcloudapi,core,blob,lapdonlinestrgeacc...</td>\n",
       "      <td>2022-09-13 00:37:02+00:00</td>\n",
       "      <td>https://lapdonlinestrgeacc.blob.core.usgovclou...</td>\n",
       "      <td>application/pdf</td>\n",
       "      <td>200.0</td>\n",
       "      <td>GQ5SIGZFKDJU7ZASIJEDVZ3ASMUZKWL4</td>\n",
       "      <td>106884.0</td>\n",
       "      <td>http://web.archive.org/web/20220913003702id_/h...</td>\n",
       "      <td>http://web.archive.org/web/20220913003702/http...</td>\n",
       "    </tr>\n",
       "    <tr>\n",
       "      <th>19823</th>\n",
       "      <td>net,usgovcloudapi,core,blob,lapdonlinestrgeacc...</td>\n",
       "      <td>2022-09-14 22:31:23+00:00</td>\n",
       "      <td>https://lapdonlinestrgeacc.blob.core.usgovclou...</td>\n",
       "      <td>application/pdf</td>\n",
       "      <td>200.0</td>\n",
       "      <td>DG6RACZQ34GMJ3DEIYUKWTXABGN2E6WF</td>\n",
       "      <td>105884.0</td>\n",
       "      <td>http://web.archive.org/web/20220914223123id_/h...</td>\n",
       "      <td>http://web.archive.org/web/20220914223123/http...</td>\n",
       "    </tr>\n",
       "    <tr>\n",
       "      <th>19824</th>\n",
       "      <td>net,usgovcloudapi,core,blob,lapdonlinestrgeacc...</td>\n",
       "      <td>2022-09-16 03:25:13+00:00</td>\n",
       "      <td>https://lapdonlinestrgeacc.blob.core.usgovclou...</td>\n",
       "      <td>application/pdf</td>\n",
       "      <td>200.0</td>\n",
       "      <td>DG6RACZQ34GMJ3DEIYUKWTXABGN2E6WF</td>\n",
       "      <td>728.0</td>\n",
       "      <td>http://web.archive.org/web/20220916032513id_/h...</td>\n",
       "      <td>http://web.archive.org/web/20220916032513/http...</td>\n",
       "    </tr>\n",
       "  </tbody>\n",
       "</table>\n",
       "<p>72199 rows × 9 columns</p>\n",
       "</div>"
      ],
      "text/plain": [
       "                                                     key  \\\n",
       "6111        org,lapdonline)/2010_archives/pdf_view/45725   \n",
       "6112        org,lapdonline)/2010_archives/pdf_view/45725   \n",
       "6113        org,lapdonline)/2010_archives/pdf_view/45725   \n",
       "6114        org,lapdonline)/2010_archives/pdf_view/45725   \n",
       "6115        org,lapdonline)/2010_archives/pdf_view/45725   \n",
       "...                                                  ...   \n",
       "19750  net,usgovcloudapi,core,blob,lapdonlinestrgeacc...   \n",
       "19816  net,usgovcloudapi,core,blob,lapdonlinestrgeacc...   \n",
       "19822  net,usgovcloudapi,core,blob,lapdonlinestrgeacc...   \n",
       "19823  net,usgovcloudapi,core,blob,lapdonlinestrgeacc...   \n",
       "19824  net,usgovcloudapi,core,blob,lapdonlinestrgeacc...   \n",
       "\n",
       "                      timestamp  \\\n",
       "6111  2011-12-21 05:42:52+00:00   \n",
       "6112  2012-05-23 00:14:43+00:00   \n",
       "6113  2012-05-25 10:14:07+00:00   \n",
       "6114  2012-05-28 15:26:33+00:00   \n",
       "6115  2012-06-04 11:02:27+00:00   \n",
       "...                         ...   \n",
       "19750 2022-08-26 21:32:26+00:00   \n",
       "19816 2022-08-24 17:25:32+00:00   \n",
       "19822 2022-09-13 00:37:02+00:00   \n",
       "19823 2022-09-14 22:31:23+00:00   \n",
       "19824 2022-09-16 03:25:13+00:00   \n",
       "\n",
       "                                                     url        mime_type  \\\n",
       "6111   http://lapdonline.org/2010_archives/pdf_view/4...  application/pdf   \n",
       "6112   http://lapdonline.org/2010_archives/pdf_view/4...  application/pdf   \n",
       "6113   http://lapdonline.org/2010_archives/pdf_view/4...  application/pdf   \n",
       "6114   http://lapdonline.org/2010_archives/pdf_view/4...  application/pdf   \n",
       "6115   http://lapdonline.org/2010_archives/pdf_view/4...  application/pdf   \n",
       "...                                                  ...              ...   \n",
       "19750  https://lapdonlinestrgeacc.blob.core.usgovclou...  application/pdf   \n",
       "19816  https://lapdonlinestrgeacc.blob.core.usgovclou...  application/pdf   \n",
       "19822  https://lapdonlinestrgeacc.blob.core.usgovclou...  application/pdf   \n",
       "19823  https://lapdonlinestrgeacc.blob.core.usgovclou...  application/pdf   \n",
       "19824  https://lapdonlinestrgeacc.blob.core.usgovclou...  application/pdf   \n",
       "\n",
       "       status_code                            digest    length  \\\n",
       "6111         200.0  J4N2H7ESDITXCRJXENEUTMBAZTFKC3PJ  449776.0   \n",
       "6112         200.0  J4N2H7ESDITXCRJXENEUTMBAZTFKC3PJ  449777.0   \n",
       "6113         200.0  J4N2H7ESDITXCRJXENEUTMBAZTFKC3PJ  449776.0   \n",
       "6114         200.0  J4N2H7ESDITXCRJXENEUTMBAZTFKC3PJ  449777.0   \n",
       "6115         200.0  J4N2H7ESDITXCRJXENEUTMBAZTFKC3PJ  449778.0   \n",
       "...            ...                               ...       ...   \n",
       "19750        200.0  W4TF5VPZPJO4QBZMS6D5CGR2VIQDHHEF  452241.0   \n",
       "19816        200.0  NAM3JWW2D2EBN5PHOBKWKDDVTVBUPCEQ  107106.0   \n",
       "19822        200.0  GQ5SIGZFKDJU7ZASIJEDVZ3ASMUZKWL4  106884.0   \n",
       "19823        200.0  DG6RACZQ34GMJ3DEIYUKWTXABGN2E6WF  105884.0   \n",
       "19824        200.0  DG6RACZQ34GMJ3DEIYUKWTXABGN2E6WF     728.0   \n",
       "\n",
       "                                                 raw_url  \\\n",
       "6111   http://web.archive.org/web/20111221054252id_/h...   \n",
       "6112   http://web.archive.org/web/20120523001443id_/h...   \n",
       "6113   http://web.archive.org/web/20120525101407id_/h...   \n",
       "6114   http://web.archive.org/web/20120528152633id_/h...   \n",
       "6115   http://web.archive.org/web/20120604110227id_/h...   \n",
       "...                                                  ...   \n",
       "19750  http://web.archive.org/web/20220826213226id_/h...   \n",
       "19816  http://web.archive.org/web/20220824172532id_/h...   \n",
       "19822  http://web.archive.org/web/20220913003702id_/h...   \n",
       "19823  http://web.archive.org/web/20220914223123id_/h...   \n",
       "19824  http://web.archive.org/web/20220916032513id_/h...   \n",
       "\n",
       "                                                view_url  \n",
       "6111   http://web.archive.org/web/20111221054252/http...  \n",
       "6112   http://web.archive.org/web/20120523001443/http...  \n",
       "6113   http://web.archive.org/web/20120525101407/http...  \n",
       "6114   http://web.archive.org/web/20120528152633/http...  \n",
       "6115   http://web.archive.org/web/20120604110227/http...  \n",
       "...                                                  ...  \n",
       "19750  http://web.archive.org/web/20220826213226/http...  \n",
       "19816  http://web.archive.org/web/20220824172532/http...  \n",
       "19822  http://web.archive.org/web/20220913003702/http...  \n",
       "19823  http://web.archive.org/web/20220914223123/http...  \n",
       "19824  http://web.archive.org/web/20220916032513/http...  \n",
       "\n",
       "[72199 rows x 9 columns]"
      ]
     },
     "execution_count": 65,
     "metadata": {},
     "output_type": "execute_result"
    }
   ],
   "source": [
    "pdfs = df[df.mime_type.str.match('.*pdf')]\n",
    "pdfs"
   ]
  },
  {
   "cell_type": "markdown",
   "id": "e9845ff5-a3f3-4881-8c28-252a093445b1",
   "metadata": {},
   "source": [
    "## URLs"
   ]
  },
  {
   "cell_type": "markdown",
   "id": "89593bed-7cbf-4fc5-a7fd-1715dc8e5a5b",
   "metadata": {},
   "source": [
    "How many distinct URLs are there in these 72,199 snapshots?"
   ]
  },
  {
   "cell_type": "code",
   "execution_count": 66,
   "id": "7342dfed-c859-433f-8875-41bf967a17cf",
   "metadata": {},
   "outputs": [
    {
     "data": {
      "text/plain": [
       "16541"
      ]
     },
     "execution_count": 66,
     "metadata": {},
     "output_type": "execute_result"
    }
   ],
   "source": [
    "urls = pdfs.url.unique()\n",
    "len(urls)"
   ]
  },
  {
   "cell_type": "markdown",
   "id": "21c77cba-41bd-477c-bb29-68d857f5b683",
   "metadata": {},
   "source": [
    "What are the top 25 URLs have been collected the most?"
   ]
  },
  {
   "cell_type": "code",
   "execution_count": 67,
   "id": "15d574d4-ce34-40db-905e-a67c778d7a18",
   "metadata": {},
   "outputs": [
    {
     "data": {
      "text/plain": [
       "http://assets.lapdonline.org/assets/pdf/Harvard-LAPD%20Study.pdf                         223\n",
       "http://assets.lapdonline.org/assets/pdf/final_consent_decree.pdf                         185\n",
       "http://lapd-assets.lapdonline.org/assets/pdf/cityprof.pdf                                156\n",
       "http://assets.lapdonline.org/assets/pdf/cityprof.pdf                                     114\n",
       "http://assets.lapdonline.org/assets/pdf/Biased%20Policing%20Rpt%20and%20Tables_Q3.pdf    111\n",
       "http://assets.lapdonline.org/assets/pdf/Form%20802%20rev-February%2011.pdf                82\n",
       "http://assets.lapdonline.org/assets/pdf/SO_40.pdf                                         79\n",
       "http://www.lapdonline.org/assets/pdf/cityprof.pdf                                         76\n",
       "http://www.lapdonline.org/assets/pdf/soeprof.pdf                                          67\n",
       "http://www.lapdonline.org/assets/pdf/hwdprof.pdf                                          67\n",
       "http://www.lapdonline.org/assets/pdf/wilprof.pdf                                          67\n",
       "http://www.lapdonline.org/assets/pdf/wlaprof.pdf                                          66\n",
       "http://assets.lapdonline.org/assets/pdf/cntprof.pdf                                       66\n",
       "http://www.lapdonline.org/assets/pdf/cntprof.pdf                                          65\n",
       "http://www.lapdonline.org/assets/pdf/vnyprof.pdf                                          65\n",
       "http://www.lapdonline.org/assets/pdf/noeprof.pdf                                          65\n",
       "http://www.lapdonline.org/assets/pdf/wvaprof.pdf                                          65\n",
       "http://www.lapdonline.org/assets/pdf/pacprof.pdf                                          65\n",
       "http://www.lapdonline.org/assets/pdf/sstprof.pdf                                          64\n",
       "http://www.lapdonline.org/assets/pdf/hrbprof.pdf                                          64\n",
       "http://www.lapdonline.org/assets/pdf/fthprof.pdf                                          64\n",
       "http://www.lapdonline.org/assets/pdf/msnprof.pdf                                          64\n",
       "http://www.lapdonline.org/assets/pdf/rmpprof.pdf                                          64\n",
       "http://www.lapdonline.org/assets/pdf/sowprof.pdf                                          63\n",
       "http://www.lapdonline.org/assets/pdf/nwtprof.pdf                                          63\n",
       "Name: url, dtype: int64"
      ]
     },
     "execution_count": 67,
     "metadata": {},
     "output_type": "execute_result"
    }
   ],
   "source": [
    "pdfs.url.value_counts().head(25)"
   ]
  },
  {
   "cell_type": "markdown",
   "id": "6c72d10d-3820-42e3-aa18-3ca7bc006b26",
   "metadata": {},
   "source": [
    "## Collecting Over Time\n",
    "\n",
    "What does the Internet Archive's collection of LAPD PDFs look like over time?"
   ]
  },
  {
   "cell_type": "code",
   "execution_count": 68,
   "id": "3bc4f4f9-ed8c-42f1-9b4e-f59a7f2a1fc0",
   "metadata": {},
   "outputs": [
    {
     "data": {
      "application/vnd.plotly.v1+json": {
       "config": {
        "plotlyServerURL": "https://plot.ly"
       },
       "data": [
        {
         "hovertemplate": "variable=key<br>Time=%{x}<br>Snapshots per Month=%{y}<extra></extra>",
         "legendgroup": "key",
         "line": {
          "color": "#636efa",
          "dash": "solid"
         },
         "marker": {
          "symbol": "circle"
         },
         "mode": "lines",
         "name": "key",
         "orientation": "v",
         "showlegend": true,
         "type": "scatter",
         "x": [
          "2000-08-31T00:00:00+00:00",
          "2000-09-30T00:00:00+00:00",
          "2000-10-31T00:00:00+00:00",
          "2000-11-30T00:00:00+00:00",
          "2000-12-31T00:00:00+00:00",
          "2001-01-31T00:00:00+00:00",
          "2001-02-28T00:00:00+00:00",
          "2001-03-31T00:00:00+00:00",
          "2001-04-30T00:00:00+00:00",
          "2001-05-31T00:00:00+00:00",
          "2001-06-30T00:00:00+00:00",
          "2001-07-31T00:00:00+00:00",
          "2001-08-31T00:00:00+00:00",
          "2001-09-30T00:00:00+00:00",
          "2001-10-31T00:00:00+00:00",
          "2001-11-30T00:00:00+00:00",
          "2001-12-31T00:00:00+00:00",
          "2002-01-31T00:00:00+00:00",
          "2002-02-28T00:00:00+00:00",
          "2002-03-31T00:00:00+00:00",
          "2002-04-30T00:00:00+00:00",
          "2002-05-31T00:00:00+00:00",
          "2002-06-30T00:00:00+00:00",
          "2002-07-31T00:00:00+00:00",
          "2002-08-31T00:00:00+00:00",
          "2002-09-30T00:00:00+00:00",
          "2002-10-31T00:00:00+00:00",
          "2002-11-30T00:00:00+00:00",
          "2002-12-31T00:00:00+00:00",
          "2003-01-31T00:00:00+00:00",
          "2003-02-28T00:00:00+00:00",
          "2003-03-31T00:00:00+00:00",
          "2003-04-30T00:00:00+00:00",
          "2003-05-31T00:00:00+00:00",
          "2003-06-30T00:00:00+00:00",
          "2003-07-31T00:00:00+00:00",
          "2003-08-31T00:00:00+00:00",
          "2003-09-30T00:00:00+00:00",
          "2003-10-31T00:00:00+00:00",
          "2003-11-30T00:00:00+00:00",
          "2003-12-31T00:00:00+00:00",
          "2004-01-31T00:00:00+00:00",
          "2004-02-29T00:00:00+00:00",
          "2004-03-31T00:00:00+00:00",
          "2004-04-30T00:00:00+00:00",
          "2004-05-31T00:00:00+00:00",
          "2004-06-30T00:00:00+00:00",
          "2004-07-31T00:00:00+00:00",
          "2004-08-31T00:00:00+00:00",
          "2004-09-30T00:00:00+00:00",
          "2004-10-31T00:00:00+00:00",
          "2004-11-30T00:00:00+00:00",
          "2004-12-31T00:00:00+00:00",
          "2005-01-31T00:00:00+00:00",
          "2005-02-28T00:00:00+00:00",
          "2005-03-31T00:00:00+00:00",
          "2005-04-30T00:00:00+00:00",
          "2005-05-31T00:00:00+00:00",
          "2005-06-30T00:00:00+00:00",
          "2005-07-31T00:00:00+00:00",
          "2005-08-31T00:00:00+00:00",
          "2005-09-30T00:00:00+00:00",
          "2005-10-31T00:00:00+00:00",
          "2005-11-30T00:00:00+00:00",
          "2005-12-31T00:00:00+00:00",
          "2006-01-31T00:00:00+00:00",
          "2006-02-28T00:00:00+00:00",
          "2006-03-31T00:00:00+00:00",
          "2006-04-30T00:00:00+00:00",
          "2006-05-31T00:00:00+00:00",
          "2006-06-30T00:00:00+00:00",
          "2006-07-31T00:00:00+00:00",
          "2006-08-31T00:00:00+00:00",
          "2006-09-30T00:00:00+00:00",
          "2006-10-31T00:00:00+00:00",
          "2006-11-30T00:00:00+00:00",
          "2006-12-31T00:00:00+00:00",
          "2007-01-31T00:00:00+00:00",
          "2007-02-28T00:00:00+00:00",
          "2007-03-31T00:00:00+00:00",
          "2007-04-30T00:00:00+00:00",
          "2007-05-31T00:00:00+00:00",
          "2007-06-30T00:00:00+00:00",
          "2007-07-31T00:00:00+00:00",
          "2007-08-31T00:00:00+00:00",
          "2007-09-30T00:00:00+00:00",
          "2007-10-31T00:00:00+00:00",
          "2007-11-30T00:00:00+00:00",
          "2007-12-31T00:00:00+00:00",
          "2008-01-31T00:00:00+00:00",
          "2008-02-29T00:00:00+00:00",
          "2008-03-31T00:00:00+00:00",
          "2008-04-30T00:00:00+00:00",
          "2008-05-31T00:00:00+00:00",
          "2008-06-30T00:00:00+00:00",
          "2008-07-31T00:00:00+00:00",
          "2008-08-31T00:00:00+00:00",
          "2008-09-30T00:00:00+00:00",
          "2008-10-31T00:00:00+00:00",
          "2008-11-30T00:00:00+00:00",
          "2008-12-31T00:00:00+00:00",
          "2009-01-31T00:00:00+00:00",
          "2009-02-28T00:00:00+00:00",
          "2009-03-31T00:00:00+00:00",
          "2009-04-30T00:00:00+00:00",
          "2009-05-31T00:00:00+00:00",
          "2009-06-30T00:00:00+00:00",
          "2009-07-31T00:00:00+00:00",
          "2009-08-31T00:00:00+00:00",
          "2009-09-30T00:00:00+00:00",
          "2009-10-31T00:00:00+00:00",
          "2009-11-30T00:00:00+00:00",
          "2009-12-31T00:00:00+00:00",
          "2010-01-31T00:00:00+00:00",
          "2010-02-28T00:00:00+00:00",
          "2010-03-31T00:00:00+00:00",
          "2010-04-30T00:00:00+00:00",
          "2010-05-31T00:00:00+00:00",
          "2010-06-30T00:00:00+00:00",
          "2010-07-31T00:00:00+00:00",
          "2010-08-31T00:00:00+00:00",
          "2010-09-30T00:00:00+00:00",
          "2010-10-31T00:00:00+00:00",
          "2010-11-30T00:00:00+00:00",
          "2010-12-31T00:00:00+00:00",
          "2011-01-31T00:00:00+00:00",
          "2011-02-28T00:00:00+00:00",
          "2011-03-31T00:00:00+00:00",
          "2011-04-30T00:00:00+00:00",
          "2011-05-31T00:00:00+00:00",
          "2011-06-30T00:00:00+00:00",
          "2011-07-31T00:00:00+00:00",
          "2011-08-31T00:00:00+00:00",
          "2011-09-30T00:00:00+00:00",
          "2011-10-31T00:00:00+00:00",
          "2011-11-30T00:00:00+00:00",
          "2011-12-31T00:00:00+00:00",
          "2012-01-31T00:00:00+00:00",
          "2012-02-29T00:00:00+00:00",
          "2012-03-31T00:00:00+00:00",
          "2012-04-30T00:00:00+00:00",
          "2012-05-31T00:00:00+00:00",
          "2012-06-30T00:00:00+00:00",
          "2012-07-31T00:00:00+00:00",
          "2012-08-31T00:00:00+00:00",
          "2012-09-30T00:00:00+00:00",
          "2012-10-31T00:00:00+00:00",
          "2012-11-30T00:00:00+00:00",
          "2012-12-31T00:00:00+00:00",
          "2013-01-31T00:00:00+00:00",
          "2013-02-28T00:00:00+00:00",
          "2013-03-31T00:00:00+00:00",
          "2013-04-30T00:00:00+00:00",
          "2013-05-31T00:00:00+00:00",
          "2013-06-30T00:00:00+00:00",
          "2013-07-31T00:00:00+00:00",
          "2013-08-31T00:00:00+00:00",
          "2013-09-30T00:00:00+00:00",
          "2013-10-31T00:00:00+00:00",
          "2013-11-30T00:00:00+00:00",
          "2013-12-31T00:00:00+00:00",
          "2014-01-31T00:00:00+00:00",
          "2014-02-28T00:00:00+00:00",
          "2014-03-31T00:00:00+00:00",
          "2014-04-30T00:00:00+00:00",
          "2014-05-31T00:00:00+00:00",
          "2014-06-30T00:00:00+00:00",
          "2014-07-31T00:00:00+00:00",
          "2014-08-31T00:00:00+00:00",
          "2014-09-30T00:00:00+00:00",
          "2014-10-31T00:00:00+00:00",
          "2014-11-30T00:00:00+00:00",
          "2014-12-31T00:00:00+00:00",
          "2015-01-31T00:00:00+00:00",
          "2015-02-28T00:00:00+00:00",
          "2015-03-31T00:00:00+00:00",
          "2015-04-30T00:00:00+00:00",
          "2015-05-31T00:00:00+00:00",
          "2015-06-30T00:00:00+00:00",
          "2015-07-31T00:00:00+00:00",
          "2015-08-31T00:00:00+00:00",
          "2015-09-30T00:00:00+00:00",
          "2015-10-31T00:00:00+00:00",
          "2015-11-30T00:00:00+00:00",
          "2015-12-31T00:00:00+00:00",
          "2016-01-31T00:00:00+00:00",
          "2016-02-29T00:00:00+00:00",
          "2016-03-31T00:00:00+00:00",
          "2016-04-30T00:00:00+00:00",
          "2016-05-31T00:00:00+00:00",
          "2016-06-30T00:00:00+00:00",
          "2016-07-31T00:00:00+00:00",
          "2016-08-31T00:00:00+00:00",
          "2016-09-30T00:00:00+00:00",
          "2016-10-31T00:00:00+00:00",
          "2016-11-30T00:00:00+00:00",
          "2016-12-31T00:00:00+00:00",
          "2017-01-31T00:00:00+00:00",
          "2017-02-28T00:00:00+00:00",
          "2017-03-31T00:00:00+00:00",
          "2017-04-30T00:00:00+00:00",
          "2017-05-31T00:00:00+00:00",
          "2017-06-30T00:00:00+00:00",
          "2017-07-31T00:00:00+00:00",
          "2017-08-31T00:00:00+00:00",
          "2017-09-30T00:00:00+00:00",
          "2017-10-31T00:00:00+00:00",
          "2017-11-30T00:00:00+00:00",
          "2017-12-31T00:00:00+00:00",
          "2018-01-31T00:00:00+00:00",
          "2018-02-28T00:00:00+00:00",
          "2018-03-31T00:00:00+00:00",
          "2018-04-30T00:00:00+00:00",
          "2018-05-31T00:00:00+00:00",
          "2018-06-30T00:00:00+00:00",
          "2018-07-31T00:00:00+00:00",
          "2018-08-31T00:00:00+00:00",
          "2018-09-30T00:00:00+00:00",
          "2018-10-31T00:00:00+00:00",
          "2018-11-30T00:00:00+00:00",
          "2018-12-31T00:00:00+00:00",
          "2019-01-31T00:00:00+00:00",
          "2019-02-28T00:00:00+00:00",
          "2019-03-31T00:00:00+00:00",
          "2019-04-30T00:00:00+00:00",
          "2019-05-31T00:00:00+00:00",
          "2019-06-30T00:00:00+00:00",
          "2019-07-31T00:00:00+00:00",
          "2019-08-31T00:00:00+00:00",
          "2019-09-30T00:00:00+00:00",
          "2019-10-31T00:00:00+00:00",
          "2019-11-30T00:00:00+00:00",
          "2019-12-31T00:00:00+00:00",
          "2020-01-31T00:00:00+00:00",
          "2020-02-29T00:00:00+00:00",
          "2020-03-31T00:00:00+00:00",
          "2020-04-30T00:00:00+00:00",
          "2020-05-31T00:00:00+00:00",
          "2020-06-30T00:00:00+00:00",
          "2020-07-31T00:00:00+00:00",
          "2020-08-31T00:00:00+00:00",
          "2020-09-30T00:00:00+00:00",
          "2020-10-31T00:00:00+00:00",
          "2020-11-30T00:00:00+00:00",
          "2020-12-31T00:00:00+00:00",
          "2021-01-31T00:00:00+00:00",
          "2021-02-28T00:00:00+00:00",
          "2021-03-31T00:00:00+00:00",
          "2021-04-30T00:00:00+00:00",
          "2021-05-31T00:00:00+00:00",
          "2021-06-30T00:00:00+00:00",
          "2021-07-31T00:00:00+00:00",
          "2021-08-31T00:00:00+00:00",
          "2021-09-30T00:00:00+00:00",
          "2021-10-31T00:00:00+00:00",
          "2021-11-30T00:00:00+00:00",
          "2021-12-31T00:00:00+00:00",
          "2022-01-31T00:00:00+00:00",
          "2022-02-28T00:00:00+00:00",
          "2022-03-31T00:00:00+00:00",
          "2022-04-30T00:00:00+00:00",
          "2022-05-31T00:00:00+00:00",
          "2022-06-30T00:00:00+00:00",
          "2022-07-31T00:00:00+00:00",
          "2022-08-31T00:00:00+00:00",
          "2022-09-30T00:00:00+00:00"
         ],
         "xaxis": "x",
         "y": [
          26,
          26,
          92,
          0,
          0,
          0,
          0,
          0,
          0,
          0,
          149,
          74,
          0,
          0,
          2,
          44,
          11,
          13,
          14,
          2,
          1,
          4,
          22,
          0,
          15,
          4,
          5,
          24,
          7,
          23,
          2,
          152,
          262,
          2,
          64,
          13,
          93,
          11,
          55,
          0,
          38,
          3,
          27,
          35,
          21,
          4,
          66,
          106,
          137,
          229,
          212,
          22,
          132,
          4,
          93,
          71,
          26,
          176,
          10,
          10,
          82,
          13,
          201,
          12,
          131,
          50,
          254,
          102,
          9,
          104,
          194,
          86,
          46,
          40,
          15,
          54,
          19,
          42,
          24,
          90,
          27,
          1,
          83,
          55,
          41,
          58,
          1402,
          27,
          27,
          0,
          26,
          26,
          78,
          214,
          26,
          344,
          59,
          126,
          92,
          30,
          34,
          15,
          0,
          182,
          0,
          0,
          0,
          0,
          0,
          14,
          0,
          0,
          0,
          0,
          0,
          0,
          0,
          0,
          1189,
          0,
          0,
          0,
          9,
          3,
          498,
          3,
          4,
          4,
          1,
          9,
          112,
          5,
          73,
          87,
          432,
          861,
          205,
          306,
          204,
          770,
          682,
          2875,
          785,
          75,
          2314,
          557,
          466,
          0,
          45,
          366,
          51,
          1974,
          141,
          1201,
          476,
          2108,
          529,
          1592,
          13,
          21,
          6,
          19,
          724,
          1910,
          1350,
          2130,
          31,
          1070,
          726,
          82,
          98,
          72,
          127,
          48,
          26,
          1007,
          462,
          239,
          61,
          205,
          14,
          1803,
          218,
          19,
          15,
          11,
          38,
          145,
          546,
          873,
          86,
          412,
          226,
          112,
          482,
          17,
          51,
          207,
          48,
          83,
          522,
          114,
          238,
          159,
          116,
          285,
          518,
          203,
          394,
          149,
          136,
          143,
          685,
          250,
          170,
          227,
          476,
          97,
          861,
          194,
          297,
          271,
          469,
          249,
          790,
          270,
          367,
          526,
          470,
          333,
          1452,
          351,
          1027,
          478,
          636,
          37,
          276,
          77,
          4763,
          135,
          158,
          504,
          704,
          209,
          54,
          356,
          501,
          837,
          490,
          674,
          565,
          236,
          151,
          775,
          1184,
          86,
          408,
          189,
          28,
          361,
          49,
          43,
          261,
          36,
          91,
          4
         ],
         "yaxis": "y"
        }
       ],
       "layout": {
        "autosize": true,
        "legend": {
         "title": {
          "text": "variable"
         },
         "tracegroupgap": 0
        },
        "showlegend": false,
        "template": {
         "data": {
          "bar": [
           {
            "error_x": {
             "color": "#2a3f5f"
            },
            "error_y": {
             "color": "#2a3f5f"
            },
            "marker": {
             "line": {
              "color": "#E5ECF6",
              "width": 0.5
             },
             "pattern": {
              "fillmode": "overlay",
              "size": 10,
              "solidity": 0.2
             }
            },
            "type": "bar"
           }
          ],
          "barpolar": [
           {
            "marker": {
             "line": {
              "color": "#E5ECF6",
              "width": 0.5
             },
             "pattern": {
              "fillmode": "overlay",
              "size": 10,
              "solidity": 0.2
             }
            },
            "type": "barpolar"
           }
          ],
          "carpet": [
           {
            "aaxis": {
             "endlinecolor": "#2a3f5f",
             "gridcolor": "white",
             "linecolor": "white",
             "minorgridcolor": "white",
             "startlinecolor": "#2a3f5f"
            },
            "baxis": {
             "endlinecolor": "#2a3f5f",
             "gridcolor": "white",
             "linecolor": "white",
             "minorgridcolor": "white",
             "startlinecolor": "#2a3f5f"
            },
            "type": "carpet"
           }
          ],
          "choropleth": [
           {
            "colorbar": {
             "outlinewidth": 0,
             "ticks": ""
            },
            "type": "choropleth"
           }
          ],
          "contour": [
           {
            "colorbar": {
             "outlinewidth": 0,
             "ticks": ""
            },
            "colorscale": [
             [
              0,
              "#0d0887"
             ],
             [
              0.1111111111111111,
              "#46039f"
             ],
             [
              0.2222222222222222,
              "#7201a8"
             ],
             [
              0.3333333333333333,
              "#9c179e"
             ],
             [
              0.4444444444444444,
              "#bd3786"
             ],
             [
              0.5555555555555556,
              "#d8576b"
             ],
             [
              0.6666666666666666,
              "#ed7953"
             ],
             [
              0.7777777777777778,
              "#fb9f3a"
             ],
             [
              0.8888888888888888,
              "#fdca26"
             ],
             [
              1,
              "#f0f921"
             ]
            ],
            "type": "contour"
           }
          ],
          "contourcarpet": [
           {
            "colorbar": {
             "outlinewidth": 0,
             "ticks": ""
            },
            "type": "contourcarpet"
           }
          ],
          "heatmap": [
           {
            "colorbar": {
             "outlinewidth": 0,
             "ticks": ""
            },
            "colorscale": [
             [
              0,
              "#0d0887"
             ],
             [
              0.1111111111111111,
              "#46039f"
             ],
             [
              0.2222222222222222,
              "#7201a8"
             ],
             [
              0.3333333333333333,
              "#9c179e"
             ],
             [
              0.4444444444444444,
              "#bd3786"
             ],
             [
              0.5555555555555556,
              "#d8576b"
             ],
             [
              0.6666666666666666,
              "#ed7953"
             ],
             [
              0.7777777777777778,
              "#fb9f3a"
             ],
             [
              0.8888888888888888,
              "#fdca26"
             ],
             [
              1,
              "#f0f921"
             ]
            ],
            "type": "heatmap"
           }
          ],
          "heatmapgl": [
           {
            "colorbar": {
             "outlinewidth": 0,
             "ticks": ""
            },
            "colorscale": [
             [
              0,
              "#0d0887"
             ],
             [
              0.1111111111111111,
              "#46039f"
             ],
             [
              0.2222222222222222,
              "#7201a8"
             ],
             [
              0.3333333333333333,
              "#9c179e"
             ],
             [
              0.4444444444444444,
              "#bd3786"
             ],
             [
              0.5555555555555556,
              "#d8576b"
             ],
             [
              0.6666666666666666,
              "#ed7953"
             ],
             [
              0.7777777777777778,
              "#fb9f3a"
             ],
             [
              0.8888888888888888,
              "#fdca26"
             ],
             [
              1,
              "#f0f921"
             ]
            ],
            "type": "heatmapgl"
           }
          ],
          "histogram": [
           {
            "marker": {
             "pattern": {
              "fillmode": "overlay",
              "size": 10,
              "solidity": 0.2
             }
            },
            "type": "histogram"
           }
          ],
          "histogram2d": [
           {
            "colorbar": {
             "outlinewidth": 0,
             "ticks": ""
            },
            "colorscale": [
             [
              0,
              "#0d0887"
             ],
             [
              0.1111111111111111,
              "#46039f"
             ],
             [
              0.2222222222222222,
              "#7201a8"
             ],
             [
              0.3333333333333333,
              "#9c179e"
             ],
             [
              0.4444444444444444,
              "#bd3786"
             ],
             [
              0.5555555555555556,
              "#d8576b"
             ],
             [
              0.6666666666666666,
              "#ed7953"
             ],
             [
              0.7777777777777778,
              "#fb9f3a"
             ],
             [
              0.8888888888888888,
              "#fdca26"
             ],
             [
              1,
              "#f0f921"
             ]
            ],
            "type": "histogram2d"
           }
          ],
          "histogram2dcontour": [
           {
            "colorbar": {
             "outlinewidth": 0,
             "ticks": ""
            },
            "colorscale": [
             [
              0,
              "#0d0887"
             ],
             [
              0.1111111111111111,
              "#46039f"
             ],
             [
              0.2222222222222222,
              "#7201a8"
             ],
             [
              0.3333333333333333,
              "#9c179e"
             ],
             [
              0.4444444444444444,
              "#bd3786"
             ],
             [
              0.5555555555555556,
              "#d8576b"
             ],
             [
              0.6666666666666666,
              "#ed7953"
             ],
             [
              0.7777777777777778,
              "#fb9f3a"
             ],
             [
              0.8888888888888888,
              "#fdca26"
             ],
             [
              1,
              "#f0f921"
             ]
            ],
            "type": "histogram2dcontour"
           }
          ],
          "mesh3d": [
           {
            "colorbar": {
             "outlinewidth": 0,
             "ticks": ""
            },
            "type": "mesh3d"
           }
          ],
          "parcoords": [
           {
            "line": {
             "colorbar": {
              "outlinewidth": 0,
              "ticks": ""
             }
            },
            "type": "parcoords"
           }
          ],
          "pie": [
           {
            "automargin": true,
            "type": "pie"
           }
          ],
          "scatter": [
           {
            "marker": {
             "colorbar": {
              "outlinewidth": 0,
              "ticks": ""
             }
            },
            "type": "scatter"
           }
          ],
          "scatter3d": [
           {
            "line": {
             "colorbar": {
              "outlinewidth": 0,
              "ticks": ""
             }
            },
            "marker": {
             "colorbar": {
              "outlinewidth": 0,
              "ticks": ""
             }
            },
            "type": "scatter3d"
           }
          ],
          "scattercarpet": [
           {
            "marker": {
             "colorbar": {
              "outlinewidth": 0,
              "ticks": ""
             }
            },
            "type": "scattercarpet"
           }
          ],
          "scattergeo": [
           {
            "marker": {
             "colorbar": {
              "outlinewidth": 0,
              "ticks": ""
             }
            },
            "type": "scattergeo"
           }
          ],
          "scattergl": [
           {
            "marker": {
             "colorbar": {
              "outlinewidth": 0,
              "ticks": ""
             }
            },
            "type": "scattergl"
           }
          ],
          "scattermapbox": [
           {
            "marker": {
             "colorbar": {
              "outlinewidth": 0,
              "ticks": ""
             }
            },
            "type": "scattermapbox"
           }
          ],
          "scatterpolar": [
           {
            "marker": {
             "colorbar": {
              "outlinewidth": 0,
              "ticks": ""
             }
            },
            "type": "scatterpolar"
           }
          ],
          "scatterpolargl": [
           {
            "marker": {
             "colorbar": {
              "outlinewidth": 0,
              "ticks": ""
             }
            },
            "type": "scatterpolargl"
           }
          ],
          "scatterternary": [
           {
            "marker": {
             "colorbar": {
              "outlinewidth": 0,
              "ticks": ""
             }
            },
            "type": "scatterternary"
           }
          ],
          "surface": [
           {
            "colorbar": {
             "outlinewidth": 0,
             "ticks": ""
            },
            "colorscale": [
             [
              0,
              "#0d0887"
             ],
             [
              0.1111111111111111,
              "#46039f"
             ],
             [
              0.2222222222222222,
              "#7201a8"
             ],
             [
              0.3333333333333333,
              "#9c179e"
             ],
             [
              0.4444444444444444,
              "#bd3786"
             ],
             [
              0.5555555555555556,
              "#d8576b"
             ],
             [
              0.6666666666666666,
              "#ed7953"
             ],
             [
              0.7777777777777778,
              "#fb9f3a"
             ],
             [
              0.8888888888888888,
              "#fdca26"
             ],
             [
              1,
              "#f0f921"
             ]
            ],
            "type": "surface"
           }
          ],
          "table": [
           {
            "cells": {
             "fill": {
              "color": "#EBF0F8"
             },
             "line": {
              "color": "white"
             }
            },
            "header": {
             "fill": {
              "color": "#C8D4E3"
             },
             "line": {
              "color": "white"
             }
            },
            "type": "table"
           }
          ]
         },
         "layout": {
          "annotationdefaults": {
           "arrowcolor": "#2a3f5f",
           "arrowhead": 0,
           "arrowwidth": 1
          },
          "autotypenumbers": "strict",
          "coloraxis": {
           "colorbar": {
            "outlinewidth": 0,
            "ticks": ""
           }
          },
          "colorscale": {
           "diverging": [
            [
             0,
             "#8e0152"
            ],
            [
             0.1,
             "#c51b7d"
            ],
            [
             0.2,
             "#de77ae"
            ],
            [
             0.3,
             "#f1b6da"
            ],
            [
             0.4,
             "#fde0ef"
            ],
            [
             0.5,
             "#f7f7f7"
            ],
            [
             0.6,
             "#e6f5d0"
            ],
            [
             0.7,
             "#b8e186"
            ],
            [
             0.8,
             "#7fbc41"
            ],
            [
             0.9,
             "#4d9221"
            ],
            [
             1,
             "#276419"
            ]
           ],
           "sequential": [
            [
             0,
             "#0d0887"
            ],
            [
             0.1111111111111111,
             "#46039f"
            ],
            [
             0.2222222222222222,
             "#7201a8"
            ],
            [
             0.3333333333333333,
             "#9c179e"
            ],
            [
             0.4444444444444444,
             "#bd3786"
            ],
            [
             0.5555555555555556,
             "#d8576b"
            ],
            [
             0.6666666666666666,
             "#ed7953"
            ],
            [
             0.7777777777777778,
             "#fb9f3a"
            ],
            [
             0.8888888888888888,
             "#fdca26"
            ],
            [
             1,
             "#f0f921"
            ]
           ],
           "sequentialminus": [
            [
             0,
             "#0d0887"
            ],
            [
             0.1111111111111111,
             "#46039f"
            ],
            [
             0.2222222222222222,
             "#7201a8"
            ],
            [
             0.3333333333333333,
             "#9c179e"
            ],
            [
             0.4444444444444444,
             "#bd3786"
            ],
            [
             0.5555555555555556,
             "#d8576b"
            ],
            [
             0.6666666666666666,
             "#ed7953"
            ],
            [
             0.7777777777777778,
             "#fb9f3a"
            ],
            [
             0.8888888888888888,
             "#fdca26"
            ],
            [
             1,
             "#f0f921"
            ]
           ]
          },
          "colorway": [
           "#636efa",
           "#EF553B",
           "#00cc96",
           "#ab63fa",
           "#FFA15A",
           "#19d3f3",
           "#FF6692",
           "#B6E880",
           "#FF97FF",
           "#FECB52"
          ],
          "font": {
           "color": "#2a3f5f"
          },
          "geo": {
           "bgcolor": "white",
           "lakecolor": "white",
           "landcolor": "#E5ECF6",
           "showlakes": true,
           "showland": true,
           "subunitcolor": "white"
          },
          "hoverlabel": {
           "align": "left"
          },
          "hovermode": "closest",
          "mapbox": {
           "style": "light"
          },
          "paper_bgcolor": "white",
          "plot_bgcolor": "#E5ECF6",
          "polar": {
           "angularaxis": {
            "gridcolor": "white",
            "linecolor": "white",
            "ticks": ""
           },
           "bgcolor": "#E5ECF6",
           "radialaxis": {
            "gridcolor": "white",
            "linecolor": "white",
            "ticks": ""
           }
          },
          "scene": {
           "xaxis": {
            "backgroundcolor": "#E5ECF6",
            "gridcolor": "white",
            "gridwidth": 2,
            "linecolor": "white",
            "showbackground": true,
            "ticks": "",
            "zerolinecolor": "white"
           },
           "yaxis": {
            "backgroundcolor": "#E5ECF6",
            "gridcolor": "white",
            "gridwidth": 2,
            "linecolor": "white",
            "showbackground": true,
            "ticks": "",
            "zerolinecolor": "white"
           },
           "zaxis": {
            "backgroundcolor": "#E5ECF6",
            "gridcolor": "white",
            "gridwidth": 2,
            "linecolor": "white",
            "showbackground": true,
            "ticks": "",
            "zerolinecolor": "white"
           }
          },
          "shapedefaults": {
           "line": {
            "color": "#2a3f5f"
           }
          },
          "ternary": {
           "aaxis": {
            "gridcolor": "white",
            "linecolor": "white",
            "ticks": ""
           },
           "baxis": {
            "gridcolor": "white",
            "linecolor": "white",
            "ticks": ""
           },
           "bgcolor": "#E5ECF6",
           "caxis": {
            "gridcolor": "white",
            "linecolor": "white",
            "ticks": ""
           }
          },
          "title": {
           "x": 0.05
          },
          "xaxis": {
           "automargin": true,
           "gridcolor": "white",
           "linecolor": "white",
           "ticks": "",
           "title": {
            "standoff": 15
           },
           "zerolinecolor": "white",
           "zerolinewidth": 2
          },
          "yaxis": {
           "automargin": true,
           "gridcolor": "white",
           "linecolor": "white",
           "ticks": "",
           "title": {
            "standoff": 15
           },
           "zerolinecolor": "white",
           "zerolinewidth": 2
          }
         }
        },
        "title": {
         "text": "IA Crawling of LAPD PDFs"
        },
        "xaxis": {
         "anchor": "y",
         "autorange": true,
         "domain": [
          0,
          1
         ],
         "range": [
          "2000-08-31",
          "2022-09-30"
         ],
         "title": {
          "text": "Time"
         },
         "type": "date"
        },
        "yaxis": {
         "anchor": "x",
         "autorange": true,
         "domain": [
          0,
          1
         ],
         "range": [
          -264.6111111111111,
          5027.611111111111
         ],
         "title": {
          "text": "Snapshots per Month"
         },
         "type": "linear"
        }
       }
      },
      "image/png": "[encoded data removed]",
      "text/html": [
       "<div>                            <div id=\"3f21e2b8-07a5-48cd-99d4-472e04ab5baf\" class=\"plotly-graph-div\" style=\"height:525px; width:100%;\"></div>            <script type=\"text/javascript\">                require([\"plotly\"], function(Plotly) {                    window.PLOTLYENV=window.PLOTLYENV || {};                                    if (document.getElementById(\"3f21e2b8-07a5-48cd-99d4-472e04ab5baf\")) {                    Plotly.newPlot(                        \"3f21e2b8-07a5-48cd-99d4-472e04ab5baf\",                        [{\"hovertemplate\":\"variable=key<br>Time=%{x}<br>Snapshots per Month=%{y}<extra></extra>\",\"legendgroup\":\"key\",\"line\":{\"color\":\"#636efa\",\"dash\":\"solid\"},\"marker\":{\"symbol\":\"circle\"},\"mode\":\"lines\",\"name\":\"key\",\"orientation\":\"v\",\"showlegend\":true,\"x\":[\"2000-08-31T00:00:00+00:00\",\"2000-09-30T00:00:00+00:00\",\"2000-10-31T00:00:00+00:00\",\"2000-11-30T00:00:00+00:00\",\"2000-12-31T00:00:00+00:00\",\"2001-01-31T00:00:00+00:00\",\"2001-02-28T00:00:00+00:00\",\"2001-03-31T00:00:00+00:00\",\"2001-04-30T00:00:00+00:00\",\"2001-05-31T00:00:00+00:00\",\"2001-06-30T00:00:00+00:00\",\"2001-07-31T00:00:00+00:00\",\"2001-08-31T00:00:00+00:00\",\"2001-09-30T00:00:00+00:00\",\"2001-10-31T00:00:00+00:00\",\"2001-11-30T00:00:00+00:00\",\"2001-12-31T00:00:00+00:00\",\"2002-01-31T00:00:00+00:00\",\"2002-02-28T00:00:00+00:00\",\"2002-03-31T00:00:00+00:00\",\"2002-04-30T00:00:00+00:00\",\"2002-05-31T00:00:00+00:00\",\"2002-06-30T00:00:00+00:00\",\"2002-07-31T00:00:00+00:00\",\"2002-08-31T00:00:00+00:00\",\"2002-09-30T00:00:00+00:00\",\"2002-10-31T00:00:00+00:00\",\"2002-11-30T00:00:00+00:00\",\"2002-12-31T00:00:00+00:00\",\"2003-01-31T00:00:00+00:00\",\"2003-02-28T00:00:00+00:00\",\"2003-03-31T00:00:00+00:00\",\"2003-04-30T00:00:00+00:00\",\"2003-05-31T00:00:00+00:00\",\"2003-06-30T00:00:00+00:00\",\"2003-07-31T00:00:00+00:00\",\"2003-08-31T00:00:00+00:00\",\"2003-09-30T00:00:00+00:00\",\"2003-10-31T00:00:00+00:00\",\"2003-11-30T00:00:00+00:00\",\"2003-12-31T00:00:00+00:00\",\"2004-01-31T00:00:00+00:00\",\"2004-02-29T00:00:00+00:00\",\"2004-03-31T00:00:00+00:00\",\"2004-04-30T00:00:00+00:00\",\"2004-05-31T00:00:00+00:00\",\"2004-06-30T00:00:00+00:00\",\"2004-07-31T00:00:00+00:00\",\"2004-08-31T00:00:00+00:00\",\"2004-09-30T00:00:00+00:00\",\"2004-10-31T00:00:00+00:00\",\"2004-11-30T00:00:00+00:00\",\"2004-12-31T00:00:00+00:00\",\"2005-01-31T00:00:00+00:00\",\"2005-02-28T00:00:00+00:00\",\"2005-03-31T00:00:00+00:00\",\"2005-04-30T00:00:00+00:00\",\"2005-05-31T00:00:00+00:00\",\"2005-06-30T00:00:00+00:00\",\"2005-07-31T00:00:00+00:00\",\"2005-08-31T00:00:00+00:00\",\"2005-09-30T00:00:00+00:00\",\"2005-10-31T00:00:00+00:00\",\"2005-11-30T00:00:00+00:00\",\"2005-12-31T00:00:00+00:00\",\"2006-01-31T00:00:00+00:00\",\"2006-02-28T00:00:00+00:00\",\"2006-03-31T00:00:00+00:00\",\"2006-04-30T00:00:00+00:00\",\"2006-05-31T00:00:00+00:00\",\"2006-06-30T00:00:00+00:00\",\"2006-07-31T00:00:00+00:00\",\"2006-08-31T00:00:00+00:00\",\"2006-09-30T00:00:00+00:00\",\"2006-10-31T00:00:00+00:00\",\"2006-11-30T00:00:00+00:00\",\"2006-12-31T00:00:00+00:00\",\"2007-01-31T00:00:00+00:00\",\"2007-02-28T00:00:00+00:00\",\"2007-03-31T00:00:00+00:00\",\"2007-04-30T00:00:00+00:00\",\"2007-05-31T00:00:00+00:00\",\"2007-06-30T00:00:00+00:00\",\"2007-07-31T00:00:00+00:00\",\"2007-08-31T00:00:00+00:00\",\"2007-09-30T00:00:00+00:00\",\"2007-10-31T00:00:00+00:00\",\"2007-11-30T00:00:00+00:00\",\"2007-12-31T00:00:00+00:00\",\"2008-01-31T00:00:00+00:00\",\"2008-02-29T00:00:00+00:00\",\"2008-03-31T00:00:00+00:00\",\"2008-04-30T00:00:00+00:00\",\"2008-05-31T00:00:00+00:00\",\"2008-06-30T00:00:00+00:00\",\"2008-07-31T00:00:00+00:00\",\"2008-08-31T00:00:00+00:00\",\"2008-09-30T00:00:00+00:00\",\"2008-10-31T00:00:00+00:00\",\"2008-11-30T00:00:00+00:00\",\"2008-12-31T00:00:00+00:00\",\"2009-01-31T00:00:00+00:00\",\"2009-02-28T00:00:00+00:00\",\"2009-03-31T00:00:00+00:00\",\"2009-04-30T00:00:00+00:00\",\"2009-05-31T00:00:00+00:00\",\"2009-06-30T00:00:00+00:00\",\"2009-07-31T00:00:00+00:00\",\"2009-08-31T00:00:00+00:00\",\"2009-09-30T00:00:00+00:00\",\"2009-10-31T00:00:00+00:00\",\"2009-11-30T00:00:00+00:00\",\"2009-12-31T00:00:00+00:00\",\"2010-01-31T00:00:00+00:00\",\"2010-02-28T00:00:00+00:00\",\"2010-03-31T00:00:00+00:00\",\"2010-04-30T00:00:00+00:00\",\"2010-05-31T00:00:00+00:00\",\"2010-06-30T00:00:00+00:00\",\"2010-07-31T00:00:00+00:00\",\"2010-08-31T00:00:00+00:00\",\"2010-09-30T00:00:00+00:00\",\"2010-10-31T00:00:00+00:00\",\"2010-11-30T00:00:00+00:00\",\"2010-12-31T00:00:00+00:00\",\"2011-01-31T00:00:00+00:00\",\"2011-02-28T00:00:00+00:00\",\"2011-03-31T00:00:00+00:00\",\"2011-04-30T00:00:00+00:00\",\"2011-05-31T00:00:00+00:00\",\"2011-06-30T00:00:00+00:00\",\"2011-07-31T00:00:00+00:00\",\"2011-08-31T00:00:00+00:00\",\"2011-09-30T00:00:00+00:00\",\"2011-10-31T00:00:00+00:00\",\"2011-11-30T00:00:00+00:00\",\"2011-12-31T00:00:00+00:00\",\"2012-01-31T00:00:00+00:00\",\"2012-02-29T00:00:00+00:00\",\"2012-03-31T00:00:00+00:00\",\"2012-04-30T00:00:00+00:00\",\"2012-05-31T00:00:00+00:00\",\"2012-06-30T00:00:00+00:00\",\"2012-07-31T00:00:00+00:00\",\"2012-08-31T00:00:00+00:00\",\"2012-09-30T00:00:00+00:00\",\"2012-10-31T00:00:00+00:00\",\"2012-11-30T00:00:00+00:00\",\"2012-12-31T00:00:00+00:00\",\"2013-01-31T00:00:00+00:00\",\"2013-02-28T00:00:00+00:00\",\"2013-03-31T00:00:00+00:00\",\"2013-04-30T00:00:00+00:00\",\"2013-05-31T00:00:00+00:00\",\"2013-06-30T00:00:00+00:00\",\"2013-07-31T00:00:00+00:00\",\"2013-08-31T00:00:00+00:00\",\"2013-09-30T00:00:00+00:00\",\"2013-10-31T00:00:00+00:00\",\"2013-11-30T00:00:00+00:00\",\"2013-12-31T00:00:00+00:00\",\"2014-01-31T00:00:00+00:00\",\"2014-02-28T00:00:00+00:00\",\"2014-03-31T00:00:00+00:00\",\"2014-04-30T00:00:00+00:00\",\"2014-05-31T00:00:00+00:00\",\"2014-06-30T00:00:00+00:00\",\"2014-07-31T00:00:00+00:00\",\"2014-08-31T00:00:00+00:00\",\"2014-09-30T00:00:00+00:00\",\"2014-10-31T00:00:00+00:00\",\"2014-11-30T00:00:00+00:00\",\"2014-12-31T00:00:00+00:00\",\"2015-01-31T00:00:00+00:00\",\"2015-02-28T00:00:00+00:00\",\"2015-03-31T00:00:00+00:00\",\"2015-04-30T00:00:00+00:00\",\"2015-05-31T00:00:00+00:00\",\"2015-06-30T00:00:00+00:00\",\"2015-07-31T00:00:00+00:00\",\"2015-08-31T00:00:00+00:00\",\"2015-09-30T00:00:00+00:00\",\"2015-10-31T00:00:00+00:00\",\"2015-11-30T00:00:00+00:00\",\"2015-12-31T00:00:00+00:00\",\"2016-01-31T00:00:00+00:00\",\"2016-02-29T00:00:00+00:00\",\"2016-03-31T00:00:00+00:00\",\"2016-04-30T00:00:00+00:00\",\"2016-05-31T00:00:00+00:00\",\"2016-06-30T00:00:00+00:00\",\"2016-07-31T00:00:00+00:00\",\"2016-08-31T00:00:00+00:00\",\"2016-09-30T00:00:00+00:00\",\"2016-10-31T00:00:00+00:00\",\"2016-11-30T00:00:00+00:00\",\"2016-12-31T00:00:00+00:00\",\"2017-01-31T00:00:00+00:00\",\"2017-02-28T00:00:00+00:00\",\"2017-03-31T00:00:00+00:00\",\"2017-04-30T00:00:00+00:00\",\"2017-05-31T00:00:00+00:00\",\"2017-06-30T00:00:00+00:00\",\"2017-07-31T00:00:00+00:00\",\"2017-08-31T00:00:00+00:00\",\"2017-09-30T00:00:00+00:00\",\"2017-10-31T00:00:00+00:00\",\"2017-11-30T00:00:00+00:00\",\"2017-12-31T00:00:00+00:00\",\"2018-01-31T00:00:00+00:00\",\"2018-02-28T00:00:00+00:00\",\"2018-03-31T00:00:00+00:00\",\"2018-04-30T00:00:00+00:00\",\"2018-05-31T00:00:00+00:00\",\"2018-06-30T00:00:00+00:00\",\"2018-07-31T00:00:00+00:00\",\"2018-08-31T00:00:00+00:00\",\"2018-09-30T00:00:00+00:00\",\"2018-10-31T00:00:00+00:00\",\"2018-11-30T00:00:00+00:00\",\"2018-12-31T00:00:00+00:00\",\"2019-01-31T00:00:00+00:00\",\"2019-02-28T00:00:00+00:00\",\"2019-03-31T00:00:00+00:00\",\"2019-04-30T00:00:00+00:00\",\"2019-05-31T00:00:00+00:00\",\"2019-06-30T00:00:00+00:00\",\"2019-07-31T00:00:00+00:00\",\"2019-08-31T00:00:00+00:00\",\"2019-09-30T00:00:00+00:00\",\"2019-10-31T00:00:00+00:00\",\"2019-11-30T00:00:00+00:00\",\"2019-12-31T00:00:00+00:00\",\"2020-01-31T00:00:00+00:00\",\"2020-02-29T00:00:00+00:00\",\"2020-03-31T00:00:00+00:00\",\"2020-04-30T00:00:00+00:00\",\"2020-05-31T00:00:00+00:00\",\"2020-06-30T00:00:00+00:00\",\"2020-07-31T00:00:00+00:00\",\"2020-08-31T00:00:00+00:00\",\"2020-09-30T00:00:00+00:00\",\"2020-10-31T00:00:00+00:00\",\"2020-11-30T00:00:00+00:00\",\"2020-12-31T00:00:00+00:00\",\"2021-01-31T00:00:00+00:00\",\"2021-02-28T00:00:00+00:00\",\"2021-03-31T00:00:00+00:00\",\"2021-04-30T00:00:00+00:00\",\"2021-05-31T00:00:00+00:00\",\"2021-06-30T00:00:00+00:00\",\"2021-07-31T00:00:00+00:00\",\"2021-08-31T00:00:00+00:00\",\"2021-09-30T00:00:00+00:00\",\"2021-10-31T00:00:00+00:00\",\"2021-11-30T00:00:00+00:00\",\"2021-12-31T00:00:00+00:00\",\"2022-01-31T00:00:00+00:00\",\"2022-02-28T00:00:00+00:00\",\"2022-03-31T00:00:00+00:00\",\"2022-04-30T00:00:00+00:00\",\"2022-05-31T00:00:00+00:00\",\"2022-06-30T00:00:00+00:00\",\"2022-07-31T00:00:00+00:00\",\"2022-08-31T00:00:00+00:00\",\"2022-09-30T00:00:00+00:00\"],\"xaxis\":\"x\",\"y\":[26,26,92,0,0,0,0,0,0,0,149,74,0,0,2,44,11,13,14,2,1,4,22,0,15,4,5,24,7,23,2,152,262,2,64,13,93,11,55,0,38,3,27,35,21,4,66,106,137,229,212,22,132,4,93,71,26,176,10,10,82,13,201,12,131,50,254,102,9,104,194,86,46,40,15,54,19,42,24,90,27,1,83,55,41,58,1402,27,27,0,26,26,78,214,26,344,59,126,92,30,34,15,0,182,0,0,0,0,0,14,0,0,0,0,0,0,0,0,1189,0,0,0,9,3,498,3,4,4,1,9,112,5,73,87,432,861,205,306,204,770,682,2875,785,75,2314,557,466,0,45,366,51,1974,141,1201,476,2108,529,1592,13,21,6,19,724,1910,1350,2130,31,1070,726,82,98,72,127,48,26,1007,462,239,61,205,14,1803,218,19,15,11,38,145,546,873,86,412,226,112,482,17,51,207,48,83,522,114,238,159,116,285,518,203,394,149,136,143,685,250,170,227,476,97,861,194,297,271,469,249,790,270,367,526,470,333,1452,351,1027,478,636,37,276,77,4763,135,158,504,704,209,54,356,501,837,490,674,565,236,151,775,1184,86,408,189,28,361,49,43,261,36,91,4],\"yaxis\":\"y\",\"type\":\"scatter\"}],                        {\"template\":{\"data\":{\"bar\":[{\"error_x\":{\"color\":\"#2a3f5f\"},\"error_y\":{\"color\":\"#2a3f5f\"},\"marker\":{\"line\":{\"color\":\"#E5ECF6\",\"width\":0.5},\"pattern\":{\"fillmode\":\"overlay\",\"size\":10,\"solidity\":0.2}},\"type\":\"bar\"}],\"barpolar\":[{\"marker\":{\"line\":{\"color\":\"#E5ECF6\",\"width\":0.5},\"pattern\":{\"fillmode\":\"overlay\",\"size\":10,\"solidity\":0.2}},\"type\":\"barpolar\"}],\"carpet\":[{\"aaxis\":{\"endlinecolor\":\"#2a3f5f\",\"gridcolor\":\"white\",\"linecolor\":\"white\",\"minorgridcolor\":\"white\",\"startlinecolor\":\"#2a3f5f\"},\"baxis\":{\"endlinecolor\":\"#2a3f5f\",\"gridcolor\":\"white\",\"linecolor\":\"white\",\"minorgridcolor\":\"white\",\"startlinecolor\":\"#2a3f5f\"},\"type\":\"carpet\"}],\"choropleth\":[{\"colorbar\":{\"outlinewidth\":0,\"ticks\":\"\"},\"type\":\"choropleth\"}],\"contour\":[{\"colorbar\":{\"outlinewidth\":0,\"ticks\":\"\"},\"colorscale\":[[0.0,\"#0d0887\"],[0.1111111111111111,\"#46039f\"],[0.2222222222222222,\"#7201a8\"],[0.3333333333333333,\"#9c179e\"],[0.4444444444444444,\"#bd3786\"],[0.5555555555555556,\"#d8576b\"],[0.6666666666666666,\"#ed7953\"],[0.7777777777777778,\"#fb9f3a\"],[0.8888888888888888,\"#fdca26\"],[1.0,\"#f0f921\"]],\"type\":\"contour\"}],\"contourcarpet\":[{\"colorbar\":{\"outlinewidth\":0,\"ticks\":\"\"},\"type\":\"contourcarpet\"}],\"heatmap\":[{\"colorbar\":{\"outlinewidth\":0,\"ticks\":\"\"},\"colorscale\":[[0.0,\"#0d0887\"],[0.1111111111111111,\"#46039f\"],[0.2222222222222222,\"#7201a8\"],[0.3333333333333333,\"#9c179e\"],[0.4444444444444444,\"#bd3786\"],[0.5555555555555556,\"#d8576b\"],[0.6666666666666666,\"#ed7953\"],[0.7777777777777778,\"#fb9f3a\"],[0.8888888888888888,\"#fdca26\"],[1.0,\"#f0f921\"]],\"type\":\"heatmap\"}],\"heatmapgl\":[{\"colorbar\":{\"outlinewidth\":0,\"ticks\":\"\"},\"colorscale\":[[0.0,\"#0d0887\"],[0.1111111111111111,\"#46039f\"],[0.2222222222222222,\"#7201a8\"],[0.3333333333333333,\"#9c179e\"],[0.4444444444444444,\"#bd3786\"],[0.5555555555555556,\"#d8576b\"],[0.6666666666666666,\"#ed7953\"],[0.7777777777777778,\"#fb9f3a\"],[0.8888888888888888,\"#fdca26\"],[1.0,\"#f0f921\"]],\"type\":\"heatmapgl\"}],\"histogram\":[{\"marker\":{\"pattern\":{\"fillmode\":\"overlay\",\"size\":10,\"solidity\":0.2}},\"type\":\"histogram\"}],\"histogram2d\":[{\"colorbar\":{\"outlinewidth\":0,\"ticks\":\"\"},\"colorscale\":[[0.0,\"#0d0887\"],[0.1111111111111111,\"#46039f\"],[0.2222222222222222,\"#7201a8\"],[0.3333333333333333,\"#9c179e\"],[0.4444444444444444,\"#bd3786\"],[0.5555555555555556,\"#d8576b\"],[0.6666666666666666,\"#ed7953\"],[0.7777777777777778,\"#fb9f3a\"],[0.8888888888888888,\"#fdca26\"],[1.0,\"#f0f921\"]],\"type\":\"histogram2d\"}],\"histogram2dcontour\":[{\"colorbar\":{\"outlinewidth\":0,\"ticks\":\"\"},\"colorscale\":[[0.0,\"#0d0887\"],[0.1111111111111111,\"#46039f\"],[0.2222222222222222,\"#7201a8\"],[0.3333333333333333,\"#9c179e\"],[0.4444444444444444,\"#bd3786\"],[0.5555555555555556,\"#d8576b\"],[0.6666666666666666,\"#ed7953\"],[0.7777777777777778,\"#fb9f3a\"],[0.8888888888888888,\"#fdca26\"],[1.0,\"#f0f921\"]],\"type\":\"histogram2dcontour\"}],\"mesh3d\":[{\"colorbar\":{\"outlinewidth\":0,\"ticks\":\"\"},\"type\":\"mesh3d\"}],\"parcoords\":[{\"line\":{\"colorbar\":{\"outlinewidth\":0,\"ticks\":\"\"}},\"type\":\"parcoords\"}],\"pie\":[{\"automargin\":true,\"type\":\"pie\"}],\"scatter\":[{\"marker\":{\"colorbar\":{\"outlinewidth\":0,\"ticks\":\"\"}},\"type\":\"scatter\"}],\"scatter3d\":[{\"line\":{\"colorbar\":{\"outlinewidth\":0,\"ticks\":\"\"}},\"marker\":{\"colorbar\":{\"outlinewidth\":0,\"ticks\":\"\"}},\"type\":\"scatter3d\"}],\"scattercarpet\":[{\"marker\":{\"colorbar\":{\"outlinewidth\":0,\"ticks\":\"\"}},\"type\":\"scattercarpet\"}],\"scattergeo\":[{\"marker\":{\"colorbar\":{\"outlinewidth\":0,\"ticks\":\"\"}},\"type\":\"scattergeo\"}],\"scattergl\":[{\"marker\":{\"colorbar\":{\"outlinewidth\":0,\"ticks\":\"\"}},\"type\":\"scattergl\"}],\"scattermapbox\":[{\"marker\":{\"colorbar\":{\"outlinewidth\":0,\"ticks\":\"\"}},\"type\":\"scattermapbox\"}],\"scatterpolar\":[{\"marker\":{\"colorbar\":{\"outlinewidth\":0,\"ticks\":\"\"}},\"type\":\"scatterpolar\"}],\"scatterpolargl\":[{\"marker\":{\"colorbar\":{\"outlinewidth\":0,\"ticks\":\"\"}},\"type\":\"scatterpolargl\"}],\"scatterternary\":[{\"marker\":{\"colorbar\":{\"outlinewidth\":0,\"ticks\":\"\"}},\"type\":\"scatterternary\"}],\"surface\":[{\"colorbar\":{\"outlinewidth\":0,\"ticks\":\"\"},\"colorscale\":[[0.0,\"#0d0887\"],[0.1111111111111111,\"#46039f\"],[0.2222222222222222,\"#7201a8\"],[0.3333333333333333,\"#9c179e\"],[0.4444444444444444,\"#bd3786\"],[0.5555555555555556,\"#d8576b\"],[0.6666666666666666,\"#ed7953\"],[0.7777777777777778,\"#fb9f3a\"],[0.8888888888888888,\"#fdca26\"],[1.0,\"#f0f921\"]],\"type\":\"surface\"}],\"table\":[{\"cells\":{\"fill\":{\"color\":\"#EBF0F8\"},\"line\":{\"color\":\"white\"}},\"header\":{\"fill\":{\"color\":\"#C8D4E3\"},\"line\":{\"color\":\"white\"}},\"type\":\"table\"}]},\"layout\":{\"annotationdefaults\":{\"arrowcolor\":\"#2a3f5f\",\"arrowhead\":0,\"arrowwidth\":1},\"autotypenumbers\":\"strict\",\"coloraxis\":{\"colorbar\":{\"outlinewidth\":0,\"ticks\":\"\"}},\"colorscale\":{\"diverging\":[[0,\"#8e0152\"],[0.1,\"#c51b7d\"],[0.2,\"#de77ae\"],[0.3,\"#f1b6da\"],[0.4,\"#fde0ef\"],[0.5,\"#f7f7f7\"],[0.6,\"#e6f5d0\"],[0.7,\"#b8e186\"],[0.8,\"#7fbc41\"],[0.9,\"#4d9221\"],[1,\"#276419\"]],\"sequential\":[[0.0,\"#0d0887\"],[0.1111111111111111,\"#46039f\"],[0.2222222222222222,\"#7201a8\"],[0.3333333333333333,\"#9c179e\"],[0.4444444444444444,\"#bd3786\"],[0.5555555555555556,\"#d8576b\"],[0.6666666666666666,\"#ed7953\"],[0.7777777777777778,\"#fb9f3a\"],[0.8888888888888888,\"#fdca26\"],[1.0,\"#f0f921\"]],\"sequentialminus\":[[0.0,\"#0d0887\"],[0.1111111111111111,\"#46039f\"],[0.2222222222222222,\"#7201a8\"],[0.3333333333333333,\"#9c179e\"],[0.4444444444444444,\"#bd3786\"],[0.5555555555555556,\"#d8576b\"],[0.6666666666666666,\"#ed7953\"],[0.7777777777777778,\"#fb9f3a\"],[0.8888888888888888,\"#fdca26\"],[1.0,\"#f0f921\"]]},\"colorway\":[\"#636efa\",\"#EF553B\",\"#00cc96\",\"#ab63fa\",\"#FFA15A\",\"#19d3f3\",\"#FF6692\",\"#B6E880\",\"#FF97FF\",\"#FECB52\"],\"font\":{\"color\":\"#2a3f5f\"},\"geo\":{\"bgcolor\":\"white\",\"lakecolor\":\"white\",\"landcolor\":\"#E5ECF6\",\"showlakes\":true,\"showland\":true,\"subunitcolor\":\"white\"},\"hoverlabel\":{\"align\":\"left\"},\"hovermode\":\"closest\",\"mapbox\":{\"style\":\"light\"},\"paper_bgcolor\":\"white\",\"plot_bgcolor\":\"#E5ECF6\",\"polar\":{\"angularaxis\":{\"gridcolor\":\"white\",\"linecolor\":\"white\",\"ticks\":\"\"},\"bgcolor\":\"#E5ECF6\",\"radialaxis\":{\"gridcolor\":\"white\",\"linecolor\":\"white\",\"ticks\":\"\"}},\"scene\":{\"xaxis\":{\"backgroundcolor\":\"#E5ECF6\",\"gridcolor\":\"white\",\"gridwidth\":2,\"linecolor\":\"white\",\"showbackground\":true,\"ticks\":\"\",\"zerolinecolor\":\"white\"},\"yaxis\":{\"backgroundcolor\":\"#E5ECF6\",\"gridcolor\":\"white\",\"gridwidth\":2,\"linecolor\":\"white\",\"showbackground\":true,\"ticks\":\"\",\"zerolinecolor\":\"white\"},\"zaxis\":{\"backgroundcolor\":\"#E5ECF6\",\"gridcolor\":\"white\",\"gridwidth\":2,\"linecolor\":\"white\",\"showbackground\":true,\"ticks\":\"\",\"zerolinecolor\":\"white\"}},\"shapedefaults\":{\"line\":{\"color\":\"#2a3f5f\"}},\"ternary\":{\"aaxis\":{\"gridcolor\":\"white\",\"linecolor\":\"white\",\"ticks\":\"\"},\"baxis\":{\"gridcolor\":\"white\",\"linecolor\":\"white\",\"ticks\":\"\"},\"bgcolor\":\"#E5ECF6\",\"caxis\":{\"gridcolor\":\"white\",\"linecolor\":\"white\",\"ticks\":\"\"}},\"title\":{\"x\":0.05},\"xaxis\":{\"automargin\":true,\"gridcolor\":\"white\",\"linecolor\":\"white\",\"ticks\":\"\",\"title\":{\"standoff\":15},\"zerolinecolor\":\"white\",\"zerolinewidth\":2},\"yaxis\":{\"automargin\":true,\"gridcolor\":\"white\",\"linecolor\":\"white\",\"ticks\":\"\",\"title\":{\"standoff\":15},\"zerolinecolor\":\"white\",\"zerolinewidth\":2}}},\"xaxis\":{\"anchor\":\"y\",\"domain\":[0.0,1.0],\"title\":{\"text\":\"Time\"}},\"yaxis\":{\"anchor\":\"x\",\"domain\":[0.0,1.0],\"title\":{\"text\":\"Snapshots per Month\"}},\"legend\":{\"title\":{\"text\":\"variable\"},\"tracegroupgap\":0},\"title\":{\"text\":\"IA Crawling of LAPD PDFs\"},\"showlegend\":false},                        {\"responsive\": true}                    ).then(function(){\n",
       "                            \n",
       "var gd = document.getElementById('3f21e2b8-07a5-48cd-99d4-472e04ab5baf');\n",
       "var x = new MutationObserver(function (mutations, observer) {{\n",
       "        var display = window.getComputedStyle(gd).display;\n",
       "        if (!display || display === 'none') {{\n",
       "            console.log([gd, 'removed!']);\n",
       "            Plotly.purge(gd);\n",
       "            observer.disconnect();\n",
       "        }}\n",
       "}});\n",
       "\n",
       "// Listen for the removal of the full notebook cells\n",
       "var notebookContainer = gd.closest('#notebook-container');\n",
       "if (notebookContainer) {{\n",
       "    x.observe(notebookContainer, {childList: true});\n",
       "}}\n",
       "\n",
       "// Listen for the clearing of the current output cell\n",
       "var outputEl = gd.closest('.output');\n",
       "if (outputEl) {{\n",
       "    x.observe(outputEl, {childList: true});\n",
       "}}\n",
       "\n",
       "                        })                };                });            </script>        </div>"
      ]
     },
     "metadata": {},
     "output_type": "display_data"
    }
   ],
   "source": [
    "import plotly.express as xp\n",
    "\n",
    "counts = pdfs.set_index('timestamp').resample('M').count()['key']\n",
    "fig = xp.line(counts, title='IA Crawling of LAPD PDFs', labels={\"value\": \"Snapshots per Month\", \"timestamp\": \"Time\"})\n",
    "fig = fig.update_layout(showlegend=False)\n",
    "fig"
   ]
  },
  {
   "cell_type": "markdown",
   "id": "b17c7ea2-e459-488c-be38-48e328dbc674",
   "metadata": {},
   "source": [
    "Has there been any data collection in 2022?"
   ]
  },
  {
   "cell_type": "code",
   "execution_count": 69,
   "id": "921eafc3-a4c8-4bbe-9f4a-27d2c165d96c",
   "metadata": {},
   "outputs": [
    {
     "data": {
      "application/vnd.plotly.v1+json": {
       "config": {
        "plotlyServerURL": "https://plot.ly"
       },
       "data": [
        {
         "hovertemplate": "variable=key<br>Time=%{x}<br>Snapshots per Day=%{y}<extra></extra>",
         "legendgroup": "key",
         "line": {
          "color": "#636efa",
          "dash": "solid"
         },
         "marker": {
          "symbol": "circle"
         },
         "mode": "lines",
         "name": "key",
         "orientation": "v",
         "showlegend": true,
         "type": "scatter",
         "x": [
          "2022-01-04T00:00:00+00:00",
          "2022-01-05T00:00:00+00:00",
          "2022-01-06T00:00:00+00:00",
          "2022-01-07T00:00:00+00:00",
          "2022-01-08T00:00:00+00:00",
          "2022-01-09T00:00:00+00:00",
          "2022-01-10T00:00:00+00:00",
          "2022-01-11T00:00:00+00:00",
          "2022-01-12T00:00:00+00:00",
          "2022-01-13T00:00:00+00:00",
          "2022-01-14T00:00:00+00:00",
          "2022-01-15T00:00:00+00:00",
          "2022-01-16T00:00:00+00:00",
          "2022-01-17T00:00:00+00:00",
          "2022-01-18T00:00:00+00:00",
          "2022-01-19T00:00:00+00:00",
          "2022-01-20T00:00:00+00:00",
          "2022-01-21T00:00:00+00:00",
          "2022-01-22T00:00:00+00:00",
          "2022-01-23T00:00:00+00:00",
          "2022-01-24T00:00:00+00:00",
          "2022-01-25T00:00:00+00:00",
          "2022-01-26T00:00:00+00:00",
          "2022-01-27T00:00:00+00:00",
          "2022-01-28T00:00:00+00:00",
          "2022-01-29T00:00:00+00:00",
          "2022-01-30T00:00:00+00:00",
          "2022-01-31T00:00:00+00:00",
          "2022-02-01T00:00:00+00:00",
          "2022-02-02T00:00:00+00:00",
          "2022-02-03T00:00:00+00:00",
          "2022-02-04T00:00:00+00:00",
          "2022-02-05T00:00:00+00:00",
          "2022-02-06T00:00:00+00:00",
          "2022-02-07T00:00:00+00:00",
          "2022-02-08T00:00:00+00:00",
          "2022-02-09T00:00:00+00:00",
          "2022-02-10T00:00:00+00:00",
          "2022-02-11T00:00:00+00:00",
          "2022-02-12T00:00:00+00:00",
          "2022-02-13T00:00:00+00:00",
          "2022-02-14T00:00:00+00:00",
          "2022-02-15T00:00:00+00:00",
          "2022-02-16T00:00:00+00:00",
          "2022-02-17T00:00:00+00:00",
          "2022-02-18T00:00:00+00:00",
          "2022-02-19T00:00:00+00:00",
          "2022-02-20T00:00:00+00:00",
          "2022-02-21T00:00:00+00:00",
          "2022-02-22T00:00:00+00:00",
          "2022-02-23T00:00:00+00:00",
          "2022-02-24T00:00:00+00:00",
          "2022-02-25T00:00:00+00:00",
          "2022-02-26T00:00:00+00:00",
          "2022-02-27T00:00:00+00:00",
          "2022-02-28T00:00:00+00:00",
          "2022-03-01T00:00:00+00:00",
          "2022-03-02T00:00:00+00:00",
          "2022-03-03T00:00:00+00:00",
          "2022-03-04T00:00:00+00:00",
          "2022-03-05T00:00:00+00:00",
          "2022-03-06T00:00:00+00:00",
          "2022-03-07T00:00:00+00:00",
          "2022-03-08T00:00:00+00:00",
          "2022-03-09T00:00:00+00:00",
          "2022-03-10T00:00:00+00:00",
          "2022-03-11T00:00:00+00:00",
          "2022-03-12T00:00:00+00:00",
          "2022-03-13T00:00:00+00:00",
          "2022-03-14T00:00:00+00:00",
          "2022-03-15T00:00:00+00:00",
          "2022-03-16T00:00:00+00:00",
          "2022-03-17T00:00:00+00:00",
          "2022-03-18T00:00:00+00:00",
          "2022-03-19T00:00:00+00:00",
          "2022-03-20T00:00:00+00:00",
          "2022-03-21T00:00:00+00:00",
          "2022-03-22T00:00:00+00:00",
          "2022-03-23T00:00:00+00:00",
          "2022-03-24T00:00:00+00:00",
          "2022-03-25T00:00:00+00:00",
          "2022-03-26T00:00:00+00:00",
          "2022-03-27T00:00:00+00:00",
          "2022-03-28T00:00:00+00:00",
          "2022-03-29T00:00:00+00:00",
          "2022-03-30T00:00:00+00:00",
          "2022-03-31T00:00:00+00:00",
          "2022-04-01T00:00:00+00:00",
          "2022-04-02T00:00:00+00:00",
          "2022-04-03T00:00:00+00:00",
          "2022-04-04T00:00:00+00:00",
          "2022-04-05T00:00:00+00:00",
          "2022-04-06T00:00:00+00:00",
          "2022-04-07T00:00:00+00:00",
          "2022-04-08T00:00:00+00:00",
          "2022-04-09T00:00:00+00:00",
          "2022-04-10T00:00:00+00:00",
          "2022-04-11T00:00:00+00:00",
          "2022-04-12T00:00:00+00:00",
          "2022-04-13T00:00:00+00:00",
          "2022-04-14T00:00:00+00:00",
          "2022-04-15T00:00:00+00:00",
          "2022-04-16T00:00:00+00:00",
          "2022-04-17T00:00:00+00:00",
          "2022-04-18T00:00:00+00:00",
          "2022-04-19T00:00:00+00:00",
          "2022-04-20T00:00:00+00:00",
          "2022-04-21T00:00:00+00:00",
          "2022-04-22T00:00:00+00:00",
          "2022-04-23T00:00:00+00:00",
          "2022-04-24T00:00:00+00:00",
          "2022-04-25T00:00:00+00:00",
          "2022-04-26T00:00:00+00:00",
          "2022-04-27T00:00:00+00:00",
          "2022-04-28T00:00:00+00:00",
          "2022-04-29T00:00:00+00:00",
          "2022-04-30T00:00:00+00:00",
          "2022-05-01T00:00:00+00:00",
          "2022-05-02T00:00:00+00:00",
          "2022-05-03T00:00:00+00:00",
          "2022-05-04T00:00:00+00:00",
          "2022-05-05T00:00:00+00:00",
          "2022-05-06T00:00:00+00:00",
          "2022-05-07T00:00:00+00:00",
          "2022-05-08T00:00:00+00:00",
          "2022-05-09T00:00:00+00:00",
          "2022-05-10T00:00:00+00:00",
          "2022-05-11T00:00:00+00:00",
          "2022-05-12T00:00:00+00:00",
          "2022-05-13T00:00:00+00:00",
          "2022-05-14T00:00:00+00:00",
          "2022-05-15T00:00:00+00:00",
          "2022-05-16T00:00:00+00:00",
          "2022-05-17T00:00:00+00:00",
          "2022-05-18T00:00:00+00:00",
          "2022-05-19T00:00:00+00:00",
          "2022-05-20T00:00:00+00:00",
          "2022-05-21T00:00:00+00:00",
          "2022-05-22T00:00:00+00:00",
          "2022-05-23T00:00:00+00:00",
          "2022-05-24T00:00:00+00:00",
          "2022-05-25T00:00:00+00:00",
          "2022-05-26T00:00:00+00:00",
          "2022-05-27T00:00:00+00:00",
          "2022-05-28T00:00:00+00:00",
          "2022-05-29T00:00:00+00:00",
          "2022-05-30T00:00:00+00:00",
          "2022-05-31T00:00:00+00:00",
          "2022-06-01T00:00:00+00:00",
          "2022-06-02T00:00:00+00:00",
          "2022-06-03T00:00:00+00:00",
          "2022-06-04T00:00:00+00:00",
          "2022-06-05T00:00:00+00:00",
          "2022-06-06T00:00:00+00:00",
          "2022-06-07T00:00:00+00:00",
          "2022-06-08T00:00:00+00:00",
          "2022-06-09T00:00:00+00:00",
          "2022-06-10T00:00:00+00:00",
          "2022-06-11T00:00:00+00:00",
          "2022-06-12T00:00:00+00:00",
          "2022-06-13T00:00:00+00:00",
          "2022-06-14T00:00:00+00:00",
          "2022-06-15T00:00:00+00:00",
          "2022-06-16T00:00:00+00:00",
          "2022-06-17T00:00:00+00:00",
          "2022-06-18T00:00:00+00:00",
          "2022-06-19T00:00:00+00:00",
          "2022-06-20T00:00:00+00:00",
          "2022-06-21T00:00:00+00:00",
          "2022-06-22T00:00:00+00:00",
          "2022-06-23T00:00:00+00:00",
          "2022-06-24T00:00:00+00:00",
          "2022-06-25T00:00:00+00:00",
          "2022-06-26T00:00:00+00:00",
          "2022-06-27T00:00:00+00:00",
          "2022-06-28T00:00:00+00:00",
          "2022-06-29T00:00:00+00:00",
          "2022-06-30T00:00:00+00:00",
          "2022-07-01T00:00:00+00:00",
          "2022-07-02T00:00:00+00:00",
          "2022-07-03T00:00:00+00:00",
          "2022-07-04T00:00:00+00:00",
          "2022-07-05T00:00:00+00:00",
          "2022-07-06T00:00:00+00:00",
          "2022-07-07T00:00:00+00:00",
          "2022-07-08T00:00:00+00:00",
          "2022-07-09T00:00:00+00:00",
          "2022-07-10T00:00:00+00:00",
          "2022-07-11T00:00:00+00:00",
          "2022-07-12T00:00:00+00:00",
          "2022-07-13T00:00:00+00:00",
          "2022-07-14T00:00:00+00:00",
          "2022-07-15T00:00:00+00:00",
          "2022-07-16T00:00:00+00:00",
          "2022-07-17T00:00:00+00:00",
          "2022-07-18T00:00:00+00:00",
          "2022-07-19T00:00:00+00:00",
          "2022-07-20T00:00:00+00:00",
          "2022-07-21T00:00:00+00:00",
          "2022-07-22T00:00:00+00:00",
          "2022-07-23T00:00:00+00:00",
          "2022-07-24T00:00:00+00:00",
          "2022-07-25T00:00:00+00:00",
          "2022-07-26T00:00:00+00:00",
          "2022-07-27T00:00:00+00:00",
          "2022-07-28T00:00:00+00:00",
          "2022-07-29T00:00:00+00:00",
          "2022-07-30T00:00:00+00:00",
          "2022-07-31T00:00:00+00:00",
          "2022-08-01T00:00:00+00:00",
          "2022-08-02T00:00:00+00:00",
          "2022-08-03T00:00:00+00:00",
          "2022-08-04T00:00:00+00:00",
          "2022-08-05T00:00:00+00:00",
          "2022-08-06T00:00:00+00:00",
          "2022-08-07T00:00:00+00:00",
          "2022-08-08T00:00:00+00:00",
          "2022-08-09T00:00:00+00:00",
          "2022-08-10T00:00:00+00:00",
          "2022-08-11T00:00:00+00:00",
          "2022-08-12T00:00:00+00:00",
          "2022-08-13T00:00:00+00:00",
          "2022-08-14T00:00:00+00:00",
          "2022-08-15T00:00:00+00:00",
          "2022-08-16T00:00:00+00:00",
          "2022-08-17T00:00:00+00:00",
          "2022-08-18T00:00:00+00:00",
          "2022-08-19T00:00:00+00:00",
          "2022-08-20T00:00:00+00:00",
          "2022-08-21T00:00:00+00:00",
          "2022-08-22T00:00:00+00:00",
          "2022-08-23T00:00:00+00:00",
          "2022-08-24T00:00:00+00:00",
          "2022-08-25T00:00:00+00:00",
          "2022-08-26T00:00:00+00:00",
          "2022-08-27T00:00:00+00:00",
          "2022-08-28T00:00:00+00:00",
          "2022-08-29T00:00:00+00:00",
          "2022-08-30T00:00:00+00:00",
          "2022-08-31T00:00:00+00:00",
          "2022-09-01T00:00:00+00:00",
          "2022-09-02T00:00:00+00:00",
          "2022-09-03T00:00:00+00:00",
          "2022-09-04T00:00:00+00:00",
          "2022-09-05T00:00:00+00:00",
          "2022-09-06T00:00:00+00:00",
          "2022-09-07T00:00:00+00:00",
          "2022-09-08T00:00:00+00:00",
          "2022-09-09T00:00:00+00:00",
          "2022-09-10T00:00:00+00:00",
          "2022-09-11T00:00:00+00:00",
          "2022-09-12T00:00:00+00:00",
          "2022-09-13T00:00:00+00:00",
          "2022-09-14T00:00:00+00:00",
          "2022-09-15T00:00:00+00:00",
          "2022-09-16T00:00:00+00:00",
          "2022-09-17T00:00:00+00:00",
          "2022-09-18T00:00:00+00:00",
          "2022-09-19T00:00:00+00:00",
          "2022-09-20T00:00:00+00:00"
         ],
         "xaxis": "x",
         "y": [
          27,
          4,
          0,
          0,
          1,
          2,
          3,
          4,
          5,
          8,
          7,
          1,
          0,
          10,
          8,
          27,
          25,
          7,
          0,
          0,
          0,
          1,
          31,
          15,
          3,
          0,
          0,
          0,
          1,
          1,
          2,
          0,
          1,
          0,
          0,
          2,
          0,
          0,
          0,
          0,
          0,
          0,
          2,
          2,
          0,
          0,
          2,
          0,
          2,
          2,
          2,
          1,
          2,
          4,
          1,
          1,
          1,
          5,
          1,
          0,
          4,
          1,
          1,
          1,
          3,
          2,
          0,
          0,
          0,
          25,
          3,
          1,
          1,
          1,
          176,
          101,
          1,
          6,
          3,
          3,
          4,
          2,
          4,
          1,
          8,
          0,
          2,
          7,
          4,
          0,
          3,
          1,
          3,
          2,
          3,
          0,
          0,
          0,
          3,
          0,
          0,
          0,
          0,
          0,
          0,
          6,
          0,
          0,
          1,
          2,
          0,
          0,
          0,
          0,
          1,
          5,
          8,
          3,
          2,
          1,
          0,
          4,
          3,
          1,
          2,
          1,
          3,
          1,
          0,
          0,
          0,
          0,
          0,
          3,
          0,
          0,
          0,
          2,
          0,
          6,
          1,
          1,
          4,
          4,
          0,
          0,
          0,
          1,
          33,
          1,
          1,
          2,
          199,
          0,
          1,
          1,
          1,
          1,
          1,
          0,
          0,
          2,
          0,
          0,
          0,
          3,
          0,
          0,
          0,
          9,
          0,
          0,
          0,
          5,
          1,
          0,
          0,
          0,
          1,
          0,
          0,
          0,
          2,
          0,
          1,
          3,
          2,
          1,
          1,
          2,
          2,
          1,
          3,
          3,
          1,
          1,
          4,
          1,
          1,
          0,
          0,
          0,
          0,
          0,
          2,
          4,
          0,
          0,
          0,
          0,
          1,
          0,
          0,
          0,
          77,
          1,
          4,
          1,
          0,
          0,
          0,
          0,
          1,
          0,
          0,
          0,
          1,
          0,
          0,
          0,
          0,
          2,
          1,
          0,
          1,
          0,
          1,
          0,
          0,
          0,
          0,
          0,
          0,
          0,
          0,
          0,
          0,
          0,
          0,
          0,
          0,
          0,
          1,
          1,
          0,
          1,
          0,
          0,
          0,
          1
         ],
         "yaxis": "y"
        }
       ],
       "layout": {
        "autosize": true,
        "legend": {
         "title": {
          "text": "variable"
         },
         "tracegroupgap": 0
        },
        "showlegend": false,
        "template": {
         "data": {
          "bar": [
           {
            "error_x": {
             "color": "#2a3f5f"
            },
            "error_y": {
             "color": "#2a3f5f"
            },
            "marker": {
             "line": {
              "color": "#E5ECF6",
              "width": 0.5
             },
             "pattern": {
              "fillmode": "overlay",
              "size": 10,
              "solidity": 0.2
             }
            },
            "type": "bar"
           }
          ],
          "barpolar": [
           {
            "marker": {
             "line": {
              "color": "#E5ECF6",
              "width": 0.5
             },
             "pattern": {
              "fillmode": "overlay",
              "size": 10,
              "solidity": 0.2
             }
            },
            "type": "barpolar"
           }
          ],
          "carpet": [
           {
            "aaxis": {
             "endlinecolor": "#2a3f5f",
             "gridcolor": "white",
             "linecolor": "white",
             "minorgridcolor": "white",
             "startlinecolor": "#2a3f5f"
            },
            "baxis": {
             "endlinecolor": "#2a3f5f",
             "gridcolor": "white",
             "linecolor": "white",
             "minorgridcolor": "white",
             "startlinecolor": "#2a3f5f"
            },
            "type": "carpet"
           }
          ],
          "choropleth": [
           {
            "colorbar": {
             "outlinewidth": 0,
             "ticks": ""
            },
            "type": "choropleth"
           }
          ],
          "contour": [
           {
            "colorbar": {
             "outlinewidth": 0,
             "ticks": ""
            },
            "colorscale": [
             [
              0,
              "#0d0887"
             ],
             [
              0.1111111111111111,
              "#46039f"
             ],
             [
              0.2222222222222222,
              "#7201a8"
             ],
             [
              0.3333333333333333,
              "#9c179e"
             ],
             [
              0.4444444444444444,
              "#bd3786"
             ],
             [
              0.5555555555555556,
              "#d8576b"
             ],
             [
              0.6666666666666666,
              "#ed7953"
             ],
             [
              0.7777777777777778,
              "#fb9f3a"
             ],
             [
              0.8888888888888888,
              "#fdca26"
             ],
             [
              1,
              "#f0f921"
             ]
            ],
            "type": "contour"
           }
          ],
          "contourcarpet": [
           {
            "colorbar": {
             "outlinewidth": 0,
             "ticks": ""
            },
            "type": "contourcarpet"
           }
          ],
          "heatmap": [
           {
            "colorbar": {
             "outlinewidth": 0,
             "ticks": ""
            },
            "colorscale": [
             [
              0,
              "#0d0887"
             ],
             [
              0.1111111111111111,
              "#46039f"
             ],
             [
              0.2222222222222222,
              "#7201a8"
             ],
             [
              0.3333333333333333,
              "#9c179e"
             ],
             [
              0.4444444444444444,
              "#bd3786"
             ],
             [
              0.5555555555555556,
              "#d8576b"
             ],
             [
              0.6666666666666666,
              "#ed7953"
             ],
             [
              0.7777777777777778,
              "#fb9f3a"
             ],
             [
              0.8888888888888888,
              "#fdca26"
             ],
             [
              1,
              "#f0f921"
             ]
            ],
            "type": "heatmap"
           }
          ],
          "heatmapgl": [
           {
            "colorbar": {
             "outlinewidth": 0,
             "ticks": ""
            },
            "colorscale": [
             [
              0,
              "#0d0887"
             ],
             [
              0.1111111111111111,
              "#46039f"
             ],
             [
              0.2222222222222222,
              "#7201a8"
             ],
             [
              0.3333333333333333,
              "#9c179e"
             ],
             [
              0.4444444444444444,
              "#bd3786"
             ],
             [
              0.5555555555555556,
              "#d8576b"
             ],
             [
              0.6666666666666666,
              "#ed7953"
             ],
             [
              0.7777777777777778,
              "#fb9f3a"
             ],
             [
              0.8888888888888888,
              "#fdca26"
             ],
             [
              1,
              "#f0f921"
             ]
            ],
            "type": "heatmapgl"
           }
          ],
          "histogram": [
           {
            "marker": {
             "pattern": {
              "fillmode": "overlay",
              "size": 10,
              "solidity": 0.2
             }
            },
            "type": "histogram"
           }
          ],
          "histogram2d": [
           {
            "colorbar": {
             "outlinewidth": 0,
             "ticks": ""
            },
            "colorscale": [
             [
              0,
              "#0d0887"
             ],
             [
              0.1111111111111111,
              "#46039f"
             ],
             [
              0.2222222222222222,
              "#7201a8"
             ],
             [
              0.3333333333333333,
              "#9c179e"
             ],
             [
              0.4444444444444444,
              "#bd3786"
             ],
             [
              0.5555555555555556,
              "#d8576b"
             ],
             [
              0.6666666666666666,
              "#ed7953"
             ],
             [
              0.7777777777777778,
              "#fb9f3a"
             ],
             [
              0.8888888888888888,
              "#fdca26"
             ],
             [
              1,
              "#f0f921"
             ]
            ],
            "type": "histogram2d"
           }
          ],
          "histogram2dcontour": [
           {
            "colorbar": {
             "outlinewidth": 0,
             "ticks": ""
            },
            "colorscale": [
             [
              0,
              "#0d0887"
             ],
             [
              0.1111111111111111,
              "#46039f"
             ],
             [
              0.2222222222222222,
              "#7201a8"
             ],
             [
              0.3333333333333333,
              "#9c179e"
             ],
             [
              0.4444444444444444,
              "#bd3786"
             ],
             [
              0.5555555555555556,
              "#d8576b"
             ],
             [
              0.6666666666666666,
              "#ed7953"
             ],
             [
              0.7777777777777778,
              "#fb9f3a"
             ],
             [
              0.8888888888888888,
              "#fdca26"
             ],
             [
              1,
              "#f0f921"
             ]
            ],
            "type": "histogram2dcontour"
           }
          ],
          "mesh3d": [
           {
            "colorbar": {
             "outlinewidth": 0,
             "ticks": ""
            },
            "type": "mesh3d"
           }
          ],
          "parcoords": [
           {
            "line": {
             "colorbar": {
              "outlinewidth": 0,
              "ticks": ""
             }
            },
            "type": "parcoords"
           }
          ],
          "pie": [
           {
            "automargin": true,
            "type": "pie"
           }
          ],
          "scatter": [
           {
            "marker": {
             "colorbar": {
              "outlinewidth": 0,
              "ticks": ""
             }
            },
            "type": "scatter"
           }
          ],
          "scatter3d": [
           {
            "line": {
             "colorbar": {
              "outlinewidth": 0,
              "ticks": ""
             }
            },
            "marker": {
             "colorbar": {
              "outlinewidth": 0,
              "ticks": ""
             }
            },
            "type": "scatter3d"
           }
          ],
          "scattercarpet": [
           {
            "marker": {
             "colorbar": {
              "outlinewidth": 0,
              "ticks": ""
             }
            },
            "type": "scattercarpet"
           }
          ],
          "scattergeo": [
           {
            "marker": {
             "colorbar": {
              "outlinewidth": 0,
              "ticks": ""
             }
            },
            "type": "scattergeo"
           }
          ],
          "scattergl": [
           {
            "marker": {
             "colorbar": {
              "outlinewidth": 0,
              "ticks": ""
             }
            },
            "type": "scattergl"
           }
          ],
          "scattermapbox": [
           {
            "marker": {
             "colorbar": {
              "outlinewidth": 0,
              "ticks": ""
             }
            },
            "type": "scattermapbox"
           }
          ],
          "scatterpolar": [
           {
            "marker": {
             "colorbar": {
              "outlinewidth": 0,
              "ticks": ""
             }
            },
            "type": "scatterpolar"
           }
          ],
          "scatterpolargl": [
           {
            "marker": {
             "colorbar": {
              "outlinewidth": 0,
              "ticks": ""
             }
            },
            "type": "scatterpolargl"
           }
          ],
          "scatterternary": [
           {
            "marker": {
             "colorbar": {
              "outlinewidth": 0,
              "ticks": ""
             }
            },
            "type": "scatterternary"
           }
          ],
          "surface": [
           {
            "colorbar": {
             "outlinewidth": 0,
             "ticks": ""
            },
            "colorscale": [
             [
              0,
              "#0d0887"
             ],
             [
              0.1111111111111111,
              "#46039f"
             ],
             [
              0.2222222222222222,
              "#7201a8"
             ],
             [
              0.3333333333333333,
              "#9c179e"
             ],
             [
              0.4444444444444444,
              "#bd3786"
             ],
             [
              0.5555555555555556,
              "#d8576b"
             ],
             [
              0.6666666666666666,
              "#ed7953"
             ],
             [
              0.7777777777777778,
              "#fb9f3a"
             ],
             [
              0.8888888888888888,
              "#fdca26"
             ],
             [
              1,
              "#f0f921"
             ]
            ],
            "type": "surface"
           }
          ],
          "table": [
           {
            "cells": {
             "fill": {
              "color": "#EBF0F8"
             },
             "line": {
              "color": "white"
             }
            },
            "header": {
             "fill": {
              "color": "#C8D4E3"
             },
             "line": {
              "color": "white"
             }
            },
            "type": "table"
           }
          ]
         },
         "layout": {
          "annotationdefaults": {
           "arrowcolor": "#2a3f5f",
           "arrowhead": 0,
           "arrowwidth": 1
          },
          "autotypenumbers": "strict",
          "coloraxis": {
           "colorbar": {
            "outlinewidth": 0,
            "ticks": ""
           }
          },
          "colorscale": {
           "diverging": [
            [
             0,
             "#8e0152"
            ],
            [
             0.1,
             "#c51b7d"
            ],
            [
             0.2,
             "#de77ae"
            ],
            [
             0.3,
             "#f1b6da"
            ],
            [
             0.4,
             "#fde0ef"
            ],
            [
             0.5,
             "#f7f7f7"
            ],
            [
             0.6,
             "#e6f5d0"
            ],
            [
             0.7,
             "#b8e186"
            ],
            [
             0.8,
             "#7fbc41"
            ],
            [
             0.9,
             "#4d9221"
            ],
            [
             1,
             "#276419"
            ]
           ],
           "sequential": [
            [
             0,
             "#0d0887"
            ],
            [
             0.1111111111111111,
             "#46039f"
            ],
            [
             0.2222222222222222,
             "#7201a8"
            ],
            [
             0.3333333333333333,
             "#9c179e"
            ],
            [
             0.4444444444444444,
             "#bd3786"
            ],
            [
             0.5555555555555556,
             "#d8576b"
            ],
            [
             0.6666666666666666,
             "#ed7953"
            ],
            [
             0.7777777777777778,
             "#fb9f3a"
            ],
            [
             0.8888888888888888,
             "#fdca26"
            ],
            [
             1,
             "#f0f921"
            ]
           ],
           "sequentialminus": [
            [
             0,
             "#0d0887"
            ],
            [
             0.1111111111111111,
             "#46039f"
            ],
            [
             0.2222222222222222,
             "#7201a8"
            ],
            [
             0.3333333333333333,
             "#9c179e"
            ],
            [
             0.4444444444444444,
             "#bd3786"
            ],
            [
             0.5555555555555556,
             "#d8576b"
            ],
            [
             0.6666666666666666,
             "#ed7953"
            ],
            [
             0.7777777777777778,
             "#fb9f3a"
            ],
            [
             0.8888888888888888,
             "#fdca26"
            ],
            [
             1,
             "#f0f921"
            ]
           ]
          },
          "colorway": [
           "#636efa",
           "#EF553B",
           "#00cc96",
           "#ab63fa",
           "#FFA15A",
           "#19d3f3",
           "#FF6692",
           "#B6E880",
           "#FF97FF",
           "#FECB52"
          ],
          "font": {
           "color": "#2a3f5f"
          },
          "geo": {
           "bgcolor": "white",
           "lakecolor": "white",
           "landcolor": "#E5ECF6",
           "showlakes": true,
           "showland": true,
           "subunitcolor": "white"
          },
          "hoverlabel": {
           "align": "left"
          },
          "hovermode": "closest",
          "mapbox": {
           "style": "light"
          },
          "paper_bgcolor": "white",
          "plot_bgcolor": "#E5ECF6",
          "polar": {
           "angularaxis": {
            "gridcolor": "white",
            "linecolor": "white",
            "ticks": ""
           },
           "bgcolor": "#E5ECF6",
           "radialaxis": {
            "gridcolor": "white",
            "linecolor": "white",
            "ticks": ""
           }
          },
          "scene": {
           "xaxis": {
            "backgroundcolor": "#E5ECF6",
            "gridcolor": "white",
            "gridwidth": 2,
            "linecolor": "white",
            "showbackground": true,
            "ticks": "",
            "zerolinecolor": "white"
           },
           "yaxis": {
            "backgroundcolor": "#E5ECF6",
            "gridcolor": "white",
            "gridwidth": 2,
            "linecolor": "white",
            "showbackground": true,
            "ticks": "",
            "zerolinecolor": "white"
           },
           "zaxis": {
            "backgroundcolor": "#E5ECF6",
            "gridcolor": "white",
            "gridwidth": 2,
            "linecolor": "white",
            "showbackground": true,
            "ticks": "",
            "zerolinecolor": "white"
           }
          },
          "shapedefaults": {
           "line": {
            "color": "#2a3f5f"
           }
          },
          "ternary": {
           "aaxis": {
            "gridcolor": "white",
            "linecolor": "white",
            "ticks": ""
           },
           "baxis": {
            "gridcolor": "white",
            "linecolor": "white",
            "ticks": ""
           },
           "bgcolor": "#E5ECF6",
           "caxis": {
            "gridcolor": "white",
            "linecolor": "white",
            "ticks": ""
           }
          },
          "title": {
           "x": 0.05
          },
          "xaxis": {
           "automargin": true,
           "gridcolor": "white",
           "linecolor": "white",
           "ticks": "",
           "title": {
            "standoff": 15
           },
           "zerolinecolor": "white",
           "zerolinewidth": 2
          },
          "yaxis": {
           "automargin": true,
           "gridcolor": "white",
           "linecolor": "white",
           "ticks": "",
           "title": {
            "standoff": 15
           },
           "zerolinecolor": "white",
           "zerolinewidth": 2
          }
         }
        },
        "title": {
         "text": "IA Crawling of LAPD PDFs in 2022"
        },
        "xaxis": {
         "anchor": "y",
         "autorange": true,
         "domain": [
          0,
          1
         ],
         "range": [
          "2022-01-04",
          "2022-09-20"
         ],
         "title": {
          "text": "Time"
         },
         "type": "date"
        },
        "yaxis": {
         "anchor": "x",
         "autorange": true,
         "domain": [
          0,
          1
         ],
         "range": [
          -11.055555555555555,
          210.05555555555554
         ],
         "title": {
          "text": "Snapshots per Day"
         },
         "type": "linear"
        }
       }
      },
      "image/png": "[encoded data removed]",
      "text/html": [
       "<div>                            <div id=\"1b6e4591-cec7-4b08-8b80-dd70c466eefd\" class=\"plotly-graph-div\" style=\"height:525px; width:100%;\"></div>            <script type=\"text/javascript\">                require([\"plotly\"], function(Plotly) {                    window.PLOTLYENV=window.PLOTLYENV || {};                                    if (document.getElementById(\"1b6e4591-cec7-4b08-8b80-dd70c466eefd\")) {                    Plotly.newPlot(                        \"1b6e4591-cec7-4b08-8b80-dd70c466eefd\",                        [{\"hovertemplate\":\"variable=key<br>Time=%{x}<br>Snapshots per Day=%{y}<extra></extra>\",\"legendgroup\":\"key\",\"line\":{\"color\":\"#636efa\",\"dash\":\"solid\"},\"marker\":{\"symbol\":\"circle\"},\"mode\":\"lines\",\"name\":\"key\",\"orientation\":\"v\",\"showlegend\":true,\"x\":[\"2022-01-04T00:00:00+00:00\",\"2022-01-05T00:00:00+00:00\",\"2022-01-06T00:00:00+00:00\",\"2022-01-07T00:00:00+00:00\",\"2022-01-08T00:00:00+00:00\",\"2022-01-09T00:00:00+00:00\",\"2022-01-10T00:00:00+00:00\",\"2022-01-11T00:00:00+00:00\",\"2022-01-12T00:00:00+00:00\",\"2022-01-13T00:00:00+00:00\",\"2022-01-14T00:00:00+00:00\",\"2022-01-15T00:00:00+00:00\",\"2022-01-16T00:00:00+00:00\",\"2022-01-17T00:00:00+00:00\",\"2022-01-18T00:00:00+00:00\",\"2022-01-19T00:00:00+00:00\",\"2022-01-20T00:00:00+00:00\",\"2022-01-21T00:00:00+00:00\",\"2022-01-22T00:00:00+00:00\",\"2022-01-23T00:00:00+00:00\",\"2022-01-24T00:00:00+00:00\",\"2022-01-25T00:00:00+00:00\",\"2022-01-26T00:00:00+00:00\",\"2022-01-27T00:00:00+00:00\",\"2022-01-28T00:00:00+00:00\",\"2022-01-29T00:00:00+00:00\",\"2022-01-30T00:00:00+00:00\",\"2022-01-31T00:00:00+00:00\",\"2022-02-01T00:00:00+00:00\",\"2022-02-02T00:00:00+00:00\",\"2022-02-03T00:00:00+00:00\",\"2022-02-04T00:00:00+00:00\",\"2022-02-05T00:00:00+00:00\",\"2022-02-06T00:00:00+00:00\",\"2022-02-07T00:00:00+00:00\",\"2022-02-08T00:00:00+00:00\",\"2022-02-09T00:00:00+00:00\",\"2022-02-10T00:00:00+00:00\",\"2022-02-11T00:00:00+00:00\",\"2022-02-12T00:00:00+00:00\",\"2022-02-13T00:00:00+00:00\",\"2022-02-14T00:00:00+00:00\",\"2022-02-15T00:00:00+00:00\",\"2022-02-16T00:00:00+00:00\",\"2022-02-17T00:00:00+00:00\",\"2022-02-18T00:00:00+00:00\",\"2022-02-19T00:00:00+00:00\",\"2022-02-20T00:00:00+00:00\",\"2022-02-21T00:00:00+00:00\",\"2022-02-22T00:00:00+00:00\",\"2022-02-23T00:00:00+00:00\",\"2022-02-24T00:00:00+00:00\",\"2022-02-25T00:00:00+00:00\",\"2022-02-26T00:00:00+00:00\",\"2022-02-27T00:00:00+00:00\",\"2022-02-28T00:00:00+00:00\",\"2022-03-01T00:00:00+00:00\",\"2022-03-02T00:00:00+00:00\",\"2022-03-03T00:00:00+00:00\",\"2022-03-04T00:00:00+00:00\",\"2022-03-05T00:00:00+00:00\",\"2022-03-06T00:00:00+00:00\",\"2022-03-07T00:00:00+00:00\",\"2022-03-08T00:00:00+00:00\",\"2022-03-09T00:00:00+00:00\",\"2022-03-10T00:00:00+00:00\",\"2022-03-11T00:00:00+00:00\",\"2022-03-12T00:00:00+00:00\",\"2022-03-13T00:00:00+00:00\",\"2022-03-14T00:00:00+00:00\",\"2022-03-15T00:00:00+00:00\",\"2022-03-16T00:00:00+00:00\",\"2022-03-17T00:00:00+00:00\",\"2022-03-18T00:00:00+00:00\",\"2022-03-19T00:00:00+00:00\",\"2022-03-20T00:00:00+00:00\",\"2022-03-21T00:00:00+00:00\",\"2022-03-22T00:00:00+00:00\",\"2022-03-23T00:00:00+00:00\",\"2022-03-24T00:00:00+00:00\",\"2022-03-25T00:00:00+00:00\",\"2022-03-26T00:00:00+00:00\",\"2022-03-27T00:00:00+00:00\",\"2022-03-28T00:00:00+00:00\",\"2022-03-29T00:00:00+00:00\",\"2022-03-30T00:00:00+00:00\",\"2022-03-31T00:00:00+00:00\",\"2022-04-01T00:00:00+00:00\",\"2022-04-02T00:00:00+00:00\",\"2022-04-03T00:00:00+00:00\",\"2022-04-04T00:00:00+00:00\",\"2022-04-05T00:00:00+00:00\",\"2022-04-06T00:00:00+00:00\",\"2022-04-07T00:00:00+00:00\",\"2022-04-08T00:00:00+00:00\",\"2022-04-09T00:00:00+00:00\",\"2022-04-10T00:00:00+00:00\",\"2022-04-11T00:00:00+00:00\",\"2022-04-12T00:00:00+00:00\",\"2022-04-13T00:00:00+00:00\",\"2022-04-14T00:00:00+00:00\",\"2022-04-15T00:00:00+00:00\",\"2022-04-16T00:00:00+00:00\",\"2022-04-17T00:00:00+00:00\",\"2022-04-18T00:00:00+00:00\",\"2022-04-19T00:00:00+00:00\",\"2022-04-20T00:00:00+00:00\",\"2022-04-21T00:00:00+00:00\",\"2022-04-22T00:00:00+00:00\",\"2022-04-23T00:00:00+00:00\",\"2022-04-24T00:00:00+00:00\",\"2022-04-25T00:00:00+00:00\",\"2022-04-26T00:00:00+00:00\",\"2022-04-27T00:00:00+00:00\",\"2022-04-28T00:00:00+00:00\",\"2022-04-29T00:00:00+00:00\",\"2022-04-30T00:00:00+00:00\",\"2022-05-01T00:00:00+00:00\",\"2022-05-02T00:00:00+00:00\",\"2022-05-03T00:00:00+00:00\",\"2022-05-04T00:00:00+00:00\",\"2022-05-05T00:00:00+00:00\",\"2022-05-06T00:00:00+00:00\",\"2022-05-07T00:00:00+00:00\",\"2022-05-08T00:00:00+00:00\",\"2022-05-09T00:00:00+00:00\",\"2022-05-10T00:00:00+00:00\",\"2022-05-11T00:00:00+00:00\",\"2022-05-12T00:00:00+00:00\",\"2022-05-13T00:00:00+00:00\",\"2022-05-14T00:00:00+00:00\",\"2022-05-15T00:00:00+00:00\",\"2022-05-16T00:00:00+00:00\",\"2022-05-17T00:00:00+00:00\",\"2022-05-18T00:00:00+00:00\",\"2022-05-19T00:00:00+00:00\",\"2022-05-20T00:00:00+00:00\",\"2022-05-21T00:00:00+00:00\",\"2022-05-22T00:00:00+00:00\",\"2022-05-23T00:00:00+00:00\",\"2022-05-24T00:00:00+00:00\",\"2022-05-25T00:00:00+00:00\",\"2022-05-26T00:00:00+00:00\",\"2022-05-27T00:00:00+00:00\",\"2022-05-28T00:00:00+00:00\",\"2022-05-29T00:00:00+00:00\",\"2022-05-30T00:00:00+00:00\",\"2022-05-31T00:00:00+00:00\",\"2022-06-01T00:00:00+00:00\",\"2022-06-02T00:00:00+00:00\",\"2022-06-03T00:00:00+00:00\",\"2022-06-04T00:00:00+00:00\",\"2022-06-05T00:00:00+00:00\",\"2022-06-06T00:00:00+00:00\",\"2022-06-07T00:00:00+00:00\",\"2022-06-08T00:00:00+00:00\",\"2022-06-09T00:00:00+00:00\",\"2022-06-10T00:00:00+00:00\",\"2022-06-11T00:00:00+00:00\",\"2022-06-12T00:00:00+00:00\",\"2022-06-13T00:00:00+00:00\",\"2022-06-14T00:00:00+00:00\",\"2022-06-15T00:00:00+00:00\",\"2022-06-16T00:00:00+00:00\",\"2022-06-17T00:00:00+00:00\",\"2022-06-18T00:00:00+00:00\",\"2022-06-19T00:00:00+00:00\",\"2022-06-20T00:00:00+00:00\",\"2022-06-21T00:00:00+00:00\",\"2022-06-22T00:00:00+00:00\",\"2022-06-23T00:00:00+00:00\",\"2022-06-24T00:00:00+00:00\",\"2022-06-25T00:00:00+00:00\",\"2022-06-26T00:00:00+00:00\",\"2022-06-27T00:00:00+00:00\",\"2022-06-28T00:00:00+00:00\",\"2022-06-29T00:00:00+00:00\",\"2022-06-30T00:00:00+00:00\",\"2022-07-01T00:00:00+00:00\",\"2022-07-02T00:00:00+00:00\",\"2022-07-03T00:00:00+00:00\",\"2022-07-04T00:00:00+00:00\",\"2022-07-05T00:00:00+00:00\",\"2022-07-06T00:00:00+00:00\",\"2022-07-07T00:00:00+00:00\",\"2022-07-08T00:00:00+00:00\",\"2022-07-09T00:00:00+00:00\",\"2022-07-10T00:00:00+00:00\",\"2022-07-11T00:00:00+00:00\",\"2022-07-12T00:00:00+00:00\",\"2022-07-13T00:00:00+00:00\",\"2022-07-14T00:00:00+00:00\",\"2022-07-15T00:00:00+00:00\",\"2022-07-16T00:00:00+00:00\",\"2022-07-17T00:00:00+00:00\",\"2022-07-18T00:00:00+00:00\",\"2022-07-19T00:00:00+00:00\",\"2022-07-20T00:00:00+00:00\",\"2022-07-21T00:00:00+00:00\",\"2022-07-22T00:00:00+00:00\",\"2022-07-23T00:00:00+00:00\",\"2022-07-24T00:00:00+00:00\",\"2022-07-25T00:00:00+00:00\",\"2022-07-26T00:00:00+00:00\",\"2022-07-27T00:00:00+00:00\",\"2022-07-28T00:00:00+00:00\",\"2022-07-29T00:00:00+00:00\",\"2022-07-30T00:00:00+00:00\",\"2022-07-31T00:00:00+00:00\",\"2022-08-01T00:00:00+00:00\",\"2022-08-02T00:00:00+00:00\",\"2022-08-03T00:00:00+00:00\",\"2022-08-04T00:00:00+00:00\",\"2022-08-05T00:00:00+00:00\",\"2022-08-06T00:00:00+00:00\",\"2022-08-07T00:00:00+00:00\",\"2022-08-08T00:00:00+00:00\",\"2022-08-09T00:00:00+00:00\",\"2022-08-10T00:00:00+00:00\",\"2022-08-11T00:00:00+00:00\",\"2022-08-12T00:00:00+00:00\",\"2022-08-13T00:00:00+00:00\",\"2022-08-14T00:00:00+00:00\",\"2022-08-15T00:00:00+00:00\",\"2022-08-16T00:00:00+00:00\",\"2022-08-17T00:00:00+00:00\",\"2022-08-18T00:00:00+00:00\",\"2022-08-19T00:00:00+00:00\",\"2022-08-20T00:00:00+00:00\",\"2022-08-21T00:00:00+00:00\",\"2022-08-22T00:00:00+00:00\",\"2022-08-23T00:00:00+00:00\",\"2022-08-24T00:00:00+00:00\",\"2022-08-25T00:00:00+00:00\",\"2022-08-26T00:00:00+00:00\",\"2022-08-27T00:00:00+00:00\",\"2022-08-28T00:00:00+00:00\",\"2022-08-29T00:00:00+00:00\",\"2022-08-30T00:00:00+00:00\",\"2022-08-31T00:00:00+00:00\",\"2022-09-01T00:00:00+00:00\",\"2022-09-02T00:00:00+00:00\",\"2022-09-03T00:00:00+00:00\",\"2022-09-04T00:00:00+00:00\",\"2022-09-05T00:00:00+00:00\",\"2022-09-06T00:00:00+00:00\",\"2022-09-07T00:00:00+00:00\",\"2022-09-08T00:00:00+00:00\",\"2022-09-09T00:00:00+00:00\",\"2022-09-10T00:00:00+00:00\",\"2022-09-11T00:00:00+00:00\",\"2022-09-12T00:00:00+00:00\",\"2022-09-13T00:00:00+00:00\",\"2022-09-14T00:00:00+00:00\",\"2022-09-15T00:00:00+00:00\",\"2022-09-16T00:00:00+00:00\",\"2022-09-17T00:00:00+00:00\",\"2022-09-18T00:00:00+00:00\",\"2022-09-19T00:00:00+00:00\",\"2022-09-20T00:00:00+00:00\"],\"xaxis\":\"x\",\"y\":[27,4,0,0,1,2,3,4,5,8,7,1,0,10,8,27,25,7,0,0,0,1,31,15,3,0,0,0,1,1,2,0,1,0,0,2,0,0,0,0,0,0,2,2,0,0,2,0,2,2,2,1,2,4,1,1,1,5,1,0,4,1,1,1,3,2,0,0,0,25,3,1,1,1,176,101,1,6,3,3,4,2,4,1,8,0,2,7,4,0,3,1,3,2,3,0,0,0,3,0,0,0,0,0,0,6,0,0,1,2,0,0,0,0,1,5,8,3,2,1,0,4,3,1,2,1,3,1,0,0,0,0,0,3,0,0,0,2,0,6,1,1,4,4,0,0,0,1,33,1,1,2,199,0,1,1,1,1,1,0,0,2,0,0,0,3,0,0,0,9,0,0,0,5,1,0,0,0,1,0,0,0,2,0,1,3,2,1,1,2,2,1,3,3,1,1,4,1,1,0,0,0,0,0,2,4,0,0,0,0,1,0,0,0,77,1,4,1,0,0,0,0,1,0,0,0,1,0,0,0,0,2,1,0,1,0,1,0,0,0,0,0,0,0,0,0,0,0,0,0,0,0,1,1,0,1,0,0,0,1],\"yaxis\":\"y\",\"type\":\"scatter\"}],                        {\"template\":{\"data\":{\"bar\":[{\"error_x\":{\"color\":\"#2a3f5f\"},\"error_y\":{\"color\":\"#2a3f5f\"},\"marker\":{\"line\":{\"color\":\"#E5ECF6\",\"width\":0.5},\"pattern\":{\"fillmode\":\"overlay\",\"size\":10,\"solidity\":0.2}},\"type\":\"bar\"}],\"barpolar\":[{\"marker\":{\"line\":{\"color\":\"#E5ECF6\",\"width\":0.5},\"pattern\":{\"fillmode\":\"overlay\",\"size\":10,\"solidity\":0.2}},\"type\":\"barpolar\"}],\"carpet\":[{\"aaxis\":{\"endlinecolor\":\"#2a3f5f\",\"gridcolor\":\"white\",\"linecolor\":\"white\",\"minorgridcolor\":\"white\",\"startlinecolor\":\"#2a3f5f\"},\"baxis\":{\"endlinecolor\":\"#2a3f5f\",\"gridcolor\":\"white\",\"linecolor\":\"white\",\"minorgridcolor\":\"white\",\"startlinecolor\":\"#2a3f5f\"},\"type\":\"carpet\"}],\"choropleth\":[{\"colorbar\":{\"outlinewidth\":0,\"ticks\":\"\"},\"type\":\"choropleth\"}],\"contour\":[{\"colorbar\":{\"outlinewidth\":0,\"ticks\":\"\"},\"colorscale\":[[0.0,\"#0d0887\"],[0.1111111111111111,\"#46039f\"],[0.2222222222222222,\"#7201a8\"],[0.3333333333333333,\"#9c179e\"],[0.4444444444444444,\"#bd3786\"],[0.5555555555555556,\"#d8576b\"],[0.6666666666666666,\"#ed7953\"],[0.7777777777777778,\"#fb9f3a\"],[0.8888888888888888,\"#fdca26\"],[1.0,\"#f0f921\"]],\"type\":\"contour\"}],\"contourcarpet\":[{\"colorbar\":{\"outlinewidth\":0,\"ticks\":\"\"},\"type\":\"contourcarpet\"}],\"heatmap\":[{\"colorbar\":{\"outlinewidth\":0,\"ticks\":\"\"},\"colorscale\":[[0.0,\"#0d0887\"],[0.1111111111111111,\"#46039f\"],[0.2222222222222222,\"#7201a8\"],[0.3333333333333333,\"#9c179e\"],[0.4444444444444444,\"#bd3786\"],[0.5555555555555556,\"#d8576b\"],[0.6666666666666666,\"#ed7953\"],[0.7777777777777778,\"#fb9f3a\"],[0.8888888888888888,\"#fdca26\"],[1.0,\"#f0f921\"]],\"type\":\"heatmap\"}],\"heatmapgl\":[{\"colorbar\":{\"outlinewidth\":0,\"ticks\":\"\"},\"colorscale\":[[0.0,\"#0d0887\"],[0.1111111111111111,\"#46039f\"],[0.2222222222222222,\"#7201a8\"],[0.3333333333333333,\"#9c179e\"],[0.4444444444444444,\"#bd3786\"],[0.5555555555555556,\"#d8576b\"],[0.6666666666666666,\"#ed7953\"],[0.7777777777777778,\"#fb9f3a\"],[0.8888888888888888,\"#fdca26\"],[1.0,\"#f0f921\"]],\"type\":\"heatmapgl\"}],\"histogram\":[{\"marker\":{\"pattern\":{\"fillmode\":\"overlay\",\"size\":10,\"solidity\":0.2}},\"type\":\"histogram\"}],\"histogram2d\":[{\"colorbar\":{\"outlinewidth\":0,\"ticks\":\"\"},\"colorscale\":[[0.0,\"#0d0887\"],[0.1111111111111111,\"#46039f\"],[0.2222222222222222,\"#7201a8\"],[0.3333333333333333,\"#9c179e\"],[0.4444444444444444,\"#bd3786\"],[0.5555555555555556,\"#d8576b\"],[0.6666666666666666,\"#ed7953\"],[0.7777777777777778,\"#fb9f3a\"],[0.8888888888888888,\"#fdca26\"],[1.0,\"#f0f921\"]],\"type\":\"histogram2d\"}],\"histogram2dcontour\":[{\"colorbar\":{\"outlinewidth\":0,\"ticks\":\"\"},\"colorscale\":[[0.0,\"#0d0887\"],[0.1111111111111111,\"#46039f\"],[0.2222222222222222,\"#7201a8\"],[0.3333333333333333,\"#9c179e\"],[0.4444444444444444,\"#bd3786\"],[0.5555555555555556,\"#d8576b\"],[0.6666666666666666,\"#ed7953\"],[0.7777777777777778,\"#fb9f3a\"],[0.8888888888888888,\"#fdca26\"],[1.0,\"#f0f921\"]],\"type\":\"histogram2dcontour\"}],\"mesh3d\":[{\"colorbar\":{\"outlinewidth\":0,\"ticks\":\"\"},\"type\":\"mesh3d\"}],\"parcoords\":[{\"line\":{\"colorbar\":{\"outlinewidth\":0,\"ticks\":\"\"}},\"type\":\"parcoords\"}],\"pie\":[{\"automargin\":true,\"type\":\"pie\"}],\"scatter\":[{\"marker\":{\"colorbar\":{\"outlinewidth\":0,\"ticks\":\"\"}},\"type\":\"scatter\"}],\"scatter3d\":[{\"line\":{\"colorbar\":{\"outlinewidth\":0,\"ticks\":\"\"}},\"marker\":{\"colorbar\":{\"outlinewidth\":0,\"ticks\":\"\"}},\"type\":\"scatter3d\"}],\"scattercarpet\":[{\"marker\":{\"colorbar\":{\"outlinewidth\":0,\"ticks\":\"\"}},\"type\":\"scattercarpet\"}],\"scattergeo\":[{\"marker\":{\"colorbar\":{\"outlinewidth\":0,\"ticks\":\"\"}},\"type\":\"scattergeo\"}],\"scattergl\":[{\"marker\":{\"colorbar\":{\"outlinewidth\":0,\"ticks\":\"\"}},\"type\":\"scattergl\"}],\"scattermapbox\":[{\"marker\":{\"colorbar\":{\"outlinewidth\":0,\"ticks\":\"\"}},\"type\":\"scattermapbox\"}],\"scatterpolar\":[{\"marker\":{\"colorbar\":{\"outlinewidth\":0,\"ticks\":\"\"}},\"type\":\"scatterpolar\"}],\"scatterpolargl\":[{\"marker\":{\"colorbar\":{\"outlinewidth\":0,\"ticks\":\"\"}},\"type\":\"scatterpolargl\"}],\"scatterternary\":[{\"marker\":{\"colorbar\":{\"outlinewidth\":0,\"ticks\":\"\"}},\"type\":\"scatterternary\"}],\"surface\":[{\"colorbar\":{\"outlinewidth\":0,\"ticks\":\"\"},\"colorscale\":[[0.0,\"#0d0887\"],[0.1111111111111111,\"#46039f\"],[0.2222222222222222,\"#7201a8\"],[0.3333333333333333,\"#9c179e\"],[0.4444444444444444,\"#bd3786\"],[0.5555555555555556,\"#d8576b\"],[0.6666666666666666,\"#ed7953\"],[0.7777777777777778,\"#fb9f3a\"],[0.8888888888888888,\"#fdca26\"],[1.0,\"#f0f921\"]],\"type\":\"surface\"}],\"table\":[{\"cells\":{\"fill\":{\"color\":\"#EBF0F8\"},\"line\":{\"color\":\"white\"}},\"header\":{\"fill\":{\"color\":\"#C8D4E3\"},\"line\":{\"color\":\"white\"}},\"type\":\"table\"}]},\"layout\":{\"annotationdefaults\":{\"arrowcolor\":\"#2a3f5f\",\"arrowhead\":0,\"arrowwidth\":1},\"autotypenumbers\":\"strict\",\"coloraxis\":{\"colorbar\":{\"outlinewidth\":0,\"ticks\":\"\"}},\"colorscale\":{\"diverging\":[[0,\"#8e0152\"],[0.1,\"#c51b7d\"],[0.2,\"#de77ae\"],[0.3,\"#f1b6da\"],[0.4,\"#fde0ef\"],[0.5,\"#f7f7f7\"],[0.6,\"#e6f5d0\"],[0.7,\"#b8e186\"],[0.8,\"#7fbc41\"],[0.9,\"#4d9221\"],[1,\"#276419\"]],\"sequential\":[[0.0,\"#0d0887\"],[0.1111111111111111,\"#46039f\"],[0.2222222222222222,\"#7201a8\"],[0.3333333333333333,\"#9c179e\"],[0.4444444444444444,\"#bd3786\"],[0.5555555555555556,\"#d8576b\"],[0.6666666666666666,\"#ed7953\"],[0.7777777777777778,\"#fb9f3a\"],[0.8888888888888888,\"#fdca26\"],[1.0,\"#f0f921\"]],\"sequentialminus\":[[0.0,\"#0d0887\"],[0.1111111111111111,\"#46039f\"],[0.2222222222222222,\"#7201a8\"],[0.3333333333333333,\"#9c179e\"],[0.4444444444444444,\"#bd3786\"],[0.5555555555555556,\"#d8576b\"],[0.6666666666666666,\"#ed7953\"],[0.7777777777777778,\"#fb9f3a\"],[0.8888888888888888,\"#fdca26\"],[1.0,\"#f0f921\"]]},\"colorway\":[\"#636efa\",\"#EF553B\",\"#00cc96\",\"#ab63fa\",\"#FFA15A\",\"#19d3f3\",\"#FF6692\",\"#B6E880\",\"#FF97FF\",\"#FECB52\"],\"font\":{\"color\":\"#2a3f5f\"},\"geo\":{\"bgcolor\":\"white\",\"lakecolor\":\"white\",\"landcolor\":\"#E5ECF6\",\"showlakes\":true,\"showland\":true,\"subunitcolor\":\"white\"},\"hoverlabel\":{\"align\":\"left\"},\"hovermode\":\"closest\",\"mapbox\":{\"style\":\"light\"},\"paper_bgcolor\":\"white\",\"plot_bgcolor\":\"#E5ECF6\",\"polar\":{\"angularaxis\":{\"gridcolor\":\"white\",\"linecolor\":\"white\",\"ticks\":\"\"},\"bgcolor\":\"#E5ECF6\",\"radialaxis\":{\"gridcolor\":\"white\",\"linecolor\":\"white\",\"ticks\":\"\"}},\"scene\":{\"xaxis\":{\"backgroundcolor\":\"#E5ECF6\",\"gridcolor\":\"white\",\"gridwidth\":2,\"linecolor\":\"white\",\"showbackground\":true,\"ticks\":\"\",\"zerolinecolor\":\"white\"},\"yaxis\":{\"backgroundcolor\":\"#E5ECF6\",\"gridcolor\":\"white\",\"gridwidth\":2,\"linecolor\":\"white\",\"showbackground\":true,\"ticks\":\"\",\"zerolinecolor\":\"white\"},\"zaxis\":{\"backgroundcolor\":\"#E5ECF6\",\"gridcolor\":\"white\",\"gridwidth\":2,\"linecolor\":\"white\",\"showbackground\":true,\"ticks\":\"\",\"zerolinecolor\":\"white\"}},\"shapedefaults\":{\"line\":{\"color\":\"#2a3f5f\"}},\"ternary\":{\"aaxis\":{\"gridcolor\":\"white\",\"linecolor\":\"white\",\"ticks\":\"\"},\"baxis\":{\"gridcolor\":\"white\",\"linecolor\":\"white\",\"ticks\":\"\"},\"bgcolor\":\"#E5ECF6\",\"caxis\":{\"gridcolor\":\"white\",\"linecolor\":\"white\",\"ticks\":\"\"}},\"title\":{\"x\":0.05},\"xaxis\":{\"automargin\":true,\"gridcolor\":\"white\",\"linecolor\":\"white\",\"ticks\":\"\",\"title\":{\"standoff\":15},\"zerolinecolor\":\"white\",\"zerolinewidth\":2},\"yaxis\":{\"automargin\":true,\"gridcolor\":\"white\",\"linecolor\":\"white\",\"ticks\":\"\",\"title\":{\"standoff\":15},\"zerolinecolor\":\"white\",\"zerolinewidth\":2}}},\"xaxis\":{\"anchor\":\"y\",\"domain\":[0.0,1.0],\"title\":{\"text\":\"Time\"}},\"yaxis\":{\"anchor\":\"x\",\"domain\":[0.0,1.0],\"title\":{\"text\":\"Snapshots per Day\"}},\"legend\":{\"title\":{\"text\":\"variable\"},\"tracegroupgap\":0},\"title\":{\"text\":\"IA Crawling of LAPD PDFs in 2022\"},\"showlegend\":false},                        {\"responsive\": true}                    ).then(function(){\n",
       "                            \n",
       "var gd = document.getElementById('1b6e4591-cec7-4b08-8b80-dd70c466eefd');\n",
       "var x = new MutationObserver(function (mutations, observer) {{\n",
       "        var display = window.getComputedStyle(gd).display;\n",
       "        if (!display || display === 'none') {{\n",
       "            console.log([gd, 'removed!']);\n",
       "            Plotly.purge(gd);\n",
       "            observer.disconnect();\n",
       "        }}\n",
       "}});\n",
       "\n",
       "// Listen for the removal of the full notebook cells\n",
       "var notebookContainer = gd.closest('#notebook-container');\n",
       "if (notebookContainer) {{\n",
       "    x.observe(notebookContainer, {childList: true});\n",
       "}}\n",
       "\n",
       "// Listen for the clearing of the current output cell\n",
       "var outputEl = gd.closest('.output');\n",
       "if (outputEl) {{\n",
       "    x.observe(outputEl, {childList: true});\n",
       "}}\n",
       "\n",
       "                        })                };                });            </script>        </div>"
      ]
     },
     "metadata": {},
     "output_type": "display_data"
    }
   ],
   "source": [
    "from datetime import datetime, timezone\n",
    "\n",
    "counts_2022 = (\n",
    "    pdfs[pdfs.timestamp > datetime(2022, 1, 1, tzinfo=timezone.utc)]\n",
    "      .set_index('timestamp')\n",
    "      .resample('D')\n",
    "      .count()['key']\n",
    ")\n",
    "\n",
    "fig = xp.line(\n",
    "  counts_2022, \n",
    "  title='IA Crawling of LAPD PDFs in 2022',\n",
    "  labels={\"value\": \"Snapshots per Day\", \"timestamp\": \"Time\"}\n",
    ")\n",
    "\n",
    "fig = fig.update_layout(showlegend=False)\n",
    "fig"
   ]
  },
  {
   "cell_type": "markdown",
   "id": "ba2be66b-1669-41d7-a2a7-f68bfd77a565",
   "metadata": {},
   "source": [
    "## Unique Content\n",
    "\n",
    "Since the CDX API returns a *digest* for each capture we can also see how much unique PDF content is in there. This should be less than the number of unique PDF URLs (16,541)"
   ]
  },
  {
   "cell_type": "code",
   "execution_count": 70,
   "id": "f3d0566f-30d2-49ed-b1d1-cd600dd9b6ae",
   "metadata": {},
   "outputs": [
    {
     "data": {
      "text/plain": [
       "10437"
      ]
     },
     "execution_count": 70,
     "metadata": {},
     "output_type": "execute_result"
    }
   ],
   "source": [
    "len(pdfs.digest.unique())"
   ]
  },
  {
   "cell_type": "markdown",
   "id": "fe6e543d-de00-48b4-9824-d5d0eb2630fe",
   "metadata": {},
   "source": [
    "It should be possible to see how PDFs have moved around on the website over time."
   ]
  },
  {
   "cell_type": "code",
   "execution_count": 72,
   "id": "9f686688-ccb1-47e0-a645-d6d406ecf6ea",
   "metadata": {},
   "outputs": [
    {
     "data": {
      "text/html": [
       "<div>\n",
       "<style scoped>\n",
       "    .dataframe tbody tr th:only-of-type {\n",
       "        vertical-align: middle;\n",
       "    }\n",
       "\n",
       "    .dataframe tbody tr th {\n",
       "        vertical-align: top;\n",
       "    }\n",
       "\n",
       "    .dataframe thead th {\n",
       "        text-align: right;\n",
       "    }\n",
       "</style>\n",
       "<table border=\"1\" class=\"dataframe\">\n",
       "  <thead>\n",
       "    <tr style=\"text-align: right;\">\n",
       "      <th></th>\n",
       "      <th>key</th>\n",
       "      <th>timestamp</th>\n",
       "      <th>url</th>\n",
       "      <th>mime_type</th>\n",
       "      <th>status_code</th>\n",
       "      <th>length</th>\n",
       "      <th>raw_url</th>\n",
       "      <th>view_url</th>\n",
       "    </tr>\n",
       "    <tr>\n",
       "      <th>digest</th>\n",
       "      <th></th>\n",
       "      <th></th>\n",
       "      <th></th>\n",
       "      <th></th>\n",
       "      <th></th>\n",
       "      <th></th>\n",
       "      <th></th>\n",
       "      <th></th>\n",
       "    </tr>\n",
       "  </thead>\n",
       "  <tbody>\n",
       "    <tr>\n",
       "      <th>J4N2H7ESDITXCRJXENEUTMBAZTFKC3PJ</th>\n",
       "      <td>org,lapdonline)/2010_archives/pdf_view/45725</td>\n",
       "      <td>2011-12-21 05:42:52+00:00</td>\n",
       "      <td>http://lapdonline.org/2010_archives/pdf_view/4...</td>\n",
       "      <td>application/pdf</td>\n",
       "      <td>200.0</td>\n",
       "      <td>449776.0</td>\n",
       "      <td>http://web.archive.org/web/20111221054252id_/h...</td>\n",
       "      <td>http://web.archive.org/web/20111221054252/http...</td>\n",
       "    </tr>\n",
       "    <tr>\n",
       "      <th>J4N2H7ESDITXCRJXENEUTMBAZTFKC3PJ</th>\n",
       "      <td>org,lapdonline)/2010_archives/pdf_view/45725</td>\n",
       "      <td>2012-05-23 00:14:43+00:00</td>\n",
       "      <td>http://lapdonline.org/2010_archives/pdf_view/4...</td>\n",
       "      <td>application/pdf</td>\n",
       "      <td>200.0</td>\n",
       "      <td>449777.0</td>\n",
       "      <td>http://web.archive.org/web/20120523001443id_/h...</td>\n",
       "      <td>http://web.archive.org/web/20120523001443/http...</td>\n",
       "    </tr>\n",
       "    <tr>\n",
       "      <th>J4N2H7ESDITXCRJXENEUTMBAZTFKC3PJ</th>\n",
       "      <td>org,lapdonline)/2010_archives/pdf_view/45725</td>\n",
       "      <td>2012-05-25 10:14:07+00:00</td>\n",
       "      <td>http://lapdonline.org/2010_archives/pdf_view/4...</td>\n",
       "      <td>application/pdf</td>\n",
       "      <td>200.0</td>\n",
       "      <td>449776.0</td>\n",
       "      <td>http://web.archive.org/web/20120525101407id_/h...</td>\n",
       "      <td>http://web.archive.org/web/20120525101407/http...</td>\n",
       "    </tr>\n",
       "    <tr>\n",
       "      <th>J4N2H7ESDITXCRJXENEUTMBAZTFKC3PJ</th>\n",
       "      <td>org,lapdonline)/2010_archives/pdf_view/45725</td>\n",
       "      <td>2012-05-28 15:26:33+00:00</td>\n",
       "      <td>http://lapdonline.org/2010_archives/pdf_view/4...</td>\n",
       "      <td>application/pdf</td>\n",
       "      <td>200.0</td>\n",
       "      <td>449777.0</td>\n",
       "      <td>http://web.archive.org/web/20120528152633id_/h...</td>\n",
       "      <td>http://web.archive.org/web/20120528152633/http...</td>\n",
       "    </tr>\n",
       "    <tr>\n",
       "      <th>J4N2H7ESDITXCRJXENEUTMBAZTFKC3PJ</th>\n",
       "      <td>org,lapdonline)/2010_archives/pdf_view/45725</td>\n",
       "      <td>2012-06-04 11:02:27+00:00</td>\n",
       "      <td>http://lapdonline.org/2010_archives/pdf_view/4...</td>\n",
       "      <td>application/pdf</td>\n",
       "      <td>200.0</td>\n",
       "      <td>449778.0</td>\n",
       "      <td>http://web.archive.org/web/20120604110227id_/h...</td>\n",
       "      <td>http://web.archive.org/web/20120604110227/http...</td>\n",
       "    </tr>\n",
       "    <tr>\n",
       "      <th>...</th>\n",
       "      <td>...</td>\n",
       "      <td>...</td>\n",
       "      <td>...</td>\n",
       "      <td>...</td>\n",
       "      <td>...</td>\n",
       "      <td>...</td>\n",
       "      <td>...</td>\n",
       "      <td>...</td>\n",
       "    </tr>\n",
       "    <tr>\n",
       "      <th>W4TF5VPZPJO4QBZMS6D5CGR2VIQDHHEF</th>\n",
       "      <td>net,usgovcloudapi,core,blob,lapdonlinestrgeacc...</td>\n",
       "      <td>2022-08-26 21:32:26+00:00</td>\n",
       "      <td>https://lapdonlinestrgeacc.blob.core.usgovclou...</td>\n",
       "      <td>application/pdf</td>\n",
       "      <td>200.0</td>\n",
       "      <td>452241.0</td>\n",
       "      <td>http://web.archive.org/web/20220826213226id_/h...</td>\n",
       "      <td>http://web.archive.org/web/20220826213226/http...</td>\n",
       "    </tr>\n",
       "    <tr>\n",
       "      <th>NAM3JWW2D2EBN5PHOBKWKDDVTVBUPCEQ</th>\n",
       "      <td>net,usgovcloudapi,core,blob,lapdonlinestrgeacc...</td>\n",
       "      <td>2022-08-24 17:25:32+00:00</td>\n",
       "      <td>https://lapdonlinestrgeacc.blob.core.usgovclou...</td>\n",
       "      <td>application/pdf</td>\n",
       "      <td>200.0</td>\n",
       "      <td>107106.0</td>\n",
       "      <td>http://web.archive.org/web/20220824172532id_/h...</td>\n",
       "      <td>http://web.archive.org/web/20220824172532/http...</td>\n",
       "    </tr>\n",
       "    <tr>\n",
       "      <th>GQ5SIGZFKDJU7ZASIJEDVZ3ASMUZKWL4</th>\n",
       "      <td>net,usgovcloudapi,core,blob,lapdonlinestrgeacc...</td>\n",
       "      <td>2022-09-13 00:37:02+00:00</td>\n",
       "      <td>https://lapdonlinestrgeacc.blob.core.usgovclou...</td>\n",
       "      <td>application/pdf</td>\n",
       "      <td>200.0</td>\n",
       "      <td>106884.0</td>\n",
       "      <td>http://web.archive.org/web/20220913003702id_/h...</td>\n",
       "      <td>http://web.archive.org/web/20220913003702/http...</td>\n",
       "    </tr>\n",
       "    <tr>\n",
       "      <th>DG6RACZQ34GMJ3DEIYUKWTXABGN2E6WF</th>\n",
       "      <td>net,usgovcloudapi,core,blob,lapdonlinestrgeacc...</td>\n",
       "      <td>2022-09-14 22:31:23+00:00</td>\n",
       "      <td>https://lapdonlinestrgeacc.blob.core.usgovclou...</td>\n",
       "      <td>application/pdf</td>\n",
       "      <td>200.0</td>\n",
       "      <td>105884.0</td>\n",
       "      <td>http://web.archive.org/web/20220914223123id_/h...</td>\n",
       "      <td>http://web.archive.org/web/20220914223123/http...</td>\n",
       "    </tr>\n",
       "    <tr>\n",
       "      <th>DG6RACZQ34GMJ3DEIYUKWTXABGN2E6WF</th>\n",
       "      <td>net,usgovcloudapi,core,blob,lapdonlinestrgeacc...</td>\n",
       "      <td>2022-09-16 03:25:13+00:00</td>\n",
       "      <td>https://lapdonlinestrgeacc.blob.core.usgovclou...</td>\n",
       "      <td>application/pdf</td>\n",
       "      <td>200.0</td>\n",
       "      <td>728.0</td>\n",
       "      <td>http://web.archive.org/web/20220916032513id_/h...</td>\n",
       "      <td>http://web.archive.org/web/20220916032513/http...</td>\n",
       "    </tr>\n",
       "  </tbody>\n",
       "</table>\n",
       "<p>72199 rows × 8 columns</p>\n",
       "</div>"
      ],
      "text/plain": [
       "                                                                                key  \\\n",
       "digest                                                                                \n",
       "J4N2H7ESDITXCRJXENEUTMBAZTFKC3PJ       org,lapdonline)/2010_archives/pdf_view/45725   \n",
       "J4N2H7ESDITXCRJXENEUTMBAZTFKC3PJ       org,lapdonline)/2010_archives/pdf_view/45725   \n",
       "J4N2H7ESDITXCRJXENEUTMBAZTFKC3PJ       org,lapdonline)/2010_archives/pdf_view/45725   \n",
       "J4N2H7ESDITXCRJXENEUTMBAZTFKC3PJ       org,lapdonline)/2010_archives/pdf_view/45725   \n",
       "J4N2H7ESDITXCRJXENEUTMBAZTFKC3PJ       org,lapdonline)/2010_archives/pdf_view/45725   \n",
       "...                                                                             ...   \n",
       "W4TF5VPZPJO4QBZMS6D5CGR2VIQDHHEF  net,usgovcloudapi,core,blob,lapdonlinestrgeacc...   \n",
       "NAM3JWW2D2EBN5PHOBKWKDDVTVBUPCEQ  net,usgovcloudapi,core,blob,lapdonlinestrgeacc...   \n",
       "GQ5SIGZFKDJU7ZASIJEDVZ3ASMUZKWL4  net,usgovcloudapi,core,blob,lapdonlinestrgeacc...   \n",
       "DG6RACZQ34GMJ3DEIYUKWTXABGN2E6WF  net,usgovcloudapi,core,blob,lapdonlinestrgeacc...   \n",
       "DG6RACZQ34GMJ3DEIYUKWTXABGN2E6WF  net,usgovcloudapi,core,blob,lapdonlinestrgeacc...   \n",
       "\n",
       "                                                 timestamp  \\\n",
       "digest                                                       \n",
       "J4N2H7ESDITXCRJXENEUTMBAZTFKC3PJ 2011-12-21 05:42:52+00:00   \n",
       "J4N2H7ESDITXCRJXENEUTMBAZTFKC3PJ 2012-05-23 00:14:43+00:00   \n",
       "J4N2H7ESDITXCRJXENEUTMBAZTFKC3PJ 2012-05-25 10:14:07+00:00   \n",
       "J4N2H7ESDITXCRJXENEUTMBAZTFKC3PJ 2012-05-28 15:26:33+00:00   \n",
       "J4N2H7ESDITXCRJXENEUTMBAZTFKC3PJ 2012-06-04 11:02:27+00:00   \n",
       "...                                                    ...   \n",
       "W4TF5VPZPJO4QBZMS6D5CGR2VIQDHHEF 2022-08-26 21:32:26+00:00   \n",
       "NAM3JWW2D2EBN5PHOBKWKDDVTVBUPCEQ 2022-08-24 17:25:32+00:00   \n",
       "GQ5SIGZFKDJU7ZASIJEDVZ3ASMUZKWL4 2022-09-13 00:37:02+00:00   \n",
       "DG6RACZQ34GMJ3DEIYUKWTXABGN2E6WF 2022-09-14 22:31:23+00:00   \n",
       "DG6RACZQ34GMJ3DEIYUKWTXABGN2E6WF 2022-09-16 03:25:13+00:00   \n",
       "\n",
       "                                                                                url  \\\n",
       "digest                                                                                \n",
       "J4N2H7ESDITXCRJXENEUTMBAZTFKC3PJ  http://lapdonline.org/2010_archives/pdf_view/4...   \n",
       "J4N2H7ESDITXCRJXENEUTMBAZTFKC3PJ  http://lapdonline.org/2010_archives/pdf_view/4...   \n",
       "J4N2H7ESDITXCRJXENEUTMBAZTFKC3PJ  http://lapdonline.org/2010_archives/pdf_view/4...   \n",
       "J4N2H7ESDITXCRJXENEUTMBAZTFKC3PJ  http://lapdonline.org/2010_archives/pdf_view/4...   \n",
       "J4N2H7ESDITXCRJXENEUTMBAZTFKC3PJ  http://lapdonline.org/2010_archives/pdf_view/4...   \n",
       "...                                                                             ...   \n",
       "W4TF5VPZPJO4QBZMS6D5CGR2VIQDHHEF  https://lapdonlinestrgeacc.blob.core.usgovclou...   \n",
       "NAM3JWW2D2EBN5PHOBKWKDDVTVBUPCEQ  https://lapdonlinestrgeacc.blob.core.usgovclou...   \n",
       "GQ5SIGZFKDJU7ZASIJEDVZ3ASMUZKWL4  https://lapdonlinestrgeacc.blob.core.usgovclou...   \n",
       "DG6RACZQ34GMJ3DEIYUKWTXABGN2E6WF  https://lapdonlinestrgeacc.blob.core.usgovclou...   \n",
       "DG6RACZQ34GMJ3DEIYUKWTXABGN2E6WF  https://lapdonlinestrgeacc.blob.core.usgovclou...   \n",
       "\n",
       "                                        mime_type  status_code    length  \\\n",
       "digest                                                                     \n",
       "J4N2H7ESDITXCRJXENEUTMBAZTFKC3PJ  application/pdf        200.0  449776.0   \n",
       "J4N2H7ESDITXCRJXENEUTMBAZTFKC3PJ  application/pdf        200.0  449777.0   \n",
       "J4N2H7ESDITXCRJXENEUTMBAZTFKC3PJ  application/pdf        200.0  449776.0   \n",
       "J4N2H7ESDITXCRJXENEUTMBAZTFKC3PJ  application/pdf        200.0  449777.0   \n",
       "J4N2H7ESDITXCRJXENEUTMBAZTFKC3PJ  application/pdf        200.0  449778.0   \n",
       "...                                           ...          ...       ...   \n",
       "W4TF5VPZPJO4QBZMS6D5CGR2VIQDHHEF  application/pdf        200.0  452241.0   \n",
       "NAM3JWW2D2EBN5PHOBKWKDDVTVBUPCEQ  application/pdf        200.0  107106.0   \n",
       "GQ5SIGZFKDJU7ZASIJEDVZ3ASMUZKWL4  application/pdf        200.0  106884.0   \n",
       "DG6RACZQ34GMJ3DEIYUKWTXABGN2E6WF  application/pdf        200.0  105884.0   \n",
       "DG6RACZQ34GMJ3DEIYUKWTXABGN2E6WF  application/pdf        200.0     728.0   \n",
       "\n",
       "                                                                            raw_url  \\\n",
       "digest                                                                                \n",
       "J4N2H7ESDITXCRJXENEUTMBAZTFKC3PJ  http://web.archive.org/web/20111221054252id_/h...   \n",
       "J4N2H7ESDITXCRJXENEUTMBAZTFKC3PJ  http://web.archive.org/web/20120523001443id_/h...   \n",
       "J4N2H7ESDITXCRJXENEUTMBAZTFKC3PJ  http://web.archive.org/web/20120525101407id_/h...   \n",
       "J4N2H7ESDITXCRJXENEUTMBAZTFKC3PJ  http://web.archive.org/web/20120528152633id_/h...   \n",
       "J4N2H7ESDITXCRJXENEUTMBAZTFKC3PJ  http://web.archive.org/web/20120604110227id_/h...   \n",
       "...                                                                             ...   \n",
       "W4TF5VPZPJO4QBZMS6D5CGR2VIQDHHEF  http://web.archive.org/web/20220826213226id_/h...   \n",
       "NAM3JWW2D2EBN5PHOBKWKDDVTVBUPCEQ  http://web.archive.org/web/20220824172532id_/h...   \n",
       "GQ5SIGZFKDJU7ZASIJEDVZ3ASMUZKWL4  http://web.archive.org/web/20220913003702id_/h...   \n",
       "DG6RACZQ34GMJ3DEIYUKWTXABGN2E6WF  http://web.archive.org/web/20220914223123id_/h...   \n",
       "DG6RACZQ34GMJ3DEIYUKWTXABGN2E6WF  http://web.archive.org/web/20220916032513id_/h...   \n",
       "\n",
       "                                                                           view_url  \n",
       "digest                                                                               \n",
       "J4N2H7ESDITXCRJXENEUTMBAZTFKC3PJ  http://web.archive.org/web/20111221054252/http...  \n",
       "J4N2H7ESDITXCRJXENEUTMBAZTFKC3PJ  http://web.archive.org/web/20120523001443/http...  \n",
       "J4N2H7ESDITXCRJXENEUTMBAZTFKC3PJ  http://web.archive.org/web/20120525101407/http...  \n",
       "J4N2H7ESDITXCRJXENEUTMBAZTFKC3PJ  http://web.archive.org/web/20120528152633/http...  \n",
       "J4N2H7ESDITXCRJXENEUTMBAZTFKC3PJ  http://web.archive.org/web/20120604110227/http...  \n",
       "...                                                                             ...  \n",
       "W4TF5VPZPJO4QBZMS6D5CGR2VIQDHHEF  http://web.archive.org/web/20220826213226/http...  \n",
       "NAM3JWW2D2EBN5PHOBKWKDDVTVBUPCEQ  http://web.archive.org/web/20220824172532/http...  \n",
       "GQ5SIGZFKDJU7ZASIJEDVZ3ASMUZKWL4  http://web.archive.org/web/20220913003702/http...  \n",
       "DG6RACZQ34GMJ3DEIYUKWTXABGN2E6WF  http://web.archive.org/web/20220914223123/http...  \n",
       "DG6RACZQ34GMJ3DEIYUKWTXABGN2E6WF  http://web.archive.org/web/20220916032513/http...  \n",
       "\n",
       "[72199 rows x 8 columns]"
      ]
     },
     "execution_count": 72,
     "metadata": {},
     "output_type": "execute_result"
    }
   ],
   "source": [
    "uniq_pdfs = pdfs.set_index('digest')\n",
    "uniq_pdfs"
   ]
  },
  {
   "cell_type": "code",
   "execution_count": 84,
   "id": "193262f7-bfdf-4e6a-a20d-13670628062e",
   "metadata": {},
   "outputs": [
    {
     "name": "stdout",
     "output_type": "stream",
     "text": [
      "2011-12-21 05:42:52+00:00 http://lapdonline.org/2010_archives/pdf_view/45725\n",
      "2012-05-23 00:14:43+00:00 http://lapdonline.org/2010_archives/pdf_view/45725\n",
      "2012-05-25 10:14:07+00:00 http://lapdonline.org/2010_archives/pdf_view/45725\n",
      "2012-05-28 15:26:33+00:00 http://lapdonline.org/2010_archives/pdf_view/45725\n",
      "2012-06-04 11:02:27+00:00 http://lapdonline.org/2010_archives/pdf_view/45725\n",
      "2012-08-21 10:53:02+00:00 http://www.lapdonline.org/2010_archives/pdf_view/45725\n",
      "2013-03-05 10:43:58+00:00 http://www.lapdonline.org/2010_archives/pdf_view/45725\n",
      "2013-05-25 18:49:35+00:00 http://www.lapdonline.org/2010_archives/pdf_view/45725\n",
      "2013-07-11 09:42:54+00:00 http://www.lapdonline.org/2010_archives/pdf_view/45725\n",
      "2013-09-24 11:35:16+00:00 http://lapdonline.org/2010_archives/pdf_view/45725\n",
      "2014-03-01 04:26:37+00:00 http://www.lapdonline.org/2010_archives/pdf_view/45725\n",
      "2014-05-29 08:27:15+00:00 http://www.lapdonline.org/2010_archives/pdf_view/45725\n",
      "2014-08-11 19:03:55+00:00 http://lapdonline.org/2010_archives/pdf_view/45725\n",
      "2019-08-18 23:01:55+00:00 http://assets.lapdonline.org/assets/pdf/Media%20Maps%20for%20Print.pdf\n",
      "2020-06-10 07:34:12+00:00 http://assets.lapdonline.org/assets/pdf/Media%20Maps%20for%20Print.pdf\n"
     ]
    }
   ],
   "source": [
    "doc = uniq_pdfs[uniq_pdfs.index == 'J4N2H7ESDITXCRJXENEUTMBAZTFKC3PJ']\n",
    "doc = doc.sort_values('timestamp')\n",
    "for i, row in doc.iterrows():\n",
    "    print(row.timestamp, row.url)"
   ]
  },
  {
   "cell_type": "markdown",
   "id": "5e415a9e-ba7e-434f-ad21-195612582d24",
   "metadata": {},
   "source": [
    "It's worth highlighting how none of these URLs work anymore. But you can find them at the Internet Archive of course!"
   ]
  },
  {
   "cell_type": "code",
   "execution_count": 85,
   "id": "2f40a014-19e7-4271-8ab8-b1780ed37a15",
   "metadata": {},
   "outputs": [
    {
     "name": "stdout",
     "output_type": "stream",
     "text": [
      "2011-12-21 05:42:52+00:00 http://web.archive.org/web/20111221054252/http://lapdonline.org/2010_archives/pdf_view/45725\n",
      "2012-05-23 00:14:43+00:00 http://web.archive.org/web/20120523001443/http://lapdonline.org/2010_archives/pdf_view/45725\n",
      "2012-05-25 10:14:07+00:00 http://web.archive.org/web/20120525101407/http://lapdonline.org/2010_archives/pdf_view/45725\n",
      "2012-05-28 15:26:33+00:00 http://web.archive.org/web/20120528152633/http://lapdonline.org/2010_archives/pdf_view/45725\n",
      "2012-06-04 11:02:27+00:00 http://web.archive.org/web/20120604110227/http://lapdonline.org/2010_archives/pdf_view/45725\n",
      "2012-08-21 10:53:02+00:00 http://web.archive.org/web/20120821105302/http://www.lapdonline.org/2010_archives/pdf_view/45725\n",
      "2013-03-05 10:43:58+00:00 http://web.archive.org/web/20130305104358/http://www.lapdonline.org/2010_archives/pdf_view/45725\n",
      "2013-05-25 18:49:35+00:00 http://web.archive.org/web/20130525184935/http://www.lapdonline.org/2010_archives/pdf_view/45725\n",
      "2013-07-11 09:42:54+00:00 http://web.archive.org/web/20130711094254/http://www.lapdonline.org/2010_archives/pdf_view/45725\n",
      "2013-09-24 11:35:16+00:00 http://web.archive.org/web/20130924113516/http://lapdonline.org/2010_archives/pdf_view/45725\n",
      "2014-03-01 04:26:37+00:00 http://web.archive.org/web/20140301042637/http://www.lapdonline.org/2010_archives/pdf_view/45725\n",
      "2014-05-29 08:27:15+00:00 http://web.archive.org/web/20140529082715/http://www.lapdonline.org/2010_archives/pdf_view/45725\n",
      "2014-08-11 19:03:55+00:00 http://web.archive.org/web/20140811190355/http://lapdonline.org/2010_archives/pdf_view/45725\n",
      "2019-08-18 23:01:55+00:00 http://web.archive.org/web/20190818230155/http://assets.lapdonline.org/assets/pdf/Media%20Maps%20for%20Print.pdf\n",
      "2020-06-10 07:34:12+00:00 http://web.archive.org/web/20200610073412/http://assets.lapdonline.org/assets/pdf/Media%20Maps%20for%20Print.pdf\n"
     ]
    }
   ],
   "source": [
    "for i, row in doc.iterrows():\n",
    "    print(row.timestamp, row.view_url)"
   ]
  },
  {
   "cell_type": "code",
   "execution_count": null,
   "id": "e81ea612-3a24-42eb-82f9-ff4a477329ea",
   "metadata": {},
   "outputs": [],
   "source": []
  }
 ],
 "metadata": {
  "kernelspec": {
   "display_name": "Python 3 (ipykernel)",
   "language": "python",
   "name": "python3"
  },
  "language_info": {
   "codemirror_mode": {
    "name": "ipython",
    "version": 3
   },
   "file_extension": ".py",
   "mimetype": "text/x-python",
   "name": "python",
   "nbconvert_exporter": "python",
   "pygments_lexer": "ipython3",
   "version": "3.10.1"
  }
 },
 "nbformat": 4,
 "nbformat_minor": 5
}
